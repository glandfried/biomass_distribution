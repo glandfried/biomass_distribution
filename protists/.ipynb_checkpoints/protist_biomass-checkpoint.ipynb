{
 "cells": [
  {
   "cell_type": "code",
   "execution_count": 1,
   "metadata": {
    "collapsed": true
   },
   "outputs": [],
   "source": [
    "# Load dependencies\n",
    "import pandas as pd\n",
    "import numpy as np\n",
    "from scipy.stats import gmean\n",
    "import sys\n",
    "sys.path.insert(0,'../statistics_helper/')\n",
    "from fraction_helper import *\n",
    "from CI_helper import *\n",
    "from excel_utils import *\n",
    "pd.options.display.float_format = '{:,.1e}'.format"
   ]
  },
  {
   "cell_type": "markdown",
   "metadata": {},
   "source": [
    "# Estimating the total biomass of protists\n",
    "To estimate the total biomass of protists, we combine our estimates for the total biomass of marine and terrestrial protists, which we have generated in the dedicated sections for each group. Our estimates for the biomass of the marine and terrestrial protists are presented below:"
   ]
  },
  {
   "cell_type": "code",
   "execution_count": 2,
   "metadata": {},
   "outputs": [
    {
     "data": {
      "text/html": [
       "<div>\n",
       "<style scoped>\n",
       "    .dataframe tbody tr th:only-of-type {\n",
       "        vertical-align: middle;\n",
       "    }\n",
       "\n",
       "    .dataframe tbody tr th {\n",
       "        vertical-align: top;\n",
       "    }\n",
       "\n",
       "    .dataframe thead th {\n",
       "        text-align: right;\n",
       "    }\n",
       "</style>\n",
       "<table border=\"1\" class=\"dataframe\">\n",
       "  <thead>\n",
       "    <tr style=\"text-align: right;\">\n",
       "      <th></th>\n",
       "      <th>Parameter</th>\n",
       "      <th>Value</th>\n",
       "      <th>Units</th>\n",
       "      <th>Uncertainty</th>\n",
       "    </tr>\n",
       "  </thead>\n",
       "  <tbody>\n",
       "    <tr>\n",
       "      <th>0</th>\n",
       "      <td>Biomass of terrestrial protists</td>\n",
       "      <td>1.6e+00</td>\n",
       "      <td>Gt C</td>\n",
       "      <td>3.7e+00</td>\n",
       "    </tr>\n",
       "    <tr>\n",
       "      <th>1</th>\n",
       "      <td>Biomass of marine protists</td>\n",
       "      <td>2.1e+00</td>\n",
       "      <td>Gt C</td>\n",
       "      <td>1.0e+01</td>\n",
       "    </tr>\n",
       "    <tr>\n",
       "      <th>2</th>\n",
       "      <td>Biomass of pico-nanoprotists</td>\n",
       "      <td>3.8e-01</td>\n",
       "      <td>Gt C</td>\n",
       "      <td>nan</td>\n",
       "    </tr>\n",
       "  </tbody>\n",
       "</table>\n",
       "</div>"
      ],
      "text/plain": [
       "                         Parameter   Value Units  Uncertainty\n",
       "0  Biomass of terrestrial protists 1.6e+00  Gt C      3.7e+00\n",
       "1       Biomass of marine protists 2.1e+00  Gt C      1.0e+01\n",
       "2     Biomass of pico-nanoprotists 3.8e-01  Gt C          nan"
      ]
     },
     "execution_count": 2,
     "metadata": {},
     "output_type": "execute_result"
    }
   ],
   "source": [
    "data = pd.read_excel('protists_biomass_estimate.xlsx')\n",
    "data"
   ]
  },
  {
   "cell_type": "markdown",
   "metadata": {},
   "source": [
    "To estimate the total biomass of protists, we sum up the contributions from terrestrial and marine protists. "
   ]
  },
  {
   "cell_type": "code",
   "execution_count": 3,
   "metadata": {},
   "outputs": [
    {
     "name": "stdout",
     "output_type": "stream",
     "text": [
      "Our best estimate for the biomass of protists is ≈4 Gt C\n",
      "Our projection for the uncertainty of our estimate of the total biomass of archaea is ≈4-fold\n"
     ]
    }
   ],
   "source": [
    "best_estimate = data.loc[[0,1],'Value'].sum()\n",
    "mul_CI = CI_sum_prop(estimates=data.loc[[0,1],'Value'], mul_CIs=data.loc[[0,1],'Uncertainty'])\n",
    "\n",
    "print('Our best estimate for the biomass of protists is ≈%.0f Gt C' %best_estimate)\n",
    "print('Our projection for the uncertainty of our estimate of the total biomass of archaea is ≈%.0f-fold' %mul_CI)"
   ]
  },
  {
   "cell_type": "markdown",
   "metadata": {},
   "source": [
    "# Estimating the total number of protists\n",
    "To estimate the total number of individual protists, we estimate the total number of nano-pico eukaryotes, as they are the smallest eukaryotes and still have significant biomass. The diameter range of pico-nanoplankton is 0.8-5 µm. We use the geometric mean of the radius range, which is ≈1 µm. This means that the mean cell volume is ≈4 $µm^3$. We use a conversion equation from biovolume to carbon content reported in [Pernice et al.](https://dx.doi.org/10.1038%2Fismej.2014.168) of: $$carbon\\ content\\ [pg\\ C\\ cell^-1] = 0.216×V^{0.939} $$"
   ]
  },
  {
   "cell_type": "code",
   "execution_count": 4,
   "metadata": {},
   "outputs": [
    {
     "name": "stdout",
     "output_type": "stream",
     "text": [
      "We estimate a pico-nanoprotists has a carbon content of ≈1 pg C\n"
     ]
    }
   ],
   "source": [
    "# Conversion equation from Pernice et al.\n",
    "conversion_eq = lambda x: 0.216*x**0.939\n",
    "\n",
    "# We estimate a biovolume of ≈4 µm^3 per pico-nano eukaryote\n",
    "pico_nano_vol = 4\n",
    "\n",
    "# Convert biovolume to carbon content\n",
    "pico_nano_cc = conversion_eq(pico_nano_vol)\n",
    "\n",
    "print('We estimate a pico-nanoprotists has a carbon content of ≈%.0f pg C' %pico_nano_cc)"
   ]
  },
  {
   "cell_type": "markdown",
   "metadata": {},
   "source": [
    "We divide our estimate of the total biomass of pico-nanoprotists by our estimate of the carbon content of a single pico-nano protist. This give us an estimate for the total number of individual protists."
   ]
  },
  {
   "cell_type": "code",
   "execution_count": 5,
   "metadata": {},
   "outputs": [
    {
     "name": "stdout",
     "output_type": "stream",
     "text": [
      "Our estimate of the total number of individual protists is ≈5e+26 \n"
     ]
    }
   ],
   "source": [
    "# Load our estimate of the total biomass of pico-nanoprotists\n",
    "pico_nano_biomass = data.loc[2,'Value']\n",
    "\n",
    "# Calculate the total number of individual protists\n",
    "protist_num = pico_nano_biomass*1e15/(pico_nano_cc/1e12)\n",
    "print('Our estimate of the total number of individual protists is ≈%.0e ' %protist_num)"
   ]
  },
  {
   "cell_type": "code",
   "execution_count": 6,
   "metadata": {
    "collapsed": true
   },
   "outputs": [],
   "source": [
    "# Feed total marine protists results to Table 1 & Fig. 1\n",
    "update_results(sheet='Table1 & Fig1', \n",
    "               row=('Protists','Marine'), \n",
    "               col=['Biomass [Gt C]','Uncertainty','Total uncertainty'],\n",
    "               values=[data.loc[1,'Value'],data.loc[1,'Uncertainty'],mul_CI],\n",
    "               path='../results.xlsx')\n",
    "\n",
    "# Feed total terrestrial protists results to Table 1 & Fig. 1\n",
    "update_results(sheet='Table1 & Fig1', \n",
    "               row=('Protists','Terrestrial'), \n",
    "               col=['Biomass [Gt C]','Uncertainty'],\n",
    "               values=[data.loc[0,'Value'],data.loc[0,'Uncertainty']],\n",
    "               path='../results.xlsx')\n",
    "\n",
    "# Feed total protist results to Table S1\n",
    "update_results(sheet='Table S1', \n",
    "               row=('Protists','Protists'), \n",
    "               col=['Number of individuals'],\n",
    "               values=protist_num,\n",
    "               path='../results.xlsx')"
   ]
  }
 ],
 "metadata": {
  "kernelspec": {
   "display_name": "Python 3",
   "language": "python",
   "name": "python3"
  },
  "language_info": {
   "codemirror_mode": {
    "name": "ipython",
    "version": 3
   },
   "file_extension": ".py",
   "mimetype": "text/x-python",
   "name": "python",
   "nbconvert_exporter": "python",
   "pygments_lexer": "ipython3",
   "version": "3.5.2"
  }
 },
 "nbformat": 4,
 "nbformat_minor": 2
}
