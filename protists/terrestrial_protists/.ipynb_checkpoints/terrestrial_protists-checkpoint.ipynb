{
 "cells": [
  {
   "cell_type": "markdown",
   "metadata": {},
   "source": [
    "# Estimating the total biomass of terrestrial protists\n",
    "After searching the literature, we could not find a comprehensive account of the biomass of protists in soils. We generated a crude estimate of the total biomass of protists in soil based on two main methodologies. The first is based on direct counts of protists in soils, and the second is based on molecular techniques. We detail below the calculation of the global protist biomass using each method. Our best estimate for the total biomass of soil protists is the geometric mean of the estimates from the five different methodologies.\n",
    "\n",
    "## Direct counts of protists\n",
    "In this method, in order to calculate the total biomass of soil protists we calculate a characteristic number of individual protists for each one of the morphological groups of protists (flagellates, ciliates, and naked and testate ameobae). We combine these estimates with estimates for the carbon content of each morphological group.\n",
    "\n",
    "### Number of protists\n",
    "To estimate the total number of protists, we assembled data on the number of protists in soils which contains 128 measuements from 22 independent studies. Here is a sample of the data:"
   ]
  },
  {
   "cell_type": "code",
   "execution_count": 1,
   "metadata": {},
   "outputs": [
    {
     "data": {
      "text/html": [
       "<div>\n",
       "<style scoped>\n",
       "    .dataframe tbody tr th:only-of-type {\n",
       "        vertical-align: middle;\n",
       "    }\n",
       "\n",
       "    .dataframe tbody tr th {\n",
       "        vertical-align: top;\n",
       "    }\n",
       "\n",
       "    .dataframe thead th {\n",
       "        text-align: right;\n",
       "    }\n",
       "</style>\n",
       "<table border=\"1\" class=\"dataframe\">\n",
       "  <thead>\n",
       "    <tr style=\"text-align: right;\">\n",
       "      <th></th>\n",
       "      <th>Reference</th>\n",
       "      <th>DOI</th>\n",
       "      <th>Habitat</th>\n",
       "      <th>Site</th>\n",
       "      <th>Number of naked amoebae [# g^-1]</th>\n",
       "      <th>Number of ciliates [# g^-1]</th>\n",
       "      <th>Number of testate amoebae [# g^-1]</th>\n",
       "      <th>Number of flagellates [# g^-1]</th>\n",
       "      <th>Remarks</th>\n",
       "      <th>Sampling Depth</th>\n",
       "    </tr>\n",
       "  </thead>\n",
       "  <tbody>\n",
       "    <tr>\n",
       "      <th>0</th>\n",
       "      <td>Robinson et al.</td>\n",
       "      <td>http://dx.doi.org/10.1111/j.1550-7408.2002.tb0...</td>\n",
       "      <td>Desert</td>\n",
       "      <td>Australia</td>\n",
       "      <td>6.1e+03</td>\n",
       "      <td>1.5e+02</td>\n",
       "      <td>4.9e+03</td>\n",
       "      <td>nan</td>\n",
       "      <td>Samples from termite mound dropped, taken from...</td>\n",
       "      <td>nan</td>\n",
       "    </tr>\n",
       "    <tr>\n",
       "      <th>1</th>\n",
       "      <td>Robinson et al.</td>\n",
       "      <td>http://dx.doi.org/10.1111/j.1550-7408.2002.tb0...</td>\n",
       "      <td>Desert</td>\n",
       "      <td>Australia</td>\n",
       "      <td>1.3e+04</td>\n",
       "      <td>1.5e+02</td>\n",
       "      <td>2.7e+03</td>\n",
       "      <td>nan</td>\n",
       "      <td>Samples from termite mound dropped, taken from...</td>\n",
       "      <td>nan</td>\n",
       "    </tr>\n",
       "    <tr>\n",
       "      <th>2</th>\n",
       "      <td>Robinson et al.</td>\n",
       "      <td>http://dx.doi.org/10.1111/j.1550-7408.2002.tb0...</td>\n",
       "      <td>Desert</td>\n",
       "      <td>Australia</td>\n",
       "      <td>4.3e+03</td>\n",
       "      <td>6.0e+01</td>\n",
       "      <td>2.3e+03</td>\n",
       "      <td>nan</td>\n",
       "      <td>Samples from termite mound dropped, taken from...</td>\n",
       "      <td>nan</td>\n",
       "    </tr>\n",
       "    <tr>\n",
       "      <th>3</th>\n",
       "      <td>Robinson et al.</td>\n",
       "      <td>http://dx.doi.org/10.1111/j.1550-7408.2002.tb0...</td>\n",
       "      <td>Desert</td>\n",
       "      <td>Australia</td>\n",
       "      <td>3.0e+04</td>\n",
       "      <td>2.7e+02</td>\n",
       "      <td>2.2e+03</td>\n",
       "      <td>nan</td>\n",
       "      <td>Samples from termite mound dropped, taken from...</td>\n",
       "      <td>nan</td>\n",
       "    </tr>\n",
       "    <tr>\n",
       "      <th>4</th>\n",
       "      <td>Robinson et al.</td>\n",
       "      <td>http://dx.doi.org/10.1111/j.1550-7408.2002.tb0...</td>\n",
       "      <td>Desert</td>\n",
       "      <td>Australia</td>\n",
       "      <td>4.0e+03</td>\n",
       "      <td>3.8e+02</td>\n",
       "      <td>4.0e+03</td>\n",
       "      <td>nan</td>\n",
       "      <td>Samples from termite mound dropped, taken from...</td>\n",
       "      <td>nan</td>\n",
       "    </tr>\n",
       "  </tbody>\n",
       "</table>\n",
       "</div>"
      ],
      "text/plain": [
       "         Reference                                                DOI Habitat  \\\n",
       "0  Robinson et al.  http://dx.doi.org/10.1111/j.1550-7408.2002.tb0...  Desert   \n",
       "1  Robinson et al.  http://dx.doi.org/10.1111/j.1550-7408.2002.tb0...  Desert   \n",
       "2  Robinson et al.  http://dx.doi.org/10.1111/j.1550-7408.2002.tb0...  Desert   \n",
       "3  Robinson et al.  http://dx.doi.org/10.1111/j.1550-7408.2002.tb0...  Desert   \n",
       "4  Robinson et al.  http://dx.doi.org/10.1111/j.1550-7408.2002.tb0...  Desert   \n",
       "\n",
       "        Site  Number of naked amoebae [# g^-1]  Number of ciliates [# g^-1]  \\\n",
       "0  Australia                           6.1e+03                      1.5e+02   \n",
       "1  Australia                           1.3e+04                      1.5e+02   \n",
       "2  Australia                           4.3e+03                      6.0e+01   \n",
       "3  Australia                           3.0e+04                      2.7e+02   \n",
       "4  Australia                           4.0e+03                      3.8e+02   \n",
       "\n",
       "   Number of testate amoebae [# g^-1]  Number of flagellates [# g^-1]  \\\n",
       "0                             4.9e+03                             nan   \n",
       "1                             2.7e+03                             nan   \n",
       "2                             2.3e+03                             nan   \n",
       "3                             2.2e+03                             nan   \n",
       "4                             4.0e+03                             nan   \n",
       "\n",
       "                                             Remarks  Sampling Depth  \n",
       "0  Samples from termite mound dropped, taken from...             nan  \n",
       "1  Samples from termite mound dropped, taken from...             nan  \n",
       "2  Samples from termite mound dropped, taken from...             nan  \n",
       "3  Samples from termite mound dropped, taken from...             nan  \n",
       "4  Samples from termite mound dropped, taken from...             nan  "
      ]
     },
     "execution_count": 1,
     "metadata": {},
     "output_type": "execute_result"
    }
   ],
   "source": [
    "import pandas as pd\n",
    "import numpy as np\n",
    "from scipy.stats import gmean\n",
    "import sys\n",
    "sys.path.insert(0,'../../statistics_helper/')\n",
    "from fraction_helper import *\n",
    "from CI_helper import *\n",
    "pd.options.display.float_format = '{:,.1e}'.format\n",
    "data = pd.read_excel('terrestrial_protist_data.xlsx','Density of Individuals')\n",
    "data.head()"
   ]
  },
  {
   "cell_type": "markdown",
   "metadata": {},
   "source": [
    "To estimate the total number of protists, we group our samples to different habitats and to the study in which they were taken. We calculate the characteristic number of each of the groups of protists per gram of soil. To do this we first derive a representative value for each study in case there was more than one measurement done in it. We calculate the representative value for each study in each habitat. Then we calculate the average of different representative values from different studies within the same habitat. We calculate the averages either by using the arithmetic mean or the geometric mean."
   ]
  },
  {
   "cell_type": "code",
   "execution_count": 2,
   "metadata": {},
   "outputs": [
    {
     "name": "stderr",
     "output_type": "stream",
     "text": [
      "/usr/local/lib/python3.5/dist-packages/scipy/stats/stats.py:315: RuntimeWarning: Mean of empty slice.\n",
      "  return np.exp(log_a.mean(axis=axis))\n",
      "/usr/local/lib/python3.5/dist-packages/numpy/core/_methods.py:80: RuntimeWarning: invalid value encountered in double_scalars\n",
      "  ret = ret.dtype.type(ret / rcount)\n",
      "/usr/local/lib/python3.5/dist-packages/ipykernel_launcher.py:10: RuntimeWarning: Mean of empty slice\n",
      "  # Remove the CWD from sys.path while we load stuff.\n",
      "/usr/local/lib/python3.5/dist-packages/ipykernel_launcher.py:11: RuntimeWarning: Mean of empty slice\n",
      "  # This is added back by InteractiveShellApp.init_path()\n",
      "/usr/local/lib/python3.5/dist-packages/ipykernel_launcher.py:13: RuntimeWarning: Mean of empty slice\n",
      "  del sys.path[0]\n",
      "/usr/local/lib/python3.5/dist-packages/ipykernel_launcher.py:12: RuntimeWarning: Mean of empty slice\n",
      "  if sys.path[0] == '':\n"
     ]
    }
   ],
   "source": [
    "# Define the function ot calculate the geometric mean of number of each group of protists per gram\n",
    "def groupby_gmean(input):\n",
    "    return pd.DataFrame({'Number of ciliates [# g^-1]': gmean(input['Number of ciliates [# g^-1]'].dropna()),\n",
    "                        'Number of naked amoebae [# g^-1]': gmean(input['Number of naked amoebae [# g^-1]'].dropna()),\n",
    "                        'Number of testate amoebae [# g^-1]': gmean(input['Number of testate amoebae [# g^-1]'].dropna()),\n",
    "                        'Number of flagellates [# g^-1]': gmean(input['Number of flagellates [# g^-1]'].dropna())},index=[0])\n",
    "\n",
    "# Define the function ot calculate the arithmetic mean of number of each group of protists per gram\n",
    "def groupby_mean(input):\n",
    "    return pd.DataFrame({'Number of ciliates [# g^-1]': np.nanmean(input['Number of ciliates [# g^-1]'].dropna()),\n",
    "                        'Number of naked amoebae [# g^-1]': np.nanmean(input['Number of naked amoebae [# g^-1]'].dropna()),\n",
    "                        'Number of testate amoebae [# g^-1]': np.nanmean(input['Number of testate amoebae [# g^-1]'].dropna()),\n",
    "                        'Number of flagellates [# g^-1]': np.nanmean(input['Number of flagellates [# g^-1]'].dropna())},index=[0])\n",
    "\n",
    "# Group the samples by habitat and study, and calculate the geometric mean\n",
    "grouped_data_gmean = data.groupby(['Habitat','DOI']).apply(groupby_gmean)\n",
    "\n",
    "# Group the samples by habitat and study, and calculate the arithmetic mean\n",
    "grouped_data_mean = data.groupby(['Habitat','DOI']).apply(groupby_mean)\n",
    "\n",
    "# Group the representative values by habitat, and calculate the geometric mean\n",
    "habitat_gmean = grouped_data_gmean.groupby('Habitat').apply(groupby_gmean)\n",
    "\n",
    "# Group the representative values by habitat, and calculate the arithmetic mean\n",
    "habitat_mean = grouped_data_mean.groupby('Habitat').apply(groupby_mean)\n",
    "\n",
    "habitat_gmean.set_index(habitat_gmean.index.droplevel(1),inplace=True)\n",
    "habitat_mean.set_index(habitat_mean.index.droplevel(1),inplace=True)"
   ]
  },
  {
   "cell_type": "markdown",
   "metadata": {},
   "source": [
    "Here is the calculated geometric mean number of cells per gram for each habitat and each group of protists:"
   ]
  },
  {
   "cell_type": "code",
   "execution_count": 3,
   "metadata": {},
   "outputs": [
    {
     "data": {
      "text/html": [
       "<div>\n",
       "<style scoped>\n",
       "    .dataframe tbody tr th:only-of-type {\n",
       "        vertical-align: middle;\n",
       "    }\n",
       "\n",
       "    .dataframe tbody tr th {\n",
       "        vertical-align: top;\n",
       "    }\n",
       "\n",
       "    .dataframe thead th {\n",
       "        text-align: right;\n",
       "    }\n",
       "</style>\n",
       "<table border=\"1\" class=\"dataframe\">\n",
       "  <thead>\n",
       "    <tr style=\"text-align: right;\">\n",
       "      <th></th>\n",
       "      <th>Number of ciliates [# g^-1]</th>\n",
       "      <th>Number of flagellates [# g^-1]</th>\n",
       "      <th>Number of naked amoebae [# g^-1]</th>\n",
       "      <th>Number of testate amoebae [# g^-1]</th>\n",
       "    </tr>\n",
       "    <tr>\n",
       "      <th>Habitat</th>\n",
       "      <th></th>\n",
       "      <th></th>\n",
       "      <th></th>\n",
       "      <th></th>\n",
       "    </tr>\n",
       "  </thead>\n",
       "  <tbody>\n",
       "    <tr>\n",
       "      <th>Boreal Forest</th>\n",
       "      <td>nan</td>\n",
       "      <td>nan</td>\n",
       "      <td>nan</td>\n",
       "      <td>9.2e+02</td>\n",
       "    </tr>\n",
       "    <tr>\n",
       "      <th>Cropland</th>\n",
       "      <td>2.5e+02</td>\n",
       "      <td>3.6e+03</td>\n",
       "      <td>6.2e+03</td>\n",
       "      <td>6.7e+02</td>\n",
       "    </tr>\n",
       "    <tr>\n",
       "      <th>Desert</th>\n",
       "      <td>1.6e+02</td>\n",
       "      <td>nan</td>\n",
       "      <td>8.9e+03</td>\n",
       "      <td>3.3e+03</td>\n",
       "    </tr>\n",
       "    <tr>\n",
       "      <th>Forest</th>\n",
       "      <td>4.3e+01</td>\n",
       "      <td>nan</td>\n",
       "      <td>nan</td>\n",
       "      <td>8.2e+03</td>\n",
       "    </tr>\n",
       "    <tr>\n",
       "      <th>General</th>\n",
       "      <td>nan</td>\n",
       "      <td>1.0e+06</td>\n",
       "      <td>1.0e+05</td>\n",
       "      <td>nan</td>\n",
       "    </tr>\n",
       "    <tr>\n",
       "      <th>Grassland</th>\n",
       "      <td>4.8e+02</td>\n",
       "      <td>4.2e+04</td>\n",
       "      <td>1.8e+04</td>\n",
       "      <td>3.4e+03</td>\n",
       "    </tr>\n",
       "    <tr>\n",
       "      <th>Shrubland</th>\n",
       "      <td>7.2e+01</td>\n",
       "      <td>nan</td>\n",
       "      <td>nan</td>\n",
       "      <td>9.6e+03</td>\n",
       "    </tr>\n",
       "    <tr>\n",
       "      <th>Temperate Forest</th>\n",
       "      <td>3.9e+02</td>\n",
       "      <td>1.8e+05</td>\n",
       "      <td>8.2e+04</td>\n",
       "      <td>1.4e+04</td>\n",
       "    </tr>\n",
       "    <tr>\n",
       "      <th>Tropical Forest</th>\n",
       "      <td>nan</td>\n",
       "      <td>nan</td>\n",
       "      <td>nan</td>\n",
       "      <td>4.2e+04</td>\n",
       "    </tr>\n",
       "    <tr>\n",
       "      <th>Tundra</th>\n",
       "      <td>4.2e+01</td>\n",
       "      <td>1.1e+06</td>\n",
       "      <td>nan</td>\n",
       "      <td>1.3e+03</td>\n",
       "    </tr>\n",
       "    <tr>\n",
       "      <th>Woodland</th>\n",
       "      <td>2.6e+02</td>\n",
       "      <td>nan</td>\n",
       "      <td>nan</td>\n",
       "      <td>1.8e+04</td>\n",
       "    </tr>\n",
       "  </tbody>\n",
       "</table>\n",
       "</div>"
      ],
      "text/plain": [
       "                  Number of ciliates [# g^-1]  Number of flagellates [# g^-1]  \\\n",
       "Habitat                                                                         \n",
       "Boreal Forest                             nan                             nan   \n",
       "Cropland                              2.5e+02                         3.6e+03   \n",
       "Desert                                1.6e+02                             nan   \n",
       "Forest                                4.3e+01                             nan   \n",
       "General                                   nan                         1.0e+06   \n",
       "Grassland                             4.8e+02                         4.2e+04   \n",
       "Shrubland                             7.2e+01                             nan   \n",
       "Temperate Forest                      3.9e+02                         1.8e+05   \n",
       "Tropical Forest                           nan                             nan   \n",
       "Tundra                                4.2e+01                         1.1e+06   \n",
       "Woodland                              2.6e+02                             nan   \n",
       "\n",
       "                  Number of naked amoebae [# g^-1]  \\\n",
       "Habitat                                              \n",
       "Boreal Forest                                  nan   \n",
       "Cropland                                   6.2e+03   \n",
       "Desert                                     8.9e+03   \n",
       "Forest                                         nan   \n",
       "General                                    1.0e+05   \n",
       "Grassland                                  1.8e+04   \n",
       "Shrubland                                      nan   \n",
       "Temperate Forest                           8.2e+04   \n",
       "Tropical Forest                                nan   \n",
       "Tundra                                         nan   \n",
       "Woodland                                       nan   \n",
       "\n",
       "                  Number of testate amoebae [# g^-1]  \n",
       "Habitat                                               \n",
       "Boreal Forest                                9.2e+02  \n",
       "Cropland                                     6.7e+02  \n",
       "Desert                                       3.3e+03  \n",
       "Forest                                       8.2e+03  \n",
       "General                                          nan  \n",
       "Grassland                                    3.4e+03  \n",
       "Shrubland                                    9.6e+03  \n",
       "Temperate Forest                             1.4e+04  \n",
       "Tropical Forest                              4.2e+04  \n",
       "Tundra                                       1.3e+03  \n",
       "Woodland                                     1.8e+04  "
      ]
     },
     "execution_count": 3,
     "metadata": {},
     "output_type": "execute_result"
    }
   ],
   "source": [
    "habitat_gmean"
   ]
  },
  {
   "cell_type": "markdown",
   "metadata": {},
   "source": [
    "For some groups, not all habitats have values. We fill values for missing data by the following scheme. For missing values in the boreal forest biome, we use values from the temperate forest biome. If we have data for the group of protists from the \"General\" habitat, which is based on expert assesment of the characteristic number of individuals for that group per gram of soil, we fill the missing values with the value for the \"General\" habitat.\n",
    "\n",
    "The only other missing data was for ciliates in tropical forests and tundra. For tropical forest, we used the values from temperate forests forests. For tundra, we use the mean over all the different habitats to fill the value:"
   ]
  },
  {
   "cell_type": "code",
   "execution_count": 4,
   "metadata": {},
   "outputs": [
    {
     "data": {
      "text/html": [
       "<div>\n",
       "<style scoped>\n",
       "    .dataframe tbody tr th:only-of-type {\n",
       "        vertical-align: middle;\n",
       "    }\n",
       "\n",
       "    .dataframe tbody tr th {\n",
       "        vertical-align: top;\n",
       "    }\n",
       "\n",
       "    .dataframe thead th {\n",
       "        text-align: right;\n",
       "    }\n",
       "</style>\n",
       "<table border=\"1\" class=\"dataframe\">\n",
       "  <thead>\n",
       "    <tr style=\"text-align: right;\">\n",
       "      <th></th>\n",
       "      <th>Number of ciliates [# g^-1]</th>\n",
       "      <th>Number of flagellates [# g^-1]</th>\n",
       "      <th>Number of naked amoebae [# g^-1]</th>\n",
       "      <th>Number of testate amoebae [# g^-1]</th>\n",
       "    </tr>\n",
       "    <tr>\n",
       "      <th>Habitat</th>\n",
       "      <th></th>\n",
       "      <th></th>\n",
       "      <th></th>\n",
       "      <th></th>\n",
       "    </tr>\n",
       "  </thead>\n",
       "  <tbody>\n",
       "    <tr>\n",
       "      <th>Boreal Forest</th>\n",
       "      <td>3.9e+02</td>\n",
       "      <td>1.8e+05</td>\n",
       "      <td>8.2e+04</td>\n",
       "      <td>9.2e+02</td>\n",
       "    </tr>\n",
       "    <tr>\n",
       "      <th>Cropland</th>\n",
       "      <td>2.5e+02</td>\n",
       "      <td>3.6e+03</td>\n",
       "      <td>6.2e+03</td>\n",
       "      <td>6.7e+02</td>\n",
       "    </tr>\n",
       "    <tr>\n",
       "      <th>Desert</th>\n",
       "      <td>1.6e+02</td>\n",
       "      <td>1.0e+06</td>\n",
       "      <td>8.9e+03</td>\n",
       "      <td>3.3e+03</td>\n",
       "    </tr>\n",
       "    <tr>\n",
       "      <th>Forest</th>\n",
       "      <td>4.3e+01</td>\n",
       "      <td>nan</td>\n",
       "      <td>nan</td>\n",
       "      <td>8.2e+03</td>\n",
       "    </tr>\n",
       "    <tr>\n",
       "      <th>General</th>\n",
       "      <td>nan</td>\n",
       "      <td>1.0e+06</td>\n",
       "      <td>1.0e+05</td>\n",
       "      <td>nan</td>\n",
       "    </tr>\n",
       "    <tr>\n",
       "      <th>Grassland</th>\n",
       "      <td>4.8e+02</td>\n",
       "      <td>1.0e+06</td>\n",
       "      <td>1.8e+04</td>\n",
       "      <td>3.4e+03</td>\n",
       "    </tr>\n",
       "    <tr>\n",
       "      <th>Shrubland</th>\n",
       "      <td>7.2e+01</td>\n",
       "      <td>1.0e+06</td>\n",
       "      <td>1.0e+05</td>\n",
       "      <td>9.6e+03</td>\n",
       "    </tr>\n",
       "    <tr>\n",
       "      <th>Temperate Forest</th>\n",
       "      <td>3.9e+02</td>\n",
       "      <td>1.8e+05</td>\n",
       "      <td>8.2e+04</td>\n",
       "      <td>1.4e+04</td>\n",
       "    </tr>\n",
       "    <tr>\n",
       "      <th>Tropical Forest</th>\n",
       "      <td>3.9e+02</td>\n",
       "      <td>1.0e+06</td>\n",
       "      <td>1.0e+05</td>\n",
       "      <td>4.2e+04</td>\n",
       "    </tr>\n",
       "    <tr>\n",
       "      <th>Tundra</th>\n",
       "      <td>3.7e+02</td>\n",
       "      <td>1.1e+06</td>\n",
       "      <td>1.0e+05</td>\n",
       "      <td>1.3e+03</td>\n",
       "    </tr>\n",
       "    <tr>\n",
       "      <th>Woodland</th>\n",
       "      <td>2.6e+02</td>\n",
       "      <td>1.0e+06</td>\n",
       "      <td>1.0e+05</td>\n",
       "      <td>1.8e+04</td>\n",
       "    </tr>\n",
       "  </tbody>\n",
       "</table>\n",
       "</div>"
      ],
      "text/plain": [
       "                  Number of ciliates [# g^-1]  Number of flagellates [# g^-1]  \\\n",
       "Habitat                                                                         \n",
       "Boreal Forest                         3.9e+02                         1.8e+05   \n",
       "Cropland                              2.5e+02                         3.6e+03   \n",
       "Desert                                1.6e+02                         1.0e+06   \n",
       "Forest                                4.3e+01                             nan   \n",
       "General                                   nan                         1.0e+06   \n",
       "Grassland                             4.8e+02                         1.0e+06   \n",
       "Shrubland                             7.2e+01                         1.0e+06   \n",
       "Temperate Forest                      3.9e+02                         1.8e+05   \n",
       "Tropical Forest                       3.9e+02                         1.0e+06   \n",
       "Tundra                                3.7e+02                         1.1e+06   \n",
       "Woodland                              2.6e+02                         1.0e+06   \n",
       "\n",
       "                  Number of naked amoebae [# g^-1]  \\\n",
       "Habitat                                              \n",
       "Boreal Forest                              8.2e+04   \n",
       "Cropland                                   6.2e+03   \n",
       "Desert                                     8.9e+03   \n",
       "Forest                                         nan   \n",
       "General                                    1.0e+05   \n",
       "Grassland                                  1.8e+04   \n",
       "Shrubland                                  1.0e+05   \n",
       "Temperate Forest                           8.2e+04   \n",
       "Tropical Forest                            1.0e+05   \n",
       "Tundra                                     1.0e+05   \n",
       "Woodland                                   1.0e+05   \n",
       "\n",
       "                  Number of testate amoebae [# g^-1]  \n",
       "Habitat                                               \n",
       "Boreal Forest                                9.2e+02  \n",
       "Cropland                                     6.7e+02  \n",
       "Desert                                       3.3e+03  \n",
       "Forest                                       8.2e+03  \n",
       "General                                          nan  \n",
       "Grassland                                    3.4e+03  \n",
       "Shrubland                                    9.6e+03  \n",
       "Temperate Forest                             1.4e+04  \n",
       "Tropical Forest                              4.2e+04  \n",
       "Tundra                                       1.3e+03  \n",
       "Woodland                                     1.8e+04  "
      ]
     },
     "execution_count": 4,
     "metadata": {},
     "output_type": "execute_result"
    }
   ],
   "source": [
    "# Fill missing values for boreal forests\n",
    "habitat_mean.loc['Boreal Forest',['Number of ciliates [# g^-1]','Number of flagellates [# g^-1]','Number of naked amoebae [# g^-1]']] = habitat_mean.loc['Temperate Forest',['Number of ciliates [# g^-1]','Number of flagellates [# g^-1]','Number of naked amoebae [# g^-1]']]\n",
    "habitat_gmean.loc['Boreal Forest',['Number of ciliates [# g^-1]','Number of flagellates [# g^-1]','Number of naked amoebae [# g^-1]']] = habitat_gmean.loc['Temperate Forest',['Number of ciliates [# g^-1]','Number of flagellates [# g^-1]','Number of naked amoebae [# g^-1]']]\n",
    "\n",
    "# Fill missing values for naked amoebae\n",
    "habitat_mean.loc[['Shrubland','Tropical Forest','Tundra','Woodland'],'Number of naked amoebae [# g^-1]'] = habitat_mean.loc['General','Number of naked amoebae [# g^-1]']\n",
    "habitat_gmean.loc[['Shrubland','Tropical Forest','Tundra','Woodland'],'Number of naked amoebae [# g^-1]'] = habitat_gmean.loc['General','Number of naked amoebae [# g^-1]']\n",
    "\n",
    "# Fill missing values for flagellates\n",
    "habitat_gmean.loc[['Desert','Grassland','Shrubland','Tropical Forest','Woodland'],'Number of flagellates [# g^-1]'] = habitat_gmean.loc['General','Number of flagellates [# g^-1]']\n",
    "habitat_mean.loc[['Desert','Grassland','Shrubland','Tropical Forest','Woodland'],'Number of flagellates [# g^-1]'] = habitat_mean.loc['General','Number of flagellates [# g^-1]']\n",
    "\n",
    "# Fill missing values for ciliates\n",
    "habitat_gmean.loc['Tropical Forest','Number of ciliates [# g^-1]'] = habitat_gmean.loc['Temperate Forest','Number of ciliates [# g^-1]']\n",
    "habitat_mean.loc['Tropical Forest','Number of ciliates [# g^-1]'] = habitat_mean.loc['Temperate Forest','Number of ciliates [# g^-1]']\n",
    "habitat_gmean.loc['Tundra','Number of ciliates [# g^-1]'] = gmean(habitat_mean['Number of ciliates [# g^-1]'].dropna())\n",
    "habitat_mean.loc['Tundra','Number of ciliates [# g^-1]'] = habitat_mean['Number of ciliates [# g^-1]'].dropna().mean()\n",
    "habitat_gmean"
   ]
  },
  {
   "cell_type": "markdown",
   "metadata": {},
   "source": [
    "We have estimates for the total number of individual protists per gram of soil. In order to calculate the total number of individual protists we need to first convert the data to number of individuals per $m^2$. To convert number of individuals per gram of soil to number of individuals per $m^2$, we use an average soil density of ≈1.3 g $cm^3$ based on [Hengl et al.](https://dx.doi.org/10.1371%2Fjournal.pone.0105992).\n",
    "\n",
    "Measuring the density of individuals per gram of soil does not take into account the distribution on biomass along the soil profile. Most of the measurements of the number of individual protists per gram of soil are done in shallow soil depths. We calculate the average sampling depth across studies:\n"
   ]
  },
  {
   "cell_type": "code",
   "execution_count": 32,
   "metadata": {},
   "outputs": [
    {
     "name": "stdout",
     "output_type": "stream",
     "text": [
      "The average sampling depth of soil protists is ≈8 cm\n"
     ]
    }
   ],
   "source": [
    "# Calculate the average sampling depth \n",
    "sampling_depth = data.groupby('DOI').mean().mean()['Sampling Depth']\n",
    "\n",
    "print('The average sampling depth of soil protists is ≈%.0f cm' %sampling_depth)"
   ]
  },
  {
   "cell_type": "markdown",
   "metadata": {},
   "source": [
    "It is not obvious what is the fraction of the total biomass of soil protists that is found in the top 8 cm of soil. To estimate the fraction of the biomass of soil protists found in the top 8 cm, we rely on two methodologies. The first is based on the distribution of microbial biomass with depth as discussed in Xu et al. Xu et al. extrapolate the microbial biomass across the soil profile based on empirical equations for the distribution of root biomass along soil depth from [Jackson et al.](http://dx.doi.org/10.1007/BF00333714). The empirical equations are biome-specific, and follow the general form: $$Y = 1-\\beta^d$$ Where Y is the cumulative fraction of roots, d is depth in centimeters, and $\\beta$ is a coefficient fitted for each biome. On a global scale, the best fit for $\\beta$ as reported in Jackson et al., is ≈0.966. We use this coefficient to calculate the fraction of total biomass of soil protists found in the top 8 cm: "
   ]
  },
  {
   "cell_type": "code",
   "execution_count": 33,
   "metadata": {},
   "outputs": [
    {
     "name": "stdout",
     "output_type": "stream",
     "text": [
      "Our estimate for the fraction of biomass of soil protists found in soil layers sampled, based on Jackson et al. is ≈23.2 percent\n"
     ]
    }
   ],
   "source": [
    "# The beta coefficient from Jackson et al.\n",
    "jackson_beta = 0.966\n",
    "\n",
    "# Calculate the fraction of the biomass of soil protists found in the top 8 cm\n",
    "jackson_fraction = 1 - jackson_beta** sampling_depth\n",
    "\n",
    "print('Our estimate for the fraction of biomass of soil protists found in soil layers sampled, based on Jackson et al. is ≈%.0f percent' %(jackson_fraction*100))"
   ]
  },
  {
   "cell_type": "markdown",
   "metadata": {},
   "source": [
    "As a second estimate for the fraction of the total biomass of soil protists found in the top 8 cm, we rely on an empirical equation from [Fierer et al.](http://dx.doi.org/10.1111/j.1461-0248.2009.01360.x), which estimates the  fraction microbial biomass found below sampling depth d:\n",
    "$$ f = [-0.132×ln(d) + 0.605]×B$$\n",
    "Where f is the fraction microbial biomass found below sampling depth d (in cm). We use this equation to calculate the fraction of the total biomass of soil protists found in the top 8 cm:\n"
   ]
  },
  {
   "cell_type": "code",
   "execution_count": 38,
   "metadata": {},
   "outputs": [
    {
     "name": "stdout",
     "output_type": "stream",
     "text": [
      "Our estimate for the fraction of biomass of soil protists found in soil layers sampled, based on Fierer et al. is ≈66 percent\n"
     ]
    }
   ],
   "source": [
    "# The fraction of microbial biomass found in layer shallower than depth x based on Fierer et al.\n",
    "fierer_eq = lambda x: 1-(-0.132*np.log(x)+0.605)\n",
    "fierer_frac = fierer_eq(sampling_depth)\n",
    "print('Our estimate for the fraction of biomass of soil protists found in soil layers sampled, based on Fierer et al. is ≈%.0f percent' %(fierer_frac*100))"
   ]
  },
  {
   "cell_type": "markdown",
   "metadata": {},
   "source": [
    "As our best estimate for the fraction of the total biomass of soil protists found in layers shallower than 8 cm, we use the geometric mean of the estimates based on Jackson et al. and Fierer et al.:"
   ]
  },
  {
   "cell_type": "code",
   "execution_count": 40,
   "metadata": {},
   "outputs": [
    {
     "name": "stdout",
     "output_type": "stream",
     "text": [
      "Our best estimate for the fraction of biomass of soil protists found in soil layers sampled is ≈44 percent\n"
     ]
    }
   ],
   "source": [
    "best_depth_frac = frac_mean(np.array([jackson_fraction,fierer_frac]))\n",
    "print('Our best estimate for the fraction of biomass of soil protists found in soil layers sampled is ≈%.0f percent' %(best_depth_frac*100))"
   ]
  },
  {
   "cell_type": "markdown",
   "metadata": {},
   "source": [
    "To convert the measurements per gram of soil to number of individuals per $m^2$, we calculate the average sampling depth across studies. We calculate the volume of soil held within this sampling depth. We use the bulk density to calculate the total weight of soil within one $m^2$ of soil with depth equal to the sampling depth. We multiply the estimates per gram of soil by the total weight of soil per $m^2$. To account for biomass present in lower layers, we divide the total number of individual protists per $m^2$ by our best estimate for the fraction of the total biomass of soil protists found in layer shallower than 8 cm."
   ]
  },
  {
   "cell_type": "code",
   "execution_count": 41,
   "metadata": {},
   "outputs": [
    {
     "data": {
      "text/html": [
       "<div>\n",
       "<style scoped>\n",
       "    .dataframe tbody tr th:only-of-type {\n",
       "        vertical-align: middle;\n",
       "    }\n",
       "\n",
       "    .dataframe tbody tr th {\n",
       "        vertical-align: top;\n",
       "    }\n",
       "\n",
       "    .dataframe thead th {\n",
       "        text-align: right;\n",
       "    }\n",
       "</style>\n",
       "<table border=\"1\" class=\"dataframe\">\n",
       "  <thead>\n",
       "    <tr style=\"text-align: right;\">\n",
       "      <th></th>\n",
       "      <th>Number of ciliates [# g^-1]</th>\n",
       "      <th>Number of flagellates [# g^-1]</th>\n",
       "      <th>Number of naked amoebae [# g^-1]</th>\n",
       "      <th>Number of testate amoebae [# g^-1]</th>\n",
       "    </tr>\n",
       "    <tr>\n",
       "      <th>Habitat</th>\n",
       "      <th></th>\n",
       "      <th></th>\n",
       "      <th></th>\n",
       "      <th></th>\n",
       "    </tr>\n",
       "  </thead>\n",
       "  <tbody>\n",
       "    <tr>\n",
       "      <th>Boreal Forest</th>\n",
       "      <td>9.0e+07</td>\n",
       "      <td>4.1e+10</td>\n",
       "      <td>1.9e+10</td>\n",
       "      <td>2.1e+08</td>\n",
       "    </tr>\n",
       "    <tr>\n",
       "      <th>Cropland</th>\n",
       "      <td>5.6e+07</td>\n",
       "      <td>8.2e+08</td>\n",
       "      <td>1.4e+09</td>\n",
       "      <td>1.5e+08</td>\n",
       "    </tr>\n",
       "    <tr>\n",
       "      <th>Desert</th>\n",
       "      <td>3.7e+07</td>\n",
       "      <td>2.3e+11</td>\n",
       "      <td>2.0e+09</td>\n",
       "      <td>7.5e+08</td>\n",
       "    </tr>\n",
       "    <tr>\n",
       "      <th>Forest</th>\n",
       "      <td>9.7e+06</td>\n",
       "      <td>nan</td>\n",
       "      <td>nan</td>\n",
       "      <td>1.9e+09</td>\n",
       "    </tr>\n",
       "    <tr>\n",
       "      <th>General</th>\n",
       "      <td>nan</td>\n",
       "      <td>2.3e+11</td>\n",
       "      <td>2.3e+10</td>\n",
       "      <td>nan</td>\n",
       "    </tr>\n",
       "    <tr>\n",
       "      <th>Grassland</th>\n",
       "      <td>1.1e+08</td>\n",
       "      <td>2.3e+11</td>\n",
       "      <td>4.1e+09</td>\n",
       "      <td>7.7e+08</td>\n",
       "    </tr>\n",
       "    <tr>\n",
       "      <th>Shrubland</th>\n",
       "      <td>1.6e+07</td>\n",
       "      <td>2.3e+11</td>\n",
       "      <td>2.3e+10</td>\n",
       "      <td>2.2e+09</td>\n",
       "    </tr>\n",
       "    <tr>\n",
       "      <th>Temperate Forest</th>\n",
       "      <td>9.0e+07</td>\n",
       "      <td>4.1e+10</td>\n",
       "      <td>1.9e+10</td>\n",
       "      <td>3.2e+09</td>\n",
       "    </tr>\n",
       "    <tr>\n",
       "      <th>Tropical Forest</th>\n",
       "      <td>9.0e+07</td>\n",
       "      <td>2.3e+11</td>\n",
       "      <td>2.3e+10</td>\n",
       "      <td>9.5e+09</td>\n",
       "    </tr>\n",
       "    <tr>\n",
       "      <th>Tundra</th>\n",
       "      <td>8.5e+07</td>\n",
       "      <td>2.4e+11</td>\n",
       "      <td>2.3e+10</td>\n",
       "      <td>3.1e+08</td>\n",
       "    </tr>\n",
       "    <tr>\n",
       "      <th>Woodland</th>\n",
       "      <td>5.8e+07</td>\n",
       "      <td>2.3e+11</td>\n",
       "      <td>2.3e+10</td>\n",
       "      <td>4.1e+09</td>\n",
       "    </tr>\n",
       "  </tbody>\n",
       "</table>\n",
       "</div>"
      ],
      "text/plain": [
       "                  Number of ciliates [# g^-1]  Number of flagellates [# g^-1]  \\\n",
       "Habitat                                                                         \n",
       "Boreal Forest                         9.0e+07                         4.1e+10   \n",
       "Cropland                              5.6e+07                         8.2e+08   \n",
       "Desert                                3.7e+07                         2.3e+11   \n",
       "Forest                                9.7e+06                             nan   \n",
       "General                                   nan                         2.3e+11   \n",
       "Grassland                             1.1e+08                         2.3e+11   \n",
       "Shrubland                             1.6e+07                         2.3e+11   \n",
       "Temperate Forest                      9.0e+07                         4.1e+10   \n",
       "Tropical Forest                       9.0e+07                         2.3e+11   \n",
       "Tundra                                8.5e+07                         2.4e+11   \n",
       "Woodland                              5.8e+07                         2.3e+11   \n",
       "\n",
       "                  Number of naked amoebae [# g^-1]  \\\n",
       "Habitat                                              \n",
       "Boreal Forest                              1.9e+10   \n",
       "Cropland                                   1.4e+09   \n",
       "Desert                                     2.0e+09   \n",
       "Forest                                         nan   \n",
       "General                                    2.3e+10   \n",
       "Grassland                                  4.1e+09   \n",
       "Shrubland                                  2.3e+10   \n",
       "Temperate Forest                           1.9e+10   \n",
       "Tropical Forest                            2.3e+10   \n",
       "Tundra                                     2.3e+10   \n",
       "Woodland                                   2.3e+10   \n",
       "\n",
       "                  Number of testate amoebae [# g^-1]  \n",
       "Habitat                                               \n",
       "Boreal Forest                                2.1e+08  \n",
       "Cropland                                     1.5e+08  \n",
       "Desert                                       7.5e+08  \n",
       "Forest                                       1.9e+09  \n",
       "General                                          nan  \n",
       "Grassland                                    7.7e+08  \n",
       "Shrubland                                    2.2e+09  \n",
       "Temperate Forest                             3.2e+09  \n",
       "Tropical Forest                              9.5e+09  \n",
       "Tundra                                       3.1e+08  \n",
       "Woodland                                     4.1e+09  "
      ]
     },
     "execution_count": 41,
     "metadata": {},
     "output_type": "execute_result"
    }
   ],
   "source": [
    "# Mean soil bulk density from Hengl et al.\n",
    "bulk_density = 1.3e6\n",
    "# convert number of individuals per gram soil to number of individuals per m^2\n",
    "habitat_per_m2_gmean = (habitat_gmean*bulk_density*sampling_depth/100/best_depth_frac)\n",
    "habitat_per_m2_mean = (habitat_mean*bulk_density*sampling_depth/100/best_depth_frac)"
   ]
  },
  {
   "cell_type": "markdown",
   "metadata": {},
   "source": [
    "To calculate the total number of protists we multiply the total number of individuals per unit area of each type of protist in each habitat by the total area of each habitat taken from the book [Biogeochemistry: An analysis of Global Change](https://www.sciencedirect.com/science/book/9780123858740) by Schlesinger & Bernhardt. The areas of each habitat are:"
   ]
  },
  {
   "cell_type": "code",
   "execution_count": 6,
   "metadata": {},
   "outputs": [
    {
     "data": {
      "text/html": [
       "<div>\n",
       "<style scoped>\n",
       "    .dataframe tbody tr th:only-of-type {\n",
       "        vertical-align: middle;\n",
       "    }\n",
       "\n",
       "    .dataframe tbody tr th {\n",
       "        vertical-align: top;\n",
       "    }\n",
       "\n",
       "    .dataframe thead th {\n",
       "        text-align: right;\n",
       "    }\n",
       "</style>\n",
       "<table border=\"1\" class=\"dataframe\">\n",
       "  <thead>\n",
       "    <tr style=\"text-align: right;\">\n",
       "      <th></th>\n",
       "      <th>Area [m^2]</th>\n",
       "      <th>Unnamed: 2</th>\n",
       "    </tr>\n",
       "    <tr>\n",
       "      <th>Biome</th>\n",
       "      <th></th>\n",
       "      <th></th>\n",
       "    </tr>\n",
       "  </thead>\n",
       "  <tbody>\n",
       "    <tr>\n",
       "      <th>Boreal Forest</th>\n",
       "      <td>13700000000000</td>\n",
       "      <td>Temperate forest, Tropical rainforest</td>\n",
       "    </tr>\n",
       "    <tr>\n",
       "      <th>Desert</th>\n",
       "      <td>27700000000000</td>\n",
       "      <td>Desert</td>\n",
       "    </tr>\n",
       "    <tr>\n",
       "      <th>Temperate Forest</th>\n",
       "      <td>10400000000000</td>\n",
       "      <td>Temperate forest</td>\n",
       "    </tr>\n",
       "    <tr>\n",
       "      <th>Grassland</th>\n",
       "      <td>15000000000000</td>\n",
       "      <td>Grassland</td>\n",
       "    </tr>\n",
       "    <tr>\n",
       "      <th>Tropical Forest</th>\n",
       "      <td>17500000000000</td>\n",
       "      <td>Tropical rainforest</td>\n",
       "    </tr>\n",
       "    <tr>\n",
       "      <th>Tundra</th>\n",
       "      <td>5600000000000</td>\n",
       "      <td>Tundra</td>\n",
       "    </tr>\n",
       "    <tr>\n",
       "      <th>Tropical Savanna</th>\n",
       "      <td>27700000000000</td>\n",
       "      <td>Scrubland,grassland,Temprate Forest, Tropical ...</td>\n",
       "    </tr>\n",
       "    <tr>\n",
       "      <th>Cropland</th>\n",
       "      <td>15500000000000</td>\n",
       "      <td>Cropland</td>\n",
       "    </tr>\n",
       "  </tbody>\n",
       "</table>\n",
       "</div>"
      ],
      "text/plain": [
       "                      Area [m^2]  \\\n",
       "Biome                              \n",
       "Boreal Forest     13700000000000   \n",
       "Desert            27700000000000   \n",
       "Temperate Forest  10400000000000   \n",
       "Grassland         15000000000000   \n",
       "Tropical Forest   17500000000000   \n",
       "Tundra             5600000000000   \n",
       "Tropical Savanna  27700000000000   \n",
       "Cropland          15500000000000   \n",
       "\n",
       "                                                         Unnamed: 2  \n",
       "Biome                                                                \n",
       "Boreal Forest                 Temperate forest, Tropical rainforest  \n",
       "Desert                                                       Desert  \n",
       "Temperate Forest                                   Temperate forest  \n",
       "Grassland                                                 Grassland  \n",
       "Tropical Forest                                 Tropical rainforest  \n",
       "Tundra                                                       Tundra  \n",
       "Tropical Savanna  Scrubland,grassland,Temprate Forest, Tropical ...  \n",
       "Cropland                                                   Cropland  "
      ]
     },
     "execution_count": 6,
     "metadata": {},
     "output_type": "execute_result"
    }
   ],
   "source": [
    "habitat_area = pd.read_excel('terrestrial_protist_data.xlsx','Biome area', skiprows=1,index_col=0)\n",
    "habitat_area"
   ]
  },
  {
   "cell_type": "markdown",
   "metadata": {},
   "source": [
    "One habitat for which we do not have data is the savanna. We use the mean of the values for the tropical forest, woodland, shrubland and grassland as an estimate of the total biomass in the savanna."
   ]
  },
  {
   "cell_type": "code",
   "execution_count": 7,
   "metadata": {},
   "outputs": [
    {
     "name": "stdout",
     "output_type": "stream",
     "text": [
      "Number of ciliates [# g^-1]          4.0e+22\n",
      "Number of flagellates [# g^-1]       7.2e+25\n",
      "Number of naked amoebae [# g^-1]     3.0e+24\n",
      "Number of testate amoebae [# g^-1]   7.4e+23\n",
      "dtype: float64\n",
      "Number of ciliates [# g^-1]          1.5e+22\n",
      "Number of flagellates [# g^-1]       3.7e+25\n",
      "Number of naked amoebae [# g^-1]     2.5e+24\n",
      "Number of testate amoebae [# g^-1]   5.2e+23\n",
      "dtype: float64\n",
      "[  2.45695379e+22   5.12566762e+25   2.73692325e+24   6.19085524e+23]\n"
     ]
    }
   ],
   "source": [
    "habitat_per_m2_gmean.loc['Tropical Savanna'] = gmean(habitat_per_m2_gmean.loc[['Tropical Forest','Woodland','Shrubland','Grassland']])\n",
    "habitat_per_m2_mean.loc['Tropical Savanna'] = habitat_per_m2_gmean.loc[['Tropical Forest','Woodland','Shrubland','Grassland']].mean(axis=0)\n",
    "\n",
    "tot_num_gmean = habitat_per_m2_gmean.mul(habitat_area['Area [m^2]'],axis=0)\n",
    "tot_num_mean = habitat_per_m2_mean.mul(habitat_area['Area [m^2]'],axis=0)\n",
    "print(tot_num_mean.sum())\n",
    "print(tot_num_gmean.sum())\n",
    "print(gmean([tot_num_mean.sum(),tot_num_gmean.sum()]))"
   ]
  },
  {
   "cell_type": "markdown",
   "metadata": {},
   "source": [
    "We generated two types of estimates for the total number of soil protists: an estimate which uses the arithmetic mean of the number of individuals at each habitat, and an estimate which uses the geometric mean of the number of individuals at each habitat. The estimate based on the arithmetic mean is more susceptible to sampling bias, as even a single measurement which is not characteristic of the global population (such as samples which are contaminated with organic carbon sources, or samples which have some technical biases associated with them) might shift the average concentration significantly. On the other hand, the estimate based on the geometric mean might underestimate global biomass as it will reduce the effect of biologically relevant high biomass concentrations. As a compromise between these two caveats, we chose to use as our best estimate the geometric mean of the estimates from the two methodologies."
   ]
  },
  {
   "cell_type": "code",
   "execution_count": 8,
   "metadata": {},
   "outputs": [
    {
     "data": {
      "text/plain": [
       "array([  2.45695379e+22,   5.12566762e+25,   2.73692325e+24,\n",
       "         6.19085524e+23])"
      ]
     },
     "execution_count": 8,
     "metadata": {},
     "output_type": "execute_result"
    }
   ],
   "source": [
    "tot_num_protist = gmean([tot_num_mean.sum(),tot_num_gmean.sum()])\n",
    "tot_num_protist"
   ]
  },
  {
   "cell_type": "markdown",
   "metadata": {},
   "source": [
    "### Carbon content of protists\n",
    "We estimate the characteristic carbon content of a single protist from each of the morphological groups of protists  based on data from several sources. Here is a sample of the data:"
   ]
  },
  {
   "cell_type": "code",
   "execution_count": 9,
   "metadata": {},
   "outputs": [
    {
     "data": {
      "text/html": [
       "<div>\n",
       "<style scoped>\n",
       "    .dataframe tbody tr th:only-of-type {\n",
       "        vertical-align: middle;\n",
       "    }\n",
       "\n",
       "    .dataframe tbody tr th {\n",
       "        vertical-align: top;\n",
       "    }\n",
       "\n",
       "    .dataframe thead th {\n",
       "        text-align: right;\n",
       "    }\n",
       "</style>\n",
       "<table border=\"1\" class=\"dataframe\">\n",
       "  <thead>\n",
       "    <tr style=\"text-align: right;\">\n",
       "      <th></th>\n",
       "      <th>Reference</th>\n",
       "      <th>DOI</th>\n",
       "      <th>Carbon content of naked amoebae [g C cell^-1]</th>\n",
       "      <th>Carbon content of ciliates [g C cell^-1]</th>\n",
       "      <th>Carbon content of testate amoebae [g C cell^-1]</th>\n",
       "      <th>Carbon content of flagellates [g C cell^-1]</th>\n",
       "      <th>Remarks</th>\n",
       "    </tr>\n",
       "  </thead>\n",
       "  <tbody>\n",
       "    <tr>\n",
       "      <th>0</th>\n",
       "      <td>Wanner et al.</td>\n",
       "      <td>http://dx.doi.org/10.1007/s00248-007-9322-2</td>\n",
       "      <td>nan</td>\n",
       "      <td>nan</td>\n",
       "      <td>1.5e-09</td>\n",
       "      <td>nan</td>\n",
       "      <td>Calculated from table 2, assuming 15% carbon c...</td>\n",
       "    </tr>\n",
       "    <tr>\n",
       "      <th>1</th>\n",
       "      <td>Wanner et al.</td>\n",
       "      <td>http://dx.doi.org/10.1007/s00248-007-9322-2</td>\n",
       "      <td>nan</td>\n",
       "      <td>nan</td>\n",
       "      <td>1.1e-09</td>\n",
       "      <td>nan</td>\n",
       "      <td>Calculated from table 2, assuming 15% carbon c...</td>\n",
       "    </tr>\n",
       "    <tr>\n",
       "      <th>2</th>\n",
       "      <td>Wanner et al.</td>\n",
       "      <td>http://dx.doi.org/10.1007/s00248-007-9322-2</td>\n",
       "      <td>nan</td>\n",
       "      <td>nan</td>\n",
       "      <td>2.1e-09</td>\n",
       "      <td>nan</td>\n",
       "      <td>Calculated from table 2, assuming 15% carbon c...</td>\n",
       "    </tr>\n",
       "    <tr>\n",
       "      <th>3</th>\n",
       "      <td>Wanner et al.</td>\n",
       "      <td>http://dx.doi.org/10.1007/s00248-007-9322-2</td>\n",
       "      <td>nan</td>\n",
       "      <td>nan</td>\n",
       "      <td>3.4e-09</td>\n",
       "      <td>nan</td>\n",
       "      <td>Calculated from table 2, assuming 15% carbon c...</td>\n",
       "    </tr>\n",
       "    <tr>\n",
       "      <th>4</th>\n",
       "      <td>Foissner</td>\n",
       "      <td>http://dx.doi.org/10.1016/0167-8809(92)90093-Q</td>\n",
       "      <td>nan</td>\n",
       "      <td>3.8e-09</td>\n",
       "      <td>4.7e-09</td>\n",
       "      <td>nan</td>\n",
       "      <td>Calculated from table 2, assuming 15% carbon c...</td>\n",
       "    </tr>\n",
       "  </tbody>\n",
       "</table>\n",
       "</div>"
      ],
      "text/plain": [
       "       Reference                                             DOI  \\\n",
       "0  Wanner et al.     http://dx.doi.org/10.1007/s00248-007-9322-2   \n",
       "1  Wanner et al.     http://dx.doi.org/10.1007/s00248-007-9322-2   \n",
       "2  Wanner et al.     http://dx.doi.org/10.1007/s00248-007-9322-2   \n",
       "3  Wanner et al.     http://dx.doi.org/10.1007/s00248-007-9322-2   \n",
       "4       Foissner  http://dx.doi.org/10.1016/0167-8809(92)90093-Q   \n",
       "\n",
       "   Carbon content of naked amoebae [g C cell^-1]  \\\n",
       "0                                            nan   \n",
       "1                                            nan   \n",
       "2                                            nan   \n",
       "3                                            nan   \n",
       "4                                            nan   \n",
       "\n",
       "   Carbon content of ciliates [g C cell^-1]  \\\n",
       "0                                       nan   \n",
       "1                                       nan   \n",
       "2                                       nan   \n",
       "3                                       nan   \n",
       "4                                   3.8e-09   \n",
       "\n",
       "   Carbon content of testate amoebae [g C cell^-1]  \\\n",
       "0                                          1.5e-09   \n",
       "1                                          1.1e-09   \n",
       "2                                          2.1e-09   \n",
       "3                                          3.4e-09   \n",
       "4                                          4.7e-09   \n",
       "\n",
       "   Carbon content of flagellates [g C cell^-1]  \\\n",
       "0                                          nan   \n",
       "1                                          nan   \n",
       "2                                          nan   \n",
       "3                                          nan   \n",
       "4                                          nan   \n",
       "\n",
       "                                             Remarks  \n",
       "0  Calculated from table 2, assuming 15% carbon c...  \n",
       "1  Calculated from table 2, assuming 15% carbon c...  \n",
       "2  Calculated from table 2, assuming 15% carbon c...  \n",
       "3  Calculated from table 2, assuming 15% carbon c...  \n",
       "4  Calculated from table 2, assuming 15% carbon c...  "
      ]
     },
     "execution_count": 9,
     "metadata": {},
     "output_type": "execute_result"
    }
   ],
   "source": [
    "cc_data =  pd.read_excel('terrestrial_protist_data.xlsx', 'Carbon content')\n",
    "cc_data.head()"
   ]
  },
  {
   "cell_type": "markdown",
   "metadata": {},
   "source": [
    "We combine this data with an additional source from [Finlay & Fenchel](http://dx.doi.org/10.1078/1434-4610-00060). We calculate the average cell length for each group. "
   ]
  },
  {
   "cell_type": "code",
   "execution_count": 10,
   "metadata": {
    "collapsed": true
   },
   "outputs": [],
   "source": [
    "# Load data from Finlay & Fenchel\n",
    "ff_data = pd.read_excel('terrestrial_protist_data.xlsx', 'Finlay & Fenchel', skiprows=1)\n",
    "\n",
    "# Define the function to calculate the weighted average for each group of protists\n",
    "def weighted_av_groupby(input):\n",
    "    return np.average(input['Length [µm]'],weights=input['Abundance [# g^-1]'])\n",
    "\n",
    "cell_lengths = ff_data.groupby('Protist type').apply(weighted_av_groupby)"
   ]
  },
  {
   "cell_type": "markdown",
   "metadata": {},
   "source": [
    "We convert the cell length to biovolume according the the allometric relation decribed in Figure 10 of Finlay & Fenchel. The relation between cell volume and cell length is given by the equation: \n",
    "$$V = 0.6×L^{2.36}$$\n",
    "Where V is the cell volume in $µm^3$ and L is the cell length in µm."
   ]
  },
  {
   "cell_type": "code",
   "execution_count": 11,
   "metadata": {},
   "outputs": [
    {
     "data": {
      "text/plain": [
       "Protist type\n",
       "Ciliate           5.4e+03\n",
       "Flagellate        1.2e+02\n",
       "Naked amoebae     1.4e+03\n",
       "Testate amoebae   3.6e+03\n",
       "dtype: float64"
      ]
     },
     "execution_count": 11,
     "metadata": {},
     "output_type": "execute_result"
    }
   ],
   "source": [
    "cell_volumes = 0.6*cell_lengths**2.36\n",
    "cell_volumes"
   ]
  },
  {
   "cell_type": "markdown",
   "metadata": {},
   "source": [
    "We convert cell volumes to carbon content assuming ≈150 fg C µm$^3$:"
   ]
  },
  {
   "cell_type": "code",
   "execution_count": 12,
   "metadata": {},
   "outputs": [
    {
     "data": {
      "text/plain": [
       "Protist type\n",
       "Ciliate           8.1e-10\n",
       "Flagellate        1.8e-11\n",
       "Naked amoebae     2.0e-10\n",
       "Testate amoebae   5.5e-10\n",
       "dtype: float64"
      ]
     },
     "execution_count": 12,
     "metadata": {},
     "output_type": "execute_result"
    }
   ],
   "source": [
    "ff_carbon_content = cell_volumes*150e-15\n",
    "pd.options.display.float_format = '{:,.1e}'.format\n",
    "ff_carbon_content"
   ]
  },
  {
   "cell_type": "markdown",
   "metadata": {},
   "source": [
    "We add these numbers as an additional source for calculating the carbon content of protists:"
   ]
  },
  {
   "cell_type": "code",
   "execution_count": 13,
   "metadata": {},
   "outputs": [],
   "source": [
    "cc_data.loc[cc_data.index[-1]+1] = pd.Series({'Reference': 'Finlay & Fenchel',\n",
    "                   'DOI': 'http://dx.doi.org/10.1078/1434-4610-00060',\n",
    "                   'Carbon content of ciliates [g C cell^-1]': ff_carbon_content.loc['Ciliate'],\n",
    "                   'Carbon content of naked amoebae [g C cell^-1]': ff_carbon_content.loc['Naked amoebae'],\n",
    "                   'Carbon content of testate amoebae [g C cell^-1]': ff_carbon_content.loc['Testate amoebae'],\n",
    "                   'Carbon content of flagellates [g C cell^-1]': ff_carbon_content.loc['Flagellate']\n",
    "                  })\n"
   ]
  },
  {
   "cell_type": "markdown",
   "metadata": {},
   "source": [
    "We calculate the geometric mean of carbon contents for first for values within each study and then for the average values between studies:"
   ]
  },
  {
   "cell_type": "code",
   "execution_count": 14,
   "metadata": {},
   "outputs": [
    {
     "name": "stderr",
     "output_type": "stream",
     "text": [
      "/usr/local/lib/python3.5/dist-packages/scipy/stats/stats.py:315: RuntimeWarning: Mean of empty slice.\n",
      "  return np.exp(log_a.mean(axis=axis))\n",
      "/usr/local/lib/python3.5/dist-packages/numpy/core/_methods.py:80: RuntimeWarning: invalid value encountered in double_scalars\n",
      "  ret = ret.dtype.type(ret / rcount)\n"
     ]
    }
   ],
   "source": [
    "def groupby_gmean(input):\n",
    "    return pd.DataFrame({'Carbon content of ciliates [g C cell^-1]': gmean(input['Carbon content of ciliates [g C cell^-1]'].dropna()),\n",
    "                        'Carbon content of naked amoebae [g C cell^-1]': gmean(input['Carbon content of naked amoebae [g C cell^-1]'].dropna()),\n",
    "                        'Carbon content of testate amoebae [g C cell^-1]': gmean(input['Carbon content of testate amoebae [g C cell^-1]'].dropna()),\n",
    "                        'Carbon content of flagellates [g C cell^-1]': gmean(input['Carbon content of flagellates [g C cell^-1]'].dropna())},index=[0])\n",
    "\n",
    "\n",
    "study_mean_cc = cc_data.groupby('DOI').apply(groupby_gmean)\n",
    "mean_cc = study_mean_cc.reset_index().groupby('level_1').apply(groupby_gmean)"
   ]
  },
  {
   "cell_type": "code",
   "execution_count": 15,
   "metadata": {},
   "outputs": [
    {
     "data": {
      "text/html": [
       "<div>\n",
       "<style scoped>\n",
       "    .dataframe tbody tr th:only-of-type {\n",
       "        vertical-align: middle;\n",
       "    }\n",
       "\n",
       "    .dataframe tbody tr th {\n",
       "        vertical-align: top;\n",
       "    }\n",
       "\n",
       "    .dataframe thead tr th {\n",
       "        text-align: left;\n",
       "    }\n",
       "</style>\n",
       "<table border=\"1\" class=\"dataframe\">\n",
       "  <thead>\n",
       "    <tr>\n",
       "      <th>level_1</th>\n",
       "      <th>0</th>\n",
       "    </tr>\n",
       "    <tr>\n",
       "      <th></th>\n",
       "      <th>0</th>\n",
       "    </tr>\n",
       "  </thead>\n",
       "  <tbody>\n",
       "    <tr>\n",
       "      <th>Carbon content of ciliates [g C cell^-1]</th>\n",
       "      <td>8.7e-10</td>\n",
       "    </tr>\n",
       "    <tr>\n",
       "      <th>Carbon content of flagellates [g C cell^-1]</th>\n",
       "      <td>2.2e-11</td>\n",
       "    </tr>\n",
       "    <tr>\n",
       "      <th>Carbon content of naked amoebae [g C cell^-1]</th>\n",
       "      <td>2.0e-10</td>\n",
       "    </tr>\n",
       "    <tr>\n",
       "      <th>Carbon content of testate amoebae [g C cell^-1]</th>\n",
       "      <td>1.6e-09</td>\n",
       "    </tr>\n",
       "  </tbody>\n",
       "</table>\n",
       "</div>"
      ],
      "text/plain": [
       "level_1                                               0\n",
       "                                                      0\n",
       "Carbon content of ciliates [g C cell^-1]        8.7e-10\n",
       "Carbon content of flagellates [g C cell^-1]     2.2e-11\n",
       "Carbon content of naked amoebae [g C cell^-1]   2.0e-10\n",
       "Carbon content of testate amoebae [g C cell^-1] 1.6e-09"
      ]
     },
     "execution_count": 15,
     "metadata": {},
     "output_type": "execute_result"
    }
   ],
   "source": [
    "gmean(study_mean_cc['Carbon content of flagellates [g C cell^-1]'].dropna())\n",
    "mean_cc.T"
   ]
  },
  {
   "cell_type": "markdown",
   "metadata": {},
   "source": [
    "To estimate the total biomass of soil protists based on the total number of individuals and their carbon content, we multiply our estimate for the total number of individuals for each morphological type by its characteristic carbon content. We sum over all morophological types of protists to generate our best estimate for the global biomass of soil protists"
   ]
  },
  {
   "cell_type": "code",
   "execution_count": 18,
   "metadata": {},
   "outputs": [
    {
     "name": "stdout",
     "output_type": "stream",
     "text": [
      "Our best estimate of the total biomass of soil protists based on direct counts is ≈2.7 Gt C\n"
     ]
    }
   ],
   "source": [
    "# Calculate the total biomass of protists\n",
    "direct_count_biomass = (tot_num_protist*mean_cc).sum(axis=1)\n",
    "\n",
    "print('Our best estimate of the total biomass of soil protists based on direct counts is ≈%.1f Gt C' %(direct_count_biomass/1e15))"
   ]
  },
  {
   "cell_type": "markdown",
   "metadata": {},
   "source": [
    "## Molecular techniques\n",
    "The second method we use in order to estimate the total biomass of soil protists is based on mulecular surveys of the abundance of protists in soils. The methods we use to estimate the total biomass of protists are 18S rDNA sequencing, 18S rRNA sequencing, metatranscriptomics and metagenomics. \n",
    "\n",
    "The molecular techniques we rely on measure the relative fraction of protists out of the total population of soil eukaryotes. Estimating the total biomass of eukaryotes based on molecular techniques assumes a correlation between the number of reads of a specific taxon and its biomass. Even though this procedure is not well established , we rely on it as one of our sources due to the scarcity of data. Some support for using 18S rDNA sequencing data as a proxy for estimating biomass is provided in the marine arthropod section of the Supplementary Information.\n",
    "\n",
    "To generate our estimate of the total biomass of soil protist using these molecular techniques, we first estimate the fraction of protists out of the total biomass of soil eukaryotes. We then multiply the fraction of protists out of the total biomass of soil eukaryotes by our estimate for the total biomass of soil fungi, which we assume dominate the biomass of soil eukaryotes."
   ]
  },
  {
   "cell_type": "markdown",
   "metadata": {},
   "source": [
    "### 18S rDNA sequencing\n",
    "To estimate the total biomass of soil protists from 18S rDNA sequencing data, we calculate the fraction of protists out of the total population of soil eukaryotes based on data from forests ([Tedersoo et al.](http://dx.doi.org/10.1038/ismej.2015.116)), grasslands and croplands ([Chen et al.](http://dx.doi.org/10.3389/fmicb.2015.01149)). Below is a sample of the data:\n"
   ]
  },
  {
   "cell_type": "code",
   "execution_count": 19,
   "metadata": {},
   "outputs": [
    {
     "data": {
      "text/html": [
       "<div>\n",
       "<style scoped>\n",
       "    .dataframe tbody tr th:only-of-type {\n",
       "        vertical-align: middle;\n",
       "    }\n",
       "\n",
       "    .dataframe tbody tr th {\n",
       "        vertical-align: top;\n",
       "    }\n",
       "\n",
       "    .dataframe thead th {\n",
       "        text-align: right;\n",
       "    }\n",
       "</style>\n",
       "<table border=\"1\" class=\"dataframe\">\n",
       "  <thead>\n",
       "    <tr style=\"text-align: right;\">\n",
       "      <th></th>\n",
       "      <th>Site</th>\n",
       "      <th>Fungi</th>\n",
       "      <th>Protists</th>\n",
       "      <th>Habitat</th>\n",
       "    </tr>\n",
       "  </thead>\n",
       "  <tbody>\n",
       "    <tr>\n",
       "      <th>0</th>\n",
       "      <td>G-0</td>\n",
       "      <td>7.0e-01</td>\n",
       "      <td>1.9e-01</td>\n",
       "      <td>Grassland</td>\n",
       "    </tr>\n",
       "    <tr>\n",
       "      <th>1</th>\n",
       "      <td>G-7</td>\n",
       "      <td>5.3e-01</td>\n",
       "      <td>2.9e-01</td>\n",
       "      <td>Grassland</td>\n",
       "    </tr>\n",
       "    <tr>\n",
       "      <th>2</th>\n",
       "      <td>G-30</td>\n",
       "      <td>6.1e-01</td>\n",
       "      <td>1.7e-01</td>\n",
       "      <td>Grassland</td>\n",
       "    </tr>\n",
       "    <tr>\n",
       "      <th>3</th>\n",
       "      <td>A-0</td>\n",
       "      <td>6.0e-01</td>\n",
       "      <td>2.7e-01</td>\n",
       "      <td>Cropland</td>\n",
       "    </tr>\n",
       "    <tr>\n",
       "      <th>4</th>\n",
       "      <td>A-7</td>\n",
       "      <td>6.4e-01</td>\n",
       "      <td>2.2e-01</td>\n",
       "      <td>Cropland</td>\n",
       "    </tr>\n",
       "    <tr>\n",
       "      <th>5</th>\n",
       "      <td>A-30</td>\n",
       "      <td>6.9e-01</td>\n",
       "      <td>1.4e-01</td>\n",
       "      <td>Cropland</td>\n",
       "    </tr>\n",
       "    <tr>\n",
       "      <th>6</th>\n",
       "      <td>G-F-0</td>\n",
       "      <td>5.8e-01</td>\n",
       "      <td>2.9e-01</td>\n",
       "      <td>Grassland</td>\n",
       "    </tr>\n",
       "    <tr>\n",
       "      <th>7</th>\n",
       "      <td>A-F-0</td>\n",
       "      <td>6.1e-01</td>\n",
       "      <td>2.4e-01</td>\n",
       "      <td>Cropland</td>\n",
       "    </tr>\n",
       "  </tbody>\n",
       "</table>\n",
       "</div>"
      ],
      "text/plain": [
       "    Site   Fungi  Protists    Habitat\n",
       "0    G-0 7.0e-01   1.9e-01  Grassland\n",
       "1    G-7 5.3e-01   2.9e-01  Grassland\n",
       "2   G-30 6.1e-01   1.7e-01  Grassland\n",
       "3    A-0 6.0e-01   2.7e-01   Cropland\n",
       "4    A-7 6.4e-01   2.2e-01   Cropland\n",
       "5   A-30 6.9e-01   1.4e-01   Cropland\n",
       "6  G-F-0 5.8e-01   2.9e-01  Grassland\n",
       "7  A-F-0 6.1e-01   2.4e-01   Cropland"
      ]
     },
     "execution_count": 19,
     "metadata": {},
     "output_type": "execute_result"
    }
   ],
   "source": [
    "# Load the data from Chen et al.\n",
    "chen_data = pd.read_excel('terrestrial_protist_data.xlsx', 'Chen',skiprows=1)\n",
    "chen_data"
   ]
  },
  {
   "cell_type": "markdown",
   "metadata": {},
   "source": [
    "We first calculate the geometric mean of the values in Chen et al.:"
   ]
  },
  {
   "cell_type": "code",
   "execution_count": 20,
   "metadata": {
    "collapsed": true
   },
   "outputs": [],
   "source": [
    "chen_mean = frac_mean(chen_data.groupby('Habitat')['Protists'].apply(frac_mean))"
   ]
  },
  {
   "cell_type": "markdown",
   "metadata": {},
   "source": [
    "As our best estimate for the fraction of protists out of the population of soil eukaryotes we use the geometric mean of the value from Chen et al. and the value reported in Tedersoo et al. of ≈6%:"
   ]
  },
  {
   "cell_type": "code",
   "execution_count": 22,
   "metadata": {},
   "outputs": [
    {
     "name": "stdout",
     "output_type": "stream",
     "text": [
      "Our best estimate for the fraction ofsoil protists out of the total population of soil eukaryotes based on 18S rDNA sequencing data is ≈12 percent\n"
     ]
    }
   ],
   "source": [
    "# The fraction of protists out of the population of soil eukaryotes reported in Tedersoo et al.\n",
    "tedersoo_frac = 0.06\n",
    "\n",
    "# Calculate our best estimate for the fraction of soil protists\n",
    "rDNA_frac = frac_mean(np.array([chen_mean,tedersoo_frac]))\n",
    "\n",
    "print('Our best estimate for the fraction of soil protists out of the total population of soil eukaryotes based on 18S rDNA sequencing data is ≈%.0f percent' %(rDNA_frac*100))"
   ]
  },
  {
   "cell_type": "markdown",
   "metadata": {},
   "source": [
    "### 18S rRNA sequencing\n",
    "To estimate the total biomass of soil protists from 18S rRNA sequencing data, we calculate the fraction of protists out of the total population of soil eukaryotes based on data from beech and spruce forests ([Damon et al.](http://dx.doi.org/10.1371/journal.pone.0028967)). Below is a sample of the data:"
   ]
  },
  {
   "cell_type": "code",
   "execution_count": 23,
   "metadata": {},
   "outputs": [
    {
     "data": {
      "text/html": [
       "<div>\n",
       "<style scoped>\n",
       "    .dataframe tbody tr th:only-of-type {\n",
       "        vertical-align: middle;\n",
       "    }\n",
       "\n",
       "    .dataframe tbody tr th {\n",
       "        vertical-align: top;\n",
       "    }\n",
       "\n",
       "    .dataframe thead th {\n",
       "        text-align: right;\n",
       "    }\n",
       "</style>\n",
       "<table border=\"1\" class=\"dataframe\">\n",
       "  <thead>\n",
       "    <tr style=\"text-align: right;\">\n",
       "      <th></th>\n",
       "      <th>Sample</th>\n",
       "      <th>Fraction of protists</th>\n",
       "      <th>Method</th>\n",
       "    </tr>\n",
       "  </thead>\n",
       "  <tbody>\n",
       "    <tr>\n",
       "      <th>0</th>\n",
       "      <td>Beech 1A</td>\n",
       "      <td>1.2e-01</td>\n",
       "      <td>18S rRNA</td>\n",
       "    </tr>\n",
       "    <tr>\n",
       "      <th>3</th>\n",
       "      <td>Beech 1B</td>\n",
       "      <td>1.2e-01</td>\n",
       "      <td>18S rRNA</td>\n",
       "    </tr>\n",
       "    <tr>\n",
       "      <th>6</th>\n",
       "      <td>Spruce 1A</td>\n",
       "      <td>1.2e-01</td>\n",
       "      <td>18S rRNA</td>\n",
       "    </tr>\n",
       "    <tr>\n",
       "      <th>9</th>\n",
       "      <td>Spruce 1B</td>\n",
       "      <td>1.2e-01</td>\n",
       "      <td>18S rRNA</td>\n",
       "    </tr>\n",
       "  </tbody>\n",
       "</table>\n",
       "</div>"
      ],
      "text/plain": [
       "      Sample  Fraction of protists    Method\n",
       "0   Beech 1A               1.2e-01  18S rRNA\n",
       "3   Beech 1B               1.2e-01  18S rRNA\n",
       "6  Spruce 1A               1.2e-01  18S rRNA\n",
       "9  Spruce 1B               1.2e-01  18S rRNA"
      ]
     },
     "execution_count": 23,
     "metadata": {},
     "output_type": "execute_result"
    }
   ],
   "source": [
    "# Load the data from Damon et al.\n",
    "damon_data = pd.read_excel('terrestrial_protist_data.xlsx', 'Damon', skiprows=1)\n",
    "\n",
    "# Use the data based on 18S rRNA sequencing\n",
    "rRNA_data = damon_data[damon_data['Method'] == '18S rRNA']\n",
    "rRNA_data"
   ]
  },
  {
   "cell_type": "markdown",
   "metadata": {},
   "source": [
    "We calculate the geometric mean of the values from Damon et al. as our best estimate for the fraction of protists out of the total population of soil eukaryotes:"
   ]
  },
  {
   "cell_type": "code",
   "execution_count": 25,
   "metadata": {},
   "outputs": [
    {
     "name": "stdout",
     "output_type": "stream",
     "text": [
      "Our best estimate for the fraction ofsoil protists out of the total population of soil eukaryotes based on 18S rRNA sequencing data is ≈12 percent\n"
     ]
    }
   ],
   "source": [
    "# Calculate the geometric mean of the values from Damon et al.\n",
    "rRNA_frac = frac_mean(rRNA_data['Fraction of protists'])\n",
    "\n",
    "print('Our best estimate for the fraction of soil protists out of the total population of soil eukaryotes based on 18S rRNA sequencing data is ≈%.0f percent' %(rRNA_frac*100))"
   ]
  },
  {
   "cell_type": "markdown",
   "metadata": {},
   "source": [
    "### Metatranscriptomics\n",
    "To estimate the total biomass of soil protists from metatranscriptomics data, we calculate the fraction of protists out of the total population of soil eukaryotes based on data from beech and spruce forests ([Damon et al.](http://dx.doi.org/10.1371/journal.pone.0028967)). Below is a sample of the data:"
   ]
  },
  {
   "cell_type": "code",
   "execution_count": 26,
   "metadata": {},
   "outputs": [
    {
     "data": {
      "text/html": [
       "<div>\n",
       "<style scoped>\n",
       "    .dataframe tbody tr th:only-of-type {\n",
       "        vertical-align: middle;\n",
       "    }\n",
       "\n",
       "    .dataframe tbody tr th {\n",
       "        vertical-align: top;\n",
       "    }\n",
       "\n",
       "    .dataframe thead th {\n",
       "        text-align: right;\n",
       "    }\n",
       "</style>\n",
       "<table border=\"1\" class=\"dataframe\">\n",
       "  <thead>\n",
       "    <tr style=\"text-align: right;\">\n",
       "      <th></th>\n",
       "      <th>Sample</th>\n",
       "      <th>Fraction of protists</th>\n",
       "      <th>Method</th>\n",
       "    </tr>\n",
       "  </thead>\n",
       "  <tbody>\n",
       "    <tr>\n",
       "      <th>1</th>\n",
       "      <td>Beech 2A</td>\n",
       "      <td>3.6e-02</td>\n",
       "      <td>Metatranscriptomics</td>\n",
       "    </tr>\n",
       "    <tr>\n",
       "      <th>2</th>\n",
       "      <td>Beech 3A</td>\n",
       "      <td>3.8e-02</td>\n",
       "      <td>Metatranscriptomics</td>\n",
       "    </tr>\n",
       "    <tr>\n",
       "      <th>4</th>\n",
       "      <td>Beech 2B</td>\n",
       "      <td>5.2e-02</td>\n",
       "      <td>Metatranscriptomics</td>\n",
       "    </tr>\n",
       "    <tr>\n",
       "      <th>5</th>\n",
       "      <td>Beech 3B</td>\n",
       "      <td>3.6e-02</td>\n",
       "      <td>Metatranscriptomics</td>\n",
       "    </tr>\n",
       "    <tr>\n",
       "      <th>7</th>\n",
       "      <td>Spruce 2A</td>\n",
       "      <td>2.9e-02</td>\n",
       "      <td>Metatranscriptomics</td>\n",
       "    </tr>\n",
       "    <tr>\n",
       "      <th>8</th>\n",
       "      <td>Spruce 3A</td>\n",
       "      <td>2.6e-02</td>\n",
       "      <td>Metatranscriptomics</td>\n",
       "    </tr>\n",
       "    <tr>\n",
       "      <th>10</th>\n",
       "      <td>Spruce 2B</td>\n",
       "      <td>4.3e-02</td>\n",
       "      <td>Metatranscriptomics</td>\n",
       "    </tr>\n",
       "    <tr>\n",
       "      <th>11</th>\n",
       "      <td>Spruce 3B</td>\n",
       "      <td>3.4e-02</td>\n",
       "      <td>Metatranscriptomics</td>\n",
       "    </tr>\n",
       "  </tbody>\n",
       "</table>\n",
       "</div>"
      ],
      "text/plain": [
       "       Sample  Fraction of protists               Method\n",
       "1    Beech 2A               3.6e-02  Metatranscriptomics\n",
       "2    Beech 3A               3.8e-02  Metatranscriptomics\n",
       "4    Beech 2B               5.2e-02  Metatranscriptomics\n",
       "5    Beech 3B               3.6e-02  Metatranscriptomics\n",
       "7   Spruce 2A               2.9e-02  Metatranscriptomics\n",
       "8   Spruce 3A               2.6e-02  Metatranscriptomics\n",
       "10  Spruce 2B               4.3e-02  Metatranscriptomics\n",
       "11  Spruce 3B               3.4e-02  Metatranscriptomics"
      ]
     },
     "execution_count": 26,
     "metadata": {},
     "output_type": "execute_result"
    }
   ],
   "source": [
    "# Use the data based on 18S rRNA sequencing\n",
    "meta_trans_data = damon_data[damon_data['Method'] == 'Metatranscriptomics']\n",
    "meta_trans_data"
   ]
  },
  {
   "cell_type": "markdown",
   "metadata": {},
   "source": [
    "We calculate the geometric mean of the values from Damon et al. as our best estimate for the fraction of protists out of the total population of soil eukaryotes."
   ]
  },
  {
   "cell_type": "code",
   "execution_count": 27,
   "metadata": {},
   "outputs": [
    {
     "name": "stdout",
     "output_type": "stream",
     "text": [
      "Our best estimate for the fraction of soil protists out of the total population of soil eukaryotes based on metatranscriptomics data is ≈4 percent\n"
     ]
    }
   ],
   "source": [
    "# Calculate the geometric mean of the values from Damon et al.\n",
    "meta_trans_frac = frac_mean(meta_trans_data['Fraction of protists'])\n",
    "\n",
    "\n",
    "print('Our best estimate for the fraction of soil protists out of the total population of soil eukaryotes based on metatranscriptomics data is ≈%.0f percent' %(meta_trans_frac*100))"
   ]
  },
  {
   "cell_type": "markdown",
   "metadata": {},
   "source": [
    "### Metagenomics\n",
    "To estimate the total biomass of soil protists from metatranscriptomics data, we calculate the fraction of protists out of the total population of soil eukaryotes based on data from beech and spruce forests ([Damon et al.](http://dx.doi.org/10.1371/journal.pone.0028967)). Below is a sample of the data:"
   ]
  },
  {
   "cell_type": "code",
   "execution_count": null,
   "metadata": {
    "collapsed": true
   },
   "outputs": [],
   "source": []
  },
  {
   "cell_type": "markdown",
   "metadata": {},
   "source": [
    "As our best estimate for the biomass of soil protists, we use the geometric mean of the five estimates we generated from the five differnt methodologies:"
   ]
  },
  {
   "cell_type": "code",
   "execution_count": null,
   "metadata": {},
   "outputs": [],
   "source": [
    "# Calculate the geometric mean of the five different estimates we generated\n",
    "best_estimate = gmean([method1_estimate,method2_estimate,method3_estimate,method4_estimate,method5_estimate])\n",
    "\n",
    "print('Our best estimate for the biomass of terrestrial protists is ≈%.1f Gt C' %(best_estimate/1e15))"
   ]
  },
  {
   "cell_type": "markdown",
   "metadata": {},
   "source": [
    "# Uncertainty analysis\n",
    "To assess the uncertainty associated with our estimate of the total biomass of terrestrial protists, we collect available uncertainties for the values reported within studies, between studies using the same method, and between methods. We use the highest uncertainty out of this collection of uncertainties as our best projection for the uncertainty associated wi the estimate of the total biomass of terrestrial protists.\n",
    "\n",
    "## Intra-study uncertainty\n",
    "For each study which reports more than one value, we calculate 95% confidence interval of the geometric mean of those values.\n",
    "\n",
    "### Direct biomass measurement"
   ]
  },
  {
   "cell_type": "code",
   "execution_count": null,
   "metadata": {},
   "outputs": [],
   "source": [
    "# Calculate the 95% confidence interval geometric mean for each study\n",
    "biomass_study_CI = data.groupby('Reference')['Biomass density [g C m^-2]'].apply(geo_CI_calc)\n",
    "biomass_study_CI"
   ]
  },
  {
   "cell_type": "markdown",
   "metadata": {},
   "source": [
    "### Carbon content and number of individuals\n",
    "We calculate the intra-study 95% confience interval around the estimate of the total number of protists per gram of soil from Adl & Coleman:"
   ]
  },
  {
   "cell_type": "code",
   "execution_count": null,
   "metadata": {},
   "outputs": [],
   "source": [
    "ac_CI = ac_data[['Small flagellates','Large flagellates','Gymnamoebae', 'Ciliates']].apply(geo_CI_calc)\n",
    "ac_CI"
   ]
  },
  {
   "cell_type": "markdown",
   "metadata": {},
   "source": [
    "### 18S rDNA sequencing\n",
    "We calculate the 95% confidence interval for the geometric mean of the values from Chen et al.:"
   ]
  },
  {
   "cell_type": "code",
   "execution_count": null,
   "metadata": {},
   "outputs": [],
   "source": [
    "print('The intra-study uncertainty of the value from Chen et al. is ≈%.1f-fold' %frac_CI(chen_data['Protists']))"
   ]
  },
  {
   "cell_type": "markdown",
   "metadata": {},
   "source": [
    "### 18S rRNA sequencing"
   ]
  },
  {
   "cell_type": "code",
   "execution_count": null,
   "metadata": {},
   "outputs": [],
   "source": [
    "print('The intra-study uncertainty associated with the fraction of protists based on 18S rRNA sequencing data of Damon et al. is ≈%.2f-fold' %frac_CI(rRNA_data['Fraction of protists']))"
   ]
  },
  {
   "cell_type": "markdown",
   "metadata": {},
   "source": [
    "### 18S rRNA sequencing"
   ]
  },
  {
   "cell_type": "code",
   "execution_count": null,
   "metadata": {},
   "outputs": [],
   "source": [
    "print('The intra-study uncertainty associated with the fraction of protists based on metatranscriptomics data of Damon et al. is ≈%.1f-fold' %frac_CI(meta_trans_data['Fraction of protists']))"
   ]
  },
  {
   "cell_type": "markdown",
   "metadata": {},
   "source": [
    "## Intra-methd uncertainty\n",
    "For each method that relies on more than one study, we calculate the 95% confidence interval of the geometric mean of the values from the different studies. The methods which are based on more than one study are the direct biomass measurement-based method, the carbon content and number of individual based method and the 18S rDNA sequencing-based method.\n",
    "\n",
    "### Direct biomass measurement\n",
    "To calculate our best estimate for the biomass of terrestrial protists based on direct biomass density measurements, we first calculated the geometric mean of values from the same habitat, generating characteristic values for each habitat.We then calculate the geomteric mean of the characteristic values for each habitat. \n",
    "\n",
    "As a measure of the interstudy uncertainty associated with the estimate based on direct biomass density measurements, we first calculate the 95% confidence interval of the characteristic values for each habitat, and then calculate the 95% confidence invertval around the geometric mean of the characteristic values from each habiat\n",
    "\n",
    "#### Uncertainty within habitats"
   ]
  },
  {
   "cell_type": "code",
   "execution_count": null,
   "metadata": {},
   "outputs": [],
   "source": [
    "biomass_intra_habitat_CI = data.groupby('Habitat')['Biomass density [g C m^-2]'].apply(geo_CI_calc)\n",
    "print('The interstudy uncertainty for studies within the same habitat:')\n",
    "biomass_intra_habitat_CI"
   ]
  },
  {
   "cell_type": "markdown",
   "metadata": {},
   "source": [
    "#### Uncertainty between habitats"
   ]
  },
  {
   "cell_type": "code",
   "execution_count": null,
   "metadata": {},
   "outputs": [],
   "source": [
    "biomass_inter_habitat_CI = geo_CI_calc(habitat_mean)\n",
    "print('The 95 percent confidence interval of the geometric mean of the characteristic biomass densities from each habitat is ≈%.1f-fold' %biomass_inter_habitat_CI)"
   ]
  },
  {
   "cell_type": "markdown",
   "metadata": {},
   "source": [
    "### Carbon content and number of individuals\n",
    "As a measure of the interstudy uncertainty associated with the estimate of the biomass of terrestrial protists based on the characteristic carbon content of soil protists and the density of number of individuals per unit area, we first calculate the interstudy uncertainty for the characteristic carbon content of each type of protist:\n",
    "\n",
    "#### Carbon content of groups of protists\n",
    "For each group of protists, we calculate the 95% confidence interval around our estimate of the characteristic carbon content of single protists from that group. For flagellates, we rely only on a single source, and thus for the estimate of the carbon content of flagellates we are not able to project an uncertainty."
   ]
  },
  {
   "cell_type": "code",
   "execution_count": null,
   "metadata": {},
   "outputs": [],
   "source": [
    "# Calculate the interstudy 95% confidence interval around the estimate of the carbon content of each group\n",
    "ciliate_cc_CI = geo_CI_calc([ff_carbon_content['Ciliate'],persson_data.loc[0]['Mean body dry weight [g]']/2])\n",
    "naked_amoebae_cc_CI = geo_CI_calc([ff_carbon_content['Naked amoebae'],persson_data.loc[2]['Mean body dry weight [g]']/2,schaefer_cc.loc['Naked amoebae']])\n",
    "testate_amoebae_cc_CI = geo_CI_calc([ff_carbon_content['Testate amoebae'],schaefer_cc.loc['Testate amoebae']])"
   ]
  },
  {
   "cell_type": "markdown",
   "metadata": {},
   "source": [
    "Next, we calculate the interstudy uncertainty uncertainty associated with the estimate of the total number of individual protists per gram of soil:\n",
    "\n",
    "#### Number of individuals of \n",
    "For each group of protists, we calculate the 95% confidence interval around our estimate of the density of number of individuals from that group per unit area. For flagellates and testate amoebae, we rely only on a single source, and thus we are not able to project an uncertainty."
   ]
  },
  {
   "cell_type": "code",
   "execution_count": null,
   "metadata": {
    "collapsed": true
   },
   "outputs": [],
   "source": [
    "# Calculate the interstudy 95% confidence interval around the estimate of the number of individuals\n",
    "# per gram of soil for each group\n",
    "ciliate_abun_CI = geo_CI_calc([ac_mean['Ciliates'], ff_mean['Ciliate']])\n",
    "naked_amoebae_abund_CI = geo_CI_calc([ac_mean['Gymnamoebae'],ff_mean['Naked amoebae']])"
   ]
  },
  {
   "cell_type": "markdown",
   "metadata": {},
   "source": [
    "We propagate the uncertainties associated with the carbon content and number of individuals per gram soil for each group into our final estimate of the biomass of soil protists. In cases we could not calculate the uncertainty associated with the estimate, we use the mean of the uncertainties from the other groups."
   ]
  },
  {
   "cell_type": "code",
   "execution_count": null,
   "metadata": {},
   "outputs": [],
   "source": [
    "# Calculate the average uncertainty associated with the estimate of the carbon content \n",
    "# and number of individuals per gram of soil\n",
    "average_cc_CI = np.mean([ciliate_cc_CI,naked_amoebae_cc_CI, testate_amoebae_cc_CI])\n",
    "average_abund_CI = np.mean([ciliate_abun_CI,naked_amoebae_abund_CI])\n",
    "\n",
    "# Propagate the uncertainty in the carbon content and number of individuals for each group\n",
    "# For cased where no uncertainty projection is available, use the average uncertainty calculate\n",
    "# above\n",
    "ciliate_CI = CI_prod_prop(np.array([ciliate_cc_CI, ciliate_abun_CI]))\n",
    "naked_amoebae_CI = CI_prod_prop(np.array([naked_amoebae_cc_CI,naked_amoebae_abund_CI]))\n",
    "flagellate_CI = CI_prod_prop(np.array([average_cc_CI,average_abund_CI]))\n",
    "testate_amoebae_CI = CI_prod_prop(np.array([testate_amoebae_cc_CI,average_abund_CI]))\n",
    "\n",
    "# Propagate the uncertainties for each group to the total estimate of the biomass of soil protists\n",
    "method2_inter_CI = CI_sum_prop(estimates= (carbon_content['Carbon content [g C]']*abund_mean['Abundance [# g^-1]']), \n",
    "                               mul_CIs=np.array([ciliate_CI,flagellate_CI,naked_amoebae_CI,flagellate_CI,testate_amoebae_CI]))\n",
    "print('Our best projection for the interstudy uncertainty associated with the estimate of the total biomass of soil protists based on estimates of carbon content and number of individuals is ≈%.0f-fold' % method2_inter_CI)"
   ]
  },
  {
   "cell_type": "markdown",
   "metadata": {},
   "source": [
    "### 18S-rDNA sequencing\n",
    "Our estimate of the biomass of soil protists based on 18S rDNA sequencing relies on data from two studies (Tedersoo et al. and Chen et al.). We calculate the 95% confidence interval around the geometric mean of values from the two studies as our best projection of the interstudy uncertainty associated with the estimate of the total biomass of terrestrial protists based on 18S rDNA sequencing."
   ]
  },
  {
   "cell_type": "code",
   "execution_count": null,
   "metadata": {},
   "outputs": [],
   "source": [
    "# Calculate the 95% confidence interval around the estimate for the fraction of soil protists\n",
    "rDNA_frac_CI = frac_CI(np.array([chen_mean,tedersoo_frac]))\n",
    "\n",
    "print('Our best projection for the interstudy uncertainty associated with the estimate of the total biomass of soil protists based on 18S rDNA sequencing is ≈%.0f-fold' % rDNA_frac_CI)"
   ]
  },
  {
   "cell_type": "markdown",
   "metadata": {},
   "source": [
    "## Inter-method uncertainty\n",
    "As our best estimate of the total biomass of soil protists we use the geometric mean of the estimates from the five independent methods. As a measure of the uncertainty associated with the geometric mean of estimates from different methods, we calculate the 95% confidence interval around the geometric mean of the estimates.\n",
    "\n",
    "Because we are less confident in our estimates based on molecular techmiques, we first calculate the geometric mean of the estimates based on the three molecular techniques, and then calculate the 95% confidence interval of the geometric mean of the estimates from the first two methods and the mean of the estimates based on molecular techniques:"
   ]
  },
  {
   "cell_type": "code",
   "execution_count": null,
   "metadata": {},
   "outputs": [],
   "source": [
    "# Calculate the geometric mean of estimates based on molecular techniques\n",
    "mol_estimate = gmean([method3_estimate,method4_estimate,method5_estimate])\n",
    "\n",
    "# Calculate the 95% confidence interval around the geometric mean of values from \n",
    "# the two estimates based on direct measurements and the mean value from molecular\n",
    "# techniques\n",
    "inter_method_CI = geo_CI_calc(np.array([method1_estimate,method2_estimate,mol_estimate]))\n",
    "\n",
    "print('Our best projection for the inter-method uncertainty associated with the estimate of the total biomass of soil protists is ≈%.0f-fold' % inter_method_CI)"
   ]
  },
  {
   "cell_type": "markdown",
   "metadata": {},
   "source": [
    "As our best projection for the uncertainty associated with the estimate of the total biomass of soil protists, we use the highest uncertainty out of the collection of uncetainties we generated at the various levels (intra-study, interstudy, and inter-method):"
   ]
  },
  {
   "cell_type": "code",
   "execution_count": null,
   "metadata": {},
   "outputs": [],
   "source": [
    "mul_CI = np.max([np.max(biomass_study_CI),\n",
    "                 np.max(ac_CI),\n",
    "                 frac_CI(chen_data['Protists']),\n",
    "                 frac_CI(meta_trans_data['Fraction of protists']),\n",
    "                 np.max(biomass_intra_habitat_CI),\n",
    "                 biomass_inter_habitat_CI,\n",
    "                 method2_inter_CI,\n",
    "                 rDNA_frac_CI,\n",
    "                 inter_method_CI])\n",
    "\n",
    "print('Our best projection for the uncertainty associated with the estimate of the total biomass of soil protists is ≈%.0f-fold' % mul_CI)\n"
   ]
  }
 ],
 "metadata": {
  "kernelspec": {
   "display_name": "Python 3",
   "language": "python",
   "name": "python3"
  },
  "language_info": {
   "codemirror_mode": {
    "name": "ipython",
    "version": 3
   },
   "file_extension": ".py",
   "mimetype": "text/x-python",
   "name": "python",
   "nbconvert_exporter": "python",
   "pygments_lexer": "ipython3",
   "version": "3.5.2"
  }
 },
 "nbformat": 4,
 "nbformat_minor": 2
}
