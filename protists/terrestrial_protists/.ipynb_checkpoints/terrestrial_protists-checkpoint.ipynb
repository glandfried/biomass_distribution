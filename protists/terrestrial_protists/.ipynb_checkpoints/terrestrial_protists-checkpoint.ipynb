{
 "cells": [
  {
   "cell_type": "code",
   "execution_count": 1,
   "metadata": {
    "collapsed": true
   },
   "outputs": [],
   "source": [
    "# Load dependencies\n",
    "import pandas as pd\n",
    "import numpy as np\n",
    "import gdal\n",
    "from scipy.stats import gmean\n",
    "import sys\n",
    "sys.path.insert(0,'../../statistics_helper/')\n",
    "from fraction_helper import *\n",
    "from CI_helper import *\n",
    "from excel_utils import *\n",
    "pd.options.display.float_format = '{:,.1e}'.format"
   ]
  },
  {
   "cell_type": "markdown",
   "metadata": {},
   "source": [
    "# Estimating the total biomass of terrestrial protists\n",
    "After searching the literature, we could not find a comprehensive account of the biomass of protists in soils. We generated a crude estimate of the total biomass of protists in soil based on estimating the total number of individual protists in the soil, and on the characteristic carbon content of a single protist.\n",
    "\n",
    "In order to calculate the total biomass of soil protists we calculate a characteristic number of individual protists for each one of the morphological groups of protists (flagellates, ciliates, and naked and testate ameobae). We combine these estimates with estimates for the carbon content of each morphological group.\n",
    "\n",
    "## Number of protists\n",
    "To estimate the total number of protists, we assembled data on the number of protists in soils which contains 160 measurements from 42 independent studies. Here is a sample of the data:"
   ]
  },
  {
   "cell_type": "code",
   "execution_count": 2,
   "metadata": {},
   "outputs": [
    {
     "data": {
      "text/html": [
       "<div>\n",
       "<style scoped>\n",
       "    .dataframe tbody tr th:only-of-type {\n",
       "        vertical-align: middle;\n",
       "    }\n",
       "\n",
       "    .dataframe tbody tr th {\n",
       "        vertical-align: top;\n",
       "    }\n",
       "\n",
       "    .dataframe thead th {\n",
       "        text-align: right;\n",
       "    }\n",
       "</style>\n",
       "<table border=\"1\" class=\"dataframe\">\n",
       "  <thead>\n",
       "    <tr style=\"text-align: right;\">\n",
       "      <th></th>\n",
       "      <th>Reference</th>\n",
       "      <th>DOI</th>\n",
       "      <th>Habitat</th>\n",
       "      <th>Site</th>\n",
       "      <th>Number of naked amoebae [# g^-1]</th>\n",
       "      <th>Number of ciliates [# g^-1]</th>\n",
       "      <th>Number of testate amoebae [# g^-1]</th>\n",
       "      <th>Number of flagellates [# g^-1]</th>\n",
       "      <th>Remarks</th>\n",
       "      <th>Sampling Depth [cm]</th>\n",
       "    </tr>\n",
       "  </thead>\n",
       "  <tbody>\n",
       "    <tr>\n",
       "      <th>0</th>\n",
       "      <td>Robinson et al.</td>\n",
       "      <td>http://dx.doi.org/10.1111/j.1550-7408.2002.tb0...</td>\n",
       "      <td>Desert</td>\n",
       "      <td>Australia</td>\n",
       "      <td>6.1e+03</td>\n",
       "      <td>1.5e+02</td>\n",
       "      <td>4.9e+03</td>\n",
       "      <td>nan</td>\n",
       "      <td>Samples from termite mound dropped, taken from...</td>\n",
       "      <td>nan</td>\n",
       "    </tr>\n",
       "    <tr>\n",
       "      <th>1</th>\n",
       "      <td>Robinson et al.</td>\n",
       "      <td>http://dx.doi.org/10.1111/j.1550-7408.2002.tb0...</td>\n",
       "      <td>Desert</td>\n",
       "      <td>Australia</td>\n",
       "      <td>1.3e+04</td>\n",
       "      <td>1.5e+02</td>\n",
       "      <td>2.7e+03</td>\n",
       "      <td>nan</td>\n",
       "      <td>Samples from termite mound dropped, taken from...</td>\n",
       "      <td>nan</td>\n",
       "    </tr>\n",
       "    <tr>\n",
       "      <th>2</th>\n",
       "      <td>Robinson et al.</td>\n",
       "      <td>http://dx.doi.org/10.1111/j.1550-7408.2002.tb0...</td>\n",
       "      <td>Desert</td>\n",
       "      <td>Australia</td>\n",
       "      <td>4.3e+03</td>\n",
       "      <td>6.0e+01</td>\n",
       "      <td>2.3e+03</td>\n",
       "      <td>nan</td>\n",
       "      <td>Samples from termite mound dropped, taken from...</td>\n",
       "      <td>nan</td>\n",
       "    </tr>\n",
       "    <tr>\n",
       "      <th>3</th>\n",
       "      <td>Robinson et al.</td>\n",
       "      <td>http://dx.doi.org/10.1111/j.1550-7408.2002.tb0...</td>\n",
       "      <td>Desert</td>\n",
       "      <td>Australia</td>\n",
       "      <td>3.0e+04</td>\n",
       "      <td>2.7e+02</td>\n",
       "      <td>2.2e+03</td>\n",
       "      <td>nan</td>\n",
       "      <td>Samples from termite mound dropped, taken from...</td>\n",
       "      <td>nan</td>\n",
       "    </tr>\n",
       "    <tr>\n",
       "      <th>4</th>\n",
       "      <td>Robinson et al.</td>\n",
       "      <td>http://dx.doi.org/10.1111/j.1550-7408.2002.tb0...</td>\n",
       "      <td>Desert</td>\n",
       "      <td>Australia</td>\n",
       "      <td>4.0e+03</td>\n",
       "      <td>3.8e+02</td>\n",
       "      <td>4.0e+03</td>\n",
       "      <td>nan</td>\n",
       "      <td>Samples from termite mound dropped, taken from...</td>\n",
       "      <td>nan</td>\n",
       "    </tr>\n",
       "  </tbody>\n",
       "</table>\n",
       "</div>"
      ],
      "text/plain": [
       "         Reference                                                DOI Habitat  \\\n",
       "0  Robinson et al.  http://dx.doi.org/10.1111/j.1550-7408.2002.tb0...  Desert   \n",
       "1  Robinson et al.  http://dx.doi.org/10.1111/j.1550-7408.2002.tb0...  Desert   \n",
       "2  Robinson et al.  http://dx.doi.org/10.1111/j.1550-7408.2002.tb0...  Desert   \n",
       "3  Robinson et al.  http://dx.doi.org/10.1111/j.1550-7408.2002.tb0...  Desert   \n",
       "4  Robinson et al.  http://dx.doi.org/10.1111/j.1550-7408.2002.tb0...  Desert   \n",
       "\n",
       "        Site  Number of naked amoebae [# g^-1]  Number of ciliates [# g^-1]  \\\n",
       "0  Australia                           6.1e+03                      1.5e+02   \n",
       "1  Australia                           1.3e+04                      1.5e+02   \n",
       "2  Australia                           4.3e+03                      6.0e+01   \n",
       "3  Australia                           3.0e+04                      2.7e+02   \n",
       "4  Australia                           4.0e+03                      3.8e+02   \n",
       "\n",
       "   Number of testate amoebae [# g^-1]  Number of flagellates [# g^-1]  \\\n",
       "0                             4.9e+03                             nan   \n",
       "1                             2.7e+03                             nan   \n",
       "2                             2.3e+03                             nan   \n",
       "3                             2.2e+03                             nan   \n",
       "4                             4.0e+03                             nan   \n",
       "\n",
       "                                             Remarks  Sampling Depth [cm]  \n",
       "0  Samples from termite mound dropped, taken from...                  nan  \n",
       "1  Samples from termite mound dropped, taken from...                  nan  \n",
       "2  Samples from termite mound dropped, taken from...                  nan  \n",
       "3  Samples from termite mound dropped, taken from...                  nan  \n",
       "4  Samples from termite mound dropped, taken from...                  nan  "
      ]
     },
     "execution_count": 2,
     "metadata": {},
     "output_type": "execute_result"
    }
   ],
   "source": [
    "# Load data\n",
    "data = pd.read_excel('terrestrial_protist_data.xlsx','Density of Individuals')\n",
    "data.head()"
   ]
  },
  {
   "cell_type": "markdown",
   "metadata": {},
   "source": [
    "To estimate the total number of protists, we group our samples to different habitats and to the study in which they were taken. We calculate the characteristic number of each of the groups of protists per gram of soil. To do this we first derive a representative value for each study in case there was more than one measurement done in it. We calculate the representative value for each study in each habitat. Then we calculate the average of different representative values from different studies within the same habitat. We calculate the averages either by using the arithmetic mean or the geometric mean."
   ]
  },
  {
   "cell_type": "code",
   "execution_count": 3,
   "metadata": {},
   "outputs": [
    {
     "name": "stderr",
     "output_type": "stream",
     "text": [
      "/usr/local/lib/python3.5/dist-packages/scipy/stats/stats.py:315: RuntimeWarning: Mean of empty slice.\n",
      "  return np.exp(log_a.mean(axis=axis))\n",
      "/usr/local/lib/python3.5/dist-packages/numpy/core/_methods.py:80: RuntimeWarning: invalid value encountered in double_scalars\n",
      "  ret = ret.dtype.type(ret / rcount)\n",
      "/usr/local/lib/python3.5/dist-packages/ipykernel_launcher.py:10: RuntimeWarning: Mean of empty slice\n",
      "  # Remove the CWD from sys.path while we load stuff.\n",
      "/usr/local/lib/python3.5/dist-packages/ipykernel_launcher.py:11: RuntimeWarning: Mean of empty slice\n",
      "  # This is added back by InteractiveShellApp.init_path()\n",
      "/usr/local/lib/python3.5/dist-packages/ipykernel_launcher.py:13: RuntimeWarning: Mean of empty slice\n",
      "  del sys.path[0]\n",
      "/usr/local/lib/python3.5/dist-packages/ipykernel_launcher.py:12: RuntimeWarning: Mean of empty slice\n",
      "  if sys.path[0] == '':\n"
     ]
    }
   ],
   "source": [
    "# Define the function to calculate the geometric mean of number of each group of protists per gram\n",
    "def groupby_gmean(input):\n",
    "    return pd.DataFrame({'Number of ciliates [# g^-1]': gmean(input['Number of ciliates [# g^-1]'].dropna()),\n",
    "                        'Number of naked amoebae [# g^-1]': gmean(input['Number of naked amoebae [# g^-1]'].dropna()),\n",
    "                        'Number of testate amoebae [# g^-1]': gmean(input['Number of testate amoebae [# g^-1]'].dropna()),\n",
    "                        'Number of flagellates [# g^-1]': gmean(input['Number of flagellates [# g^-1]'].dropna())},index=[0])\n",
    "\n",
    "# Define the function to calculate the arithmetic mean of number of each group of protists per gram\n",
    "def groupby_mean(input):\n",
    "    return pd.DataFrame({'Number of ciliates [# g^-1]': np.nanmean(input['Number of ciliates [# g^-1]'].dropna()),\n",
    "                        'Number of naked amoebae [# g^-1]': np.nanmean(input['Number of naked amoebae [# g^-1]'].dropna()),\n",
    "                        'Number of testate amoebae [# g^-1]': np.nanmean(input['Number of testate amoebae [# g^-1]'].dropna()),\n",
    "                        'Number of flagellates [# g^-1]': np.nanmean(input['Number of flagellates [# g^-1]'].dropna())},index=[0])\n",
    "\n",
    "# Group the samples by habitat and study, and calculate the geometric mean\n",
    "grouped_data_gmean = data.groupby(['Habitat','DOI']).apply(groupby_gmean)\n",
    "\n",
    "# Group the samples by habitat and study, and calculate the arithmetic mean\n",
    "grouped_data_mean = data.groupby(['Habitat','DOI']).apply(groupby_mean)\n",
    "\n",
    "# Group the representative values by habitat, and calculate the geometric mean\n",
    "habitat_gmean = grouped_data_gmean.groupby('Habitat').apply(groupby_gmean)\n",
    "\n",
    "# Group the representative values by habitat, and calculate the arithmetic mean\n",
    "habitat_mean = grouped_data_mean.groupby('Habitat').apply(groupby_mean)\n",
    "\n",
    "habitat_gmean.set_index(habitat_gmean.index.droplevel(1),inplace=True)\n",
    "habitat_mean.set_index(habitat_mean.index.droplevel(1),inplace=True)"
   ]
  },
  {
   "cell_type": "markdown",
   "metadata": {},
   "source": [
    "Here is the calculated geometric mean number of cells per gram for each habitat and each group of protists:"
   ]
  },
  {
   "cell_type": "code",
   "execution_count": 4,
   "metadata": {},
   "outputs": [
    {
     "data": {
      "text/html": [
       "<div>\n",
       "<style scoped>\n",
       "    .dataframe tbody tr th:only-of-type {\n",
       "        vertical-align: middle;\n",
       "    }\n",
       "\n",
       "    .dataframe tbody tr th {\n",
       "        vertical-align: top;\n",
       "    }\n",
       "\n",
       "    .dataframe thead th {\n",
       "        text-align: right;\n",
       "    }\n",
       "</style>\n",
       "<table border=\"1\" class=\"dataframe\">\n",
       "  <thead>\n",
       "    <tr style=\"text-align: right;\">\n",
       "      <th></th>\n",
       "      <th>Number of ciliates [# g^-1]</th>\n",
       "      <th>Number of flagellates [# g^-1]</th>\n",
       "      <th>Number of naked amoebae [# g^-1]</th>\n",
       "      <th>Number of testate amoebae [# g^-1]</th>\n",
       "    </tr>\n",
       "    <tr>\n",
       "      <th>Habitat</th>\n",
       "      <th></th>\n",
       "      <th></th>\n",
       "      <th></th>\n",
       "      <th></th>\n",
       "    </tr>\n",
       "  </thead>\n",
       "  <tbody>\n",
       "    <tr>\n",
       "      <th>Boreal Forest</th>\n",
       "      <td>nan</td>\n",
       "      <td>nan</td>\n",
       "      <td>nan</td>\n",
       "      <td>9.2e+02</td>\n",
       "    </tr>\n",
       "    <tr>\n",
       "      <th>Cropland</th>\n",
       "      <td>2.5e+02</td>\n",
       "      <td>3.6e+03</td>\n",
       "      <td>6.2e+03</td>\n",
       "      <td>6.7e+02</td>\n",
       "    </tr>\n",
       "    <tr>\n",
       "      <th>Desert</th>\n",
       "      <td>1.6e+02</td>\n",
       "      <td>nan</td>\n",
       "      <td>8.9e+03</td>\n",
       "      <td>3.3e+03</td>\n",
       "    </tr>\n",
       "    <tr>\n",
       "      <th>Forest</th>\n",
       "      <td>4.3e+01</td>\n",
       "      <td>nan</td>\n",
       "      <td>nan</td>\n",
       "      <td>8.2e+03</td>\n",
       "    </tr>\n",
       "    <tr>\n",
       "      <th>General</th>\n",
       "      <td>nan</td>\n",
       "      <td>1.0e+06</td>\n",
       "      <td>1.0e+05</td>\n",
       "      <td>nan</td>\n",
       "    </tr>\n",
       "    <tr>\n",
       "      <th>Grassland</th>\n",
       "      <td>4.8e+02</td>\n",
       "      <td>4.2e+04</td>\n",
       "      <td>1.8e+04</td>\n",
       "      <td>3.4e+03</td>\n",
       "    </tr>\n",
       "    <tr>\n",
       "      <th>Shrubland</th>\n",
       "      <td>7.2e+01</td>\n",
       "      <td>nan</td>\n",
       "      <td>nan</td>\n",
       "      <td>9.6e+03</td>\n",
       "    </tr>\n",
       "    <tr>\n",
       "      <th>Temperate Forest</th>\n",
       "      <td>3.9e+02</td>\n",
       "      <td>1.8e+05</td>\n",
       "      <td>8.2e+04</td>\n",
       "      <td>1.4e+04</td>\n",
       "    </tr>\n",
       "    <tr>\n",
       "      <th>Tropical Forest</th>\n",
       "      <td>nan</td>\n",
       "      <td>nan</td>\n",
       "      <td>nan</td>\n",
       "      <td>4.2e+04</td>\n",
       "    </tr>\n",
       "    <tr>\n",
       "      <th>Tundra</th>\n",
       "      <td>4.2e+01</td>\n",
       "      <td>1.1e+06</td>\n",
       "      <td>nan</td>\n",
       "      <td>1.3e+03</td>\n",
       "    </tr>\n",
       "    <tr>\n",
       "      <th>Woodland</th>\n",
       "      <td>2.6e+02</td>\n",
       "      <td>nan</td>\n",
       "      <td>nan</td>\n",
       "      <td>1.8e+04</td>\n",
       "    </tr>\n",
       "  </tbody>\n",
       "</table>\n",
       "</div>"
      ],
      "text/plain": [
       "                  Number of ciliates [# g^-1]  Number of flagellates [# g^-1]  \\\n",
       "Habitat                                                                         \n",
       "Boreal Forest                             nan                             nan   \n",
       "Cropland                              2.5e+02                         3.6e+03   \n",
       "Desert                                1.6e+02                             nan   \n",
       "Forest                                4.3e+01                             nan   \n",
       "General                                   nan                         1.0e+06   \n",
       "Grassland                             4.8e+02                         4.2e+04   \n",
       "Shrubland                             7.2e+01                             nan   \n",
       "Temperate Forest                      3.9e+02                         1.8e+05   \n",
       "Tropical Forest                           nan                             nan   \n",
       "Tundra                                4.2e+01                         1.1e+06   \n",
       "Woodland                              2.6e+02                             nan   \n",
       "\n",
       "                  Number of naked amoebae [# g^-1]  \\\n",
       "Habitat                                              \n",
       "Boreal Forest                                  nan   \n",
       "Cropland                                   6.2e+03   \n",
       "Desert                                     8.9e+03   \n",
       "Forest                                         nan   \n",
       "General                                    1.0e+05   \n",
       "Grassland                                  1.8e+04   \n",
       "Shrubland                                      nan   \n",
       "Temperate Forest                           8.2e+04   \n",
       "Tropical Forest                                nan   \n",
       "Tundra                                         nan   \n",
       "Woodland                                       nan   \n",
       "\n",
       "                  Number of testate amoebae [# g^-1]  \n",
       "Habitat                                               \n",
       "Boreal Forest                                9.2e+02  \n",
       "Cropland                                     6.7e+02  \n",
       "Desert                                       3.3e+03  \n",
       "Forest                                       8.2e+03  \n",
       "General                                          nan  \n",
       "Grassland                                    3.4e+03  \n",
       "Shrubland                                    9.6e+03  \n",
       "Temperate Forest                             1.4e+04  \n",
       "Tropical Forest                              4.2e+04  \n",
       "Tundra                                       1.3e+03  \n",
       "Woodland                                     1.8e+04  "
      ]
     },
     "execution_count": 4,
     "metadata": {},
     "output_type": "execute_result"
    }
   ],
   "source": [
    "habitat_gmean"
   ]
  },
  {
   "cell_type": "markdown",
   "metadata": {},
   "source": [
    "For some groups, not all habitats have values. We fill values for missing data by the following scheme. For missing values in the boreal forest biome, we use values from the temperate forest biome. If we have data for the group of protists from the \"General\" habitat, which is based on expert assessment of the characteristic number of individuals for that group per gram of soil, we fill the missing values with the value for the \"General\" habitat.\n",
    "\n",
    "The only other missing data was for ciliates in tropical forests and tundra. For tropical forest, we used the values from temperate forests. For tundra, we use the mean over all the different habitats to fill the value:"
   ]
  },
  {
   "cell_type": "code",
   "execution_count": 5,
   "metadata": {},
   "outputs": [
    {
     "data": {
      "text/html": [
       "<div>\n",
       "<style scoped>\n",
       "    .dataframe tbody tr th:only-of-type {\n",
       "        vertical-align: middle;\n",
       "    }\n",
       "\n",
       "    .dataframe tbody tr th {\n",
       "        vertical-align: top;\n",
       "    }\n",
       "\n",
       "    .dataframe thead th {\n",
       "        text-align: right;\n",
       "    }\n",
       "</style>\n",
       "<table border=\"1\" class=\"dataframe\">\n",
       "  <thead>\n",
       "    <tr style=\"text-align: right;\">\n",
       "      <th></th>\n",
       "      <th>Number of ciliates [# g^-1]</th>\n",
       "      <th>Number of flagellates [# g^-1]</th>\n",
       "      <th>Number of naked amoebae [# g^-1]</th>\n",
       "      <th>Number of testate amoebae [# g^-1]</th>\n",
       "    </tr>\n",
       "    <tr>\n",
       "      <th>Habitat</th>\n",
       "      <th></th>\n",
       "      <th></th>\n",
       "      <th></th>\n",
       "      <th></th>\n",
       "    </tr>\n",
       "  </thead>\n",
       "  <tbody>\n",
       "    <tr>\n",
       "      <th>Boreal Forest</th>\n",
       "      <td>3.9e+02</td>\n",
       "      <td>1.8e+05</td>\n",
       "      <td>8.2e+04</td>\n",
       "      <td>9.2e+02</td>\n",
       "    </tr>\n",
       "    <tr>\n",
       "      <th>Cropland</th>\n",
       "      <td>2.5e+02</td>\n",
       "      <td>3.6e+03</td>\n",
       "      <td>6.2e+03</td>\n",
       "      <td>6.7e+02</td>\n",
       "    </tr>\n",
       "    <tr>\n",
       "      <th>Desert</th>\n",
       "      <td>1.6e+02</td>\n",
       "      <td>1.0e+06</td>\n",
       "      <td>8.9e+03</td>\n",
       "      <td>3.3e+03</td>\n",
       "    </tr>\n",
       "    <tr>\n",
       "      <th>Forest</th>\n",
       "      <td>4.3e+01</td>\n",
       "      <td>nan</td>\n",
       "      <td>nan</td>\n",
       "      <td>8.2e+03</td>\n",
       "    </tr>\n",
       "    <tr>\n",
       "      <th>General</th>\n",
       "      <td>nan</td>\n",
       "      <td>1.0e+06</td>\n",
       "      <td>1.0e+05</td>\n",
       "      <td>nan</td>\n",
       "    </tr>\n",
       "    <tr>\n",
       "      <th>Grassland</th>\n",
       "      <td>4.8e+02</td>\n",
       "      <td>1.0e+06</td>\n",
       "      <td>1.8e+04</td>\n",
       "      <td>3.4e+03</td>\n",
       "    </tr>\n",
       "    <tr>\n",
       "      <th>Shrubland</th>\n",
       "      <td>7.2e+01</td>\n",
       "      <td>1.0e+06</td>\n",
       "      <td>1.0e+05</td>\n",
       "      <td>9.6e+03</td>\n",
       "    </tr>\n",
       "    <tr>\n",
       "      <th>Temperate Forest</th>\n",
       "      <td>3.9e+02</td>\n",
       "      <td>1.8e+05</td>\n",
       "      <td>8.2e+04</td>\n",
       "      <td>1.4e+04</td>\n",
       "    </tr>\n",
       "    <tr>\n",
       "      <th>Tropical Forest</th>\n",
       "      <td>3.9e+02</td>\n",
       "      <td>1.0e+06</td>\n",
       "      <td>1.0e+05</td>\n",
       "      <td>4.2e+04</td>\n",
       "    </tr>\n",
       "    <tr>\n",
       "      <th>Tundra</th>\n",
       "      <td>3.7e+02</td>\n",
       "      <td>1.1e+06</td>\n",
       "      <td>1.0e+05</td>\n",
       "      <td>1.3e+03</td>\n",
       "    </tr>\n",
       "    <tr>\n",
       "      <th>Woodland</th>\n",
       "      <td>2.6e+02</td>\n",
       "      <td>1.0e+06</td>\n",
       "      <td>1.0e+05</td>\n",
       "      <td>1.8e+04</td>\n",
       "    </tr>\n",
       "  </tbody>\n",
       "</table>\n",
       "</div>"
      ],
      "text/plain": [
       "                  Number of ciliates [# g^-1]  Number of flagellates [# g^-1]  \\\n",
       "Habitat                                                                         \n",
       "Boreal Forest                         3.9e+02                         1.8e+05   \n",
       "Cropland                              2.5e+02                         3.6e+03   \n",
       "Desert                                1.6e+02                         1.0e+06   \n",
       "Forest                                4.3e+01                             nan   \n",
       "General                                   nan                         1.0e+06   \n",
       "Grassland                             4.8e+02                         1.0e+06   \n",
       "Shrubland                             7.2e+01                         1.0e+06   \n",
       "Temperate Forest                      3.9e+02                         1.8e+05   \n",
       "Tropical Forest                       3.9e+02                         1.0e+06   \n",
       "Tundra                                3.7e+02                         1.1e+06   \n",
       "Woodland                              2.6e+02                         1.0e+06   \n",
       "\n",
       "                  Number of naked amoebae [# g^-1]  \\\n",
       "Habitat                                              \n",
       "Boreal Forest                              8.2e+04   \n",
       "Cropland                                   6.2e+03   \n",
       "Desert                                     8.9e+03   \n",
       "Forest                                         nan   \n",
       "General                                    1.0e+05   \n",
       "Grassland                                  1.8e+04   \n",
       "Shrubland                                  1.0e+05   \n",
       "Temperate Forest                           8.2e+04   \n",
       "Tropical Forest                            1.0e+05   \n",
       "Tundra                                     1.0e+05   \n",
       "Woodland                                   1.0e+05   \n",
       "\n",
       "                  Number of testate amoebae [# g^-1]  \n",
       "Habitat                                               \n",
       "Boreal Forest                                9.2e+02  \n",
       "Cropland                                     6.7e+02  \n",
       "Desert                                       3.3e+03  \n",
       "Forest                                       8.2e+03  \n",
       "General                                          nan  \n",
       "Grassland                                    3.4e+03  \n",
       "Shrubland                                    9.6e+03  \n",
       "Temperate Forest                             1.4e+04  \n",
       "Tropical Forest                              4.2e+04  \n",
       "Tundra                                       1.3e+03  \n",
       "Woodland                                     1.8e+04  "
      ]
     },
     "execution_count": 5,
     "metadata": {},
     "output_type": "execute_result"
    }
   ],
   "source": [
    "# Fill missing values for boreal forests\n",
    "habitat_mean.loc['Boreal Forest',['Number of ciliates [# g^-1]','Number of flagellates [# g^-1]','Number of naked amoebae [# g^-1]']] = habitat_mean.loc['Temperate Forest',['Number of ciliates [# g^-1]','Number of flagellates [# g^-1]','Number of naked amoebae [# g^-1]']]\n",
    "habitat_gmean.loc['Boreal Forest',['Number of ciliates [# g^-1]','Number of flagellates [# g^-1]','Number of naked amoebae [# g^-1]']] = habitat_gmean.loc['Temperate Forest',['Number of ciliates [# g^-1]','Number of flagellates [# g^-1]','Number of naked amoebae [# g^-1]']]\n",
    "\n",
    "# Fill missing values for naked amoebae\n",
    "habitat_mean.loc[['Shrubland','Tropical Forest','Tundra','Woodland'],'Number of naked amoebae [# g^-1]'] = habitat_mean.loc['General','Number of naked amoebae [# g^-1]']\n",
    "habitat_gmean.loc[['Shrubland','Tropical Forest','Tundra','Woodland'],'Number of naked amoebae [# g^-1]'] = habitat_gmean.loc['General','Number of naked amoebae [# g^-1]']\n",
    "\n",
    "# Fill missing values for flagellates\n",
    "habitat_gmean.loc[['Desert','Grassland','Shrubland','Tropical Forest','Woodland'],'Number of flagellates [# g^-1]'] = habitat_gmean.loc['General','Number of flagellates [# g^-1]']\n",
    "habitat_mean.loc[['Desert','Grassland','Shrubland','Tropical Forest','Woodland'],'Number of flagellates [# g^-1]'] = habitat_mean.loc['General','Number of flagellates [# g^-1]']\n",
    "\n",
    "# Fill missing values for ciliates\n",
    "habitat_gmean.loc['Tropical Forest','Number of ciliates [# g^-1]'] = habitat_gmean.loc['Temperate Forest','Number of ciliates [# g^-1]']\n",
    "habitat_mean.loc['Tropical Forest','Number of ciliates [# g^-1]'] = habitat_mean.loc['Temperate Forest','Number of ciliates [# g^-1]']\n",
    "habitat_gmean.loc['Tundra','Number of ciliates [# g^-1]'] = gmean(habitat_mean['Number of ciliates [# g^-1]'].dropna())\n",
    "habitat_mean.loc['Tundra','Number of ciliates [# g^-1]'] = habitat_mean['Number of ciliates [# g^-1]'].dropna().mean()\n",
    "habitat_gmean"
   ]
  },
  {
   "cell_type": "markdown",
   "metadata": {},
   "source": [
    "We have estimates for the total number of individual protists per gram of soil. In order to calculate the total number of individual protists we need to first convert the data to number of individuals per $m^2$. To convert number of individuals per gram of soil to number of individuals per $m^2$, we calculate a global average soil density in the top 15 cm based on [Hengl et al.](https://dx.doi.org/10.1371%2Fjournal.pone.0105992).\n"
   ]
  },
  {
   "cell_type": "code",
   "execution_count": 6,
   "metadata": {},
   "outputs": [
    {
     "name": "stdout",
     "output_type": "stream",
     "text": [
      "Our best estimate for the global mean bulk density of soil in the top 15 cm is ≈1.2e+06 g m^3\n"
     ]
    }
   ],
   "source": [
    "# Load soil density map from Hengl et al. (in the top 15 cm, reduced in resolution to 1 degree resolution)\n",
    "gtif = gdal.Open('bulk_density_data.tif')\n",
    "bulk_density_map = np.array(gtif.GetRasterBand(1).ReadAsArray())\n",
    "\n",
    "# Fill missing values with NaN\n",
    "bulk_density_map[bulk_density_map == bulk_density_map[0,1]] = np.nan\n",
    "# Mean soil bulk density from Hengl et al. [in g per m^3]\n",
    "bulk_density = np.nanmean(bulk_density_map[:])*1000\n",
    "print('Our best estimate for the global mean bulk density of soil in the top 15 cm is ≈%.1e g m^3' %bulk_density)"
   ]
  },
  {
   "cell_type": "markdown",
   "metadata": {},
   "source": [
    "Measuring the density of individuals per gram of soil does not take into account the distribution on biomass along the soil profile. Most of the measurements of the number of individual protists per gram of soil are done in shallow soil depths. We calculate the average sampling depth across studies:"
   ]
  },
  {
   "cell_type": "code",
   "execution_count": 7,
   "metadata": {},
   "outputs": [
    {
     "name": "stdout",
     "output_type": "stream",
     "text": [
      "The average sampling depth of soil protists is ≈8 cm\n"
     ]
    }
   ],
   "source": [
    "# Calculate the average sampling depth \n",
    "sampling_depth = data.groupby('DOI').mean().mean()['Sampling Depth [cm]']\n",
    "\n",
    "print('The average sampling depth of soil protists is ≈%.0f cm' %sampling_depth)"
   ]
  },
  {
   "cell_type": "markdown",
   "metadata": {},
   "source": [
    "It is not obvious what is the fraction of the total biomass of soil protists that is found in the top 8 cm of soil. To estimate the fraction of the biomass of soil protists found in the top 8 cm, we rely on two methodologies. The first is based on the distribution of microbial biomass with depth as discussed in Xu et al. Xu et al. extrapolate the microbial biomass across the soil profile based on empirical equations for the distribution of root biomass along soil depth from [Jackson et al.](http://dx.doi.org/10.1007/BF00333714). The empirical equations are biome-specific, and follow the general form: $$Y = 1-\\beta^d$$ Where Y is the cumulative fraction of roots, d is depth in centimeters, and $\\beta$ is a coefficient fitted for each biome. On a global scale, the best fit for $\\beta$ as reported in Jackson et al., is ≈0.966. We use this coefficient to calculate the fraction of total biomass of soil protists found in the top 8 cm: "
   ]
  },
  {
   "cell_type": "code",
   "execution_count": 8,
   "metadata": {},
   "outputs": [
    {
     "name": "stdout",
     "output_type": "stream",
     "text": [
      "Our estimate for the fraction of biomass of soil protists found in soil layers sampled, based on Jackson et al. is ≈23 percent\n"
     ]
    }
   ],
   "source": [
    "# The beta coefficient from Jackson et al.\n",
    "jackson_beta = 0.966\n",
    "\n",
    "# Calculate the fraction of the biomass of soil protists found in the top 8 cm\n",
    "jackson_fraction = 1 - jackson_beta** sampling_depth\n",
    "\n",
    "print('Our estimate for the fraction of biomass of soil protists found in soil layers sampled, based on Jackson et al. is ≈%.0f percent' %(jackson_fraction*100))"
   ]
  },
  {
   "cell_type": "markdown",
   "metadata": {},
   "source": [
    "As a second estimate for the fraction of the total biomass of soil protists found in the top 8 cm, we rely on an empirical equation from [Fierer et al.](http://dx.doi.org/10.1111/j.1461-0248.2009.01360.x), which estimates the  fraction microbial biomass found below sampling depth d:\n",
    "$$ f = [-0.132×ln(d) + 0.605]×B$$\n",
    "Where f is the fraction microbial biomass found below sampling depth d (in cm). We use this equation to calculate the fraction of the total biomass of soil protists found in the top 8 cm:\n"
   ]
  },
  {
   "cell_type": "code",
   "execution_count": 9,
   "metadata": {},
   "outputs": [
    {
     "name": "stdout",
     "output_type": "stream",
     "text": [
      "Our estimate for the fraction of biomass of soil protists found in soil layers sampled, based on Fierer et al. is ≈66 percent\n"
     ]
    }
   ],
   "source": [
    "# The fraction of microbial biomass found in layer shallower than depth x based on Fierer et al.\n",
    "fierer_eq = lambda x: 1-(-0.132*np.log(x)+0.605)\n",
    "fierer_frac = fierer_eq(sampling_depth)\n",
    "print('Our estimate for the fraction of biomass of soil protists found in soil layers sampled, based on Fierer et al. is ≈%.0f percent' %(fierer_frac*100))"
   ]
  },
  {
   "cell_type": "markdown",
   "metadata": {},
   "source": [
    "As our best estimate for the fraction of the total biomass of soil protists found in layers shallower than 8 cm, we use the geometric mean of the estimates based on Jackson et al. and Fierer et al.:"
   ]
  },
  {
   "cell_type": "code",
   "execution_count": 10,
   "metadata": {},
   "outputs": [
    {
     "name": "stdout",
     "output_type": "stream",
     "text": [
      "Our best estimate for the fraction of biomass of soil protists found in soil layers sampled is ≈44 percent\n"
     ]
    }
   ],
   "source": [
    "best_depth_frac = frac_mean(np.array([jackson_fraction,fierer_frac]))\n",
    "print('Our best estimate for the fraction of biomass of soil protists found in soil layers sampled is ≈%.0f percent' %(best_depth_frac*100))"
   ]
  },
  {
   "cell_type": "markdown",
   "metadata": {},
   "source": [
    "To convert the measurements per gram of soil to number of individuals per $m^2$, we calculate the average sampling depth across studies. We calculate the volume of soil held within this sampling depth. We use the bulk density to calculate the total weight of soil within one $m^2$ of soil with depth equal to the sampling depth. We multiply the estimates per gram of soil by the total weight of soil per $m^2$. To account for biomass present in lower layers, we divide the total number of individual protists per $m^2$ by our best estimate for the fraction of the total biomass of soil protists found in layer shallower than 8 cm."
   ]
  },
  {
   "cell_type": "code",
   "execution_count": 11,
   "metadata": {
    "collapsed": true
   },
   "outputs": [],
   "source": [
    "# convert number of individuals per gram soil to number of individuals per m^2\n",
    "habitat_per_m2_gmean = (habitat_gmean*bulk_density*sampling_depth/100/best_depth_frac)\n",
    "habitat_per_m2_mean = (habitat_mean*bulk_density*sampling_depth/100/best_depth_frac)"
   ]
  },
  {
   "cell_type": "markdown",
   "metadata": {},
   "source": [
    "To calculate the total number of protists we multiply the total number of individuals per unit area of each type of protist in each habitat by the total area of each habitat taken from the book [Biogeochemistry: An analysis of Global Change](https://www.sciencedirect.com/science/book/9780123858740) by Schlesinger & Bernhardt. The areas of each habitat are:"
   ]
  },
  {
   "cell_type": "code",
   "execution_count": 12,
   "metadata": {},
   "outputs": [
    {
     "data": {
      "text/html": [
       "<div>\n",
       "<style scoped>\n",
       "    .dataframe tbody tr th:only-of-type {\n",
       "        vertical-align: middle;\n",
       "    }\n",
       "\n",
       "    .dataframe tbody tr th {\n",
       "        vertical-align: top;\n",
       "    }\n",
       "\n",
       "    .dataframe thead th {\n",
       "        text-align: right;\n",
       "    }\n",
       "</style>\n",
       "<table border=\"1\" class=\"dataframe\">\n",
       "  <thead>\n",
       "    <tr style=\"text-align: right;\">\n",
       "      <th></th>\n",
       "      <th>Area [m^2]</th>\n",
       "      <th>Unnamed: 2</th>\n",
       "    </tr>\n",
       "    <tr>\n",
       "      <th>Biome</th>\n",
       "      <th></th>\n",
       "      <th></th>\n",
       "    </tr>\n",
       "  </thead>\n",
       "  <tbody>\n",
       "    <tr>\n",
       "      <th>Boreal Forest</th>\n",
       "      <td>13700000000000</td>\n",
       "      <td>Temperate forest, Tropical rainforest</td>\n",
       "    </tr>\n",
       "    <tr>\n",
       "      <th>Desert</th>\n",
       "      <td>27700000000000</td>\n",
       "      <td>Desert</td>\n",
       "    </tr>\n",
       "    <tr>\n",
       "      <th>Temperate Forest</th>\n",
       "      <td>10400000000000</td>\n",
       "      <td>Temperate forest</td>\n",
       "    </tr>\n",
       "    <tr>\n",
       "      <th>Grassland</th>\n",
       "      <td>15000000000000</td>\n",
       "      <td>Grassland</td>\n",
       "    </tr>\n",
       "    <tr>\n",
       "      <th>Tropical Forest</th>\n",
       "      <td>17500000000000</td>\n",
       "      <td>Tropical rainforest</td>\n",
       "    </tr>\n",
       "    <tr>\n",
       "      <th>Tundra</th>\n",
       "      <td>5600000000000</td>\n",
       "      <td>Tundra</td>\n",
       "    </tr>\n",
       "    <tr>\n",
       "      <th>Tropical Savanna</th>\n",
       "      <td>27700000000000</td>\n",
       "      <td>Scrubland,grassland,Temprate Forest, Tropical ...</td>\n",
       "    </tr>\n",
       "    <tr>\n",
       "      <th>Cropland</th>\n",
       "      <td>15500000000000</td>\n",
       "      <td>Cropland</td>\n",
       "    </tr>\n",
       "  </tbody>\n",
       "</table>\n",
       "</div>"
      ],
      "text/plain": [
       "                      Area [m^2]  \\\n",
       "Biome                              \n",
       "Boreal Forest     13700000000000   \n",
       "Desert            27700000000000   \n",
       "Temperate Forest  10400000000000   \n",
       "Grassland         15000000000000   \n",
       "Tropical Forest   17500000000000   \n",
       "Tundra             5600000000000   \n",
       "Tropical Savanna  27700000000000   \n",
       "Cropland          15500000000000   \n",
       "\n",
       "                                                         Unnamed: 2  \n",
       "Biome                                                                \n",
       "Boreal Forest                 Temperate forest, Tropical rainforest  \n",
       "Desert                                                       Desert  \n",
       "Temperate Forest                                   Temperate forest  \n",
       "Grassland                                                 Grassland  \n",
       "Tropical Forest                                 Tropical rainforest  \n",
       "Tundra                                                       Tundra  \n",
       "Tropical Savanna  Scrubland,grassland,Temprate Forest, Tropical ...  \n",
       "Cropland                                                   Cropland  "
      ]
     },
     "execution_count": 12,
     "metadata": {},
     "output_type": "execute_result"
    }
   ],
   "source": [
    "habitat_area = pd.read_excel('terrestrial_protist_data.xlsx','Biome area', skiprows=1,index_col=0)\n",
    "habitat_area"
   ]
  },
  {
   "cell_type": "markdown",
   "metadata": {},
   "source": [
    "One habitat for which we do not have data is the savanna. We use the mean of the values for the tropical forest, woodland, shrubland and grassland as an estimate of the total biomass in the savanna."
   ]
  },
  {
   "cell_type": "code",
   "execution_count": 13,
   "metadata": {
    "collapsed": true
   },
   "outputs": [],
   "source": [
    "habitat_per_m2_gmean.loc['Tropical Savanna'] = gmean(habitat_per_m2_gmean.loc[['Tropical Forest','Woodland','Shrubland','Grassland']])\n",
    "habitat_per_m2_mean.loc['Tropical Savanna'] = habitat_per_m2_mean.loc[['Tropical Forest','Woodland','Shrubland','Grassland']].mean(axis=0)\n",
    "\n",
    "tot_num_gmean = habitat_per_m2_gmean.mul(habitat_area['Area [m^2]'],axis=0)\n",
    "tot_num_mean = habitat_per_m2_mean.mul(habitat_area['Area [m^2]'],axis=0)"
   ]
  },
  {
   "cell_type": "markdown",
   "metadata": {},
   "source": [
    "We generated two types of estimates for the total number of soil protists: an estimate which uses the arithmetic mean of the number of individuals at each habitat, and an estimate which uses the geometric mean of the number of individuals at each habitat. The estimate based on the arithmetic mean is more susceptible to sampling bias, as even a single measurement which is not characteristic of the global population (such as samples which are contaminated with organic carbon sources, or samples which have some technical biases associated with them) might shift the average concentration significantly. On the other hand, the estimate based on the geometric mean might underestimate global biomass as it will reduce the effect of biologically relevant high biomass concentrations. As a compromise between these two caveats, we chose to use as our best estimate the geometric mean of the estimates from the two methodologies."
   ]
  },
  {
   "cell_type": "code",
   "execution_count": 14,
   "metadata": {
    "collapsed": true
   },
   "outputs": [],
   "source": [
    "tot_num_protist = gmean([tot_num_mean.sum(),tot_num_gmean.sum()])"
   ]
  },
  {
   "cell_type": "markdown",
   "metadata": {},
   "source": [
    "## Carbon content of protists\n",
    "We estimate the characteristic carbon content of a single protist from each of the morphological groups of protists  based on data from several sources. Here is a sample of the data:"
   ]
  },
  {
   "cell_type": "code",
   "execution_count": 15,
   "metadata": {},
   "outputs": [
    {
     "data": {
      "text/html": [
       "<div>\n",
       "<style scoped>\n",
       "    .dataframe tbody tr th:only-of-type {\n",
       "        vertical-align: middle;\n",
       "    }\n",
       "\n",
       "    .dataframe tbody tr th {\n",
       "        vertical-align: top;\n",
       "    }\n",
       "\n",
       "    .dataframe thead th {\n",
       "        text-align: right;\n",
       "    }\n",
       "</style>\n",
       "<table border=\"1\" class=\"dataframe\">\n",
       "  <thead>\n",
       "    <tr style=\"text-align: right;\">\n",
       "      <th></th>\n",
       "      <th>Reference</th>\n",
       "      <th>DOI</th>\n",
       "      <th>Carbon content of naked amoebae [g C cell^-1]</th>\n",
       "      <th>Carbon content of ciliates [g C cell^-1]</th>\n",
       "      <th>Carbon content of testate amoebae [g C cell^-1]</th>\n",
       "      <th>Carbon content of flagellates [g C cell^-1]</th>\n",
       "      <th>Remarks</th>\n",
       "    </tr>\n",
       "  </thead>\n",
       "  <tbody>\n",
       "    <tr>\n",
       "      <th>0</th>\n",
       "      <td>Wanner et al.</td>\n",
       "      <td>http://dx.doi.org/10.1007/s00248-007-9322-2</td>\n",
       "      <td>nan</td>\n",
       "      <td>nan</td>\n",
       "      <td>1.5e-09</td>\n",
       "      <td>nan</td>\n",
       "      <td>Calculated from table 2, assuming 15% carbon c...</td>\n",
       "    </tr>\n",
       "    <tr>\n",
       "      <th>1</th>\n",
       "      <td>Wanner et al.</td>\n",
       "      <td>http://dx.doi.org/10.1007/s00248-007-9322-2</td>\n",
       "      <td>nan</td>\n",
       "      <td>nan</td>\n",
       "      <td>1.1e-09</td>\n",
       "      <td>nan</td>\n",
       "      <td>Calculated from table 2, assuming 15% carbon c...</td>\n",
       "    </tr>\n",
       "    <tr>\n",
       "      <th>2</th>\n",
       "      <td>Wanner et al.</td>\n",
       "      <td>http://dx.doi.org/10.1007/s00248-007-9322-2</td>\n",
       "      <td>nan</td>\n",
       "      <td>nan</td>\n",
       "      <td>2.1e-09</td>\n",
       "      <td>nan</td>\n",
       "      <td>Calculated from table 2, assuming 15% carbon c...</td>\n",
       "    </tr>\n",
       "    <tr>\n",
       "      <th>3</th>\n",
       "      <td>Wanner et al.</td>\n",
       "      <td>http://dx.doi.org/10.1007/s00248-007-9322-2</td>\n",
       "      <td>nan</td>\n",
       "      <td>nan</td>\n",
       "      <td>3.4e-09</td>\n",
       "      <td>nan</td>\n",
       "      <td>Calculated from table 2, assuming 15% carbon c...</td>\n",
       "    </tr>\n",
       "    <tr>\n",
       "      <th>4</th>\n",
       "      <td>Foissner</td>\n",
       "      <td>http://dx.doi.org/10.1016/0167-8809(92)90093-Q</td>\n",
       "      <td>nan</td>\n",
       "      <td>3.8e-09</td>\n",
       "      <td>4.7e-09</td>\n",
       "      <td>nan</td>\n",
       "      <td>Calculated from table 2, assuming 15% carbon c...</td>\n",
       "    </tr>\n",
       "  </tbody>\n",
       "</table>\n",
       "</div>"
      ],
      "text/plain": [
       "       Reference                                             DOI  \\\n",
       "0  Wanner et al.     http://dx.doi.org/10.1007/s00248-007-9322-2   \n",
       "1  Wanner et al.     http://dx.doi.org/10.1007/s00248-007-9322-2   \n",
       "2  Wanner et al.     http://dx.doi.org/10.1007/s00248-007-9322-2   \n",
       "3  Wanner et al.     http://dx.doi.org/10.1007/s00248-007-9322-2   \n",
       "4       Foissner  http://dx.doi.org/10.1016/0167-8809(92)90093-Q   \n",
       "\n",
       "   Carbon content of naked amoebae [g C cell^-1]  \\\n",
       "0                                            nan   \n",
       "1                                            nan   \n",
       "2                                            nan   \n",
       "3                                            nan   \n",
       "4                                            nan   \n",
       "\n",
       "   Carbon content of ciliates [g C cell^-1]  \\\n",
       "0                                       nan   \n",
       "1                                       nan   \n",
       "2                                       nan   \n",
       "3                                       nan   \n",
       "4                                   3.8e-09   \n",
       "\n",
       "   Carbon content of testate amoebae [g C cell^-1]  \\\n",
       "0                                          1.5e-09   \n",
       "1                                          1.1e-09   \n",
       "2                                          2.1e-09   \n",
       "3                                          3.4e-09   \n",
       "4                                          4.7e-09   \n",
       "\n",
       "   Carbon content of flagellates [g C cell^-1]  \\\n",
       "0                                          nan   \n",
       "1                                          nan   \n",
       "2                                          nan   \n",
       "3                                          nan   \n",
       "4                                          nan   \n",
       "\n",
       "                                             Remarks  \n",
       "0  Calculated from table 2, assuming 15% carbon c...  \n",
       "1  Calculated from table 2, assuming 15% carbon c...  \n",
       "2  Calculated from table 2, assuming 15% carbon c...  \n",
       "3  Calculated from table 2, assuming 15% carbon c...  \n",
       "4  Calculated from table 2, assuming 15% carbon c...  "
      ]
     },
     "execution_count": 15,
     "metadata": {},
     "output_type": "execute_result"
    }
   ],
   "source": [
    "cc_data =  pd.read_excel('terrestrial_protist_data.xlsx', 'Carbon content')\n",
    "cc_data.head()"
   ]
  },
  {
   "cell_type": "markdown",
   "metadata": {},
   "source": [
    "We combine this data with an additional source from [Finlay & Fenchel](http://dx.doi.org/10.1078/1434-4610-00060). We calculate the average cell length for each group. "
   ]
  },
  {
   "cell_type": "code",
   "execution_count": 16,
   "metadata": {
    "collapsed": true
   },
   "outputs": [],
   "source": [
    "# Load data from Finlay & Fenchel\n",
    "ff_data = pd.read_excel('terrestrial_protist_data.xlsx', 'Finlay & Fenchel', skiprows=1)\n",
    "\n",
    "# Define the function to calculate the weighted average for each group of protists\n",
    "def weighted_av_groupby(input):\n",
    "    return np.average(input['Length [µm]'],weights=input['Abundance [# g^-1]'])\n",
    "\n",
    "cell_lengths = ff_data.groupby('Protist type').apply(weighted_av_groupby)"
   ]
  },
  {
   "cell_type": "markdown",
   "metadata": {},
   "source": [
    "We convert the cell length to biovolume according the the allometric relation decribed in Figure 10 of Finlay & Fenchel. The relation between cell volume and cell length is given by the equation: \n",
    "$$V = 0.6×L^{2.36}$$\n",
    "Where V is the cell volume in $µm^3$ and L is the cell length in µm."
   ]
  },
  {
   "cell_type": "code",
   "execution_count": 17,
   "metadata": {},
   "outputs": [
    {
     "data": {
      "text/plain": [
       "Protist type\n",
       "Ciliate           5.4e+03\n",
       "Flagellate        1.2e+02\n",
       "Naked amoebae     1.4e+03\n",
       "Testate amoebae   3.6e+03\n",
       "dtype: float64"
      ]
     },
     "execution_count": 17,
     "metadata": {},
     "output_type": "execute_result"
    }
   ],
   "source": [
    "cell_volumes = 0.6*cell_lengths**2.36\n",
    "cell_volumes"
   ]
  },
  {
   "cell_type": "markdown",
   "metadata": {},
   "source": [
    "We convert cell volumes to carbon content assuming ≈150 fg C µm$^3$:"
   ]
  },
  {
   "cell_type": "code",
   "execution_count": 18,
   "metadata": {},
   "outputs": [
    {
     "data": {
      "text/plain": [
       "Protist type\n",
       "Ciliate           8.1e-10\n",
       "Flagellate        1.8e-11\n",
       "Naked amoebae     2.0e-10\n",
       "Testate amoebae   5.5e-10\n",
       "dtype: float64"
      ]
     },
     "execution_count": 18,
     "metadata": {},
     "output_type": "execute_result"
    }
   ],
   "source": [
    "ff_carbon_content = cell_volumes*150e-15\n",
    "pd.options.display.float_format = '{:,.1e}'.format\n",
    "ff_carbon_content"
   ]
  },
  {
   "cell_type": "markdown",
   "metadata": {},
   "source": [
    "We add these numbers as an additional source for calculating the carbon content of protists:"
   ]
  },
  {
   "cell_type": "code",
   "execution_count": 19,
   "metadata": {
    "collapsed": true
   },
   "outputs": [],
   "source": [
    "cc_data.loc[cc_data.index[-1]+1] = pd.Series({'Reference': 'Finlay & Fenchel',\n",
    "                   'DOI': 'http://dx.doi.org/10.1078/1434-4610-00060',\n",
    "                   'Carbon content of ciliates [g C cell^-1]': ff_carbon_content.loc['Ciliate'],\n",
    "                   'Carbon content of naked amoebae [g C cell^-1]': ff_carbon_content.loc['Naked amoebae'],\n",
    "                   'Carbon content of testate amoebae [g C cell^-1]': ff_carbon_content.loc['Testate amoebae'],\n",
    "                   'Carbon content of flagellates [g C cell^-1]': ff_carbon_content.loc['Flagellate']\n",
    "                  })\n"
   ]
  },
  {
   "cell_type": "markdown",
   "metadata": {},
   "source": [
    "We calculate the geometric mean of carbon contents for first for values within each study and then for the average values between studies:"
   ]
  },
  {
   "cell_type": "code",
   "execution_count": 20,
   "metadata": {},
   "outputs": [
    {
     "name": "stderr",
     "output_type": "stream",
     "text": [
      "/usr/local/lib/python3.5/dist-packages/scipy/stats/stats.py:315: RuntimeWarning: Mean of empty slice.\n",
      "  return np.exp(log_a.mean(axis=axis))\n",
      "/usr/local/lib/python3.5/dist-packages/numpy/core/_methods.py:80: RuntimeWarning: invalid value encountered in double_scalars\n",
      "  ret = ret.dtype.type(ret / rcount)\n"
     ]
    }
   ],
   "source": [
    "def groupby_gmean(input):\n",
    "    return pd.DataFrame({'Carbon content of ciliates [g C cell^-1]': gmean(input['Carbon content of ciliates [g C cell^-1]'].dropna()),\n",
    "                        'Carbon content of naked amoebae [g C cell^-1]': gmean(input['Carbon content of naked amoebae [g C cell^-1]'].dropna()),\n",
    "                        'Carbon content of testate amoebae [g C cell^-1]': gmean(input['Carbon content of testate amoebae [g C cell^-1]'].dropna()),\n",
    "                        'Carbon content of flagellates [g C cell^-1]': gmean(input['Carbon content of flagellates [g C cell^-1]'].dropna())},index=[0])\n",
    "\n",
    "\n",
    "study_mean_cc = cc_data.groupby('DOI').apply(groupby_gmean)\n",
    "mean_cc = study_mean_cc.reset_index().groupby('level_1').apply(groupby_gmean)"
   ]
  },
  {
   "cell_type": "code",
   "execution_count": 21,
   "metadata": {},
   "outputs": [
    {
     "data": {
      "text/html": [
       "<div>\n",
       "<style scoped>\n",
       "    .dataframe tbody tr th:only-of-type {\n",
       "        vertical-align: middle;\n",
       "    }\n",
       "\n",
       "    .dataframe tbody tr th {\n",
       "        vertical-align: top;\n",
       "    }\n",
       "\n",
       "    .dataframe thead tr th {\n",
       "        text-align: left;\n",
       "    }\n",
       "</style>\n",
       "<table border=\"1\" class=\"dataframe\">\n",
       "  <thead>\n",
       "    <tr>\n",
       "      <th>level_1</th>\n",
       "      <th>0</th>\n",
       "    </tr>\n",
       "    <tr>\n",
       "      <th></th>\n",
       "      <th>0</th>\n",
       "    </tr>\n",
       "  </thead>\n",
       "  <tbody>\n",
       "    <tr>\n",
       "      <th>Carbon content of ciliates [g C cell^-1]</th>\n",
       "      <td>8.7e-10</td>\n",
       "    </tr>\n",
       "    <tr>\n",
       "      <th>Carbon content of flagellates [g C cell^-1]</th>\n",
       "      <td>2.2e-11</td>\n",
       "    </tr>\n",
       "    <tr>\n",
       "      <th>Carbon content of naked amoebae [g C cell^-1]</th>\n",
       "      <td>2.0e-10</td>\n",
       "    </tr>\n",
       "    <tr>\n",
       "      <th>Carbon content of testate amoebae [g C cell^-1]</th>\n",
       "      <td>1.6e-09</td>\n",
       "    </tr>\n",
       "  </tbody>\n",
       "</table>\n",
       "</div>"
      ],
      "text/plain": [
       "level_1                                               0\n",
       "                                                      0\n",
       "Carbon content of ciliates [g C cell^-1]        8.7e-10\n",
       "Carbon content of flagellates [g C cell^-1]     2.2e-11\n",
       "Carbon content of naked amoebae [g C cell^-1]   2.0e-10\n",
       "Carbon content of testate amoebae [g C cell^-1] 1.6e-09"
      ]
     },
     "execution_count": 21,
     "metadata": {},
     "output_type": "execute_result"
    }
   ],
   "source": [
    "gmean(study_mean_cc['Carbon content of flagellates [g C cell^-1]'].dropna())\n",
    "mean_cc.T"
   ]
  },
  {
   "cell_type": "markdown",
   "metadata": {},
   "source": [
    "To estimate the total biomass of soil protists based on the total number of individuals and their carbon content, we multiply our estimate for the total number of individuals for each morphological type by its characteristic carbon content. We sum over all morophological types of protists to generate our best estimate for the global biomass of soil protists"
   ]
  },
  {
   "cell_type": "code",
   "execution_count": 22,
   "metadata": {},
   "outputs": [
    {
     "name": "stdout",
     "output_type": "stream",
     "text": [
      "Our best estimate of the total biomass of soil protists is ≈1.6 Gt C\n"
     ]
    }
   ],
   "source": [
    "# Calculate the total biomass of protists\n",
    "best_estimate = (tot_num_protist*mean_cc).sum(axis=1)\n",
    "\n",
    "print('Our best estimate of the total biomass of soil protists is ≈%.1f Gt C' %(best_estimate/1e15))"
   ]
  },
  {
   "cell_type": "markdown",
   "metadata": {},
   "source": [
    "# Uncertainty analysis\n",
    "To assess the uncertainty associated with our estimate of the total biomass of terrestrial protists, we collect available uncertainties for the values reported within studies and between studies. We use the highest uncertainty out of this collection of uncertainties as our best projection for the uncertainty associated we the estimate of the total biomass of terrestrial protists.\n",
    "\n",
    "## Number of individuals\n",
    "We assemble different measures of uncertainty at different levels - for values within the same study, for studies within the same habitat, and between habitats.\n",
    "\n",
    "### Intra-study uncertainty\n",
    "For each study which reports more than one value, we calculate 95% confidence interval around the geometric mean of those values. We take the maximal uncertainty in each habitat as our measure of the intra-study uncertainty"
   ]
  },
  {
   "cell_type": "code",
   "execution_count": 23,
   "metadata": {
    "collapsed": true
   },
   "outputs": [],
   "source": [
    "pd.options.display.float_format = '{:,.1f}'.format\n",
    "\n",
    "# Define the function ot calculate the 95% confidence interval around the\n",
    "# geometric mean of number of each group of protists per gram\n",
    "def groupby_geo_CI(input):\n",
    "    return pd.DataFrame({'Number of ciliates [# g^-1]': geo_CI_calc(input['Number of ciliates [# g^-1]'].dropna()),\n",
    "                        'Number of naked amoebae [# g^-1]': geo_CI_calc(input['Number of naked amoebae [# g^-1]'].dropna()),\n",
    "                        'Number of testate amoebae [# g^-1]': geo_CI_calc(input['Number of testate amoebae [# g^-1]'].dropna()),\n",
    "                        'Number of flagellates [# g^-1]': geo_CI_calc(input['Number of flagellates [# g^-1]'].dropna())},index=[0])\n",
    "\n",
    "# Group the samples by habitat and study, and calculate the 95% confidence\n",
    "# interval around the geometric mean of values within each study\n",
    "intra_study_num_CI = data.groupby(['Habitat','DOI']).apply(groupby_geo_CI)\n",
    "\n",
    "# Use the maximal uncertainty in each habitat as a measure of the intra-study uncertainty\n",
    "intra_num_CI = intra_study_num_CI.groupby('Habitat').max()"
   ]
  },
  {
   "cell_type": "markdown",
   "metadata": {},
   "source": [
    "### Interstudy uncertainty\n",
    "We calculate 95% confidence interval around the geometric mean of the average values from different studies."
   ]
  },
  {
   "cell_type": "code",
   "execution_count": 24,
   "metadata": {},
   "outputs": [
    {
     "data": {
      "text/html": [
       "<div>\n",
       "<style scoped>\n",
       "    .dataframe tbody tr th:only-of-type {\n",
       "        vertical-align: middle;\n",
       "    }\n",
       "\n",
       "    .dataframe tbody tr th {\n",
       "        vertical-align: top;\n",
       "    }\n",
       "\n",
       "    .dataframe thead th {\n",
       "        text-align: right;\n",
       "    }\n",
       "</style>\n",
       "<table border=\"1\" class=\"dataframe\">\n",
       "  <thead>\n",
       "    <tr style=\"text-align: right;\">\n",
       "      <th></th>\n",
       "      <th>Number of ciliates [# g^-1]</th>\n",
       "      <th>Number of flagellates [# g^-1]</th>\n",
       "      <th>Number of naked amoebae [# g^-1]</th>\n",
       "      <th>Number of testate amoebae [# g^-1]</th>\n",
       "    </tr>\n",
       "    <tr>\n",
       "      <th>Habitat</th>\n",
       "      <th></th>\n",
       "      <th></th>\n",
       "      <th></th>\n",
       "      <th></th>\n",
       "    </tr>\n",
       "  </thead>\n",
       "  <tbody>\n",
       "    <tr>\n",
       "      <th>Boreal Forest</th>\n",
       "      <td>nan</td>\n",
       "      <td>nan</td>\n",
       "      <td>nan</td>\n",
       "      <td>457.0</td>\n",
       "    </tr>\n",
       "    <tr>\n",
       "      <th>Cropland</th>\n",
       "      <td>3.3</td>\n",
       "      <td>13.1</td>\n",
       "      <td>nan</td>\n",
       "      <td>4.8</td>\n",
       "    </tr>\n",
       "    <tr>\n",
       "      <th>Desert</th>\n",
       "      <td>nan</td>\n",
       "      <td>nan</td>\n",
       "      <td>nan</td>\n",
       "      <td>1.4</td>\n",
       "    </tr>\n",
       "    <tr>\n",
       "      <th>Forest</th>\n",
       "      <td>17.3</td>\n",
       "      <td>nan</td>\n",
       "      <td>nan</td>\n",
       "      <td>4.2</td>\n",
       "    </tr>\n",
       "    <tr>\n",
       "      <th>General</th>\n",
       "      <td>nan</td>\n",
       "      <td>nan</td>\n",
       "      <td>nan</td>\n",
       "      <td>nan</td>\n",
       "    </tr>\n",
       "    <tr>\n",
       "      <th>Grassland</th>\n",
       "      <td>10.4</td>\n",
       "      <td>nan</td>\n",
       "      <td>1.4</td>\n",
       "      <td>2.4</td>\n",
       "    </tr>\n",
       "    <tr>\n",
       "      <th>Shrubland</th>\n",
       "      <td>1.0</td>\n",
       "      <td>nan</td>\n",
       "      <td>nan</td>\n",
       "      <td>nan</td>\n",
       "    </tr>\n",
       "    <tr>\n",
       "      <th>Temperate Forest</th>\n",
       "      <td>2.6</td>\n",
       "      <td>42.2</td>\n",
       "      <td>nan</td>\n",
       "      <td>4.6</td>\n",
       "    </tr>\n",
       "    <tr>\n",
       "      <th>Tropical Forest</th>\n",
       "      <td>nan</td>\n",
       "      <td>nan</td>\n",
       "      <td>nan</td>\n",
       "      <td>nan</td>\n",
       "    </tr>\n",
       "    <tr>\n",
       "      <th>Tundra</th>\n",
       "      <td>2.7</td>\n",
       "      <td>5.1</td>\n",
       "      <td>nan</td>\n",
       "      <td>1.7</td>\n",
       "    </tr>\n",
       "    <tr>\n",
       "      <th>Woodland</th>\n",
       "      <td>1.0</td>\n",
       "      <td>nan</td>\n",
       "      <td>nan</td>\n",
       "      <td>1.0</td>\n",
       "    </tr>\n",
       "  </tbody>\n",
       "</table>\n",
       "</div>"
      ],
      "text/plain": [
       "                  Number of ciliates [# g^-1]  Number of flagellates [# g^-1]  \\\n",
       "Habitat                                                                         \n",
       "Boreal Forest                             nan                             nan   \n",
       "Cropland                                  3.3                            13.1   \n",
       "Desert                                    nan                             nan   \n",
       "Forest                                   17.3                             nan   \n",
       "General                                   nan                             nan   \n",
       "Grassland                                10.4                             nan   \n",
       "Shrubland                                 1.0                             nan   \n",
       "Temperate Forest                          2.6                            42.2   \n",
       "Tropical Forest                           nan                             nan   \n",
       "Tundra                                    2.7                             5.1   \n",
       "Woodland                                  1.0                             nan   \n",
       "\n",
       "                  Number of naked amoebae [# g^-1]  \\\n",
       "Habitat                                              \n",
       "Boreal Forest                                  nan   \n",
       "Cropland                                       nan   \n",
       "Desert                                         nan   \n",
       "Forest                                         nan   \n",
       "General                                        nan   \n",
       "Grassland                                      1.4   \n",
       "Shrubland                                      nan   \n",
       "Temperate Forest                               nan   \n",
       "Tropical Forest                                nan   \n",
       "Tundra                                         nan   \n",
       "Woodland                                       nan   \n",
       "\n",
       "                  Number of testate amoebae [# g^-1]  \n",
       "Habitat                                               \n",
       "Boreal Forest                                  457.0  \n",
       "Cropland                                         4.8  \n",
       "Desert                                           1.4  \n",
       "Forest                                           4.2  \n",
       "General                                          nan  \n",
       "Grassland                                        2.4  \n",
       "Shrubland                                        nan  \n",
       "Temperate Forest                                 4.6  \n",
       "Tropical Forest                                  nan  \n",
       "Tundra                                           1.7  \n",
       "Woodland                                         1.0  "
      ]
     },
     "execution_count": 24,
     "metadata": {},
     "output_type": "execute_result"
    }
   ],
   "source": [
    "# Group the representative values by habitat, and calculate the 95% confidence interval\n",
    "# around the geometric mean of values within habitat\n",
    "inter_study_habitat_num_CI = grouped_data_gmean.groupby('Habitat').apply(groupby_geo_CI)\n",
    "inter_study_habitat_num_CI.set_index(inter_study_habitat_num_CI.index.droplevel(level=1),inplace=True)\n",
    "inter_study_habitat_num_CI\n"
   ]
  },
  {
   "cell_type": "markdown",
   "metadata": {},
   "source": [
    "### Inter-habitat uncertainty\n",
    "We first use the maximum of the intra-study and interstudy uncertainty in each habitat as our best projection for the uncertainty associated with the estimate of the total number of protists in the habitat. For habitats with missing uncertainty projections, we use the geometric mean of the uncertainties for the same group of protists in other habitats."
   ]
  },
  {
   "cell_type": "code",
   "execution_count": 25,
   "metadata": {},
   "outputs": [
    {
     "data": {
      "text/html": [
       "<div>\n",
       "<style scoped>\n",
       "    .dataframe tbody tr th:only-of-type {\n",
       "        vertical-align: middle;\n",
       "    }\n",
       "\n",
       "    .dataframe tbody tr th {\n",
       "        vertical-align: top;\n",
       "    }\n",
       "\n",
       "    .dataframe thead th {\n",
       "        text-align: right;\n",
       "    }\n",
       "</style>\n",
       "<table border=\"1\" class=\"dataframe\">\n",
       "  <thead>\n",
       "    <tr style=\"text-align: right;\">\n",
       "      <th></th>\n",
       "      <th>Number of ciliates [# g^-1]</th>\n",
       "      <th>Number of flagellates [# g^-1]</th>\n",
       "      <th>Number of naked amoebae [# g^-1]</th>\n",
       "      <th>Number of testate amoebae [# g^-1]</th>\n",
       "    </tr>\n",
       "    <tr>\n",
       "      <th>Habitat</th>\n",
       "      <th></th>\n",
       "      <th></th>\n",
       "      <th></th>\n",
       "      <th></th>\n",
       "    </tr>\n",
       "  </thead>\n",
       "  <tbody>\n",
       "    <tr>\n",
       "      <th>Boreal Forest</th>\n",
       "      <td>4.5</td>\n",
       "      <td>14.1</td>\n",
       "      <td>1.5</td>\n",
       "      <td>457.0</td>\n",
       "    </tr>\n",
       "    <tr>\n",
       "      <th>Cropland</th>\n",
       "      <td>19.2</td>\n",
       "      <td>13.1</td>\n",
       "      <td>1.2</td>\n",
       "      <td>4.8</td>\n",
       "    </tr>\n",
       "    <tr>\n",
       "      <th>Desert</th>\n",
       "      <td>1.9</td>\n",
       "      <td>14.1</td>\n",
       "      <td>1.8</td>\n",
       "      <td>1.4</td>\n",
       "    </tr>\n",
       "    <tr>\n",
       "      <th>Forest</th>\n",
       "      <td>17.3</td>\n",
       "      <td>14.1</td>\n",
       "      <td>1.5</td>\n",
       "      <td>4.2</td>\n",
       "    </tr>\n",
       "    <tr>\n",
       "      <th>General</th>\n",
       "      <td>4.5</td>\n",
       "      <td>14.1</td>\n",
       "      <td>1.5</td>\n",
       "      <td>4.2</td>\n",
       "    </tr>\n",
       "    <tr>\n",
       "      <th>Grassland</th>\n",
       "      <td>10.4</td>\n",
       "      <td>14.1</td>\n",
       "      <td>1.4</td>\n",
       "      <td>2.4</td>\n",
       "    </tr>\n",
       "    <tr>\n",
       "      <th>Shrubland</th>\n",
       "      <td>2.1</td>\n",
       "      <td>14.1</td>\n",
       "      <td>1.5</td>\n",
       "      <td>2.6</td>\n",
       "    </tr>\n",
       "    <tr>\n",
       "      <th>Temperate Forest</th>\n",
       "      <td>4.2</td>\n",
       "      <td>42.2</td>\n",
       "      <td>1.8</td>\n",
       "      <td>4.6</td>\n",
       "    </tr>\n",
       "    <tr>\n",
       "      <th>Tropical Forest</th>\n",
       "      <td>4.5</td>\n",
       "      <td>14.1</td>\n",
       "      <td>1.5</td>\n",
       "      <td>1.3</td>\n",
       "    </tr>\n",
       "    <tr>\n",
       "      <th>Tundra</th>\n",
       "      <td>2.7</td>\n",
       "      <td>5.1</td>\n",
       "      <td>1.5</td>\n",
       "      <td>1.7</td>\n",
       "    </tr>\n",
       "    <tr>\n",
       "      <th>Woodland</th>\n",
       "      <td>1.0</td>\n",
       "      <td>14.1</td>\n",
       "      <td>1.5</td>\n",
       "      <td>2.1</td>\n",
       "    </tr>\n",
       "    <tr>\n",
       "      <th>Tropical Savanna</th>\n",
       "      <td>4.5</td>\n",
       "      <td>14.1</td>\n",
       "      <td>1.5</td>\n",
       "      <td>4.2</td>\n",
       "    </tr>\n",
       "  </tbody>\n",
       "</table>\n",
       "</div>"
      ],
      "text/plain": [
       "                  Number of ciliates [# g^-1]  Number of flagellates [# g^-1]  \\\n",
       "Habitat                                                                         \n",
       "Boreal Forest                             4.5                            14.1   \n",
       "Cropland                                 19.2                            13.1   \n",
       "Desert                                    1.9                            14.1   \n",
       "Forest                                   17.3                            14.1   \n",
       "General                                   4.5                            14.1   \n",
       "Grassland                                10.4                            14.1   \n",
       "Shrubland                                 2.1                            14.1   \n",
       "Temperate Forest                          4.2                            42.2   \n",
       "Tropical Forest                           4.5                            14.1   \n",
       "Tundra                                    2.7                             5.1   \n",
       "Woodland                                  1.0                            14.1   \n",
       "Tropical Savanna                          4.5                            14.1   \n",
       "\n",
       "                  Number of naked amoebae [# g^-1]  \\\n",
       "Habitat                                              \n",
       "Boreal Forest                                  1.5   \n",
       "Cropland                                       1.2   \n",
       "Desert                                         1.8   \n",
       "Forest                                         1.5   \n",
       "General                                        1.5   \n",
       "Grassland                                      1.4   \n",
       "Shrubland                                      1.5   \n",
       "Temperate Forest                               1.8   \n",
       "Tropical Forest                                1.5   \n",
       "Tundra                                         1.5   \n",
       "Woodland                                       1.5   \n",
       "Tropical Savanna                               1.5   \n",
       "\n",
       "                  Number of testate amoebae [# g^-1]  \n",
       "Habitat                                               \n",
       "Boreal Forest                                  457.0  \n",
       "Cropland                                         4.8  \n",
       "Desert                                           1.4  \n",
       "Forest                                           4.2  \n",
       "General                                          4.2  \n",
       "Grassland                                        2.4  \n",
       "Shrubland                                        2.6  \n",
       "Temperate Forest                                 4.6  \n",
       "Tropical Forest                                  1.3  \n",
       "Tundra                                           1.7  \n",
       "Woodland                                         2.1  \n",
       "Tropical Savanna                                 4.2  "
      ]
     },
     "execution_count": 25,
     "metadata": {},
     "output_type": "execute_result"
    }
   ],
   "source": [
    "# Use the maximum of the intra-study and interstudy uncertainty as our best projection of the uncertainty \n",
    "# of the number of protists in each habitat\n",
    "tot_num_habitat_CI = inter_study_habitat_num_CI.where(inter_study_habitat_num_CI > intra_num_CI, intra_num_CI).fillna(inter_study_habitat_num_CI)\n",
    "\n",
    "# Fill missing values for each habitat with the geometric mean of the uncertainties for the same group of \n",
    "# protists in the other habitats\n",
    "tot_num_habitat_CI['Number of ciliates [# g^-1]'].fillna(gmean(tot_num_habitat_CI['Number of ciliates [# g^-1]'].dropna()),inplace=True)\n",
    "tot_num_habitat_CI['Number of flagellates [# g^-1]'].fillna(gmean(tot_num_habitat_CI['Number of flagellates [# g^-1]'].dropna()),inplace=True)\n",
    "tot_num_habitat_CI['Number of naked amoebae [# g^-1]'].fillna(gmean(tot_num_habitat_CI['Number of naked amoebae [# g^-1]'].dropna()),inplace=True)\n",
    "tot_num_habitat_CI['Number of testate amoebae [# g^-1]'].fillna(gmean(tot_num_habitat_CI['Number of testate amoebae [# g^-1]'].dropna()),inplace=True)\n",
    "\n",
    "# Fill the uncertainty of the values for the tropical savanna with the geometric mean the uncertainties \n",
    "# for the same group of protists in the other habitats\n",
    "tot_num_habitat_CI.loc['Tropical Savanna'] = gmean(tot_num_habitat_CI)\n",
    "tot_num_habitat_CI\n"
   ]
  },
  {
   "cell_type": "markdown",
   "metadata": {},
   "source": [
    "We propagate the uncertainties associated with the estimates of the total number of protists per gram soil in each habitat to the estimate of the sum across all habitats:"
   ]
  },
  {
   "cell_type": "code",
   "execution_count": 26,
   "metadata": {},
   "outputs": [
    {
     "data": {
      "text/plain": [
       "Number of ciliates [# g^-1]          2.4\n",
       "Number of flagellates [# g^-1]       2.4\n",
       "Number of naked amoebae [# g^-1]     1.2\n",
       "Number of testate amoebae [# g^-1]   2.6\n",
       "dtype: float64"
      ]
     },
     "execution_count": 26,
     "metadata": {},
     "output_type": "execute_result"
    }
   ],
   "source": [
    "tot_num_habitat_CI = tot_num_habitat_CI.loc[tot_num_gmean.dropna().index.values]\n",
    "\n",
    "ciliate_num_per_g_CI = CI_sum_prop(estimates=tot_num_gmean.dropna()['Number of ciliates [# g^-1]'],mul_CIs=tot_num_habitat_CI['Number of ciliates [# g^-1]'])\n",
    "flagellate_num_per_g_CI = CI_sum_prop(estimates=tot_num_gmean.dropna()['Number of ciliates [# g^-1]'],mul_CIs=tot_num_habitat_CI['Number of ciliates [# g^-1]'])\n",
    "naked_amoebea_num_per_g_CI = CI_sum_prop(estimates=tot_num_gmean.dropna()['Number of naked amoebae [# g^-1]'],mul_CIs=tot_num_habitat_CI['Number of naked amoebae [# g^-1]'])\n",
    "testate_amoebea_num_per_g_CI = CI_sum_prop(estimates=tot_num_gmean.dropna()['Number of testate amoebae [# g^-1]'],mul_CIs=tot_num_habitat_CI['Number of testate amoebae [# g^-1]'])\n",
    "num_per_g_CI = pd.Series([ciliate_num_per_g_CI,flagellate_num_per_g_CI,naked_amoebea_num_per_g_CI,testate_amoebea_num_per_g_CI], index= tot_num_habitat_CI.columns)\n",
    "num_per_g_CI\n"
   ]
  },
  {
   "cell_type": "markdown",
   "metadata": {},
   "source": [
    "### Inter-method uncertainty\n",
    "We generated two types of estimates for the total number of individual protists per gram of soil - one based on the arithmetic mean and one based on the geometric mean of values. As our best estimate we used the geometric mean of the arithmetic mean and geometric mean-based estimates. We calculate the 95% confidence interval around the geometric mean of the two types of estimates as a measure of the uncertainty this procedure introduces into the estimate of the total number of protists:"
   ]
  },
  {
   "cell_type": "code",
   "execution_count": 27,
   "metadata": {},
   "outputs": [
    {
     "data": {
      "text/plain": [
       "Number of ciliates [# g^-1]          3.0\n",
       "Number of flagellates [# g^-1]       1.9\n",
       "Number of naked amoebae [# g^-1]     1.2\n",
       "Number of testate amoebae [# g^-1]   1.5\n",
       "dtype: float64"
      ]
     },
     "execution_count": 27,
     "metadata": {},
     "output_type": "execute_result"
    }
   ],
   "source": [
    "inter_method_num_CI = geo_CI_calc(pd.DataFrame([tot_num_mean.sum(),tot_num_gmean.sum()]))\n",
    "inter_method_num_CI"
   ]
  },
  {
   "cell_type": "markdown",
   "metadata": {},
   "source": [
    "We use the maximum of the uncertainty stemming from the intra-study and interstudy variability and the inter-method uncertainty as our best projection of the uncertainty associated with our estimate of the number of individual protists per gram of soil:"
   ]
  },
  {
   "cell_type": "code",
   "execution_count": 28,
   "metadata": {},
   "outputs": [
    {
     "data": {
      "text/plain": [
       "Number of ciliates [# g^-1]          3.0\n",
       "Number of flagellates [# g^-1]       2.4\n",
       "Number of naked amoebae [# g^-1]     1.2\n",
       "Number of testate amoebae [# g^-1]   2.6\n",
       "dtype: float64"
      ]
     },
     "execution_count": 28,
     "metadata": {},
     "output_type": "execute_result"
    }
   ],
   "source": [
    "best_num_CI = np.max([num_per_g_CI,inter_method_num_CI],axis=0)\n",
    "best_num_CI = pd.Series(best_num_CI,index= inter_method_num_CI.index)\n",
    "best_num_CI"
   ]
  },
  {
   "cell_type": "markdown",
   "metadata": {},
   "source": [
    "To convert the total number of individual protists per gram soil to an estimate of the total number of protists per $m^2$, we rely on the bulk density of soil and on an estimate of the fraction of the total biomass of soil protists in the top 8 cm of soil. We now assess the uncertainty associated with each of those parameters.\n",
    "\n",
    "### Bulk density of soil\n",
    "We do not have a good estimate for the uncertainy associated with the bulk density of soils. We thus use a crude uncertainty of ≈2-fold as a measure of the uncertainty associated with the bulk density of soils.\n",
    "\n",
    "### Fraction of biomass of protists in top 8 cm\n",
    "To estimate the fraction of the total biomass of soil protists present in the top 8 cm of soils, we rely on two estimates - one based on data from Jackson et al. and one based on data from Fierer et al. As a measure of the uncertainty associated with the estimate of the fraction of the total biomass of soil protists present in the top 8 cm of soils, we calculate the 95% confidence interval around the geometric mean of the two estmates:"
   ]
  },
  {
   "cell_type": "code",
   "execution_count": 29,
   "metadata": {},
   "outputs": [
    {
     "name": "stdout",
     "output_type": "stream",
     "text": [
      "Our projection for the uncertainty associated with our estimate of the fraction of the total biomass of soil protists found in the top 8 cm of soil is ≈2.9-fold\n"
     ]
    }
   ],
   "source": [
    "# We use a crude estimate of ≈2-fold as our measure of the uncertainty associated with\n",
    "# the average bulk density of soils\n",
    "bulk_density_CI = 2\n",
    "\n",
    "# Calculate the 95% confidence interval around the geometric mean of our estimates for\n",
    "# the fraction of the total soil biomass present in the top 8 cm\n",
    "depth_frac_CI = frac_CI(np.array([jackson_fraction,fierer_frac]))\n",
    "print('Our projection for the uncertainty associated with our estimate of the fraction of the total biomass of soil protists found in the top 8 cm of soil is ≈%.1f-fold' %depth_frac_CI)"
   ]
  },
  {
   "cell_type": "markdown",
   "metadata": {},
   "source": [
    "We combine the uncertainties associated with the total number of individual protists per gram soil with the uncertainties associated with the average bulk density of soil and the uncertainty associated with the fraction of the total biomass of soil protists found in the top 8 cm of soil:"
   ]
  },
  {
   "cell_type": "code",
   "execution_count": 30,
   "metadata": {},
   "outputs": [
    {
     "data": {
      "text/plain": [
       "Number of ciliates [# g^-1]          5.4\n",
       "Number of flagellates [# g^-1]       4.7\n",
       "Number of naked amoebae [# g^-1]     3.6\n",
       "Number of testate amoebae [# g^-1]   5.0\n",
       "dtype: float64"
      ]
     },
     "execution_count": 30,
     "metadata": {},
     "output_type": "execute_result"
    }
   ],
   "source": [
    "ciliate_num_CI = CI_prod_prop(np.array([best_num_CI['Number of ciliates [# g^-1]'],bulk_density_CI,depth_frac_CI]))\n",
    "flagellates_num_CI = CI_prod_prop(np.array([best_num_CI['Number of flagellates [# g^-1]'],bulk_density_CI,depth_frac_CI]))\n",
    "naked_amoebae_num_CI = CI_prod_prop(np.array([best_num_CI['Number of naked amoebae [# g^-1]'],bulk_density_CI,depth_frac_CI]))\n",
    "testate_amoebae_num_CI = CI_prod_prop(np.array([best_num_CI['Number of testate amoebae [# g^-1]'],bulk_density_CI,depth_frac_CI]))\n",
    "tot_num_CI = pd.Series([ciliate_num_CI,flagellates_num_CI,naked_amoebae_num_CI,testate_amoebae_num_CI], index= tot_num_habitat_CI.columns)\n",
    "tot_num_CI"
   ]
  },
  {
   "cell_type": "markdown",
   "metadata": {},
   "source": [
    "## Carbon content\n",
    "We assemble different measures of uncertainty at different levels - for values within the same study and for values between studies.\n",
    "### Intra-study uncertainty\n",
    "For studies which report more than one measurement, we calculate the 95% confidence interval around the mean of the values. We use the maximal uncertainty as a measure of the intra-study uncertainty associated with the carbon content of protists."
   ]
  },
  {
   "cell_type": "code",
   "execution_count": 31,
   "metadata": {
    "collapsed": true
   },
   "outputs": [],
   "source": [
    "def groupby_geo_CI(input):\n",
    "    return pd.DataFrame({'Carbon content of ciliates [g C cell^-1]': geo_CI_calc(input['Carbon content of ciliates [g C cell^-1]'].dropna()),\n",
    "                        'Carbon content of naked amoebae [g C cell^-1]': geo_CI_calc(input['Carbon content of naked amoebae [g C cell^-1]'].dropna()),\n",
    "                        'Carbon content of testate amoebae [g C cell^-1]': geo_CI_calc(input['Carbon content of testate amoebae [g C cell^-1]'].dropna()),\n",
    "                        'Carbon content of flagellates [g C cell^-1]': geo_CI_calc(input['Carbon content of flagellates [g C cell^-1]'].dropna())},index=[0])\n",
    "\n",
    "\n",
    "cc_intra_CI = cc_data.groupby('DOI').apply(groupby_geo_CI).max()"
   ]
  },
  {
   "cell_type": "markdown",
   "metadata": {},
   "source": [
    "### Interstudy uncertainty\n",
    "We calculate the 95% confidence interval around the mean carbon content from different studies. We use the maximal uncertainty as a measure of the interstudy uncertainty associated with the carbon content of protists."
   ]
  },
  {
   "cell_type": "code",
   "execution_count": 32,
   "metadata": {},
   "outputs": [
    {
     "data": {
      "text/plain": [
       "Carbon content of ciliates [g C cell^-1]          2.0\n",
       "Carbon content of flagellates [g C cell^-1]       3.3\n",
       "Carbon content of naked amoebae [g C cell^-1]     1.6\n",
       "Carbon content of testate amoebae [g C cell^-1]   1.9\n",
       "dtype: float64"
      ]
     },
     "execution_count": 32,
     "metadata": {},
     "output_type": "execute_result"
    }
   ],
   "source": [
    "cc_inter_CI = geo_CI_calc(study_mean_cc)\n",
    "cc_inter_CI"
   ]
  },
  {
   "cell_type": "markdown",
   "metadata": {},
   "source": [
    "We use the maximum of the intra-study and interstudy uncertainties as our best projection of the uncertainty associated with the estimate of the carbon content of protists."
   ]
  },
  {
   "cell_type": "code",
   "execution_count": 33,
   "metadata": {},
   "outputs": [
    {
     "data": {
      "text/plain": [
       "Carbon content of ciliates [g C cell^-1]          2.9\n",
       "Carbon content of flagellates [g C cell^-1]       3.3\n",
       "Carbon content of naked amoebae [g C cell^-1]     8.1\n",
       "Carbon content of testate amoebae [g C cell^-1]   2.2\n",
       "dtype: float64"
      ]
     },
     "execution_count": 33,
     "metadata": {},
     "output_type": "execute_result"
    }
   ],
   "source": [
    "best_cc_CI = np.max([cc_intra_CI,cc_inter_CI],axis=0)\n",
    "best_cc_CI = pd.Series(best_cc_CI,index=cc_inter_CI.index)\n",
    "best_cc_CI"
   ]
  },
  {
   "cell_type": "markdown",
   "metadata": {},
   "source": [
    "## Calculating the total uncertainty\n",
    "We propagate the uncertainty in the total number of protists and in the carbon content of protists to the total estimate of the biomass of protists. We first calculate the uncertainty associated with the estimate of biomass of each of the groups of protists:"
   ]
  },
  {
   "cell_type": "code",
   "execution_count": 34,
   "metadata": {
    "collapsed": true
   },
   "outputs": [],
   "source": [
    "ciliate_biomass_CI = CI_prod_prop(np.array([ciliate_num_CI,best_cc_CI['Carbon content of ciliates [g C cell^-1]']]))\n",
    "flagellates_biomass_CI = CI_prod_prop(np.array([flagellates_num_CI,best_cc_CI['Carbon content of flagellates [g C cell^-1]']]))\n",
    "naked_amoebae_biomass_CI = CI_prod_prop(np.array([naked_amoebae_num_CI,best_cc_CI['Carbon content of naked amoebae [g C cell^-1]']]))\n",
    "testate_amoebae_biomass_CI = CI_prod_prop(np.array([testate_amoebae_num_CI,best_cc_CI['Carbon content of testate amoebae [g C cell^-1]']]))"
   ]
  },
  {
   "cell_type": "markdown",
   "metadata": {},
   "source": [
    "We then propagate the uncertainty associated with the biomass of each protist group to the estimate of the total biomass of protists:"
   ]
  },
  {
   "cell_type": "code",
   "execution_count": 35,
   "metadata": {},
   "outputs": [
    {
     "name": "stdout",
     "output_type": "stream",
     "text": [
      "Our best projection for the uncertainty associated with the estimate of the total biomass of terrestrial protists is ≈4-fold\n"
     ]
    }
   ],
   "source": [
    "mul_CI = CI_sum_prop(estimates=(tot_num_protist*mean_cc).values.squeeze(), mul_CIs= np.array([ciliate_biomass_CI, flagellates_biomass_CI, naked_amoebae_biomass_CI, testate_amoebae_biomass_CI]))\n",
    "print('Our best projection for the uncertainty associated with the estimate of the total biomass of terrestrial protists is ≈%0.f-fold' % mul_CI)"
   ]
  },
  {
   "cell_type": "markdown",
   "metadata": {},
   "source": [
    "Our final parameters are:"
   ]
  },
  {
   "cell_type": "code",
   "execution_count": 36,
   "metadata": {},
   "outputs": [
    {
     "name": "stdout",
     "output_type": "stream",
     "text": [
      "Biomass of terrestrial protists: 1.6 Gt C\n",
      "Uncertainty associated with the estimate of the total biomass of terrestrial protists: ≈4-fold\n"
     ]
    }
   ],
   "source": [
    "\n",
    "print('Biomass of terrestrial protists: %.1f Gt C' %(best_estimate/1e15))\n",
    "print('Uncertainty associated with the estimate of the total biomass of terrestrial protists: ≈%.0f-fold' % mul_CI)\n",
    "\n",
    "\n",
    "old_results = pd.read_excel('../protists_biomass_estimate.xlsx')\n",
    "result = old_results.copy()\n",
    "result.loc[0] = pd.Series({\n",
    "                'Parameter': 'Biomass of terrestrial protists',\n",
    "                'Value': float(best_estimate)/1e15,\n",
    "                'Units': 'Gt C',\n",
    "                'Uncertainty': mul_CI\n",
    "                })\n",
    "\n",
    "result.to_excel('../protists_biomass_estimate.xlsx',index=False)"
   ]
  }
 ],
 "metadata": {
  "kernelspec": {
   "display_name": "Python 3",
   "language": "python",
   "name": "python3"
  },
  "language_info": {
   "codemirror_mode": {
    "name": "ipython",
    "version": 3
   },
   "file_extension": ".py",
   "mimetype": "text/x-python",
   "name": "python",
   "nbconvert_exporter": "python",
   "pygments_lexer": "ipython3",
   "version": "3.5.2"
  }
 },
 "nbformat": 4,
 "nbformat_minor": 2
}
