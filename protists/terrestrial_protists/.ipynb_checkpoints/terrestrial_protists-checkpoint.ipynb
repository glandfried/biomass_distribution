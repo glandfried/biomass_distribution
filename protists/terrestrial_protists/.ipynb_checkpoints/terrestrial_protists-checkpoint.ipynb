{
 "cells": [
  {
   "cell_type": "markdown",
   "metadata": {},
   "source": [
    "# Estimating the total biomass of terrestrial protists\n",
    "After searching the literature, we could not find a comprehensive account of the biomass of protists in soils. We generated a crude estimate of the total biomass of protists in soil based on five methodologies. The first two methodologies are based on direct counts of protists in soils, where as the last three methods are based on molecular techniques. We detail below the calculation of the global protist biomass using each method. Our best estimate for the total biomass of soil protists is the geometric mean of the estimates from the five different methodologies.\n",
    "\n",
    "## Direct biomass density measurements\n",
    "Our first method for estimating the total biomass of protists relies on measurement of the average biomass density of protists is soils. We collected data from several studies, which we list below:"
   ]
  },
  {
   "cell_type": "code",
   "execution_count": 50,
   "metadata": {},
   "outputs": [
    {
     "data": {
      "text/html": [
       "<div>\n",
       "<style scoped>\n",
       "    .dataframe tbody tr th:only-of-type {\n",
       "        vertical-align: middle;\n",
       "    }\n",
       "\n",
       "    .dataframe tbody tr th {\n",
       "        vertical-align: top;\n",
       "    }\n",
       "\n",
       "    .dataframe thead th {\n",
       "        text-align: right;\n",
       "    }\n",
       "</style>\n",
       "<table border=\"1\" class=\"dataframe\">\n",
       "  <thead>\n",
       "    <tr style=\"text-align: right;\">\n",
       "      <th></th>\n",
       "      <th>Reference</th>\n",
       "      <th>DOI</th>\n",
       "      <th>Method</th>\n",
       "      <th>Group</th>\n",
       "      <th>Habitat</th>\n",
       "      <th>Site</th>\n",
       "      <th>Biomass density [g C m^-2]</th>\n",
       "      <th>Remarks</th>\n",
       "    </tr>\n",
       "  </thead>\n",
       "  <tbody>\n",
       "    <tr>\n",
       "      <th>0</th>\n",
       "      <td>Schröter et al.</td>\n",
       "      <td>http://dx.doi.org/10.1034/j.1600-0579.2003.120...</td>\n",
       "      <td>Direct counts</td>\n",
       "      <td>Testate amoebae</td>\n",
       "      <td>Coniferous forest</td>\n",
       "      <td>North Sweden</td>\n",
       "      <td>0.2</td>\n",
       "      <td>Taken from table 3</td>\n",
       "    </tr>\n",
       "    <tr>\n",
       "      <th>1</th>\n",
       "      <td>Schröter et al.</td>\n",
       "      <td>http://dx.doi.org/10.1034/j.1600-0579.2003.120...</td>\n",
       "      <td>Direct counts</td>\n",
       "      <td>Testate amoebae</td>\n",
       "      <td>Coniferous forest</td>\n",
       "      <td>South Sweden</td>\n",
       "      <td>0.6</td>\n",
       "      <td>Taken from table 3</td>\n",
       "    </tr>\n",
       "    <tr>\n",
       "      <th>2</th>\n",
       "      <td>Schröter et al.</td>\n",
       "      <td>http://dx.doi.org/10.1034/j.1600-0579.2003.120...</td>\n",
       "      <td>Direct counts</td>\n",
       "      <td>Testate amoebae</td>\n",
       "      <td>Coniferous forest</td>\n",
       "      <td>Germany</td>\n",
       "      <td>1.0</td>\n",
       "      <td>Taken from table 3</td>\n",
       "    </tr>\n",
       "    <tr>\n",
       "      <th>3</th>\n",
       "      <td>Schröter et al.</td>\n",
       "      <td>http://dx.doi.org/10.1034/j.1600-0579.2003.120...</td>\n",
       "      <td>Direct counts</td>\n",
       "      <td>Testate amoebae</td>\n",
       "      <td>Coniferous forest</td>\n",
       "      <td>France</td>\n",
       "      <td>0.6</td>\n",
       "      <td>Taken from table 3</td>\n",
       "    </tr>\n",
       "    <tr>\n",
       "      <th>4</th>\n",
       "      <td>Zwart et al.</td>\n",
       "      <td>http://dx.doi.org/10.1016/0167-8809(94)90043-4</td>\n",
       "      <td>Direct counts</td>\n",
       "      <td>Ameboa and Flagellates</td>\n",
       "      <td>Cropland</td>\n",
       "      <td>Netherlands</td>\n",
       "      <td>1.2</td>\n",
       "      <td>Top 25 cm, Taken from table 1</td>\n",
       "    </tr>\n",
       "    <tr>\n",
       "      <th>5</th>\n",
       "      <td>De Ruiter et al.</td>\n",
       "      <td>http://dx.doi.org/10.2307/2404274</td>\n",
       "      <td>Direct counts</td>\n",
       "      <td>Ameboa and Flagellates</td>\n",
       "      <td>Cropland</td>\n",
       "      <td>Netherlands</td>\n",
       "      <td>0.6</td>\n",
       "      <td>Top 25 cm (85% in top 10 cm), Taken from Table 1</td>\n",
       "    </tr>\n",
       "    <tr>\n",
       "      <th>6</th>\n",
       "      <td>Schaefer</td>\n",
       "      <td>http://dx.doi.org/10.1007/BF00318544</td>\n",
       "      <td>Direct counts</td>\n",
       "      <td>Flagellates, Ameboa, Testate amoebae</td>\n",
       "      <td>Beech forest</td>\n",
       "      <td>Germany</td>\n",
       "      <td>0.8</td>\n",
       "      <td>Taken from table 1 assuming 50% carbon content</td>\n",
       "    </tr>\n",
       "    <tr>\n",
       "      <th>7</th>\n",
       "      <td>Stapleton et al.</td>\n",
       "      <td>http://dx.doi.org/10.1016/j.soilbio.2005.03.016</td>\n",
       "      <td>Direct counts</td>\n",
       "      <td>Heterotrophic flagellates and Testate amoeba</td>\n",
       "      <td>Tundra</td>\n",
       "      <td>Svalbard</td>\n",
       "      <td>8.3</td>\n",
       "      <td>Values extracted from Figure 2 in the control ...</td>\n",
       "    </tr>\n",
       "    <tr>\n",
       "      <th>8</th>\n",
       "      <td>Stapleton et al.</td>\n",
       "      <td>http://dx.doi.org/10.1016/j.soilbio.2005.03.016</td>\n",
       "      <td>Direct counts</td>\n",
       "      <td>Heterotrophic flagellates and Testate amoeba</td>\n",
       "      <td>Tundra</td>\n",
       "      <td>Svalbard</td>\n",
       "      <td>8.5</td>\n",
       "      <td>Values extracted from Figure 2 in the control ...</td>\n",
       "    </tr>\n",
       "    <tr>\n",
       "      <th>9</th>\n",
       "      <td>Stapleton et al.</td>\n",
       "      <td>http://dx.doi.org/10.1016/j.soilbio.2005.03.016</td>\n",
       "      <td>Direct counts</td>\n",
       "      <td>Heterotrophic flagellates and Testate amoeba</td>\n",
       "      <td>Tundra</td>\n",
       "      <td>Svalbard</td>\n",
       "      <td>2.5</td>\n",
       "      <td>Values extracted from Figure 2 in the control ...</td>\n",
       "    </tr>\n",
       "    <tr>\n",
       "      <th>10</th>\n",
       "      <td>Stapleton et al.</td>\n",
       "      <td>http://dx.doi.org/10.1016/j.soilbio.2005.03.016</td>\n",
       "      <td>Direct counts</td>\n",
       "      <td>Heterotrophic flagellates and Testate amoeba</td>\n",
       "      <td>Tundra</td>\n",
       "      <td>Svalbard</td>\n",
       "      <td>3.6</td>\n",
       "      <td>Values extracted from Figure 2 in the control ...</td>\n",
       "    </tr>\n",
       "    <tr>\n",
       "      <th>11</th>\n",
       "      <td>Stapleton et al.</td>\n",
       "      <td>http://dx.doi.org/10.1016/j.soilbio.2005.03.016</td>\n",
       "      <td>Direct counts</td>\n",
       "      <td>Heterotrophic flagellates and Testate amoeba</td>\n",
       "      <td>Tundra</td>\n",
       "      <td>Svalbard</td>\n",
       "      <td>10.1</td>\n",
       "      <td>Values extracted from Figure 2 in the control ...</td>\n",
       "    </tr>\n",
       "    <tr>\n",
       "      <th>12</th>\n",
       "      <td>Bouwman &amp; Zwart</td>\n",
       "      <td>http://dx.doi.org/10.1016/0167-8809(94)90040-X</td>\n",
       "      <td>Direct counts</td>\n",
       "      <td>Ameboa and Flagellates</td>\n",
       "      <td>Cropland</td>\n",
       "      <td>Netherlands</td>\n",
       "      <td>1.6</td>\n",
       "      <td>From abstract. In top 25 cm.</td>\n",
       "    </tr>\n",
       "  </tbody>\n",
       "</table>\n",
       "</div>"
      ],
      "text/plain": [
       "           Reference                                                DOI  \\\n",
       "0    Schröter et al.  http://dx.doi.org/10.1034/j.1600-0579.2003.120...   \n",
       "1    Schröter et al.  http://dx.doi.org/10.1034/j.1600-0579.2003.120...   \n",
       "2    Schröter et al.  http://dx.doi.org/10.1034/j.1600-0579.2003.120...   \n",
       "3    Schröter et al.  http://dx.doi.org/10.1034/j.1600-0579.2003.120...   \n",
       "4       Zwart et al.     http://dx.doi.org/10.1016/0167-8809(94)90043-4   \n",
       "5   De Ruiter et al.                  http://dx.doi.org/10.2307/2404274   \n",
       "6           Schaefer               http://dx.doi.org/10.1007/BF00318544   \n",
       "7   Stapleton et al.    http://dx.doi.org/10.1016/j.soilbio.2005.03.016   \n",
       "8   Stapleton et al.    http://dx.doi.org/10.1016/j.soilbio.2005.03.016   \n",
       "9   Stapleton et al.    http://dx.doi.org/10.1016/j.soilbio.2005.03.016   \n",
       "10  Stapleton et al.    http://dx.doi.org/10.1016/j.soilbio.2005.03.016   \n",
       "11  Stapleton et al.    http://dx.doi.org/10.1016/j.soilbio.2005.03.016   \n",
       "12   Bouwman & Zwart     http://dx.doi.org/10.1016/0167-8809(94)90040-X   \n",
       "\n",
       "           Method                                         Group  \\\n",
       "0   Direct counts                               Testate amoebae   \n",
       "1   Direct counts                               Testate amoebae   \n",
       "2   Direct counts                               Testate amoebae   \n",
       "3   Direct counts                               Testate amoebae   \n",
       "4   Direct counts                        Ameboa and Flagellates   \n",
       "5   Direct counts                        Ameboa and Flagellates   \n",
       "6   Direct counts          Flagellates, Ameboa, Testate amoebae   \n",
       "7   Direct counts  Heterotrophic flagellates and Testate amoeba   \n",
       "8   Direct counts  Heterotrophic flagellates and Testate amoeba   \n",
       "9   Direct counts  Heterotrophic flagellates and Testate amoeba   \n",
       "10  Direct counts  Heterotrophic flagellates and Testate amoeba   \n",
       "11  Direct counts  Heterotrophic flagellates and Testate amoeba   \n",
       "12  Direct counts                        Ameboa and Flagellates   \n",
       "\n",
       "              Habitat          Site  Biomass density [g C m^-2]  \\\n",
       "0   Coniferous forest  North Sweden                         0.2   \n",
       "1   Coniferous forest  South Sweden                         0.6   \n",
       "2   Coniferous forest       Germany                         1.0   \n",
       "3   Coniferous forest        France                         0.6   \n",
       "4            Cropland   Netherlands                         1.2   \n",
       "5            Cropland   Netherlands                         0.6   \n",
       "6        Beech forest       Germany                         0.8   \n",
       "7              Tundra      Svalbard                         8.3   \n",
       "8              Tundra      Svalbard                         8.5   \n",
       "9              Tundra      Svalbard                         2.5   \n",
       "10             Tundra      Svalbard                         3.6   \n",
       "11             Tundra      Svalbard                        10.1   \n",
       "12           Cropland   Netherlands                         1.6   \n",
       "\n",
       "                                              Remarks  \n",
       "0                                  Taken from table 3  \n",
       "1                                  Taken from table 3  \n",
       "2                                  Taken from table 3  \n",
       "3                                  Taken from table 3  \n",
       "4                       Top 25 cm, Taken from table 1  \n",
       "5    Top 25 cm (85% in top 10 cm), Taken from Table 1  \n",
       "6      Taken from table 1 assuming 50% carbon content  \n",
       "7   Values extracted from Figure 2 in the control ...  \n",
       "8   Values extracted from Figure 2 in the control ...  \n",
       "9   Values extracted from Figure 2 in the control ...  \n",
       "10  Values extracted from Figure 2 in the control ...  \n",
       "11  Values extracted from Figure 2 in the control ...  \n",
       "12                       From abstract. In top 25 cm.  "
      ]
     },
     "execution_count": 50,
     "metadata": {},
     "output_type": "execute_result"
    }
   ],
   "source": [
    "import pandas as pd\n",
    "import numpy as np\n",
    "from scipy.stats import gmean\n",
    "import sys\n",
    "sys.path.insert(0,'../../statistics_helper/')\n",
    "from fraction_helper import *\n",
    "from CI_helper import *\n",
    "pd.options.display.float_format = '{:,.1f}'.format\n",
    "data = pd.read_excel('terrestrial_protist_data.xlsx')\n",
    "data"
   ]
  },
  {
   "cell_type": "markdown",
   "metadata": {},
   "source": [
    "To generate our best estimate based on this method, we first calculate the geometric mean of values for each study. We then calculate the geometric mean for each habitat, and then calculate the geometric mean of the average values from different habitats:"
   ]
  },
  {
   "cell_type": "code",
   "execution_count": 63,
   "metadata": {},
   "outputs": [
    {
     "name": "stdout",
     "output_type": "stream",
     "text": [
      "Our best estimate for the biomass density of  protists in soil based on direct biomass density measurements is ≈1.2 g C m^-2\n"
     ]
    }
   ],
   "source": [
    "# Define the function to calculate the geometric mean for each study\n",
    "def groupby_gmean(input):\n",
    "    mean = gmean(input['Biomass density [g C m^-2]'])\n",
    "    habitat = np.unique(input['Habitat'])[0]\n",
    "    return pd.Series({'Habitat': habitat, 'Biomass density [g C m^-2]': mean})\n",
    "\n",
    "# Calculate the geometric mean for each study\n",
    "study_mean = data.groupby('Reference').apply(groupby_gmean)\n",
    "\n",
    "# Calculate the geometric mean of the biomass density at each habitat\n",
    "habitat_mean = data.groupby('Habitat')['Biomass density [g C m^-2]'].apply(gmean)\n",
    "\n",
    "# Calculate the geometric mean of biomass densities from different habitats\n",
    "direct_biomass_mean = gmean(habitat_mean)\n",
    "\n",
    "print('Our best estimate for the biomass density of  protists in soil based on direct biomass density measurements is ≈%.1f g C m^-2' % direct_biomass_mean)"
   ]
  },
  {
   "cell_type": "markdown",
   "metadata": {},
   "source": [
    "To generate our estimate for the total biomass of protists using the direct biomass density measurement method, we multiply the our best estimate for the biomass density by the total area of ice-free land surface, which is ≈$1.3×10^{14} m^2$:"
   ]
  },
  {
   "cell_type": "code",
   "execution_count": 3,
   "metadata": {},
   "outputs": [
    {
     "name": "stdout",
     "output_type": "stream",
     "text": [
      "Our best estimate for the biomass of soil protists using direct biomass density measurements is ≈0.2 Gt C\n"
     ]
    }
   ],
   "source": [
    "ice_free_area = 1.3e14\n",
    "\n",
    "# Calculate the total biomass of soil protists\n",
    "method1_estimate = direct_biomass_mean*ice_free_area \n",
    "\n",
    "print('Our best estimate for the biomass of soil protists using direct biomass density measurements is ≈%.1f Gt C' % (method1_estimate/1e15))"
   ]
  },
  {
   "cell_type": "markdown",
   "metadata": {},
   "source": [
    "## Number of individuals and carbon content\n",
    "In this method, in order to calculate the total biomass of soil protists we calculate a characteristic number of individual protists in a gram of soil for each one of the morphological groups of protists (flagellates, ciliates, and naked and testate ameobae). We combine these estimates with estimates for the carbon content of each morphological group.\n",
    "\n",
    "# Characteristic carbon content of protists\n",
    "We estimate the characteristic carbon content of a single protist from each of the morphological groups of protists  based on data from three sources.\n",
    "\n",
    "The first source is [Finlay & Fenchel](http://dx.doi.org/10.1078/1434-4610-00060). We calculate the average cell length for each group. \n",
    "\n",
    "For flagellates, the estimates on the number of individuals per gram of soil distinguishes between small and large flagellates (defined as flagellates below or above 15 µm in diameter). We thus estimate the average length of small and large flagellates by dividing them into these two size categories."
   ]
  },
  {
   "cell_type": "code",
   "execution_count": 4,
   "metadata": {
    "collapsed": true
   },
   "outputs": [],
   "source": [
    "# Load data from Finlay & Fenchel\n",
    "ff_data = pd.read_excel('terrestrial_protist_data.xlsx', 'Finlay & Fenchel', skiprows=1)\n",
    "\n",
    "# Define the function to calculate the weighted average for each group of protists\n",
    "def weighted_av_groupby(input):\n",
    "    return np.average(input['Length [µm]'],weights=input['Abundance [# g^-1]'])\n",
    "\n",
    "cell_lengths = ff_data.groupby('Protist type').apply(weighted_av_groupby)"
   ]
  },
  {
   "cell_type": "markdown",
   "metadata": {},
   "source": [
    "We convert the cell length to biovolume according the the allometric relation decribed in Figure 10 of Finlay & Fenchel. The relation between cell volume and cell length is given by the equation: \n",
    "$$V = 0.6×L^{2.36}$$\n",
    "Where V is the cell volume in $µm^3$ and L is the cell length in µm."
   ]
  },
  {
   "cell_type": "code",
   "execution_count": 5,
   "metadata": {},
   "outputs": [
    {
     "data": {
      "text/plain": [
       "Protist type\n",
       "All protozoa         593.2\n",
       "Ciliate            5,404.3\n",
       "Large Flagellate   1,085.1\n",
       "Naked amoebae      1,355.9\n",
       "Small Flagellate      87.5\n",
       "Testate amoebae    3,634.9\n",
       "dtype: float64"
      ]
     },
     "execution_count": 5,
     "metadata": {},
     "output_type": "execute_result"
    }
   ],
   "source": [
    "cell_volumes = 0.6*cell_lengths**2.36\n",
    "cell_volumes"
   ]
  },
  {
   "cell_type": "markdown",
   "metadata": {},
   "source": [
    "We convert cell volumes to carbon content assuming ≈150 fg C µm$^3$:"
   ]
  },
  {
   "cell_type": "code",
   "execution_count": 37,
   "metadata": {},
   "outputs": [
    {
     "data": {
      "text/plain": [
       "Protist type\n",
       "All protozoa       8.9e-11\n",
       "Ciliate            8.1e-10\n",
       "Large Flagellate   1.6e-10\n",
       "Naked amoebae      2.0e-10\n",
       "Small Flagellate   1.3e-11\n",
       "Testate amoebae    5.5e-10\n",
       "dtype: float64"
      ]
     },
     "execution_count": 37,
     "metadata": {},
     "output_type": "execute_result"
    }
   ],
   "source": [
    "ff_carbon_content = cell_volumes*150e-15\n",
    "pd.options.display.float_format = '{:,.1e}'.format\n",
    "ff_carbon_content"
   ]
  },
  {
   "cell_type": "markdown",
   "metadata": {},
   "source": [
    "Our second source for estimating the carbon content of soil protists is [Persson et al.](http://www.jstor.org/stable/20112829), which reports the dry weight of individuals from different morphological types:"
   ]
  },
  {
   "cell_type": "code",
   "execution_count": 7,
   "metadata": {},
   "outputs": [
    {
     "data": {
      "text/html": [
       "<div>\n",
       "<style scoped>\n",
       "    .dataframe tbody tr th:only-of-type {\n",
       "        vertical-align: middle;\n",
       "    }\n",
       "\n",
       "    .dataframe tbody tr th {\n",
       "        vertical-align: top;\n",
       "    }\n",
       "\n",
       "    .dataframe thead th {\n",
       "        text-align: right;\n",
       "    }\n",
       "</style>\n",
       "<table border=\"1\" class=\"dataframe\">\n",
       "  <thead>\n",
       "    <tr style=\"text-align: right;\">\n",
       "      <th></th>\n",
       "      <th>Morphological type</th>\n",
       "      <th>Mean body dry weight [g]</th>\n",
       "    </tr>\n",
       "  </thead>\n",
       "  <tbody>\n",
       "    <tr>\n",
       "      <th>0</th>\n",
       "      <td>Cilliates</td>\n",
       "      <td>1.5e-09</td>\n",
       "    </tr>\n",
       "    <tr>\n",
       "      <th>1</th>\n",
       "      <td>Flagellates</td>\n",
       "      <td>4.0e-10</td>\n",
       "    </tr>\n",
       "    <tr>\n",
       "      <th>2</th>\n",
       "      <td>Rhizopoda</td>\n",
       "      <td>8.0e-10</td>\n",
       "    </tr>\n",
       "  </tbody>\n",
       "</table>\n",
       "</div>"
      ],
      "text/plain": [
       "  Morphological type  Mean body dry weight [g]\n",
       "0          Cilliates                   1.5e-09\n",
       "1        Flagellates                   4.0e-10\n",
       "2          Rhizopoda                   8.0e-10"
      ]
     },
     "execution_count": 7,
     "metadata": {},
     "output_type": "execute_result"
    }
   ],
   "source": [
    "persson_data = pd.read_excel('terrestrial_protist_data.xlsx', 'Persson', skiprows=1)\n",
    "persson_data"
   ]
  },
  {
   "cell_type": "markdown",
   "metadata": {},
   "source": [
    "Our third source is [Schaefer](http://dx.doi.org/10.1007/BF00318544), which reports the total number of cells and the total biomass for three morphological groups of protists - Flagellates, Amoebae and Testate amoebae. We calculate the characteristic carbon content for each group by dividing the total biomass by the total number of individuals:"
   ]
  },
  {
   "cell_type": "code",
   "execution_count": 41,
   "metadata": {},
   "outputs": [
    {
     "data": {
      "text/plain": [
       "Group\n",
       "Flagellates       1.0e-11\n",
       "Naked amoebae     1.6e-10\n",
       "Testate amoebae   2.0e-09\n",
       "dtype: float64"
      ]
     },
     "execution_count": 41,
     "metadata": {},
     "output_type": "execute_result"
    }
   ],
   "source": [
    "# Load the data from Schaefer\n",
    "schaefer_data = pd.read_excel('terrestrial_protist_data.xlsx', 'Schaefer', skiprows=1,index_col='Group')\n",
    "\n",
    "# Calculate the characteristic carbon content for each of the groups of protists\n",
    "schaefer_cc = schaefer_data['Biomass density [g C m^-2]']/schaefer_data['Number of individuals (# m^-2) ']\n",
    "schaefer_cc"
   ]
  },
  {
   "cell_type": "markdown",
   "metadata": {},
   "source": [
    "Our best estimate for the carbon content of each morphological group is the geometric mean of the estimates from Finlay & Fenchel, Persson et al. and Schaefer. Persson reports values for Rhizopoda, which include naked amoebae, and does not report values for Testate amoebae. Schaefer reports values for naked and testate amoebae but not for ciliates. For flagellates, we use only the data from Finlay & Fenchel as it is able to distinguish between small and large Flagellates."
   ]
  },
  {
   "cell_type": "code",
   "execution_count": 44,
   "metadata": {},
   "outputs": [
    {
     "data": {
      "text/html": [
       "<div>\n",
       "<style scoped>\n",
       "    .dataframe tbody tr th:only-of-type {\n",
       "        vertical-align: middle;\n",
       "    }\n",
       "\n",
       "    .dataframe tbody tr th {\n",
       "        vertical-align: top;\n",
       "    }\n",
       "\n",
       "    .dataframe thead th {\n",
       "        text-align: right;\n",
       "    }\n",
       "</style>\n",
       "<table border=\"1\" class=\"dataframe\">\n",
       "  <thead>\n",
       "    <tr style=\"text-align: right;\">\n",
       "      <th></th>\n",
       "      <th>Carbon content [g C]</th>\n",
       "    </tr>\n",
       "    <tr>\n",
       "      <th>Protist type</th>\n",
       "      <th></th>\n",
       "    </tr>\n",
       "  </thead>\n",
       "  <tbody>\n",
       "    <tr>\n",
       "      <th>Ciliate</th>\n",
       "      <td>7.8e-10</td>\n",
       "    </tr>\n",
       "    <tr>\n",
       "      <th>Large Flagellate</th>\n",
       "      <td>1.6e-10</td>\n",
       "    </tr>\n",
       "    <tr>\n",
       "      <th>Naked amoebae</th>\n",
       "      <td>2.4e-10</td>\n",
       "    </tr>\n",
       "    <tr>\n",
       "      <th>Small Flagellate</th>\n",
       "      <td>1.3e-11</td>\n",
       "    </tr>\n",
       "    <tr>\n",
       "      <th>Testate amoebae</th>\n",
       "      <td>1.1e-09</td>\n",
       "    </tr>\n",
       "  </tbody>\n",
       "</table>\n",
       "</div>"
      ],
      "text/plain": [
       "                  Carbon content [g C]\n",
       "Protist type                          \n",
       "Ciliate                        7.8e-10\n",
       "Large Flagellate               1.6e-10\n",
       "Naked amoebae                  2.4e-10\n",
       "Small Flagellate               1.3e-11\n",
       "Testate amoebae                1.1e-09"
      ]
     },
     "execution_count": 44,
     "metadata": {},
     "output_type": "execute_result"
    }
   ],
   "source": [
    "carbon_content = pd.DataFrame()\n",
    "\n",
    "ciliate_cc = gmean([ff_carbon_content['Ciliate'],persson_data.loc[0]['Mean body dry weight [g]']/2])\n",
    "small_flagellate_cc = ff_carbon_content['Small Flagellate']\n",
    "large_flagellate_cc = ff_carbon_content['Large Flagellate']\n",
    "naked_amoebae_cc = gmean([ff_carbon_content['Naked amoebae'],persson_data.loc[2]['Mean body dry weight [g]']/2,schaefer_cc.loc['Naked amoebae']])\n",
    "testate_amoebae_cc = gmean([ff_carbon_content['Testate amoebae'],schaefer_cc.loc['Testate amoebae']])\n",
    "\n",
    "carbon_content['Carbon content [g C]'] = pd.Series([ciliate_cc,large_flagellate_cc,naked_amoebae_cc,small_flagellate_cc,testate_amoebae_cc])\n",
    "carbon_content.set_index(ff_carbon_content.index[1:],inplace=True)\n",
    "carbon_content"
   ]
  },
  {
   "cell_type": "markdown",
   "metadata": {},
   "source": [
    "### Number of individuals\n",
    "We rely on two main sources for our estimate. The first is [Adl & Coleman](http://dx.doi.org/10.1007/s00374-005-0009-x). The second source in [Finlay & Fenchel](http://dx.doi.org/10.1078/1434-4610-00060). For each study, we calculate the geometric mean of measurements for each protist group:"
   ]
  },
  {
   "cell_type": "code",
   "execution_count": 45,
   "metadata": {
    "collapsed": true
   },
   "outputs": [],
   "source": [
    "ac_data = pd.read_excel('terrestrial_protist_data.xlsx', 'Adl & Coleman', skiprows=1)\n",
    "\n",
    "def groupby_mean(input):\n",
    "    return gmean(input.dropna())\n",
    "ac_mean = ac_data[['Small flagellates','Large flagellates','Gymnamoebae', 'Ciliates']].apply(groupby_mean)\n",
    "\n",
    "ff_mean = ff_data.groupby('Protist type')['Abundance [# g^-1]'].apply(sum)"
   ]
  },
  {
   "cell_type": "markdown",
   "metadata": {},
   "source": [
    "As our best estimate we use the geometric mean of values from Adl & Coleman and from Finlay & Fenchel. For Flagellates, we use only the values from Adl & Coleman, as Finlay & Fenchel rely on the Most Probable Number method to measure the amount of flagellates. This method is based on culturing of protists, which is known to under estimate the actual number of protists. Adl & Coleman do not report a value for testate amoebae, and thus we rely on the values from Finlay & Fenchel."
   ]
  },
  {
   "cell_type": "code",
   "execution_count": 46,
   "metadata": {},
   "outputs": [
    {
     "data": {
      "text/html": [
       "<div>\n",
       "<style scoped>\n",
       "    .dataframe tbody tr th:only-of-type {\n",
       "        vertical-align: middle;\n",
       "    }\n",
       "\n",
       "    .dataframe tbody tr th {\n",
       "        vertical-align: top;\n",
       "    }\n",
       "\n",
       "    .dataframe thead th {\n",
       "        text-align: right;\n",
       "    }\n",
       "</style>\n",
       "<table border=\"1\" class=\"dataframe\">\n",
       "  <thead>\n",
       "    <tr style=\"text-align: right;\">\n",
       "      <th></th>\n",
       "      <th>Abundance [# g^-1]</th>\n",
       "    </tr>\n",
       "    <tr>\n",
       "      <th>Protist type</th>\n",
       "      <th></th>\n",
       "    </tr>\n",
       "  </thead>\n",
       "  <tbody>\n",
       "    <tr>\n",
       "      <th>Ciliate</th>\n",
       "      <td>7.4e+02</td>\n",
       "    </tr>\n",
       "    <tr>\n",
       "      <th>Large Flagellate</th>\n",
       "      <td>2.3e+04</td>\n",
       "    </tr>\n",
       "    <tr>\n",
       "      <th>Naked amoebae</th>\n",
       "      <td>4.2e+04</td>\n",
       "    </tr>\n",
       "    <tr>\n",
       "      <th>Small Flagellate</th>\n",
       "      <td>9.9e+05</td>\n",
       "    </tr>\n",
       "    <tr>\n",
       "      <th>Testate amoebae</th>\n",
       "      <td>1.0e+04</td>\n",
       "    </tr>\n",
       "  </tbody>\n",
       "</table>\n",
       "</div>"
      ],
      "text/plain": [
       "                  Abundance [# g^-1]\n",
       "Protist type                        \n",
       "Ciliate                      7.4e+02\n",
       "Large Flagellate             2.3e+04\n",
       "Naked amoebae                4.2e+04\n",
       "Small Flagellate             9.9e+05\n",
       "Testate amoebae              1.0e+04"
      ]
     },
     "execution_count": 46,
     "metadata": {},
     "output_type": "execute_result"
    }
   ],
   "source": [
    "abund_mean = pd.DataFrame()\n",
    "ciliate_abun = gmean([ac_mean['Ciliates'], ff_mean['Ciliate']])\n",
    "naked_amoebae_abun = gmean([ac_mean['Gymnamoebae'],ff_mean['Naked amoebae']])\n",
    "abund_mean['Abundance [# g^-1]'] = pd.Series([ciliate_abun,ac_mean['Large flagellates'],naked_amoebae_abun,ac_mean['Small flagellates'], ff_mean['Testate amoebae']])\n",
    "abund_mean.set_index(ff_mean.index[1:],inplace=True)\n",
    "abund_mean"
   ]
  },
  {
   "cell_type": "markdown",
   "metadata": {},
   "source": [
    "To calculate the total biomass of protists per gram of soil, we multiply the total number of individuals of each group of protists by their respective carbon conent, and sum over all protist groups:"
   ]
  },
  {
   "cell_type": "code",
   "execution_count": 47,
   "metadata": {},
   "outputs": [
    {
     "name": "stdout",
     "output_type": "stream",
     "text": [
      "Our best estimate for the biomass of protists per gram of soil is ≈3.8e-05 g C\n"
     ]
    }
   ],
   "source": [
    "tot_biomass_density = (carbon_content['Carbon content [g C]']*abund_mean['Abundance [# g^-1]']).sum()\n",
    "print('Our best estimate for the biomass of protists per gram of soil is ≈%.1e g C' % tot_biomass_density)"
   ]
  },
  {
   "cell_type": "markdown",
   "metadata": {},
   "source": [
    "To convert the biomass density per gram of soil to units of biomass per area, we use a soil bulk density of ≈1.5 g cm$^{-3}$. We assume that most biomass is concentrated in the top 20 cm of soil (see the section on terrestrial protists for in the Supplemenray Information for details)."
   ]
  },
  {
   "cell_type": "code",
   "execution_count": 48,
   "metadata": {},
   "outputs": [
    {
     "name": "stdout",
     "output_type": "stream",
     "text": [
      "Our best estimate for the biomass of protists per m^2 of soil is ≈11 g C\n"
     ]
    },
    {
     "data": {
      "text/plain": [
       "Protist type\n",
       "Ciliate            1.5e-02\n",
       "Large Flagellate   9.9e-02\n",
       "Naked amoebae      2.6e-01\n",
       "Small Flagellate   3.4e-01\n",
       "Testate amoebae    2.9e-01\n",
       "dtype: float64"
      ]
     },
     "execution_count": 48,
     "metadata": {},
     "output_type": "execute_result"
    }
   ],
   "source": [
    "bulk_density = 1.5e6\n",
    "biomass_depth = 0.2\n",
    "biomass_per_m2 = tot_biomass_density*bulk_density*biomass_depth\n",
    "print('Our best estimate for the biomass of protists per m^2 of soil is ≈%.0f g C' % biomass_per_m2)\n",
    "carbon_content['Carbon content [g C]']*abund_mean['Abundance [# g^-1]']*bulk_density*biomass_depth/biomass_per_m2"
   ]
  },
  {
   "cell_type": "markdown",
   "metadata": {},
   "source": [
    "To calculate the total biomass of protists based on measurements of number of individuals and characteristic carbon contents per individual, we multiply the biomass density per unit area by the total ice-free land surface, which is ≈$1.3×10^{14} m^2$:"
   ]
  },
  {
   "cell_type": "code",
   "execution_count": 13,
   "metadata": {},
   "outputs": [
    {
     "name": "stdout",
     "output_type": "stream",
     "text": [
      "Our best estimate for the biomass of soil protists using measurements of number of individuals and carbon content is ≈1.4 Gt C\n"
     ]
    }
   ],
   "source": [
    "method2_estimate = biomass_per_m2*ice_free_area\n",
    "print('Our best estimate for the biomass of soil protists using measurements of number of individuals and carbon content is ≈%.1f Gt C' % (method2_estimate/1e15))"
   ]
  },
  {
   "cell_type": "markdown",
   "metadata": {},
   "source": [
    "The next three methods for estimating the total biomass of protists are based on mulecular surveys of the abundance of protists in soils. The methods we use to estimate the total biomass of protists are 18S rDNA sequencing, 18S rRNA sequencing and metatranscriptomics. \n",
    "\n",
    "The molecular techniques we rely on measure the relative fraction of protists out of the total population of soil eukaryotes. Estimating the total biomass of eukaryotes based on molecular techniques assumes a correlation between the number of reads of a specific taxon and its biomass. Even though this procedure is not well established , we rely on it as one of our sources due to the scarcity of data. \n",
    "\n",
    "To generate our estimate of the total biomass of soil protist using these molecular techniques, we multiply the fraction of protists out of the total biomass of soil eukaryotes by our estimate for the total biomass of soil fungi, which we assume dominate the biomass of soil eukaryotes."
   ]
  },
  {
   "cell_type": "markdown",
   "metadata": {},
   "source": [
    "## 18S rDNA sequencing\n",
    "To estimate the total biomass of soil protists from 18S rDNA sequencing data, we calculate the fraction of protists out of the total population of soil eukaryotes based on data from forests ([Tedersoo et al.](http://dx.doi.org/10.1038/ismej.2015.116)), grasslands and croplands ([Chen et al.](http://dx.doi.org/10.3389/fmicb.2015.01149)). Below is a sample of the data:\n"
   ]
  },
  {
   "cell_type": "code",
   "execution_count": 14,
   "metadata": {},
   "outputs": [
    {
     "data": {
      "text/html": [
       "<div>\n",
       "<style scoped>\n",
       "    .dataframe tbody tr th:only-of-type {\n",
       "        vertical-align: middle;\n",
       "    }\n",
       "\n",
       "    .dataframe tbody tr th {\n",
       "        vertical-align: top;\n",
       "    }\n",
       "\n",
       "    .dataframe thead th {\n",
       "        text-align: right;\n",
       "    }\n",
       "</style>\n",
       "<table border=\"1\" class=\"dataframe\">\n",
       "  <thead>\n",
       "    <tr style=\"text-align: right;\">\n",
       "      <th></th>\n",
       "      <th>Site</th>\n",
       "      <th>Fungi</th>\n",
       "      <th>Protists</th>\n",
       "      <th>Habitat</th>\n",
       "    </tr>\n",
       "  </thead>\n",
       "  <tbody>\n",
       "    <tr>\n",
       "      <th>0</th>\n",
       "      <td>G-0</td>\n",
       "      <td>7.0e-01</td>\n",
       "      <td>1.9e-01</td>\n",
       "      <td>Grassland</td>\n",
       "    </tr>\n",
       "    <tr>\n",
       "      <th>1</th>\n",
       "      <td>G-7</td>\n",
       "      <td>5.3e-01</td>\n",
       "      <td>2.9e-01</td>\n",
       "      <td>Grassland</td>\n",
       "    </tr>\n",
       "    <tr>\n",
       "      <th>2</th>\n",
       "      <td>G-30</td>\n",
       "      <td>6.1e-01</td>\n",
       "      <td>1.7e-01</td>\n",
       "      <td>Grassland</td>\n",
       "    </tr>\n",
       "    <tr>\n",
       "      <th>3</th>\n",
       "      <td>A-0</td>\n",
       "      <td>6.0e-01</td>\n",
       "      <td>2.7e-01</td>\n",
       "      <td>Cropland</td>\n",
       "    </tr>\n",
       "    <tr>\n",
       "      <th>4</th>\n",
       "      <td>A-7</td>\n",
       "      <td>6.4e-01</td>\n",
       "      <td>2.2e-01</td>\n",
       "      <td>Cropland</td>\n",
       "    </tr>\n",
       "    <tr>\n",
       "      <th>5</th>\n",
       "      <td>A-30</td>\n",
       "      <td>6.9e-01</td>\n",
       "      <td>1.4e-01</td>\n",
       "      <td>Cropland</td>\n",
       "    </tr>\n",
       "    <tr>\n",
       "      <th>6</th>\n",
       "      <td>G-F-0</td>\n",
       "      <td>5.8e-01</td>\n",
       "      <td>2.9e-01</td>\n",
       "      <td>Grassland</td>\n",
       "    </tr>\n",
       "    <tr>\n",
       "      <th>7</th>\n",
       "      <td>A-F-0</td>\n",
       "      <td>6.1e-01</td>\n",
       "      <td>2.4e-01</td>\n",
       "      <td>Cropland</td>\n",
       "    </tr>\n",
       "  </tbody>\n",
       "</table>\n",
       "</div>"
      ],
      "text/plain": [
       "    Site   Fungi  Protists    Habitat\n",
       "0    G-0 7.0e-01   1.9e-01  Grassland\n",
       "1    G-7 5.3e-01   2.9e-01  Grassland\n",
       "2   G-30 6.1e-01   1.7e-01  Grassland\n",
       "3    A-0 6.0e-01   2.7e-01   Cropland\n",
       "4    A-7 6.4e-01   2.2e-01   Cropland\n",
       "5   A-30 6.9e-01   1.4e-01   Cropland\n",
       "6  G-F-0 5.8e-01   2.9e-01  Grassland\n",
       "7  A-F-0 6.1e-01   2.4e-01   Cropland"
      ]
     },
     "execution_count": 14,
     "metadata": {},
     "output_type": "execute_result"
    }
   ],
   "source": [
    "# Load the data from Chen et al.\n",
    "chen_data = pd.read_excel('terrestrial_protist_data.xlsx', 'Chen',skiprows=1)\n",
    "chen_data"
   ]
  },
  {
   "cell_type": "markdown",
   "metadata": {},
   "source": [
    "We first calculate the geometric mean of the values in Chen et al.:"
   ]
  },
  {
   "cell_type": "code",
   "execution_count": 15,
   "metadata": {
    "collapsed": true
   },
   "outputs": [],
   "source": [
    "chen_mean = frac_mean(chen_data.groupby('Habitat')['Protists'].apply(frac_mean))"
   ]
  },
  {
   "cell_type": "markdown",
   "metadata": {},
   "source": [
    "As our best estimate for the fraction of protists out of the population of soil eukaryotes we use the geometric mean of the value from Chen et al. and the value reported in Tedersoo et al. of ≈6%. We calculate the total biomass of soil protists by multiplying the fraction of protists out of the total population of soil eukaryotes by the our estimate of the total biomass of soil fungi:"
   ]
  },
  {
   "cell_type": "code",
   "execution_count": 16,
   "metadata": {},
   "outputs": [
    {
     "name": "stdout",
     "output_type": "stream",
     "text": [
      "Our best estimate for the biomass of soil protists based on 18S rDNA sequencing data is ≈1.4 Gt C\n"
     ]
    }
   ],
   "source": [
    "# The fraction of protists out of the population of soil eukaryotes reported in Tedersoo et al.\n",
    "tedersoo_frac = 0.06\n",
    "\n",
    "# Calculate our best estimate for the fraction of soil protists\n",
    "rDNA_frac = frac_mean(np.array([chen_mean,tedersoo_frac]))\n",
    "\n",
    "# Our best estimate for the biomass of soil fungi\n",
    "fungi_biomass = 12e15\n",
    "\n",
    "# Calculate the total biomass of soil protists based on 18S rDNA sequencing data\n",
    "method3_estimate = rDNA_frac*fungi_biomass\n",
    "\n",
    "print('Our best estimate for the biomass of soil protists based on 18S rDNA sequencing data is ≈%.1f Gt C' %(method3_estimate/1e15))"
   ]
  },
  {
   "cell_type": "markdown",
   "metadata": {},
   "source": [
    "## 18S rRNA sequencing\n",
    "To estimate the total biomass of soil protists from 18S rRNA sequencing data, we calculate the fraction of protists out of the total population of soil eukaryotes based on data from beech and spruce forests ([Damon et al.](http://dx.doi.org/10.1371/journal.pone.0028967)). Below is a sample of the data:"
   ]
  },
  {
   "cell_type": "code",
   "execution_count": 17,
   "metadata": {},
   "outputs": [
    {
     "data": {
      "text/html": [
       "<div>\n",
       "<style scoped>\n",
       "    .dataframe tbody tr th:only-of-type {\n",
       "        vertical-align: middle;\n",
       "    }\n",
       "\n",
       "    .dataframe tbody tr th {\n",
       "        vertical-align: top;\n",
       "    }\n",
       "\n",
       "    .dataframe thead th {\n",
       "        text-align: right;\n",
       "    }\n",
       "</style>\n",
       "<table border=\"1\" class=\"dataframe\">\n",
       "  <thead>\n",
       "    <tr style=\"text-align: right;\">\n",
       "      <th></th>\n",
       "      <th>Sample</th>\n",
       "      <th>Fraction of protists</th>\n",
       "      <th>Method</th>\n",
       "    </tr>\n",
       "  </thead>\n",
       "  <tbody>\n",
       "    <tr>\n",
       "      <th>0</th>\n",
       "      <td>Beech 1A</td>\n",
       "      <td>1.2e-01</td>\n",
       "      <td>18S rRNA</td>\n",
       "    </tr>\n",
       "    <tr>\n",
       "      <th>3</th>\n",
       "      <td>Beech 1B</td>\n",
       "      <td>1.2e-01</td>\n",
       "      <td>18S rRNA</td>\n",
       "    </tr>\n",
       "    <tr>\n",
       "      <th>6</th>\n",
       "      <td>Spruce 1A</td>\n",
       "      <td>1.2e-01</td>\n",
       "      <td>18S rRNA</td>\n",
       "    </tr>\n",
       "    <tr>\n",
       "      <th>9</th>\n",
       "      <td>Spruce 1B</td>\n",
       "      <td>1.2e-01</td>\n",
       "      <td>18S rRNA</td>\n",
       "    </tr>\n",
       "  </tbody>\n",
       "</table>\n",
       "</div>"
      ],
      "text/plain": [
       "      Sample  Fraction of protists    Method\n",
       "0   Beech 1A               1.2e-01  18S rRNA\n",
       "3   Beech 1B               1.2e-01  18S rRNA\n",
       "6  Spruce 1A               1.2e-01  18S rRNA\n",
       "9  Spruce 1B               1.2e-01  18S rRNA"
      ]
     },
     "execution_count": 17,
     "metadata": {},
     "output_type": "execute_result"
    }
   ],
   "source": [
    "# Load the data from Damon et al.\n",
    "damon_data = pd.read_excel('terrestrial_protist_data.xlsx', 'Damon', skiprows=1)\n",
    "\n",
    "# Use the data based on 18S rRNA sequencing\n",
    "rRNA_data = damon_data[damon_data['Method'] == '18S rRNA']\n",
    "rRNA_data"
   ]
  },
  {
   "cell_type": "markdown",
   "metadata": {},
   "source": [
    "We calculate the geometric mean of the values from Damon et al. as our best estimate for the fraction of protists out of the total population of soil eukaryotes. We calculate the total biomass of soil protists by multiplying the fraction of protists out of the total population of soil eukaryotes by the our estimate of the total biomass of soil fungi:"
   ]
  },
  {
   "cell_type": "code",
   "execution_count": 18,
   "metadata": {},
   "outputs": [
    {
     "name": "stdout",
     "output_type": "stream",
     "text": [
      "Our best estimate for the biomass of soil protists based on 18S rRNA sequencing data is ≈1.5 Gt C\n"
     ]
    }
   ],
   "source": [
    "# Calculate the geometric mean of the values from Damon et al.\n",
    "rRNA_frac = frac_mean(rRNA_data['Fraction of protists'])\n",
    "\n",
    "# Calculate the total biomass of soil protists based on 18S rRNA sequencing data\n",
    "method4_estimate = rRNA_frac*fungi_biomass\n",
    "\n",
    "print('Our best estimate for the biomass of soil protists based on 18S rRNA sequencing data is ≈%.1f Gt C' %(method4_estimate/1e15))"
   ]
  },
  {
   "cell_type": "markdown",
   "metadata": {},
   "source": [
    "## Metatranscriptomics\n",
    "To estimate the total biomass of soil protists from metatranscriptomics data, we calculate the fraction of protists out of the total population of soil eukaryotes based on data from beech and spruce forests ([Damon et al.](http://dx.doi.org/10.1371/journal.pone.0028967)). Below is a sample of the data:"
   ]
  },
  {
   "cell_type": "code",
   "execution_count": 23,
   "metadata": {},
   "outputs": [
    {
     "data": {
      "text/html": [
       "<div>\n",
       "<style scoped>\n",
       "    .dataframe tbody tr th:only-of-type {\n",
       "        vertical-align: middle;\n",
       "    }\n",
       "\n",
       "    .dataframe tbody tr th {\n",
       "        vertical-align: top;\n",
       "    }\n",
       "\n",
       "    .dataframe thead th {\n",
       "        text-align: right;\n",
       "    }\n",
       "</style>\n",
       "<table border=\"1\" class=\"dataframe\">\n",
       "  <thead>\n",
       "    <tr style=\"text-align: right;\">\n",
       "      <th></th>\n",
       "      <th>Sample</th>\n",
       "      <th>Fraction of protists</th>\n",
       "      <th>Method</th>\n",
       "    </tr>\n",
       "  </thead>\n",
       "  <tbody>\n",
       "    <tr>\n",
       "      <th>1</th>\n",
       "      <td>Beech 2A</td>\n",
       "      <td>3.6e-02</td>\n",
       "      <td>Metatranscriptomics</td>\n",
       "    </tr>\n",
       "    <tr>\n",
       "      <th>2</th>\n",
       "      <td>Beech 3A</td>\n",
       "      <td>3.8e-02</td>\n",
       "      <td>Metatranscriptomics</td>\n",
       "    </tr>\n",
       "    <tr>\n",
       "      <th>4</th>\n",
       "      <td>Beech 2B</td>\n",
       "      <td>5.2e-02</td>\n",
       "      <td>Metatranscriptomics</td>\n",
       "    </tr>\n",
       "    <tr>\n",
       "      <th>5</th>\n",
       "      <td>Beech 3B</td>\n",
       "      <td>3.6e-02</td>\n",
       "      <td>Metatranscriptomics</td>\n",
       "    </tr>\n",
       "    <tr>\n",
       "      <th>7</th>\n",
       "      <td>Spruce 2A</td>\n",
       "      <td>2.9e-02</td>\n",
       "      <td>Metatranscriptomics</td>\n",
       "    </tr>\n",
       "    <tr>\n",
       "      <th>8</th>\n",
       "      <td>Spruce 3A</td>\n",
       "      <td>2.6e-02</td>\n",
       "      <td>Metatranscriptomics</td>\n",
       "    </tr>\n",
       "    <tr>\n",
       "      <th>10</th>\n",
       "      <td>Spruce 2B</td>\n",
       "      <td>4.3e-02</td>\n",
       "      <td>Metatranscriptomics</td>\n",
       "    </tr>\n",
       "    <tr>\n",
       "      <th>11</th>\n",
       "      <td>Spruce 3B</td>\n",
       "      <td>3.4e-02</td>\n",
       "      <td>Metatranscriptomics</td>\n",
       "    </tr>\n",
       "  </tbody>\n",
       "</table>\n",
       "</div>"
      ],
      "text/plain": [
       "       Sample  Fraction of protists               Method\n",
       "1    Beech 2A               3.6e-02  Metatranscriptomics\n",
       "2    Beech 3A               3.8e-02  Metatranscriptomics\n",
       "4    Beech 2B               5.2e-02  Metatranscriptomics\n",
       "5    Beech 3B               3.6e-02  Metatranscriptomics\n",
       "7   Spruce 2A               2.9e-02  Metatranscriptomics\n",
       "8   Spruce 3A               2.6e-02  Metatranscriptomics\n",
       "10  Spruce 2B               4.3e-02  Metatranscriptomics\n",
       "11  Spruce 3B               3.4e-02  Metatranscriptomics"
      ]
     },
     "execution_count": 23,
     "metadata": {},
     "output_type": "execute_result"
    }
   ],
   "source": [
    "# Use the data based on 18S rRNA sequencing\n",
    "meta_trans_data = damon_data[damon_data['Method'] == 'Metatranscriptomics']\n",
    "meta_trans_data"
   ]
  },
  {
   "cell_type": "markdown",
   "metadata": {},
   "source": [
    "We calculate the geometric mean of the values from Damon et al. as our best estimate for the fraction of protists out of the total population of soil eukaryotes. We calculate the total biomass of soil protists by multiplying the fraction of protists out of the total population of soil eukaryotes by the our estimate of the total biomass of soil fungi:"
   ]
  },
  {
   "cell_type": "code",
   "execution_count": 24,
   "metadata": {},
   "outputs": [
    {
     "name": "stdout",
     "output_type": "stream",
     "text": [
      "Our best estimate for the biomass of soil protists based on metatranscriptomics data is ≈0.4 Gt C\n"
     ]
    }
   ],
   "source": [
    "# Calculate the geometric mean of the values from Damon et al.\n",
    "meta_trans_frac = frac_mean(meta_trans_data['Fraction of protists'])\n",
    "\n",
    "# Calculate the total biomass of soil protists based on 18S rRNA sequencing data\n",
    "method5_estimate = meta_trans_frac*fungi_biomass\n",
    "\n",
    "print('Our best estimate for the biomass of soil protists based on metatranscriptomics data is ≈%.1f Gt C' %(method5_estimate/1e15))"
   ]
  },
  {
   "cell_type": "markdown",
   "metadata": {},
   "source": [
    "As our best estimate for the biomass of soil protists, we use the geometric mean of the five estimates we generated from the five differnt methodologies:"
   ]
  },
  {
   "cell_type": "code",
   "execution_count": 26,
   "metadata": {},
   "outputs": [
    {
     "name": "stdout",
     "output_type": "stream",
     "text": [
      "Our best estimate for the biomass of terrestrial protists is ≈0.7 Gt C\n"
     ]
    }
   ],
   "source": [
    "# Calculate the geometric mean of the five different estimates we generated\n",
    "best_estimate = gmean([method1_estimate,method2_estimate,method3_estimate,method4_estimate,method5_estimate])\n",
    "\n",
    "print('Our best estimate for the biomass of terrestrial protists is ≈%.1f Gt C' %(best_estimate/1e15))"
   ]
  },
  {
   "cell_type": "markdown",
   "metadata": {},
   "source": [
    "# Uncertainty analysis\n",
    "To assess the uncertainty associated with our estimate of the total biomass of terrestrial protists, we collect available uncertainties for the values reported within studies, between studies using the same method, and between methods. We use the highest uncertainty out of this collection of uncertainties as our best projection for the uncertainty associated wi the estimate of the total biomass of terrestrial protists.\n",
    "\n",
    "## Intra-study uncertainty\n",
    "For each study which reports more than one value, we calculate 95% confidence interval of the geometric mean of those values.\n",
    "\n",
    "### Direct biomass measurement"
   ]
  },
  {
   "cell_type": "code",
   "execution_count": 53,
   "metadata": {},
   "outputs": [
    {
     "data": {
      "text/plain": [
       "Reference\n",
       "Bouwman & Zwart    nan\n",
       "De Ruiter et al.   nan\n",
       "Schaefer           nan\n",
       "Schröter et al.    1.8\n",
       "Stapleton et al.   1.7\n",
       "Zwart et al.       nan\n",
       "Name: Biomass density [g C m^-2], dtype: float64"
      ]
     },
     "execution_count": 53,
     "metadata": {},
     "output_type": "execute_result"
    }
   ],
   "source": [
    "# Calculate the 95% confidence interval geometric mean for each study\n",
    "biomass_study_CI = data.groupby('Reference')['Biomass density [g C m^-2]'].apply(geo_CI_calc)\n",
    "biomass_study_CI"
   ]
  },
  {
   "cell_type": "markdown",
   "metadata": {},
   "source": [
    "### Carbon content and number of individuals\n",
    "We calculate the intra-study 95% confience interval around the estimate of the total number of protists per gram of soil from Adl & Coleman:"
   ]
  },
  {
   "cell_type": "code",
   "execution_count": 73,
   "metadata": {},
   "outputs": [
    {
     "data": {
      "text/plain": [
       "Small flagellates   4.4\n",
       "Large flagellates   2.8\n",
       "Gymnamoebae         1.8\n",
       "Ciliates            2.3\n",
       "dtype: float64"
      ]
     },
     "execution_count": 73,
     "metadata": {},
     "output_type": "execute_result"
    }
   ],
   "source": [
    "ac_CI = ac_data[['Small flagellates','Large flagellates','Gymnamoebae', 'Ciliates']].apply(geo_CI_calc)\n",
    "ac_CI"
   ]
  },
  {
   "cell_type": "markdown",
   "metadata": {},
   "source": [
    "### 18S rDNA sequencing\n",
    "We calculate the 95% confidence interval for the geometric mean of the values from Chen et al.:"
   ]
  },
  {
   "cell_type": "code",
   "execution_count": 56,
   "metadata": {},
   "outputs": [
    {
     "name": "stdout",
     "output_type": "stream",
     "text": [
      "The intra-study uncertainty of the value from Chen et al. is ≈1.2-fold\n"
     ]
    }
   ],
   "source": [
    "print('The intra-study uncertainty of the value from Chen et al. is ≈%.1f-fold' %frac_CI(chen_data['Protists']))"
   ]
  },
  {
   "cell_type": "markdown",
   "metadata": {},
   "source": [
    "### 18S rRNA sequencing"
   ]
  },
  {
   "cell_type": "code",
   "execution_count": 60,
   "metadata": {},
   "outputs": [
    {
     "name": "stdout",
     "output_type": "stream",
     "text": [
      "The intra-study uncertainty associated with the fraction of protists based on 18S rRNA sequencing data of Damon et al. is ≈1.01-fold\n"
     ]
    }
   ],
   "source": [
    "print('The intra-study uncertainty associated with the fraction of protists based on 18S rRNA sequencing data of Damon et al. is ≈%.2f-fold' %frac_CI(rRNA_data['Fraction of protists']))"
   ]
  },
  {
   "cell_type": "markdown",
   "metadata": {},
   "source": [
    "### 18S rRNA sequencing"
   ]
  },
  {
   "cell_type": "code",
   "execution_count": 62,
   "metadata": {},
   "outputs": [
    {
     "name": "stdout",
     "output_type": "stream",
     "text": [
      "The intra-study uncertainty associated with the fraction of protists based on metatranscriptomics data of Damon et al. is ≈1.2-fold\n"
     ]
    }
   ],
   "source": [
    "print('The intra-study uncertainty associated with the fraction of protists based on metatranscriptomics data of Damon et al. is ≈%.1f-fold' %frac_CI(meta_trans_data['Fraction of protists']))"
   ]
  },
  {
   "cell_type": "markdown",
   "metadata": {},
   "source": [
    "## Intra-methd uncertainty\n",
    "For each method that relies on more than one study, we calculate the 95% confidence interval of the geometric mean of the values from the different studies. The methods which are based on more than one study are the direct biomass measurement-based method, the carbon content and number of individual based method and the 18S rDNA sequencing-based method.\n",
    "\n",
    "### Direct biomass measurement\n",
    "To calculate our best estimate for the biomass of terrestrial protists based on direct biomass density measurements, we first calculated the geometric mean of values from the same habitat, generating characteristic values for each habitat.We then calculate the geomteric mean of the characteristic values for each habitat. \n",
    "\n",
    "As a measure of the interstudy uncertainty associated with the estimate based on direct biomass density measurements, we first calculate the 95% confidence interval of the characteristic values for each habitat, and then calculate the 95% confidence invertval around the geometric mean of the characteristic values from each habiat\n",
    "\n",
    "#### Uncertainty within habitats"
   ]
  },
  {
   "cell_type": "code",
   "execution_count": 152,
   "metadata": {},
   "outputs": [
    {
     "name": "stdout",
     "output_type": "stream",
     "text": [
      "The interstudy uncertainty for studies within the same habitat:\n"
     ]
    },
    {
     "data": {
      "text/plain": [
       "Habitat\n",
       "Beech forest        nan\n",
       "Coniferous forest   1.8\n",
       "Cropland            1.8\n",
       "Tundra              1.7\n",
       "Name: Biomass density [g C m^-2], dtype: float64"
      ]
     },
     "execution_count": 152,
     "metadata": {},
     "output_type": "execute_result"
    }
   ],
   "source": [
    "biomass_intra_habitat_CI = data.groupby('Habitat')['Biomass density [g C m^-2]'].apply(geo_CI_calc)\n",
    "print('The interstudy uncertainty for studies within the same habitat:')\n",
    "biomass_intra_habitat_CI"
   ]
  },
  {
   "cell_type": "markdown",
   "metadata": {},
   "source": [
    "#### Uncertainty between habitats"
   ]
  },
  {
   "cell_type": "code",
   "execution_count": 70,
   "metadata": {},
   "outputs": [
    {
     "name": "stdout",
     "output_type": "stream",
     "text": [
      "The 95 percent confidence interval of the geometric mean of the characteristic biomass densities from each habitat is ≈2.8-fold\n"
     ]
    }
   ],
   "source": [
    "biomass_inter_habitat_CI = geo_CI_calc(habitat_mean)\n",
    "print('The 95 percent confidence interval of the geometric mean of the characteristic biomass densities from each habitat is ≈%.1f-fold' %biomass_inter_habitat_CI)"
   ]
  },
  {
   "cell_type": "markdown",
   "metadata": {},
   "source": [
    "### Carbon content and number of individuals\n",
    "As a measure of the interstudy uncertainty associated with the estimate of the biomass of terrestrial protists based on the characteristic carbon content of soil protists and the density of number of individuals per unit area, we first calculate the interstudy uncertainty for the characteristic carbon content of each type of protist:\n",
    "\n",
    "#### Carbon content of groups of protists\n",
    "For each group of protists, we calculate the 95% confidence interval around our estimate of the characteristic carbon content of single protists from that group. For flagellates, we rely only on a single source, and thus for the estimate of the carbon content of flagellates we are not able to project an uncertainty."
   ]
  },
  {
   "cell_type": "code",
   "execution_count": 74,
   "metadata": {},
   "outputs": [
    {
     "name": "stdout",
     "output_type": "stream",
     "text": [
      "Our best projection for the uncertainty associated with the estimate of the carbon conent of a single protist is ≈3.6-fold\n"
     ]
    }
   ],
   "source": [
    "# Calculate the interstudy 95% confidence interval around the estimate of the carbon content of each group\n",
    "ciliate_cc_CI = geo_CI_calc([ff_carbon_content['Ciliate'],persson_data.loc[0]['Mean body dry weight [g]']/2])\n",
    "naked_amoebae_cc_CI = geo_CI_calc([ff_carbon_content['Naked amoebae'],persson_data.loc[2]['Mean body dry weight [g]']/2,schaefer_cc.loc['Naked amoebae']])\n",
    "testate_amoebae_cc_CI = geo_CI_calc([ff_carbon_content['Testate amoebae'],schaefer_cc.loc['Testate amoebae']])"
   ]
  },
  {
   "cell_type": "markdown",
   "metadata": {},
   "source": [
    "Next, we calculate the interstudy uncertainty uncertainty associated with the estimate of the total number of individual protists per gram of soil:\n",
    "\n",
    "#### Number of individuals of \n",
    "For each group of protists, we calculate the 95% confidence interval around our estimate of the density of number of individuals from that group per unit area. For flagellates and testate amoebae, we rely only on a single source, and thus we are not able to project an uncertainty."
   ]
  },
  {
   "cell_type": "code",
   "execution_count": 77,
   "metadata": {},
   "outputs": [],
   "source": [
    "# Calculate the interstudy 95% confidence interval around the estimate of the number of individuals\n",
    "# per gram of soil for each group\n",
    "ciliate_abun_CI = geo_CI_calc([ac_mean['Ciliates'], ff_mean['Ciliate']])\n",
    "naked_amoebae_abund_CI = geo_CI_calc([ac_mean['Gymnamoebae'],ff_mean['Naked amoebae']])"
   ]
  },
  {
   "cell_type": "markdown",
   "metadata": {},
   "source": [
    "We propagate the uncertainties associated with the carbon content and number of individuals per gram soil for each group into our final estimate of the biomass of soil protists. In cases we could not calculate the uncertainty associated with the estimate, we use the mean of the uncertainties from the other groups."
   ]
  },
  {
   "cell_type": "code",
   "execution_count": 151,
   "metadata": {},
   "outputs": [
    {
     "name": "stdout",
     "output_type": "stream",
     "text": [
      "Our best projection for the interstudy uncertainty associated with the estimate of the total biomass of soil protists based on estimates of carbon content and number of individuals is ≈9-fold\n"
     ]
    }
   ],
   "source": [
    "# Calculate the average uncertainty associated with the estimate of the carbon content \n",
    "# and number of individuals per gram of soil\n",
    "average_cc_CI = np.mean([ciliate_cc_CI,naked_amoebae_cc_CI, testate_amoebae_cc_CI])\n",
    "average_abund_CI = np.mean([ciliate_abun_CI,naked_amoebae_abund_CI])\n",
    "\n",
    "# Propagate the uncertainty in the carbon content and number of individuals for each group\n",
    "# For cased where no uncertainty projection is available, use the average uncertainty calculate\n",
    "# above\n",
    "ciliate_CI = CI_prod_prop(np.array([ciliate_cc_CI, ciliate_abun_CI]))\n",
    "naked_amoebae_CI = CI_prod_prop(np.array([naked_amoebae_cc_CI,naked_amoebae_abund_CI]))\n",
    "flagellate_CI = CI_prod_prop(np.array([average_cc_CI,average_abund_CI]))\n",
    "testate_amoebae_CI = CI_prod_prop(np.array([testate_amoebae_cc_CI,average_abund_CI]))\n",
    "\n",
    "# Propagate the uncertainties for each group to the total estimate of the biomass of soil protists\n",
    "method2_inter_CI = CI_sum_prop(estimates= (carbon_content['Carbon content [g C]']*abund_mean['Abundance [# g^-1]']), \n",
    "                               mul_CIs=np.array([ciliate_CI,flagellate_CI,naked_amoebae_CI,flagellate_CI,testate_amoebae_CI]))\n",
    "print('Our best projection for the interstudy uncertainty associated with the estimate of the total biomass of soil protists based on estimates of carbon content and number of individuals is ≈%.0f-fold' % method2_inter_CI)"
   ]
  },
  {
   "cell_type": "markdown",
   "metadata": {},
   "source": [
    "### 18S-rDNA sequencing\n",
    "Our estimate of the biomass of soil protists based on 18S rDNA sequencing relies on data from two studies (Tedersoo et al. and Chen et al.). We calculate the 95% confidence interval around the geometric mean of values from the two studies as our best projection of the interstudy uncertainty associated with the estimate of the total biomass of terrestrial protists based on 18S rDNA sequencing."
   ]
  },
  {
   "cell_type": "code",
   "execution_count": 153,
   "metadata": {},
   "outputs": [
    {
     "name": "stdout",
     "output_type": "stream",
     "text": [
      "Our best projection for the interstudy uncertainty associated with the estimate of the total biomass of soil protists based on 18S rDNA sequencing is ≈3-fold\n"
     ]
    }
   ],
   "source": [
    "# Calculate the 95% confidence interval around the estimate for the fraction of soil protists\n",
    "rDNA_frac_CI = frac_CI(np.array([chen_mean,tedersoo_frac]))\n",
    "\n",
    "print('Our best projection for the interstudy uncertainty associated with the estimate of the total biomass of soil protists based on 18S rDNA sequencing is ≈%.0f-fold' % rDNA_frac_CI)"
   ]
  },
  {
   "cell_type": "markdown",
   "metadata": {},
   "source": [
    "## Inter-method uncertainty\n",
    "As our best estimate of the total biomass of soil protists we use the geometric mean of the estimates from the five independent methods. As a measure of the uncertainty associated with the geometric mean of estimates from different methods, we calculate the 95% confidence interval around the geometric mean of the estimates.\n",
    "\n",
    "Because we are less confident in our estimates based on molecular techmiques, we first calculate the geometric mean of the estimates based on the three molecular techniques, and then calculate the 95% confidence interval of the geometric mean of the estimates from the first two methods and the mean of the estimates based on molecular techniques:"
   ]
  },
  {
   "cell_type": "code",
   "execution_count": 155,
   "metadata": {},
   "outputs": [
    {
     "name": "stdout",
     "output_type": "stream",
     "text": [
      "Our best projection for the inter-method uncertainty associated with the estimate of the total biomass of soil protists is ≈4-fold\n"
     ]
    }
   ],
   "source": [
    "# Calculate the geometric mean of estimates based on molecular techniques\n",
    "mol_estimate = gmean([method3_estimate,method4_estimate,method5_estimate])\n",
    "\n",
    "# Calculate the 95% confidence interval around the geometric mean of values from \n",
    "# the two estimates based on direct measurements and the mean value from molecular\n",
    "# techniques\n",
    "inter_method_CI = geo_CI_calc(np.array([method1_estimate,method2_estimate,mol_estimate]))\n",
    "\n",
    "print('Our best projection for the inter-method uncertainty associated with the estimate of the total biomass of soil protists is ≈%.0f-fold' % inter_method_CI)"
   ]
  },
  {
   "cell_type": "markdown",
   "metadata": {},
   "source": [
    "As our best projection for the uncertainty associated with the estimate of the "
   ]
  },
  {
   "cell_type": "code",
   "execution_count": null,
   "metadata": {
    "collapsed": true
   },
   "outputs": [],
   "source": [
    "mul_CI = "
   ]
  }
 ],
 "metadata": {
  "kernelspec": {
   "display_name": "Python 3",
   "language": "python",
   "name": "python3"
  },
  "language_info": {
   "codemirror_mode": {
    "name": "ipython",
    "version": 3
   },
   "file_extension": ".py",
   "mimetype": "text/x-python",
   "name": "python",
   "nbconvert_exporter": "python",
   "pygments_lexer": "ipython3",
   "version": "3.5.2"
  }
 },
 "nbformat": 4,
 "nbformat_minor": 2
}
