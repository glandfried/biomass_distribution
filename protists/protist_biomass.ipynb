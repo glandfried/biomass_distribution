{
 "cells": [
  {
   "cell_type": "code",
   "execution_count": 1,
   "metadata": {},
   "outputs": [],
   "source": [
    "# Load dependencies\n",
    "import pandas as pd\n",
    "import numpy as np\n",
    "import gdal\n",
    "from scipy.stats import gmean\n",
    "import sys\n",
    "sys.path.insert(0,'../statistics_helper/')\n",
    "from fraction_helper import *\n",
    "from CI_helper import *\n",
    "from excel_utils import *\n",
    "pd.options.display.float_format = '{:,.1e}'.format"
   ]
  },
  {
   "cell_type": "markdown",
   "metadata": {},
   "source": [
    "# Estimating the total biomass of protists\n",
    "To estimate the total biomass of protists, we combine our estimates for the total biomass of marine and terrestrial protists, which we have generated in the dedicated sections for each group. Our estimates for the biomass of the marine and terrestrial protists are presented below:"
   ]
  },
  {
   "cell_type": "code",
   "execution_count": 8,
   "metadata": {},
   "outputs": [
    {
     "data": {
      "text/html": [
       "<div>\n",
       "<style scoped>\n",
       "    .dataframe tbody tr th:only-of-type {\n",
       "        vertical-align: middle;\n",
       "    }\n",
       "\n",
       "    .dataframe tbody tr th {\n",
       "        vertical-align: top;\n",
       "    }\n",
       "\n",
       "    .dataframe thead th {\n",
       "        text-align: right;\n",
       "    }\n",
       "</style>\n",
       "<table border=\"1\" class=\"dataframe\">\n",
       "  <thead>\n",
       "    <tr style=\"text-align: right;\">\n",
       "      <th></th>\n",
       "      <th></th>\n",
       "      <th>Biomass [Gt C]</th>\n",
       "      <th>Rounded biomass [Gt C]</th>\n",
       "      <th>Uncertainty</th>\n",
       "      <th>Total biomass [Gt C]</th>\n",
       "      <th>Rounded total biomass [Gt C]</th>\n",
       "      <th>Total uncertainty</th>\n",
       "    </tr>\n",
       "  </thead>\n",
       "  <tbody>\n",
       "    <tr>\n",
       "      <th rowspan=\"2\" valign=\"top\">Protists</th>\n",
       "      <th>Marine</th>\n",
       "      <td>1.8e+00</td>\n",
       "      <td>nan</td>\n",
       "      <td>1.0e+01</td>\n",
       "      <td>4.0e+00</td>\n",
       "      <td>4.0e+00</td>\n",
       "      <td>7.0e+00</td>\n",
       "    </tr>\n",
       "    <tr>\n",
       "      <th>Terrestrial</th>\n",
       "      <td>1.6e+00</td>\n",
       "      <td>nan</td>\n",
       "      <td>7.8e+00</td>\n",
       "      <td>nan</td>\n",
       "      <td>nan</td>\n",
       "      <td>nan</td>\n",
       "    </tr>\n",
       "  </tbody>\n",
       "</table>\n",
       "</div>"
      ],
      "text/plain": [
       "                      Biomass [Gt C]  Rounded biomass [Gt C]  Uncertainty  \\\n",
       "Protists Marine              1.8e+00                     nan      1.0e+01   \n",
       "         Terrestrial         1.6e+00                     nan      7.8e+00   \n",
       "\n",
       "                      Total biomass [Gt C]  Rounded total biomass [Gt C]  \\\n",
       "Protists Marine                    4.0e+00                       4.0e+00   \n",
       "         Terrestrial                   nan                           nan   \n",
       "\n",
       "                      Total uncertainty  \n",
       "Protists Marine                 7.0e+00  \n",
       "         Terrestrial                nan  "
      ]
     },
     "execution_count": 8,
     "metadata": {},
     "output_type": "execute_result"
    }
   ],
   "source": [
    "data = pd.read_excel('../results.xlsx','Table1 & Fig1', index_col = [0,1])\n",
    "data.loc[[('Protists','Marine'),('Protists','Terrestrial')]]"
   ]
  },
  {
   "cell_type": "markdown",
   "metadata": {},
   "source": [
    "We add to the our estimates of the biomass of marine and terrestrial protists and estimate for the total biomass of terrestrial deep subsurface protists. Limited sampling by [Novarino et al.](http://dx.doi.org/10.1111/j.1574-6976.1997.tb00313.x)m have suggested that protists are   soil fungi our estimates for the contribution of marine and deep subsurface fungi. For marine fungi, we project an uncertainty of 10-fold (similar to our uncertainties for other marine taxa."
   ]
  },
  {
   "cell_type": "code",
   "execution_count": 3,
   "metadata": {},
   "outputs": [
    {
     "data": {
      "text/plain": [
       "\"\\n# Feed marine protists results to Table 1 & Fig. 1\\nupdate_results(sheet='Table1 & Fig1', \\n               row=('Protists','Terrestrial'), \\n               col=['Biomass [Gt C]', 'Uncertainty'],\\n               values=[float(best_estimate)/1e15,mul_CI],\\n               path='../../results.xlsx')\""
      ]
     },
     "execution_count": 3,
     "metadata": {},
     "output_type": "execute_result"
    }
   ],
   "source": [
    "'''\n",
    "# Feed marine protists results to Table 1 & Fig. 1\n",
    "update_results(sheet='Table1 & Fig1', \n",
    "               row=('Protists','Terrestrial'), \n",
    "               col=['Biomass [Gt C]', 'Uncertainty'],\n",
    "               values=[float(best_estimate)/1e15,mul_CI],\n",
    "               path='../../results.xlsx')'''"
   ]
  }
 ],
 "metadata": {
  "kernelspec": {
   "display_name": "Python 3",
   "language": "python",
   "name": "python3"
  },
  "language_info": {
   "codemirror_mode": {
    "name": "ipython",
    "version": 3
   },
   "file_extension": ".py",
   "mimetype": "text/x-python",
   "name": "python",
   "nbconvert_exporter": "python",
   "pygments_lexer": "ipython3",
   "version": "3.5.2"
  }
 },
 "nbformat": 4,
 "nbformat_minor": 2
}
