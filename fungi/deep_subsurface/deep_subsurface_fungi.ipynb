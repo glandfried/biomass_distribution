{
 "cells": [
  {
   "cell_type": "code",
   "execution_count": 1,
   "metadata": {
    "collapsed": true
   },
   "outputs": [],
   "source": [
    "# Load dependencies\n",
    "import pandas as pd\n",
    "import numpy as np\n",
    "import gdal\n",
    "from scipy.stats import gmean\n",
    "import sys\n",
    "sys.path.insert(0,'../../statistics_helper/')\n",
    "from fraction_helper import *\n",
    "from CI_helper import *\n",
    "from excel_utils import *\n",
    "pd.options.display.float_format = '{:,.1e}'.format"
   ]
  },
  {
   "cell_type": "markdown",
   "metadata": {},
   "source": [
    "# Estimating the total biomass of deep subsurface fungi\n",
    "To estimate the total biomass of fungi in the deep subsurface, we will focus on the terrestrial deep subsurface. As we detail in the SI Appendix, the abundance of fungi in the marine deep subsurface in likely not very high.\n",
    "\n",
    "To estimate the total biomass of fungi in the terrestrial deep subsurface, we estimate two key parameters - the ratio between fungal and bacterial cells in the terrestrial deep subsurface, and the ratio between the carbon content of bacteria and fungi in the terrestrial deep subsurface.\n",
    "\n",
    "## The ratio between the number of cells of fungi and prokaryotes cells in the terrestrial deep subsurface\n",
    "To estimate the ratio between the total number of cells of fungi and prokaryotes in the terrestrial deep subsurface, we rely on two studies: [Sinclair & Ghiorse 1989](https://doi.org/10.1080/01490458909377847) and [Ekendahl et al.](http://dx.doi.org/10.1007/s00248-003-2008-5).\n",
    "\n",
    "Sinclair & Ghiorse measured the density of colony forming units of fungi and prokaryotes per g dry weight of pristine aquifer samples. We use the geometric mean of the values from different sites as our best estimate for the ratio between the number of cells of fungi and prokaryotes in the terrestrial deep subsurface:"
   ]
  },
  {
   "cell_type": "code",
   "execution_count": 4,
   "metadata": {},
   "outputs": [
    {
     "name": "stdout",
     "output_type": "stream",
     "text": [
      "Our best estimate of the ratio between the number of cells of fungi and prokaryotes based on Sinclair & Ghiorse is ≈5e+04-fold more prokaryotes\n"
     ]
    }
   ],
   "source": [
    "sg_data = pd.read_excel('deep_subsurface_fungi.xlsx',skiprows=1)\n",
    "sg_ratio = gmean(sg_data['Bacteria CFU [mL^-1]']/sg_data['Fungi [CFU mL^-1]'])\n",
    "\n",
    "print('Our best estimate of the ratio between the number of cells of fungi and prokaryotes based on Sinclair & Ghiorse is ≈%.0e-fold more prokaryotes' %sg_ratio)"
   ]
  },
  {
   "cell_type": "markdown",
   "metadata": {},
   "source": [
    "The data in Sinclair & Ghiorse is based on culturing fungi and prokarytes, which might not represent the actual ratios *in situ*. We therefore use a second source, which measured the densities of fungal cells in the Fennoscandian Shield ([Ekendahl et al.](http://dx.doi.org/10.1007/s00248-003-2008-5)). Ekendahl et al. measured the density of fungal cells using both culturing-based methods and direct counts. They have found a density of between 0.01 and 1 fungal cells per mL of groundwater. The densities of prokaryotes per mL of groundwater measured in the same site "
   ]
  }
 ],
 "metadata": {
  "kernelspec": {
   "display_name": "Python 3",
   "language": "python",
   "name": "python3"
  },
  "language_info": {
   "codemirror_mode": {
    "name": "ipython",
    "version": 3
   },
   "file_extension": ".py",
   "mimetype": "text/x-python",
   "name": "python",
   "nbconvert_exporter": "python",
   "pygments_lexer": "ipython3",
   "version": "3.5.2"
  }
 },
 "nbformat": 4,
 "nbformat_minor": 2
}
