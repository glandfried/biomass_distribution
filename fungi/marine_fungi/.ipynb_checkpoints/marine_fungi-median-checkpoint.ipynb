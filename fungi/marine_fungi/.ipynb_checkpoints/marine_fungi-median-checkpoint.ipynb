{
 "cells": [
  {
   "cell_type": "code",
   "execution_count": 1,
   "metadata": {
    "collapsed": true
   },
   "outputs": [],
   "source": [
    "# Load dependencies\n",
    "import pandas as pd\n",
    "import numpy as np\n",
    "from scipy.stats import gmean\n",
    "import sys\n",
    "sys.path.insert(0,'../../statistics_helper/')\n",
    "from fraction_helper import *\n",
    "from CI_helper import *\n",
    "from excel_utils import *\n",
    "pd.options.display.float_format = '{:,.1e}'.format"
   ]
  },
  {
   "cell_type": "markdown",
   "metadata": {},
   "source": [
    "# Estimating the biomass of marine fungi\n",
    "To estimate the total biomass of marine fungi, we consider different locations in which marine fungi might reside, and estimate the total biomass of fungi in each region. The main regions we consider are epipelagic and deep-sea planktonic fungi, and particle-attached fungi.\n",
    "\n",
    "## Epipelagic fungi\n",
    "To estimate the total biomass of epipelagic free-living fungi, we rely on studies using two independent methods: qPCR and direct counts of the concentration of fungi.\n",
    "\n",
    "### qPCR-based method\n",
    "Our qPCR-based estimate measured the ratio between DNA copy numbers for bacteria and fugni in the West Pacific Warm Pool ([Wang et al.](https://doi.org/10.1371/journal.pone.0101523)). Here is a sample of the data:"
   ]
  },
  {
   "cell_type": "code",
   "execution_count": 2,
   "metadata": {},
   "outputs": [
    {
     "data": {
      "text/html": [
       "<div>\n",
       "<style scoped>\n",
       "    .dataframe tbody tr th:only-of-type {\n",
       "        vertical-align: middle;\n",
       "    }\n",
       "\n",
       "    .dataframe tbody tr th {\n",
       "        vertical-align: top;\n",
       "    }\n",
       "\n",
       "    .dataframe thead th {\n",
       "        text-align: right;\n",
       "    }\n",
       "</style>\n",
       "<table border=\"1\" class=\"dataframe\">\n",
       "  <thead>\n",
       "    <tr style=\"text-align: right;\">\n",
       "      <th></th>\n",
       "      <th>Station</th>\n",
       "      <th>Depth [m]</th>\n",
       "      <th>Basidiomycota [ng µl^-1]</th>\n",
       "      <th>Ascomycota [ng µl^-1]</th>\n",
       "      <th>Bacteria [ng µl^-1]</th>\n",
       "    </tr>\n",
       "  </thead>\n",
       "  <tbody>\n",
       "    <tr>\n",
       "      <th>0</th>\n",
       "      <td>S2</td>\n",
       "      <td>5</td>\n",
       "      <td>1.5e-01</td>\n",
       "      <td>3.8e-03</td>\n",
       "      <td>2.8e+00</td>\n",
       "    </tr>\n",
       "    <tr>\n",
       "      <th>1</th>\n",
       "      <td>S2</td>\n",
       "      <td>25</td>\n",
       "      <td>1.0e-01</td>\n",
       "      <td>3.5e-03</td>\n",
       "      <td>2.5e+00</td>\n",
       "    </tr>\n",
       "    <tr>\n",
       "      <th>2</th>\n",
       "      <td>S2</td>\n",
       "      <td>50</td>\n",
       "      <td>1.7e-01</td>\n",
       "      <td>1.3e-03</td>\n",
       "      <td>2.5e+00</td>\n",
       "    </tr>\n",
       "    <tr>\n",
       "      <th>3</th>\n",
       "      <td>S2</td>\n",
       "      <td>75</td>\n",
       "      <td>1.8e-01</td>\n",
       "      <td>2.9e-03</td>\n",
       "      <td>9.8e-01</td>\n",
       "    </tr>\n",
       "    <tr>\n",
       "      <th>4</th>\n",
       "      <td>S2</td>\n",
       "      <td>100</td>\n",
       "      <td>2.5e-01</td>\n",
       "      <td>1.3e-03</td>\n",
       "      <td>1.6e+00</td>\n",
       "    </tr>\n",
       "  </tbody>\n",
       "</table>\n",
       "</div>"
      ],
      "text/plain": [
       "  Station  Depth [m]  Basidiomycota [ng µl^-1]  Ascomycota [ng µl^-1]  \\\n",
       "0      S2          5                   1.5e-01                3.8e-03   \n",
       "1      S2         25                   1.0e-01                3.5e-03   \n",
       "2      S2         50                   1.7e-01                1.3e-03   \n",
       "3      S2         75                   1.8e-01                2.9e-03   \n",
       "4      S2        100                   2.5e-01                1.3e-03   \n",
       "\n",
       "   Bacteria [ng µl^-1]  \n",
       "0              2.8e+00  \n",
       "1              2.5e+00  \n",
       "2              2.5e+00  \n",
       "3              9.8e-01  \n",
       "4              1.6e+00  "
      ]
     },
     "execution_count": 2,
     "metadata": {},
     "output_type": "execute_result"
    }
   ],
   "source": [
    "qPCR_data = pd.read_excel('marine_fungi_data.xlsx','Wang',skiprows=1)\n",
    "qPCR_data.head()"
   ]
  },
  {
   "cell_type": "markdown",
   "metadata": {},
   "source": [
    "We calculate the ratio of fungal DNA copy number to bacterial DNA copy number:"
   ]
  },
  {
   "cell_type": "code",
   "execution_count": 3,
   "metadata": {},
   "outputs": [
    {
     "name": "stdout",
     "output_type": "stream",
     "text": [
      "The ratio of fungal DNA copy number and bacterial DNA copy number is ≈12%\n"
     ]
    }
   ],
   "source": [
    "# Calculate the total DNA copy number of fungi\n",
    "fungal_DNA = qPCR_data['Basidiomycota [ng µl^-1]']+qPCR_data['Ascomycota [ng µl^-1]']\n",
    "\n",
    "# Calculate the mean ratio of fungal DNA copy number and bacterial DNA copy number\n",
    "qPCR_fungal_fraction = (fungal_DNA/qPCR_data['Bacteria [ng µl^-1]']).mean()\n",
    "\n",
    "print('The ratio of fungal DNA copy number and bacterial DNA copy number is ≈%.0f' %(qPCR_fungal_fraction*100) + '%')"
   ]
  },
  {
   "cell_type": "markdown",
   "metadata": {},
   "source": [
    "### Direct count method\n",
    "As an independent method for estimating the total biomass of marine fungi in the epipelagic layer, we use a study which measured the carbon concentration of fungi in the epipelagic layer in upwelling ecosystem off Chile using direct counts ([Gutiérrez et al.]( https://doi.org/10.1007/s00227-010-1552-z)). We calculate the average concentration of fungal carbon in relation to the carbon concentration of prokaryotes in the same site:"
   ]
  },
  {
   "cell_type": "code",
   "execution_count": 4,
   "metadata": {},
   "outputs": [
    {
     "name": "stdout",
     "output_type": "stream",
     "text": [
      "The ratio of fungal carbon and bacterial carbon is ≈27%\n"
     ]
    }
   ],
   "source": [
    "# Load data on direct counts of fungal carbon concentration\n",
    "direct_data = pd.read_excel('marine_fungi_data.xlsx','Gutiérrez',skiprows=1)\n",
    "\n",
    "# Calculate the mean fungal carbon concentration\n",
    "mean_fungal_conc = direct_data['Fungi carbon concentration [µg C L^-1]'].mean()\n",
    "\n",
    "# Calculate the mean carbon concentration of prokaryotes\n",
    "mean_prok_conc = direct_data['Prokaryote carbon concentration [µg C L^-1]'].mean()\n",
    "\n",
    "direct_fungal_fraction = mean_fungal_conc/mean_prok_conc\n",
    "\n",
    "print('The ratio of fungal carbon and bacterial carbon is ≈%.0f' %(direct_fungal_fraction*100) + '%')"
   ]
  },
  {
   "cell_type": "markdown",
   "metadata": {},
   "source": [
    "As our best estimate for the ratio of fungal and prokaryote carbon, we use the geometric mean of the ratios estimated based on qPCR and direct counts:"
   ]
  },
  {
   "cell_type": "code",
   "execution_count": 5,
   "metadata": {},
   "outputs": [
    {
     "name": "stdout",
     "output_type": "stream",
     "text": [
      "The ratio of fungal carbon and bacterial carbon is ≈18%\n"
     ]
    }
   ],
   "source": [
    "best_fungal_fraction = gmean([qPCR_fungal_fraction,direct_fungal_fraction])\n",
    "print('The ratio of fungal carbon and bacterial carbon is ≈%.0f' %(best_fungal_fraction*100) + '%')"
   ]
  },
  {
   "cell_type": "markdown",
   "metadata": {},
   "source": [
    "To estimate the total biomass of fungi using qPCR, we rely on our estimate from the total biomass of bacteria and archaea in the top 200 meters, which we estimate in the marine bacteria and archaea section:"
   ]
  },
  {
   "cell_type": "code",
   "execution_count": 6,
   "metadata": {},
   "outputs": [
    {
     "name": "stdout",
     "output_type": "stream",
     "text": [
      "Our estimate for the total biomass of bacteria and archaea in the epipelagic layer is ≈0.4 Gt C\n"
     ]
    }
   ],
   "source": [
    "# Load total biomass of marine bacteria and archaea\n",
    "marine_prok_biomass = pd.read_excel('../../bacteria_archaea/marine/marine_prok_biomass_estimate.xlsx')\n",
    "\n",
    "# Load our estimate of the fraction of prokaryote biomass in the epipelagic layer\n",
    "epi_frac = pd.read_excel('marine_fungi_data.xlsx','Bacteria biomass')\n",
    "\n",
    "# Calculate the biomass of prokaryotes in the epipelagic realm\n",
    "epi_prok_biomass = marine_prok_biomass.iloc[0:2,1].prod()*epi_frac['Value']*1e-15\n",
    "\n",
    "print('Our estimate for the total biomass of bacteria and archaea in the epipelagic layer is ≈%.1f Gt C' %(epi_prok_biomass/1e15))"
   ]
  },
  {
   "cell_type": "markdown",
   "metadata": {},
   "source": [
    "We estimate the total biomass of fungi in the epipelagic layer by multiplying the total biomass of prokaryotes by the ratio of fungal and prokaryote biomass we calculated:"
   ]
  },
  {
   "cell_type": "code",
   "execution_count": 7,
   "metadata": {},
   "outputs": [
    {
     "name": "stdout",
     "output_type": "stream",
     "text": [
      "Our estimate for the total biomass of free-living epipelagic fungi based of qPCR is ≈0.07 Gt C\n"
     ]
    }
   ],
   "source": [
    "best_epi_fungi = epi_prok_biomass*best_fungal_fraction\n",
    "\n",
    "print('Our estimate for the total biomass of free-living epipelagic fungi based of qPCR is ≈%.2f Gt C' %(best_epi_fungi/1e15))"
   ]
  },
  {
   "cell_type": "markdown",
   "metadata": {},
   "source": [
    "## Deep-sea fungi\n",
    "In the deep ocean, recent studies have quantified the contribution of fungi to the total 18S rDNA of microbial eukaryotes ([Pernice et al.](http://dx.doi.org/10.1038/ismej.2015.170)). Pernice et al. estimate ≈15% of the 18S rDNA sequences are fungal. The biomass concentration of deep-sea microbial eukaryotes was measured by [Pernice et al.](https://dx.doi.org/10.1038/ismej.2014.168). Here are the results of the measurements:"
   ]
  },
  {
   "cell_type": "code",
   "execution_count": 8,
   "metadata": {},
   "outputs": [
    {
     "data": {
      "text/html": [
       "<div>\n",
       "<style scoped>\n",
       "    .dataframe tbody tr th:only-of-type {\n",
       "        vertical-align: middle;\n",
       "    }\n",
       "\n",
       "    .dataframe tbody tr th {\n",
       "        vertical-align: top;\n",
       "    }\n",
       "\n",
       "    .dataframe thead th {\n",
       "        text-align: right;\n",
       "    }\n",
       "</style>\n",
       "<table border=\"1\" class=\"dataframe\">\n",
       "  <thead>\n",
       "    <tr style=\"text-align: right;\">\n",
       "      <th></th>\n",
       "      <th>Min depth [m]</th>\n",
       "      <th>Max depth [m]</th>\n",
       "      <th>Microbial eukaryotes biomass density [pg C mL^-1]</th>\n",
       "      <th>Protist SE</th>\n",
       "      <th>Prokaryote biomass density [pg C mL^-1]</th>\n",
       "      <th>Prokaryote SE</th>\n",
       "    </tr>\n",
       "  </thead>\n",
       "  <tbody>\n",
       "    <tr>\n",
       "      <th>0</th>\n",
       "      <td>200</td>\n",
       "      <td>450</td>\n",
       "      <td>280</td>\n",
       "      <td>46</td>\n",
       "      <td>837</td>\n",
       "      <td>152</td>\n",
       "    </tr>\n",
       "    <tr>\n",
       "      <th>1</th>\n",
       "      <td>451</td>\n",
       "      <td>700</td>\n",
       "      <td>150</td>\n",
       "      <td>23</td>\n",
       "      <td>661</td>\n",
       "      <td>160</td>\n",
       "    </tr>\n",
       "    <tr>\n",
       "      <th>2</th>\n",
       "      <td>701</td>\n",
       "      <td>1400</td>\n",
       "      <td>112</td>\n",
       "      <td>28</td>\n",
       "      <td>534</td>\n",
       "      <td>106</td>\n",
       "    </tr>\n",
       "    <tr>\n",
       "      <th>3</th>\n",
       "      <td>1401</td>\n",
       "      <td>4000</td>\n",
       "      <td>50</td>\n",
       "      <td>14</td>\n",
       "      <td>309</td>\n",
       "      <td>59</td>\n",
       "    </tr>\n",
       "  </tbody>\n",
       "</table>\n",
       "</div>"
      ],
      "text/plain": [
       "   Min depth [m]  Max depth [m]  \\\n",
       "0            200            450   \n",
       "1            451            700   \n",
       "2            701           1400   \n",
       "3           1401           4000   \n",
       "\n",
       "   Microbial eukaryotes biomass density [pg C mL^-1]  Protist SE  \\\n",
       "0                                                280          46   \n",
       "1                                                150          23   \n",
       "2                                                112          28   \n",
       "3                                                 50          14   \n",
       "\n",
       "   Prokaryote biomass density [pg C mL^-1]  Prokaryote SE  \n",
       "0                                      837            152  \n",
       "1                                      661            160  \n",
       "2                                      534            106  \n",
       "3                                      309             59  "
      ]
     },
     "execution_count": 8,
     "metadata": {},
     "output_type": "execute_result"
    }
   ],
   "source": [
    "pernice_data = pd.read_excel('marine_fungi_data.xlsx','Pernice',skiprows=1)\n",
    "pernice_data"
   ]
  },
  {
   "cell_type": "markdown",
   "metadata": {},
   "source": [
    "We estimate the total biomass of microbial eukaryotes by multiplying the the measured biomass densities by the depth range of the measurements, and applying the concentrations to the total ≈3.6×10$^{14}\\ m^2$ of ocean."
   ]
  },
  {
   "cell_type": "code",
   "execution_count": 9,
   "metadata": {},
   "outputs": [
    {
     "name": "stdout",
     "output_type": "stream",
     "text": [
      "Our best estimate for the biomass of deep-sea microbial eukaryotes is ≈0.1 Gt C\n"
     ]
    }
   ],
   "source": [
    "depth_range = pernice_data['Max depth [m]']-pernice_data['Min depth [m]']\n",
    "\n",
    "# Convert units: mL to m^3, pg C to g C\n",
    "unit_conversion = 1e6*1e-12\n",
    "ocean_area = 3.6e14\n",
    "\n",
    "# Calculate the total biomass of deep-sea microbial eukaryotes\n",
    "miceuk_biomass = (depth_range*pernice_data['Microbial eukaryotes biomass density [pg C mL^-1]']).sum()*unit_conversion*ocean_area\n",
    "\n",
    "print('Our best estimate for the biomass of deep-sea microbial eukaryotes is ≈%.1f Gt C' %(miceuk_biomass/1e15))"
   ]
  },
  {
   "cell_type": "markdown",
   "metadata": {},
   "source": [
    "To estimate the biomass of deep-sea fungi, we multiply our estimate of the total biomass of deep-sea microbial eukaryotes with the estimate by Pernice et al. of the fraction of the 18S rDNA sequences of deep-sea microbial eukaryotes contributed by fungi:"
   ]
  },
  {
   "cell_type": "code",
   "execution_count": 10,
   "metadata": {},
   "outputs": [
    {
     "name": "stdout",
     "output_type": "stream",
     "text": [
      "Our estimate of the biomass of deep-sea fungi based on 18S rDNA sequencing is ≈0.02 Gt C\n"
     ]
    }
   ],
   "source": [
    "deep_sea_fungi = miceuk_biomass*0.15\n",
    "\n",
    "print('Our estimate of the biomass of deep-sea fungi based on 18S rDNA sequencing is ≈%.2f Gt C' %(deep_sea_fungi/1e15))"
   ]
  },
  {
   "cell_type": "markdown",
   "metadata": {},
   "source": [
    "Pernice et al. were mainly focused on measuring the biomass of heterotrophic protists, and thus they might capture only unicellular fungi and not filamentous fungi. To take into account the possibility of  deep-sea filamentous fungi, we extend our estimate of the ratio between planktonic fungi and prokaryotes to the mesopelagic and bathypelagic realms."
   ]
  },
  {
   "cell_type": "code",
   "execution_count": 11,
   "metadata": {},
   "outputs": [
    {
     "name": "stdout",
     "output_type": "stream",
     "text": [
      "Our estimate of the biomass of deep-sea fungi based on the ratio between fungal and prokaryote biomass is ≈0.17 Gt C\n"
     ]
    }
   ],
   "source": [
    "# Estimate the total biomass of prokaryotes in the mesopelagic and bathypelagic layers\n",
    "meso_bathy_prok_biomass = marine_prok_biomass.iloc[0:2,1].prod()*1e-15*(1-epi_frac['Value'])\n",
    "\n",
    "# Apply the ratio between fungal and prokaryote biomass to the mesopelagic and bathypelagic layers\n",
    "meso_bathy_fungi = best_fungal_fraction*meso_bathy_prok_biomass\n",
    "\n",
    "print('Our estimate of the biomass of deep-sea fungi based on the ratio between fungal and prokaryote biomass is ≈%.2f Gt C' %(meso_bathy_fungi/1e15))"
   ]
  },
  {
   "cell_type": "markdown",
   "metadata": {},
   "source": [
    "As our best estimate of the biomass of deep-sea planktonic fungi, we use the geometric mean of the two estimates based on 18S rDNA sequencing and the ratio between fungal and prokaryote biomass:"
   ]
  },
  {
   "cell_type": "code",
   "execution_count": 12,
   "metadata": {},
   "outputs": [
    {
     "name": "stdout",
     "output_type": "stream",
     "text": [
      "Our best estimate of the biomass of deep-sea fungi is ≈0.05 Gt C\n"
     ]
    }
   ],
   "source": [
    "best_deep_fungi = gmean([deep_sea_fungi,meso_bathy_fungi])\n",
    "print('Our best estimate of the biomass of deep-sea fungi is ≈%.2f Gt C' %(best_deep_fungi/1e15))"
   ]
  },
  {
   "cell_type": "markdown",
   "metadata": {},
   "source": [
    "## Particle-attached fungi\n",
    "To estimate the total biomass of particle-attached fungi, we rely on measurements of the biomass ratio between fungi and prokaryotes on marine particles in the bathypelagic layer ([Bochdansky et al.](http://dx.doi.org/10.1038/ismej.2016.113)). Bochdansky et al. use several different methods to estimate the biomass of fungi on particles, and provide a range of estimates for the ratio between the biomass of fungi and prokaryotes for each method. Here are the estimates provided in Bochdansky et al.:"
   ]
  },
  {
   "cell_type": "code",
   "execution_count": 13,
   "metadata": {},
   "outputs": [
    {
     "data": {
      "text/html": [
       "<div>\n",
       "<style scoped>\n",
       "    .dataframe tbody tr th:only-of-type {\n",
       "        vertical-align: middle;\n",
       "    }\n",
       "\n",
       "    .dataframe tbody tr th {\n",
       "        vertical-align: top;\n",
       "    }\n",
       "\n",
       "    .dataframe thead th {\n",
       "        text-align: right;\n",
       "    }\n",
       "</style>\n",
       "<table border=\"1\" class=\"dataframe\">\n",
       "  <thead>\n",
       "    <tr style=\"text-align: right;\">\n",
       "      <th></th>\n",
       "      <th>Min biomass ratio</th>\n",
       "      <th>Max biomass ratio</th>\n",
       "    </tr>\n",
       "    <tr>\n",
       "      <th>Method</th>\n",
       "      <th></th>\n",
       "      <th></th>\n",
       "    </tr>\n",
       "  </thead>\n",
       "  <tbody>\n",
       "    <tr>\n",
       "      <th>Newell and Statzell-Tallman</th>\n",
       "      <td>3.5e-01</td>\n",
       "      <td>1.4e+00</td>\n",
       "    </tr>\n",
       "    <tr>\n",
       "      <th>Menden-Deuer and Lessard</th>\n",
       "      <td>4.4e-01</td>\n",
       "      <td>2.0e+00</td>\n",
       "    </tr>\n",
       "    <tr>\n",
       "      <th>van Veen and Paul</th>\n",
       "      <td>5.3e-01</td>\n",
       "      <td>5.3e-01</td>\n",
       "    </tr>\n",
       "  </tbody>\n",
       "</table>\n",
       "</div>"
      ],
      "text/plain": [
       "                             Min biomass ratio  Max biomass ratio\n",
       "Method                                                           \n",
       "Newell and Statzell-Tallman            3.5e-01            1.4e+00\n",
       "Menden-Deuer and Lessard               4.4e-01            2.0e+00\n",
       "van Veen and Paul                      5.3e-01            5.3e-01"
      ]
     },
     "execution_count": 13,
     "metadata": {},
     "output_type": "execute_result"
    }
   ],
   "source": [
    "poc_fungi_biomass_data = pd.read_excel('marine_fungi_data.xlsx','Bochdansky',skiprows=1,index_col=0)\n",
    "poc_fungi_biomass_data"
   ]
  },
  {
   "cell_type": "markdown",
   "metadata": {},
   "source": [
    "To estimate the ratio between the biomass of particle-attached fungi and prokaryotes in the bathypelagic layer, we first calculate the geometric mean of the range provided by Bochdansky et al. for each method:"
   ]
  },
  {
   "cell_type": "code",
   "execution_count": 14,
   "metadata": {},
   "outputs": [
    {
     "data": {
      "text/plain": [
       "Method\n",
       "Newell and Statzell-Tallman   7.0e-01\n",
       "Menden-Deuer and Lessard      9.3e-01\n",
       "van Veen and Paul             5.3e-01\n",
       "dtype: float64"
      ]
     },
     "execution_count": 14,
     "metadata": {},
     "output_type": "execute_result"
    }
   ],
   "source": [
    "method_mean_fungi_ratio = poc_fungi_biomass_data.apply(gmean,axis=1)\n",
    "method_mean_fungi_ratio"
   ]
  },
  {
   "cell_type": "markdown",
   "metadata": {},
   "source": [
    "As our best estimate of the ratio between the biomass of particle-attached fungi and prokaryotes in the bathypelagic layer, we use the geometric mean of the mean estimates from each method used in Bochdansky et al.:"
   ]
  },
  {
   "cell_type": "code",
   "execution_count": 15,
   "metadata": {},
   "outputs": [
    {
     "name": "stdout",
     "output_type": "stream",
     "text": [
      "Our best estimate of the ratio between the biomass of particle-attached fungi and prokaryotes in the bathypelagic layer is ≈0.7\n"
     ]
    }
   ],
   "source": [
    "best_poc_fungi_ratio = gmean(method_mean_fungi_ratio)\n",
    "print('Our best estimate of the ratio between the biomass of particle-attached fungi and prokaryotes in the bathypelagic layer is ≈%.1f' %best_poc_fungi_ratio)"
   ]
  },
  {
   "cell_type": "markdown",
   "metadata": {},
   "source": [
    "We could not find reliable data on the ratio between the biomass of particle-attached fungi and prokaryotes in shallower layers of the ocean, and thus we apply this ratio throughout all the layers of the ocean. We estimate the total biomass of particle-attached fungi in the ocean by using our estimate of the total biomass of particle-attached prokaryotes, and multiplying it by our best estimate for the ratio between the biomass of fungi and prokaryotes:"
   ]
  },
  {
   "cell_type": "code",
   "execution_count": 16,
   "metadata": {},
   "outputs": [
    {
     "name": "stdout",
     "output_type": "stream",
     "text": [
      "Our best estimate of the total biomass of particle-attached fungi is ≈0.2 Gt C\n"
     ]
    }
   ],
   "source": [
    "# Use our estimate of the total biomass of particle-attached prokaryotes\n",
    "poc_prok_biomass = marine_prok_biomass.iloc[[0,1,4],1].prod()*1e-15\n",
    "\n",
    "# Calculate the total biomass of particle-attached fungi\n",
    "poc_fungi_biomass = poc_prok_biomass*best_poc_fungi_ratio\n",
    "\n",
    "print('Our best estimate of the total biomass of particle-attached fungi is ≈%.1f Gt C' %(poc_fungi_biomass/1e15))"
   ]
  },
  {
   "cell_type": "markdown",
   "metadata": {},
   "source": [
    "Our best estimate of the total biomass of marine fungi is a sum of our estimates for the biomass of epipelagic planktonic fungi, deep-sea planktonic fungi and particle-attached fungi:"
   ]
  },
  {
   "cell_type": "code",
   "execution_count": 17,
   "metadata": {},
   "outputs": [
    {
     "name": "stdout",
     "output_type": "stream",
     "text": [
      "Our best estimate of the total biomass of marine fungi is ≈0.3 Gt C\n"
     ]
    }
   ],
   "source": [
    "best_estimate = poc_fungi_biomass + best_epi_fungi + best_deep_fungi\n",
    "print('Our best estimate of the total biomass of marine fungi is ≈%.1f Gt C' %(best_estimate/1e15))"
   ]
  },
  {
   "cell_type": "markdown",
   "metadata": {},
   "source": [
    "# Uncertainty analysis\n",
    "The available data on the biomass of marine fungi is scarce, and thus we chose to use a crude estimate of an order of magnitude as our projection for the uncertainty associated with the estimate of the total biomass of marine fungi. Our final parameters are"
   ]
  },
  {
   "cell_type": "code",
   "execution_count": 18,
   "metadata": {},
   "outputs": [
    {
     "name": "stdout",
     "output_type": "stream",
     "text": [
      "Biomass of marine fungi: 0.3 Gt C\n",
      "Uncertainty associated with the estimate of the total biomass of marine fungi ≈10-fold\n"
     ]
    }
   ],
   "source": [
    "mul_CI = 10\n",
    "\n",
    "\n",
    "print('Biomass of marine fungi: %.1f Gt C' %(best_estimate/1e15))\n",
    "print('Uncertainty associated with the estimate of the total biomass of marine fungi ≈%.0f-fold' % mul_CI)\n",
    "\n",
    "old_results = pd.read_excel('../fungi_biomass_estimate.xlsx')\n",
    "result = old_results.copy()\n",
    "result.loc[2] = pd.Series({\n",
    "                'Parameter': 'Biomass of marine fungi',\n",
    "                'Value': float(best_estimate),\n",
    "                'Units': 'Gt C',\n",
    "                'Uncertainty': \"{0:.1f}\".format(mul_CI)\n",
    "                })\n",
    "\n",
    "result.to_excel('../fungi_biomass_estimate.xlsx',index=False)"
   ]
  }
 ],
 "metadata": {
  "kernelspec": {
   "display_name": "Python 3",
   "language": "python",
   "name": "python3"
  },
  "language_info": {
   "codemirror_mode": {
    "name": "ipython",
    "version": 3
   },
   "file_extension": ".py",
   "mimetype": "text/x-python",
   "name": "python",
   "nbconvert_exporter": "python",
   "pygments_lexer": "ipython3",
   "version": "3.5.2"
  }
 },
 "nbformat": 4,
 "nbformat_minor": 2
}
