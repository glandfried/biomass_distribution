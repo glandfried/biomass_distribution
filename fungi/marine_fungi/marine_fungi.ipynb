{
 "cells": [
  {
   "cell_type": "code",
   "execution_count": 1,
   "metadata": {
    "collapsed": true
   },
   "outputs": [],
   "source": [
    "# Load dependencies\n",
    "import pandas as pd\n",
    "import numpy as np\n",
    "import gdal\n",
    "from scipy.stats import gmean\n",
    "import sys\n",
    "sys.path.insert(0,'../../statistics_helper/')\n",
    "from fraction_helper import *\n",
    "from CI_helper import *\n",
    "from excel_utils import *\n",
    "pd.options.display.float_format = '{:,.1e}'.format"
   ]
  },
  {
   "cell_type": "markdown",
   "metadata": {},
   "source": [
    "# Estimating the biomass of marine fungi\n",
    "To estimate the total biomass of marine fungi, we consider different locations in which marine fungi might reside, and estimate the total biomass of fungi in each region. The main regions we consider are epipelagic and deep-sea planktonic fungi, and particle-attached fungi.\n",
    "\n",
    "## Epipelagic fungi\n",
    "To estimate the total biomass of epipelagic free-living fungi, we rely on studies using two independent methods: qPCR and direct counts of the concentration of fungi.\n",
    "\n",
    "### qPCR-based method\n",
    "Our qPCR-based estimate measured the ratio between DNA copy numbers for bacteria and fugni in the West Pacific Warm Pool ([Wang et al.](https://doi.org/10.1371/journal.pone.0101523)). Here is a sample of the data:"
   ]
  },
  {
   "cell_type": "code",
   "execution_count": 6,
   "metadata": {},
   "outputs": [
    {
     "data": {
      "text/html": [
       "<div>\n",
       "<style scoped>\n",
       "    .dataframe tbody tr th:only-of-type {\n",
       "        vertical-align: middle;\n",
       "    }\n",
       "\n",
       "    .dataframe tbody tr th {\n",
       "        vertical-align: top;\n",
       "    }\n",
       "\n",
       "    .dataframe thead th {\n",
       "        text-align: right;\n",
       "    }\n",
       "</style>\n",
       "<table border=\"1\" class=\"dataframe\">\n",
       "  <thead>\n",
       "    <tr style=\"text-align: right;\">\n",
       "      <th></th>\n",
       "      <th>Station</th>\n",
       "      <th>Depth [m]</th>\n",
       "      <th>Basidiomycota [ng µl^-1]</th>\n",
       "      <th>Ascomycota [ng µl^-1]</th>\n",
       "      <th>Bacteria [ng µl^-1]</th>\n",
       "    </tr>\n",
       "  </thead>\n",
       "  <tbody>\n",
       "    <tr>\n",
       "      <th>0</th>\n",
       "      <td>S2</td>\n",
       "      <td>5</td>\n",
       "      <td>1.5e-01</td>\n",
       "      <td>3.8e-03</td>\n",
       "      <td>2.8e+00</td>\n",
       "    </tr>\n",
       "    <tr>\n",
       "      <th>1</th>\n",
       "      <td>S2</td>\n",
       "      <td>25</td>\n",
       "      <td>1.0e-01</td>\n",
       "      <td>3.5e-03</td>\n",
       "      <td>2.5e+00</td>\n",
       "    </tr>\n",
       "    <tr>\n",
       "      <th>2</th>\n",
       "      <td>S2</td>\n",
       "      <td>50</td>\n",
       "      <td>1.7e-01</td>\n",
       "      <td>1.3e-03</td>\n",
       "      <td>2.5e+00</td>\n",
       "    </tr>\n",
       "    <tr>\n",
       "      <th>3</th>\n",
       "      <td>S2</td>\n",
       "      <td>75</td>\n",
       "      <td>1.8e-01</td>\n",
       "      <td>2.9e-03</td>\n",
       "      <td>9.8e-01</td>\n",
       "    </tr>\n",
       "    <tr>\n",
       "      <th>4</th>\n",
       "      <td>S2</td>\n",
       "      <td>100</td>\n",
       "      <td>2.5e-01</td>\n",
       "      <td>1.3e-03</td>\n",
       "      <td>1.6e+00</td>\n",
       "    </tr>\n",
       "  </tbody>\n",
       "</table>\n",
       "</div>"
      ],
      "text/plain": [
       "  Station  Depth [m]  Basidiomycota [ng µl^-1]  Ascomycota [ng µl^-1]  \\\n",
       "0      S2          5                   1.5e-01                3.8e-03   \n",
       "1      S2         25                   1.0e-01                3.5e-03   \n",
       "2      S2         50                   1.7e-01                1.3e-03   \n",
       "3      S2         75                   1.8e-01                2.9e-03   \n",
       "4      S2        100                   2.5e-01                1.3e-03   \n",
       "\n",
       "   Bacteria [ng µl^-1]  \n",
       "0              2.8e+00  \n",
       "1              2.5e+00  \n",
       "2              2.5e+00  \n",
       "3              9.8e-01  \n",
       "4              1.6e+00  "
      ]
     },
     "execution_count": 6,
     "metadata": {},
     "output_type": "execute_result"
    }
   ],
   "source": [
    "qPCR_data = pd.read_excel('marine_fungi_data.xlsx','Wang',skiprows=1)\n",
    "qPCR_data.head()"
   ]
  },
  {
   "cell_type": "markdown",
   "metadata": {},
   "source": [
    "We calculate the ratio of fungal DNA copy number to bacterial DNA copy number:"
   ]
  },
  {
   "cell_type": "code",
   "execution_count": 46,
   "metadata": {},
   "outputs": [
    {
     "name": "stdout",
     "output_type": "stream",
     "text": [
      "The ratio of fungal DNA copy number and bacterial DNA copy number is ≈12%\n"
     ]
    }
   ],
   "source": [
    "# Calculate the total DNA copy number of fungi\n",
    "fungal_DNA = qPCR_data['Basidiomycota [ng µl^-1]']+qPCR_data['Ascomycota [ng µl^-1]']\n",
    "\n",
    "# Calculate the mean ratio of fungal DNA copy number and bacterial DNA copy number\n",
    "qPCR_fungal_fraction = (fungal_DNA/qPCR_data['Bacteria [ng µl^-1]']).mean()\n",
    "\n",
    "print('The ratio of fungal DNA copy number and bacterial DNA copy number is ≈%.0f' %(qPCR_fungal_fraction*100) + '%')"
   ]
  },
  {
   "cell_type": "markdown",
   "metadata": {},
   "source": [
    "### Direct count method\n",
    "As an independent method for estimating the total biomass of marine fungi in the epipelagic layer, we use a study which measured the carbon concentration of fungi in the epipelagic layer in upwelling ecosystem off Chile using direct counts ([Gutiérrez et al.]( https://doi.org/10.1007/s00227-010-1552-z)). We calculate the average concentration of fungal carbon in relation to the carbon concentration of prokaryotes in the same site:"
   ]
  },
  {
   "cell_type": "code",
   "execution_count": 45,
   "metadata": {},
   "outputs": [
    {
     "name": "stdout",
     "output_type": "stream",
     "text": [
      "The ratio of fungal DNA copy number and bacterial DNA copy number is ≈27%\n"
     ]
    }
   ],
   "source": [
    "# Load data on direct counts of fungal carbon concentration\n",
    "direct_data = pd.read_excel('marine_fungi_data.xlsx','Gutiérrez',skiprows=1)\n",
    "\n",
    "# Calculate the mean fungal carbon concentration\n",
    "mean_fungal_conc = direct_data['Fungi carbon concentration [µg C L^-1]'].mean()\n",
    "\n",
    "# Calculate the mean carbon concentration of prokaryotes\n",
    "mean_prok_conc = direct_data['Prokaryote carbon concentration [µg C L^-1]'].mean()\n",
    "\n",
    "direct_fungal_fraction = mean_fungal_conc/mean_prok_conc\n",
    "\n",
    "print('The ratio of fungal carbon and bacterial carbon is ≈%.0f' %(direct_fungal_fraction*100) + '%')"
   ]
  },
  {
   "cell_type": "markdown",
   "metadata": {},
   "source": [
    "As our best estimate for the ratio of fungal and prokaryote carbon, we use the geometric mean of the ratios estimated based on qPCR and direct counts:"
   ]
  },
  {
   "cell_type": "code",
   "execution_count": 47,
   "metadata": {},
   "outputs": [
    {
     "name": "stdout",
     "output_type": "stream",
     "text": [
      "The ratio of fungal carbon and bacterial carbon is ≈18%\n"
     ]
    }
   ],
   "source": [
    "best_fungal_fraction = gmean([qPCR_fungal_fraction,direct_fungal_fraction])\n",
    "print('The ratio of fungal carbon and bacterial carbon is ≈%.0f' %(best_fungal_fraction*100) + '%')"
   ]
  },
  {
   "cell_type": "markdown",
   "metadata": {},
   "source": [
    "To estimate the total biomass of fungi using qPCR, we rely on our estimate from the total biomass of bacteria and archaea in the top 200 meters, which we estimate in the marine bacteria and archaea section:"
   ]
  },
  {
   "cell_type": "code",
   "execution_count": 35,
   "metadata": {},
   "outputs": [
    {
     "name": "stdout",
     "output_type": "stream",
     "text": [
      "Our estimate for the total biomass of bacteria and archaea in the epipelagic layer is ≈0.4 Gt C\n"
     ]
    }
   ],
   "source": [
    "# Load total biomass of marine bacteria and archaea\n",
    "marine_prok_biomass = pd.read_excel('../../bacteria_archaea/marine/marine_prok_biomass_estimate.xlsx')\n",
    "\n",
    "# Load our estimate of the fraction of prokaryote biomass in the epipelagic layer\n",
    "epi_frac = pd.read_excel('marine_fungi_data.xlsx','Bacteria biomass')\n",
    "\n",
    "# Calculate the biomass of prokaryotes in the epipelagic realm\n",
    "epi_prok_biomass = marine_prok_biomass.iloc[0:2,1].prod()*epi_frac['Value']*1e-15\n",
    "\n",
    "print('Our estimate for the total biomass of bacteria and archaea in the epipelagic layer is ≈%.1f Gt C' %(epi_prok_biomass/1e15))"
   ]
  },
  {
   "cell_type": "markdown",
   "metadata": {},
   "source": [
    "We estimate the total biomass of fungi in the epipelagic layer by multiplying the total biomass of prokaryotes by the ratio of DNA copy numbers we calculated based on qPCR measurements:"
   ]
  },
  {
   "cell_type": "code",
   "execution_count": 48,
   "metadata": {},
   "outputs": [
    {
     "name": "stdout",
     "output_type": "stream",
     "text": [
      "Our estimate for the total biomass of free-living epipelagic fungi based of qPCR is ≈0.07 Gt C\n"
     ]
    }
   ],
   "source": [
    "qPCR_epi_fungi = epi_prok_biomass*best_fungal_fraction\n",
    "\n",
    "print('Our estimate for the total biomass of free-living epipelagic fungi based of qPCR is ≈%.2f Gt C' %(qPCR_epi_fungi/1e15))"
   ]
  },
  {
   "cell_type": "markdown",
   "metadata": {},
   "source": [
    "\n",
    "## Deep-sea fungi\n",
    "\n",
    "\n",
    "## Particle attached fungi\n",
    "##"
   ]
  }
 ],
 "metadata": {
  "kernelspec": {
   "display_name": "Python 3",
   "language": "python",
   "name": "python3"
  },
  "language_info": {
   "codemirror_mode": {
    "name": "ipython",
    "version": 3
   },
   "file_extension": ".py",
   "mimetype": "text/x-python",
   "name": "python",
   "nbconvert_exporter": "python",
   "pygments_lexer": "ipython3",
   "version": "3.6.3"
  }
 },
 "nbformat": 4,
 "nbformat_minor": 2
}
