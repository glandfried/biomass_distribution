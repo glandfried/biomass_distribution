{
 "cells": [
  {
   "cell_type": "markdown",
   "metadata": {},
   "source": [
    "# Estimating the fraction of fungi out of the biomass of soil microbes\n",
    "Our estimate for the fraction of fungi out of the biomass of soil microbes is based on a study by [Joergensen & Wichern ](http://dx.doi.org/10.1016/j.soilbio.2008.08.017). Joergensen & Wichern survey the fraction of fungi out of the total microbial biomass using several independent methods. The data in Joergensen & Wichern contains measurements of the fraction of fungi out of the total biomass of soil microbes in four differennt soil types - arable soil, forest soil, grassland soil and litter. We rely on measurement collected in these four soil types using two independent methods - microscopy and measurement of cell wall components.\n",
    "\n",
    "Here is a sample of the data from Joergensen & Wichern:"
   ]
  },
  {
   "cell_type": "code",
   "execution_count": 1,
   "metadata": {},
   "outputs": [
    {
     "data": {
      "text/html": [
       "<div>\n",
       "<style scoped>\n",
       "    .dataframe tbody tr th:only-of-type {\n",
       "        vertical-align: middle;\n",
       "    }\n",
       "\n",
       "    .dataframe tbody tr th {\n",
       "        vertical-align: top;\n",
       "    }\n",
       "\n",
       "    .dataframe thead th {\n",
       "        text-align: right;\n",
       "    }\n",
       "</style>\n",
       "<table border=\"1\" class=\"dataframe\">\n",
       "  <thead>\n",
       "    <tr style=\"text-align: right;\">\n",
       "      <th></th>\n",
       "      <th>Reference</th>\n",
       "      <th>Fraction</th>\n",
       "      <th>N</th>\n",
       "      <th>Method</th>\n",
       "      <th>Type</th>\n",
       "    </tr>\n",
       "  </thead>\n",
       "  <tbody>\n",
       "    <tr>\n",
       "      <th>0</th>\n",
       "      <td>Shields et al. (1973)</td>\n",
       "      <td>0.860</td>\n",
       "      <td>15</td>\n",
       "      <td>Microscopy</td>\n",
       "      <td>Arable</td>\n",
       "    </tr>\n",
       "    <tr>\n",
       "      <th>1</th>\n",
       "      <td>West (1986)</td>\n",
       "      <td>0.750</td>\n",
       "      <td>5</td>\n",
       "      <td>Microscopy</td>\n",
       "      <td>Arable</td>\n",
       "    </tr>\n",
       "    <tr>\n",
       "      <th>2</th>\n",
       "      <td>West (1986)</td>\n",
       "      <td>0.580</td>\n",
       "      <td>10</td>\n",
       "      <td>Microscopy</td>\n",
       "      <td>Forest</td>\n",
       "    </tr>\n",
       "    <tr>\n",
       "      <th>3</th>\n",
       "      <td>Ingham and Horton (1987)</td>\n",
       "      <td>0.090</td>\n",
       "      <td>10</td>\n",
       "      <td>Microscopy</td>\n",
       "      <td>Arable</td>\n",
       "    </tr>\n",
       "    <tr>\n",
       "      <th>4</th>\n",
       "      <td>Neely et al. (1991)</td>\n",
       "      <td>0.640</td>\n",
       "      <td>72</td>\n",
       "      <td>Microscopy</td>\n",
       "      <td>Litter</td>\n",
       "    </tr>\n",
       "  </tbody>\n",
       "</table>\n",
       "</div>"
      ],
      "text/plain": [
       "                  Reference  Fraction   N      Method    Type\n",
       "0     Shields et al. (1973)     0.860  15  Microscopy  Arable\n",
       "1               West (1986)     0.750   5  Microscopy  Arable\n",
       "2               West (1986)     0.580  10  Microscopy  Forest\n",
       "3  Ingham and Horton (1987)     0.090  10  Microscopy  Arable\n",
       "4       Neely et al. (1991)     0.640  72  Microscopy  Litter"
      ]
     },
     "execution_count": 1,
     "metadata": {},
     "output_type": "execute_result"
    }
   ],
   "source": [
    "import pandas as pd\n",
    "import numpy as np\n",
    "import sys\n",
    "sys.path.insert(0, '../../statistics_helper')\n",
    "from fraction_helper import *\n",
    "pd.options.display.float_format = '{:,.3f}'.format\n",
    "\n",
    "data = pd.read_excel('fungi_fraction_data.xlsx')\n",
    "data.head()"
   ]
  },
  {
   "cell_type": "markdown",
   "metadata": {},
   "source": [
    "Our general methodology for calculating the fraction of fungi out of the biomass of soil microbes is the following. We calculate the geometric mean of all values reported from the same soil type using the same method. This gives us estimates for characteric fraction of fungi in each soil type for each method. "
   ]
  },
  {
   "cell_type": "code",
   "execution_count": 2,
   "metadata": {},
   "outputs": [
    {
     "data": {
      "text/html": [
       "<div>\n",
       "<style scoped>\n",
       "    .dataframe tbody tr th:only-of-type {\n",
       "        vertical-align: middle;\n",
       "    }\n",
       "\n",
       "    .dataframe tbody tr th {\n",
       "        vertical-align: top;\n",
       "    }\n",
       "\n",
       "    .dataframe thead th {\n",
       "        text-align: right;\n",
       "    }\n",
       "</style>\n",
       "<table border=\"1\" class=\"dataframe\">\n",
       "  <thead>\n",
       "    <tr style=\"text-align: right;\">\n",
       "      <th>Method</th>\n",
       "      <th>Microscopy</th>\n",
       "      <th>glucosamine and muramic acid</th>\n",
       "    </tr>\n",
       "    <tr>\n",
       "      <th>Type</th>\n",
       "      <th></th>\n",
       "      <th></th>\n",
       "    </tr>\n",
       "  </thead>\n",
       "  <tbody>\n",
       "    <tr>\n",
       "      <th>Arable</th>\n",
       "      <td>0.312</td>\n",
       "      <td>0.747</td>\n",
       "    </tr>\n",
       "    <tr>\n",
       "      <th>Forest</th>\n",
       "      <td>0.476</td>\n",
       "      <td>0.714</td>\n",
       "    </tr>\n",
       "    <tr>\n",
       "      <th>Grassland</th>\n",
       "      <td>0.251</td>\n",
       "      <td>0.687</td>\n",
       "    </tr>\n",
       "    <tr>\n",
       "      <th>Litter</th>\n",
       "      <td>0.643</td>\n",
       "      <td>0.784</td>\n",
       "    </tr>\n",
       "  </tbody>\n",
       "</table>\n",
       "</div>"
      ],
      "text/plain": [
       "Method     Microscopy  glucosamine and muramic acid\n",
       "Type                                               \n",
       "Arable          0.312                         0.747\n",
       "Forest          0.476                         0.714\n",
       "Grassland       0.251                         0.687\n",
       "Litter          0.643                         0.784"
      ]
     },
     "execution_count": 2,
     "metadata": {},
     "output_type": "execute_result"
    }
   ],
   "source": [
    "def groupby_geo_frac_mean(input):\n",
    "    return frac_mean(input['Fraction'],weights=input['N'])\n",
    "\n",
    "type_method_mean = data.groupby(['Method','Type']).apply(groupby_geo_frac_mean).unstack(level=0)\n",
    "type_method_mean"
   ]
  },
  {
   "cell_type": "markdown",
   "metadata": {},
   "source": [
    "We then calculate the geometric mean of the characteristic fractions from different soil types using the same method. This gives us a characteristic fraction of fungi for each of the two methods."
   ]
  },
  {
   "cell_type": "code",
   "execution_count": 3,
   "metadata": {},
   "outputs": [
    {
     "data": {
      "text/plain": [
       "Method\n",
       "Microscopy                     0.414\n",
       "glucosamine and muramic acid   0.735\n",
       "dtype: float64"
      ]
     },
     "execution_count": 3,
     "metadata": {},
     "output_type": "execute_result"
    }
   ],
   "source": [
    "method_mean = type_method_mean.apply(frac_mean)\n",
    "method_mean"
   ]
  },
  {
   "cell_type": "markdown",
   "metadata": {},
   "source": [
    "In the last stage, we calculate the geometric mean of the characteristic values from the two methods. We use the geometric mean as our best estimate for the fraction of fungi out of the total biomass of soil microbes."
   ]
  },
  {
   "cell_type": "code",
   "execution_count": 4,
   "metadata": {},
   "outputs": [
    {
     "name": "stdout",
     "output_type": "stream",
     "text": [
      "Our best estimate for the fraction of fungi out of the total biomass of fungi is ≈58%\n"
     ]
    }
   ],
   "source": [
    "best_estimate = frac_mean(method_mean)\n",
    "print('Our best estimate for the fraction of fungi out of the total biomass of fungi is ≈' + '{:,.0f}%'.format(best_estimate*100))"
   ]
  },
  {
   "cell_type": "markdown",
   "metadata": {},
   "source": [
    "# Uncertainty analysis\n",
    "\n",
    "To calculate the uncertainty associated with the estimate for the fraction of fungi out of the total biomass of number of of bacteria and archaea, we first collect all available uncertainties and then take the largest value as our best projection for the uncertainty.\n",
    "\n",
    "**Variability of studies using the same method and done in the same soil type** <br>\n",
    "We calculate the 95% confidence confidence interval of the values reported by studies performed in the same soil type and using the same method.\n"
   ]
  },
  {
   "cell_type": "code",
   "execution_count": 5,
   "metadata": {},
   "outputs": [
    {
     "data": {
      "text/html": [
       "<div>\n",
       "<style scoped>\n",
       "    .dataframe tbody tr th:only-of-type {\n",
       "        vertical-align: middle;\n",
       "    }\n",
       "\n",
       "    .dataframe tbody tr th {\n",
       "        vertical-align: top;\n",
       "    }\n",
       "\n",
       "    .dataframe thead th {\n",
       "        text-align: right;\n",
       "    }\n",
       "</style>\n",
       "<table border=\"1\" class=\"dataframe\">\n",
       "  <thead>\n",
       "    <tr style=\"text-align: right;\">\n",
       "      <th>Method</th>\n",
       "      <th>Microscopy</th>\n",
       "      <th>glucosamine and muramic acid</th>\n",
       "    </tr>\n",
       "    <tr>\n",
       "      <th>Type</th>\n",
       "      <th></th>\n",
       "      <th></th>\n",
       "    </tr>\n",
       "  </thead>\n",
       "  <tbody>\n",
       "    <tr>\n",
       "      <th>Arable</th>\n",
       "      <td>2.821</td>\n",
       "      <td>1.049</td>\n",
       "    </tr>\n",
       "    <tr>\n",
       "      <th>Forest</th>\n",
       "      <td>1.268</td>\n",
       "      <td>1.182</td>\n",
       "    </tr>\n",
       "    <tr>\n",
       "      <th>Grassland</th>\n",
       "      <td>2.487</td>\n",
       "      <td>1.096</td>\n",
       "    </tr>\n",
       "    <tr>\n",
       "      <th>Litter</th>\n",
       "      <td>1.215</td>\n",
       "      <td>1.155</td>\n",
       "    </tr>\n",
       "  </tbody>\n",
       "</table>\n",
       "</div>"
      ],
      "text/plain": [
       "Method     Microscopy  glucosamine and muramic acid\n",
       "Type                                               \n",
       "Arable          2.821                         1.049\n",
       "Forest          1.268                         1.182\n",
       "Grassland       2.487                         1.096\n",
       "Litter          1.215                         1.155"
      ]
     },
     "execution_count": 5,
     "metadata": {},
     "output_type": "execute_result"
    }
   ],
   "source": [
    "def groupby_frac_CI(input):\n",
    "    return frac_CI(input['Fraction'])\n",
    "\n",
    "type_method_CI = data.groupby(['Method','Type']).apply(groupby_frac_CI).unstack(level=0)\n",
    "type_method_CI"
   ]
  },
  {
   "cell_type": "markdown",
   "metadata": {},
   "source": [
    "**Variability of fractions from different soil types measured using the same method** <br>\n",
    "We calculate the 95% confidence interval of the characteristic values from each soil type measured in the same method."
   ]
  },
  {
   "cell_type": "code",
   "execution_count": 6,
   "metadata": {},
   "outputs": [
    {
     "data": {
      "text/plain": [
       "Method\n",
       "Microscopy                     1.535\n",
       "glucosamine and muramic acid   1.059\n",
       "dtype: float64"
      ]
     },
     "execution_count": 6,
     "metadata": {},
     "output_type": "execute_result"
    }
   ],
   "source": [
    "intra_method_CI = type_method_mean.apply(frac_CI)\n",
    "intra_method_CI"
   ]
  },
  {
   "cell_type": "markdown",
   "metadata": {},
   "source": [
    "**Variability of fraction measured using different methods** <br>\n",
    "We calculate the 95% confidence interval of the characteristic values from each method."
   ]
  },
  {
   "cell_type": "code",
   "execution_count": 7,
   "metadata": {},
   "outputs": [
    {
     "name": "stdout",
     "output_type": "stream",
     "text": [
      "The 95% confidence interval of the characteristic values from each method is ≈1.8-fold\n"
     ]
    }
   ],
   "source": [
    "inter_method_CI = frac_CI(method_mean)\n",
    "print('The 95' + '%'+' confidence interval of the characteristic values from each method is ≈%.1f-fold' % inter_method_CI)\n"
   ]
  },
  {
   "cell_type": "markdown",
   "metadata": {},
   "source": [
    "We choose the highest uncertainty among the uncertianties we collected which is ≈3-fold, as our projection for the uncertainty of the fraction of fungi out of the total biomass of soil microbes.\n",
    "Our final parameters are:"
   ]
  },
  {
   "cell_type": "code",
   "execution_count": 8,
   "metadata": {},
   "outputs": [
    {
     "name": "stdout",
     "output_type": "stream",
     "text": [
      "Fraction of fungi out of the total biomass of microbes:58.3%\n",
      "Uncertainty associated with the estimate of the total biomass of soil microbes ≈2.8-fold\n"
     ]
    }
   ],
   "source": [
    "mul_CI = np.max([type_method_CI.values.flatten().max(),intra_method_CI.max(),inter_method_CI])\n",
    "print('Fraction of fungi out of the total biomass of microbes:' +'{:.1f}%'.format(best_estimate*100))\n",
    "print('Uncertainty associated with the estimate of the total biomass of soil microbes ≈%.1f-fold' % mul_CI)\n",
    "\n",
    "old_results = pd.read_excel('../fungi_biomass_estimate.xlsx')\n",
    "result = old_results.copy()\n",
    "result.loc[1] = pd.Series({\n",
    "                'Parameter': 'Fraction of fungi ou out the total biomass of soil microbes',\n",
    "                'Value': '{0:.1f}'.format(best_estimate),\n",
    "                'Units': 'Unitless',\n",
    "                'Uncertainty': \"{0:.1f}\".format(mul_CI)\n",
    "                })\n",
    "\n",
    "result.to_excel('../fungi_biomass_estimate.xlsx',index=False)"
   ]
  }
 ],
 "metadata": {
  "kernelspec": {
   "display_name": "Python 3",
   "language": "python",
   "name": "python3"
  },
  "language_info": {
   "codemirror_mode": {
    "name": "ipython",
    "version": 3
   },
   "file_extension": ".py",
   "mimetype": "text/x-python",
   "name": "python",
   "nbconvert_exporter": "python",
   "pygments_lexer": "ipython3",
   "version": "3.5.2"
  }
 },
 "nbformat": 4,
 "nbformat_minor": 2
}
