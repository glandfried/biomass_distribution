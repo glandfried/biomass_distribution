{
 "cells": [
  {
   "cell_type": "code",
   "execution_count": 1,
   "metadata": {
    "collapsed": true
   },
   "outputs": [],
   "source": [
    "# Load dependencies\n",
    "import numpy as np\n",
    "import pandas as pd\n",
    "import sys\n",
    "sys.path.insert(0, '../statistics_helper')\n",
    "from CI_helper import *\n",
    "from excel_utils import *\n",
    "pd.options.display.float_format = '{:,.1e}'.format"
   ]
  },
  {
   "cell_type": "markdown",
   "metadata": {},
   "source": [
    "# Estimating the total biomass of fungi\n",
    "We use our best estimates for the total biomass of soil microbes and the fraction of fungi out of the total biomass of soil microbes to estimate the total biomass of fungi."
   ]
  },
  {
   "cell_type": "code",
   "execution_count": 2,
   "metadata": {},
   "outputs": [],
   "source": [
    "results = pd.read_excel('fungi_biomass_estimate.xlsx')"
   ]
  },
  {
   "cell_type": "markdown",
   "metadata": {},
   "source": [
    "These are our best estimates for the different parameters required for the estimate, along with the associated uncertainties"
   ]
  },
  {
   "cell_type": "code",
   "execution_count": 3,
   "metadata": {},
   "outputs": [
    {
     "data": {
      "text/html": [
       "<div>\n",
       "<style scoped>\n",
       "    .dataframe tbody tr th:only-of-type {\n",
       "        vertical-align: middle;\n",
       "    }\n",
       "\n",
       "    .dataframe tbody tr th {\n",
       "        vertical-align: top;\n",
       "    }\n",
       "\n",
       "    .dataframe thead th {\n",
       "        text-align: right;\n",
       "    }\n",
       "</style>\n",
       "<table border=\"1\" class=\"dataframe\">\n",
       "  <thead>\n",
       "    <tr style=\"text-align: right;\">\n",
       "      <th></th>\n",
       "      <th>Parameter</th>\n",
       "      <th>Value</th>\n",
       "      <th>Units</th>\n",
       "      <th>Uncertainty</th>\n",
       "    </tr>\n",
       "  </thead>\n",
       "  <tbody>\n",
       "    <tr>\n",
       "      <th>0</th>\n",
       "      <td>Total biomass of soil microbes</td>\n",
       "      <td>2.0e+16</td>\n",
       "      <td>g C</td>\n",
       "      <td>2.0e+00</td>\n",
       "    </tr>\n",
       "    <tr>\n",
       "      <th>1</th>\n",
       "      <td>Fraction of fungi ou out the total biomass of ...</td>\n",
       "      <td>6.0e-01</td>\n",
       "      <td>Unitless</td>\n",
       "      <td>2.8e+00</td>\n",
       "    </tr>\n",
       "    <tr>\n",
       "      <th>2</th>\n",
       "      <td>Biomass of marine fungi</td>\n",
       "      <td>3.2e+14</td>\n",
       "      <td>Gt C</td>\n",
       "      <td>1.0e+01</td>\n",
       "    </tr>\n",
       "  </tbody>\n",
       "</table>\n",
       "</div>"
      ],
      "text/plain": [
       "                                           Parameter   Value     Units  \\\n",
       "0                     Total biomass of soil microbes 2.0e+16       g C   \n",
       "1  Fraction of fungi ou out the total biomass of ... 6.0e-01  Unitless   \n",
       "2                            Biomass of marine fungi 3.2e+14      Gt C   \n",
       "\n",
       "   Uncertainty  \n",
       "0      2.0e+00  \n",
       "1      2.8e+00  \n",
       "2      1.0e+01  "
      ]
     },
     "execution_count": 3,
     "metadata": {},
     "output_type": "execute_result"
    }
   ],
   "source": [
    "results"
   ]
  },
  {
   "cell_type": "code",
   "execution_count": 4,
   "metadata": {},
   "outputs": [
    {
     "name": "stdout",
     "output_type": "stream",
     "text": [
      "Our best estimate for the total biomass of soil fungi is 12 Gt C\n",
      "The uncertainty associated with the estimate for the biomass of soil fungi is 3.5-fold\n"
     ]
    }
   ],
   "source": [
    "# Calculate the total biomass of fungi\n",
    "soil_fungi_biomass = results.loc[[0,1],'Value'].prod()\n",
    "print('Our best estimate for the total biomass of soil fungi is %.f Gt C' %(soil_fungi_biomass/1e15))\n",
    "\n",
    "# Propagate the uncertainty associated with each parameter to the final estimate\n",
    "\n",
    "soil_fungi_biomass_CI = CI_prod_prop(results.loc[[0,1],'Uncertainty'])\n",
    "\n",
    "print('The uncertainty associated with the estimate for the biomass of soil fungi is %.1f-fold' %soil_fungi_biomass_CI)"
   ]
  },
  {
   "cell_type": "markdown",
   "metadata": {},
   "source": [
    "We multiply all the relevant parameters to arrive at our best estimate for the biomass of fungi, and propagate the uncertainties associated with each parameter to calculate the uncertainty associated with the estimate for the total biomass. "
   ]
  },
  {
   "cell_type": "markdown",
   "metadata": {},
   "source": [
    "We add to the our estimate of the biomass of soil fungi our estimates for the contribution of marine and deep subsurface fungi. For marine fungi, we project an uncertainty of 10-fold (similar to our uncertainties for other marine taxa."
   ]
  },
  {
   "cell_type": "code",
   "execution_count": 5,
   "metadata": {
    "collapsed": true
   },
   "outputs": [],
   "source": [
    "marine_fungi = results.loc[2,'Value']\n",
    "marine_fungi_CI = results.loc[2,'Uncertainty']"
   ]
  },
  {
   "cell_type": "markdown",
   "metadata": {},
   "source": [
    "We combine all the biomass contributions of fungi from the different environments, and combine their uncertainties:"
   ]
  },
  {
   "cell_type": "code",
   "execution_count": 6,
   "metadata": {},
   "outputs": [
    {
     "name": "stdout",
     "output_type": "stream",
     "text": [
      "Our best estimate for the total biomass of fungi is 12 Gt C\n",
      "The uncertainty associated with the estimate for the biomass of fungi is 3.3-fold\n"
     ]
    }
   ],
   "source": [
    "total_fungi_biomass = soil_fungi_biomass + marine_fungi\n",
    "\n",
    "print('Our best estimate for the total biomass of fungi is %.f Gt C' %(total_fungi_biomass/1e15))\n",
    "\n",
    "# Propagate the uncertainty associated with each parameter to the final estimate\n",
    "\n",
    "mul_CI = CI_sum_prop(np.array([soil_fungi_biomass, marine_fungi]), np.array([ soil_fungi_biomass_CI, marine_fungi_CI]))\n",
    "\n",
    "print('The uncertainty associated with the estimate for the biomass of fungi is %.1f-fold' %mul_CI)"
   ]
  },
  {
   "cell_type": "markdown",
   "metadata": {},
   "source": [
    "# Estimating the total number of fungal cells\n",
    "To estimate the total number of fungal cells we divide our biomass estimate by an average carbon\n",
    "content per fungal cell. We very roughly estimate the volume of fungal cells to be ≈100 μm$^3$\n",
    "based on [Veses et al.](https://doi.org/10.1111/j.1365-2958.2008.06545.x), and thus we estimate a carbon content of a cell to be ≈15 pg C cell$^{-1}$.\n"
   ]
  },
  {
   "cell_type": "code",
   "execution_count": 7,
   "metadata": {},
   "outputs": [
    {
     "name": "stdout",
     "output_type": "stream",
     "text": [
      "Our best estimate for the total number of fungal cells is ≈8e+26.\n"
     ]
    }
   ],
   "source": [
    "# Carbon content of a single fungal cell based on Veses et al.\n",
    "carbon_content = 15e-12\n",
    "\n",
    "# Calculate the total number of fungal cells\n",
    "soil_fungi_num = soil_fungi_biomass/carbon_content\n",
    "marine_fungi_num = marine_fungi/carbon_content\n",
    "print('Our best estimate for the total number of fungal cells is ≈%.0e.' %(soil_fungi_num+marine_fungi_num))"
   ]
  },
  {
   "cell_type": "code",
   "execution_count": 8,
   "metadata": {
    "collapsed": true
   },
   "outputs": [],
   "source": [
    "# Feed soil fungi results to Table 1 & Fig. 1\n",
    "update_results(sheet='Table1 & Fig1', \n",
    "               row=('Fungi','Terrestrial'), \n",
    "               col=['Biomass [Gt C]', 'Uncertainty','Total uncertainty'],\n",
    "               values=[soil_fungi_biomass/1e15,soil_fungi_biomass_CI, mul_CI],\n",
    "               path='../results.xlsx')\n",
    "\n",
    "# Feed marine fungi results to Table 1 & Fig. 1\n",
    "update_results(sheet='Table1 & Fig1', \n",
    "               row=('Fungi','Marine'), \n",
    "               col=['Biomass [Gt C]', 'Uncertainty'],\n",
    "               values=[marine_fungi/1e15,marine_fungi_CI],\n",
    "               path='../results.xlsx')\n",
    "\n",
    "# Feed soil fungi results to Table S1\n",
    "update_results(sheet='Table S1', \n",
    "               row=('Fungi','Terrestrial'), \n",
    "               col=['Number of individuals'],\n",
    "               values=soil_fungi_num,\n",
    "               path='../results.xlsx')\n",
    "\n",
    "# Feed marine fungi results to Table S1\n",
    "update_results(sheet='Table S1', \n",
    "               row=('Fungi','Marine'), \n",
    "               col=['Number of individuals'],\n",
    "               values=marine_fungi_num,\n",
    "               path='../results.xlsx')\n",
    "\n"
   ]
  }
 ],
 "metadata": {
  "kernelspec": {
   "display_name": "Python 3",
   "language": "python",
   "name": "python3"
  },
  "language_info": {
   "codemirror_mode": {
    "name": "ipython",
    "version": 3
   },
   "file_extension": ".py",
   "mimetype": "text/x-python",
   "name": "python",
   "nbconvert_exporter": "python",
   "pygments_lexer": "ipython3",
   "version": "3.5.2"
  }
 },
 "nbformat": 4,
 "nbformat_minor": 2
}
