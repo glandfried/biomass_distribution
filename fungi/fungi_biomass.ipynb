{
 "cells": [
  {
   "cell_type": "markdown",
   "metadata": {},
   "source": [
    "# Estimating the total biomass of fungi\n",
    "We use our best estimates for the total biomass of soil microbes and the fraction of fungi out of the total biomass of soil microbes to estimate the total biomass of fungi."
   ]
  },
  {
   "cell_type": "code",
   "execution_count": 1,
   "metadata": {
    "collapsed": true
   },
   "outputs": [],
   "source": [
    "import numpy as np\n",
    "import pandas as pd\n",
    "import sys\n",
    "sys.path.insert(0, '../statistics_helper')\n",
    "from CI_helper import *\n",
    "\n",
    "pd.options.display.float_format = '{:,.1e}'.format\n",
    "\n",
    "results = pd.read_excel('fungi_biomass_estimate.xlsx')"
   ]
  },
  {
   "cell_type": "markdown",
   "metadata": {},
   "source": [
    "These are our best estimates for the different parameters required for the estimate, along with the associated uncertainties"
   ]
  },
  {
   "cell_type": "code",
   "execution_count": 2,
   "metadata": {},
   "outputs": [
    {
     "data": {
      "text/html": [
       "<div>\n",
       "<style scoped>\n",
       "    .dataframe tbody tr th:only-of-type {\n",
       "        vertical-align: middle;\n",
       "    }\n",
       "\n",
       "    .dataframe tbody tr th {\n",
       "        vertical-align: top;\n",
       "    }\n",
       "\n",
       "    .dataframe thead th {\n",
       "        text-align: right;\n",
       "    }\n",
       "</style>\n",
       "<table border=\"1\" class=\"dataframe\">\n",
       "  <thead>\n",
       "    <tr style=\"text-align: right;\">\n",
       "      <th></th>\n",
       "      <th>Parameter</th>\n",
       "      <th>Value</th>\n",
       "      <th>Units</th>\n",
       "      <th>Uncertainty</th>\n",
       "    </tr>\n",
       "  </thead>\n",
       "  <tbody>\n",
       "    <tr>\n",
       "      <th>0</th>\n",
       "      <td>Total biomass of soil microbes</td>\n",
       "      <td>2.0e+16</td>\n",
       "      <td>g C</td>\n",
       "      <td>2.0e+00</td>\n",
       "    </tr>\n",
       "    <tr>\n",
       "      <th>1</th>\n",
       "      <td>Fraction of fungi ou out the total biomass of ...</td>\n",
       "      <td>6.0e-01</td>\n",
       "      <td>Unitless</td>\n",
       "      <td>2.9e+00</td>\n",
       "    </tr>\n",
       "  </tbody>\n",
       "</table>\n",
       "</div>"
      ],
      "text/plain": [
       "                                           Parameter   Value     Units  \\\n",
       "0                     Total biomass of soil microbes 2.0e+16       g C   \n",
       "1  Fraction of fungi ou out the total biomass of ... 6.0e-01  Unitless   \n",
       "\n",
       "   Uncertainty  \n",
       "0      2.0e+00  \n",
       "1      2.9e+00  "
      ]
     },
     "execution_count": 2,
     "metadata": {},
     "output_type": "execute_result"
    }
   ],
   "source": [
    "results"
   ]
  },
  {
   "cell_type": "code",
   "execution_count": 3,
   "metadata": {},
   "outputs": [
    {
     "name": "stdout",
     "output_type": "stream",
     "text": [
      "Our best estimate for the total biomass of soil fungi is 12 Gt C\n",
      "The uncertainty associated with the estimate for the biomass of soil fungi is 3.6-fold\n"
     ]
    }
   ],
   "source": [
    "# Calculate the total biomass of fungi\n",
    "soil_fungi_biomass = np.prod(results['Value'])\n",
    "print('Our best estimate for the total biomass of soil fungi is %.f Gt C' %(soil_fungi_biomass/1e15))\n",
    "\n",
    "# Propagate the uncertainty associated with each parameter to the final estimate\n",
    "\n",
    "soil_fungi_biomass_CI = CI_prod_prop(results['Uncertainty'])\n",
    "\n",
    "print('The uncertainty associated with the estimate for the biomass of soil fungi is %.1f-fold' %soil_fungi_biomass_CI)"
   ]
  },
  {
   "cell_type": "markdown",
   "metadata": {},
   "source": [
    "We multiply all the relevant parameters to arrive at our best estimate for the biomass of fungi, and propagate the uncertainties associated with each parameter to calculate the uncertainty associated with the estimate for the total biomass. "
   ]
  },
  {
   "cell_type": "markdown",
   "metadata": {},
   "source": [
    "We add to the our estimate of the biomass of soil fungi our estimates for the contribution of marine and deep subsurface fungi. For marine fungi, we project an uncertainty of 10-fold (similar to our uncertainties for other marine taxa."
   ]
  },
  {
   "cell_type": "code",
   "execution_count": 4,
   "metadata": {
    "collapsed": true
   },
   "outputs": [],
   "source": [
    "marine_fungi = 0.6e15\n",
    "marine_fungi_CI = 10"
   ]
  },
  {
   "cell_type": "markdown",
   "metadata": {},
   "source": [
    "For deep subsurface fungi, we estimate they constitute 1% of the total biomass of terresrial deep subsurface bacterial and archaeal biomass. We assume ≈10-fold uncertainty in the fraction of fungi out of the total biomass of the terrestrial deep subsurface bacteria and archaea, and combine this uncertainty with our projection for the uncertainty associated with our estimate of the total biomass of terrestrial deep subsurface bacteria and archaea, which is ≈20-fold."
   ]
  },
  {
   "cell_type": "code",
   "execution_count": 5,
   "metadata": {},
   "outputs": [],
   "source": [
    "deep_fungi = 0.6e15\n",
    "deep_fungi_CI = CI_prod_prop(np.array([10,20]))"
   ]
  },
  {
   "cell_type": "markdown",
   "metadata": {},
   "source": [
    "We combine all the biomass contributions of fungi from the different environments, and combine their uncertainties:"
   ]
  },
  {
   "cell_type": "code",
   "execution_count": 6,
   "metadata": {},
   "outputs": [
    {
     "name": "stdout",
     "output_type": "stream",
     "text": [
      "Our best estimate for the total biomass of fungi is 13 Gt C\n",
      "The uncertainty associated with the estimate for the biomass of fungi is 3.5-fold\n"
     ]
    }
   ],
   "source": [
    "total_fungi_biomass = soil_fungi_biomass + marine_fungi + deep_fungi\n",
    "\n",
    "print('Our best estimate for the total biomass of fungi is %.f Gt C' %(total_fungi_biomass/1e15))\n",
    "\n",
    "# Propagate the uncertainty associated with each parameter to the final estimate\n",
    "\n",
    "mul_CI = CI_sum_prop(np.array([soil_fungi_biomass, marine_fungi, deep_fungi]), np.array([ soil_fungi_biomass_CI, marine_fungi_CI, deep_fungi_CI]))\n",
    "\n",
    "print('The uncertainty associated with the estimate for the biomass of fungi is %.1f-fold' %mul_CI)"
   ]
  }
 ],
 "metadata": {
  "kernelspec": {
   "display_name": "Python 3",
   "language": "python",
   "name": "python3"
  },
  "language_info": {
   "codemirror_mode": {
    "name": "ipython",
    "version": 3
   },
   "file_extension": ".py",
   "mimetype": "text/x-python",
   "name": "python",
   "nbconvert_exporter": "python",
   "pygments_lexer": "ipython3",
   "version": "3.5.2"
  }
 },
 "nbformat": 4,
 "nbformat_minor": 2
}
