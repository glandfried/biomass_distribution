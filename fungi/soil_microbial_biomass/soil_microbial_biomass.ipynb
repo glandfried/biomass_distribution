{
 "cells": [
  {
   "cell_type": "code",
   "execution_count": 1,
   "metadata": {
    "collapsed": true
   },
   "outputs": [],
   "source": [
    "# Load dependencies\n",
    "from scipy.stats import gmean\n",
    "import pandas as pd\n",
    "import numpy as np\n",
    "import sys\n",
    "sys.path.insert(0, '../../statistics_helper')\n",
    "from CI_helper import *\n",
    "from fraction_helper import *\n",
    "pd.options.display.float_format = '{:,.1f}'.format"
   ]
  },
  {
   "cell_type": "markdown",
   "metadata": {},
   "source": [
    "# Estimating the biomass of soil microbes\n",
    "\n",
    "In order to estimate the total biomass of soil microbes, we rely on two recent studies - [Xu et al.](http://dx.doi.org/10.1111/geb.12029) and [Serna-Chavez et al.](http://dx.doi.org/10.1111/geb.12070)\n",
    "\n",
    "We use the final estimates in each of the studies as two independent estimates of the biomass of soil microbes. Xu et al. estimate a biomass of ≈23 Gt C of soil microbes, whereas Serna-Chavez et al. estimate ≈15 Gt C."
   ]
  },
  {
   "cell_type": "code",
   "execution_count": 2,
   "metadata": {
    "collapsed": true
   },
   "outputs": [],
   "source": [
    "# Define the values for the estimates of the biomass of soil microbes from Xu et al. and Serna-Chavez et al.\n",
    "xu = 23.2e15\n",
    "serna_chavez = 14.6e15"
   ]
  },
  {
   "cell_type": "markdown",
   "metadata": {},
   "source": [
    "As our best estimate for the biomass of soil microbes, we use the geometric mean of the values from Xu et al. and Serna-Chavez et al."
   ]
  },
  {
   "cell_type": "code",
   "execution_count": 3,
   "metadata": {},
   "outputs": [
    {
     "name": "stdout",
     "output_type": "stream",
     "text": [
      "Our best estimate for the biomass of soil microbes is ≈18 Gt C\n"
     ]
    }
   ],
   "source": [
    "# Our best estimate is the geometric mean of values from Xu et al. and Serna-Chavez et al.\n",
    "best_estimate = gmean([xu,serna_chavez])\n",
    "print('Our best estimate for the biomass of soil microbes is ≈%.0f Gt C' % (best_estimate/1e15))"
   ]
  },
  {
   "cell_type": "markdown",
   "metadata": {},
   "source": [
    "## Cells in deeper layers\n",
    "The estimates reported in Xu et al. and Serna-Chavez et al. are for microbial biomass in the top 1 meter of soil. To take into account microbial biomass in depths lower than 1 meter, we try to estimate the fraction of microbial biomass in the top 1 meter out of the total biomass of soil microbes.\n",
    "\n",
    "Xu et al. extrapolate the microbial biomass across the soil profile based on empirical equations for the distribution of root biomass along soil depth from [Jackson et al.](http://dx.doi.org/10.1007/BF00333714). The empirical equations are biome-specific, and follow the general form: $$Y = 1-\\beta^d$$ Where Y is the cumulative fraction of roots, d is depth in centimeters, and $\\beta$ is a coefficient fitted for each biome. This means the $\\beta^d$ represents the fraction of roots present in layers lower deeper than d centimeters.\n",
    "\n",
    "We use the fitted $\\beta$ coefficients from Jackson et al., along with estimates for the total microbial biomass in the top meter fo soils in each biome from Xu et al. to estimate the amount of biomass present in soil layers deeper than 1 meter."
   ]
  },
  {
   "cell_type": "code",
   "execution_count": 4,
   "metadata": {},
   "outputs": [
    {
     "name": "stdout",
     "output_type": "stream",
     "text": [
      "The fraction of microbial biomass in layers deeper than 1 meter based on Xu et al. is 2%\n"
     ]
    }
   ],
   "source": [
    "# Load data on the microbial biomass from each biome and the coefficients for the depth distribution of roots\n",
    "# in each biome\n",
    "data = pd.read_excel('soil_microbial_biomass_data.xlsx',skiprows=1)\n",
    "\n",
    "# Calculate the fraction of biomass deeper than 100 centimeters for each biome\n",
    "biome_deeper_frac = (data['beta']**100)\n",
    "\n",
    "# Calculate the relative fraction of total microbial biomass that is present in layers deeper than 1 meter\n",
    "total_deeper_relative_fraction = (data['Total microbial biomass 100 cm (g C)']*biome_deeper_frac).sum()/xu\n",
    "print('The fraction of microbial biomass in layers deeper than 1 meter based on Xu et al. is ' + '{:,.0f}%'.format(total_deeper_relative_fraction*100))"
   ]
  },
  {
   "cell_type": "markdown",
   "metadata": {},
   "source": [
    "As an additional source for estimating the fraction of biomass of microbes in soil layers deeper than 1 meter, we use the concentration of bacterial cells present in layers deeper than 1 meter reported in [Whitman et al.](https://www.ncbi.nlm.nih.gov/pubmed/9618454). Whitman et al. estimate that in forests there are ≈$4×10^7$ cells per gram in the top 1 meter and ≈$10^6$ cells per gram in depths of 1-8 meters. For other soils, Whitman et al. estimate ≈$2×10^9$ cells per gram in the top 1 meterand ≈$10^8$ cells per gram in depth of 1-8 meters. Assuming cells in deeper layers are similar in size to cells in the top 1 meter, this is equivalent to: "
   ]
  },
  {
   "cell_type": "code",
   "execution_count": 5,
   "metadata": {},
   "outputs": [
    {
     "name": "stdout",
     "output_type": "stream",
     "text": [
      "The fraction of cells found in soil layers deeper than 1 meter is 15% in forests and 26% in other soils.\n",
      "The average fraction of cells found in deeper layers is 20%\n"
     ]
    }
   ],
   "source": [
    "# Concentration of cells in top 1 meter of forest soils\n",
    "forest_upper = 4e7\n",
    "# Top 1 meter is 1 meter in depth\n",
    "forest_upper_depth = 1\n",
    "# Concentration of cells in depths of 1-7 meters of forest soils\n",
    "forest_lower = 1e6\n",
    "# The deeper layer of soils is 1-8 meters - 7 meters in depth\n",
    "forest_lower_depth = 7\n",
    "# Concentration of cells in top 1 meter of other soils\n",
    "other_upper = 2e9\n",
    "# Top 1 meter is 1 meter in depth\n",
    "other_upper_depth = 1\n",
    "# Concentration of cells in depths of 1-7 meters of other soils\n",
    "other_lower = 1e8\n",
    "# The deeper layer of soils is 1-8 meters - 7 meters in depth\n",
    "other_lower_depth = 7\n",
    "\n",
    "#Calculate the fraction of cells present in deeper layers of soil in forests and other soils\n",
    "forest_lower_frac = forest_lower*forest_lower_depth/(forest_lower*forest_lower_depth + forest_upper*forest_upper_depth)\n",
    "other_lower_frac = other_lower*other_lower_depth/(other_lower*other_lower_depth + other_upper*other_upper_depth)\n",
    "whitman_mean_frac = frac_mean(np.array([forest_lower_frac,other_lower_frac]))\n",
    "print('The fraction of cells found in soil layers deeper than 1 meter is ' + '{:,.0f}%'.format(forest_lower_frac*100) + ' in forests and ' '{:,.0f}%'.format(other_lower_frac*100) + ' in other soils.')\n",
    "print('The average fraction of cells found in deeper layers is ' + '{:,.0f}%'.format(100*whitman_mean_frac))"
   ]
  },
  {
   "cell_type": "markdown",
   "metadata": {},
   "source": [
    "As our estimate for the fraction of biomass present in layers deeper than 1 meter, we take the geometric mean of the fractions estimated by Xu et al. and by Whitman et al."
   ]
  },
  {
   "cell_type": "code",
   "execution_count": 6,
   "metadata": {},
   "outputs": [
    {
     "name": "stdout",
     "output_type": "stream",
     "text": [
      "Our best estimate for the fraction of biomass present in layers deeper than 1 meter is 7%\n",
      "Our best estimate for the biomass of soil microbes, including contributions from microbes present in layers deeper than 1 meter is 20 Gt C\n"
     ]
    }
   ],
   "source": [
    "# Calculate the geometric mean of the estimates by Xu et al. and Whitman et al.\n",
    "mean_deep_frac = frac_mean(np.array([total_deeper_relative_fraction,whitman_mean_frac]))\n",
    "print('Our best estimate for the fraction of biomass present in layers deeper than 1 meter is ' + '{:,.0f}%'.format(100*mean_deep_frac))\n",
    "\n",
    "# Correct out best estimate to account for the biomass of microbes in soil layers deeper than 1 meter\n",
    "best_estimate_corrected = best_estimate*(1+mean_deep_frac)\n",
    "print('Our best estimate for the biomass of soil microbes, including contributions from microbes present in layers deeper than 1 meter is %.0f Gt C' % (best_estimate_corrected/1e15))"
   ]
  },
  {
   "cell_type": "markdown",
   "metadata": {},
   "source": [
    "# Uncertainty analysis\n",
    "To calculate the uncertainty associated with the estimate for the total number of of bacteria and archaea, we first collect all available uncertainties and then take the largest value as our best projection for the uncertainty.\n",
    "\n",
    "## Total biomass of microbes in the top 1 meter\n",
    "\n",
    "### Intra-study uncertainty\n",
    "As noted above, our estimate is based on two studies which report the total biomass of soil microbes - [Xu et al.](http://dx.doi.org/10.1111/geb.12029) and [Serna-Chavez et al.](http://dx.doi.org/10.1111/geb.12070). Xu et al. does not report uncertainties associated with the total estimate of microbial biomass. However, Xu et al. report 95% confidence intervals for the average microbial biomass densities in each biome. We use these ranges as a measure of the intra-study uncertainty in Xu et al. The highest uncertainty across biomes is ≈1.5-fold."
   ]
  },
  {
   "cell_type": "code",
   "execution_count": 7,
   "metadata": {},
   "outputs": [
    {
     "data": {
      "text/html": [
       "<div>\n",
       "<style scoped>\n",
       "    .dataframe tbody tr th:only-of-type {\n",
       "        vertical-align: middle;\n",
       "    }\n",
       "\n",
       "    .dataframe tbody tr th {\n",
       "        vertical-align: top;\n",
       "    }\n",
       "\n",
       "    .dataframe thead th {\n",
       "        text-align: right;\n",
       "    }\n",
       "</style>\n",
       "<table border=\"1\" class=\"dataframe\">\n",
       "  <thead>\n",
       "    <tr style=\"text-align: right;\">\n",
       "      <th></th>\n",
       "      <th>Biome</th>\n",
       "      <th>95% confidence interval</th>\n",
       "    </tr>\n",
       "  </thead>\n",
       "  <tbody>\n",
       "    <tr>\n",
       "      <th>0</th>\n",
       "      <td>Boreal forest</td>\n",
       "      <td>1.5</td>\n",
       "    </tr>\n",
       "    <tr>\n",
       "      <th>1</th>\n",
       "      <td>Temperate coniferous forest</td>\n",
       "      <td>1.2</td>\n",
       "    </tr>\n",
       "    <tr>\n",
       "      <th>2</th>\n",
       "      <td>Temperate broadleaf forest</td>\n",
       "      <td>1.2</td>\n",
       "    </tr>\n",
       "    <tr>\n",
       "      <th>3</th>\n",
       "      <td>Tropical/subtropical forest</td>\n",
       "      <td>1.2</td>\n",
       "    </tr>\n",
       "    <tr>\n",
       "      <th>4</th>\n",
       "      <td>Mixed forest</td>\n",
       "      <td>1.1</td>\n",
       "    </tr>\n",
       "    <tr>\n",
       "      <th>5</th>\n",
       "      <td>Grassland</td>\n",
       "      <td>1.1</td>\n",
       "    </tr>\n",
       "    <tr>\n",
       "      <th>6</th>\n",
       "      <td>Shrub</td>\n",
       "      <td>1.3</td>\n",
       "    </tr>\n",
       "    <tr>\n",
       "      <th>7</th>\n",
       "      <td>Tundra</td>\n",
       "      <td>1.4</td>\n",
       "    </tr>\n",
       "    <tr>\n",
       "      <th>8</th>\n",
       "      <td>Desert</td>\n",
       "      <td>1.3</td>\n",
       "    </tr>\n",
       "    <tr>\n",
       "      <th>9</th>\n",
       "      <td>Natural wetlands</td>\n",
       "      <td>1.3</td>\n",
       "    </tr>\n",
       "    <tr>\n",
       "      <th>10</th>\n",
       "      <td>Cropland</td>\n",
       "      <td>1.0</td>\n",
       "    </tr>\n",
       "    <tr>\n",
       "      <th>11</th>\n",
       "      <td>Pasture</td>\n",
       "      <td>1.1</td>\n",
       "    </tr>\n",
       "  </tbody>\n",
       "</table>\n",
       "</div>"
      ],
      "text/plain": [
       "                          Biome  95% confidence interval\n",
       "0                 Boreal forest                      1.5\n",
       "1   Temperate coniferous forest                      1.2\n",
       "2    Temperate broadleaf forest                      1.2\n",
       "3   Tropical/subtropical forest                      1.2\n",
       "4                  Mixed forest                      1.1\n",
       "5                     Grassland                      1.1\n",
       "6                         Shrub                      1.3\n",
       "7                        Tundra                      1.4\n",
       "8                        Desert                      1.3\n",
       "9              Natural wetlands                      1.3\n",
       "10                     Cropland                      1.0\n",
       "11                      Pasture                      1.1"
      ]
     },
     "execution_count": 7,
     "metadata": {},
     "output_type": "execute_result"
    }
   ],
   "source": [
    "# We calculate the upper and lower multiplicative 95% confidence interval of the average microbial \n",
    "# biomass density for each biome\n",
    "xu_upper_CI = data['upper 95% confidence interval of Cmic']/data['Cmic (0-30 cm) [mmol C kg^-1]']\n",
    "xu_lower_CI = data['Cmic (0-30 cm) [mmol C kg^-1]']/data['lower 95% confidence interval of Cmic']\n",
    "\n",
    "# Our estimate for the final uncertainty is the average of the upper and lower confidence intervals.\n",
    "data['95% confidence interval'] = (pd.concat([xu_upper_CI,xu_lower_CI],axis=1).mean(axis=1))\n",
    "data[['Biome','95% confidence interval']]"
   ]
  },
  {
   "cell_type": "code",
   "execution_count": 8,
   "metadata": {},
   "outputs": [
    {
     "name": "stdout",
     "output_type": "stream",
     "text": [
      "The maximal intra-study uncertainty in Xu et al. across biomes is 1.5-fold\n"
     ]
    }
   ],
   "source": [
    "print('The maximal intra-study uncertainty in Xu et al. across biomes is %.1f-fold' % data['95% confidence interval'].max())"
   ]
  },
  {
   "cell_type": "markdown",
   "metadata": {},
   "source": [
    "Serna-Chavez et al. report 95% confidence internal of the final estimate for the total biomass of soil microbes. It is not clear from the paper what does this uncertainty represents, but it most probably represents 95% range of values from bootstrapping the parameters of the model used to estimate the local biomass density of soil microbes at each location. The reported 95% confidence interval is ≈0.007 Gt C, which represents an uncertainty of ≈1.0005-fold.\n",
    "\n",
    "### Interstudy uncertainty\n",
    "We estimate the 95% multiplicative error of the geometric mean of the estimates from Xu et al. and Serna-Chavez et al. "
   ]
  },
  {
   "cell_type": "code",
   "execution_count": 9,
   "metadata": {},
   "outputs": [
    {
     "name": "stdout",
     "output_type": "stream",
     "text": [
      "The interstudy uncertainty is ≈1.6-fold\n"
     ]
    }
   ],
   "source": [
    "mul_CI_top = geo_CI_calc([xu,serna_chavez])\n",
    "print('The interstudy uncertainty is ≈%.1f-fold' % mul_CI_top)"
   ]
  },
  {
   "cell_type": "markdown",
   "metadata": {},
   "source": [
    "We use the maximal uncertainty out of the collection of intra-study and interstudy uncertainties as our projection for the uncertainty associated with the biomass of soil microbes. The maximal uncertainty is the interstudy uncertainty of ≈1.6-fold. \n",
    "\n",
    "## Fraction of biomass in soil layers deeper than 1 meter\n",
    "### Intra-study uncertainty\n",
    "We estimate the intra-study uncetainty in the fraction of microbial biomass located in soil layers deeper than 1 meter in Xu et al. and in Whitman et al. For Xu et al. we calculating the 95% confidence interval of the $\\beta^d$ measure across biomes. For Whitman et al. we calculate the 95% confidence interval of the estimates for the fraction of bacterial cells in depth of 1-8 meters out of the total number of cells in forests and other soil types."
   ]
  },
  {
   "cell_type": "code",
   "execution_count": 10,
   "metadata": {},
   "outputs": [
    {
     "name": "stdout",
     "output_type": "stream",
     "text": [
      "The intra-study uncertainty of the fraction of microbial biomass present in soil layers deeper than 1 meter is ≈2.7-fold for Xu et al. and ≈1.7-fold for Whitman et al.\n"
     ]
    }
   ],
   "source": [
    "xu_deep_frac_CI = frac_CI(data['beta']**100)\n",
    "whitman_deep_frac_CI = frac_CI(np.array([forest_lower_frac,other_lower_frac]))\n",
    "print('The intra-study uncertainty of the fraction of microbial biomass present in soil layers deeper than 1 meter is ≈%.1f-fold for Xu et al. and ≈%.1f-fold for Whitman et al.' %(xu_deep_frac_CI,whitman_deep_frac_CI))"
   ]
  },
  {
   "cell_type": "markdown",
   "metadata": {},
   "source": [
    "\n",
    "### Interstudy uncertainty\n",
    "We calculate the 95% confidence interval from the average estimates of Xu et al. and Whitman et al. and use them as a measure of the interstudy uncertainty."
   ]
  },
  {
   "cell_type": "code",
   "execution_count": 11,
   "metadata": {},
   "outputs": [
    {
     "name": "stdout",
     "output_type": "stream",
     "text": [
      "The interstudy uncertainty of the fraction of microbial biomass present in soil layers deeper than 1 meter is ≈8.2-fold.\n"
     ]
    }
   ],
   "source": [
    "inter_deep_frac_CI = frac_CI(np.array([total_deeper_relative_fraction,whitman_mean_frac]))\n",
    "print('The interstudy uncertainty of the fraction of microbial biomass present in soil layers deeper than 1 meter is ≈%.1f-fold.' %(inter_deep_frac_CI))"
   ]
  },
  {
   "cell_type": "markdown",
   "metadata": {},
   "source": [
    "We take the highest uncertainty of the intra-study and interstudy uncertainty of ≈7.5-fold. This uncertainty relates to the fraction of biomass present in soil layers deeper than 1 meter. In order to propagate this uncertainty to the estimate of the total biomass of soil microbes, we sample 1000 times from a lognormal distribution with a mean and std of the fraction biomass from layers deeper than 1 meter, and add 1 to each sample to estimate the coefficient by which the total biomass of soil microbes should be corrected.\n",
    "The 97.5% and 2.5% percentiles of the resulting distribution of coefficients will be used as an estimate for the uncertainty of the total biomass of soil microbes contributed by the uncertainty in the estimate of the fraction of the biomass of microbes in soil layers deeper than 1 meter."
   ]
  },
  {
   "cell_type": "code",
   "execution_count": 12,
   "metadata": {},
   "outputs": [
    {
     "name": "stdout",
     "output_type": "stream",
     "text": [
      "Our estimate for the uncertainty of the total biomass of soil microbes contributed by the uncertainty in the esti,ate of the fraction of the biomass of microbes in soil layers deeper than 1 meter is 1.3-fold\n"
     ]
    }
   ],
   "source": [
    "# Calculate the maximal uncertainty between the intra-study and interstudy uncertainty\n",
    "best_deep_frac_CI = np.max([xu_deep_frac_CI,whitman_deep_frac_CI,inter_deep_frac_CI])\n",
    "# Sample the fraction of biomass in soil layers deeper than 1 meter from a lognormal distribution \n",
    "deep_frac_dist = np.random.lognormal(np.log(mean_deep_frac),np.log(best_deep_frac_CI**(1./1.96)),1000)\n",
    "# Calculate the distribution of coefficients by which the total biomass of soil microbes should be corrected\n",
    "cor_coeff_dist = 1 + deep_frac_dist\n",
    "\n",
    "# Calculate the 97.5% and 2.5% percentiles of the correction coefficient distribution, relative to the mean\n",
    "cor_coeff_upper_CI = np.percentile(cor_coeff_dist,97.5)/(1+mean_deep_frac)\n",
    "cor_coeff_lower_CI = (1+mean_deep_frac)/np.percentile(cor_coeff_dist,2.5)\n",
    "# our estimate for the 95% confidence interval is the average between the 97.5% and 2.5% fold changes\n",
    "cor_coeff_CI = np.mean([cor_coeff_upper_CI,cor_coeff_lower_CI])\n",
    "print('Our estimate for the uncertainty of the total biomass of soil microbes contributed by the uncertainty in the esti,ate of the fraction of the biomass of microbes in soil layers deeper than 1 meter is %.1f-fold' % cor_coeff_CI)"
   ]
  },
  {
   "cell_type": "markdown",
   "metadata": {},
   "source": [
    "## Total uncertainty\n",
    "To estimate the total uncertainty of the biomass of soil microbes, we combine the ucnertainty assoicated with the estimate of biomass of soil microbes in the top 1 meter of soil, and the uncertainty of the correction coefficient to include biomass contribution from soil layer deeper than 1 meter."
   ]
  },
  {
   "cell_type": "code",
   "execution_count": 13,
   "metadata": {},
   "outputs": [
    {
     "name": "stdout",
     "output_type": "stream",
     "text": [
      "The total uncertainty for the biomass of soil microbes is 1.7-fold\n"
     ]
    }
   ],
   "source": [
    "mul_CI = CI_prod_prop(np.array([mul_CI_top,cor_coeff_CI]))\n",
    "print('The total uncertainty for the biomass of soil microbes is %.1f-fold' % mul_CI)"
   ]
  },
  {
   "cell_type": "markdown",
   "metadata": {},
   "source": [
    "We also take into account additional sources of uncertainty which are difficult to quantify, as detailed in the section about soil fungi in the Supplementary Information. We thus project an uncertainty of ≈2-fold for the biomass of soil microbes. Our final parameters are:"
   ]
  },
  {
   "cell_type": "code",
   "execution_count": 14,
   "metadata": {},
   "outputs": [
    {
     "name": "stdout",
     "output_type": "stream",
     "text": [
      "Total biomass of soil microbes: 18 Gt C\n",
      "Uncertainty associated with the estimate of the total biomass of soil microbes ≈2-fold\n"
     ]
    }
   ],
   "source": [
    "print('Total biomass of soil microbes: %.0f Gt C' % (best_estimate/1e15))\n",
    "print('Uncertainty associated with the estimate of the total biomass of soil microbes ≈2-fold' % mul_CI)\n",
    "\n",
    "old_results = pd.read_excel('../fungi_biomass_estimate.xlsx')\n",
    "result = old_results.copy()\n",
    "result.loc[0] = pd.Series({\n",
    "                'Parameter': 'Total biomass of soil microbes',\n",
    "                'Value': int(best_estimate_corrected),\n",
    "                'Units': 'g C',\n",
    "                'Uncertainty': \"{0:.1f}\".format(2)\n",
    "                })\n",
    "\n",
    "result.to_excel('../fungi_biomass_estimate.xlsx',index=False)\n",
    "\n"
   ]
  }
 ],
 "metadata": {
  "kernelspec": {
   "display_name": "Python 3",
   "language": "python",
   "name": "python3"
  },
  "language_info": {
   "codemirror_mode": {
    "name": "ipython",
    "version": 3
   },
   "file_extension": ".py",
   "mimetype": "text/x-python",
   "name": "python",
   "nbconvert_exporter": "python",
   "pygments_lexer": "ipython3",
   "version": "3.5.2"
  }
 },
 "nbformat": 4,
 "nbformat_minor": 2
}
