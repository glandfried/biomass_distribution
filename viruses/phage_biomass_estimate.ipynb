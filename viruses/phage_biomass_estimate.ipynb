{
 "cells": [
  {
   "cell_type": "code",
   "execution_count": 1,
   "metadata": {
    "collapsed": true
   },
   "outputs": [],
   "source": [
    "# Load dependencies\n",
    "import pandas as pd\n",
    "import sys\n",
    "sys.path.insert(0,'../statistics_helper/')\n",
    "from CI_helper import *\n",
    "pd.options.display.float_format = '{:,.0e}'.format\n",
    "from excel_utils import *"
   ]
  },
  {
   "cell_type": "markdown",
   "metadata": {
    "collapsed": true
   },
   "source": [
    "# Estimating the biomass of phages\n",
    "Our estimate of the total biomass of phages relies upon the estimates for the total number of phages and the carbon content of a single phage which we derived in the relevant sections\n",
    "\n",
    "These are our best estimates for the different parameters required for the estimate, along with the associated uncertainties:"
   ]
  },
  {
   "cell_type": "code",
   "execution_count": 2,
   "metadata": {},
   "outputs": [
    {
     "data": {
      "text/html": [
       "<div>\n",
       "<style scoped>\n",
       "    .dataframe tbody tr th:only-of-type {\n",
       "        vertical-align: middle;\n",
       "    }\n",
       "\n",
       "    .dataframe tbody tr th {\n",
       "        vertical-align: top;\n",
       "    }\n",
       "\n",
       "    .dataframe thead th {\n",
       "        text-align: right;\n",
       "    }\n",
       "</style>\n",
       "<table border=\"1\" class=\"dataframe\">\n",
       "  <thead>\n",
       "    <tr style=\"text-align: right;\">\n",
       "      <th></th>\n",
       "      <th>Parameter</th>\n",
       "      <th>Value</th>\n",
       "      <th>Units</th>\n",
       "      <th>Uncertainty</th>\n",
       "    </tr>\n",
       "  </thead>\n",
       "  <tbody>\n",
       "    <tr>\n",
       "      <th>0</th>\n",
       "      <td>Carbon content of a single phage</td>\n",
       "      <td>2e-17</td>\n",
       "      <td>g C per individual</td>\n",
       "      <td>2e+00</td>\n",
       "    </tr>\n",
       "    <tr>\n",
       "      <th>1</th>\n",
       "      <td>Total number of phages</td>\n",
       "      <td>1e+31</td>\n",
       "      <td>Number of individuals</td>\n",
       "      <td>1e+01</td>\n",
       "    </tr>\n",
       "  </tbody>\n",
       "</table>\n",
       "</div>"
      ],
      "text/plain": [
       "                          Parameter  Value                  Units  Uncertainty\n",
       "0  Carbon content of a single phage  2e-17     g C per individual        2e+00\n",
       "1            Total number of phages  1e+31  Number of individuals        1e+01"
      ]
     },
     "execution_count": 2,
     "metadata": {},
     "output_type": "execute_result"
    }
   ],
   "source": [
    "# Load estimates for the total number of phages and for the carbon cont\n",
    "estimate = pd.read_excel('phage_biomass_estimate.xlsx')\n",
    "estimate"
   ]
  },
  {
   "cell_type": "markdown",
   "metadata": {},
   "source": [
    "In order to estimate the total biomass of phages, we multiply our estimate of the total number of phages by our estimate of the carbon content of a single phage."
   ]
  },
  {
   "cell_type": "code",
   "execution_count": 3,
   "metadata": {},
   "outputs": [
    {
     "name": "stdout",
     "output_type": "stream",
     "text": [
      "Our best estimate for the total biomass of phages is 0.2 Gt C\n"
     ]
    }
   ],
   "source": [
    "best_estimate = estimate['Value'].prod()\n",
    "\n",
    "print('Our best estimate for the total biomass of phages is %.1f Gt C' %(best_estimate/1e15))"
   ]
  },
  {
   "cell_type": "markdown",
   "metadata": {},
   "source": [
    "We propagate the uncertainties associated with each of the parameters to project the uncertainty of our estimate of the total biomass of phages:"
   ]
  },
  {
   "cell_type": "code",
   "execution_count": 4,
   "metadata": {},
   "outputs": [
    {
     "name": "stdout",
     "output_type": "stream",
     "text": [
      "Our best projection for the uncertainty associated with our estiamte of the biomass of phages is 15.0-fold\n"
     ]
    }
   ],
   "source": [
    "mul_CI = CI_prod_prop(estimate['Uncertainty'])\n",
    "\n",
    "print('Our best projection for the uncertainty associated with our estiamte of the biomass of phages is %.1f-fold' %mul_CI)"
   ]
  },
  {
   "cell_type": "markdown",
   "metadata": {},
   "source": [
    "Due to the scarcity of data on the different parameters used to estimate the total biomass of phages, we use a higher uncertainty projection of ≈20-fold."
   ]
  },
  {
   "cell_type": "code",
   "execution_count": 5,
   "metadata": {},
   "outputs": [
    {
     "name": "stderr",
     "output_type": "stream",
     "text": [
      "/usr/lib/python3/dist-packages/ipykernel/ipkernel.py:196: PerformanceWarning: indexing past lexsort depth may impact performance.\n",
      "  res = shell.run_cell(code, store_history=store_history, silent=silent)\n",
      "/usr/lib/python3/dist-packages/IPython/core/interactiveshell.py:2717: PerformanceWarning: indexing past lexsort depth may impact performance.\n",
      "  interactivity=interactivity, compiler=compiler, result=result)\n"
     ]
    }
   ],
   "source": [
    "mul_CI = 20\n",
    "\n",
    "# Feed results to Table 1 & Fig. 1\n",
    "update_results(sheet='Table1 & Fig1', \n",
    "               row=('Viruses','Viruses'), \n",
    "               col=['Biomass [Gt C]', 'Uncertainty','Total uncertainty'],\n",
    "               values=[best_estimate/1e15,mul_CI,mul_CI],\n",
    "               path='../results.xlsx')\n",
    "\n",
    "\n",
    "# Feed results to Table S1\n",
    "update_results(sheet='Table S1', \n",
    "               row=('Viruses','Viruses'), \n",
    "               col=['Number of individuals'],\n",
    "               values=estimate.loc[1,'Value'],\n",
    "               path='../results.xlsx')\n",
    "\n",
    "# Calculate non-deep subsurface virus biomass\n",
    "phage_num = pd.read_excel('phage_num/phage_num_estimate.xlsx')\n",
    "non_deep_phage = phage_num.loc[[0,2],'Value'].sum()*estimate.loc[0,'Value']\n",
    "\n",
    "# Feed results to Fig S1\n",
    "update_results(sheet='FigS1', \n",
    "               row=('Viruses','Viruses'), \n",
    "               col=['Biomass [Gt C]'],\n",
    "               values=non_deep_phage/1e15,\n",
    "               path='../results.xlsx')"
   ]
  }
 ],
 "metadata": {
  "kernelspec": {
   "display_name": "Python 3",
   "language": "python",
   "name": "python3"
  },
  "language_info": {
   "codemirror_mode": {
    "name": "ipython",
    "version": 3
   },
   "file_extension": ".py",
   "mimetype": "text/x-python",
   "name": "python",
   "nbconvert_exporter": "python",
   "pygments_lexer": "ipython3",
   "version": "3.6.3"
  }
 },
 "nbformat": 4,
 "nbformat_minor": 2
}
