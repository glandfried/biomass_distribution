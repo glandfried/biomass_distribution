{
 "cells": [
  {
   "cell_type": "markdown",
   "metadata": {},
   "source": [
    "# Estimating the total number of phages in soils\n",
    "We could not come by many data for the abundance of phages in soil. Our estimates are based on the data available to us, which is mainly from [Williamson](http://dx.doi.org/10.1007/978-3-642-14512-4_4) and [Parikka et al.](http://dx.doi.org/10.1111/brv.12271). \n",
    "\n",
    "Based on these data, the values for the concentration of phages in soils appears to be ~$10^8-10^9$ phages per gram of soil. Assuming bulk soil density of ≈1.5 g cm$^3$, and soil depth of 10 meters (based on [Shangguan et al.](http://dx.doi.org/10.1002/2016MS000686)), we estimate the total number of phages per $m^2$ to be:"
   ]
  },
  {
   "cell_type": "code",
   "execution_count": 1,
   "metadata": {},
   "outputs": [
    {
     "name": "stdout",
     "output_type": "stream",
     "text": [
      "The lower bound of the number of phages per m^2 of soil is ≈1.5e+15 phages\n",
      "The upper bound of the number of phages per m^2 of soil is ≈1.5e+16 phages\n"
     ]
    }
   ],
   "source": [
    "import pandas as pd\n",
    "from scipy.stats import gmean\n",
    "import sys\n",
    "sys.path.insert(0, '../../../statistics_helper/')\n",
    "from CI_helper import *\n",
    "\n",
    "\n",
    "# Lower and upper bounds for the concentration of phages per gram\n",
    "lower_concentration = 1e8\n",
    "upper_concentration = 1e9\n",
    "\n",
    "# Typical bulk density of soil in g per cm^3\n",
    "bulk_density = 1.5\n",
    "\n",
    "# Total number of cm^3 in m^3\n",
    "cm3_m3 = 1e6\n",
    "\n",
    "# Soil depth in meters\n",
    "depth = 10\n",
    "# Calculate the total number of phages per m^2\n",
    "lower_phage_per_m2 = lower_concentration*bulk_density*cm3_m3*depth\n",
    "upper_phage_per_m2 = upper_concentration*bulk_density*cm3_m3*depth\n",
    "\n",
    "print('The lower bound of the number of phages per m^2 of soil is ≈%.1e phages' %lower_phage_per_m2)\n",
    "print('The upper bound of the number of phages per m^2 of soil is ≈%.1e phages' %upper_phage_per_m2)"
   ]
  },
  {
   "cell_type": "markdown",
   "metadata": {},
   "source": [
    "As our best estimate of the number of phages per $m^2$, we use the geometric mean of the lower and upper bounds. We apply this phage concentration across the entire ice-free land surface of the Earth, which is ≈$1.3×10^{14} m^2$ to estimate the total number of phages in soils:"
   ]
  },
  {
   "cell_type": "code",
   "execution_count": 2,
   "metadata": {},
   "outputs": [
    {
     "name": "stdout",
     "output_type": "stream",
     "text": [
      "Our best estimate for the total number of phages in soils is ≈6.2e+29 phages\n"
     ]
    }
   ],
   "source": [
    "# Use the geometric mean of the lower and upper phage concentrations as our best estimate\n",
    "best_phage_per_m2 = gmean([lower_phage_per_m2,upper_phage_per_m2])\n",
    "\n",
    "# The area of ice-free land surface in m^2\n",
    "area = 1.3e14\n",
    "\n",
    "best_estimate = best_phage_per_m2*area\n",
    "\n",
    "print('Our best estimate for the total number of phages in soils is ≈%.1e phages' % best_estimate)"
   ]
  },
  {
   "cell_type": "markdown",
   "metadata": {},
   "source": [
    "# Uncertainty analysis\n",
    "There are no good indicators for the uncerainty of our estimate of the total number of phages in soils. The range of ~$10^8-10^9$ phages per gram of soil introduces an uncertainty of about an order of magnitude. The specific values of the bulk density of soils, as well as the depth of soils also have uncertainty associated with them, which is hard to quantify. Our estimate is likely to be an overestimate, as it likely that the concentration of phages in deeper soil layers will be lower than in shallower layers, as is for prokaryotes.\n",
    "We thus project very crudely an uncertainty of one and a half orders of magnitude associated with our estimate of the number of phages in soils.\n",
    "\n",
    "Our final parameters are:"
   ]
  },
  {
   "cell_type": "code",
   "execution_count": 3,
   "metadata": {},
   "outputs": [
    {
     "name": "stdout",
     "output_type": "stream",
     "text": [
      "Our best estimate for the total number of phages in soils: 6e+29 Gt C\n",
      "Uncertainty associated with the estiamte of the total number of phages in soils: 32-fold\n"
     ]
    }
   ],
   "source": [
    "mul_CI = 10**1.5\n",
    "\n",
    "print('Our best estimate for the total number of phages in soils: %.0e Gt C' % best_estimate)\n",
    "print('Uncertainty associated with the estiamte of the total number of phages in soils: %.0f-fold' % mul_CI)\n",
    "\n",
    "old_results = pd.read_excel('../phage_num_estimate.xlsx')\n",
    "result = old_results.copy()\n",
    "result.loc[3] = pd.Series({\n",
    "                'Parameter': 'Total number of phages in soils',\n",
    "                'Value': best_estimate,\n",
    "                'Units': 'Number of individuals',\n",
    "                'Uncertainty': mul_CI\n",
    "                })\n",
    "\n",
    "result.to_excel('../phage_num_estimate.xlsx',index=False)\n"
   ]
  }
 ],
 "metadata": {
  "kernelspec": {
   "display_name": "Python 3",
   "language": "python",
   "name": "python3"
  },
  "language_info": {
   "codemirror_mode": {
    "name": "ipython",
    "version": 3
   },
   "file_extension": ".py",
   "mimetype": "text/x-python",
   "name": "python",
   "nbconvert_exporter": "python",
   "pygments_lexer": "ipython3",
   "version": "3.6.3"
  }
 },
 "nbformat": 4,
 "nbformat_minor": 2
}
