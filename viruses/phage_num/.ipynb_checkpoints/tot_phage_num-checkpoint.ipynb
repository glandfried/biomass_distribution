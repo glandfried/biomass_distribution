{
 "cells": [
  {
   "cell_type": "code",
   "execution_count": 1,
   "metadata": {
    "collapsed": true
   },
   "outputs": [],
   "source": [
    "# Load dependencies\n",
    "import pandas as pd\n",
    "import sys\n",
    "import sys\n",
    "sys.path.insert(0, '../../statistics_helper/')\n",
    "from CI_helper import *\n",
    "pd.options.display.float_format = '{:,.1e}'.format"
   ]
  },
  {
   "cell_type": "markdown",
   "metadata": {},
   "source": [
    "# Estimating the total number of phages\n",
    "In order to estimate the total number of phages world-wide, we sum our estimates for the total biomass of phages in all of the environments we cover: the marine environment, soils, the marine deep subsurface, and the terrestrial deep subsurface.\n",
    "Here is a summary of our estimates for the total number of phages in each of the environments:"
   ]
  },
  {
   "cell_type": "code",
   "execution_count": 2,
   "metadata": {},
   "outputs": [
    {
     "data": {
      "text/html": [
       "<div>\n",
       "<style scoped>\n",
       "    .dataframe tbody tr th:only-of-type {\n",
       "        vertical-align: middle;\n",
       "    }\n",
       "\n",
       "    .dataframe tbody tr th {\n",
       "        vertical-align: top;\n",
       "    }\n",
       "\n",
       "    .dataframe thead th {\n",
       "        text-align: right;\n",
       "    }\n",
       "</style>\n",
       "<table border=\"1\" class=\"dataframe\">\n",
       "  <thead>\n",
       "    <tr style=\"text-align: right;\">\n",
       "      <th></th>\n",
       "      <th>Parameter</th>\n",
       "      <th>Value</th>\n",
       "      <th>Units</th>\n",
       "      <th>Uncertainty</th>\n",
       "    </tr>\n",
       "  </thead>\n",
       "  <tbody>\n",
       "    <tr>\n",
       "      <th>0</th>\n",
       "      <td>Total number of marine phages</td>\n",
       "      <td>2.0e+30</td>\n",
       "      <td>Number of individuals</td>\n",
       "      <td>nan</td>\n",
       "    </tr>\n",
       "    <tr>\n",
       "      <th>1</th>\n",
       "      <td>Total number of phages in the marine deep subs...</td>\n",
       "      <td>4.8e+30</td>\n",
       "      <td>Number of individuals</td>\n",
       "      <td>nan</td>\n",
       "    </tr>\n",
       "    <tr>\n",
       "      <th>2</th>\n",
       "      <td>Total number of phages in soils</td>\n",
       "      <td>6.2e+29</td>\n",
       "      <td>Number of individuals</td>\n",
       "      <td>3.2e+01</td>\n",
       "    </tr>\n",
       "    <tr>\n",
       "      <th>3</th>\n",
       "      <td>Total number of phages in the terrestrial deep...</td>\n",
       "      <td>2.1e+30</td>\n",
       "      <td>Number of individuals</td>\n",
       "      <td>6.4e+01</td>\n",
       "    </tr>\n",
       "  </tbody>\n",
       "</table>\n",
       "</div>"
      ],
      "text/plain": [
       "                                           Parameter   Value  \\\n",
       "0                      Total number of marine phages 2.0e+30   \n",
       "1  Total number of phages in the marine deep subs... 4.8e+30   \n",
       "2                    Total number of phages in soils 6.2e+29   \n",
       "3  Total number of phages in the terrestrial deep... 2.1e+30   \n",
       "\n",
       "                   Units  Uncertainty  \n",
       "0  Number of individuals          nan  \n",
       "1  Number of individuals          nan  \n",
       "2  Number of individuals      3.2e+01  \n",
       "3  Number of individuals      6.4e+01  "
      ]
     },
     "execution_count": 2,
     "metadata": {},
     "output_type": "execute_result"
    }
   ],
   "source": [
    "estimate = pd.read_excel('phage_num_estimate.xlsx')\n",
    "estimate"
   ]
  },
  {
   "cell_type": "markdown",
   "metadata": {},
   "source": [
    "Our best estimate of the total number of phages is the sum of our estimates for the number of phages in all the environments we cover:"
   ]
  },
  {
   "cell_type": "code",
   "execution_count": 3,
   "metadata": {},
   "outputs": [
    {
     "name": "stdout",
     "output_type": "stream",
     "text": [
      "Our best estimate for the total number of phages is 9.5e+30\n"
     ]
    }
   ],
   "source": [
    "# Calculate the total number of phages\n",
    "best_estimate = estimate.sum()['Value']\n",
    "\n",
    "print('Our best estimate for the total number of phages is %.1e' %best_estimate)"
   ]
  },
  {
   "cell_type": "markdown",
   "metadata": {},
   "source": [
    "# Uncertainty analysis\n",
    "We could only produce projections for the number of phages in soils and in the terrestrial deep subsurface. For the number of phages in the marine environment and in the marine deep subsurface, we did not have a methodology which we believe represents well the uncertainty associated with our estimate. We therefore chose to use an uncertainty of about one and a half orders of magnitude for both the number of phages in the marine environments and in the marine deep subsurface. We hope further studies could come up with a better methodology for assessing the uncertainty of the estimate of the total number of phages in those environments.\n",
    "\n",
    "We combine the uncertainties for the number of phages in each of the environments to produce our projection for the uncertainty associated with our estimate of the total number of phages:"
   ]
  },
  {
   "cell_type": "code",
   "execution_count": 4,
   "metadata": {},
   "outputs": [
    {
     "name": "stdout",
     "output_type": "stream",
     "text": [
      "Our best projection for the uncertainty associated with our estimate of the total number of phages is 13.4-fold\n"
     ]
    }
   ],
   "source": [
    "# Set the uncertainty associated with our estimate of the total number of phages\n",
    "# in the marine environment and in the marine deep subsurface as one and a half\n",
    "# orders of magnitude\n",
    "estimate.loc[0,'Uncertainty'] = 10**1.5\n",
    "estimate.loc[1,'Uncertainty'] = 10**1.5\n",
    "\n",
    "# Combine the uncertainties for all environments to produce our best projection\n",
    "mul_CI = CI_sum_prop(estimates=estimate['Value'],mul_CIs=estimate['Uncertainty'])\n",
    "\n",
    "print('Our best projection for the uncertainty associated with our estimate of the total number of phages is %.1f-fold' %mul_CI)"
   ]
  },
  {
   "cell_type": "markdown",
   "metadata": {},
   "source": [
    "Our final parameters are:"
   ]
  },
  {
   "cell_type": "code",
   "execution_count": 5,
   "metadata": {},
   "outputs": [
    {
     "name": "stdout",
     "output_type": "stream",
     "text": [
      "Our best estimate for the total number of phages : 1e+31\n",
      "Uncertainty associated with the estimate of the total number of phages: 13-fold\n"
     ]
    }
   ],
   "source": [
    "print('Our best estimate for the total number of phages : %.0e' % best_estimate)\n",
    "print('Uncertainty associated with the estimate of the total number of phages: %.0f-fold' % mul_CI)\n",
    "\n",
    "old_results = pd.read_excel('../phage_biomass_estimate.xlsx')\n",
    "result = old_results.copy()\n",
    "result.loc[1] = pd.Series({\n",
    "                'Parameter': 'Total number of phages',\n",
    "                'Value': best_estimate,\n",
    "                'Units': 'Number of individuals',\n",
    "                'Uncertainty': mul_CI\n",
    "                })\n",
    "\n",
    "\n",
    "result.to_excel('../phage_biomass_estimate.xlsx',index=False)\n"
   ]
  }
 ],
 "metadata": {
  "kernelspec": {
   "display_name": "Python 3",
   "language": "python",
   "name": "python3"
  },
  "language_info": {
   "codemirror_mode": {
    "name": "ipython",
    "version": 3
   },
   "file_extension": ".py",
   "mimetype": "text/x-python",
   "name": "python",
   "nbconvert_exporter": "python",
   "pygments_lexer": "ipython3",
   "version": "3.5.2"
  }
 },
 "nbformat": 4,
 "nbformat_minor": 2
}
