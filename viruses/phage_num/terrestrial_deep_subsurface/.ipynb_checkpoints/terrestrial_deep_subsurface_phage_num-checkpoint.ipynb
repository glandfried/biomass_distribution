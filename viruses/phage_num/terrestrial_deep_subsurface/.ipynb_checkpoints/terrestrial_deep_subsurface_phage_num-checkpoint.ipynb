{
 "cells": [
  {
   "cell_type": "markdown",
   "metadata": {},
   "source": [
    "# Estimating the total number of terrestrial deep subsurface phages\n",
    "Estimating the total number of phages in the terrestrial deep subsurface is challenging as data on the abundance of phages in this environment is scarce. To generate an estimate for the total number of phages present in the terrestrial deep subsurface, we combined five different types of estimates for the ratio between the concentration of prokaryotes and phage-like particles. Below we detail these five different estimates. \n",
    "\n",
    "## Phage-like particle to prokaryotes concentration ratios\n",
    "### Naive ratio of phage-live particles and prokaryotes\n",
    "A common claim regarding the ratio between the concentration of phage-like particles and prokaryotes is that phage-like particles are about 10 times more abundant than the number of prokaryotes. We use this ratio as our first estimate for the ratio between the concentration of phage-like particles and prokaryotes."
   ]
  },
  {
   "cell_type": "code",
   "execution_count": 1,
   "metadata": {
    "collapsed": true
   },
   "outputs": [],
   "source": [
    "naive_ratio = 10"
   ]
  },
  {
   "cell_type": "markdown",
   "metadata": {},
   "source": [
    "### Engelhardt et al. based ratio\n",
    "For our second estimate of the ratio of the concentration of phage-like particles and prokaryotes, we use the relation measured in subseafloor sediments by [Engelhardt et al.](http://dx.doi.org/10.1038/ismej.2013.245). The ratio Engelhardt et al. measured is: $$V = 271.8\\times P ^{0.768}$$\n",
    "Where V is the concentrations of phage-like particles and P is the concentration of prokaryotes.\n"
   ]
  },
  {
   "cell_type": "code",
   "execution_count": 2,
   "metadata": {
    "collapsed": true
   },
   "outputs": [],
   "source": [
    "engelhardt_ratio = lambda x: 271.8*x**0.768"
   ]
  },
  {
   "cell_type": "markdown",
   "metadata": {},
   "source": [
    "### Kyle et al. based ratio\n",
    "For our fourth estimate of the ratio of the concentration of phage-like particles and prokaryotes, we use the relation measured in the terrestrial deep subsurface by [Kyle et al.](http://dx.doi.org/10.1038/ismej.2008.18). The ratio Kyle et al. measured is: $$V = 10^{1.3\\times log_{10}(P)-0.62}$$\n",
    "Where V is the concentrations of phage-like particles and P is the concentration of prokaryotes."
   ]
  },
  {
   "cell_type": "code",
   "execution_count": 3,
   "metadata": {
    "collapsed": true
   },
   "outputs": [],
   "source": [
    "kyle_ratio = lambda x: 10**(1.3*np.log10(x)-0.62)"
   ]
  },
  {
   "cell_type": "markdown",
   "metadata": {},
   "source": [
    "### Pan et al. based ratio\n",
    "For our third estimate of the ratio of the concentration of phage-like particles and prokaryotes, we use the relation measured in the terrestrial deep subsurface by [Pan et al.](http://dx.doi.org/10.3389/fmicb.2017.01199). Pan et al. measured the concentration of phage-like particles and prokaryotes in alluvial aquifer which is situated near a U.S. Department of Energy uranium ore-processing site. The measurement were done in aquifers that are inside or outside a uranium plume from the nearby site. We use the data from samples outside the plume and calculate a geometric mean of the ratio between the concentration of phage-like particles and prokaryotes.\n"
   ]
  },
  {
   "cell_type": "code",
   "execution_count": 4,
   "metadata": {},
   "outputs": [
    {
     "name": "stdout",
     "output_type": "stream",
     "text": [
      "Our estimate for the ratio between the concentration of phage-like particles and prokaryotes based on Pan et al. is ≈3.\n"
     ]
    }
   ],
   "source": [
    "import pandas as pd\n",
    "pd.options.display.float_format = '{:,.1e}'.format\n",
    "import numpy as np\n",
    "import sys\n",
    "sys.path.insert(0, '../../../statistics_helper/')\n",
    "from CI_helper import *\n",
    "\n",
    "from scipy.stats import gmean\n",
    "pan_data = pd.read_excel('terrestrial_deep_subsurface_phage_num_data.xlsx','Pan',skiprows=1)\n",
    "pan_ratio = gmean(pan_data['Virus-to-cell ratio (VCR)'])\n",
    "print('Our estimate for the ratio between the concentration of phage-like particles and prokaryotes based on Pan et al. is ≈%.0f.' % pan_ratio)\n"
   ]
  },
  {
   "cell_type": "markdown",
   "metadata": {},
   "source": [
    "### Roundnew et al. based ratio\n",
    "For our fifth estimate of the ratio of the concentration of phage-like particles and prokaryotes, we use the relation measured in the terrestrial deep subsurface by [Roundnew et al.](http://onlinelibrary.wiley.com/doi/10.1111/j.1745-6592.2011.01393.x/full). Roundnew et al. measured the concentration of phage-like particles and prokaryotes in groundwater along a depth profile. We use the data from samples outside the plume and calculate a geometric mean of the ratio between the concentration of phage-like particles and prokaryotes.\n"
   ]
  },
  {
   "cell_type": "code",
   "execution_count": 5,
   "metadata": {},
   "outputs": [
    {
     "name": "stdout",
     "output_type": "stream",
     "text": [
      "Our estimate for the ratio between the concentration of phage-like particles and prokaryotes based on Roundnew et al. is ≈2.\n"
     ]
    }
   ],
   "source": [
    "roundnew_data = pd.read_excel('terrestrial_deep_subsurface_phage_num_data.xlsx','Roundnew',skiprows=1)\n",
    "roundnew_ratio = gmean(roundnew_data['Virus:Bacteria ratio'])\n",
    "print('Our estimate for the ratio between the concentration of phage-like particles and prokaryotes based on Roundnew et al. is ≈%.0f.' % roundnew_ratio)"
   ]
  },
  {
   "cell_type": "markdown",
   "metadata": {},
   "source": [
    "## Generating estimates for the total number of phages in the terrestrial deep subsurface\n",
    "These estimates of the ratio of the concentration of phage-like particles and prokaryotes can be used to estimate the total number of phages by plugging into them an estimate for the total number of prokaryotes in the terrestrial deep subsurface. After detailing the five estimates of the ratio between the number of phage-like particles and prokaryotes, we discuss the estimate of the total number of prokaryotes in the terrestrial deep subsurface that we plug into the ratios to generate estimates of the total number of phages in the terrestrial deep subsurface.\n",
    "\n",
    "In general, it is not clear whether the measured ratios between the concentrations of phage-like particles and prokaryotes refer to attached or unattached cells. We take this factor into consideration in our estimate as a scaling factor that converts the estimated number of phages in groundwater to an estimate for the total number of phages. Our best estimate for this factor is a geometric mean of three estimates. The first takes into account only groundwater, and the other two assume an that attached cells (and thus also phages) are ≈$10^2-10^3$ more abundant than cell in groundwater (as estimated in [McMahon & Parnell](http://dx.doi.org/10.1111/1574-6941.12196)).\n",
    "\n",
    "The estimates of the ratio between the concentration of phage-like particles and prokaryotes can be divided to two categories: estimates that are invariant to the local concentration of prokaryotes and ratios that are dependent on the local concentration of prokaryotes.\n",
    "\n",
    "The first category of estimates includes the naive estimate and the estimates by Pan et al. and Roundnew et al. For those estimates, we can just plug in an estimate for the total number of prokaryotes in the terrestrial deep subsurface and get an estimate for the total number of phages. The second category includes the estimates by Engelhardt et al. and Kyle et al. For those estimates, we need to use the local concentrations of prokaryotes to generate local concentrations of phage-like particles, and then sum all the local concentrations.\n",
    "\n",
    "We start with generating the estimates for the first category of estimates of the ratio between the concentration of phage-like particles and prokaryotes. The total number of prokaryotes we use is based on our analysis of the biomass of terrestrial bacteria and archaea (see relevant section in the Supplementary Information). As we note in the section on the biomass of terrestrial deep subsurface prokaryotes, we generate two estimates for the total number of cells in groundwater - one based on arithmetic means of cell concentrations at several depth bins, and the other based on geometric means of cell concentraions at the same depth bins. Here is a view of the data:"
   ]
  },
  {
   "cell_type": "code",
   "execution_count": 6,
   "metadata": {},
   "outputs": [
    {
     "data": {
      "text/html": [
       "<div>\n",
       "<style scoped>\n",
       "    .dataframe tbody tr th:only-of-type {\n",
       "        vertical-align: middle;\n",
       "    }\n",
       "\n",
       "    .dataframe tbody tr th {\n",
       "        vertical-align: top;\n",
       "    }\n",
       "\n",
       "    .dataframe thead th {\n",
       "        text-align: right;\n",
       "    }\n",
       "</style>\n",
       "<table border=\"1\" class=\"dataframe\">\n",
       "  <thead>\n",
       "    <tr style=\"text-align: right;\">\n",
       "      <th></th>\n",
       "      <th>index</th>\n",
       "      <th>Mean cell concentration [cells mL-1]</th>\n",
       "      <th>Geometric mean cell concentration [cells mL-1]</th>\n",
       "    </tr>\n",
       "    <tr>\n",
       "      <th>Depth bin [m]</th>\n",
       "      <th></th>\n",
       "      <th></th>\n",
       "      <th></th>\n",
       "    </tr>\n",
       "  </thead>\n",
       "  <tbody>\n",
       "    <tr>\n",
       "      <th>(0.0, 250.0]</th>\n",
       "      <td>0</td>\n",
       "      <td>1.0e+06</td>\n",
       "      <td>4.2e+05</td>\n",
       "    </tr>\n",
       "    <tr>\n",
       "      <th>(250.0, 500.0]</th>\n",
       "      <td>1</td>\n",
       "      <td>6.4e+05</td>\n",
       "      <td>2.2e+05</td>\n",
       "    </tr>\n",
       "    <tr>\n",
       "      <th>(500.0, 750.0]</th>\n",
       "      <td>2</td>\n",
       "      <td>7.3e+05</td>\n",
       "      <td>4.1e+05</td>\n",
       "    </tr>\n",
       "    <tr>\n",
       "      <th>(750.0, 1000.0]</th>\n",
       "      <td>3</td>\n",
       "      <td>1.6e+05</td>\n",
       "      <td>6.7e+04</td>\n",
       "    </tr>\n",
       "    <tr>\n",
       "      <th>(1000.0, 1250.0]</th>\n",
       "      <td>4</td>\n",
       "      <td>1.6e+05</td>\n",
       "      <td>1.2e+05</td>\n",
       "    </tr>\n",
       "    <tr>\n",
       "      <th>(1250.0, 1500.0]</th>\n",
       "      <td>5</td>\n",
       "      <td>1.4e+05</td>\n",
       "      <td>1.2e+04</td>\n",
       "    </tr>\n",
       "    <tr>\n",
       "      <th>(1500.0, 1750.0]</th>\n",
       "      <td>6</td>\n",
       "      <td>2.9e+04</td>\n",
       "      <td>3.4e+03</td>\n",
       "    </tr>\n",
       "    <tr>\n",
       "      <th>(1750.0, 2000.0]</th>\n",
       "      <td>7</td>\n",
       "      <td>2.1e+04</td>\n",
       "      <td>3.5e+03</td>\n",
       "    </tr>\n",
       "  </tbody>\n",
       "</table>\n",
       "</div>"
      ],
      "text/plain": [
       "                  index  Mean cell concentration [cells mL-1]  \\\n",
       "Depth bin [m]                                                   \n",
       "(0.0, 250.0]          0                               1.0e+06   \n",
       "(250.0, 500.0]        1                               6.4e+05   \n",
       "(500.0, 750.0]        2                               7.3e+05   \n",
       "(750.0, 1000.0]       3                               1.6e+05   \n",
       "(1000.0, 1250.0]      4                               1.6e+05   \n",
       "(1250.0, 1500.0]      5                               1.4e+05   \n",
       "(1500.0, 1750.0]      6                               2.9e+04   \n",
       "(1750.0, 2000.0]      7                               2.1e+04   \n",
       "\n",
       "                  Geometric mean cell concentration [cells mL-1]  \n",
       "Depth bin [m]                                                     \n",
       "(0.0, 250.0]                                             4.2e+05  \n",
       "(250.0, 500.0]                                           2.2e+05  \n",
       "(500.0, 750.0]                                           4.1e+05  \n",
       "(750.0, 1000.0]                                          6.7e+04  \n",
       "(1000.0, 1250.0]                                         1.2e+05  \n",
       "(1250.0, 1500.0]                                         1.2e+04  \n",
       "(1500.0, 1750.0]                                         3.4e+03  \n",
       "(1750.0, 2000.0]                                         3.5e+03  "
      ]
     },
     "execution_count": 6,
     "metadata": {},
     "output_type": "execute_result"
    }
   ],
   "source": [
    "# Load data on the concentrations of prokaryotes in each depth bin from our analysis of the biomass\n",
    "# of terrestrial deep subsurface prokaryotes\n",
    "prok_concentration = pd.read_excel('terrestrial_deep_subsurface_prok_num.xlsx','Cell concentration')\n",
    "prok_concentration = prok_concentration.reset_index().set_index('Depth bin [m]')\n",
    "prok_concentration"
   ]
  },
  {
   "cell_type": "markdown",
   "metadata": {},
   "source": [
    "We multiply the concentraion by data on the total volume of groundwater at each depth bin. The data on the total volume at each depth bin is generated in our analysis of the biomass of terrestrial deep subsurface prokaryotes. Here is a view of the water volume data:"
   ]
  },
  {
   "cell_type": "code",
   "execution_count": 7,
   "metadata": {},
   "outputs": [
    {
     "data": {
      "text/html": [
       "<div>\n",
       "<style scoped>\n",
       "    .dataframe tbody tr th:only-of-type {\n",
       "        vertical-align: middle;\n",
       "    }\n",
       "\n",
       "    .dataframe tbody tr th {\n",
       "        vertical-align: top;\n",
       "    }\n",
       "\n",
       "    .dataframe thead th {\n",
       "        text-align: right;\n",
       "    }\n",
       "</style>\n",
       "<table border=\"1\" class=\"dataframe\">\n",
       "  <thead>\n",
       "    <tr style=\"text-align: right;\">\n",
       "      <th></th>\n",
       "      <th>index</th>\n",
       "      <th>Water volume [mL]</th>\n",
       "    </tr>\n",
       "    <tr>\n",
       "      <th>Depth bin [m]</th>\n",
       "      <th></th>\n",
       "      <th></th>\n",
       "    </tr>\n",
       "  </thead>\n",
       "  <tbody>\n",
       "    <tr>\n",
       "      <th>(0.0, 250.0]</th>\n",
       "      <td>0</td>\n",
       "      <td>5.4e+21</td>\n",
       "    </tr>\n",
       "    <tr>\n",
       "      <th>(250.0, 500.0]</th>\n",
       "      <td>1</td>\n",
       "      <td>4.1e+21</td>\n",
       "    </tr>\n",
       "    <tr>\n",
       "      <th>(500.0, 750.0]</th>\n",
       "      <td>2</td>\n",
       "      <td>3.2e+21</td>\n",
       "    </tr>\n",
       "    <tr>\n",
       "      <th>(750.0, 1000.0]</th>\n",
       "      <td>3</td>\n",
       "      <td>2.6e+21</td>\n",
       "    </tr>\n",
       "    <tr>\n",
       "      <th>(1000.0, 1250.0]</th>\n",
       "      <td>4</td>\n",
       "      <td>2.2e+21</td>\n",
       "    </tr>\n",
       "    <tr>\n",
       "      <th>(1250.0, 1500.0]</th>\n",
       "      <td>5</td>\n",
       "      <td>1.9e+21</td>\n",
       "    </tr>\n",
       "    <tr>\n",
       "      <th>(1500.0, 1750.0]</th>\n",
       "      <td>6</td>\n",
       "      <td>1.7e+21</td>\n",
       "    </tr>\n",
       "    <tr>\n",
       "      <th>(1750.0, 2000.0]</th>\n",
       "      <td>7</td>\n",
       "      <td>1.6e+21</td>\n",
       "    </tr>\n",
       "  </tbody>\n",
       "</table>\n",
       "</div>"
      ],
      "text/plain": [
       "                  index  Water volume [mL]\n",
       "Depth bin [m]                             \n",
       "(0.0, 250.0]          0            5.4e+21\n",
       "(250.0, 500.0]        1            4.1e+21\n",
       "(500.0, 750.0]        2            3.2e+21\n",
       "(750.0, 1000.0]       3            2.6e+21\n",
       "(1000.0, 1250.0]      4            2.2e+21\n",
       "(1250.0, 1500.0]      5            1.9e+21\n",
       "(1500.0, 1750.0]      6            1.7e+21\n",
       "(1750.0, 2000.0]      7            1.6e+21"
      ]
     },
     "execution_count": 7,
     "metadata": {},
     "output_type": "execute_result"
    }
   ],
   "source": [
    "# Load data on the total volume of groundwater in each depth bin from our analysis of the biomass\n",
    "# of terrestrial deep subsurface prokaryotes\n",
    "water_vol = pd.read_excel('terrestrial_deep_subsurface_prok_num.xlsx','Water volume')\n",
    "water_vol = water_vol.reset_index().set_index('Depth bin [m]')\n",
    "water_vol"
   ]
  },
  {
   "cell_type": "markdown",
   "metadata": {},
   "source": [
    "To calculate the total number of phages based on the naive method and based on the data in Pan et al. and Roundnew et al., we calculate the total number of prokaryotes by multiplying the cell concentration at each depth bin by the total volume of water at that depth bin, and sum over depth bins:"
   ]
  },
  {
   "cell_type": "code",
   "execution_count": 8,
   "metadata": {},
   "outputs": [
    {
     "data": {
      "text/plain": [
       "Geometric mean estimate    4.9e+27\n",
       "Arithmetic mean estimate   1.2e+28\n",
       "dtype: float64"
      ]
     },
     "execution_count": 8,
     "metadata": {},
     "output_type": "execute_result"
    }
   ],
   "source": [
    "tot_prok = pd.DataFrame()\n",
    "\n",
    "# Multiply the arithmetic of geometric mean concentrations of prokaryotes at each depth bin \n",
    "# by the total volume of groundwater at each depth bin\n",
    "tot_prok['Geometric mean estimate'] = prok_concentration['Geometric mean cell concentration [cells mL-1]'] * water_vol['Water volume [mL]']\n",
    "tot_prok['Arithmetic mean estimate'] = prok_concentration['Mean cell concentration [cells mL-1]'] * water_vol['Water volume [mL]']\n",
    "tot_prok.sum()"
   ]
  },
  {
   "cell_type": "markdown",
   "metadata": {},
   "source": [
    "Our best estimate for the total number of prokaryotes in groundwater is the geometric mean of the total number of prokaryotes based on geometric and arithmetic mean concentrations (see the biomass of terrestrial deep subsurface prokaryotes section for details). "
   ]
  },
  {
   "cell_type": "code",
   "execution_count": 9,
   "metadata": {},
   "outputs": [
    {
     "name": "stdout",
     "output_type": "stream",
     "text": [
      "Our best estimate for the total number of prokaryotes in groundwater for the calculation of the total number of phages in the terrestrial deep subsurface is 8e+27.\n"
     ]
    }
   ],
   "source": [
    "# Estimate the total number of prokaryotes in groundwater as the geometric mean of the estimates based on \n",
    "# arithmetic and geometric mean cell concentrations\n",
    "tot_prok_num_gw = gmean(tot_prok.sum())\n",
    "\n",
    "print('Our best estimate for the total number of prokaryotes in groundwater for the calculation of the total number of phages in the terrestrial deep subsurface is %.0e.' %tot_prok_num_gw)\n"
   ]
  },
  {
   "cell_type": "markdown",
   "metadata": {},
   "source": [
    "Now that we have an estimate for the total number of prokaryotes, we can plug them into the ratios estimated based on the data in Pan et. al, Roundnew et al., or to use our naive estimate of ten times more phages than prokaryotes.\n",
    "\n",
    "As stated above, to go from the total number of phages in groundwater to our estimate for the total number of phages in the terrestrial deep subsurface, we multiply our estimate of the total number of phages by a scaling factor. As our best estimate for this scaling factor we use geometric mean of three estimates. The first takes into account only groundwater (and thus the scaling factor is 1), and the other two assume an attached to unattached ratios of $10^2-10^3$ as in [McMahon & Parnell](http://dx.doi.org/10.1111/1574-6941.12196)."
   ]
  },
  {
   "cell_type": "code",
   "execution_count": 10,
   "metadata": {},
   "outputs": [
    {
     "name": "stdout",
     "output_type": "stream",
     "text": [
      "Our estimate for the total number of phages in the terrestrial deep subsurface based on the naive ratio of 10:1 is 3e+30\n",
      "Our estimate for the total number of phages in the terrestrial deep subsurface based on Pan et al. is 9e+29\n",
      "Our estimate for the total number of phages in the terrestrial deep subsurface based on Pan et al. is 6e+29\n"
     ]
    }
   ],
   "source": [
    "# Define the scaling factor from number of cells in groundwater to cells relevant for calculating the total\n",
    "# Number of phages\n",
    "scaling_factor = gmean([1,100,1000])\n",
    "\n",
    "\n",
    "# Estimate the total number of phages based on the naive ratio of 10:1\n",
    "tot_phage_naive = tot_prok_num_gw*naive_ratio*scaling_factor\n",
    "print('Our estimate for the total number of phages in the terrestrial deep subsurface based on the naive ratio of 10:1 is %.0e' %tot_phage_naive)\n",
    "\n",
    "# Estimate the total number of phages based on Pan et al.\n",
    "tot_phage_pan = tot_prok_num_gw*pan_ratio*scaling_factor\n",
    "print('Our estimate for the total number of phages in the terrestrial deep subsurface based on Pan et al. is %.0e' %tot_phage_pan)\n",
    "\n",
    "# Estimate the total number of phages based on Roundnew et al.\n",
    "tot_phage_roundnew = tot_prok_num_gw*roundnew_ratio*scaling_factor\n",
    "print('Our estimate for the total number of phages in the terrestrial deep subsurface based on Pan et al. is %.0e' %tot_phage_roundnew)\n"
   ]
  },
  {
   "cell_type": "markdown",
   "metadata": {},
   "source": [
    "For the two estimates of the ratio between the concentration of phage-like particles and prokaryotes which are dependent on the local concentraions of prokaryotes, we the data on the arithmetic and geometric mean cell concentrations at each depth bin total number of cells at each depth bin, and plug it into the relations described by either Engelhardt et al. or Kyle et al.:"
   ]
  },
  {
   "cell_type": "code",
   "execution_count": 11,
   "metadata": {
    "collapsed": true
   },
   "outputs": [],
   "source": [
    "engelhardt_phage_conc_geo_mean = engelhardt_ratio(prok_concentration['Geometric mean cell concentration [cells mL-1]'])\n",
    "engelhardt_phage_conc_mean = engelhardt_ratio(prok_concentration['Mean cell concentration [cells mL-1]'])\n",
    "\n",
    "kyle_phage_conc_mean = kyle_ratio(prok_concentration['Mean cell concentration [cells mL-1]'])\n",
    "kyle_phage_conc_geo_mean = kyle_ratio(prok_concentration['Geometric mean cell concentration [cells mL-1]'])"
   ]
  },
  {
   "cell_type": "markdown",
   "metadata": {},
   "source": [
    "We calculate the total number of phages based on the arithmetic and geometric mean concentration in each depth bin by multiplying by the total volume of groundwater at each depth bin and by the scaling factor we used for the previous method to convert from number of phages in groundwater to total number of phages in the terrestrial deep subsurface."
   ]
  },
  {
   "cell_type": "code",
   "execution_count": 12,
   "metadata": {
    "collapsed": true
   },
   "outputs": [],
   "source": [
    "engelhardt_tot_phage_mean = (engelhardt_phage_conc_mean*water_vol['Water volume [mL]']).sum()*scaling_factor\n",
    "engelhardt_tot_phage_geo_mean = (engelhardt_phage_conc_geo_mean*water_vol['Water volume [mL]']).sum()*scaling_factor\n",
    "\n",
    "kyle_tot_phage_mean = (kyle_phage_conc_mean*water_vol['Water volume [mL]']).sum()*scaling_factor\n",
    "kyle_tot_phage_geo_mean = (kyle_phage_conc_geo_mean*water_vol['Water volume [mL]']).sum()*scaling_factor"
   ]
  },
  {
   "cell_type": "markdown",
   "metadata": {},
   "source": [
    "Our best estimate for the total number of phages is the geometric mean of the estimates based on the arithmetic and geometric means."
   ]
  },
  {
   "cell_type": "code",
   "execution_count": 13,
   "metadata": {},
   "outputs": [
    {
     "name": "stdout",
     "output_type": "stream",
     "text": [
      "Our best estimate for the total number of phages in the terrestrial deep subsurface based on the data from Engelhardt et al. on the relation between the number of phage-like particles and prokaryotes is 5e+30\n",
      "Our best estimate for the total number of phages in the terrestrial deep subsurface based on the data from Kyle et al. on the relation between the number of phage-like particles and prokaryotes is 4e+30\n"
     ]
    }
   ],
   "source": [
    "engelhardt_tot_phage = gmean([engelhardt_tot_phage_geo_mean,engelhardt_tot_phage_mean])\n",
    "kyle_tot_phage = gmean([kyle_tot_phage_geo_mean,kyle_tot_phage_mean])\n",
    "\n",
    "print('Our best estimate for the total number of phages in the terrestrial deep subsurface based on the data from Engelhardt et al. on the relation between the number of phage-like particles and prokaryotes is %.0e' %engelhardt_tot_phage)\n",
    "print('Our best estimate for the total number of phages in the terrestrial deep subsurface based on the data from Kyle et al. on the relation between the number of phage-like particles and prokaryotes is %.0e' %kyle_tot_phage)"
   ]
  },
  {
   "cell_type": "markdown",
   "metadata": {},
   "source": [
    "In summary, the results from our five different approaches are:"
   ]
  },
  {
   "cell_type": "code",
   "execution_count": 14,
   "metadata": {},
   "outputs": [
    {
     "data": {
      "text/plain": [
       "Naive estimate      3.5e+30\n",
       "Pan et al.          9.3e+29\n",
       "Roundnew et al.     5.8e+29\n",
       "Engelhardt et al.   4.6e+30\n",
       "Kyle et al.         4.3e+30\n",
       "dtype: float64"
      ]
     },
     "execution_count": 14,
     "metadata": {},
     "output_type": "execute_result"
    }
   ],
   "source": [
    "estimates = pd.Series([tot_phage_naive,tot_phage_pan,tot_phage_roundnew,engelhardt_tot_phage,kyle_tot_phage],\n",
    "                     index = ['Naive estimate','Pan et al.','Roundnew et al.','Engelhardt et al.','Kyle et al.'])\n",
    "estimates"
   ]
  },
  {
   "cell_type": "markdown",
   "metadata": {},
   "source": [
    "To generate our best estimate for the total number of phages in the terrestrial deep subsurface, we calculate the geometric mean of the estimates from our five different methods:"
   ]
  },
  {
   "cell_type": "code",
   "execution_count": 15,
   "metadata": {},
   "outputs": [
    {
     "name": "stdout",
     "output_type": "stream",
     "text": [
      "Our best estimate for the total number of phages in the the terrestrial deep subsurface is 2e+30\n"
     ]
    }
   ],
   "source": [
    "best_estimate = gmean(estimates)\n",
    "print('Our best estimate for the total number of phages in the the terrestrial deep subsurface is %.0e' % best_estimate)"
   ]
  },
  {
   "cell_type": "markdown",
   "metadata": {},
   "source": [
    "# Uncertainty estimate\n",
    "To assess the uncertainty of our estimate of the total number of phages in the terrestrial deep subsurface, we calculate the uncertainty associated with each of the components of the estimate: The ratios between the concentration of phage-like particles and prokaryotes, the number of prokaryotes we use to derive the number phages and the scaling factor between the number of prokaryotes in groundwater and the total number of prokaryotes.\n",
    "\n",
    "## Uncertainty of the ratio between the number of phage-like particles and prokaryotes\n",
    "As a measure of the uncertainty associated with our estimate of the ratio between the concentration of phage-like particles and prokaryotes, we calculate both the intra-study uncertainty of this ratio and the interstudy uncertainty.\n",
    "\n",
    "### Intra-study uncertainty\n",
    "The only cases in which we could calculate the intra-study uncertainty of the ratio between the concentration of phage-like particles and prokaryotes are in Pan et al. and Roundnew et al. We calculate the 95% confidence interval of the geometric mean of the measurements in each of the studies as a measure of the intra-study uncertainty:"
   ]
  },
  {
   "cell_type": "code",
   "execution_count": 16,
   "metadata": {},
   "outputs": [
    {
     "name": "stdout",
     "output_type": "stream",
     "text": [
      "The 95 percent confidence interval of the geometric mean of the values in Pan et al. is ≈1.5-fold\n",
      "The 95 percent confidence interval of the geometric mean of the values in Roundnew et al. is ≈1.7-fold\n"
     ]
    }
   ],
   "source": [
    "pan_CI = geo_CI_calc(pan_data['Virus-to-cell ratio (VCR)'])\n",
    "roundnew_CI = geo_CI_calc(roundnew_data['Virus:Bacteria ratio'])\n",
    "print('The 95 percent confidence interval of the geometric mean of the values in Pan et al. is ≈%.1f-fold' % pan_CI)\n",
    "print('The 95 percent confidence interval of the geometric mean of the values in Roundnew et al. is ≈%.1f-fold' % roundnew_CI)"
   ]
  },
  {
   "cell_type": "markdown",
   "metadata": {},
   "source": [
    "### Interstudy uncertainty\n",
    "We calculate the 95% confidence interval of the geometric mean of the estimates from our five different methodologies for measuring the ratio between the concentration of phage-like particles and prokaryotes. We use this range as a measure of the interstudy uncertainty associated with the estimate of the ratio:"
   ]
  },
  {
   "cell_type": "code",
   "execution_count": 17,
   "metadata": {},
   "outputs": [
    {
     "name": "stdout",
     "output_type": "stream",
     "text": [
      "The interstudy uncertainty associated with our estimate of the ratio between the concentration of phage-like particles and prokaryotes is ≈2.3-fold\n"
     ]
    }
   ],
   "source": [
    "ratio_inter_CI = geo_CI_calc(estimates)\n",
    "print('The interstudy uncertainty associated with our estimate of the ratio between the concentration of phage-like particles and prokaryotes is ≈%.1f-fold' % ratio_inter_CI)\n",
    "\n",
    "ratio_CI = np.max([ratio_inter_CI,pan_CI,roundnew_CI])"
   ]
  },
  {
   "cell_type": "markdown",
   "metadata": {},
   "source": [
    "As our best projection for the uncertainty associated with the ratio between the concentration of phage-like particles and prokaryotes, we use the highest uncertainty of the intra-study and interstudy uncetainties. Thus, we project an uncertainty of ≈2.3-fold.\n",
    "\n",
    "## Uncertainty of the number of prokaryotes we use to derive the total number of phages\n",
    "In order to use the ratios between the concentration of phage-like particles and prokaryotes to estimate the total number of phages, we need to use estimates for the total number of prokaryotes in groundwater. We use two different types of estimates - one based on the arithmetic mean cell concentration at each depth bin and one based on the geometric mean cell concentration at each depth bin. We plug either estimate into the five different ratios between the concentration of phages and prokaryotes and produce an estimate for the total number of phages in groundwater. As we have five estiamtes for the ratios, and two estimates for the number of prokaryotes, we generate ten different estimates for the total number of phages in groundwater. We then use the geometric mean of the two estimates for each ratio as our best estimate for that ratio. We now assess the uncertainty of the total number of phages associated with the uncertaitny of the number of prokaryotes we use.\n",
    "\n",
    "We calculate the 95% confidence interval of the geometric mean of the estimates of the total number of phages using arithmetic and geometric mean concentrations of prokaryotes. This yields an uncertainty for each one of the five methods to estimate the ratio between the concentration of phage-like particles and prokaryotes. We use the maximal uncertainty of those five uncertainties as our best projection for the uncertainty associated with the total number of prokaryotes."
   ]
  },
  {
   "cell_type": "code",
   "execution_count": 18,
   "metadata": {},
   "outputs": [
    {
     "name": "stdout",
     "output_type": "stream",
     "text": [
      "Our best projection for uncertainty in the total number of phages in the terrestrial deep subsurface associated with the estimate of the total number of prokaryotes in the terrestrial deep subsurface is ≈2.3-fold\n"
     ]
    }
   ],
   "source": [
    "# For the naive estimate, the Pan et al. based ratio and the Roundnew et al. based ratio\n",
    "# The uncertainty is the 95% confidence interval of the total number of prokaryotes in\n",
    "# groundwater\n",
    "tot_prok_CI = geo_CI_calc(tot_prok.sum())\n",
    "\n",
    "# For the estimates based on the relation in Engelhardt et al. and Kyle et al., we use \n",
    "# calculate the 95% confidence interval betwee the estimates based on arithmetic and \n",
    "# geometric mean concentrations of prokaryotes\n",
    "engelhardt_CI = geo_CI_calc(np.array([engelhardt_tot_phage_mean,engelhardt_tot_phage_geo_mean]))\n",
    "kyle_CI = geo_CI_calc(np.array([kyle_tot_phage_mean,kyle_tot_phage_geo_mean]))\n",
    "\n",
    "#\n",
    "prok_num_CI = np.max([tot_prok_CI,engelhardt_CI,kyle_CI])\n",
    "print('Our best projection for uncertainty in the total number of phages in the terrestrial deep subsurface associated with the estimate of the total number of prokaryotes in the terrestrial deep subsurface is ≈%.1f-fold' %tot_prok_CI)"
   ]
  },
  {
   "cell_type": "markdown",
   "metadata": {},
   "source": [
    "## Uncertainty of the total number of prokaryotes\n",
    "As we discussed above, it is not clear whether the measured ratios between the concentrations of phage-like particles and prokaryotes refer to attached or unattached cells. We take this factor into consideration in our estimate as a scaling factor that converts the measured number of phages in groundwater to an estimate for the total number of phages. Our best estimate for this factor is a geometric mean of three estimate - one which includes only phages in groundwater (and thus a scaling factor of 1), and the other two assume an attached to unattached ratios of $10^2-10^3$ as in [McMahon & Parnell](http://dx.doi.org/10.1111/1574-6941.12196). To assess the uncertainty associated with this scaling factor, we calculate the 95% confidence interval of the geometric mean of the three estimates:"
   ]
  },
  {
   "cell_type": "code",
   "execution_count": 19,
   "metadata": {},
   "outputs": [
    {
     "name": "stdout",
     "output_type": "stream",
     "text": [
      "The uncertainty associated with the scaling factor from number of phages in groundwater to the total number of phages is ≈53.5-fold\n"
     ]
    }
   ],
   "source": [
    "scaling_factor_CI = geo_CI_calc(np.array([1,100,1000]))\n",
    "print('The uncertainty associated with the scaling factor from number of phages in groundwater to the total number of phages is ≈%.1f-fold' %scaling_factor_CI)"
   ]
  },
  {
   "cell_type": "markdown",
   "metadata": {},
   "source": [
    "As our best projection of the uncertainty associated with our estimate of the total number of phages in the terrestrial deep subsurface, we combine the uncertainty projections for the three factors discussed above: the ratio between the concentration of phage-like particles and prokaryotes; the total number of prokaryotes we plug into the ratio between phages and prokaryotes; and the scaling factor between the number of phages in groundwater and the total number of phages:"
   ]
  },
  {
   "cell_type": "code",
   "execution_count": 20,
   "metadata": {},
   "outputs": [
    {
     "name": "stdout",
     "output_type": "stream",
     "text": [
      "Our best projection for the uncertainty associated with the total number of phages in the terrestrial deep subsurface is ≈64-fold\n"
     ]
    }
   ],
   "source": [
    "mul_CI = CI_prod_prop(np.array([ratio_CI,tot_prok_CI,scaling_factor_CI]))\n",
    "print('Our best projection for the uncertainty associated with the total number of phages in the terrestrial deep subsurface is ≈%.0f-fold' %mul_CI)"
   ]
  },
  {
   "cell_type": "markdown",
   "metadata": {},
   "source": [
    "Our final parameters are:"
   ]
  },
  {
   "cell_type": "code",
   "execution_count": 21,
   "metadata": {},
   "outputs": [
    {
     "name": "stdout",
     "output_type": "stream",
     "text": [
      "Our best estimate for the total number of phages in the terrestrial deep subsurface: 2e+30\n",
      "Uncertainty associated with the estiamte of the total number of phages in the terrestrial deep subsurface: 64-fold\n"
     ]
    }
   ],
   "source": [
    "\n",
    "print('Our best estimate for the total number of phages in the terrestrial deep subsurface: %.0e' % best_estimate)\n",
    "print('Uncertainty associated with the estiamte of the total number of phages in the terrestrial deep subsurface: %.0f-fold' % mul_CI)\n",
    "\n",
    "old_results = pd.read_excel('../phage_num_estimate.xlsx')\n",
    "result = old_results.copy()\n",
    "result.loc[2] = pd.Series({\n",
    "                'Parameter': 'Total number of phages in the terrestrial deep subsurface',\n",
    "                'Value': best_estimate,\n",
    "                'Units': 'Number of individuals',\n",
    "                'Uncertainty': mul_CI\n",
    "                })\n",
    "\n",
    "result.to_excel('../phage_num_estimate.xlsx',index=False)\n"
   ]
  }
 ],
 "metadata": {
  "kernelspec": {
   "display_name": "Python 3",
   "language": "python",
   "name": "python3"
  },
  "language_info": {
   "codemirror_mode": {
    "name": "ipython",
    "version": 3
   },
   "file_extension": ".py",
   "mimetype": "text/x-python",
   "name": "python",
   "nbconvert_exporter": "python",
   "pygments_lexer": "ipython3",
   "version": "3.5.2"
  }
 },
 "nbformat": 4,
 "nbformat_minor": 2
}
