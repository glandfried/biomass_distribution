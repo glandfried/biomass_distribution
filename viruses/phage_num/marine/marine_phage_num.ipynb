{
 "cells": [
  {
   "cell_type": "markdown",
   "metadata": {},
   "source": [
    "# Estimating the total number of marine phages\n",
    "To estimate the total number of phages, we rely on a recent study which characterized the abundance of marine phages and prokaryotes globally [Wigington et al.](http://dx.doi.org/10.1038/nmicrobiol.2015.24). Here is a sample of the data:"
   ]
  },
  {
   "cell_type": "code",
   "execution_count": 1,
   "metadata": {},
   "outputs": [
    {
     "data": {
      "text/html": [
       "<div>\n",
       "<style scoped>\n",
       "    .dataframe tbody tr th:only-of-type {\n",
       "        vertical-align: middle;\n",
       "    }\n",
       "\n",
       "    .dataframe tbody tr th {\n",
       "        vertical-align: top;\n",
       "    }\n",
       "\n",
       "    .dataframe thead th {\n",
       "        text-align: right;\n",
       "    }\n",
       "</style>\n",
       "<table border=\"1\" class=\"dataframe\">\n",
       "  <thead>\n",
       "    <tr style=\"text-align: right;\">\n",
       "      <th></th>\n",
       "      <th>OBS</th>\n",
       "      <th>DATE</th>\n",
       "      <th>Study</th>\n",
       "      <th>long</th>\n",
       "      <th>lat</th>\n",
       "      <th>DEPTH</th>\n",
       "      <th>BACTERIA</th>\n",
       "      <th>VIRUS</th>\n",
       "    </tr>\n",
       "  </thead>\n",
       "  <tbody>\n",
       "    <tr>\n",
       "      <th>0</th>\n",
       "      <td>1</td>\n",
       "      <td>8/28/2000</td>\n",
       "      <td>ARCTICSBI</td>\n",
       "      <td>-1.0e+02</td>\n",
       "      <td>6.8e+01</td>\n",
       "      <td>1.0e+00</td>\n",
       "      <td>1.2e+05</td>\n",
       "      <td>2.4e+07</td>\n",
       "    </tr>\n",
       "    <tr>\n",
       "      <th>1</th>\n",
       "      <td>2</td>\n",
       "      <td>8/28/2000</td>\n",
       "      <td>ARCTICSBI</td>\n",
       "      <td>-1.0e+02</td>\n",
       "      <td>6.8e+01</td>\n",
       "      <td>1.0e+00</td>\n",
       "      <td>1.7e+05</td>\n",
       "      <td>2.4e+07</td>\n",
       "    </tr>\n",
       "    <tr>\n",
       "      <th>2</th>\n",
       "      <td>3</td>\n",
       "      <td>8/28/2000</td>\n",
       "      <td>ARCTICSBI</td>\n",
       "      <td>-1.0e+02</td>\n",
       "      <td>6.8e+01</td>\n",
       "      <td>1.0e+00</td>\n",
       "      <td>1.6e+05</td>\n",
       "      <td>1.5e+07</td>\n",
       "    </tr>\n",
       "    <tr>\n",
       "      <th>3</th>\n",
       "      <td>4</td>\n",
       "      <td>8/28/2000</td>\n",
       "      <td>ARCTICSBI</td>\n",
       "      <td>-1.0e+02</td>\n",
       "      <td>6.8e+01</td>\n",
       "      <td>1.0e+00</td>\n",
       "      <td>1.2e+05</td>\n",
       "      <td>1.6e+07</td>\n",
       "    </tr>\n",
       "    <tr>\n",
       "      <th>4</th>\n",
       "      <td>5</td>\n",
       "      <td>8/30/2000</td>\n",
       "      <td>ARCTICSBI</td>\n",
       "      <td>-1.0e+02</td>\n",
       "      <td>7.0e+01</td>\n",
       "      <td>1.0e+00</td>\n",
       "      <td>1.2e+05</td>\n",
       "      <td>1.3e+07</td>\n",
       "    </tr>\n",
       "  </tbody>\n",
       "</table>\n",
       "</div>"
      ],
      "text/plain": [
       "   OBS       DATE      Study     long     lat   DEPTH  BACTERIA   VIRUS\n",
       "0    1  8/28/2000  ARCTICSBI -1.0e+02 6.8e+01 1.0e+00   1.2e+05 2.4e+07\n",
       "1    2  8/28/2000  ARCTICSBI -1.0e+02 6.8e+01 1.0e+00   1.7e+05 2.4e+07\n",
       "2    3  8/28/2000  ARCTICSBI -1.0e+02 6.8e+01 1.0e+00   1.6e+05 1.5e+07\n",
       "3    4  8/28/2000  ARCTICSBI -1.0e+02 6.8e+01 1.0e+00   1.2e+05 1.6e+07\n",
       "4    5  8/30/2000  ARCTICSBI -1.0e+02 7.0e+01 1.0e+00   1.2e+05 1.3e+07"
      ]
     },
     "execution_count": 1,
     "metadata": {},
     "output_type": "execute_result"
    }
   ],
   "source": [
    "import pandas as pd\n",
    "import numpy as np\n",
    "import matplotlib.pyplot as plt\n",
    "%matplotlib inline  \n",
    "from scipy.stats import  gmean\n",
    "from scipy.optimize import curve_fit\n",
    "pd.options.display.float_format = '{:,.1e}'.format\n",
    "data = pd.read_excel('marine_phage_data.xls')\n",
    "data.head()"
   ]
  },
  {
   "cell_type": "markdown",
   "metadata": {},
   "source": [
    "We bin the data based to ten depth bins so that each bin contains the same amount of data. The abundance of virions seems to follow an exponential deacy with depth:"
   ]
  },
  {
   "cell_type": "code",
   "execution_count": 2,
   "metadata": {},
   "outputs": [
    {
     "name": "stdout",
     "output_type": "stream",
     "text": [
      "[ -0.4940688   17.61664779]\n"
     ]
    },
    {
     "data": {
      "text/plain": [
       "<matplotlib.legend.Legend at 0x7f21e8a94dd8>"
      ]
     },
     "execution_count": 2,
     "metadata": {},
     "output_type": "execute_result"
    },
    {
     "data": {
      "image/png": "[encoded data removed]",
      "text/plain": [
       "<matplotlib.figure.Figure at 0x7f22284a7470>"
      ]
     },
     "metadata": {},
     "output_type": "display_data"
    }
   ],
   "source": [
    "# Bin data to 10 depth bins with equal data\n",
    "data['Depth_bin_equal'], bins = pd.qcut(data['DEPTH'], 10, retbins=True)\n",
    "\n",
    "# Group data by depth bins\n",
    "binned_data = data.groupby('Depth_bin_equal')\n",
    "\n",
    "# Calculate arithmetic and geometric means for each depth bin\n",
    "depth_bins_mean = binned_data['VIRUS'].aggregate(np.mean)\n",
    "\n",
    "def func(x,a,b):\n",
    "    return a*x+b\n",
    "\n",
    "popt, pcov = curve_fit(func, np.log(bins[1:]), np.log(depth_bins_mean))\n",
    "print(popt)\n",
    "# Plot mean virion concentrations \n",
    "plt.loglog(depth_bins_mean,bins[1:],'.',label='Data')\n",
    "plt.loglog(np.exp(func(np.log(bins[1:]),*popt)),bins[1:],label='Exponential fit')\n",
    "plt.gca().invert_yaxis()\n",
    "plt.xlabel(r'Phage concentation [virions mL$^{-1}$]')\n",
    "plt.ylabel(r'Depth [m]')\n",
    "plt.legend()"
   ]
  },
  {
   "cell_type": "markdown",
   "metadata": {},
   "source": [
    "We calculate the total number of virions by multiplying the average concentration of virions in each depth bin by the total volume of each depth bin:"
   ]
  },
  {
   "cell_type": "code",
   "execution_count": 3,
   "metadata": {},
   "outputs": [
    {
     "name": "stdout",
     "output_type": "stream",
     "text": [
      "Our best estimate for the total number of marine phages is 2e+30\n"
     ]
    }
   ],
   "source": [
    "# Ocean surface area in m^2\n",
    "ocean_surface_area = 3.6e14\n",
    "\n",
    "# m^3 in mL\n",
    "ml_m3_conv = 1e6\n",
    "\n",
    "# Multiply mean concentrations by the total volume at each depth bin and sum over all bins\n",
    "total_phage_mean = (depth_bins_mean*np.diff(bins)*ml_m3_conv*ocean_surface_area).sum()\n",
    "\n",
    "print('Our best estimate for the total number of marine phages is %.0e' %total_phage_mean)\n",
    "\n",
    "old_results = pd.read_excel('../phage_num_estimate.xlsx')\n",
    "result = old_results.copy()\n",
    "result.loc[0] = pd.Series({\n",
    "                'Parameter': 'Total number of marine phages',\n",
    "                'Value': total_phage_mean,\n",
    "                'Units': 'Number of individuals',\n",
    "                'Uncertainty': np.nan\n",
    "                })\n",
    "\n",
    "result.to_excel('../phage_num_estimate.xlsx',index=False)\n"
   ]
  }
 ],
 "metadata": {
  "kernelspec": {
   "display_name": "Python 3",
   "language": "python",
   "name": "python3"
  },
  "language_info": {
   "codemirror_mode": {
    "name": "ipython",
    "version": 3
   },
   "file_extension": ".py",
   "mimetype": "text/x-python",
   "name": "python",
   "nbconvert_exporter": "python",
   "pygments_lexer": "ipython3",
   "version": "3.5.2"
  }
 },
 "nbformat": 4,
 "nbformat_minor": 2
}
