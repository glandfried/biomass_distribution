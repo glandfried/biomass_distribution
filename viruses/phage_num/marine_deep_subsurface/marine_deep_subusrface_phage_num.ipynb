{
 "cells": [
  {
   "cell_type": "markdown",
   "metadata": {},
   "source": [
    "# Estimating the number of phages in subseafloor sediments\n",
    "To estimate the total number of phages in subseafloor sediments, we rely on two recent papers which measured the ratio between the number of prokaryotes in subseafloor sediments and the number of phage like particles ([Engelhardt et al.](http://dx.doi.org/10.1038/ismej.2013.245) and [Middelboe et al.](https://doi.org/10.3354/ame01485). We extracted the data from figure 3 of Engelhardt et al. and from figure 2 of Middelboe et al.:"
   ]
  },
  {
   "cell_type": "code",
   "execution_count": 1,
   "metadata": {},
   "outputs": [
    {
     "data": {
      "text/plain": [
       "<matplotlib.legend.Legend at 0x7f0880ce02b0>"
      ]
     },
     "execution_count": 1,
     "metadata": {},
     "output_type": "execute_result"
    },
    {
     "data": {
      "image/png": "[encoded data removed]",
      "text/plain": [
       "<matplotlib.figure.Figure at 0x7f0880d7b4a8>"
      ]
     },
     "metadata": {},
     "output_type": "display_data"
    }
   ],
   "source": [
    "import pandas as pd\n",
    "import numpy as np\n",
    "from scipy.stats import gmean\n",
    "import matplotlib.pyplot as plt\n",
    "%matplotlib inline\n",
    "import sys\n",
    "sys.path.insert(0, '../../../statistics_helper')\n",
    "from CI_helper import *\n",
    "\n",
    "# Load data extracted from Engelhardt et al.\n",
    "data = pd.read_excel('marine_deep_subsurface_phage_data.xlsx',skiprows=1)\n",
    "\n",
    "# Load data extracted from Middelboe et al.\n",
    "middelboe = pd.read_excel('marine_deep_subsurface_phage_data.xlsx','Middelboe',skiprows=1,index_col=0)\n",
    "\n",
    "# Plot the data\n",
    "plt.loglog(data['Cells concentration [cells cm^-3]'],data['Phage concentration [virions cm^-3]'],'.',label='Engelhardt data')\n",
    "plt.loglog(middelboe['Prokaryote abundance [cm^-3]'],middelboe['Viral abundance [cm^-3]'],'.',label='Middelboe data')\n",
    "\n",
    "# Plot the fit Engelhardt et al. used for the data\n",
    "fit_xdata = 10**np.linspace(np.log10(data['Cells concentration [cells cm^-3]'].min()),np.log10(data['Cells concentration [cells cm^-3]'].max()),100)\n",
    "plt.loglog(fit_xdata,271.8*fit_xdata**0.768,label='Engelhardt et al. fit')\n",
    "plt.xlabel(r'Cell concentration [cells cm$^{-3}$]')\n",
    "plt.ylabel(r'Phage-like particle concentration [particles cm$^{-3}$]')\n",
    "plt.legend()"
   ]
  },
  {
   "cell_type": "markdown",
   "metadata": {},
   "source": [
    "As the data from the two studies seem to correspond well to the same fit used in Engelhardt et al., we combined the data from the two studies and calculate the geometic mean of the ratios between phage-like particles and prokaryotes across measurements in Engelhardt et al.:"
   ]
  },
  {
   "cell_type": "code",
   "execution_count": 2,
   "metadata": {},
   "outputs": [
    {
     "name": "stdout",
     "output_type": "stream",
     "text": [
      "Our best estimate for the ratio between the concentration of phage-like particles and cells in subseafloor sediments is ≈12.\n"
     ]
    }
   ],
   "source": [
    "# Merge data from Engelhardt et al. and Middelboe et al.\n",
    "merged_data = pd.concat([(data['Phage concentration [virions cm^-3]']/data['Cells concentration [cells cm^-3]']),(middelboe['Viral abundance [cm^-3]']/middelboe['Prokaryote abundance [cm^-3]'])])\n",
    "geo_mean_ratio = gmean(merged_data)\n",
    "print('Our best estimate for the ratio between the concentration of phage-like particles and cells in subseafloor sediments is ≈%.0f.' %geo_mean_ratio)"
   ]
  },
  {
   "cell_type": "markdown",
   "metadata": {},
   "source": [
    "To calculate the total number of phages in subseafloor sediments, we multiply the ratio of phage-like particles to prokaryotes by our estimate for the total number of prokaryotes in subseafloor sediments."
   ]
  },
  {
   "cell_type": "code",
   "execution_count": 3,
   "metadata": {},
   "outputs": [
    {
     "name": "stdout",
     "output_type": "stream",
     "text": [
      "Our best estimate for the total number of phages in subseafloor sediments is ≈5e+30\n"
     ]
    }
   ],
   "source": [
    "prokaryote_estimate = pd.read_excel('../../../bacteria_archaea/marine_deep_subsurface/marine_deep_subsurface_prok_biomass_estimate.xlsx')\n",
    "best_estimate = prokaryote_estimate.loc[0]['Value']*geo_mean_ratio\n",
    "print('Our best estimate for the total number of phages in subseafloor sediments is ≈%.0e' %best_estimate)\n",
    "\n",
    "old_results = pd.read_excel('../phage_num_estimate.xlsx')\n",
    "result = old_results.copy()\n",
    "result.loc[1] = pd.Series({\n",
    "                'Parameter': 'Total number of phages in the marine deep subsurface',\n",
    "                'Value': best_estimate,\n",
    "                'Units': 'Number of individuals',\n",
    "                'Uncertainty': np.nan\n",
    "                })\n",
    "\n",
    "result.to_excel('../phage_num_estimate.xlsx',index=False)\n"
   ]
  }
 ],
 "metadata": {
  "kernelspec": {
   "display_name": "Python 3",
   "language": "python",
   "name": "python3"
  },
  "language_info": {
   "codemirror_mode": {
    "name": "ipython",
    "version": 3
   },
   "file_extension": ".py",
   "mimetype": "text/x-python",
   "name": "python",
   "nbconvert_exporter": "python",
   "pygments_lexer": "ipython3",
   "version": "3.5.2"
  }
 },
 "nbformat": 4,
 "nbformat_minor": 2
}
