{
 "cells": [
  {
   "cell_type": "markdown",
   "metadata": {},
   "source": [
    "# Estimating the characteristic size of phages\n",
    "In order to estimate the characteristic size of phages, we rely of data from quantitative transmission electron microscopy (qTEM) measurement of samples from 41 sites across the world's oceans, reported by [Brum et al.](http://dx.doi.org/10.1126/science.1261498). We extracted the data from figure 1 in Brum et al.:"
   ]
  },
  {
   "cell_type": "code",
   "execution_count": 1,
   "metadata": {},
   "outputs": [
    {
     "data": {
      "text/html": [
       "<div>\n",
       "<style scoped>\n",
       "    .dataframe tbody tr th:only-of-type {\n",
       "        vertical-align: middle;\n",
       "    }\n",
       "\n",
       "    .dataframe tbody tr th {\n",
       "        vertical-align: top;\n",
       "    }\n",
       "\n",
       "    .dataframe thead th {\n",
       "        text-align: right;\n",
       "    }\n",
       "</style>\n",
       "<table border=\"1\" class=\"dataframe\">\n",
       "  <thead>\n",
       "    <tr style=\"text-align: right;\">\n",
       "      <th></th>\n",
       "      <th>Site</th>\n",
       "      <th>5% diameter [nm]</th>\n",
       "      <th>Median diameter [nm]</th>\n",
       "      <th>95% diameter [nm]</th>\n",
       "    </tr>\n",
       "  </thead>\n",
       "  <tbody>\n",
       "    <tr>\n",
       "      <th>0</th>\n",
       "      <td>18_SRF</td>\n",
       "      <td>35</td>\n",
       "      <td>51</td>\n",
       "      <td>66</td>\n",
       "    </tr>\n",
       "    <tr>\n",
       "      <th>1</th>\n",
       "      <td>22_SRF</td>\n",
       "      <td>34</td>\n",
       "      <td>49</td>\n",
       "      <td>65</td>\n",
       "    </tr>\n",
       "    <tr>\n",
       "      <th>2</th>\n",
       "      <td>23_DCM</td>\n",
       "      <td>48</td>\n",
       "      <td>57</td>\n",
       "      <td>65</td>\n",
       "    </tr>\n",
       "    <tr>\n",
       "      <th>3</th>\n",
       "      <td>25_SRF</td>\n",
       "      <td>38</td>\n",
       "      <td>49</td>\n",
       "      <td>62</td>\n",
       "    </tr>\n",
       "    <tr>\n",
       "      <th>4</th>\n",
       "      <td>25_DCM</td>\n",
       "      <td>38</td>\n",
       "      <td>52</td>\n",
       "      <td>69</td>\n",
       "    </tr>\n",
       "  </tbody>\n",
       "</table>\n",
       "</div>"
      ],
      "text/plain": [
       "     Site  5% diameter [nm]  Median diameter [nm]  95% diameter [nm]\n",
       "0  18_SRF                35                    51                 66\n",
       "1  22_SRF                34                    49                 65\n",
       "2  23_DCM                48                    57                 65\n",
       "3  25_SRF                38                    49                 62\n",
       "4  25_DCM                38                    52                 69"
      ]
     },
     "execution_count": 1,
     "metadata": {},
     "output_type": "execute_result"
    }
   ],
   "source": [
    "import pandas as pd\n",
    "import numpy as np\n",
    "from scipy.stats import gmean\n",
    "import matplotlib.pyplot as plt\n",
    "%matplotlib inline\n",
    "import sys\n",
    "sys.path.insert(0, '../../statistics_helper/')\n",
    "from CI_helper import *\n",
    "pd.options.display.float_format = '{:,.0f}'.format\n",
    "\n",
    "# Load the data extracted from Brum et al.\n",
    "data = pd.read_excel('phage_size_data.xlsx',skiprows=1)\n",
    "data.head()"
   ]
  },
  {
   "cell_type": "markdown",
   "metadata": {},
   "source": [
    "We use the geometric mean of the median diameters from each site as our best estimate for the characteristic diameter of phages:"
   ]
  },
  {
   "cell_type": "code",
   "execution_count": 2,
   "metadata": {},
   "outputs": [
    {
     "name": "stdout",
     "output_type": "stream",
     "text": [
      "Our best estimate for the radius of a phage is ≈26 nm.\n"
     ]
    }
   ],
   "source": [
    "phage_rad = gmean(data['Median diameter [nm]'])/2\n",
    "print('Our best estimate for the radius of a phage is ≈%i nm.' %(phage_rad))"
   ]
  },
  {
   "cell_type": "code",
   "execution_count": 3,
   "metadata": {
    "collapsed": true
   },
   "outputs": [],
   "source": [
    "r = (data['95% diameter [nm]']-data['Median diameter [nm]']).mean()"
   ]
  },
  {
   "cell_type": "markdown",
   "metadata": {},
   "source": [
    "## Estimating the carbon content of phages\n",
    "To estimate the carbon content of phages, we rely on a biophysical model described in [Jover et al.](http://dx.doi.org/10.1038/nrmicro3289), which describes the carbon content of a phage as a function of its radius. The relation between the radius of phages and their total number of carbon atoms described in Jover et al. is: \n",
    "$$ C_{head} = \\frac{4\\pi(r_c-h)^3C_{bp}fill}{3v_{bp}} + \\frac{4\\pi d_C(3r_c^2h-3h^2r_c+h^3)}{3}$$\n",
    "Where $C_{head}$ is the total number of carbon atoms, $r_c$ is the radius of the phage, h is the thickness of the phage capsid, $C_{bp}$ is the number of carbon atoms in a single base pair of DNA, *fill* is that fraction of the phage volume that is filled with DNA, $v_{bp}$ is the volume of a single base pair of DNA, and $d_C$ is the number of carbon atoms per volume of protein.\n",
    "\n",
    "To get from the total number of carbon atoms to an estimate of the carbon content of a single phage, we can multiply the total number of atoms by the molecular weight of carbon, and divide by Avogadro's number.\n",
    "\n",
    "Jover et al. supply estimates for each of the parameters in the model, as well as their respective uncertainties. We plug into this model our estimates for the radius of phages in order to get an estimate for the carbon content of phages, as well as the uncertainty associated with this esitmate. We use 1.96 times the uncertainty reported in Jover et al. to calculate 95% confidence interval for the carbon content estimate."
   ]
  },
  {
   "cell_type": "code",
   "execution_count": 4,
   "metadata": {},
   "outputs": [
    {
     "name": "stdout",
     "output_type": "stream",
     "text": [
      "(2.31+/-0.25)e+14\n",
      "Our best estimate for the carbon content of a single phage is ≈   2.3e-17+/-   0.3e-17 g\n"
     ]
    }
   ],
   "source": [
    "# Import uncertainties library to deal with the error propagation\n",
    "from uncertainties import ufloat\n",
    "\n",
    "##############################\n",
    "# Define the model parameters#\n",
    "##############################\n",
    "\n",
    "# The phage radius we calculated in the phage size section [nm]\n",
    "r_c = phage_rad\n",
    "\n",
    "# The thickness of the phage capsid [nm]\n",
    "h = ufloat(2.5,0.3*1.96)\n",
    "\n",
    "# The number of caron atoms in a single DNA base pair\n",
    "C_bp = ufloat(19.5,0.1*1.96)\n",
    "\n",
    "# The fraction of the phage capsid filled with DNA\n",
    "fill = ufloat(0.53,0.04*1.96)\n",
    "\n",
    "# The volume of a single base pair [nm^3]\n",
    "v_bp = ufloat(0.34*np.pi,0)\n",
    "\n",
    "# The number of carbon atoms per volume of proteins [# nm^-3]\n",
    "d_C = ufloat(31,1*1.96)\n",
    "\n",
    "#Avogadro's number [molecules per mol]\n",
    "Na = 6e23 \n",
    "\n",
    "# Molecular weight of carbon [g per mol]\n",
    "M_C = 12\n",
    "\n",
    "# Define the eqation for deriving the carbon content of a phage as a function of it's radius\n",
    "func = lambda x: ((4*np.pi*(x-h)**3*C_bp*fill)/(3*v_bp) + 4*np.pi*d_C*(3*x**2*h-3*h**2*x+h**3)/3)*M_C/Na\n",
    "\n",
    "#C_head = (4*np.pi*(r_c-h)**3*C_bp*fill)/(3*v_bp) + 4*np.pi*d_C*(3*r_c**2*h-3*h**2*r_c+h**3)/3\n",
    "\n",
    "# Calculate our best estimate for the carbon content of a single phage\n",
    "best_estimate = func(r_c)\n",
    "\n",
    "print(func(r_c)*1e31)\n",
    "print('Our best estimate for the carbon content of a single phage is ≈{:10.1e} g'.format(best_estimate))"
   ]
  },
  {
   "cell_type": "markdown",
   "metadata": {},
   "source": [
    "# Uncertainty analysis\n",
    "To assess the uncertainty associated with the estimate of the radius of a single phage, we use the variability of capsid radii in the sites reported in Brum et al. We calculate the relative multiplicative uncertainty of the variation within a site and between sites. We take the higher uncertainty of the two as our best estimate for the uncertainty associated with the radius of phages."
   ]
  },
  {
   "cell_type": "code",
   "execution_count": 5,
   "metadata": {},
   "outputs": [
    {
     "name": "stdout",
     "output_type": "stream",
     "text": [
      "The intra site uncertainty in the radius of phages is ≈1.4-fold\n",
      "The intra sample uncertainty in the radius of phages is ≈1.02-fold\n"
     ]
    }
   ],
   "source": [
    "intra_CI = 1+gmean((data['95% diameter [nm]'] - data['5% diameter [nm]'])/data['Median diameter [nm]']/2)\n",
    "inter_CI = geo_CI_calc(data['Median diameter [nm]'])\n",
    "\n",
    "print('The intra site uncertainty in the radius of phages is ≈%0.1f-fold' %intra_CI)\n",
    "print('The intra sample uncertainty in the radius of phages is ≈%0.2f-fold' %inter_CI)\n",
    "\n",
    "rad_CI = np.max([intra_CI,inter_CI])"
   ]
  },
  {
   "cell_type": "markdown",
   "metadata": {},
   "source": [
    "In each site Brum et al. sampled ≈100 phages, so the intra-site uncertainty should be much lower. Nevertheless, the uncertainty we calculated doesn’t take into consideration the fact that viruses from other environments might have different size ranges. Even though phages isolated from deep terrestrial deep subsurface seem to be in the same size range range ([Eydal et al.](http://dx.doi.org/10.1038/ismej.2009.66)), we chose to use the 95% variability within each site as a measure of the uncertainty in the radius of a single pahge, to take into account possible variability of phage sizes in other environments.\n",
    "\n",
    "To propagate the uncertainty in the radius of a single phage into the uncertainty in the carbon content of a single phage, we use a numerical approach. We chose to use this approach as propagating the uncertainty in the radius of phages creates a probability distribution of the carbon content of a single phage which is not gaussian, and thus the uncertainty ranges a normal error propagation procedure will output will be non-informative. Namely, the additive standard error that we will get will be higher than the nominal estimate, but in reality there is no phage with a netagive radius length.\n",
    "Therefore, in order to quanitfy the uncertainty of the carbon content of a single phage stemming from the uncertainty in our estimate for the radius of a single phage, we sample 1000 times from a log-normal distribution of radii with a mean that is equal to our best estimate for the radius of a phage, and a multiplicative standard diviation which is equal to the uncertainty for the radius of a phage we project. We feed these sampled radii into our model and calculate a carbon content for each radius, resulting in a distribution of carbon content estimates. We take the multiplicative ratio between the 2.5% and 97.5% percentiles and our best estimate for the carbon content as our best estimate for the uncertainty of the carbon content of a single phage stemming from the uncertainty in our estimate for the radius of a single phage."
   ]
  },
  {
   "cell_type": "code",
   "execution_count": 6,
   "metadata": {},
   "outputs": [
    {
     "name": "stdout",
     "output_type": "stream",
     "text": [
      "Our best estimate for the uncertainty of the carbon content of a single phage stemming from the uncertainty in our estimate for the radius of a single phage is ≈2.3-fold\n"
     ]
    }
   ],
   "source": [
    "# Sample 1000 from a log-normal distribution of radii\n",
    "rad_dist = np.random.lognormal(np.log(phage_rad),np.log(rad_CI)/1.96,1000)\n",
    "\n",
    "# Calculate the carbon content for each radius\n",
    "cc_dist = func(rad_dist)\n",
    "\n",
    "# Calculate the upper and lower multiplicative ratios of the carbon content\n",
    "upper_CI = np.percentile([x.nominal_value for x in cc_dist],97.5)/best_estimate\n",
    "lower_CI = best_estimate/np.percentile([x.nominal_value for x in cc_dist],2.5)\n",
    "\n",
    "rad_cc_CI = np.mean([upper_CI,lower_CI]).nominal_value\n",
    "\n",
    "print('Our best estimate for the uncertainty of the carbon content of a single phage stemming from the uncertainty in our estimate for the radius of a single phage is ≈%.1f-fold' %rad_cc_CI)"
   ]
  },
  {
   "cell_type": "markdown",
   "metadata": {},
   "source": [
    "The uncertainty associated with the parameters of the model is ≈1.2-fold:"
   ]
  },
  {
   "cell_type": "code",
   "execution_count": 7,
   "metadata": {},
   "outputs": [
    {
     "name": "stdout",
     "output_type": "stream",
     "text": [
      "The uncertainty associated with the parameters of the model is 1.2-fold\n"
     ]
    }
   ],
   "source": [
    "model_param_CI =  1+best_estimate.std_dev*1.96/best_estimate.nominal_value\n",
    "print('The uncertainty associated with the parameters of the model is %.1f-fold' %model_param_CI)"
   ]
  },
  {
   "cell_type": "markdown",
   "metadata": {},
   "source": [
    "We combine these two uncertainties as our best projection for the uncertainty associated with the carbon content of a single phage:"
   ]
  },
  {
   "cell_type": "code",
   "execution_count": 8,
   "metadata": {},
   "outputs": [
    {
     "name": "stdout",
     "output_type": "stream",
     "text": [
      "Our best projection for the uncertainty associated with the carbon content of a single phage is ≈2.3-fold\n"
     ]
    }
   ],
   "source": [
    "mul_CI = CI_prod_prop(np.array([rad_cc_CI,model_param_CI]))\n",
    "print('Our best projection for the uncertainty associated with the carbon content of a single phage is ≈%.1f-fold' %mul_CI)"
   ]
  },
  {
   "cell_type": "markdown",
   "metadata": {},
   "source": [
    "Our final parameters are:"
   ]
  },
  {
   "cell_type": "code",
   "execution_count": 9,
   "metadata": {},
   "outputs": [
    {
     "name": "stdout",
     "output_type": "stream",
     "text": [
      "Our best estimate for the carbon content of a single phage: 2e-17 g\n",
      "Uncertainty associated with the estiamte of the carbon content of a single phage: 2-fold\n"
     ]
    }
   ],
   "source": [
    "print('Our best estimate for the carbon content of a single phage: %.0e g' % best_estimate.nominal_value)\n",
    "print('Uncertainty associated with the estiamte of the carbon content of a single phage: %.0f-fold' % mul_CI)\n",
    "\n",
    "old_results = pd.read_excel('../phage_biomass_estimate.xlsx')\n",
    "result = old_results.copy()\n",
    "result.loc[1] = pd.Series({\n",
    "                'Parameter': 'Carbon content of a single phage',\n",
    "                'Value': best_estimate.nominal_value,\n",
    "                'Units': 'g C per individual',\n",
    "                'Uncertainty': mul_CI\n",
    "                })\n",
    "\n",
    "result.to_excel('../phage_biomass_estimate.xlsx',index=False)\n"
   ]
  }
 ],
 "metadata": {
  "kernelspec": {
   "display_name": "Python 3",
   "language": "python",
   "name": "python3"
  },
  "language_info": {
   "codemirror_mode": {
    "name": "ipython",
    "version": 3
   },
   "file_extension": ".py",
   "mimetype": "text/x-python",
   "name": "python",
   "nbconvert_exporter": "python",
   "pygments_lexer": "ipython3",
   "version": "3.6.3"
  }
 },
 "nbformat": 4,
 "nbformat_minor": 2
}
