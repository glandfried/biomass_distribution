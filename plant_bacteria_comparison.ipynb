{
 "cells": [
  {
   "cell_type": "code",
   "execution_count": 1,
   "metadata": {
    "collapsed": true
   },
   "outputs": [],
   "source": [
    "# Load dependecies\n",
    "# Load dependencies\n",
    "import pandas as pd\n",
    "import numpy as np\n",
    "from scipy.stats import gmean\n",
    "import sys\n",
    "sys.path.insert(0, 'statistics_helper/')\n",
    "from CI_helper import *\n",
    "from excel_utils import *"
   ]
  },
  {
   "cell_type": "markdown",
   "metadata": {},
   "source": [
    "# Quantifying the probability of plant biomass being higher than bacterial biomass\n",
    "In order to quantify the probability of plants having more biomass than bacteria, we randomly sample from the distribution of our estimates for the biomass of plants and bacteria."
   ]
  },
  {
   "cell_type": "code",
   "execution_count": 33,
   "metadata": {},
   "outputs": [
    {
     "name": "stdout",
     "output_type": "stream",
     "text": [
      "The probability of plants having more biomass than bacteria is ≈0.95%\n"
     ]
    }
   ],
   "source": [
    "# Load results\n",
    "results = pd.read_excel('results.xlsx','Table1 & Fig1',index_col=[0,1])\n",
    "\n",
    "bacteria_mean = results.loc[('Bacteria','Terrestrial deep subsurface'),'Total biomass [Gt C]']\n",
    "bacteria_CI = results.loc[('Bacteria','Terrestrial deep subsurface'),'Total uncertainty']\n",
    "\n",
    "plant_mean = results.loc[('Plants','Plants'),'Biomass [Gt C]']\n",
    "plant_CI = results.loc[('Plants','Plants'),'Total uncertainty']\n",
    "\n",
    "# Sample 100000 times from the distribution of our estimates for the biomass of plants and bacteria\n",
    "sample_size = 100000\n",
    "bacteria = np.random.lognormal(mean = np.log(bacteria_mean), sigma = np.log(bacteria_CI)/1.96,size=sample_size).reshape([1,-1])    \n",
    "plants = np.random.lognormal(mean = np.log(plant_mean), sigma = np.log(plant_CI)/1.96,size=sample_size).reshape([1,-1])    \n",
    "\n",
    "# Calculate the probability of plant biomass being higher than that of bacteria\n",
    "p_val = (plants > bacteria).sum()/sample_size\n",
    "\n",
    "print('The probability of plants having more biomass than bacteria is ≈%.2f' %p_val + '%')"
   ]
  }
 ],
 "metadata": {
  "kernelspec": {
   "display_name": "Python 3",
   "language": "python",
   "name": "python3"
  },
  "language_info": {
   "codemirror_mode": {
    "name": "ipython",
    "version": 3
   },
   "file_extension": ".py",
   "mimetype": "text/x-python",
   "name": "python",
   "nbconvert_exporter": "python",
   "pygments_lexer": "ipython3",
   "version": "3.6.3"
  }
 },
 "nbformat": 4,
 "nbformat_minor": 2
}
