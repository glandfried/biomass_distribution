{
 "cells": [
  {
   "cell_type": "markdown",
   "metadata": {},
   "source": [
    "# Estimating the total biomass of bacteria and archaea in the terrestrial deep subsurface\n",
    "This notebook details the procedure for estimating the total biomass of  of prokaryotes (bacteria and archaea) in the terrestrial deep subsurface. Our estimate is based on the estimate made by [McMahon & Parnell](http://dx.doi.org/10.1111/1574-6941.12196).\n",
    "\n",
    "## Number of cells\n",
    "McMahon & Parnell rely on measurements of groundwater cell concentrations along different depths. McMahon & Parnell bin measurements to 250 meter bins, and calculate the mean concentration of cells per mL of ground water at each bio. McMahon & Parnell then calculate a global weighted average cell concentration by using data on the fraction of groundwater found at each depth. Depth bins missing from the data were extrapolated by using a regression equation that predicts the concentration of cells from the depth of the sample. In total, McMahon & Parnell estimate an average concentration of $≈5×10^5$ cells mL$^{-1}$.\n",
    "\n",
    "To get from the average cell concentration to an estimate of the total number of cells in the terrestrial deep subsurface, McMahon & Parnell multiply the average cell concentration by the total volume of groundwater of ~$10^{22}$ mL. McMahon & Parnell thus estimate $≈5×10^{27}$ cells found in groundwater.\n",
    "\n",
    "Most of the cells in the terrestrial subsurface are actually found attached to surfaces and not free-living in groundwater. McMahon & Parnell rely on data from the literature of the attached to unattached cell number ratio, and report a range of $10^2-10^3$ for this range. We use as our best estimate for this ratio the geometric mean of this range, which is roughly 300. Multiplying the total number of cells in groundwater by this ratio gives us an estimate for the total number of bacteria and archaea in the terrestrial deep subsurface. Our best estimate for the total number of bacteria and archaea in the terrestrial deep subsurface is $≈2×10^{30}$ cells.\n",
    "\n",
    "## Carbon content of a single prokaryote\n",
    "McMahon & Parnell estimate the characteristic carbon content of single bacterial and arhcaeal cells in the terrestrial deep subsurface at 26 fg C cell$^{-1}$, based on carbon content of cultivated cells under starvation. This value is consistent with our estimates for the carbon content of cells in the marine and marine deep subsurface environments.\n",
    "\n",
    "To estimate the total biomass of bacteria and archaea in the terrestrial deep subsurface, we muliply our best estimate for the total number of cells in the terrestrial deep subsurface by the characteristic carbon content of cells in the terrestrial deep subsurface. We estimate ≈40 Gt C of bacteria and archaea in the terrestrial deep subsurface.\n"
   ]
  },
  {
   "cell_type": "code",
   "execution_count": 98,
   "metadata": {},
   "outputs": [
    {
     "name": "stdout",
     "output_type": "stream",
     "text": [
      "McMahon & Parnell estimate an average concentration of 5e+05 cells per mL in groundwater\n",
      "McMahon & Parnell estimate a total of 1e+28 cells in groundwater\n",
      "McMahon & Parnell estimate a total of 4e+30 cells in the terrestrial deep subsurface\n",
      "McMahon & Parnell estimate a total of 4e+30 cells in the terrestrial deep subsurface\n",
      "McMahon & Parnell estimate a total of 2e+30 cells in the terrestrial deep subsurface\n",
      "McMahon & Parnell estimate a total biomass of bacteria and archaea in the terrestrial deep subsurface of 97 Gt C\n"
     ]
    },
    {
     "name": "stderr",
     "output_type": "stream",
     "text": [
      "/usr/local/lib/python3.5/dist-packages/ipykernel_launcher.py:22: SettingWithCopyWarning: \n",
      "A value is trying to be set on a copy of a slice from a DataFrame.\n",
      "Try using .loc[row_indexer,col_indexer] = value instead\n",
      "\n",
      "See the caveats in the documentation: http://pandas.pydata.org/pandas-docs/stable/indexing.html#indexing-view-versus-copy\n",
      "/usr/local/lib/python3.5/dist-packages/scipy/stats/stats.py:315: RuntimeWarning: Mean of empty slice.\n",
      "  return np.exp(log_a.mean(axis=axis))\n",
      "/usr/local/lib/python3.5/dist-packages/numpy/core/_methods.py:80: RuntimeWarning: invalid value encountered in double_scalars\n",
      "  ret = ret.dtype.type(ret / rcount)\n",
      "/usr/local/lib/python3.5/dist-packages/ipykernel_launcher.py:86: SettingWithCopyWarning: \n",
      "A value is trying to be set on a copy of a slice from a DataFrame\n",
      "\n",
      "See the caveats in the documentation: http://pandas.pydata.org/pandas-docs/stable/indexing.html#indexing-view-versus-copy\n"
     ]
    }
   ],
   "source": [
    "import pandas as pd\n",
    "import numpy as np\n",
    "from scipy.stats import gmean\n",
    "import sys\n",
    "sys.path.insert(0, '../../../statistics_helper')\n",
    "from CI_helper import *\n",
    "\n",
    "# The global average cell concentration in groundwater estimated by McMahon & Parnell [cells mL^-1]\n",
    "tot_cell_conc = 5.2e5\n",
    "print('McMahon & Parnell estimate an average concentration of %.0e cells per mL in groundwater' %tot_cell_conc)\n",
    "\n",
    "# Load original data from figure 1 of McMahon & Parnell\n",
    "mp_data = pd.read_csv('terrestrial_deep_subsurface_prok_cell_num.csv',skiprows=1)\n",
    "\n",
    "# Define depth bins every 250 meter \n",
    "bins = np.linspace(0,2000,9)\n",
    "\n",
    "# Filter deeper then 2km\n",
    "mp_data_filt = mp_data[mp_data['Depth [m]'] < 2000]\n",
    "\n",
    "# Bin data based on depth bins\n",
    "mp_data_filt['Depth bin'] = pd.cut(mp_data_filt['Depth [m]'],bins)\n",
    "depth_binned = mp_data_filt.groupby('Depth bin')\n",
    "\n",
    "# Calculate the mean concentration at each depth bin\n",
    "bin_mean = depth_binned['Cell concentration [cells mL-1]'].mean().dropna()\n",
    "bin_geo_mean = depth_binned['Cell concentration [cells mL-1]'].apply(gmean)\n",
    "\n",
    "\n",
    "# Total volume of groundwater [mL], based on Gleeson et al.\n",
    "tot_gw_vol = 2.26e22\n",
    "print('McMahon & Parnell estimate a total of %.0e cells in groundwater' %(tot_cell_conc*tot_gw_vol))\n",
    "\n",
    "# Load data from Gleeson et al. on the distribution of groundwater with depth\n",
    "gw_depth_dist = pd.read_csv('gleeson_fraction_gw_data.csv', skiprows=1)\n",
    "\n",
    "\n",
    "# Generate functions to fit the data an calculate partial integrals\n",
    "def func(x,a,b,c):\n",
    "    return a*np.exp(-b*x)+c\n",
    "\n",
    "def frac_func(x0,x1,a,b,c):\n",
    "    integral = lambda x: -a/b*np.exp(-b*x) + c*x\n",
    "    int_x = integral(x1) - integral(x0)\n",
    "    int_total = integral(2000) - integral(0)\n",
    "    fraction = int_x/int_total\n",
    "    return fraction\n",
    "\n",
    "# Fit the data with the fiting function\n",
    "popt, pcov = curve_fit(func, gw_depth_dist['depth [m]'], gw_depth_dist['fraction'],bounds=(0, [0.2, 2., 0.5]))\n",
    "\n",
    "# Calculate the fraction of groundwater in each bin\n",
    "depth_gw_fraction = []\n",
    "lower_depth_range = np.linspace(0,1750,8)\n",
    "upper_depth_range = np.linspace(250,2000,8)\n",
    "for ix, y in enumerate(lower_depth_range):\n",
    "    depth_gw_fraction.append(frac_func(lower_depth_range[ix],upper_depth_range[ix], *popt))\n",
    "depth_gw_fraction = np.array(depth_gw_fraction)\n",
    "\n",
    "# To estimate the last bin (1750-2000), which doesn't have data, we either use the fit produced by McMahon & Parnell\n",
    "# or fit a function to the geometric means\n",
    "\n",
    "# The fit of McMahon & Parnell from Figure 1\n",
    "mp_fit = lambda x: np.exp(-(x-5771.2)/390.6)\n",
    "\n",
    "# Extrapolate the average cell concentration based on the fit by McMahon & Parnell\n",
    "extrapolated_mean = pd.DataFrame({'Depth bin': '(1750.0, 2000.0]', 'Cell concentration [cells mL-1]': mp_fit(1875)},index=[0])\n",
    "\n",
    "# Add the extrapolated value to the depth averages\n",
    "bin_mean = bin_mean.reset_index().append(extrapolated_mean,ignore_index=True).set_index('Depth bin')\n",
    "\n",
    "\n",
    "# Define an exponential function to fit the data\n",
    "def depth_func_log(x, a, b):\n",
    "    return np.log(a) - b*x\n",
    "\n",
    "# Fit the geometric means\n",
    "xdata = bins[1:-1]-125\n",
    "popt2, pcov2 = curve_fit(depth_func_log, xdata, np.log(bin_geo_mean[:-1]))\n",
    "\n",
    "# Extrapolate the geometric mean cell concentration based on the fit we calculated\n",
    "extrapolated_geo_mean = np.exp(depth_func_log(1875, *popt2))\n",
    "\n",
    "# Add the extrapolated value to the depth averages\n",
    "tmp = bin_geo_mean.reset_index()\n",
    "tmp['Cell concentration [cells mL-1]'][7] = extrapolated_geo_mean\n",
    "bin_geo_mean = tmp.set_index('Depth bin')\n",
    "\n",
    "cell_mean = (bin_mean['Cell concentration [cells mL-1]']*depth_gw_fraction).sum()\n",
    "cell_geo_mean = (bin_geo_mean['Cell concentration [cells mL-1]']*depth_gw_fraction).sum()\n",
    "# Fraction of attached/unattached cells (geometric mean of 10^2 and 10^3)\n",
    "attached_unattached_ratio = gmean([1e2,1e3])\n",
    "\n",
    "# Calculate the total number of cells in the terrestrial deep subsurface\n",
    "tot_cell_num = tot_cell_conc*tot_gw_vol*attached_unattached_ratio\n",
    "tot_cell_num_mean = cell_mean*tot_gw_vol*attached_unattached_ratio\n",
    "tot_cell_num_geo_mean = cell_geo_mean*tot_gw_vol*attached_unattached_ratio\n",
    "print('McMahon & Parnell estimate a total of %.0e cells in the terrestrial deep subsurface' %tot_cell_num)\n",
    "print('McMahon & Parnell estimate a total of %.0e cells in the terrestrial deep subsurface' %tot_cell_num_mean)\n",
    "print('McMahon & Parnell estimate a total of %.0e cells in the terrestrial deep subsurface' %tot_cell_num_geo_mean)\n",
    "\n",
    "# The characteristic carbon content of a single prokaryote in the terrestrial deep subsurface\n",
    "carb_content = 26e-15\n",
    "\n",
    "biomass_mean = tot_cell_num_mean*carb_content\n",
    "biomass_geo_mean = tot_cell_num_geo_mean*carb_content\n",
    "print('McMahon & Parnell estimate a total biomass of bacteria and archaea in the terrestrial deep subsurface of %.0f Gt C' %(biomass_mean/1e15))\n",
    "print('McMahon & Parnell estimate a total biomass of bacteria and archaea in the terrestrial deep subsurface of %.0f Gt C' %(biomass_geo_mean/1e15))\n"
   ]
  },
  {
   "cell_type": "markdown",
   "metadata": {},
   "source": [
    "# Uncertainty analysis\n",
    "We assess the uncertainty of our estimate of the total biomass of bacteria and archaea in the terrestrial deep subsurface, we calculate the uncertainty associated with each of the components of the estimate: the average cell concentration in groundwater, the total amount of groundwater, the ratio of attached to unattached cells, and the carbon content of single cells.\n",
    "\n",
    "## Average cell concentration\n",
    "McMahon & Parnell do not supply an uncertainty estimate for the average concentration of cells in the terretrial deep subsurface. The only effect estimated by McMahon & Parnell related to the average concentration of cells, was the effect of different compaction coefficients, determining the relative fraction of water located at different depths on the average cells concentration. By varying the compaction coeffieinct, McMahon & Parnell reported an effect of ≈30% on the average concentration of cells. \n",
    "We estimate the uncertainty around the estimate of cell concentration at each depth bin, and then propagate the uncertainty at each depth bin to the final estimate of the average cell concentration. We calculate an uncertainty of ≈1.3-fold from this source. Combining these two sources together, we estimate ≈1.4-fold uncertainty associated with the average concentration of cells of bacteria and archaea in the terrestrial deep subsurface."
   ]
  },
  {
   "cell_type": "code",
   "execution_count": 14,
   "metadata": {},
   "outputs": [
    {
     "name": "stdout",
     "output_type": "stream",
     "text": [
      "Depth bin\n",
      "(0.0, 250.0]        0.412499\n",
      "(250.0, 500.0]      0.334719\n",
      "(500.0, 750.0]      0.559026\n",
      "(750.0, 1000.0]     0.407967\n",
      "(1000.0, 1250.0]    0.767936\n",
      "(1250.0, 1500.0]    0.087212\n",
      "(1500.0, 1750.0]    0.116358\n",
      "(1750.0, 2000.0]         NaN\n",
      "Name: Cell concentration [cells mL-1], dtype: float64\n",
      "5.65012587554e+16\n",
      "Our best estimate for the uncertainty of the average concentration of cells in the terrestrial deep subsurface is ≈1.4-fold\n"
     ]
    },
    {
     "name": "stderr",
     "output_type": "stream",
     "text": [
      "/usr/local/lib/python3.5/dist-packages/ipykernel_launcher.py:11: SettingWithCopyWarning: \n",
      "A value is trying to be set on a copy of a slice from a DataFrame.\n",
      "Try using .loc[row_indexer,col_indexer] = value instead\n",
      "\n",
      "See the caveats in the documentation: http://pandas.pydata.org/pandas-docs/stable/indexing.html#indexing-view-versus-copy\n",
      "  # This is added back by InteractiveShellApp.init_path()\n",
      "/usr/local/lib/python3.5/dist-packages/scipy/stats/stats.py:315: RuntimeWarning: Mean of empty slice.\n",
      "  return np.exp(log_a.mean(axis=axis))\n",
      "/usr/local/lib/python3.5/dist-packages/numpy/core/_methods.py:80: RuntimeWarning: invalid value encountered in double_scalars\n",
      "  ret = ret.dtype.type(ret / rcount)\n"
     ]
    }
   ],
   "source": [
    "# Load original data from figure 1 of McMahon & Parnell\n",
    "mp_data = pd.read_csv('terrestrial_deep_subsurface_prok_cell_num.csv',skiprows=1)\n",
    "\n",
    "# Define depth bins every 250 meter \n",
    "bins = np.linspace(0,2000,9)\n",
    "\n",
    "# Filter deeper then 2km\n",
    "mp_data_filt = mp_data[mp_data['Depth [m]'] < 2000]\n",
    "\n",
    "# Bin data based on depth bins\n",
    "mp_data_filt['Depth bin'] = pd.cut(mp_data_filt['Depth [m]'],bins)\n",
    "depth_binned = mp_data_filt.groupby('Depth bin')\n",
    "\n",
    "# Define a function that will estimate the 95% confidence interval for each bin\n",
    "def bin_se(input):\n",
    "    se = input['Cell concentration [cells mL-1]'].std(ddof=1)/np.sqrt(input.shape[0])\n",
    "    mean = input['Cell concentration [cells mL-1]'].mean()\n",
    "    return (1.96*se+mean)/mean\n",
    "\n",
    "# Calculate the 95% confidence interval for each bin\n",
    "bin_se = depth_binned.apply(bin_se).dropna()\n",
    "\n",
    "# Calculate the mean concentration at each depth bin\n",
    "bin_mean = depth_binned['Cell concentration [cells mL-1]'].mean().dropna()\n",
    "bin_geo_mean = depth_binned['Cell concentration [cells mL-1]'].apply(gmean)\n",
    "print(bin_geo_mean/bin_mean)\n",
    "#print(bin_geo_mean.mean()*tot_gw_vol*attached_unattached_ratio*carb_content)\n",
    "print(gmean([bin_geo_mean.mean(),tot_cell_conc])*tot_gw_vol*attached_unattached_ratio*carb_content)\n",
    "# Propoagate the uncertainty at each bin to the average cell concentration\n",
    "av_conc_CI = CI_sum_prop(bin_mean,bin_se)\n",
    "\n",
    "# The uncertainty of the average concentration stemming from the compaction coefficient\n",
    "comp_coeff_CI = 1.3\n",
    "\n",
    "total_av_conc_CI = CI_prod_prop(np.array([av_conc_CI,comp_coeff_CI]))\n",
    "print('Our best estimate for the uncertainty of the average concentration of cells in the terrestrial deep subsurface is ≈%.1f-fold' % total_av_conc_CI)"
   ]
  },
  {
   "cell_type": "markdown",
   "metadata": {},
   "source": [
    "## Total volume of groundwater\n",
    "As a measure of the uncertainty associated with the total volume of groundwater, we use the range reported in Gleeson et al. of ≈2.2-fold. This range does not represent 95% confidence interval, but rather a 25% and 75% range.  As no 95% confidence interval is available, we \n",
    "\n",
    "## Ratio of attached to unattached cells\n",
    "McMahon & Parnell report a range of $10^2-10^3$ for the attached to unattached cell ratio. As we chose to use the goemetric mean of this range for our estimate, we use the multiplicative factor of this range relative to the geometric mean, which is ≈3-fold, as a measure of the uncertainty associated with the ratio of attached to unattached cells.\n",
    "\n",
    "## Carbon content of single cells\n",
    "McMahon & Parnell do not suply an uncertainty analysis for the carbon content of single cells in the terrestrial deep subsurface. Our estimate for carbon content of subseafloor sediments is similar to the value used by McMahon & Parnell. Therefore, we use the values for the uncertainty associated with the carbon content of cells in subseafloor sediments as a measure of the uncertainty associated with the carbon content of cells in the terrestrial deep subsurface. The uncertainty we calculated for the carbon content of cell in subseafloor sediments is ≈2.2-fold."
   ]
  },
  {
   "cell_type": "code",
   "execution_count": 3,
   "metadata": {},
   "outputs": [
    {
     "name": "stdout",
     "output_type": "stream",
     "text": [
      "The uncertainty associated with the biomass of bacteria and archaea in the terrestrial deep subsurface is ≈5-fold\n"
     ]
    }
   ],
   "source": [
    "gw_CI = 2\n",
    "attached_unattached_CI = 3\n",
    "carbon_content_CI = 2.2\n",
    "\n",
    "mul_CI = CI_prod_prop(np.array([total_av_conc_CI,gw_CI,attached_unattached_CI,carbon_content_CI]))\n",
    "print('The uncertainty associated with the biomass of bacteria and archaea in the terrestrial deep subsurface is ≈%.0f-fold' % mul_CI)"
   ]
  },
  {
   "cell_type": "markdown",
   "metadata": {},
   "source": [
    "## Additional sources of uncertainty\n",
    "Comnining all the uncertainty of the factors above, we calculate an uncertainty of ≈5-fold in the biomass of bacteria and archaea in the terrestrial deep subsurface.\n",
    "As we state in the Supplementary Information, there are other sources of uncertainty that for which we are not able to provide a quantitative estimate. The procedure of binning cell concentrations with depth and fitting an equation which extrapolates cell concentrations across all depths has uncertainty associated with it, and while we did calculate some uncertainty associated with this process, it probably does not represent the entire uncertainty associated with this process. The uncertainty stemming from possible contribution from groundwater deeper than 2 km is also hard to quantify, as the cell concentration at those depths and the volume of groundwater are poorly explored. We thus chose to project an uncertainty of one order of magnitude as our best projection of the uncertainty associated with the biomass of bacteria and archaea in the terrestrial deep subsurface."
   ]
  },
  {
   "cell_type": "code",
   "execution_count": 4,
   "metadata": {},
   "outputs": [
    {
     "name": "stdout",
     "output_type": "stream",
     "text": [
      "Total biomass of terrestrial deep subsurface bacteria and archaea: 97 Gt C\n",
      "Uncertainty associated with the total biomasss of terrestrial deep subsurface bacteria and archaea: 10-fold\n"
     ]
    }
   ],
   "source": [
    "# Modify the uncertainty of the estimate\n",
    "mul_CI = 10\n",
    "\n",
    "print('Total biomass of terrestrial deep subsurface bacteria and archaea: %.0f Gt C' % (best_estimate/1e15))\n",
    "print('Uncertainty associated with the total biomasss of terrestrial deep subsurface bacteria and archaea: %.0f-fold' % mul_CI)\n",
    "\n",
    "old_results = pd.read_excel('../terrestrial_deep_subsurface_prok_biomass_estimate.xlsx')\n",
    "result = old_results.copy()\n",
    "result.loc[0] = pd.Series({\n",
    "                'Parameter': 'Total number of marine bacteria and archaea',\n",
    "                'Value': int(best_estimate),\n",
    "                'Units': 'Cells',\n",
    "                'Uncertainty': \"{0:.1f}\".format(mul_CI)\n",
    "                })\n",
    "\n",
    "result.to_excel('../terrestrial_deep_subsurface_prok_biomass_estimate.xlsx',index=False)\n"
   ]
  }
 ],
 "metadata": {
  "kernelspec": {
   "display_name": "Python 3",
   "language": "python",
   "name": "python3"
  },
  "language_info": {
   "codemirror_mode": {
    "name": "ipython",
    "version": 3
   },
   "file_extension": ".py",
   "mimetype": "text/x-python",
   "name": "python",
   "nbconvert_exporter": "python",
   "pygments_lexer": "ipython3",
   "version": "3.5.2"
  }
 },
 "nbformat": 4,
 "nbformat_minor": 2
}
