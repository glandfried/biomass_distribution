{
 "cells": [
  {
   "cell_type": "code",
   "execution_count": 1,
   "metadata": {
    "collapsed": true
   },
   "outputs": [],
   "source": [
    "# Load dependencies\n",
    "import pandas as pd\n",
    "import numpy as np\n",
    "import sys\n",
    "sys.path.insert(0, '../../../statistics_helper')\n",
    "from fraction_helper import *\n",
    "\n",
    "pd.options.display.float_format = '{:,.1e}'.format"
   ]
  },
  {
   "cell_type": "markdown",
   "metadata": {},
   "source": [
    "# Estimating the fraction of archaea out of the total marine deep subsurface prokaryote population\n",
    "\n",
    "In order to estimate the fraction of archaea out of the total population of marine deep subsurface bacteria and archaea, we rely of three sources of data. Two of those sources are measurements made in the terrestrial deep subsurface of the fraction of archaea using two independent methods: 16S rDNA sequencing (FISH) and quantitative PCR (qPCR). For each method we collect several studies which used the method to measure the fraction of archaea out of the total population of bacteria and archaea in the terrestrial deep subsurface. We calculate the geometric means of samples within each study. We then calculate the geometric mean of the average estimates from each study using the same method to generate a characteristic estimate for the fraction of archaea out of the total population of bacteria and archaea in the terrestrial deep subsurface for each method. \n",
    "\n",
    "## 16S rDNA sequencing-based estimate\n",
    "For our 16S rDNA sequencing-based estimate we rely on data from [Rempfert et al.](http://dx.doi.org/10.3389/fmicb.2017.00056), [Lau et al.](http://dx.doi.org/10.1073/pnas.1612244113), [Osburn et al.](http://dx.doi.org/10.3389/fmicb.2014.00610), and [Simkus et al.](http://dx.doi.org/10.1016/j.gca.2015.10.003). Here is a sample of the data:"
   ]
  },
  {
   "cell_type": "code",
   "execution_count": 2,
   "metadata": {},
   "outputs": [
    {
     "data": {
      "text/html": [
       "<div>\n",
       "<style scoped>\n",
       "    .dataframe tbody tr th:only-of-type {\n",
       "        vertical-align: middle;\n",
       "    }\n",
       "\n",
       "    .dataframe tbody tr th {\n",
       "        vertical-align: top;\n",
       "    }\n",
       "\n",
       "    .dataframe thead th {\n",
       "        text-align: right;\n",
       "    }\n",
       "</style>\n",
       "<table border=\"1\" class=\"dataframe\">\n",
       "  <thead>\n",
       "    <tr style=\"text-align: right;\">\n",
       "      <th></th>\n",
       "      <th>Study</th>\n",
       "      <th>Link</th>\n",
       "      <th>Well</th>\n",
       "      <th>Year</th>\n",
       "      <th>Archaea fraction</th>\n",
       "      <th>Depth</th>\n",
       "      <th>Rock type</th>\n",
       "      <th>Location</th>\n",
       "      <th>Remarks</th>\n",
       "    </tr>\n",
       "  </thead>\n",
       "  <tbody>\n",
       "    <tr>\n",
       "      <th>0</th>\n",
       "      <td>Rempfert et al.</td>\n",
       "      <td>http://dx.doi.org/10.3389/fmicb.2017.00056</td>\n",
       "      <td>NSHQ14</td>\n",
       "      <td>2014</td>\n",
       "      <td>4.3e-03</td>\n",
       "      <td>1.8e+01</td>\n",
       "      <td>Peridotite</td>\n",
       "      <td>Oman</td>\n",
       "      <td>Calculated from Table 3</td>\n",
       "    </tr>\n",
       "    <tr>\n",
       "      <th>1</th>\n",
       "      <td>Rempfert et al.</td>\n",
       "      <td>http://dx.doi.org/10.3389/fmicb.2017.00056</td>\n",
       "      <td>NSHQ14</td>\n",
       "      <td>2015</td>\n",
       "      <td>7.0e-04</td>\n",
       "      <td>2.0e+01</td>\n",
       "      <td>Peridotite</td>\n",
       "      <td>Oman</td>\n",
       "      <td>Calculated from Table 3</td>\n",
       "    </tr>\n",
       "    <tr>\n",
       "      <th>2</th>\n",
       "      <td>Rempfert et al.</td>\n",
       "      <td>http://dx.doi.org/10.3389/fmicb.2017.00056</td>\n",
       "      <td>NSHQ14</td>\n",
       "      <td>2016</td>\n",
       "      <td>2.8e-01</td>\n",
       "      <td>7.0e+01</td>\n",
       "      <td>Peridotite</td>\n",
       "      <td>Oman</td>\n",
       "      <td>Calculated from Table 3</td>\n",
       "    </tr>\n",
       "    <tr>\n",
       "      <th>3</th>\n",
       "      <td>Rempfert et al.</td>\n",
       "      <td>http://dx.doi.org/10.3389/fmicb.2017.00056</td>\n",
       "      <td>WAB56</td>\n",
       "      <td>2015</td>\n",
       "      <td>3.8e-02</td>\n",
       "      <td>1.2e+01</td>\n",
       "      <td>Peridotite</td>\n",
       "      <td>Oman</td>\n",
       "      <td>Calculated from Table 3</td>\n",
       "    </tr>\n",
       "    <tr>\n",
       "      <th>4</th>\n",
       "      <td>Rempfert et al.</td>\n",
       "      <td>http://dx.doi.org/10.3389/fmicb.2017.00056</td>\n",
       "      <td>WAB56</td>\n",
       "      <td>2016</td>\n",
       "      <td>3.7e-03</td>\n",
       "      <td>5.0e+01</td>\n",
       "      <td>Peridotite</td>\n",
       "      <td>Oman</td>\n",
       "      <td>Calculated from Table 3</td>\n",
       "    </tr>\n",
       "  </tbody>\n",
       "</table>\n",
       "</div>"
      ],
      "text/plain": [
       "             Study                                        Link    Well  Year  \\\n",
       "0  Rempfert et al.  http://dx.doi.org/10.3389/fmicb.2017.00056  NSHQ14  2014   \n",
       "1  Rempfert et al.  http://dx.doi.org/10.3389/fmicb.2017.00056  NSHQ14  2015   \n",
       "2  Rempfert et al.  http://dx.doi.org/10.3389/fmicb.2017.00056  NSHQ14  2016   \n",
       "3  Rempfert et al.  http://dx.doi.org/10.3389/fmicb.2017.00056   WAB56  2015   \n",
       "4  Rempfert et al.  http://dx.doi.org/10.3389/fmicb.2017.00056   WAB56  2016   \n",
       "\n",
       "   Archaea fraction   Depth   Rock type Location                  Remarks  \n",
       "0           4.3e-03 1.8e+01  Peridotite     Oman  Calculated from Table 3  \n",
       "1           7.0e-04 2.0e+01  Peridotite     Oman  Calculated from Table 3  \n",
       "2           2.8e-01 7.0e+01  Peridotite     Oman  Calculated from Table 3  \n",
       "3           3.8e-02 1.2e+01  Peridotite     Oman  Calculated from Table 3  \n",
       "4           3.7e-03 5.0e+01  Peridotite     Oman  Calculated from Table 3  "
      ]
     },
     "execution_count": 2,
     "metadata": {},
     "output_type": "execute_result"
    }
   ],
   "source": [
    "# Define a function that will calculate the geometric mean of fractions for each bin of a groupby\n",
    "def frac_geo_mean_groupby(input):\n",
    "    return frac_mean(input['Archaea fraction'])\n",
    "\n",
    "# Define a function that will calculate the CI of geometric mean of fractions for each bin of a groupby\n",
    "def frac_CI_groupby(input):\n",
    "    return frac_CI(input['Archaea fraction'])\n",
    "\n",
    "\n",
    "seq_data = pd.read_excel('terrestrial_deep_subsurface_arch_frac_data.xlsx','16S rDNA sequencing')\n",
    "seq_data.head()"
   ]
  },
  {
   "cell_type": "markdown",
   "metadata": {},
   "source": [
    "We calculate the geometric mean of the fraction of archaea out of the total population of bacteria and archea for each study:"
   ]
  },
  {
   "cell_type": "code",
   "execution_count": 3,
   "metadata": {},
   "outputs": [
    {
     "data": {
      "text/plain": [
       "Study\n",
       "Lau et al.        1.9e-02\n",
       "Osburn et al.     6.3e-02\n",
       "Rempfert et al.   2.6e-02\n",
       "Simkus et al.     1.5e-02\n",
       "dtype: float64"
      ]
     },
     "execution_count": 3,
     "metadata": {},
     "output_type": "execute_result"
    }
   ],
   "source": [
    "seq_bin = seq_data.groupby('Study')\n",
    "\n",
    "seq_study_mean = seq_bin.apply(frac_geo_mean_groupby)\n",
    "seq_study_mean"
   ]
  },
  {
   "cell_type": "markdown",
   "metadata": {},
   "source": [
    "We calculate the geometric mean of the average fractions from each study:"
   ]
  },
  {
   "cell_type": "code",
   "execution_count": 4,
   "metadata": {},
   "outputs": [
    {
     "name": "stdout",
     "output_type": "stream",
     "text": [
      "The characteristic 16S rDNA sequencing-based fraction of archaea out of the total population of bacteria and archaea in the terrestrial deep susurface is 2.6%\n"
     ]
    }
   ],
   "source": [
    "seq_mean = frac_mean(seq_study_mean)\n",
    "print('The characteristic 16S rDNA sequencing-based fraction of archaea out of the total population of bacteria and archaea in the terrestrial deep susurface is ' + '{:,.1f}%'.format(seq_mean*100))"
   ]
  },
  {
   "cell_type": "markdown",
   "metadata": {},
   "source": [
    "## qPCR-based estimate\n",
    "For our qPCR-based estimate we rely on data from [Purkamo et al.](https://helda.helsinki.fi/handle/10138/165462), [Takai et al.](http://dx.doi.org/10.1128/AEM.67.21.5750-5760.2001), and [Bomberg et al.](http://dx.doi.org/10.5194/bg-13-6031-2016). Here is a sample of the data:"
   ]
  },
  {
   "cell_type": "code",
   "execution_count": 5,
   "metadata": {},
   "outputs": [
    {
     "data": {
      "text/html": [
       "<div>\n",
       "<style scoped>\n",
       "    .dataframe tbody tr th:only-of-type {\n",
       "        vertical-align: middle;\n",
       "    }\n",
       "\n",
       "    .dataframe tbody tr th {\n",
       "        vertical-align: top;\n",
       "    }\n",
       "\n",
       "    .dataframe thead th {\n",
       "        text-align: right;\n",
       "    }\n",
       "</style>\n",
       "<table border=\"1\" class=\"dataframe\">\n",
       "  <thead>\n",
       "    <tr style=\"text-align: right;\">\n",
       "      <th></th>\n",
       "      <th>Study</th>\n",
       "      <th>Link</th>\n",
       "      <th>Well</th>\n",
       "      <th>Year</th>\n",
       "      <th>Archaea fraction</th>\n",
       "      <th>Depth</th>\n",
       "      <th>Rock type</th>\n",
       "      <th>Location</th>\n",
       "      <th>Remarks</th>\n",
       "    </tr>\n",
       "  </thead>\n",
       "  <tbody>\n",
       "    <tr>\n",
       "      <th>0</th>\n",
       "      <td>Purkamo et al.</td>\n",
       "      <td>https://helda.helsinki.fi/handle/10138/165462</td>\n",
       "      <td>180</td>\n",
       "      <td>2009-2011</td>\n",
       "      <td>1.2e-03</td>\n",
       "      <td>180</td>\n",
       "      <td>Mica schist, biotite gneiss</td>\n",
       "      <td>Outokumpu, Finland</td>\n",
       "      <td>Calculated from Table 2</td>\n",
       "    </tr>\n",
       "    <tr>\n",
       "      <th>1</th>\n",
       "      <td>Purkamo et al.</td>\n",
       "      <td>https://helda.helsinki.fi/handle/10138/165462</td>\n",
       "      <td>500</td>\n",
       "      <td>2009-2011</td>\n",
       "      <td>4.6e-05</td>\n",
       "      <td>500</td>\n",
       "      <td>Chlorite–sericite schist</td>\n",
       "      <td>Outokumpu, Finland</td>\n",
       "      <td>Calculated from Table 2</td>\n",
       "    </tr>\n",
       "    <tr>\n",
       "      <th>2</th>\n",
       "      <td>Purkamo et al.</td>\n",
       "      <td>https://helda.helsinki.fi/handle/10138/165462</td>\n",
       "      <td>967</td>\n",
       "      <td>2009-2011</td>\n",
       "      <td>3.9e-03</td>\n",
       "      <td>967</td>\n",
       "      <td>Mica schist, chlorite–sericite schist</td>\n",
       "      <td>Outokumpu, Finland</td>\n",
       "      <td>Calculated from Table 2</td>\n",
       "    </tr>\n",
       "    <tr>\n",
       "      <th>3</th>\n",
       "      <td>Purkamo et al.</td>\n",
       "      <td>https://helda.helsinki.fi/handle/10138/165462</td>\n",
       "      <td>2260</td>\n",
       "      <td>2009-2011</td>\n",
       "      <td>2.5e-02</td>\n",
       "      <td>2260</td>\n",
       "      <td>Biotite gneiss</td>\n",
       "      <td>Outokumpu, Finland</td>\n",
       "      <td>Calculated from Table 2</td>\n",
       "    </tr>\n",
       "    <tr>\n",
       "      <th>4</th>\n",
       "      <td>Takai et al.</td>\n",
       "      <td>http://dx.doi.org/10.1128/AEM.67.21.5750-5760....</td>\n",
       "      <td>F1</td>\n",
       "      <td>NaN</td>\n",
       "      <td>1.8e-01</td>\n",
       "      <td>2700</td>\n",
       "      <td>Driefontein</td>\n",
       "      <td>Witwatersrand Basin, South Africa.</td>\n",
       "      <td>From first paragraph of Archaeal rDNA abundanc...</td>\n",
       "    </tr>\n",
       "  </tbody>\n",
       "</table>\n",
       "</div>"
      ],
      "text/plain": [
       "            Study                                               Link  Well  \\\n",
       "0  Purkamo et al.      https://helda.helsinki.fi/handle/10138/165462   180   \n",
       "1  Purkamo et al.      https://helda.helsinki.fi/handle/10138/165462   500   \n",
       "2  Purkamo et al.      https://helda.helsinki.fi/handle/10138/165462   967   \n",
       "3  Purkamo et al.      https://helda.helsinki.fi/handle/10138/165462  2260   \n",
       "4    Takai et al.  http://dx.doi.org/10.1128/AEM.67.21.5750-5760....    F1   \n",
       "\n",
       "        Year  Archaea fraction  Depth                              Rock type  \\\n",
       "0  2009-2011           1.2e-03    180            Mica schist, biotite gneiss   \n",
       "1  2009-2011           4.6e-05    500               Chlorite–sericite schist   \n",
       "2  2009-2011           3.9e-03    967  Mica schist, chlorite–sericite schist   \n",
       "3  2009-2011           2.5e-02   2260                         Biotite gneiss   \n",
       "4        NaN           1.8e-01   2700                            Driefontein   \n",
       "\n",
       "                             Location  \\\n",
       "0                  Outokumpu, Finland   \n",
       "1                  Outokumpu, Finland   \n",
       "2                  Outokumpu, Finland   \n",
       "3                  Outokumpu, Finland   \n",
       "4  Witwatersrand Basin, South Africa.   \n",
       "\n",
       "                                             Remarks  \n",
       "0                            Calculated from Table 2  \n",
       "1                            Calculated from Table 2  \n",
       "2                            Calculated from Table 2  \n",
       "3                            Calculated from Table 2  \n",
       "4  From first paragraph of Archaeal rDNA abundanc...  "
      ]
     },
     "execution_count": 5,
     "metadata": {},
     "output_type": "execute_result"
    }
   ],
   "source": [
    "qpcr_data = pd.read_excel('terrestrial_deep_subsurface_arch_frac_data.xlsx','qPCR')\n",
    "qpcr_data.head()"
   ]
  },
  {
   "cell_type": "markdown",
   "metadata": {},
   "source": [
    "We calculate the geometric mean of the fraction of archaea out of the total population of bacteria and archea for each study:"
   ]
  },
  {
   "cell_type": "code",
   "execution_count": 6,
   "metadata": {},
   "outputs": [
    {
     "data": {
      "text/plain": [
       "Study\n",
       "Bomberg et al.   4.3e-02\n",
       "Purkamo et al.   1.5e-03\n",
       "Takai et al.     4.5e-02\n",
       "dtype: float64"
      ]
     },
     "execution_count": 6,
     "metadata": {},
     "output_type": "execute_result"
    }
   ],
   "source": [
    "qpcr_bin = qpcr_data.groupby('Study')\n",
    "\n",
    "qpcr_study_mean = qpcr_bin.apply(frac_geo_mean_groupby)\n",
    "qpcr_study_mean"
   ]
  },
  {
   "cell_type": "markdown",
   "metadata": {},
   "source": [
    "We calculate the geometric mean of the average fractions from each study:"
   ]
  },
  {
   "cell_type": "code",
   "execution_count": 7,
   "metadata": {},
   "outputs": [
    {
     "name": "stdout",
     "output_type": "stream",
     "text": [
      "The characteristic qPCR-based fraction of archaea out of the total population of bacteria and archaea in the terrestrial deep susurface is 1.5%\n"
     ]
    }
   ],
   "source": [
    "qpcr_mean = frac_mean(qpcr_study_mean)\n",
    "print('The characteristic qPCR-based fraction of archaea out of the total population of bacteria and archaea in the terrestrial deep susurface is ' + '{:,.1f}%'.format(qpcr_mean*100))"
   ]
  },
  {
   "cell_type": "markdown",
   "metadata": {},
   "source": [
    "Due to the scarcity of data in the terrestrial deep subsurface, we use as a third source of data our estimate for the fraction of archaea out of the total population of bacteria and archea in subseafloor sediments.\n",
    "\n",
    "Our best estimate for the fraction of archaea out of the total population of bacteria and archaea is the geometric mean of these three sources of data:"
   ]
  },
  {
   "cell_type": "code",
   "execution_count": 8,
   "metadata": {},
   "outputs": [
    {
     "name": "stdout",
     "output_type": "stream",
     "text": [
      "Our best estimate for the fraction of archaea out of the total population of bacteria and archaea in the terrestrial deep subsurface is 6%\n"
     ]
    }
   ],
   "source": [
    "# As a third data source we use our estimate for the fraction of archaea out of the total population of bacteria\n",
    "# and archaea in subseafloor sediments.\n",
    "subseafloor_sed_arch_frac = 0.35\n",
    "\n",
    "# Calculate the geometric mean of the three data sources\n",
    "best_estimate = frac_mean(np.array([qpcr_mean, seq_mean, subseafloor_sed_arch_frac]))\n",
    "\n",
    "print('Our best estimate for the fraction of archaea out of the total population of bacteria and archaea in the terrestrial deep subsurface is ' + '{:,.0f}%'.format(best_estimate*100))"
   ]
  },
  {
   "cell_type": "markdown",
   "metadata": {},
   "source": [
    "# Uncertainty analysis\n",
    "In order to assess the uncertainty associated with our estimate for the fraction of marine archaea out of the total population of bacteria and archaea in the terrestrial deep subsurface, we gather all possible indices of uncertainty. We compare the uncertainty of values within each one of the methods and the uncertainty stemming from the variability of the values provided by the two methods. \n",
    "\n",
    "## Intra-study uncertainty \n",
    "### 16S rDNA sequencing-based method\n",
    "We calculate the intra-study 95% confidence inteval for the geometric mean of the values for the fraction of archaea out of the total population of bacteria and archaea measured using 16S rDNA seuqencing."
   ]
  },
  {
   "cell_type": "code",
   "execution_count": 9,
   "metadata": {},
   "outputs": [
    {
     "name": "stdout",
     "output_type": "stream",
     "text": [
      "The intra-study uncertainty of the 16S rDNA sequencing-based estimate of the fraction of archaea out of the population of bacteria nad archaea are:\n",
      "Study\n",
      "Lau et al.            nan\n",
      "Osburn et al.     2.0e+00\n",
      "Rempfert et al.   2.4e+00\n",
      "Simkus et al.     3.0e+00\n",
      "dtype: float64\n",
      "The intra-study uncertainty of the 16S rDNA sequencing-based estimate of the fraction of bacteria out of the population of bacteria nad archaea are:\n",
      "Study\n",
      "Lau et al.            nan\n",
      "Osburn et al.     1.1e+00\n",
      "Rempfert et al.   1.0e+00\n",
      "Simkus et al.     1.0e+00\n",
      "dtype: float64\n"
     ]
    },
    {
     "name": "stderr",
     "output_type": "stream",
     "text": [
      "/usr/local/lib/python3.5/dist-packages/numpy/lib/function_base.py:4291: RuntimeWarning: Invalid value encountered in percentile\n",
      "  interpolation=interpolation)\n"
     ]
    }
   ],
   "source": [
    "seq_arc_CI = seq_bin.apply(frac_CI_groupby)\n",
    "\n",
    "seq_data_bac = seq_data.copy()\n",
    "seq_data_bac['Archaea fraction'] = 1.- seq_data_bac['Archaea fraction']\n",
    "seq_bin_bac = seq_data_bac.groupby('Study')\n",
    "seq_bac_CI = seq_bin_bac.apply(frac_CI_groupby)\n",
    "\n",
    "\n",
    "print('The intra-study uncertainty of the 16S rDNA sequencing-based estimate of the fraction of archaea out of the population of bacteria nad archaea are:')\n",
    "print(seq_arc_CI)\n",
    "print('The intra-study uncertainty of the 16S rDNA sequencing-based estimate of the fraction of bacteria out of the population of bacteria nad archaea are:')\n",
    "print(seq_bac_CI)"
   ]
  },
  {
   "cell_type": "markdown",
   "metadata": {},
   "source": [
    "### qPCR-based method\n",
    "We calculate the intra-study 95% confidence inteval for the geometric mean of the values for the fraction of archaea out of the total population of bacteria and archaea measured using qPCR."
   ]
  },
  {
   "cell_type": "code",
   "execution_count": 10,
   "metadata": {},
   "outputs": [
    {
     "name": "stdout",
     "output_type": "stream",
     "text": [
      "The intra-study uncertainty of the qPCR-based estimate of the fraction of archaea out of the population of bacteria nad archaea are:\n",
      "Study\n",
      "Bomberg et al.   3.7e+00\n",
      "Purkamo et al.   1.3e+01\n",
      "Takai et al.     1.7e+01\n",
      "dtype: float64\n",
      "The intra-study uncertainty of the qPCR-based estimate of the fraction of bacteria out of the population of bacteria nad archaea are:\n",
      "Study\n",
      "Bomberg et al.   1.1e+00\n",
      "Purkamo et al.   1.0e+00\n",
      "Takai et al.     1.6e+00\n",
      "dtype: float64\n"
     ]
    }
   ],
   "source": [
    "qpcr_arc_CI = qpcr_bin.apply(frac_CI_groupby)\n",
    "\n",
    "qpcr_data_bac = qpcr_data.copy()\n",
    "qpcr_data_bac['Archaea fraction'] = 1.- qpcr_data_bac['Archaea fraction']\n",
    "qpcr_bin_bac = qpcr_data_bac.groupby('Study')\n",
    "qpcr_bac_CI = qpcr_bin_bac.apply(frac_CI_groupby)\n",
    "\n",
    "\n",
    "print('The intra-study uncertainty of the qPCR-based estimate of the fraction of archaea out of the population of bacteria nad archaea are:')\n",
    "print(qpcr_arc_CI)\n",
    "print('The intra-study uncertainty of the qPCR-based estimate of the fraction of bacteria out of the population of bacteria nad archaea are:')\n",
    "print(qpcr_bac_CI)"
   ]
  },
  {
   "cell_type": "markdown",
   "metadata": {},
   "source": [
    "## Interstudy uncertainty \n",
    "### 16S rDNA sequencing-based method\n",
    "We calculate the interstudy 95% confidence inteval for the geometric mean of the average values from each study for the fraction of archaea out of the total population of bacteria and archaea measured using 16S rDNA sequencing."
   ]
  },
  {
   "cell_type": "code",
   "execution_count": 11,
   "metadata": {},
   "outputs": [
    {
     "name": "stdout",
     "output_type": "stream",
     "text": [
      "The interstudy uncertainty of the 16S rDNA sequencing-based estimate of the fraction of archaea out of the population of bacteria nad archaea is ≈1.8-fold\n",
      "The interstudy uncertainty of the 16S rDNA sequencing-based estimate of the fraction of bacteria out of the population of bacteria nad archaea is ≈1.0-fold\n"
     ]
    }
   ],
   "source": [
    "inter_seq_arc_CI = frac_CI(seq_study_mean)\n",
    "inter_seq_bac_CI = frac_CI(1-seq_study_mean)\n",
    "print('The interstudy uncertainty of the 16S rDNA sequencing-based estimate of the fraction of archaea out of the population of bacteria nad archaea is ≈%.1f-fold' % inter_seq_arc_CI)\n",
    "print('The interstudy uncertainty of the 16S rDNA sequencing-based estimate of the fraction of bacteria out of the population of bacteria nad archaea is ≈%.1f-fold' % inter_seq_bac_CI)"
   ]
  },
  {
   "cell_type": "markdown",
   "metadata": {},
   "source": [
    "### qPCR-based method\n",
    "We calculate the interstudy 95% confidence inteval for the geometric mean of the average values from each study for the fraction of archaea out of the total population of bacteria and archaea measured using qPCR."
   ]
  },
  {
   "cell_type": "code",
   "execution_count": 12,
   "metadata": {},
   "outputs": [
    {
     "name": "stdout",
     "output_type": "stream",
     "text": [
      "The interstudy uncertainty of the qPCR-based estimate of the fraction of archaea out of the population of bacteria nad archaea is ≈8.6-fold\n",
      "The interstudy uncertainty of the qPCR-based estimate of the fraction of bacteria out of the population of bacteria nad archaea is ≈1.1-fold\n"
     ]
    }
   ],
   "source": [
    "inter_qpcr_arc_CI = frac_CI(qpcr_study_mean)\n",
    "inter_qpcr_bac_CI = frac_CI(1-qpcr_study_mean)\n",
    "print('The interstudy uncertainty of the qPCR-based estimate of the fraction of archaea out of the population of bacteria nad archaea is ≈%.1f-fold' % inter_qpcr_arc_CI)\n",
    "print('The interstudy uncertainty of the qPCR-based estimate of the fraction of bacteria out of the population of bacteria nad archaea is ≈%.1f-fold' % inter_qpcr_bac_CI)"
   ]
  },
  {
   "cell_type": "markdown",
   "metadata": {},
   "source": [
    "## Inter-method uncertainty\n",
    "We calculate the interstudy 95% confidence inteval for the geometric mean of the estimates from the three different sources - the 16S rDNA sequencing-based estimate, the pPCR-based estiamte and the estimate for the fraction of archea out of the total population of bacteria and archaea in subseafloor sediments."
   ]
  },
  {
   "cell_type": "code",
   "execution_count": 13,
   "metadata": {},
   "outputs": [
    {
     "name": "stdout",
     "output_type": "stream",
     "text": [
      "The inter-method uncertainty of the estimate of the fraction of archaea out of the population of bacteria nad archaea is ≈7.3-fold\n",
      "The inter-method uncertainty of the estimate of the fraction of bacteria out of the population of bacteria nad archaea is ≈1.3-fold\n"
     ]
    }
   ],
   "source": [
    "inter_method_arc_CI = frac_CI(np.array([seq_mean,qpcr_mean,subseafloor_sed_arch_frac]))\n",
    "inter_method_bac_CI = frac_CI(1-np.array([seq_mean,qpcr_mean,subseafloor_sed_arch_frac]))\n",
    "print('The inter-method uncertainty of the estimate of the fraction of archaea out of the population of bacteria nad archaea is ≈%.1f-fold' % inter_method_arc_CI)\n",
    "print('The inter-method uncertainty of the estimate of the fraction of bacteria out of the population of bacteria nad archaea is ≈%.1f-fold' % inter_method_bac_CI)"
   ]
  },
  {
   "cell_type": "markdown",
   "metadata": {},
   "source": [
    "As our best estimates for the uncertainty associated with the fraction of archaea and bacteria out of the total population of terrestrial deep subsurface bacteria and archaea, we use the highest uncertainty out of the available set pf uncertainties we collected.\n",
    "\n",
    "The highest uncertainty for the fraction of archaea is the intra-study uncertainty of the Takai et al. study, which is ≈20-fold. Similarly, the highest uncertainty for the fraction of bacteria is intra-study uncertainty of the Takai et al. study, which is ≈1.5-fold.\n",
    "\n",
    "Our final parameters are:"
   ]
  },
  {
   "cell_type": "code",
   "execution_count": 14,
   "metadata": {},
   "outputs": [
    {
     "name": "stdout",
     "output_type": "stream",
     "text": [
      "Fraction of archaea out of the total population of terrestrial deep subsurface bacteria and archaea: 6 percent\n",
      "Fraction of bacteria out of the total population of terrestrial deep subsurface bacteria and archaea: 94 percent\n",
      "Uncertainty associated with the fraction of marine archaea: 17.5-fold\n",
      "Uncertainty associated with the fraction of marine bacteria: 1.6-fold\n"
     ]
    }
   ],
   "source": [
    "# Take the maximum uncertainty as our best projection of uncertainty\n",
    "arc_mul_CI = np.max([seq_arc_CI.max(),qpcr_arc_CI.max(),inter_seq_arc_CI,inter_method_arc_CI])\n",
    "bac_mul_CI = np.max([seq_bac_CI.max(),qpcr_bac_CI.max(),inter_seq_bac_CI,inter_qpcr_bac_CI,inter_method_bac_CI])\n",
    "\n",
    "print('Fraction of archaea out of the total population of terrestrial deep subsurface bacteria and archaea: %.0f percent' %(best_estimate*100))\n",
    "print('Fraction of bacteria out of the total population of terrestrial deep subsurface bacteria and archaea: %.0f percent' %(100.-best_estimate*100))\n",
    "print('Uncertainty associated with the fraction of marine archaea: %.1f-fold' % arc_mul_CI)\n",
    "print('Uncertainty associated with the fraction of marine bacteria: %.1f-fold' % bac_mul_CI)\n",
    "\n",
    "old_results = pd.read_excel('../terrestrial_deep_subsurface_prok_biomass_estimate.xlsx')\n",
    "result = old_results.copy()\n",
    "\n",
    "if (result.shape[0]==0):\n",
    "    result = pd.DataFrame(index= range(1), columns=['Parameter','Value','Units','Uncertainty'])\n",
    "\n",
    "result.loc[1] = pd.Series({\n",
    "                'Parameter': 'Fraction of archaea',\n",
    "                'Value': \"{0:.2f}\".format(best_estimate),\n",
    "                'Units': 'Unitless',\n",
    "                'Uncertainty': \"{0:.1f}\".format(arc_mul_CI)\n",
    "                })\n",
    "\n",
    "result.loc[2] = pd.Series({\n",
    "                'Parameter': 'Fraction of bacteria',\n",
    "                'Value': \"{0:.2f}\".format(1.0 - best_estimate),\n",
    "                'Units': 'Unitless',\n",
    "                'Uncertainty': \"{0:.1f}\".format(bac_mul_CI)\n",
    "                })\n",
    "\n",
    "\n",
    "result.to_excel('../terrestrial_deep_subsurface_prok_biomass_estimate.xlsx',index=False)"
   ]
  }
 ],
 "metadata": {
  "kernelspec": {
   "display_name": "Python 3",
   "language": "python",
   "name": "python3"
  },
  "language_info": {
   "codemirror_mode": {
    "name": "ipython",
    "version": 3
   },
   "file_extension": ".py",
   "mimetype": "text/x-python",
   "name": "python",
   "nbconvert_exporter": "python",
   "pygments_lexer": "ipython3",
   "version": "3.5.2"
  }
 },
 "nbformat": 4,
 "nbformat_minor": 2
}
