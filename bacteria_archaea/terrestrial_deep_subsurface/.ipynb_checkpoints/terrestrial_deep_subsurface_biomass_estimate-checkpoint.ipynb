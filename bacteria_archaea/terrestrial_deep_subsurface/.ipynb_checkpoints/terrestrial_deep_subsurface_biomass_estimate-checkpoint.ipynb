{
 "cells": [
  {
   "cell_type": "code",
   "execution_count": 1,
   "metadata": {
    "collapsed": true
   },
   "outputs": [],
   "source": [
    "# Load dependencies\n",
    "import numpy as np\n",
    "import pandas as pd\n",
    "pd.options.display.float_format = '{:,.1e}'.format\n",
    "import sys\n",
    "sys.path.insert(0, '../../statistics_helper')\n",
    "from CI_helper import *\n",
    "from excel_utils import *"
   ]
  },
  {
   "cell_type": "markdown",
   "metadata": {},
   "source": [
    "# Estimating the total biomass of terrestrial deep subsurface archaea and bacteria\n",
    "\n",
    "We use our best estimates for the total biomass of terrestrial deep subsurface prokaryotes and the fraction of archaea and bacteria out of the total population of terrestrial deep subsurface prokaryotes to estimate the total biomass of terrestrial deep subsurface bacteria and archaea."
   ]
  },
  {
   "cell_type": "code",
   "execution_count": 2,
   "metadata": {},
   "outputs": [
    {
     "data": {
      "text/html": [
       "<div>\n",
       "<style scoped>\n",
       "    .dataframe tbody tr th:only-of-type {\n",
       "        vertical-align: middle;\n",
       "    }\n",
       "\n",
       "    .dataframe tbody tr th {\n",
       "        vertical-align: top;\n",
       "    }\n",
       "\n",
       "    .dataframe thead th {\n",
       "        text-align: right;\n",
       "    }\n",
       "</style>\n",
       "<table border=\"1\" class=\"dataframe\">\n",
       "  <thead>\n",
       "    <tr style=\"text-align: right;\">\n",
       "      <th></th>\n",
       "      <th>Parameter</th>\n",
       "      <th>Value</th>\n",
       "      <th>Units</th>\n",
       "      <th>Uncertainty</th>\n",
       "    </tr>\n",
       "  </thead>\n",
       "  <tbody>\n",
       "    <tr>\n",
       "      <th>0</th>\n",
       "      <td>Total biomass of bacteria and archaea in the t...</td>\n",
       "      <td>6.2e+16</td>\n",
       "      <td>g C</td>\n",
       "      <td>2.0e+01</td>\n",
       "    </tr>\n",
       "    <tr>\n",
       "      <th>1</th>\n",
       "      <td>Fraction of archaea</td>\n",
       "      <td>6.0e-02</td>\n",
       "      <td>Unitless</td>\n",
       "      <td>1.5e+01</td>\n",
       "    </tr>\n",
       "    <tr>\n",
       "      <th>2</th>\n",
       "      <td>Fraction of bacteria</td>\n",
       "      <td>9.4e-01</td>\n",
       "      <td>Unitless</td>\n",
       "      <td>1.4e+00</td>\n",
       "    </tr>\n",
       "    <tr>\n",
       "      <th>3</th>\n",
       "      <td>Carbon content of a single cell</td>\n",
       "      <td>2.6e-14</td>\n",
       "      <td>g C</td>\n",
       "      <td>nan</td>\n",
       "    </tr>\n",
       "  </tbody>\n",
       "</table>\n",
       "</div>"
      ],
      "text/plain": [
       "                                           Parameter   Value     Units  \\\n",
       "0  Total biomass of bacteria and archaea in the t... 6.2e+16       g C   \n",
       "1                                Fraction of archaea 6.0e-02  Unitless   \n",
       "2                               Fraction of bacteria 9.4e-01  Unitless   \n",
       "3                    Carbon content of a single cell 2.6e-14       g C   \n",
       "\n",
       "   Uncertainty  \n",
       "0      2.0e+01  \n",
       "1      1.5e+01  \n",
       "2      1.4e+00  \n",
       "3          nan  "
      ]
     },
     "execution_count": 2,
     "metadata": {},
     "output_type": "execute_result"
    }
   ],
   "source": [
    "import numpy as np\n",
    "import pandas as pd\n",
    "pd.options.display.float_format = '{:,.1e}'.format\n",
    "import sys\n",
    "sys.path.insert(0, '../../statistics_helper')\n",
    "from CI_helper import *\n",
    "results = pd.read_excel('terrestrial_deep_subsurface_prok_biomass_estimate.xlsx')\n",
    "results"
   ]
  },
  {
   "cell_type": "markdown",
   "metadata": {},
   "source": [
    "We multiply all the relevant parameters to arrive at our best estimate for the biomass of terrestrial deep subsurface archaea and bacteria, and propagate the uncertainties associated with each parameter to calculate the uncertainty associated with the estimate for the total biomass."
   ]
  },
  {
   "cell_type": "code",
   "execution_count": 3,
   "metadata": {},
   "outputs": [
    {
     "name": "stdout",
     "output_type": "stream",
     "text": [
      "Our best estimate for the total biomass of terrestrial deep subsurface archaea is 4 Gt C\n",
      "Our best estimate for the total biomass of terrestrial deep subsurface bacteria is 58 Gt C\n",
      "The uncertainty associated with the estimate for the biomass of archaea is 55.7-fold\n",
      "The uncertainty associated with the estimate for the biomass of bacteria is 20.4-fold\n"
     ]
    }
   ],
   "source": [
    "# Calculate the total biomass of marine archaea and bacteria\n",
    "total_arch_biomass = results['Value'][0]*results['Value'][1]\n",
    "total_bac_biomass = results['Value'][0]*results['Value'][2]\n",
    "\n",
    "print('Our best estimate for the total biomass of terrestrial deep subsurface archaea is %.0f Gt C' %(total_arch_biomass/1e15))\n",
    "print('Our best estimate for the total biomass of terrestrial deep subsurface bacteria is %.0f Gt C' %(total_bac_biomass/1e15))\n",
    "\n",
    "# Propagate the uncertainty associated with each parameter to the final estimate\n",
    "\n",
    "arch_biomass_uncertainty = CI_prod_prop(results['Uncertainty'][:2])\n",
    "bac_biomass_uncertainty = CI_prod_prop(results.iloc[[0,2]]['Uncertainty'])\n",
    "\n",
    "print('The uncertainty associated with the estimate for the biomass of archaea is %.1f-fold' %arch_biomass_uncertainty)\n",
    "print('The uncertainty associated with the estimate for the biomass of bacteria is %.1f-fold' %bac_biomass_uncertainty)"
   ]
  },
  {
   "cell_type": "code",
   "execution_count": 4,
   "metadata": {},
   "outputs": [
    {
     "name": "stderr",
     "output_type": "stream",
     "text": [
      "/usr/local/lib/python3.5/dist-packages/ipykernel/ipkernel.py:196: PerformanceWarning: indexing past lexsort depth may impact performance.\n",
      "  res = shell.run_cell(code, store_history=store_history, silent=silent)\n",
      "/usr/local/lib/python3.5/dist-packages/IPython/core/interactiveshell.py:2683: PerformanceWarning: indexing past lexsort depth may impact performance.\n",
      "  interactivity=interactivity, compiler=compiler, result=result)\n"
     ]
    }
   ],
   "source": [
    "# Feed bacteria results to Table 1 & Fig. 1\n",
    "update_results(sheet='Table1 & Fig1', \n",
    "               row=('Bacteria','Terrestrial deep subsurface'), \n",
    "               col=['Biomass [Gt C]', 'Uncertainty'],\n",
    "               values=[total_bac_biomass/1e15,bac_biomass_uncertainty],\n",
    "               path='../../results.xlsx')\n",
    "\n",
    "# Feed archaea results to Table 1 & Fig. 1\n",
    "update_results(sheet='Table1 & Fig1', \n",
    "               row=('Archaea','Terrestrial deep subsurface'), \n",
    "               col=['Biomass [Gt C]', 'Uncertainty'],\n",
    "               values=[total_arch_biomass/1e15,arch_biomass_uncertainty],\n",
    "               path='../../results.xlsx')\n",
    "\n",
    "# Feed bacteria results to Table S1\n",
    "update_results(sheet='Table S1', \n",
    "               row=('Bacteria','Terrestrial deep subsurface'), \n",
    "               col=['Number of individuals'],\n",
    "               values= results['Value'][0]*results['Value'][2]/results['Value'][3],\n",
    "               path='../../results.xlsx')\n",
    "\n",
    "# Feed archaea results to Table S1\n",
    "update_results(sheet='Table S1', \n",
    "               row=('Archaea','Terrestrial deep subsurface'), \n",
    "               col=['Number of individuals'],\n",
    "               values= results['Value'][0]*results['Value'][1]/results['Value'][3],\n",
    "               path='../../results.xlsx')"
   ]
  }
 ],
 "metadata": {
  "kernelspec": {
   "display_name": "Python 3",
   "language": "python",
   "name": "python3"
  },
  "language_info": {
   "codemirror_mode": {
    "name": "ipython",
    "version": 3
   },
   "file_extension": ".py",
   "mimetype": "text/x-python",
   "name": "python",
   "nbconvert_exporter": "python",
   "pygments_lexer": "ipython3",
   "version": "3.5.2"
  }
 },
 "nbformat": 4,
 "nbformat_minor": 2
}
