{
 "cells": [
  {
   "cell_type": "markdown",
   "metadata": {},
   "source": [
    "# Estimating the fraction of marine archaea out of the total marine prokaryote population"
   ]
  },
  {
   "cell_type": "markdown",
   "metadata": {},
   "source": [
    "In order to estimate the fraction of archaea out of the total population of marine bacteria and archaea, we rely of two independent methods: fluorescent in-situ hybridization (FISH) and 16S rDNA sequencing. For each one of the methods, we calculate the fraction of archaea out of the total population of marine bacteria and archaea in the three depth layers of the ocean - the epieplagic (< 200 meters depth), the mesopelagic (200-1000 meters depth) and bathypelagic (1000-4000 meters depth).\n",
    "\n",
    "### FISH based estimate\n",
    "For our FISH based estimate we rely on data from [Lloyd et al.](http://dx.doi.org/10.1128/AEM.02090-13). Here is a sample of the data:"
   ]
  },
  {
   "cell_type": "code",
   "execution_count": 1,
   "metadata": {},
   "outputs": [
    {
     "data": {
      "text/html": [
       "<div>\n",
       "<style scoped>\n",
       "    .dataframe tbody tr th:only-of-type {\n",
       "        vertical-align: middle;\n",
       "    }\n",
       "\n",
       "    .dataframe tbody tr th {\n",
       "        vertical-align: top;\n",
       "    }\n",
       "\n",
       "    .dataframe thead th {\n",
       "        text-align: right;\n",
       "    }\n",
       "</style>\n",
       "<table border=\"1\" class=\"dataframe\">\n",
       "  <thead>\n",
       "    <tr style=\"text-align: right;\">\n",
       "      <th></th>\n",
       "      <th>paper</th>\n",
       "      <th>Sample</th>\n",
       "      <th>Water Depth (m)</th>\n",
       "      <th>Cells per cc</th>\n",
       "      <th>CARDFISH Bac per cc</th>\n",
       "      <th>CARDFISH Arc per cc</th>\n",
       "      <th>CARDFISH Total per cc</th>\n",
       "      <th>FISH yield</th>\n",
       "      <th>Fraction Arc CARDFISH</th>\n",
       "      <th>Fish or cardFish</th>\n",
       "      <th>...</th>\n",
       "      <th>Fixative</th>\n",
       "      <th>Bac permeabilization</th>\n",
       "      <th>Arc permeabilization</th>\n",
       "      <th>Bac probe</th>\n",
       "      <th>Arc probe</th>\n",
       "      <th>Counting method</th>\n",
       "      <th>qPCR-Bacteria (copies/mL water)</th>\n",
       "      <th>qPCR-Archaea (copies/mL water)</th>\n",
       "      <th>qPCR-MCG (copies/mL water)</th>\n",
       "      <th>Total qPCR(copies/mL water)</th>\n",
       "    </tr>\n",
       "  </thead>\n",
       "  <tbody>\n",
       "    <tr>\n",
       "      <th>0</th>\n",
       "      <td>Al Ali 2009</td>\n",
       "      <td>La Seyne-sur-Mer, French Mediterranean coast</td>\n",
       "      <td>2.5e+01</td>\n",
       "      <td>1.0e+06</td>\n",
       "      <td>7.5e+05</td>\n",
       "      <td>9.2e+04</td>\n",
       "      <td>8.4e+05</td>\n",
       "      <td>8.3e-01</td>\n",
       "      <td>1.1e-01</td>\n",
       "      <td>CARDFISH</td>\n",
       "      <td>...</td>\n",
       "      <td>formaldehyde</td>\n",
       "      <td>lysozyme/achromopeptidase</td>\n",
       "      <td>proteinase K</td>\n",
       "      <td>EUB338</td>\n",
       "      <td>ARCH915</td>\n",
       "      <td>Microscope-eye</td>\n",
       "      <td>nan</td>\n",
       "      <td>nan</td>\n",
       "      <td>nan</td>\n",
       "      <td>nan</td>\n",
       "    </tr>\n",
       "    <tr>\n",
       "      <th>1</th>\n",
       "      <td>Al Ali 2009</td>\n",
       "      <td>La Seyne-sur-Mer, French Mediterranean coast</td>\n",
       "      <td>1.0e+02</td>\n",
       "      <td>7.1e+05</td>\n",
       "      <td>4.3e+05</td>\n",
       "      <td>1.1e+05</td>\n",
       "      <td>5.5e+05</td>\n",
       "      <td>7.8e-01</td>\n",
       "      <td>2.1e-01</td>\n",
       "      <td>CARDFISH</td>\n",
       "      <td>...</td>\n",
       "      <td>formaldehyde</td>\n",
       "      <td>lysozyme/achromopeptidase</td>\n",
       "      <td>proteinase K</td>\n",
       "      <td>EUB338</td>\n",
       "      <td>ARCH915</td>\n",
       "      <td>Microscope-eye</td>\n",
       "      <td>nan</td>\n",
       "      <td>nan</td>\n",
       "      <td>nan</td>\n",
       "      <td>nan</td>\n",
       "    </tr>\n",
       "    <tr>\n",
       "      <th>2</th>\n",
       "      <td>Al Ali 2009</td>\n",
       "      <td>La Seyne-sur-Mer, French Mediterranean coast</td>\n",
       "      <td>5.0e+02</td>\n",
       "      <td>1.0e+05</td>\n",
       "      <td>5.3e+04</td>\n",
       "      <td>2.8e+04</td>\n",
       "      <td>8.1e+04</td>\n",
       "      <td>7.9e-01</td>\n",
       "      <td>3.4e-01</td>\n",
       "      <td>CARDFISH</td>\n",
       "      <td>...</td>\n",
       "      <td>formaldehyde</td>\n",
       "      <td>lysozyme/achromopeptidase</td>\n",
       "      <td>proteinase K</td>\n",
       "      <td>EUB338</td>\n",
       "      <td>ARCH915</td>\n",
       "      <td>Microscope-eye</td>\n",
       "      <td>nan</td>\n",
       "      <td>nan</td>\n",
       "      <td>nan</td>\n",
       "      <td>nan</td>\n",
       "    </tr>\n",
       "    <tr>\n",
       "      <th>3</th>\n",
       "      <td>Al Ali 2009</td>\n",
       "      <td>La Seyne-sur-Mer, French Mediterranean coast</td>\n",
       "      <td>1.0e+03</td>\n",
       "      <td>6.9e+04</td>\n",
       "      <td>3.3e+04</td>\n",
       "      <td>2.1e+04</td>\n",
       "      <td>5.4e+04</td>\n",
       "      <td>7.8e-01</td>\n",
       "      <td>3.9e-01</td>\n",
       "      <td>CARDFISH</td>\n",
       "      <td>...</td>\n",
       "      <td>formaldehyde</td>\n",
       "      <td>lysozyme/achromopeptidase</td>\n",
       "      <td>proteinase K</td>\n",
       "      <td>EUB338</td>\n",
       "      <td>ARCH915</td>\n",
       "      <td>Microscope-eye</td>\n",
       "      <td>nan</td>\n",
       "      <td>nan</td>\n",
       "      <td>nan</td>\n",
       "      <td>nan</td>\n",
       "    </tr>\n",
       "    <tr>\n",
       "      <th>4</th>\n",
       "      <td>Al Ali 2009</td>\n",
       "      <td>La Seyne-sur-Mer, French Mediterranean coast</td>\n",
       "      <td>1.8e+03</td>\n",
       "      <td>6.4e+04</td>\n",
       "      <td>2.6e+04</td>\n",
       "      <td>2.0e+04</td>\n",
       "      <td>4.7e+04</td>\n",
       "      <td>7.3e-01</td>\n",
       "      <td>4.4e-01</td>\n",
       "      <td>CARDFISH</td>\n",
       "      <td>...</td>\n",
       "      <td>formaldehyde</td>\n",
       "      <td>lysozyme/achromopeptidase</td>\n",
       "      <td>proteinase K</td>\n",
       "      <td>EUB338</td>\n",
       "      <td>ARCH915</td>\n",
       "      <td>Microscope-eye</td>\n",
       "      <td>nan</td>\n",
       "      <td>nan</td>\n",
       "      <td>nan</td>\n",
       "      <td>nan</td>\n",
       "    </tr>\n",
       "  </tbody>\n",
       "</table>\n",
       "<p>5 rows × 21 columns</p>\n",
       "</div>"
      ],
      "text/plain": [
       "         paper                                        Sample  Water Depth (m)  \\\n",
       "0  Al Ali 2009  La Seyne-sur-Mer, French Mediterranean coast          2.5e+01   \n",
       "1  Al Ali 2009  La Seyne-sur-Mer, French Mediterranean coast          1.0e+02   \n",
       "2  Al Ali 2009  La Seyne-sur-Mer, French Mediterranean coast          5.0e+02   \n",
       "3  Al Ali 2009  La Seyne-sur-Mer, French Mediterranean coast          1.0e+03   \n",
       "4  Al Ali 2009  La Seyne-sur-Mer, French Mediterranean coast          1.8e+03   \n",
       "\n",
       "   Cells per cc  CARDFISH Bac per cc  CARDFISH Arc per cc  \\\n",
       "0       1.0e+06              7.5e+05              9.2e+04   \n",
       "1       7.1e+05              4.3e+05              1.1e+05   \n",
       "2       1.0e+05              5.3e+04              2.8e+04   \n",
       "3       6.9e+04              3.3e+04              2.1e+04   \n",
       "4       6.4e+04              2.6e+04              2.0e+04   \n",
       "\n",
       "   CARDFISH Total per cc  FISH yield  Fraction Arc CARDFISH Fish or cardFish  \\\n",
       "0                8.4e+05     8.3e-01                1.1e-01         CARDFISH   \n",
       "1                5.5e+05     7.8e-01                2.1e-01         CARDFISH   \n",
       "2                8.1e+04     7.9e-01                3.4e-01         CARDFISH   \n",
       "3                5.4e+04     7.8e-01                3.9e-01         CARDFISH   \n",
       "4                4.7e+04     7.3e-01                4.4e-01         CARDFISH   \n",
       "\n",
       "              ...                   Fixative       Bac permeabilization  \\\n",
       "0             ...               formaldehyde  lysozyme/achromopeptidase   \n",
       "1             ...               formaldehyde  lysozyme/achromopeptidase   \n",
       "2             ...               formaldehyde  lysozyme/achromopeptidase   \n",
       "3             ...               formaldehyde  lysozyme/achromopeptidase   \n",
       "4             ...               formaldehyde  lysozyme/achromopeptidase   \n",
       "\n",
       "  Arc permeabilization Bac probe Arc probe Counting method  \\\n",
       "0         proteinase K    EUB338   ARCH915  Microscope-eye   \n",
       "1         proteinase K    EUB338   ARCH915  Microscope-eye   \n",
       "2         proteinase K    EUB338   ARCH915  Microscope-eye   \n",
       "3         proteinase K    EUB338   ARCH915  Microscope-eye   \n",
       "4         proteinase K    EUB338   ARCH915  Microscope-eye   \n",
       "\n",
       "  qPCR-Bacteria (copies/mL water)  qPCR-Archaea (copies/mL water)  \\\n",
       "0                             nan                             nan   \n",
       "1                             nan                             nan   \n",
       "2                             nan                             nan   \n",
       "3                             nan                             nan   \n",
       "4                             nan                             nan   \n",
       "\n",
       "   qPCR-MCG (copies/mL water)  Total qPCR(copies/mL water)  \n",
       "0                         nan                          nan  \n",
       "1                         nan                          nan  \n",
       "2                         nan                          nan  \n",
       "3                         nan                          nan  \n",
       "4                         nan                          nan  \n",
       "\n",
       "[5 rows x 21 columns]"
      ]
     },
     "execution_count": 1,
     "metadata": {},
     "output_type": "execute_result"
    }
   ],
   "source": [
    "import pandas as pd\n",
    "import numpy as np\n",
    "import sys\n",
    "sys.path.insert(0, '../../../statistics_helper')\n",
    "from fraction_helper import *\n",
    "pd.options.display.float_format = '{:,.1e}'.format\n",
    "# Genaral parameters used in the estimate\n",
    "ocean_area = 3.6e14\n",
    "liters_in_m3 = 1e3\n",
    "ml_in_m3 = 1e6\n",
    "\n",
    "# Load the dataset\n",
    "lloyd = pd.read_excel('marine_arch_frac_data.xlsx','Lloyd')\n",
    "lloyd.head()"
   ]
  },
  {
   "cell_type": "markdown",
   "metadata": {},
   "source": [
    "The data in Lloyd et al. contains estimates for the number of bacteria and archaea. Lloyd et al. generated regression equations for the concentration of bacteria and archaea as a function of depth. We use these equations to estimate the total number of archaea and bacteria at each of the three depth layers."
   ]
  },
  {
   "cell_type": "code",
   "execution_count": 2,
   "metadata": {},
   "outputs": [
    {
     "name": "stdout",
     "output_type": "stream",
     "text": [
      "The fraction of archaea in the epipelagic layer based on FISH is 5.8 percent\n",
      "The fraction of archaea in the mesopelagic layer based on FISH is 24.0 percent\n",
      "The fraction of archaea in the bathypelagic layer based on FISH is 34.9 percent\n"
     ]
    }
   ],
   "source": [
    "# Define the regression equation for the number of bacteria in the top 64 m:\n",
    "def bac_surf(depth):\n",
    "    result = np.zeros_like(depth)\n",
    "    for i,x in enumerate(depth):\n",
    "        if x==0 :\n",
    "            result[i] = 5.54\n",
    "            \n",
    "        else:\n",
    "            result[i] = np.log10(x)*0.08+5.54\n",
    "    return 10**result\n",
    "\n",
    "# Define the regression equation for the number of bacteria in water deeper than 64 m:\n",
    "bac_deep = lambda x: 10**(np.log10(x)*-1.09+7.66)\n",
    "\n",
    "# Define the regression equation for the number of archaea in the top 389 m:\n",
    "def arch_surf(depth):\n",
    "    result = np.zeros_like(depth)\n",
    "    for i,x in enumerate(depth):\n",
    "        if x==0 :\n",
    "            result[i] = 4.1\n",
    "            \n",
    "        else:\n",
    "            result[i] = np.log10(x)*0.1+4.1\n",
    "    return 10**result\n",
    "\n",
    "# Define the regression equation for the number of bacteria in water below 389 m:\n",
    "arch_deep = lambda x: 10**(np.log10(x)*-0.8+6.43)\n",
    "\n",
    "# Estimate the total number of bacteria and archaea in the epipelagic layer by first estimating the concentration using the \n",
    "# regression equation, multiplying by the volume at each depth, which is 1 m^3 times the surface\n",
    "# Area of the ocean, and finally summing across different depths\n",
    "total_bac_epi = (bac_surf(np.linspace(0,64,65))*ml_in_m3*ocean_area).sum() + (bac_deep(np.linspace(65,200,200-65+1))*ml_in_m3*ocean_area).sum()\n",
    "total_arch_epi = (arch_surf(np.linspace(0,200,201))*ml_in_m3*ocean_area).sum()\n",
    "\n",
    "# Calculate the fraction of archaea in the epipelagic layer\n",
    "FISH_arch_frac_epi = total_arch_epi/(total_arch_epi+total_bac_epi)\n",
    "\n",
    "\n",
    "# We repeat the same procedure for the total number of bacteria and archaea in the mesopelagic layer\n",
    "# Number of archaea\n",
    "total_bac_meso = (bac_deep(np.linspace(201,1000,1000-200+1))*ml_in_m3*ocean_area).sum()\n",
    "total_arch_meso = (arch_surf(np.linspace(201,389,390-201+1))*ml_in_m3*ocean_area).sum() + (arch_deep(np.linspace(390,1000,1000-390+1))*ml_in_m3*ocean_area).sum()\n",
    "\n",
    "# Calculate the fraction of archaea in the mesopelagic layer\n",
    "FISH_arch_frac_meso = total_arch_meso/(total_arch_meso+total_bac_meso)\n",
    "\n",
    "# We repeat the same procedure for the total number of bacteria and archaea in the mesopelagic layer\n",
    "# Number of archaea\n",
    "total_bac_bathy = (bac_deep(np.linspace(1001,4000,4000-1001+1))*ml_in_m3*ocean_area).sum()\n",
    "total_arch_bathy = (arch_deep(np.linspace(1001,4000,4000-1001+1))*ml_in_m3*ocean_area).sum()\n",
    "\n",
    "# Calculate the fraction of archaea in the bathypelagic layer\n",
    "FISH_arch_frac_bathy = total_arch_bathy/(total_arch_bathy+total_bac_bathy)\n",
    "\n",
    "print('The fraction of archaea in the epipelagic layer based on FISH is %.1f percent' % (FISH_arch_frac_epi*100))\n",
    "print('The fraction of archaea in the mesopelagic layer based on FISH is %.1f percent' % (FISH_arch_frac_meso*100))\n",
    "print('The fraction of archaea in the bathypelagic layer based on FISH is %.1f percent' % (FISH_arch_frac_bathy*100))"
   ]
  },
  {
   "cell_type": "markdown",
   "metadata": {},
   "source": [
    "### 16S rDNA sequencing\n",
    "\n",
    "To estimate the fraction of archaea out of the total population of marine bacteria and archaea, we rely on data from [Sunagawa et al.](http://science.sciencemag.org/content/348/6237/1261359) for the epipelagic and mesopelagic layers, and data from [Salazar et al.](http://dx.doi.org/10.1038/ismej.2015.137) for the bathypelagic layer."
   ]
  },
  {
   "cell_type": "code",
   "execution_count": 3,
   "metadata": {
    "collapsed": true
   },
   "outputs": [],
   "source": [
    "sunagawa = pd.read_excel('marine_arch_frac_data.xlsx','Sunagawa')\n",
    "salazar = pd.read_excel('marine_arch_frac_data.xlsx','Salazar')"
   ]
  },
  {
   "cell_type": "markdown",
   "metadata": {},
   "source": [
    "Here are samples from the data in Sunagawa et al.:"
   ]
  },
  {
   "cell_type": "code",
   "execution_count": 4,
   "metadata": {},
   "outputs": [
    {
     "data": {
      "text/html": [
       "<div>\n",
       "<style scoped>\n",
       "    .dataframe tbody tr th:only-of-type {\n",
       "        vertical-align: middle;\n",
       "    }\n",
       "\n",
       "    .dataframe tbody tr th {\n",
       "        vertical-align: top;\n",
       "    }\n",
       "\n",
       "    .dataframe thead th {\n",
       "        text-align: right;\n",
       "    }\n",
       "</style>\n",
       "<table border=\"1\" class=\"dataframe\">\n",
       "  <thead>\n",
       "    <tr style=\"text-align: right;\">\n",
       "      <th></th>\n",
       "      <th>Thaumarcheota</th>\n",
       "      <th>Euryarchaeota</th>\n",
       "      <th>Remarks</th>\n",
       "    </tr>\n",
       "  </thead>\n",
       "  <tbody>\n",
       "    <tr>\n",
       "      <th>SRF</th>\n",
       "      <td>6.2e-01</td>\n",
       "      <td>2.7e+00</td>\n",
       "      <td>Data extracted from figure 2 of Sunagawa et al.</td>\n",
       "    </tr>\n",
       "    <tr>\n",
       "      <th>DCM</th>\n",
       "      <td>1.4e+00</td>\n",
       "      <td>4.1e+00</td>\n",
       "      <td>NaN</td>\n",
       "    </tr>\n",
       "    <tr>\n",
       "      <th>MESO</th>\n",
       "      <td>1.1e+01</td>\n",
       "      <td>2.9e+00</td>\n",
       "      <td>NaN</td>\n",
       "    </tr>\n",
       "  </tbody>\n",
       "</table>\n",
       "</div>"
      ],
      "text/plain": [
       "      Thaumarcheota  Euryarchaeota  \\\n",
       "SRF         6.2e-01        2.7e+00   \n",
       "DCM         1.4e+00        4.1e+00   \n",
       "MESO        1.1e+01        2.9e+00   \n",
       "\n",
       "                                              Remarks  \n",
       "SRF   Data extracted from figure 2 of Sunagawa et al.  \n",
       "DCM                                               NaN  \n",
       "MESO                                              NaN  "
      ]
     },
     "execution_count": 4,
     "metadata": {},
     "output_type": "execute_result"
    }
   ],
   "source": [
    "sunagawa.head()"
   ]
  },
  {
   "cell_type": "markdown",
   "metadata": {},
   "source": [
    "Here are samples from the data in Salazar et al.:"
   ]
  },
  {
   "cell_type": "code",
   "execution_count": 5,
   "metadata": {},
   "outputs": [
    {
     "data": {
      "text/html": [
       "<div>\n",
       "<style scoped>\n",
       "    .dataframe tbody tr th:only-of-type {\n",
       "        vertical-align: middle;\n",
       "    }\n",
       "\n",
       "    .dataframe tbody tr th {\n",
       "        vertical-align: top;\n",
       "    }\n",
       "\n",
       "    .dataframe thead th {\n",
       "        text-align: right;\n",
       "    }\n",
       "</style>\n",
       "<table border=\"1\" class=\"dataframe\">\n",
       "  <thead>\n",
       "    <tr style=\"text-align: right;\">\n",
       "      <th></th>\n",
       "      <th>sample</th>\n",
       "      <th>station</th>\n",
       "      <th>filtersize</th>\n",
       "      <th>Date</th>\n",
       "      <th>Ocean</th>\n",
       "      <th>code</th>\n",
       "      <th>Depth</th>\n",
       "      <th>Longitude</th>\n",
       "      <th>Latitude</th>\n",
       "      <th>Unnamed: 9</th>\n",
       "      <th>Unnamed: 10</th>\n",
       "      <th>Archaea</th>\n",
       "      <th>Bacteria</th>\n",
       "      <th>No blast hit</th>\n",
       "    </tr>\n",
       "  </thead>\n",
       "  <tbody>\n",
       "    <tr>\n",
       "      <th>0</th>\n",
       "      <td>MP0145</td>\n",
       "      <td>10</td>\n",
       "      <td>2.0e-01</td>\n",
       "      <td>2010-12-26</td>\n",
       "      <td>North Atlantic</td>\n",
       "      <td>MP0145</td>\n",
       "      <td>-4002</td>\n",
       "      <td>-2.6e+01</td>\n",
       "      <td>1.5e+01</td>\n",
       "      <td>nan</td>\n",
       "      <td>MP0145</td>\n",
       "      <td>3.1e-01</td>\n",
       "      <td>6.9e-01</td>\n",
       "      <td>9.4e-05</td>\n",
       "    </tr>\n",
       "    <tr>\n",
       "      <th>1</th>\n",
       "      <td>MP0262</td>\n",
       "      <td>17</td>\n",
       "      <td>2.0e-01</td>\n",
       "      <td>2011-01-02</td>\n",
       "      <td>South Atlantic</td>\n",
       "      <td>MP0262</td>\n",
       "      <td>-4002</td>\n",
       "      <td>-2.7e+01</td>\n",
       "      <td>-3.0e+00</td>\n",
       "      <td>nan</td>\n",
       "      <td>MP0262</td>\n",
       "      <td>1.9e-01</td>\n",
       "      <td>8.1e-01</td>\n",
       "      <td>0.0e+00</td>\n",
       "    </tr>\n",
       "    <tr>\n",
       "      <th>2</th>\n",
       "      <td>MP0327</td>\n",
       "      <td>20</td>\n",
       "      <td>2.0e-01</td>\n",
       "      <td>2011-01-05</td>\n",
       "      <td>South Atlantic</td>\n",
       "      <td>MP0327</td>\n",
       "      <td>-4001</td>\n",
       "      <td>-3.0e+01</td>\n",
       "      <td>-9.1e+00</td>\n",
       "      <td>nan</td>\n",
       "      <td>MP0327</td>\n",
       "      <td>1.7e-01</td>\n",
       "      <td>8.3e-01</td>\n",
       "      <td>0.0e+00</td>\n",
       "    </tr>\n",
       "    <tr>\n",
       "      <th>3</th>\n",
       "      <td>MP0372</td>\n",
       "      <td>23</td>\n",
       "      <td>2.0e-01</td>\n",
       "      <td>2011-01-08</td>\n",
       "      <td>South Atlantic</td>\n",
       "      <td>MP0372</td>\n",
       "      <td>-4003</td>\n",
       "      <td>-3.3e+01</td>\n",
       "      <td>-1.6e+01</td>\n",
       "      <td>nan</td>\n",
       "      <td>MP0372</td>\n",
       "      <td>1.4e-01</td>\n",
       "      <td>8.6e-01</td>\n",
       "      <td>9.4e-05</td>\n",
       "    </tr>\n",
       "    <tr>\n",
       "      <th>4</th>\n",
       "      <td>MP0441</td>\n",
       "      <td>26</td>\n",
       "      <td>2.0e-01</td>\n",
       "      <td>2011-01-11</td>\n",
       "      <td>South Atlantic</td>\n",
       "      <td>MP0441</td>\n",
       "      <td>-3907</td>\n",
       "      <td>-3.7e+01</td>\n",
       "      <td>-2.3e+01</td>\n",
       "      <td>nan</td>\n",
       "      <td>MP0441</td>\n",
       "      <td>1.2e-01</td>\n",
       "      <td>8.8e-01</td>\n",
       "      <td>0.0e+00</td>\n",
       "    </tr>\n",
       "  </tbody>\n",
       "</table>\n",
       "</div>"
      ],
      "text/plain": [
       "   sample  station  filtersize       Date           Ocean    code  Depth  \\\n",
       "0  MP0145       10     2.0e-01 2010-12-26  North Atlantic  MP0145  -4002   \n",
       "1  MP0262       17     2.0e-01 2011-01-02  South Atlantic  MP0262  -4002   \n",
       "2  MP0327       20     2.0e-01 2011-01-05  South Atlantic  MP0327  -4001   \n",
       "3  MP0372       23     2.0e-01 2011-01-08  South Atlantic  MP0372  -4003   \n",
       "4  MP0441       26     2.0e-01 2011-01-11  South Atlantic  MP0441  -3907   \n",
       "\n",
       "   Longitude  Latitude  Unnamed: 9 Unnamed: 10  Archaea  Bacteria  \\\n",
       "0   -2.6e+01   1.5e+01         nan      MP0145  3.1e-01   6.9e-01   \n",
       "1   -2.7e+01  -3.0e+00         nan      MP0262  1.9e-01   8.1e-01   \n",
       "2   -3.0e+01  -9.1e+00         nan      MP0327  1.7e-01   8.3e-01   \n",
       "3   -3.3e+01  -1.6e+01         nan      MP0372  1.4e-01   8.6e-01   \n",
       "4   -3.7e+01  -2.3e+01         nan      MP0441  1.2e-01   8.8e-01   \n",
       "\n",
       "   No blast hit  \n",
       "0       9.4e-05  \n",
       "1       0.0e+00  \n",
       "2       0.0e+00  \n",
       "3       9.4e-05  \n",
       "4       0.0e+00  "
      ]
     },
     "execution_count": 5,
     "metadata": {},
     "output_type": "execute_result"
    }
   ],
   "source": [
    "salazar.head()"
   ]
  },
  {
   "cell_type": "markdown",
   "metadata": {
    "collapsed": true
   },
   "source": [
    "As we are working with fractions here, we shall use a utility that will calculate mean and uncertainty of fractions. For details regarding the procedure look at the documentation of the relevant functions.\n",
    "For the epipelagic layer, we will use the sum of the fractions of Thaumarcheota and Euryarchaeota, two main archaeal phyla. We will use the geometric mean of the fractions in surface waters and the deep chlorophyll maximum."
   ]
  },
  {
   "cell_type": "code",
   "execution_count": 6,
   "metadata": {},
   "outputs": [
    {
     "name": "stdout",
     "output_type": "stream",
     "text": [
      "The fraction of archaea in the epipelagic layer based on 16S rDNA sequencing is 4.3 percent\n",
      "The fraction of archaea in the mesopelagic layer based on 16S rDNA sequencing is 14.4 percent\n"
     ]
    }
   ],
   "source": [
    "sunagawa_sum = (sunagawa['Thaumarcheota'] + sunagawa['Euryarchaeota'])/100\n",
    "seq_arch_frac_epi = frac_mean(sunagawa_sum.loc[['DCM','SRF']])\n",
    "seq_arch_frac_meso = frac_mean(sunagawa_sum.loc['MESO'])\n",
    "print('The fraction of archaea in the epipelagic layer based on 16S rDNA sequencing is %.1f percent' % (seq_arch_frac_epi*100))\n",
    "print('The fraction of archaea in the mesopelagic layer based on 16S rDNA sequencing is %.1f percent' % (seq_arch_frac_meso*100))"
   ]
  },
  {
   "cell_type": "markdown",
   "metadata": {},
   "source": [
    "For the bathypelagic layer, we estimate the fraction of archaea based on 16S rDNA sequencing by using the geometric mean of the data in Salazar et al."
   ]
  },
  {
   "cell_type": "code",
   "execution_count": 7,
   "metadata": {},
   "outputs": [
    {
     "name": "stdout",
     "output_type": "stream",
     "text": [
      "The fraction of archaea in the bathypelagic layer based on 16S rDNA sequencing is 15.0 percent\n"
     ]
    }
   ],
   "source": [
    "seq_arch_frac_bathy = frac_mean(salazar['Archaea'])\n",
    "print('The fraction of archaea in the bathypelagic layer based on 16S rDNA sequencing is %.1f percent' % (seq_arch_frac_bathy*100))"
   ]
  },
  {
   "cell_type": "markdown",
   "metadata": {},
   "source": [
    "Our best estimate for the fraction of archaea out of the total population of marine bacteria and archaea at each layer is the geometric mean of the estimates of the fraction of archaea based on FISH and on 16S rDNA sequencing, corrected for the lower rDNA operon copy number"
   ]
  },
  {
   "cell_type": "code",
   "execution_count": 8,
   "metadata": {},
   "outputs": [
    {
     "name": "stdout",
     "output_type": "stream",
     "text": [
      "The best estimate for the fraction of archaea in the epipelagic layer is 7.1 percent\n",
      "The best estimate for the fraction of archaea in the mesopelagic layer is 26.3 percent\n",
      "The best estimate for the fraction of archaea in the bathypelagic layer is 32.4 percent\n"
     ]
    }
   ],
   "source": [
    "best_arch_frac_epi = frac_mean(np.array([FISH_arch_frac_epi,seq_arch_frac_epi*2]))\n",
    "best_arch_frac_meso = frac_mean(np.array([FISH_arch_frac_meso,seq_arch_frac_meso*2]))\n",
    "best_arch_frac_bathy = frac_mean(np.array([FISH_arch_frac_bathy,seq_arch_frac_bathy*2]))\n",
    "print('The best estimate for the fraction of archaea in the epipelagic layer is %.1f percent' % (best_arch_frac_epi*100))\n",
    "print('The best estimate for the fraction of archaea in the mesopelagic layer is %.1f percent' % (best_arch_frac_meso*100))\n",
    "print('The best estimate for the fraction of archaea in the bathypelagic layer is %.1f percent' % (best_arch_frac_bathy*100))"
   ]
  },
  {
   "cell_type": "markdown",
   "metadata": {},
   "source": [
    "### Estimating the fraction of the population in each depth layer\n",
    "In order to calculate the fraction of archaea out of the total population of marine bacteria and archaea, we need to estimate the fraction of cells in epipelagic, mesopelagic and bathypelagic layers. To do so we use the same sources used for estimating the total number of marine bacteria and archaea, namely, Aristegui et. al, Buitenhuis et al. and Lloyd et al. "
   ]
  },
  {
   "cell_type": "code",
   "execution_count": 9,
   "metadata": {
    "collapsed": true
   },
   "outputs": [],
   "source": [
    "# Load the datasets\n",
    "buitenhuis = pd.read_excel('../cell_num/marine_prok_cell_num_data.xlsx','Buitenhuis')\n",
    "aristegui = pd.read_excel('../cell_num/marine_prok_cell_num_data.xlsx','Aristegui')"
   ]
  },
  {
   "cell_type": "markdown",
   "metadata": {},
   "source": [
    "For Lloyd et al., we already calculated the total number of bacteria and archaea at each layer, so we can estimate what is the relative fraction of cells in each layer"
   ]
  },
  {
   "cell_type": "code",
   "execution_count": 10,
   "metadata": {},
   "outputs": [
    {
     "name": "stdout",
     "output_type": "stream",
     "text": [
      "The fraction of cells in the epipelagic layer according to Lloyd et al. is 38.9  percent\n",
      "The fraction of cells in the mesopelagic layer according to Lloyd et al. is 32.5  percent\n",
      "The fraction of cells in the bathypelagic layer according to Lloyd et al. is 28.6  percent\n"
     ]
    }
   ],
   "source": [
    "# For lloyd et al. we calculate fraction of the sum of bacteria and archaea in each layer out of the \n",
    "# total number of bacteria and archaea\n",
    "\n",
    "lloyd_total_bac_arch_epi = total_arch_epi + total_bac_epi\n",
    "lloyd_total_bac_arch_meso = total_arch_meso + total_bac_meso\n",
    "lloyd_total_bac_arch_bathy = total_arch_bathy + total_bac_bathy\n",
    "lloyd_total_bac_arch = lloyd_total_bac_arch_epi+lloyd_total_bac_arch_meso+lloyd_total_bac_arch_bathy\n",
    "\n",
    "lloyd_epi_frac = lloyd_total_bac_arch_epi/lloyd_total_bac_arch\n",
    "lloyd_meso_frac = lloyd_total_bac_arch_meso/lloyd_total_bac_arch\n",
    "lloyd_bathy_frac = lloyd_total_bac_arch_bathy/lloyd_total_bac_arch\n",
    "\n",
    "print('The fraction of cells in the epipelagic layer according to Lloyd et al. is %.1f  percent' % (lloyd_epi_frac*100))\n",
    "print('The fraction of cells in the mesopelagic layer according to Lloyd et al. is %.1f  percent' % (lloyd_meso_frac*100))\n",
    "print('The fraction of cells in the bathypelagic layer according to Lloyd et al. is %.1f  percent' % (lloyd_bathy_frac*100))"
   ]
  },
  {
   "cell_type": "raw",
   "metadata": {},
   "source": [
    "For Buitenhuis et al., we bin the data along the depth of each sample in 100 m bins. We calculate the average concentration of cells at each bin. For each bin, we calculate the total number of cells in the bin by multiplying the average concentration by the total volume of water in the bin. We calculate the total number of cells in each layer by dividing the bins to each of the layers and summing across all the bins that belong to the same layer."
   ]
  },
  {
   "cell_type": "code",
   "execution_count": 11,
   "metadata": {},
   "outputs": [
    {
     "name": "stdout",
     "output_type": "stream",
     "text": [
      "Total fraction of cells in the epipelagic layer based on Buitenhuis et al.: 30.7 percent\n",
      "Total fraction of cells in the mesopelagic layer based on Buitenhuis et al.: 27.8 percent\n",
      "Total fraction of cells in the bathypelagic layer based on Buitenhuis et al.: 39.5 percent\n"
     ]
    }
   ],
   "source": [
    "# Define depth range every 100 m from 0 to 4000 meters\n",
    "depth_range = np.linspace(0,4000,41)\n",
    "\n",
    "# Bin data along depth bins\n",
    "buitenhuis['Depth_bin'] = pd.cut(buitenhuis['Depth'], depth_range)\n",
    "\n",
    "# For each bin, calculate the average number of cells per liter\n",
    "buitenhuis_bins = buitenhuis.groupby(['Depth_bin']).mean()['Bact/L']\n",
    "\n",
    "# Multiply each average concentration by the total volume at each bin: 100 meters depth time the surface area of the oceac\n",
    "\n",
    "buitenhuis_bins *= 100*ocean_area*liters_in_m3\n",
    "\n",
    "# For the epipelagic layer, sum across the first three bins\n",
    "buitenhuis_total_epi = buitenhuis_bins.iloc[0:3].sum()\n",
    "\n",
    "# For the mesopelagic layer, sum across the relevant bins\n",
    "buitenhuis_total_meso = buitenhuis_bins.iloc[3:11].sum()\n",
    "\n",
    "# For the bathypelagic layer, sum across the remaining bins\n",
    "buitenhuis_total_bathy = buitenhuis_bins.iloc[12:].sum()\n",
    "\n",
    "#Calculate the total number of cells\n",
    "buitenhuis_total = buitenhuis_bins.sum()\n",
    "\n",
    "# Calculate relative fractions\n",
    "buitenhuis_frac_epi = buitenhuis_total_epi/buitenhuis_total\n",
    "buitenhuis_frac_meso = buitenhuis_total_meso/buitenhuis_total\n",
    "buitenhuis_frac_bathy = buitenhuis_total_bathy/buitenhuis_total\n",
    "print('Total fraction of cells in the epipelagic layer based on Buitenhuis et al.: %.1f percent' % (buitenhuis_frac_epi*100))\n",
    "print('Total fraction of cells in the mesopelagic layer based on Buitenhuis et al.: %.1f percent' % (buitenhuis_frac_meso*100))\n",
    "print('Total fraction of cells in the bathypelagic layer based on Buitenhuis et al.: %.1f percent' % (buitenhuis_frac_bathy*100))"
   ]
  },
  {
   "cell_type": "markdown",
   "metadata": {},
   "source": [
    "For Aristegui et al. the data is already binned along each layer, so we just calculate the relative fraction of each layer"
   ]
  },
  {
   "cell_type": "code",
   "execution_count": 12,
   "metadata": {},
   "outputs": [
    {
     "name": "stdout",
     "output_type": "stream",
     "text": [
      "Total fraction of cells in the epipelagic layer based on Aristegui et al.: 23.2 percent\n",
      "Total fraction of cells in the mesopelagic layer based on Aristegui et al.: 36.0 percent\n",
      "Total fraction of cells in the bathypelagic layer based on Aristegui et al.: 40.8 percent\n"
     ]
    }
   ],
   "source": [
    "aristegui_total = aristegui['Cell abundance (cells m-2)'].sum()\n",
    "aristegui_frac_epi = aristegui.iloc[0]['Cell abundance (cells m-2)']/aristegui_total\n",
    "aristegui_frac_meso = aristegui.iloc[1]['Cell abundance (cells m-2)']/aristegui_total\n",
    "aristegui_frac_bathy = aristegui.iloc[2]['Cell abundance (cells m-2)']/aristegui_total\n",
    "print('Total fraction of cells in the epipelagic layer based on Aristegui et al.: %.1f percent' % (aristegui_frac_epi*100))\n",
    "print('Total fraction of cells in the mesopelagic layer based on Aristegui et al.: %.1f percent' % (aristegui_frac_meso*100))\n",
    "print('Total fraction of cells in the bathypelagic layer based on Aristegui et al.: %.1f percent' % (aristegui_frac_bathy*100))"
   ]
  },
  {
   "cell_type": "markdown",
   "metadata": {},
   "source": [
    "Our best estimate for the fraction of bacterial and archaeal cells located at each layer is the geometric mean of estiamtes for our three resources - Lloyd et al., Buitenhuis et al., and Aristegui et al."
   ]
  },
  {
   "cell_type": "code",
   "execution_count": 13,
   "metadata": {},
   "outputs": [
    {
     "name": "stdout",
     "output_type": "stream",
     "text": [
      "The best estimate for the fraction of cells in the epipelagic layer is 30.6 percent\n",
      "The best estimate for the fraction of cells in the mesopelagic layer is 32.0 percent\n",
      "The best estimate for the fraction of cells in the bathypelagic layer is 36.1 percent\n"
     ]
    }
   ],
   "source": [
    "\n",
    "best_frac_epi = frac_mean(np.array([lloyd_epi_frac,buitenhuis_frac_epi,aristegui_frac_epi]))\n",
    "best_frac_meso = frac_mean(np.array([lloyd_meso_frac,buitenhuis_frac_meso,aristegui_frac_meso]))\n",
    "best_frac_bathy = frac_mean(np.array([lloyd_bathy_frac,buitenhuis_frac_bathy,aristegui_frac_bathy]))\n",
    "\n",
    "print('The best estimate for the fraction of cells in the epipelagic layer is %.1f percent' % (best_frac_epi*100))\n",
    "print('The best estimate for the fraction of cells in the mesopelagic layer is %.1f percent' % (best_frac_meso*100))\n",
    "print('The best estimate for the fraction of cells in the bathypelagic layer is %.1f percent' % (best_frac_bathy*100))"
   ]
  },
  {
   "cell_type": "markdown",
   "metadata": {},
   "source": [
    "Our best estimate for the fraction of archaea out of the total population of marine bacteria and archaea is the weighted sum of the fraction of archaea in each layer and the fraction of total cells in each layer"
   ]
  },
  {
   "cell_type": "code",
   "execution_count": 14,
   "metadata": {},
   "outputs": [
    {
     "name": "stdout",
     "output_type": "stream",
     "text": [
      "Our best estimate for the fraction of archaea out of the total population of marine bacteria and archaea is 22.3 percent\n"
     ]
    }
   ],
   "source": [
    "best_arch_frac = best_arch_frac_epi*best_frac_epi + best_arch_frac_meso*best_frac_meso+best_arch_frac_bathy*best_frac_bathy\n",
    "print('Our best estimate for the fraction of archaea out of the total population of marine bacteria and archaea is %.1f percent' %(best_arch_frac*100))"
   ]
  },
  {
   "cell_type": "markdown",
   "metadata": {},
   "source": [
    "# Uncertainty analysis\n",
    "\n",
    "In order to assess the uncertainty associated with our estimate for the fraction of marine archaea out of the total population of marine bacteria and archaea, we gather all possible indices of uncertainty. We compare the uncertainty of values within each one of the methods and the uncertainty stemming from the variability of the values provided by the two methods. \n",
    "\n",
    "## Intra-study uncertainty\n",
    "We first look at the uncertainty of values within the FISH method and the 16S sequencing method.\n",
    "\n",
    "### FISH method\n",
    "For the FISH method, as we use regression lines to extrapolate the number of archaea and bacteria across the depth profile. We do not have a good handle of the uncertainty of this procedure. We thus use an alternative measure for the uncertainty of the fraction of archaea. Lloyd et al. reports in each site the fraction of archaea out of the total population of bacteria and archaea. We use the variation of the values between sites as a measure of the uncertainty of the values for the fraction of archaea and bacteria using FISH."
   ]
  },
  {
   "cell_type": "code",
   "execution_count": 15,
   "metadata": {},
   "outputs": [
    {
     "name": "stdout",
     "output_type": "stream",
     "text": [
      "The intra-study uncertainty of measurements using FISH for the fraction of archaea is 1.1-fold\n",
      "The intra-study uncertainty of measurements using FISH for the fraction of bacteria is 1.01-fold\n"
     ]
    },
    {
     "name": "stderr",
     "output_type": "stream",
     "text": [
      "../../../statistics_helper/fraction_helper.py:50: RuntimeWarning: invalid value encountered in log\n",
      "  log_alpha = np.log(alpha)\n",
      "../../../statistics_helper/fraction_helper.py:23: RuntimeWarning: invalid value encountered in log10\n",
      "  log_alpha = np.log10(alpha)\n"
     ]
    }
   ],
   "source": [
    "# Set zero values to a small number for numerical stability of the fraction\n",
    "lloyd_arc_frac = lloyd['Fraction Arc CARDFISH'].dropna()\n",
    "lloyd_arc_frac[lloyd_arc_frac == 0] = 0.001\n",
    "\n",
    "print('The intra-study uncertainty of measurements using FISH for the fraction of archaea is %.1f-fold' % frac_CI(lloyd_arc_frac))\n",
    "print('The intra-study uncertainty of measurements using FISH for the fraction of bacteria is %.2f-fold' % frac_CI(1.-lloyd_arc_frac))"
   ]
  },
  {
   "cell_type": "markdown",
   "metadata": {},
   "source": [
    "### 16S rDNA sequencing\n",
    "\n",
    "For the 16S rDNA sequencing method, we rely of two main resources - Sunagawa et al. for the epipelagic and mesopelagic layers, and Salazar et al. for the bathypelagic layer. No uncertainties are reported by Sunagawa et al., and thus we rely on the variability of values in Salazar et al. as a measure of the uncertainty of the values for the fraction of archaea using 16S rDNA sequencing"
   ]
  },
  {
   "cell_type": "code",
   "execution_count": 16,
   "metadata": {},
   "outputs": [
    {
     "name": "stdout",
     "output_type": "stream",
     "text": [
      "The intra-study uncertainty of measurements using 16S rDNA sequencing for the fraction of archaea is 1.2-fold\n",
      "The intra-study uncertainty of measurements using 16S rDNA sequencing for the fraction of bacteria is 1.03-fold\n"
     ]
    }
   ],
   "source": [
    "print('The intra-study uncertainty of measurements using 16S rDNA sequencing for the fraction of archaea is %.1f-fold' % frac_CI(salazar['Archaea']))\n",
    "print('The intra-study uncertainty of measurements using 16S rDNA sequencing for the fraction of bacteria is %.2f-fold' % frac_CI(1.-salazar['Archaea']))"
   ]
  },
  {
   "cell_type": "markdown",
   "metadata": {},
   "source": [
    "## Interstudy uncertainty\n",
    "\n",
    "We calculate the uncertainty (95% multiplicative confidence interval) between the estimates using the two methods - FISH and 16S rDNA sequencing."
   ]
  },
  {
   "cell_type": "code",
   "execution_count": 17,
   "metadata": {},
   "outputs": [
    {
     "name": "stdout",
     "output_type": "stream",
     "text": [
      "The uncertainty of the fraction of archaea out of the total population of bacteria and archaea in the epipelagic layer is 1.4-fold\n",
      "The uncertainty of the fraction of archaea out of the total population of bacteria and archaea in the mesopelagic layer is 1.6-fold\n",
      "The uncertainty of the fraction of archaea out of the total population of bacteria and archaea in the bathypelagic layer is 2.2-fold\n",
      "The uncertainty of the fraction of bacteria out of the total population of bacteria and archaea in the epipelagic layer is 1.0-fold\n",
      "The uncertainty of the fraction of bacteria out of the total population of bacteria and archaea in the mesopelagic layer is 1.1-fold\n",
      "The uncertainty of the fraction of bacteria out of the total population of bacteria and archaea in the bathypelagic layer is 1.3-fold\n"
     ]
    }
   ],
   "source": [
    "# For each layer, calculate the uncertainty between methods\n",
    "from fractions import *\n",
    "epi_mul_CI_arch = frac_CI(np.array([FISH_arch_frac_epi,seq_arch_frac_epi]))\n",
    "meso_mul_CI_arch = frac_CI(np.array([FISH_arch_frac_meso,seq_arch_frac_meso]))\n",
    "bathy_mul_CI_arch = frac_CI(np.array([FISH_arch_frac_bathy,seq_arch_frac_bathy]))\n",
    "print('The uncertainty of the fraction of archaea out of the total population of bacteria and archaea in the epipelagic layer is %.1f-fold' %epi_mul_CI_arch)\n",
    "print('The uncertainty of the fraction of archaea out of the total population of bacteria and archaea in the mesopelagic layer is %.1f-fold' %meso_mul_CI_arch)\n",
    "print('The uncertainty of the fraction of archaea out of the total population of bacteria and archaea in the bathypelagic layer is %.1f-fold' %bathy_mul_CI_arch)\n",
    "\n",
    "epi_mul_CI_bac = frac_CI(np.array([1.-FISH_arch_frac_epi,1.-seq_arch_frac_epi]))\n",
    "meso_mul_CI_bac = frac_CI(np.array([1.-FISH_arch_frac_meso,1.-seq_arch_frac_meso]))\n",
    "bathy_mul_CI_bac = frac_CI(np.array([1.-FISH_arch_frac_bathy,1.-seq_arch_frac_bathy]))\n",
    "print('The uncertainty of the fraction of bacteria out of the total population of bacteria and archaea in the epipelagic layer is %.1f-fold' %epi_mul_CI_bac)\n",
    "print('The uncertainty of the fraction of bacteria out of the total population of bacteria and archaea in the mesopelagic layer is %.1f-fold' %meso_mul_CI_bac)\n",
    "print('The uncertainty of the fraction of bacteria out of the total population of bacteria and archaea in the bathypelagic layer is %.1f-fold' %bathy_mul_CI_bac)"
   ]
  },
  {
   "cell_type": "markdown",
   "metadata": {},
   "source": [
    "As our best estimates for the uncertainty associated with the fraction of archaea and bacteria out of the total population of marine bacteria and archaea, we use the highest uncertainty out of the uncertainties of the three depth layers.\n",
    "\n",
    "The highest interstudy uncertainty for the fraction of archaea is ≈1.8-fold, which is higher than the highest intra-study uncertainty of ≈1.2-fold, so we use ≈1.8-fold as our best projection of the uncertainty associated with the fraction of archaea out of the total population of marine bacteria and archaea. \n",
    "Similarly, the highest interstudy uncertainty for the fraction of bacteria is ≈1.2-fold, which is higher than the highest intra-study uncertainty of ≈1.03-fold, so we use ≈1.2-fold as our best projection of the uncertainty associated with the fraction of bacteria out of the total population of marine bacteria and archaea. \n",
    "\n",
    "Our final parameters are:"
   ]
  },
  {
   "cell_type": "code",
   "execution_count": 18,
   "metadata": {},
   "outputs": [
    {
     "name": "stdout",
     "output_type": "stream",
     "text": [
      "Fraction of marine archaea out of the total population of marine bacteria and archaea: 22.3 percent\n",
      "Fraction of marine bacteria out of the total population of marine bacteria and archaea: 77.7 percent\n",
      "Uncertainty associated with the fraction of marine archaea: 2.2-fold\n",
      "Uncertainty associated with the fraction of marine bacteria: 1.3-fold\n"
     ]
    }
   ],
   "source": [
    "print('Fraction of marine archaea out of the total population of marine bacteria and archaea: %.1f percent' %(best_arch_frac*100))\n",
    "print('Fraction of marine bacteria out of the total population of marine bacteria and archaea: %.1f percent' %(100.-best_arch_frac*100))\n",
    "print('Uncertainty associated with the fraction of marine archaea: %.1f-fold' % np.max([epi_mul_CI_arch,meso_mul_CI_arch,bathy_mul_CI_arch]))\n",
    "print('Uncertainty associated with the fraction of marine bacteria: %.1f-fold' % np.max([epi_mul_CI_bac,meso_mul_CI_bac,bathy_mul_CI_bac]))\n",
    "\n",
    "old_results = pd.read_excel('../marine_prok_biomass_estimate.xlsx')\n",
    "result = old_results.copy()\n",
    "result.loc[2] = pd.Series({\n",
    "                'Parameter': 'Fraction of archaea',\n",
    "                'Value': \"{0:.1f}\".format(best_arch_frac),\n",
    "                'Units': 'Unitless',\n",
    "                'Uncertainty': \"{0:.1f}\".format(np.max([epi_mul_CI_arch,meso_mul_CI_arch,bathy_mul_CI_arch]))\n",
    "                })\n",
    "\n",
    "result.loc[3] = pd.Series({\n",
    "                'Parameter': 'Fraction of bacteria',\n",
    "                'Value': \"{0:.1f}\".format(1.0 - best_arch_frac),\n",
    "                'Units': 'Unitless',\n",
    "                'Uncertainty': \"{0:.1f}\".format(np.max([epi_mul_CI_bac,meso_mul_CI_bac,bathy_mul_CI_bac]))\n",
    "                })\n",
    "\n",
    "\n",
    "result.to_excel('../marine_prok_biomass_estimate.xlsx',index=False)"
   ]
  }
 ],
 "metadata": {
  "kernelspec": {
   "display_name": "Python 3",
   "language": "python",
   "name": "python3"
  },
  "language_info": {
   "codemirror_mode": {
    "name": "ipython",
    "version": 3
   },
   "file_extension": ".py",
   "mimetype": "text/x-python",
   "name": "python",
   "nbconvert_exporter": "python",
   "pygments_lexer": "ipython3",
   "version": "3.5.2"
  }
 },
 "nbformat": 4,
 "nbformat_minor": 2
}
