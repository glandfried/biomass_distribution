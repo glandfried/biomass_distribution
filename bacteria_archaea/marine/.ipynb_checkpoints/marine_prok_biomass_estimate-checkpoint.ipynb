{
 "cells": [
  {
   "cell_type": "markdown",
   "metadata": {},
   "source": [
    "# Estimating the total biomass of marine archaea and bacteria\n",
    "\n",
    "We use our best estimates for the total number of marine prokaryotes, the carbon content of marine prokaryotes and the fraction of marine archaea and bacteria out of the total population of marine prokaryotes to estimate the total biomass of marine bacteria and archaea"
   ]
  },
  {
   "cell_type": "code",
   "execution_count": 4,
   "metadata": {
    "collapsed": true
   },
   "outputs": [],
   "source": [
    "import numpy as np\n",
    "import pandas as pd\n",
    "pd.options.display.float_format = '{:,.1f}'.format\n",
    "\n",
    "results = pd.read_excel('marine_prok_biomass_estimate.xlsx')\n"
   ]
  },
  {
   "cell_type": "markdown",
   "metadata": {},
   "source": [
    "These are out best estimates for the different parameters required for the estimate, along with the associated uncertainties"
   ]
  },
  {
   "cell_type": "code",
   "execution_count": 11,
   "metadata": {},
   "outputs": [
    {
     "data": {
      "text/html": [
       "<div>\n",
       "<style scoped>\n",
       "    .dataframe tbody tr th:only-of-type {\n",
       "        vertical-align: middle;\n",
       "    }\n",
       "\n",
       "    .dataframe tbody tr th {\n",
       "        vertical-align: top;\n",
       "    }\n",
       "\n",
       "    .dataframe thead th {\n",
       "        text-align: right;\n",
       "    }\n",
       "</style>\n",
       "<table border=\"1\" class=\"dataframe\">\n",
       "  <thead>\n",
       "    <tr style=\"text-align: right;\">\n",
       "      <th></th>\n",
       "      <th>Parameter</th>\n",
       "      <th>Value</th>\n",
       "      <th>Units</th>\n",
       "      <th>Uncertainty</th>\n",
       "    </tr>\n",
       "  </thead>\n",
       "  <tbody>\n",
       "    <tr>\n",
       "      <th>0</th>\n",
       "      <td>Total number of marine bacteria and archaea</td>\n",
       "      <td>123,183,254,521,154,994,769,259,134,976.0</td>\n",
       "      <td>Cells</td>\n",
       "      <td>1.4</td>\n",
       "    </tr>\n",
       "    <tr>\n",
       "      <th>1</th>\n",
       "      <td>Carbon content</td>\n",
       "      <td>11.2</td>\n",
       "      <td>fg C cell^-1</td>\n",
       "      <td>1.4</td>\n",
       "    </tr>\n",
       "    <tr>\n",
       "      <th>2</th>\n",
       "      <td>Fraction of archaea</td>\n",
       "      <td>0.2</td>\n",
       "      <td>Unitless</td>\n",
       "      <td>1.9</td>\n",
       "    </tr>\n",
       "    <tr>\n",
       "      <th>3</th>\n",
       "      <td>Fraction of bacteria</td>\n",
       "      <td>0.8</td>\n",
       "      <td>Unitless</td>\n",
       "      <td>1.2</td>\n",
       "    </tr>\n",
       "  </tbody>\n",
       "</table>\n",
       "</div>"
      ],
      "text/plain": [
       "                                     Parameter  \\\n",
       "0  Total number of marine bacteria and archaea   \n",
       "1                               Carbon content   \n",
       "2                          Fraction of archaea   \n",
       "3                         Fraction of bacteria   \n",
       "\n",
       "                                      Value         Units  Uncertainty  \n",
       "0 123,183,254,521,154,994,769,259,134,976.0         Cells          1.4  \n",
       "1                                      11.2  fg C cell^-1          1.4  \n",
       "2                                       0.2      Unitless          1.9  \n",
       "3                                       0.8      Unitless          1.2  "
      ]
     },
     "execution_count": 11,
     "metadata": {},
     "output_type": "execute_result"
    }
   ],
   "source": [
    "results.head()"
   ]
  },
  {
   "cell_type": "markdown",
   "metadata": {},
   "source": [
    "We multiply all the relevant parameters to arrive at our best estimate for the biomass of marine archaea and bacteria, and propagate the uncertainties associated with each parameter to calculate the uncertainty associated with the estimate for the total biomass"
   ]
  },
  {
   "cell_type": "code",
   "execution_count": 3,
   "metadata": {},
   "outputs": [
    {
     "name": "stdout",
     "output_type": "stream",
     "text": [
      "Our best estimate for the total biomass of marine archaea is 0.3 Gt C\n",
      "Our best estimate for the total biomass of marine bacteria is 1.1 Gt C\n",
      "The uncertainty associated with the estimate for the biomass of archaea is 2.2-fold\n",
      "The uncertainty associated with the estimate for the biomass of bacteria is 1.7-fold\n"
     ]
    }
   ],
   "source": [
    "# Calculate the total biomass of marine archaea and bacteria\n",
    "total_arch_biomass = results['Value'][0]*results['Value'][1]*1e-15*results['Value'][2]\n",
    "total_bac_biomass = results['Value'][0]*results['Value'][1]*1e-15*results['Value'][3]\n",
    "\n",
    "print('Our best estimate for the total biomass of marine archaea is %.1f Gt C' %(total_arch_biomass/1e15))\n",
    "print('Our best estimate for the total biomass of marine bacteria is %.1f Gt C' %(total_bac_biomass/1e15))\n",
    "\n",
    "# Propagate the uncertainty associated with each parameter to the final estimate\n",
    "\n",
    "arch_biomass_uncertainty = 10**np.sqrt((np.log10(results['Uncertainty'][:3])**2).sum())\n",
    "bac_biomass_uncertainty = 10**np.sqrt((np.log10(results.iloc[[0,1,3]]['Uncertainty'])**2).sum())\n",
    "\n",
    "print('The uncertainty associated with the estimate for the biomass of archaea is %.1f-fold' %arch_biomass_uncertainty)\n",
    "print('The uncertainty associated with the estimate for the biomass of bacteria is %.1f-fold' %bac_biomass_uncertainty)\n"
   ]
  }
 ],
 "metadata": {
  "kernelspec": {
   "display_name": "Python 3",
   "language": "python",
   "name": "python3"
  },
  "language_info": {
   "codemirror_mode": {
    "name": "ipython",
    "version": 3
   },
   "file_extension": ".py",
   "mimetype": "text/x-python",
   "name": "python",
   "nbconvert_exporter": "python",
   "pygments_lexer": "ipython3",
   "version": "3.6.3"
  }
 },
 "nbformat": 4,
 "nbformat_minor": 2
}
