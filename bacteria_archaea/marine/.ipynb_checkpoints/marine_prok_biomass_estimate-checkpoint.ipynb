{
 "cells": [
  {
   "cell_type": "code",
   "execution_count": 1,
   "metadata": {
    "collapsed": true
   },
   "outputs": [],
   "source": [
    "# Load dependencies\n",
    "import numpy as np\n",
    "import pandas as pd\n",
    "pd.options.display.float_format = '{:,.1e}'.format\n",
    "import sys\n",
    "sys.path.insert(0, '../../statistics_helper')\n",
    "from CI_helper import *\n",
    "from excel_utils import *"
   ]
  },
  {
   "cell_type": "markdown",
   "metadata": {},
   "source": [
    "# Estimating the total biomass of marine archaea and bacteria\n",
    "\n",
    "We use our best estimates for the total number of marine prokaryotes, the carbon content of marine prokaryotes and the fraction of marine archaea and bacteria out of the total population of marine prokaryotes to estimate the total biomass of marine bacteria and archaea"
   ]
  },
  {
   "cell_type": "code",
   "execution_count": 2,
   "metadata": {
    "collapsed": true
   },
   "outputs": [],
   "source": [
    "results = pd.read_excel('marine_prok_biomass_estimate.xlsx')"
   ]
  },
  {
   "cell_type": "markdown",
   "metadata": {},
   "source": [
    "These are our best estimates for the different parameters required for the estimate, along with the associated uncertainties"
   ]
  },
  {
   "cell_type": "code",
   "execution_count": 3,
   "metadata": {},
   "outputs": [
    {
     "data": {
      "text/html": [
       "<div>\n",
       "<style scoped>\n",
       "    .dataframe tbody tr th:only-of-type {\n",
       "        vertical-align: middle;\n",
       "    }\n",
       "\n",
       "    .dataframe tbody tr th {\n",
       "        vertical-align: top;\n",
       "    }\n",
       "\n",
       "    .dataframe thead th {\n",
       "        text-align: right;\n",
       "    }\n",
       "</style>\n",
       "<table border=\"1\" class=\"dataframe\">\n",
       "  <thead>\n",
       "    <tr style=\"text-align: right;\">\n",
       "      <th></th>\n",
       "      <th>Parameter</th>\n",
       "      <th>Value</th>\n",
       "      <th>Units</th>\n",
       "      <th>Uncertainty</th>\n",
       "    </tr>\n",
       "  </thead>\n",
       "  <tbody>\n",
       "    <tr>\n",
       "      <th>0</th>\n",
       "      <td>Total number of marine bacteria and archaea</td>\n",
       "      <td>1.2e+29</td>\n",
       "      <td>Cells</td>\n",
       "      <td>1.5e+00</td>\n",
       "    </tr>\n",
       "    <tr>\n",
       "      <th>1</th>\n",
       "      <td>Carbon content</td>\n",
       "      <td>1.1e+01</td>\n",
       "      <td>fg C cell^-1</td>\n",
       "      <td>1.4e+00</td>\n",
       "    </tr>\n",
       "    <tr>\n",
       "      <th>2</th>\n",
       "      <td>Fraction of archaea</td>\n",
       "      <td>2.0e-01</td>\n",
       "      <td>Unitless</td>\n",
       "      <td>2.3e+00</td>\n",
       "    </tr>\n",
       "    <tr>\n",
       "      <th>3</th>\n",
       "      <td>Fraction of bacteria</td>\n",
       "      <td>8.0e-01</td>\n",
       "      <td>Unitless</td>\n",
       "      <td>1.3e+00</td>\n",
       "    </tr>\n",
       "    <tr>\n",
       "      <th>4</th>\n",
       "      <td>Fraction of the total biomass of marine bacter...</td>\n",
       "      <td>2.3e-01</td>\n",
       "      <td>Unitless</td>\n",
       "      <td>4.4e+00</td>\n",
       "    </tr>\n",
       "  </tbody>\n",
       "</table>\n",
       "</div>"
      ],
      "text/plain": [
       "                                           Parameter   Value         Units  \\\n",
       "0        Total number of marine bacteria and archaea 1.2e+29         Cells   \n",
       "1                                     Carbon content 1.1e+01  fg C cell^-1   \n",
       "2                                Fraction of archaea 2.0e-01      Unitless   \n",
       "3                               Fraction of bacteria 8.0e-01      Unitless   \n",
       "4  Fraction of the total biomass of marine bacter... 2.3e-01      Unitless   \n",
       "\n",
       "   Uncertainty  \n",
       "0      1.5e+00  \n",
       "1      1.4e+00  \n",
       "2      2.3e+00  \n",
       "3      1.3e+00  \n",
       "4      4.4e+00  "
      ]
     },
     "execution_count": 3,
     "metadata": {},
     "output_type": "execute_result"
    }
   ],
   "source": [
    "results.head()"
   ]
  },
  {
   "cell_type": "markdown",
   "metadata": {},
   "source": [
    "We multiply all the relevant parameters to arrive at our best estimate for the biomass of marine archaea and bacteria, and propagate the uncertainties associated with each parameter to calculate the uncertainty associated with the estimate for the total biomass"
   ]
  },
  {
   "cell_type": "code",
   "execution_count": 4,
   "metadata": {},
   "outputs": [
    {
     "name": "stdout",
     "output_type": "stream",
     "text": [
      "Our best estimate for the total biomass of marine archaea is 0.3 Gt C\n",
      "Our best estimate for the total biomass of marine bacteria is 1.4 Gt C\n",
      "The uncertainty associated with the estimate for the biomass of archaea is 2.7-fold\n",
      "The uncertainty associated with the estimate for the biomass of bacteria is 1.8-fold\n"
     ]
    }
   ],
   "source": [
    "# Calculate the total biomass of marine archaea and bacteria\n",
    "total_arch_biomass = results['Value'][0]*results['Value'][1]*(1+results['Value'][4])*1e-15*results['Value'][2]\n",
    "total_bac_biomass = results['Value'][0]*results['Value'][1]*(1+results['Value'][4])*1e-15*results['Value'][3]\n",
    "\n",
    "print('Our best estimate for the total biomass of marine archaea is %.1f Gt C' %(total_arch_biomass/1e15))\n",
    "print('Our best estimate for the total biomass of marine bacteria is %.1f Gt C' %(total_bac_biomass/1e15))\n",
    "\n",
    "# Propagate the uncertainty in the total biomass of bacteria and archaea\n",
    "prok_biomass_CI = CI_sum_prop(estimates=np.array([results['Value'][0]*results['Value'][1], results['Value'][0]*results['Value'][1]*results['Value'][4]]), mul_CIs=np.array([CI_prod_prop(results['Uncertainty'][:2]),results['Uncertainty'][4]]))\n",
    "\n",
    "# Propagate the uncertainty associated with each parameter to the final estimate\n",
    "arch_biomass_uncertainty = CI_prod_prop(np.array([prok_biomass_CI,results['Uncertainty'][2]]))\n",
    "bac_biomass_uncertainty = CI_prod_prop(np.array([prok_biomass_CI,results['Uncertainty'][3]]))\n",
    "\n",
    "print('The uncertainty associated with the estimate for the biomass of archaea is %.1f-fold' %arch_biomass_uncertainty)\n",
    "print('The uncertainty associated with the estimate for the biomass of bacteria is %.1f-fold' %bac_biomass_uncertainty)\n"
   ]
  },
  {
   "cell_type": "code",
   "execution_count": 5,
   "metadata": {},
   "outputs": [
    {
     "name": "stderr",
     "output_type": "stream",
     "text": [
      "/usr/local/lib/python3.5/dist-packages/ipykernel/ipkernel.py:196: PerformanceWarning: indexing past lexsort depth may impact performance.\n",
      "  res = shell.run_cell(code, store_history=store_history, silent=silent)\n",
      "/usr/local/lib/python3.5/dist-packages/IPython/core/interactiveshell.py:2683: PerformanceWarning: indexing past lexsort depth may impact performance.\n",
      "  interactivity=interactivity, compiler=compiler, result=result)\n"
     ]
    }
   ],
   "source": [
    "# Feed bacteria results to Table 1 & Fig. 1\n",
    "update_results(sheet='Table1 & Fig1', \n",
    "               row=('Bacteria','Marine'), \n",
    "               col=['Biomass [Gt C]', 'Uncertainty'],\n",
    "               values=[total_bac_biomass/1e15,bac_biomass_uncertainty],\n",
    "               path='../../results.xlsx')\n",
    "\n",
    "# Feed archaea results to Table 1 & Fig. 1\n",
    "update_results(sheet='Table1 & Fig1', \n",
    "               row=('Archaea','Marine'), \n",
    "               col=['Biomass [Gt C]', 'Uncertainty'],\n",
    "               values=[total_arch_biomass/1e15,arch_biomass_uncertainty],\n",
    "               path='../../results.xlsx')\n",
    "\n",
    "# Feed bacteria results to Table S1\n",
    "update_results(sheet='Table S1', \n",
    "               row=('Bacteria','Marine'), \n",
    "               col=['Number of individuals'],\n",
    "               values= results['Value'][0]*results['Value'][3],\n",
    "               path='../../results.xlsx')\n",
    "\n",
    "# Feed archaea results to Table S1\n",
    "update_results(sheet='Table S1', \n",
    "               row=('Archaea','Marine'), \n",
    "               col=['Number of individuals'],\n",
    "               values= results['Value'][0]*results['Value'][2],\n",
    "               path='../../results.xlsx')"
   ]
  }
 ],
 "metadata": {
  "kernelspec": {
   "display_name": "Python 3",
   "language": "python",
   "name": "python3"
  },
  "language_info": {
   "codemirror_mode": {
    "name": "ipython",
    "version": 3
   },
   "file_extension": ".py",
   "mimetype": "text/x-python",
   "name": "python",
   "nbconvert_exporter": "python",
   "pygments_lexer": "ipython3",
   "version": "3.5.2"
  }
 },
 "nbformat": 4,
 "nbformat_minor": 2
}
