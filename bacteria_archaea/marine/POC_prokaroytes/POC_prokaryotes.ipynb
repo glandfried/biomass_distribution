{
 "cells": [
  {
   "cell_type": "markdown",
   "metadata": {},
   "source": [
    "# Estimateing the biomass contribution of particle-attached bacteria and archaea in the ocean\n"
   ]
  },
  {
   "cell_type": "code",
   "execution_count": 46,
   "metadata": {},
   "outputs": [
    {
     "name": "stdout",
     "output_type": "stream",
     "text": [
      "0.0431881657832\n",
      "0.312659631163\n",
      "0.16773158508\n"
     ]
    },
    {
     "name": "stderr",
     "output_type": "stream",
     "text": [
      "/usr/local/lib/python3.5/dist-packages/pandas/core/groupby.py:1880: RuntimeWarning: Mean of empty slice\n",
      "  res = f(group)\n"
     ]
    },
    {
     "data": {
      "text/plain": [
       "0.068761921852166438"
      ]
     },
     "execution_count": 46,
     "metadata": {},
     "output_type": "execute_result"
    }
   ],
   "source": [
    "import pandas as pd\n",
    "import numpy as np\n",
    "from scipy.stats import gmean\n",
    "import sys\n",
    "sys.path.insert(0, '../../../statistics_helper')\n",
    "from CI_helper import *\n",
    "from fraction_helper import *\n",
    "pd.options.display.float_format = '{:,.2f}'.format\n",
    "macro = pd.read_excel('poc_data.xlsx','Macroaggregates')\n",
    "macro_mean = (macro.groupby(['Location','Reference'])['Fraction of cells in aggregates'].apply(np.nanmean).groupby('Reference').apply(np.nanmean)).mean()\n",
    "macro_gmean = frac_mean(macro.groupby(['Location','Reference'])['Fraction of cells in aggregates'].apply(frac_mean).groupby('Reference').apply(frac_mean))\n",
    "print(gmean([micro_mean,micro_gmean]))\n",
    "\n",
    "micro = pd.read_excel('poc_data.xlsx','Microaggregates')\n",
    "micro_mean = micro.groupby(['Reference','Depth [m]'])['Fraction of attached cells'].mean().groupby(['Reference']).mean().mean()\n",
    "micro_gmean = frac_mean(micro.groupby(['Reference','Depth [m]'])['Fraction of attached cells'].apply(frac_mean).groupby(['Reference']).apply(frac_mean))\n",
    "\n",
    "\n",
    "macro\n",
    "estimate1 = 88.6*gmean(macro.groupby('Reference')['Volume of cells [µm^3]'].apply(gmean).dropna())**0.59\n",
    "estimate2 = gmean(macro.groupby(['Location','Reference'])['Size of cells relative to free-living cells'].apply(gmean).dropna())\n",
    "\n",
    "\n",
    "print(gmean([estimate1/11,estimate2])*(micro_mean+macro_mean))\n",
    "print(gmean([estimate1/11,estimate2])*(micro_gmean+macro_gmean))\n",
    "gmean([0.16,0.31]/gmean([estimate1/11,estimate2]))"
   ]
  }
 ],
 "metadata": {
  "kernelspec": {
   "display_name": "Python 3",
   "language": "python",
   "name": "python3"
  },
  "language_info": {
   "codemirror_mode": {
    "name": "ipython",
    "version": 3
   },
   "file_extension": ".py",
   "mimetype": "text/x-python",
   "name": "python",
   "nbconvert_exporter": "python",
   "pygments_lexer": "ipython3",
   "version": "3.5.2"
  }
 },
 "nbformat": 4,
 "nbformat_minor": 2
}
