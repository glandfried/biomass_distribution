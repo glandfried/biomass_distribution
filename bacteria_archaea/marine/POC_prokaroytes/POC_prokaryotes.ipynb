{
 "cells": [
  {
   "cell_type": "markdown",
   "metadata": {},
   "source": [
    "# Estimateing the biomass contribution of particle-attached bacteria and archaea in the ocean\n",
    "In order to estimate the total biomass of bacteria and archaea attached to particulate organic matter (POM), we assemble studies which report the local contribution of particle-attached bacteria and archaea to the total number of cells. We focus here on the two main categories of POM - macroaggregates (>0.5 mm in diameter) and microaggregates (smaller then 0.5 mm in diameter ). We estimate the biomass contribution of bacteria and archaea attached to each size category, and then sum up the contributions to estimate the total biomass of particle-attached bacteria and archaea in the ocean. We first survey data on the fraction of the total number of cells which is attached to either macro- or microaggregates. We then estimate the carbon content of particle-attached cells relative to free-living cells.\n",
    "\n",
    "## Fraction of number of cells which is particle-attached\n",
    "### Macroaggregates\n",
    "In order to estimate the total biomass of bacteria and archaea attached to macroaggregates, we collected data from several studies which report the fraction of the total number of bacteria and archaea which is attached to macroaggregates. Here is a sample of the data:"
   ]
  },
  {
   "cell_type": "code",
   "execution_count": 1,
   "metadata": {},
   "outputs": [
    {
     "data": {
      "text/html": [
       "<div>\n",
       "<style scoped>\n",
       "    .dataframe tbody tr th:only-of-type {\n",
       "        vertical-align: middle;\n",
       "    }\n",
       "\n",
       "    .dataframe tbody tr th {\n",
       "        vertical-align: top;\n",
       "    }\n",
       "\n",
       "    .dataframe thead th {\n",
       "        text-align: right;\n",
       "    }\n",
       "</style>\n",
       "<table border=\"1\" class=\"dataframe\">\n",
       "  <thead>\n",
       "    <tr style=\"text-align: right;\">\n",
       "      <th></th>\n",
       "      <th>Location</th>\n",
       "      <th>Fraction of cells in aggregates</th>\n",
       "      <th>Size of cells relative to free-living cells</th>\n",
       "      <th>Volume of cells [µm^3]</th>\n",
       "      <th>Carbon content [fg C]</th>\n",
       "      <th>Cells on aggregates concentration [cells mL^-1]</th>\n",
       "      <th>Reference</th>\n",
       "      <th>Link</th>\n",
       "      <th>Remarks</th>\n",
       "    </tr>\n",
       "  </thead>\n",
       "  <tbody>\n",
       "    <tr>\n",
       "      <th>0</th>\n",
       "      <td>Southern California Bight</td>\n",
       "      <td>0.01</td>\n",
       "      <td>1.90</td>\n",
       "      <td>0.20</td>\n",
       "      <td>nan</td>\n",
       "      <td>1,045.00</td>\n",
       "      <td>Alldredge &amp; Gotschalk</td>\n",
       "      <td>http://dx.doi.org/10.1016/0278-4343(90)90034-J</td>\n",
       "      <td>Based on tables 1,2 and 3</td>\n",
       "    </tr>\n",
       "    <tr>\n",
       "      <th>1</th>\n",
       "      <td>Southern California Bight</td>\n",
       "      <td>0.00</td>\n",
       "      <td>1.40</td>\n",
       "      <td>0.15</td>\n",
       "      <td>nan</td>\n",
       "      <td>1,997.50</td>\n",
       "      <td>Alldredge &amp; Gotschalk</td>\n",
       "      <td>http://dx.doi.org/10.1016/0278-4343(90)90034-J</td>\n",
       "      <td>Based on tables 1,2 and 3</td>\n",
       "    </tr>\n",
       "    <tr>\n",
       "      <th>2</th>\n",
       "      <td>Southern California Bight</td>\n",
       "      <td>0.00</td>\n",
       "      <td>1.10</td>\n",
       "      <td>0.12</td>\n",
       "      <td>nan</td>\n",
       "      <td>1,100.00</td>\n",
       "      <td>Alldredge &amp; Gotschalk</td>\n",
       "      <td>http://dx.doi.org/10.1016/0278-4343(90)90034-J</td>\n",
       "      <td>Based on tables 1,2 and 3</td>\n",
       "    </tr>\n",
       "    <tr>\n",
       "      <th>3</th>\n",
       "      <td>Southern California Bight</td>\n",
       "      <td>0.01</td>\n",
       "      <td>1.30</td>\n",
       "      <td>0.16</td>\n",
       "      <td>nan</td>\n",
       "      <td>6,612.00</td>\n",
       "      <td>Alldredge &amp; Gotschalk</td>\n",
       "      <td>http://dx.doi.org/10.1016/0278-4343(90)90034-J</td>\n",
       "      <td>Based on tables 1,2 and 3</td>\n",
       "    </tr>\n",
       "    <tr>\n",
       "      <th>4</th>\n",
       "      <td>Mediterranean</td>\n",
       "      <td>0.03</td>\n",
       "      <td>nan</td>\n",
       "      <td>nan</td>\n",
       "      <td>nan</td>\n",
       "      <td>10,600.00</td>\n",
       "      <td>Turley &amp; Stutt</td>\n",
       "      <td>http://dx.doi.org/10.4319/lo.2000.45.2.0419</td>\n",
       "      <td>NaN</td>\n",
       "    </tr>\n",
       "  </tbody>\n",
       "</table>\n",
       "</div>"
      ],
      "text/plain": [
       "                     Location  Fraction of cells in aggregates  \\\n",
       "0   Southern California Bight                             0.01   \n",
       "1   Southern California Bight                             0.00   \n",
       "2   Southern California Bight                             0.00   \n",
       "3   Southern California Bight                             0.01   \n",
       "4               Mediterranean                             0.03   \n",
       "\n",
       "   Size of cells relative to free-living cells  Volume of cells [µm^3]  \\\n",
       "0                                         1.90                    0.20   \n",
       "1                                         1.40                    0.15   \n",
       "2                                         1.10                    0.12   \n",
       "3                                         1.30                    0.16   \n",
       "4                                          nan                     nan   \n",
       "\n",
       "   Carbon content [fg C]  Cells on aggregates concentration [cells mL^-1]  \\\n",
       "0                    nan                                         1,045.00   \n",
       "1                    nan                                         1,997.50   \n",
       "2                    nan                                         1,100.00   \n",
       "3                    nan                                         6,612.00   \n",
       "4                    nan                                        10,600.00   \n",
       "\n",
       "               Reference                                            Link  \\\n",
       "0  Alldredge & Gotschalk  http://dx.doi.org/10.1016/0278-4343(90)90034-J   \n",
       "1  Alldredge & Gotschalk  http://dx.doi.org/10.1016/0278-4343(90)90034-J   \n",
       "2  Alldredge & Gotschalk  http://dx.doi.org/10.1016/0278-4343(90)90034-J   \n",
       "3  Alldredge & Gotschalk  http://dx.doi.org/10.1016/0278-4343(90)90034-J   \n",
       "4         Turley & Stutt     http://dx.doi.org/10.4319/lo.2000.45.2.0419   \n",
       "\n",
       "                     Remarks  \n",
       "0  Based on tables 1,2 and 3  \n",
       "1  Based on tables 1,2 and 3  \n",
       "2  Based on tables 1,2 and 3  \n",
       "3  Based on tables 1,2 and 3  \n",
       "4                        NaN  "
      ]
     },
     "execution_count": 1,
     "metadata": {},
     "output_type": "execute_result"
    }
   ],
   "source": [
    "# Import dependencies\n",
    "import pandas as pd\n",
    "import numpy as np\n",
    "from scipy.stats import gmean\n",
    "import sys\n",
    "sys.path.insert(0, '../../../statistics_helper')\n",
    "from CI_helper import *\n",
    "from fraction_helper import *\n",
    "pd.options.display.float_format = '{:,.2f}'.format\n",
    "\n",
    "# Load data\n",
    "macro = pd.read_excel('poc_data.xlsx','Macroaggregates')\n",
    "macro.head()"
   ]
  },
  {
   "cell_type": "markdown",
   "metadata": {},
   "source": [
    "To generate our best estimate for the fraction of cells attached to macroaggregates, we first calculate the average fraction of particle-attached cells within each study. We calculate both the arithmetic mean fraction as well as the geometric mean fraction of cells."
   ]
  },
  {
   "cell_type": "code",
   "execution_count": 2,
   "metadata": {},
   "outputs": [
    {
     "name": "stderr",
     "output_type": "stream",
     "text": [
      "/home/yinon/.local/lib/python3.6/site-packages/pandas/core/groupby.py:1880: RuntimeWarning: Mean of empty slice\n",
      "  res = f(group)\n"
     ]
    }
   ],
   "source": [
    "# Calculate the mean fraction of particle-attached cells whitin each study\n",
    "macro_study_mean = macro.groupby('Reference')['Fraction of cells in aggregates'].apply(np.nanmean)\n",
    "macro_study_gmean = macro.groupby('Reference')['Fraction of cells in aggregates'].apply(frac_mean)"
   ]
  },
  {
   "cell_type": "markdown",
   "metadata": {},
   "source": [
    "We then calculate the mean fraction of particle-attached cells between different studies. We calculate both the arithmetic mean fraction as well as the geometric mean fraction of cells. We thus generate two estimates for the fraction of particle-attached cells out of the total population of marine bacteria and archaea- one based on arithmetic means and one based on geometric means. The estimate based on the arithmetic mean is more susceptible to sampling bias, as even a single measurement which is not characteristic of the global population (such as samples which are contaminated with organic carbon sources, or samples which have some technical biases associated with them) might shift the average concentration significantly. On the other hand, the estimate based on the geometric mean might underestimate global biomass as it will reduce the effect of biologically relevant high biomass concentrations. As a compromise between these two caveats, we chose to use as our best estimate the geometric mean of the estimates from the two methodologies."
   ]
  },
  {
   "cell_type": "code",
   "execution_count": 3,
   "metadata": {},
   "outputs": [
    {
     "name": "stdout",
     "output_type": "stream",
     "text": [
      "Our best estimate for the fraction of the toal number of marine bacteria and archaea which is attached to macroaggregates is ≈3 percent\n"
     ]
    }
   ],
   "source": [
    "# Calculate the mean fraction of particle-attached cells between different studies\n",
    "macro_mean = np.nanmean(macro_study_mean)\n",
    "macro_gmean = frac_mean(macro_study_gmean)\n",
    "\n",
    "# Use the geometric mean of the arithmetic and geometric mean based estimates as our best estimate\n",
    "best_macro_frac = frac_mean(np.array([macro_mean,macro_gmean]))\n",
    "\n",
    "print('Our best estimate for the fraction of the toal number of marine bacteria and archaea which is attached to macroaggregates is ≈%.0f percent' %(best_macro_frac*100))\n"
   ]
  },
  {
   "cell_type": "markdown",
   "metadata": {},
   "source": [
    "### Microaggregates\n",
    "In order to estimate the total biomass of bacteria and archaea attached to microaggregates, we collected data from several studies which report the fraction of the total number of bacteria and archaea which  is attached to macroaggregates. Here is a sample of the data:"
   ]
  },
  {
   "cell_type": "code",
   "execution_count": 4,
   "metadata": {},
   "outputs": [
    {
     "data": {
      "text/html": [
       "<div>\n",
       "<style scoped>\n",
       "    .dataframe tbody tr th:only-of-type {\n",
       "        vertical-align: middle;\n",
       "    }\n",
       "\n",
       "    .dataframe tbody tr th {\n",
       "        vertical-align: top;\n",
       "    }\n",
       "\n",
       "    .dataframe thead th {\n",
       "        text-align: right;\n",
       "    }\n",
       "</style>\n",
       "<table border=\"1\" class=\"dataframe\">\n",
       "  <thead>\n",
       "    <tr style=\"text-align: right;\">\n",
       "      <th></th>\n",
       "      <th>Site</th>\n",
       "      <th>Depth [m]</th>\n",
       "      <th>Station</th>\n",
       "      <th>Fraction of attached cells</th>\n",
       "      <th>Reference</th>\n",
       "      <th>Link</th>\n",
       "    </tr>\n",
       "  </thead>\n",
       "  <tbody>\n",
       "    <tr>\n",
       "      <th>0</th>\n",
       "      <td>Arctic Fram Strait</td>\n",
       "      <td>5</td>\n",
       "      <td>S3</td>\n",
       "      <td>0.02</td>\n",
       "      <td>Busch et al.</td>\n",
       "      <td>http://dx.doi.org/10.3389/fmars.2017.00166</td>\n",
       "    </tr>\n",
       "    <tr>\n",
       "      <th>1</th>\n",
       "      <td>Arctic Fram Strait</td>\n",
       "      <td>15</td>\n",
       "      <td>S3</td>\n",
       "      <td>0.02</td>\n",
       "      <td>Busch et al.</td>\n",
       "      <td>http://dx.doi.org/10.3389/fmars.2017.00166</td>\n",
       "    </tr>\n",
       "    <tr>\n",
       "      <th>2</th>\n",
       "      <td>Arctic Fram Strait</td>\n",
       "      <td>30</td>\n",
       "      <td>S3</td>\n",
       "      <td>0.02</td>\n",
       "      <td>Busch et al.</td>\n",
       "      <td>http://dx.doi.org/10.3389/fmars.2017.00166</td>\n",
       "    </tr>\n",
       "    <tr>\n",
       "      <th>3</th>\n",
       "      <td>Arctic Fram Strait</td>\n",
       "      <td>45</td>\n",
       "      <td>S3</td>\n",
       "      <td>0.01</td>\n",
       "      <td>Busch et al.</td>\n",
       "      <td>http://dx.doi.org/10.3389/fmars.2017.00166</td>\n",
       "    </tr>\n",
       "    <tr>\n",
       "      <th>4</th>\n",
       "      <td>Arctic Fram Strait</td>\n",
       "      <td>75</td>\n",
       "      <td>S3</td>\n",
       "      <td>0.02</td>\n",
       "      <td>Busch et al.</td>\n",
       "      <td>http://dx.doi.org/10.3389/fmars.2017.00166</td>\n",
       "    </tr>\n",
       "  </tbody>\n",
       "</table>\n",
       "</div>"
      ],
      "text/plain": [
       "                 Site Depth [m] Station  Fraction of attached cells  \\\n",
       "0  Arctic Fram Strait         5      S3                        0.02   \n",
       "1  Arctic Fram Strait        15      S3                        0.02   \n",
       "2  Arctic Fram Strait        30      S3                        0.02   \n",
       "3  Arctic Fram Strait        45      S3                        0.01   \n",
       "4  Arctic Fram Strait        75      S3                        0.02   \n",
       "\n",
       "      Reference                                        Link  \n",
       "0  Busch et al.  http://dx.doi.org/10.3389/fmars.2017.00166  \n",
       "1  Busch et al.  http://dx.doi.org/10.3389/fmars.2017.00166  \n",
       "2  Busch et al.  http://dx.doi.org/10.3389/fmars.2017.00166  \n",
       "3  Busch et al.  http://dx.doi.org/10.3389/fmars.2017.00166  \n",
       "4  Busch et al.  http://dx.doi.org/10.3389/fmars.2017.00166  "
      ]
     },
     "execution_count": 4,
     "metadata": {},
     "output_type": "execute_result"
    }
   ],
   "source": [
    "# Load the data on microaggregates\n",
    "micro = pd.read_excel('poc_data.xlsx','Microaggregates')\n",
    "micro.head()"
   ]
  },
  {
   "cell_type": "markdown",
   "metadata": {},
   "source": [
    "In a similar manner to our procedure regarding macroaggregates, we calculate the arithmetic and geometric means of the fraction of particle-attached cells within each study:"
   ]
  },
  {
   "cell_type": "code",
   "execution_count": 5,
   "metadata": {
    "collapsed": true
   },
   "outputs": [],
   "source": [
    "# Calculate the mean fraction of particle-attached cells whitin each study\n",
    "micro_study_mean = micro.groupby('Reference')['Fraction of attached cells'].apply(np.nanmean)\n",
    "micro_study_gmean = micro.groupby('Reference')['Fraction of attached cells'].apply(frac_mean)"
   ]
  },
  {
   "cell_type": "markdown",
   "metadata": {},
   "source": [
    "We then calculate the mean fraction of particle-attached cells between different studies. We calculate both the arithmetic mean fraction as well as the geometric mean fraction of cells. We thus generate two estimates for the fraction of particle-attached cells out of the total population of marine bacteria and archaea- one based on arithmetic means and one based on geometric means. We use as our best estimate the geometric mean of the estimates from the two methodologies."
   ]
  },
  {
   "cell_type": "code",
   "execution_count": 6,
   "metadata": {},
   "outputs": [
    {
     "name": "stdout",
     "output_type": "stream",
     "text": [
      "Our best estimate for the fraction of the toal number of marine bacteria and archaea which is attached to microaggregates is ≈4 percent\n"
     ]
    }
   ],
   "source": [
    "# Calculate the mean fraction of particle-attached cells between different studies\n",
    "micro_mean = micro_study_mean.mean()\n",
    "micro_gmean = frac_mean(micro_study_gmean)\n",
    "\n",
    "# Use the geometric mean of the arithmetic and geometric mean based estimates as our best estimate\n",
    "best_micro_frac = frac_mean(np.array([micro_mean,micro_gmean]))\n",
    "\n",
    "print('Our best estimate for the fraction of the toal number of marine bacteria and archaea which is attached to microaggregates is ≈%.0f percent' %(best_micro_frac*100))"
   ]
  },
  {
   "cell_type": "markdown",
   "metadata": {},
   "source": [
    "## Carbon content of particle-attached cells\n",
    "Several studies have indicated that particle-attached cells are more bigger in volume, and thus more carbon rich. To estimate the carbon content of particle-attached cells we use two strategies. The first is based on studies  which report the carbon content of particle-attached cells relative to free-living cells. We assume the carbon content of bacteria and archaea which are attached to microaggregates and macroaggregates is similar. \n",
    "\n",
    "### Relative carbon content\n",
    "We first calculate the geometric mean of the size of particle-attached cells relative to free-living cells within each study. Then we calculate the geometric mean of the values reported by different studies as our best estimate for the size of particle-attached cells relative to free-living cells."
   ]
  },
  {
   "cell_type": "code",
   "execution_count": 7,
   "metadata": {},
   "outputs": [
    {
     "name": "stdout",
     "output_type": "stream",
     "text": [
      "Our best estimate for the size of particle-attached cells relative to free-living cells is ≈3-fold\n"
     ]
    }
   ],
   "source": [
    "# Calculate the geometric mean of the relative size of particle attached cells within each study\n",
    "rel_size_study = macro.groupby(['Location','Reference'])['Size of cells relative to free-living cells'].apply(gmean)\n",
    "\n",
    "# Calculate the geometric mean of the values reported in different studies as our best estimate\n",
    "best_rel_size = gmean(rel_size_study.dropna())\n",
    "\n",
    "print('Our best estimate for the size of particle-attached cells relative to free-living cells is ≈%1.f-fold' % best_rel_size)"
   ]
  },
  {
   "cell_type": "markdown",
   "metadata": {},
   "source": [
    "### Volume of particle-attached cells\n",
    "We assembled studies estimating the volume of particle-attached cells. We convert this volume to carbon content using the allometric relation reported by [Simon & Azam](http://dx.doi.org/10.3354/meps051201). The allometric model is:\n",
    "$$C = 88.1 \\times V^{0.59}$$\n",
    "We first calculate the geometric mean of volumes within each study:"
   ]
  },
  {
   "cell_type": "code",
   "execution_count": 8,
   "metadata": {
    "collapsed": true
   },
   "outputs": [],
   "source": [
    "# Calculate the geometric mean of the volume of particle-attached cells reported within each study\n",
    "vol_study = macro.groupby('Reference')['Volume of cells [µm^3]'].apply(gmean)"
   ]
  },
  {
   "cell_type": "markdown",
   "metadata": {},
   "source": [
    "We then calculate the geometric mean of volumes reported in different studies. We convert our best estimate to the volume of particle-attached cells to carbon content based on the formula reported in Simon & Azam. We calculate the carbon content of particle-attached cells relative to free-living cells based on our estimate for the carbon content of free-living bacteria and archaea in the ocean of ≈11 fg C (see the relevant section in the Supplementary Information for more details)."
   ]
  },
  {
   "cell_type": "code",
   "execution_count": 9,
   "metadata": {},
   "outputs": [
    {
     "name": "stdout",
     "output_type": "stream",
     "text": [
      "Our best estimate for the carbon content of particle-attached cells relative to free-living cells based on volume is ≈4-fold\n"
     ]
    }
   ],
   "source": [
    "# Calculate the geometric mean of volumes reported in different studies\n",
    "best_vol = gmean(vol_study.dropna())\n",
    "\n",
    "# The allometric model reported by Simon & Azam\n",
    "sa_model = lambda x: 88.1*x**0.59\n",
    "\n",
    "# Convert our best estimate for the volume of particle-attached cells to carbon content\n",
    "best_cc = sa_model(best_vol)\n",
    "\n",
    "# Our best estimate for the carbon content of free-living marine bacteria and archaea \n",
    "free_living_cc = 11\n",
    "\n",
    "# Calculate the relative carbon content of particle-attached cells.\n",
    "vol_rel_size = best_cc/free_living_cc\n",
    "\n",
    "print('Our best estimate for the carbon content of particle-attached cells relative to free-living cells based on volume is ≈%1.f-fold' % vol_rel_size)"
   ]
  },
  {
   "cell_type": "markdown",
   "metadata": {},
   "source": [
    "We use the geometric mean of the two estimates of the carbon content of particle-attached cells relative to free-living cells as our best estimate:"
   ]
  },
  {
   "cell_type": "code",
   "execution_count": 10,
   "metadata": {},
   "outputs": [
    {
     "name": "stdout",
     "output_type": "stream",
     "text": [
      "Our best estimate for the carbon content of particle-attached cells relative to free-living cells is ≈3-fold\n"
     ]
    }
   ],
   "source": [
    "best_rel_cc= gmean([best_rel_size,vol_rel_size])\n",
    "print('Our best estimate for the carbon content of particle-attached cells relative to free-living cells is ≈%1.f-fold' % best_rel_cc)"
   ]
  },
  {
   "cell_type": "markdown",
   "metadata": {},
   "source": [
    "To estimate the fraction of the total biomass of marine bacteria and archaea which is particle-attached, we sum up the fraction of the total number of cells contributed by cells attached to micro- and macroaggregates, and multiply it by the relative carbon content of particle-attached cells:"
   ]
  },
  {
   "cell_type": "code",
   "execution_count": 11,
   "metadata": {},
   "outputs": [
    {
     "name": "stdout",
     "output_type": "stream",
     "text": [
      "Our best estimate for the fraction of the total biomass of marine bacteria and archaea which is particle-attached is ≈23 percent\n"
     ]
    }
   ],
   "source": [
    "best_estimate = (best_macro_frac+best_micro_frac)*best_rel_cc\n",
    "\n",
    "print('Our best estimate for the fraction of the total biomass of marine bacteria and archaea which is particle-attached is ≈%.0f percent' %(best_estimate*100))"
   ]
  },
  {
   "cell_type": "markdown",
   "metadata": {},
   "source": [
    "# Uncertainty analysis\n",
    "To project the uncertainty associated with our estimate of the fraction of the total biomass of marine bacteria and archaea which is particle-attached, we first project the uncertainty associated with the two factors of our estimate - the fraction of the total number of cells which is particle-attached and the relative carbon content of particle-attached cells\n",
    "\n",
    "## Fraction of cells\n",
    "We first assess the uncertainty associated with the estimate of the fraction of the total number of cells which is attached to microaggregates and macroaggregates. We then propagate the uncertainty from each fraction to our estimate of the total fraction of cells. We begin with the uncertainty associated with our estimate of the total number of cells which are attached to microaggregates.\n",
    "\n",
    "### Microaggregates\n",
    "We collect both the intra-study uncertainty and the interstudy uncertainty associated with our estimate of the fraction of the total number of marine bacteria and archaea which are attached to microaggregates. We use the maximum of this collection of uncertainties as our best projection of the uncertainty associated with our estimate of the fraction of the total number of marine bacteria and archaea whcih are attached to microaggregates.\n",
    "#### Intra-study uncertainty\n",
    "We calculate the 95% confidence interval around the mean fraction of microaggregate-attached cells within each study:"
   ]
  },
  {
   "cell_type": "code",
   "execution_count": 12,
   "metadata": {
    "collapsed": true
   },
   "outputs": [],
   "source": [
    "# Calculate the 95% confidence interval around the mean fraction of cells attached to microaggregates \n",
    "# within each study\n",
    "micro_study_CI = micro.groupby('Reference')['Fraction of attached cells'].apply(frac_CI)"
   ]
  },
  {
   "cell_type": "markdown",
   "metadata": {},
   "source": [
    "#### Interstudy uncertainty\n",
    "We calculate the 95% confidence interval around the mean fraction of microaggregate-attached cells between differnt studies:"
   ]
  },
  {
   "cell_type": "code",
   "execution_count": 13,
   "metadata": {
    "collapsed": true
   },
   "outputs": [],
   "source": [
    "# Calculate the 95% confidence interval around the mean fraction of cells attached to microaggregates \n",
    "# between different studies\n",
    "micro_CI = frac_CI(micro_study_gmean)"
   ]
  },
  {
   "cell_type": "markdown",
   "metadata": {},
   "source": [
    "#### Inter-method uncertainty\n",
    "We calculate the 95% confidence interval around the geometric mean between the estimate based on arithmetic means and geometric means of the fraction of cells attached to microaggregates:"
   ]
  },
  {
   "cell_type": "code",
   "execution_count": 14,
   "metadata": {
    "collapsed": true
   },
   "outputs": [],
   "source": [
    "# Calculate the 95% confidence interval around the geometric mean of the estimates based on arithmetic means\n",
    "# and geometric means\n",
    "micro_inter_method_CI = frac_CI(np.array([micro_mean,micro_gmean]))"
   ]
  },
  {
   "cell_type": "markdown",
   "metadata": {},
   "source": [
    "We use the maximum of the collection of uncertainties as our best projection for the uncertainty associated with our estimate of the fraction of the total number of bacteria and archaea which is attached to microaggregates:"
   ]
  },
  {
   "cell_type": "code",
   "execution_count": 15,
   "metadata": {},
   "outputs": [
    {
     "name": "stdout",
     "output_type": "stream",
     "text": [
      "Our best projection for the uncertainty associated with our estimate of the total number of bacteria and archaea which is attached to microaggregates is ≈2.3-fold\n"
     ]
    }
   ],
   "source": [
    "micro_frac_CI = np.max([micro_inter_method_CI,micro_study_CI.max(),micro_CI])\n",
    "print('Our best projection for the uncertainty associated with our estimate of the total number of bacteria and archaea which is attached to microaggregates is ≈%.1f-fold' %micro_frac_CI)"
   ]
  },
  {
   "cell_type": "markdown",
   "metadata": {},
   "source": [
    "### Macroaggregates\n",
    "We collect both the intra-study uncertainty and the interstudy uncertainty associated with our estimate of the fraction of the total number of marine bacteria and archaea which are attached to macroaggregates. We use the maximum of this collection of uncertainties as our best projection of the uncertainty associated with our estimate of the fraction of the total number of marine bacteria and archaea whcih are attached to macroaggregates.\n",
    "#### Intra-study uncertainty\n",
    "We calculate the 95% confidence interval around the mean fraction of macroaggregate-attached cells within each study:"
   ]
  },
  {
   "cell_type": "code",
   "execution_count": 16,
   "metadata": {},
   "outputs": [
    {
     "name": "stderr",
     "output_type": "stream",
     "text": [
      "/home/yinon/.local/lib/python3.6/site-packages/numpy/lib/function_base.py:4274: RuntimeWarning: Invalid value encountered in percentile\n",
      "  interpolation=interpolation)\n"
     ]
    }
   ],
   "source": [
    "# Calculate the 95% confidence interval around the mean fraction of cells attached to macroaggregates \n",
    "# within each study\n",
    "macro_study_CI = macro.groupby('Reference')['Fraction of cells in aggregates'].apply(frac_CI)"
   ]
  },
  {
   "cell_type": "markdown",
   "metadata": {},
   "source": [
    "#### Interstudy uncertainty\n",
    "We calculate the 95% confidence interval around the mean fraction of macroaggregate-attached cells between differnt studies:"
   ]
  },
  {
   "cell_type": "code",
   "execution_count": 17,
   "metadata": {
    "collapsed": true
   },
   "outputs": [],
   "source": [
    "# Calculate the 95% confidence interval around the mean fraction of cells attached to microaggregates \n",
    "# between different studies\n",
    "macro_CI = frac_CI(macro_study_gmean)"
   ]
  },
  {
   "cell_type": "markdown",
   "metadata": {},
   "source": [
    "#### Inter-method uncertainty\n",
    "We calculate the 95% confidence interval around the geometric mean between the estimate based on arithmetic means and geometric means of the fraction of cells attached to microaggregates:"
   ]
  },
  {
   "cell_type": "code",
   "execution_count": 18,
   "metadata": {
    "collapsed": true
   },
   "outputs": [],
   "source": [
    "# Calculate the 95% confidence interval around the geometric mean of the estimates based on arithmetic means\n",
    "# and geometric means\n",
    "macro_inter_method_CI = frac_CI(np.array([macro_mean,macro_gmean]))"
   ]
  },
  {
   "cell_type": "markdown",
   "metadata": {},
   "source": [
    "We use the maximum of the collection of uncertainties as our best projection for the uncertainty associated with our estimate of the fraction of the total number of bacteria and archaea which is attached to macroaggregates:"
   ]
  },
  {
   "cell_type": "code",
   "execution_count": 19,
   "metadata": {},
   "outputs": [
    {
     "name": "stdout",
     "output_type": "stream",
     "text": [
      "Our best projection for the uncertainty associated with our estimate of the total number of bacteria and archaea which is attached to macroaggregates is ≈7.8-fold\n"
     ]
    }
   ],
   "source": [
    "macro_frac_CI = np.max([macro_inter_method_CI,macro_study_CI.max(),macro_CI])\n",
    "print('Our best projection for the uncertainty associated with our estimate of the total number of bacteria and archaea which is attached to macroaggregates is ≈%.1f-fold' %macro_frac_CI)"
   ]
  },
  {
   "cell_type": "markdown",
   "metadata": {},
   "source": [
    "We propagate the uncertainties associated with the estimates of the fraction of the total number of marine bacteria and archaea attached to micro- and macroaggregates to the final estimate of the fraction of marine bacteria and archaea which is particle-attached:"
   ]
  },
  {
   "cell_type": "code",
   "execution_count": 20,
   "metadata": {},
   "outputs": [
    {
     "name": "stdout",
     "output_type": "stream",
     "text": [
      "Our best projection for the uncertainty associated with our estimate of the total number of bacteria and archaea which is particle-attached is ≈2.9-fold\n"
     ]
    }
   ],
   "source": [
    "# Propagate the uncertainties of the fraction of cells attached to micro- and macroaggregates\n",
    "# to the estiamte of the fraction of cells which is particle-attached\n",
    "num_frac_CI = CI_sum_prop(estimates=np.array([best_micro_frac,best_macro_frac]),mul_CIs=np.array([micro_frac_CI,macro_frac_CI]))\n",
    "print('Our best projection for the uncertainty associated with our estimate of the total number of bacteria and archaea which is particle-attached is ≈%.1f-fold' %num_frac_CI)"
   ]
  },
  {
   "cell_type": "markdown",
   "metadata": {},
   "source": [
    "## Relative carbon content\n",
    "We assess the uncertainty associated with the estimate of the relative carbon content of particle-attached cells. We used two independent methods to estimate the relative carbon content. We assess the unertainty associate with each one of them.\n",
    "### Relative size-based\n",
    "We collect both the intra-study uncertainty and the interstudy uncertainty associated with our estimate of the size of particle-attached cells relative to free-livign cells. \n",
    "#### Intra-study\n",
    "We calculate the 95% confidence interval around the mean size of particle-attached cells reltive to free-living cells within each study:"
   ]
  },
  {
   "cell_type": "code",
   "execution_count": 21,
   "metadata": {
    "collapsed": true
   },
   "outputs": [],
   "source": [
    "size_intra_CI = macro.groupby(['Location','Reference'])['Size of cells relative to free-living cells'].apply(geo_CI_calc)"
   ]
  },
  {
   "cell_type": "markdown",
   "metadata": {},
   "source": [
    "#### Inter-study\n",
    "We calculate the 95% confidence interval around the mean size of particle-attached cells reltive to free-living cells between different studies:"
   ]
  },
  {
   "cell_type": "code",
   "execution_count": 22,
   "metadata": {
    "collapsed": true
   },
   "outputs": [],
   "source": [
    "size_inter_CI = geo_CI_calc(rel_size_study.dropna())"
   ]
  },
  {
   "cell_type": "markdown",
   "metadata": {},
   "source": [
    "### Volume-based\n",
    "We collect both the intra-study uncertainty and the interstudy uncertainty associated with our estimate of the volume of particle-attached cells. \n",
    "#### Intra-study\n",
    "We calculate the 95% confidence interval around the mean volume of particle-attached cells within each study:"
   ]
  },
  {
   "cell_type": "code",
   "execution_count": 23,
   "metadata": {
    "collapsed": true
   },
   "outputs": [],
   "source": [
    "vol_intra_CI = macro.groupby('Reference')['Volume of cells [µm^3]'].apply(geo_CI_calc)"
   ]
  },
  {
   "cell_type": "markdown",
   "metadata": {},
   "source": [
    "#### Inter-study\n",
    "We calculate the 95% confidence interval around the mean volume of particle-attached cells between different studies:"
   ]
  },
  {
   "cell_type": "code",
   "execution_count": 24,
   "metadata": {
    "collapsed": true
   },
   "outputs": [],
   "source": [
    "vol_inter_CI = geo_CI_calc(vol_study.dropna())"
   ]
  },
  {
   "cell_type": "markdown",
   "metadata": {},
   "source": [
    "### Inter-method uncertainty\n",
    "We calculate the 95% confidence interval around the geometric mean between the size-based estimate and the volume based estimate:"
   ]
  },
  {
   "cell_type": "code",
   "execution_count": 25,
   "metadata": {
    "collapsed": true
   },
   "outputs": [],
   "source": [
    "cc_inter_method_CI = geo_CI_calc(np.array([vol_rel_size,best_rel_size]))"
   ]
  },
  {
   "cell_type": "markdown",
   "metadata": {},
   "source": [
    "We use the maximum of the collection of uncertainties for both the volume-based methoda and the size based method as our best projection of the uncertainty associated with our estimate of the relative carbon content of particle-attached bacteria and archaea:"
   ]
  },
  {
   "cell_type": "code",
   "execution_count": 26,
   "metadata": {},
   "outputs": [
    {
     "name": "stdout",
     "output_type": "stream",
     "text": [
      "Our best projection for the uncertainty associated with our estimate of the relative carbon content of particles-attached bacteria and archaea is ≈2.8-fold\n"
     ]
    }
   ],
   "source": [
    "cc_CI = np.max([cc_inter_method_CI,vol_inter_CI,vol_intra_CI.max(),size_inter_CI,size_intra_CI.max()])\n",
    "print('Our best projection for the uncertainty associated with our estimate of the relative carbon content of particles-attached bacteria and archaea is ≈%.1f-fold' %cc_CI)"
   ]
  },
  {
   "cell_type": "markdown",
   "metadata": {},
   "source": [
    "We combine our projections for the uncertainty associated with our estimate of the fraction of the total number of cells which is particle-attached and our estimate of the relative carbon content of particle-attached cells."
   ]
  },
  {
   "cell_type": "code",
   "execution_count": 27,
   "metadata": {},
   "outputs": [
    {
     "name": "stdout",
     "output_type": "stream",
     "text": [
      "Our best projection for the uncertainty associated with our estimate of the fraction of the total biomass of marine bactetia and archaea which is particle-attached is ≈4.4-fold\n"
     ]
    }
   ],
   "source": [
    "mul_CI = CI_prod_prop(np.array([cc_CI,num_frac_CI]))\n",
    "print('Our best projection for the uncertainty associated with our estimate of the fraction of the total biomass of marine bactetia and archaea which is particle-attached is ≈%.1f-fold' %mul_CI)"
   ]
  },
  {
   "cell_type": "markdown",
   "metadata": {},
   "source": [
    "Our final parameters are:"
   ]
  },
  {
   "cell_type": "code",
   "execution_count": 28,
   "metadata": {},
   "outputs": [
    {
     "name": "stdout",
     "output_type": "stream",
     "text": [
      "Fraction of the total biomass of marine bacteria and archaea which is particle-attahced: 2.3e-01\n",
      "Uncertainty associated with the fraction of the biomass of marine bacteria and archaea which is particle-attached: 4.4-fold\n"
     ]
    }
   ],
   "source": [
    "print('Fraction of the total biomass of marine bacteria and archaea which is particle-attahced: %.1e' % best_estimate)\n",
    "print('Uncertainty associated with the fraction of the biomass of marine bacteria and archaea which is particle-attached: %.1f-fold' % mul_CI)\n",
    "\n",
    "old_results = pd.read_excel('../marine_prok_biomass_estimate.xlsx')\n",
    "result = old_results.copy()\n",
    "result.loc[4] = pd.Series({\n",
    "                'Parameter': 'Fraction of the total biomass of marine bacteria and archaea which is particle-attached',\n",
    "                'Value': best_estimate,\n",
    "                'Units': 'Unitless',\n",
    "                'Uncertainty': \"{0:.1f}\".format(mul_CI)\n",
    "                })\n",
    "\n",
    "result.to_excel('../marine_prok_biomass_estimate.xlsx',index=False)"
   ]
  }
 ],
 "metadata": {
  "kernelspec": {
   "display_name": "Python 3",
   "language": "python",
   "name": "python3"
  },
  "language_info": {
   "codemirror_mode": {
    "name": "ipython",
    "version": 3
   },
   "file_extension": ".py",
   "mimetype": "text/x-python",
   "name": "python",
   "nbconvert_exporter": "python",
   "pygments_lexer": "ipython3",
   "version": "3.6.3"
  }
 },
 "nbformat": 4,
 "nbformat_minor": 2
}
