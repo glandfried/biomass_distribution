{
 "cells": [
  {
   "cell_type": "code",
   "execution_count": null,
   "metadata": {
    "collapsed": true
   },
   "outputs": [],
   "source": [
    "# Load dependencies\n",
    "import pandas as pd\n",
    "import numpy as np\n",
    "import sys\n",
    "sys.path.insert(0, '../../../statistics_helper')\n",
    "from CI_helper import *\n",
    "pd.options.display.float_format = '{:,.1f}'.format"
   ]
  },
  {
   "cell_type": "markdown",
   "metadata": {},
   "source": [
    "# Estimating the carbon content of marine bacteria and archaea"
   ]
  },
  {
   "cell_type": "markdown",
   "metadata": {},
   "source": [
    "In order to estimate the characteristic carbon content of marine bacteria and archaea, we collected data on the carbon content of marine prokaryotes from 5 studies. Here is a summary of the data collected"
   ]
  },
  {
   "cell_type": "code",
   "execution_count": 1,
   "metadata": {},
   "outputs": [
    {
     "data": {
      "text/html": [
       "<div>\n",
       "<style scoped>\n",
       "    .dataframe tbody tr th:only-of-type {\n",
       "        vertical-align: middle;\n",
       "    }\n",
       "\n",
       "    .dataframe tbody tr th {\n",
       "        vertical-align: top;\n",
       "    }\n",
       "\n",
       "    .dataframe thead th {\n",
       "        text-align: right;\n",
       "    }\n",
       "</style>\n",
       "<table border=\"1\" class=\"dataframe\">\n",
       "  <thead>\n",
       "    <tr style=\"text-align: right;\">\n",
       "      <th></th>\n",
       "      <th>Reference</th>\n",
       "      <th>Link to paper</th>\n",
       "      <th>fg C cell-1</th>\n",
       "      <th>Location</th>\n",
       "      <th>Intra-study uncertainty</th>\n",
       "      <th>remarks</th>\n",
       "    </tr>\n",
       "  </thead>\n",
       "  <tbody>\n",
       "    <tr>\n",
       "      <th>0</th>\n",
       "      <td>Lee and Fuhrman (1987)</td>\n",
       "      <td>https://www.ncbi.nlm.nih.gov/pubmed/16347362</td>\n",
       "      <td>20.0</td>\n",
       "      <td>NW-atlantic</td>\n",
       "      <td>1.1</td>\n",
       "      <td>standard error of 0.8. We use two standard err...</td>\n",
       "    </tr>\n",
       "    <tr>\n",
       "      <th>1</th>\n",
       "      <td>Ducklow and Carlson (1992)</td>\n",
       "      <td>http://dx.doi.org/10.1007/978-1-4684-7609-5_3</td>\n",
       "      <td>12.2</td>\n",
       "      <td>Oceans</td>\n",
       "      <td>1.1</td>\n",
       "      <td>mean and standard error calculated in sheet2 b...</td>\n",
       "    </tr>\n",
       "    <tr>\n",
       "      <th>2</th>\n",
       "      <td>Gundersen et al. (2002)</td>\n",
       "      <td>http://onlinelibrary.wiley.com/doi/10.4319/lo....</td>\n",
       "      <td>7.7</td>\n",
       "      <td>N-Atlantic</td>\n",
       "      <td>1.1</td>\n",
       "      <td>mean and standard error calculated in sheet3 b...</td>\n",
       "    </tr>\n",
       "    <tr>\n",
       "      <th>3</th>\n",
       "      <td>Carlson et al. (1999)</td>\n",
       "      <td>http://dx.doi.org/10.3354/ame019229</td>\n",
       "      <td>7.7</td>\n",
       "      <td>Antarctica</td>\n",
       "      <td>1.3</td>\n",
       "      <td>range of 5.5-9.8</td>\n",
       "    </tr>\n",
       "    <tr>\n",
       "      <th>4</th>\n",
       "      <td>Fukuda et al. (1998)</td>\n",
       "      <td>http://aem.asm.org/cgi/pmidlookup?view=long&amp;pm...</td>\n",
       "      <td>12.4</td>\n",
       "      <td>Pacific Ocean</td>\n",
       "      <td>1.4</td>\n",
       "      <td>std of 6.3 and sample size of 6 equals standar...</td>\n",
       "    </tr>\n",
       "  </tbody>\n",
       "</table>\n",
       "</div>"
      ],
      "text/plain": [
       "                    Reference  \\\n",
       "0      Lee and Fuhrman (1987)   \n",
       "1  Ducklow and Carlson (1992)   \n",
       "2     Gundersen et al. (2002)   \n",
       "3       Carlson et al. (1999)   \n",
       "4        Fukuda et al. (1998)   \n",
       "\n",
       "                                       Link to paper  fg C cell-1  \\\n",
       "0       https://www.ncbi.nlm.nih.gov/pubmed/16347362         20.0   \n",
       "1      http://dx.doi.org/10.1007/978-1-4684-7609-5_3         12.2   \n",
       "2  http://onlinelibrary.wiley.com/doi/10.4319/lo....          7.7   \n",
       "3                http://dx.doi.org/10.3354/ame019229          7.7   \n",
       "4  http://aem.asm.org/cgi/pmidlookup?view=long&pm...         12.4   \n",
       "\n",
       "        Location  Intra-study uncertainty  \\\n",
       "0    NW-atlantic                      1.1   \n",
       "1         Oceans                      1.1   \n",
       "2     N-Atlantic                      1.1   \n",
       "3     Antarctica                      1.3   \n",
       "4  Pacific Ocean                      1.4   \n",
       "\n",
       "                                             remarks  \n",
       "0  standard error of 0.8. We use two standard err...  \n",
       "1  mean and standard error calculated in sheet2 b...  \n",
       "2  mean and standard error calculated in sheet3 b...  \n",
       "3                                   range of 5.5-9.8  \n",
       "4  std of 6.3 and sample size of 6 equals standar...  "
      ]
     },
     "execution_count": 1,
     "metadata": {},
     "output_type": "execute_result"
    }
   ],
   "source": [
    "summary = pd.read_excel('marine_prok_carbon_content_data.xlsx','Summary')\n",
    "summary.head()"
   ]
  },
  {
   "cell_type": "markdown",
   "metadata": {},
   "source": [
    "We use the geometric mean of the carbon content from each study as our best estimate for the carbon content of marine bacteria and archaea."
   ]
  },
  {
   "cell_type": "code",
   "execution_count": 2,
   "metadata": {},
   "outputs": [
    {
     "name": "stdout",
     "output_type": "stream",
     "text": [
      "Our best estimate for the carbon content of marine bacteria and arcaea is 11.2 fg C cell^-1\n"
     ]
    }
   ],
   "source": [
    "best_estimate = 10**(np.log10(summary['fg C cell-1']).mean())\n",
    "print('Our best estimate for the carbon content of marine bacteria and arcaea is %0.1f fg C cell^-1' % best_estimate)"
   ]
  },
  {
   "cell_type": "markdown",
   "metadata": {},
   "source": [
    "# Uncertainty analysis\n",
    "\n",
    "In order to assess the uncertainty associated with our estimate of the carbon content of marine bacteria and archaea, we survey all availabe measures of uncertainty.\n",
    "\n",
    "## Intra-study uncertainty\n",
    "We collected the uncertainties reported in each of the studies. Below is a list of the uncertainties reported in each of the studies. The highest uncertainty reported is lower than 1.5-fold."
   ]
  },
  {
   "cell_type": "code",
   "execution_count": 3,
   "metadata": {},
   "outputs": [
    {
     "name": "stdout",
     "output_type": "stream",
     "text": [
      "                    Reference  Intra-study uncertainty\n",
      "0      Lee and Fuhrman (1987)                      1.1\n",
      "1  Ducklow and Carlson (1992)                      1.1\n",
      "2     Gundersen et al. (2002)                      1.1\n",
      "3       Carlson et al. (1999)                      1.3\n",
      "4        Fukuda et al. (1998)                      1.4\n"
     ]
    }
   ],
   "source": [
    "print(summary[['Reference','Intra-study uncertainty']])"
   ]
  },
  {
   "cell_type": "markdown",
   "metadata": {},
   "source": [
    "## Interstudy uncertainty\n",
    "We estimate the 95% multiplicative confidence interval around the geometric mean of the values from the different studies. "
   ]
  },
  {
   "cell_type": "code",
   "execution_count": 4,
   "metadata": {},
   "outputs": [
    {
     "name": "stdout",
     "output_type": "stream",
     "text": [
      "The interstudy uncertainty is ≈1.4-fold\n"
     ]
    }
   ],
   "source": [
    "mul_CI = geo_CI_calc(summary['fg C cell-1'])\n",
    "print('The interstudy uncertainty is ≈%.1f-fold' % mul_CI)"
   ]
  },
  {
   "cell_type": "markdown",
   "metadata": {},
   "source": [
    "We thus take the highest uncertainty from our collection of intra-study and interstudy uncertainties which is ≈1.4-fold.\n",
    "Our final parameters are:"
   ]
  },
  {
   "cell_type": "code",
   "execution_count": 5,
   "metadata": {},
   "outputs": [
    {
     "name": "stdout",
     "output_type": "stream",
     "text": [
      "Carbon content of marine bacteria and archaea: 11.2 fg C cell^-1\n",
      "Uncertainty associated with the carbon content of marine bacteria and archaea: 1.4-fold\n"
     ]
    }
   ],
   "source": [
    "print('Carbon content of marine bacteria and archaea: %.1f fg C cell^-1' % best_estimate)\n",
    "print('Uncertainty associated with the carbon content of marine bacteria and archaea: %.1f-fold' % mul_CI)\n",
    "\n",
    "old_results = pd.read_excel('../marine_prok_biomass_estimate.xlsx')\n",
    "result = old_results.copy()\n",
    "result.loc[1] = pd.Series({\n",
    "                'Parameter': 'Carbon content',\n",
    "                'Value': \"{0:.1f}\".format(best_estimate),\n",
    "                'Units': 'fg C cell^-1',\n",
    "                'Uncertainty': \"{0:.1f}\".format(mul_CI)\n",
    "                })\n",
    "\n",
    "result.to_excel('../marine_prok_biomass_estimate.xlsx',index=False)\n"
   ]
  }
 ],
 "metadata": {
  "kernelspec": {
   "display_name": "Python 3",
   "language": "python",
   "name": "python3"
  },
  "language_info": {
   "codemirror_mode": {
    "name": "ipython",
    "version": 3
   },
   "file_extension": ".py",
   "mimetype": "text/x-python",
   "name": "python",
   "nbconvert_exporter": "python",
   "pygments_lexer": "ipython3",
   "version": "3.5.2"
  }
 },
 "nbformat": 4,
 "nbformat_minor": 2
}
