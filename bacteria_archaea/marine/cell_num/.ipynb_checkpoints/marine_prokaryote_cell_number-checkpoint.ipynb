{
 "cells": [
  {
   "cell_type": "markdown",
   "metadata": {},
   "source": [
    "# Estimating the total number of marine bacteria and archaea"
   ]
  },
  {
   "cell_type": "markdown",
   "metadata": {},
   "source": [
    "This notebook details the procedure for estimating the total number of marine bacteria and archaea.\n",
    "The estimate is based on three data sources:\n",
    "[Aristegui et al.](http://dx.doi.org/10.4319/lo.2009.54.5.1501),\n",
    "[Buitenhuis et al.](http://dx.doi.org/10.5194/essd-4-101-2012), and\n",
    "[Lloyd et al.](http://dx.doi.org/10.1128/AEM.02090-13)\n"
   ]
  },
  {
   "cell_type": "code",
   "execution_count": 1,
   "metadata": {
    "collapsed": true
   },
   "outputs": [],
   "source": [
    "import pandas as pd\n",
    "import numpy as np\n",
    "from scipy.stats import gmean\n",
    "pd.options.display.float_format = '{:,.1e}'.format\n",
    "import sys\n",
    "sys.path.insert(0, '../../../statistics_helper')\n",
    "from CI_helper import *\n",
    "# Genaral parameters used in the estimate\n",
    "ocean_area = 3.6e14\n",
    "liters_in_m3 = 1e3\n",
    "ml_in_m3 = 1e6"
   ]
  },
  {
   "cell_type": "code",
   "execution_count": 2,
   "metadata": {
    "collapsed": true
   },
   "outputs": [],
   "source": [
    "# Load the datasets\n",
    "buitenhuis = pd.read_excel('marine_prok_cell_num_data.xlsx','Buitenhuis')\n",
    "aristegui = pd.read_excel('marine_prok_cell_num_data.xlsx','Aristegui')\n",
    "aristegui[['Cell abundance (cells m-2)','SE']] = aristegui[['Cell abundance (cells m-2)','SE']].astype(float)\n",
    "lloyd = pd.read_excel('marine_prok_cell_num_data.xlsx','Lloyd')"
   ]
  },
  {
   "cell_type": "markdown",
   "metadata": {},
   "source": [
    "Here are samples from the data in Aristegui et al.:"
   ]
  },
  {
   "cell_type": "code",
   "execution_count": 3,
   "metadata": {},
   "outputs": [
    {
     "data": {
      "text/html": [
       "<div>\n",
       "<style scoped>\n",
       "    .dataframe tbody tr th:only-of-type {\n",
       "        vertical-align: middle;\n",
       "    }\n",
       "\n",
       "    .dataframe tbody tr th {\n",
       "        vertical-align: top;\n",
       "    }\n",
       "\n",
       "    .dataframe thead th {\n",
       "        text-align: right;\n",
       "    }\n",
       "</style>\n",
       "<table border=\"1\" class=\"dataframe\">\n",
       "  <thead>\n",
       "    <tr style=\"text-align: right;\">\n",
       "      <th></th>\n",
       "      <th>Zone</th>\n",
       "      <th>Cell abundance (cells m-2)</th>\n",
       "      <th>SE</th>\n",
       "    </tr>\n",
       "  </thead>\n",
       "  <tbody>\n",
       "    <tr>\n",
       "      <th>0</th>\n",
       "      <td>Epipelagic (0-200 m)</td>\n",
       "      <td>1.1e+14</td>\n",
       "      <td>8.0e+12</td>\n",
       "    </tr>\n",
       "    <tr>\n",
       "      <th>1</th>\n",
       "      <td>Mesopelagic (200-1000 m)</td>\n",
       "      <td>1.7e+14</td>\n",
       "      <td>1.0e+13</td>\n",
       "    </tr>\n",
       "    <tr>\n",
       "      <th>2</th>\n",
       "      <td>Bathypelagic (1000-4000 m)</td>\n",
       "      <td>1.9e+14</td>\n",
       "      <td>1.4e+13</td>\n",
       "    </tr>\n",
       "  </tbody>\n",
       "</table>\n",
       "</div>"
      ],
      "text/plain": [
       "                         Zone  Cell abundance (cells m-2)      SE\n",
       "0        Epipelagic (0-200 m)                     1.1e+14 8.0e+12\n",
       "1    Mesopelagic (200-1000 m)                     1.7e+14 1.0e+13\n",
       "2  Bathypelagic (1000-4000 m)                     1.9e+14 1.4e+13"
      ]
     },
     "execution_count": 3,
     "metadata": {},
     "output_type": "execute_result"
    }
   ],
   "source": [
    "aristegui.head()"
   ]
  },
  {
   "cell_type": "markdown",
   "metadata": {},
   "source": [
    "From the data in Buitenhuis et al.:"
   ]
  },
  {
   "cell_type": "code",
   "execution_count": 4,
   "metadata": {},
   "outputs": [
    {
     "data": {
      "text/html": [
       "<div>\n",
       "<style scoped>\n",
       "    .dataframe tbody tr th:only-of-type {\n",
       "        vertical-align: middle;\n",
       "    }\n",
       "\n",
       "    .dataframe tbody tr th {\n",
       "        vertical-align: top;\n",
       "    }\n",
       "\n",
       "    .dataframe thead th {\n",
       "        text-align: right;\n",
       "    }\n",
       "</style>\n",
       "<table border=\"1\" class=\"dataframe\">\n",
       "  <thead>\n",
       "    <tr style=\"text-align: right;\">\n",
       "      <th></th>\n",
       "      <th>Investigators</th>\n",
       "      <th>Reference</th>\n",
       "      <th>Cruise/sample id</th>\n",
       "      <th>Latitude</th>\n",
       "      <th>Longitude</th>\n",
       "      <th>Year</th>\n",
       "      <th>day</th>\n",
       "      <th>Depth</th>\n",
       "      <th>month</th>\n",
       "      <th>Bact/L</th>\n",
       "      <th>ug C/L</th>\n",
       "    </tr>\n",
       "  </thead>\n",
       "  <tbody>\n",
       "    <tr>\n",
       "      <th>0</th>\n",
       "      <td>Arabian_Sea/bottle</td>\n",
       "      <td>NaN</td>\n",
       "      <td>28001</td>\n",
       "      <td>1.9e+01</td>\n",
       "      <td>5.8e+01</td>\n",
       "      <td>1995</td>\n",
       "      <td>1.2e+01</td>\n",
       "      <td>1.1e+01</td>\n",
       "      <td>9</td>\n",
       "      <td>4.9e+09</td>\n",
       "      <td>4.5e+01</td>\n",
       "    </tr>\n",
       "    <tr>\n",
       "      <th>1</th>\n",
       "      <td>Arabian_Sea/bottle</td>\n",
       "      <td>NaN</td>\n",
       "      <td>29001</td>\n",
       "      <td>1.9e+01</td>\n",
       "      <td>5.9e+01</td>\n",
       "      <td>1995</td>\n",
       "      <td>1.3e+01</td>\n",
       "      <td>1.6e+00</td>\n",
       "      <td>9</td>\n",
       "      <td>3.9e+09</td>\n",
       "      <td>3.5e+01</td>\n",
       "    </tr>\n",
       "    <tr>\n",
       "      <th>2</th>\n",
       "      <td>Arabian_Sea/bottle</td>\n",
       "      <td>NaN</td>\n",
       "      <td>3002</td>\n",
       "      <td>2.2e+01</td>\n",
       "      <td>6.2e+01</td>\n",
       "      <td>1995</td>\n",
       "      <td>2.0e+01</td>\n",
       "      <td>8.3e+00</td>\n",
       "      <td>8</td>\n",
       "      <td>3.2e+09</td>\n",
       "      <td>2.9e+01</td>\n",
       "    </tr>\n",
       "    <tr>\n",
       "      <th>3</th>\n",
       "      <td>Arabian_Sea/bottle</td>\n",
       "      <td>NaN</td>\n",
       "      <td>3002</td>\n",
       "      <td>2.2e+01</td>\n",
       "      <td>6.2e+01</td>\n",
       "      <td>1995</td>\n",
       "      <td>2.0e+01</td>\n",
       "      <td>2.3e+00</td>\n",
       "      <td>8</td>\n",
       "      <td>3.2e+09</td>\n",
       "      <td>2.9e+01</td>\n",
       "    </tr>\n",
       "    <tr>\n",
       "      <th>4</th>\n",
       "      <td>Arabian_Sea/bottle</td>\n",
       "      <td>NaN</td>\n",
       "      <td>3002</td>\n",
       "      <td>2.2e+01</td>\n",
       "      <td>6.2e+01</td>\n",
       "      <td>1995</td>\n",
       "      <td>2.0e+01</td>\n",
       "      <td>5.7e+00</td>\n",
       "      <td>8</td>\n",
       "      <td>3.2e+09</td>\n",
       "      <td>2.9e+01</td>\n",
       "    </tr>\n",
       "  </tbody>\n",
       "</table>\n",
       "</div>"
      ],
      "text/plain": [
       "        Investigators Reference Cruise/sample id  Latitude  Longitude  Year  \\\n",
       "0  Arabian_Sea/bottle       NaN            28001   1.9e+01    5.8e+01  1995   \n",
       "1  Arabian_Sea/bottle       NaN            29001   1.9e+01    5.9e+01  1995   \n",
       "2  Arabian_Sea/bottle       NaN             3002   2.2e+01    6.2e+01  1995   \n",
       "3  Arabian_Sea/bottle       NaN             3002   2.2e+01    6.2e+01  1995   \n",
       "4  Arabian_Sea/bottle       NaN             3002   2.2e+01    6.2e+01  1995   \n",
       "\n",
       "      day   Depth  month  Bact/L  ug C/L  \n",
       "0 1.2e+01 1.1e+01      9 4.9e+09 4.5e+01  \n",
       "1 1.3e+01 1.6e+00      9 3.9e+09 3.5e+01  \n",
       "2 2.0e+01 8.3e+00      8 3.2e+09 2.9e+01  \n",
       "3 2.0e+01 2.3e+00      8 3.2e+09 2.9e+01  \n",
       "4 2.0e+01 5.7e+00      8 3.2e+09 2.9e+01  "
      ]
     },
     "execution_count": 4,
     "metadata": {},
     "output_type": "execute_result"
    }
   ],
   "source": [
    "buitenhuis.head()"
   ]
  },
  {
   "cell_type": "markdown",
   "metadata": {},
   "source": [
    "And from Llyod et al.:"
   ]
  },
  {
   "cell_type": "code",
   "execution_count": 5,
   "metadata": {},
   "outputs": [
    {
     "data": {
      "text/html": [
       "<div>\n",
       "<style scoped>\n",
       "    .dataframe tbody tr th:only-of-type {\n",
       "        vertical-align: middle;\n",
       "    }\n",
       "\n",
       "    .dataframe tbody tr th {\n",
       "        vertical-align: top;\n",
       "    }\n",
       "\n",
       "    .dataframe thead th {\n",
       "        text-align: right;\n",
       "    }\n",
       "</style>\n",
       "<table border=\"1\" class=\"dataframe\">\n",
       "  <thead>\n",
       "    <tr style=\"text-align: right;\">\n",
       "      <th></th>\n",
       "      <th>paper</th>\n",
       "      <th>Sample</th>\n",
       "      <th>Water Depth (m)</th>\n",
       "      <th>Cells per cc</th>\n",
       "      <th>CARDFISH Bac per cc</th>\n",
       "      <th>CARDFISH Arc per cc</th>\n",
       "      <th>CARDFISH Total per cc</th>\n",
       "      <th>FISH yield</th>\n",
       "      <th>Fraction Arc CARDFISH</th>\n",
       "      <th>Fish or cardFish</th>\n",
       "      <th>...</th>\n",
       "      <th>Fixative</th>\n",
       "      <th>Bac permeabilization</th>\n",
       "      <th>Arc permeabilization</th>\n",
       "      <th>Bac probe</th>\n",
       "      <th>Arc probe</th>\n",
       "      <th>Counting method</th>\n",
       "      <th>qPCR-Bacteria (copies/mL water)</th>\n",
       "      <th>qPCR-Archaea (copies/mL water)</th>\n",
       "      <th>qPCR-MCG (copies/mL water)</th>\n",
       "      <th>Total qPCR(copies/mL water)</th>\n",
       "    </tr>\n",
       "  </thead>\n",
       "  <tbody>\n",
       "    <tr>\n",
       "      <th>0</th>\n",
       "      <td>Al Ali 2009</td>\n",
       "      <td>La Seyne-sur-Mer, French Mediterranean coast</td>\n",
       "      <td>2.5e+01</td>\n",
       "      <td>1.0e+06</td>\n",
       "      <td>7.5e+05</td>\n",
       "      <td>9.2e+04</td>\n",
       "      <td>8.4e+05</td>\n",
       "      <td>8.3e-01</td>\n",
       "      <td>1.1e-01</td>\n",
       "      <td>CARDFISH</td>\n",
       "      <td>...</td>\n",
       "      <td>formaldehyde</td>\n",
       "      <td>lysozyme/achromopeptidase</td>\n",
       "      <td>proteinase K</td>\n",
       "      <td>EUB338</td>\n",
       "      <td>ARCH915</td>\n",
       "      <td>Microscope-eye</td>\n",
       "      <td>nan</td>\n",
       "      <td>nan</td>\n",
       "      <td>nan</td>\n",
       "      <td>nan</td>\n",
       "    </tr>\n",
       "    <tr>\n",
       "      <th>1</th>\n",
       "      <td>Al Ali 2009</td>\n",
       "      <td>La Seyne-sur-Mer, French Mediterranean coast</td>\n",
       "      <td>1.0e+02</td>\n",
       "      <td>7.1e+05</td>\n",
       "      <td>4.3e+05</td>\n",
       "      <td>1.1e+05</td>\n",
       "      <td>5.5e+05</td>\n",
       "      <td>7.8e-01</td>\n",
       "      <td>2.1e-01</td>\n",
       "      <td>CARDFISH</td>\n",
       "      <td>...</td>\n",
       "      <td>formaldehyde</td>\n",
       "      <td>lysozyme/achromopeptidase</td>\n",
       "      <td>proteinase K</td>\n",
       "      <td>EUB338</td>\n",
       "      <td>ARCH915</td>\n",
       "      <td>Microscope-eye</td>\n",
       "      <td>nan</td>\n",
       "      <td>nan</td>\n",
       "      <td>nan</td>\n",
       "      <td>nan</td>\n",
       "    </tr>\n",
       "    <tr>\n",
       "      <th>2</th>\n",
       "      <td>Al Ali 2009</td>\n",
       "      <td>La Seyne-sur-Mer, French Mediterranean coast</td>\n",
       "      <td>5.0e+02</td>\n",
       "      <td>1.0e+05</td>\n",
       "      <td>5.3e+04</td>\n",
       "      <td>2.8e+04</td>\n",
       "      <td>8.1e+04</td>\n",
       "      <td>7.9e-01</td>\n",
       "      <td>3.4e-01</td>\n",
       "      <td>CARDFISH</td>\n",
       "      <td>...</td>\n",
       "      <td>formaldehyde</td>\n",
       "      <td>lysozyme/achromopeptidase</td>\n",
       "      <td>proteinase K</td>\n",
       "      <td>EUB338</td>\n",
       "      <td>ARCH915</td>\n",
       "      <td>Microscope-eye</td>\n",
       "      <td>nan</td>\n",
       "      <td>nan</td>\n",
       "      <td>nan</td>\n",
       "      <td>nan</td>\n",
       "    </tr>\n",
       "    <tr>\n",
       "      <th>3</th>\n",
       "      <td>Al Ali 2009</td>\n",
       "      <td>La Seyne-sur-Mer, French Mediterranean coast</td>\n",
       "      <td>1.0e+03</td>\n",
       "      <td>6.9e+04</td>\n",
       "      <td>3.3e+04</td>\n",
       "      <td>2.1e+04</td>\n",
       "      <td>5.4e+04</td>\n",
       "      <td>7.8e-01</td>\n",
       "      <td>3.9e-01</td>\n",
       "      <td>CARDFISH</td>\n",
       "      <td>...</td>\n",
       "      <td>formaldehyde</td>\n",
       "      <td>lysozyme/achromopeptidase</td>\n",
       "      <td>proteinase K</td>\n",
       "      <td>EUB338</td>\n",
       "      <td>ARCH915</td>\n",
       "      <td>Microscope-eye</td>\n",
       "      <td>nan</td>\n",
       "      <td>nan</td>\n",
       "      <td>nan</td>\n",
       "      <td>nan</td>\n",
       "    </tr>\n",
       "    <tr>\n",
       "      <th>4</th>\n",
       "      <td>Al Ali 2009</td>\n",
       "      <td>La Seyne-sur-Mer, French Mediterranean coast</td>\n",
       "      <td>1.8e+03</td>\n",
       "      <td>6.4e+04</td>\n",
       "      <td>2.6e+04</td>\n",
       "      <td>2.0e+04</td>\n",
       "      <td>4.7e+04</td>\n",
       "      <td>7.3e-01</td>\n",
       "      <td>4.4e-01</td>\n",
       "      <td>CARDFISH</td>\n",
       "      <td>...</td>\n",
       "      <td>formaldehyde</td>\n",
       "      <td>lysozyme/achromopeptidase</td>\n",
       "      <td>proteinase K</td>\n",
       "      <td>EUB338</td>\n",
       "      <td>ARCH915</td>\n",
       "      <td>Microscope-eye</td>\n",
       "      <td>nan</td>\n",
       "      <td>nan</td>\n",
       "      <td>nan</td>\n",
       "      <td>nan</td>\n",
       "    </tr>\n",
       "  </tbody>\n",
       "</table>\n",
       "<p>5 rows × 21 columns</p>\n",
       "</div>"
      ],
      "text/plain": [
       "         paper                                        Sample  Water Depth (m)  \\\n",
       "0  Al Ali 2009  La Seyne-sur-Mer, French Mediterranean coast          2.5e+01   \n",
       "1  Al Ali 2009  La Seyne-sur-Mer, French Mediterranean coast          1.0e+02   \n",
       "2  Al Ali 2009  La Seyne-sur-Mer, French Mediterranean coast          5.0e+02   \n",
       "3  Al Ali 2009  La Seyne-sur-Mer, French Mediterranean coast          1.0e+03   \n",
       "4  Al Ali 2009  La Seyne-sur-Mer, French Mediterranean coast          1.8e+03   \n",
       "\n",
       "   Cells per cc  CARDFISH Bac per cc  CARDFISH Arc per cc  \\\n",
       "0       1.0e+06              7.5e+05              9.2e+04   \n",
       "1       7.1e+05              4.3e+05              1.1e+05   \n",
       "2       1.0e+05              5.3e+04              2.8e+04   \n",
       "3       6.9e+04              3.3e+04              2.1e+04   \n",
       "4       6.4e+04              2.6e+04              2.0e+04   \n",
       "\n",
       "   CARDFISH Total per cc  FISH yield  Fraction Arc CARDFISH Fish or cardFish  \\\n",
       "0                8.4e+05     8.3e-01                1.1e-01         CARDFISH   \n",
       "1                5.5e+05     7.8e-01                2.1e-01         CARDFISH   \n",
       "2                8.1e+04     7.9e-01                3.4e-01         CARDFISH   \n",
       "3                5.4e+04     7.8e-01                3.9e-01         CARDFISH   \n",
       "4                4.7e+04     7.3e-01                4.4e-01         CARDFISH   \n",
       "\n",
       "              ...                   Fixative       Bac permeabilization  \\\n",
       "0             ...               formaldehyde  lysozyme/achromopeptidase   \n",
       "1             ...               formaldehyde  lysozyme/achromopeptidase   \n",
       "2             ...               formaldehyde  lysozyme/achromopeptidase   \n",
       "3             ...               formaldehyde  lysozyme/achromopeptidase   \n",
       "4             ...               formaldehyde  lysozyme/achromopeptidase   \n",
       "\n",
       "  Arc permeabilization Bac probe Arc probe Counting method  \\\n",
       "0         proteinase K    EUB338   ARCH915  Microscope-eye   \n",
       "1         proteinase K    EUB338   ARCH915  Microscope-eye   \n",
       "2         proteinase K    EUB338   ARCH915  Microscope-eye   \n",
       "3         proteinase K    EUB338   ARCH915  Microscope-eye   \n",
       "4         proteinase K    EUB338   ARCH915  Microscope-eye   \n",
       "\n",
       "  qPCR-Bacteria (copies/mL water)  qPCR-Archaea (copies/mL water)  \\\n",
       "0                             nan                             nan   \n",
       "1                             nan                             nan   \n",
       "2                             nan                             nan   \n",
       "3                             nan                             nan   \n",
       "4                             nan                             nan   \n",
       "\n",
       "   qPCR-MCG (copies/mL water)  Total qPCR(copies/mL water)  \n",
       "0                         nan                          nan  \n",
       "1                         nan                          nan  \n",
       "2                         nan                          nan  \n",
       "3                         nan                          nan  \n",
       "4                         nan                          nan  \n",
       "\n",
       "[5 rows x 21 columns]"
      ]
     },
     "execution_count": 5,
     "metadata": {},
     "output_type": "execute_result"
    }
   ],
   "source": [
    "lloyd.head()"
   ]
  },
  {
   "cell_type": "markdown",
   "metadata": {},
   "source": [
    "For Aristegui et al. we estimate the total number of cells by multiplying each layer by the surface area of the ocean"
   ]
  },
  {
   "cell_type": "code",
   "execution_count": 6,
   "metadata": {},
   "outputs": [
    {
     "name": "stdout",
     "output_type": "stream",
     "text": [
      "Total number of cells based on Aristegui et al.: 1.7e+29\n"
     ]
    }
   ],
   "source": [
    "aristegui_total = (aristegui['Cell abundance (cells m-2)']*ocean_area).sum()\n",
    "print('Total number of cells based on Aristegui et al.: %.1e' % aristegui_total)"
   ]
  },
  {
   "cell_type": "markdown",
   "metadata": {},
   "source": [
    "For Buitenhuis et al. we bin the data along 100 meter depth bins, and estimate the average cell abundance in each bin. We then multiply the total number of cells per liter by the volume at each depth and sum across layers."
   ]
  },
  {
   "cell_type": "code",
   "execution_count": 7,
   "metadata": {},
   "outputs": [
    {
     "name": "stdout",
     "output_type": "stream",
     "text": [
      "Total number of cells based on Buitenhuis et al.: 1.3e+29\n"
     ]
    }
   ],
   "source": [
    "# Define depth range every 100 m from 0 to 4000 meters\n",
    "depth_range = np.linspace(0,4000,41)\n",
    "\n",
    "#Bin data along depth bins\n",
    "buitenhuis['Depth_bin'] = pd.cut(buitenhuis['Depth'], depth_range)\n",
    "\n",
    "#For each bin, calculate the average number of cells per liter\n",
    "buitenhuis_bins = buitenhuis.groupby(['Depth_bin']).mean()['Bact/L']\n",
    "\n",
    "#Multiply each average concentration by the total volume at each bin: 100 meters depth time the surface area of the oceac\n",
    "\n",
    "buitenhuis_bins *= 100*ocean_area*liters_in_m3\n",
    "\n",
    "#Sum across all bins to get the total estimate for the number of cells of marine prokaryotes\n",
    "buitenhuis_total = buitenhuis_bins.sum()\n",
    "print('Total number of cells based on Buitenhuis et al.: %.1e' % buitenhuis_total)"
   ]
  },
  {
   "cell_type": "markdown",
   "metadata": {},
   "source": [
    "For Lloyd et al., we rely on the sum of the total number of bacteria and archaea. The estimate for the number of bacteria and archaea is based on the regression of the concentration of bacteria and archaea with depth. We use the equations reported in Lloyd et al. to extrapolate the number of cells of bacteria and archaea across the average ocean depth of 4000 km."
   ]
  },
  {
   "cell_type": "code",
   "execution_count": 8,
   "metadata": {},
   "outputs": [
    {
     "name": "stdout",
     "output_type": "stream",
     "text": [
      "Total number of cells based on Lloyd et al.: 6.2e+28\n"
     ]
    }
   ],
   "source": [
    "# Define the regression equation for the number of bacteria in the top 64 m:\n",
    "def bac_surf(depth):\n",
    "    result = np.zeros_like(depth)\n",
    "    for i,x in enumerate(depth):\n",
    "        if x==0 :\n",
    "            result[i] = 5.54\n",
    "            \n",
    "        else:\n",
    "            result[i] = np.log10(x)*0.08+5.54\n",
    "    return 10**result\n",
    "\n",
    "# Define the regression equation for the number of bacteria in water deeper than 64 m:\n",
    "bac_deep = lambda x: 10**(np.log10(x)*-1.09+7.66)\n",
    "\n",
    "# Define the regression equation for the number of bacteria in the top 389 m:\n",
    "def arch_surf(depth):\n",
    "    result = np.zeros_like(depth)\n",
    "    for i,x in enumerate(depth):\n",
    "        if x==0 :\n",
    "            result[i] = 4.1\n",
    "            \n",
    "        else:\n",
    "            result[i] = np.log10(x)*0.1+4.1\n",
    "    return 10**result\n",
    "\n",
    "# Define the regression equation for the number of bacteria in water below 389 m:\n",
    "arch_deep = lambda x: 10**(np.log10(x)*-0.8+6.43)\n",
    "\n",
    "# Estimate the total number of bacteria in the top 64 m by first estimating the concentration using the \n",
    "# regression equation, multiplying by the volume at each depth, which is 1 m^3 times the surface\n",
    "# Area of the ocean, and finally summing across different depths\n",
    "total_bac_surf = (bac_surf(np.linspace(0,64,65))*ml_in_m3*ocean_area).sum()\n",
    "\n",
    "# We repeat the same procedure for the total number of bacteria in waters deeper than 64 m, and for the total\n",
    "# Number of archaea\n",
    "total_bac_deep = (bac_deep(np.linspace(65,4000,4000-65+1))*ml_in_m3*ocean_area).sum()\n",
    "total_arch_surf = (arch_surf(np.linspace(0,389,390))*ml_in_m3*ocean_area).sum()\n",
    "total_arch_deep = (arch_deep(np.linspace(390,4000,4000-390+1))*ml_in_m3*ocean_area).sum()\n",
    "\n",
    "# Sum across bacteria and archaea to get the estimate for the total number of bacteria and archaea in the ocean\n",
    "lloyd_total = total_bac_surf+total_bac_deep+total_arch_surf+total_arch_deep\n",
    "print('Total number of cells based on Lloyd et al.: %.1e' % lloyd_total)"
   ]
  },
  {
   "cell_type": "markdown",
   "metadata": {},
   "source": [
    "The estimate of the total number of cells in Lloyd et al. is based on FISH measurements, but in general not all cells which are DAPI positive are also stained with FISH. To correct for this effect, we estimate the average FISH yield across samples, and divide our estimate from the FISH measurements by the average FISH yield."
   ]
  },
  {
   "cell_type": "code",
   "execution_count": 9,
   "metadata": {},
   "outputs": [
    {
     "name": "stdout",
     "output_type": "stream",
     "text": [
      "The mean yield of FISH is 0.8\n",
      "After correcting for FISH yield, the estimate for the total number of bacteria and archaea based on Lloyd et al is 8.1e+28\n"
     ]
    }
   ],
   "source": [
    "fish_yield = lloyd['FISH yield'].dropna()\n",
    "\n",
    "# Values which are not feasible are turned to the maximal value. We do not use 1 because of numerical reasons\n",
    "fish_yield[fish_yield >=1] = 0.999\n",
    "\n",
    "# calculate the statistics on the fish_visible/fish_invisible value and not the \n",
    "# fish_visible/(fish_visible+fish_invisible) value because the first is not bound by 0 and 1\n",
    "# We transform the values to log space to calculate the geometric mean\n",
    "alpha_fish_yield = np.log10(1./(1./fish_yield[fish_yield<1]-1.))\n",
    "mean_alpha_yield = np.average(-alpha_fish_yield.dropna())\n",
    "mean_yield = 1./(1.+10**mean_alpha_yield)\n",
    "\n",
    "print('The mean yield of FISH is %.1f' % mean_yield)\n",
    "lloyd_total /= mean_yield\n",
    "print('After correcting for FISH yield, the estimate for the total number of bacteria and archaea based on Lloyd et al is %.1e' % lloyd_total)\n",
    "\n"
   ]
  },
  {
   "cell_type": "markdown",
   "metadata": {},
   "source": [
    "Our best estimate for the total number of marine bacteria and archaea is the geometric mean of the estimates from Aristegui et al., Buitenhuis et al. and Lloyd et al."
   ]
  },
  {
   "cell_type": "code",
   "execution_count": 10,
   "metadata": {},
   "outputs": [
    {
     "name": "stdout",
     "output_type": "stream",
     "text": [
      "Our best estimate for the total number of marine bacteria and archaea is 1.2e+29\n"
     ]
    }
   ],
   "source": [
    "estimates = [aristegui_total,buitenhuis_total,lloyd_total]\n",
    "best_estimate = 10**(np.log10(estimates).mean())\n",
    "\n",
    "print('Our best estimate for the total number of marine bacteria and archaea is %.1e' %best_estimate)"
   ]
  },
  {
   "cell_type": "markdown",
   "metadata": {},
   "source": [
    "# Uncertainty analysis\n",
    "\n",
    "To calculate the uncertainty associated with the estimate for the total number of of bacteria and archaea, we first collect all available uncertainties and then take the largest value as our best projection for the uncertainty. \n",
    "\n",
    "## Intra-study uncertainties \n",
    "We first survey the uncertainties reported in each of the studies. Aristegui et al. report a sandard error of ≈10% for the average cell concentration per unit area. Buitenhuis et al. and Lloyd et al. do not report uncertainties.\n",
    "\n",
    "## Interstudy uncertainties\n",
    "\n",
    "We estimate the 95% multiplicative error of the geometric mean of the values from the three studies."
   ]
  },
  {
   "cell_type": "code",
   "execution_count": 11,
   "metadata": {},
   "outputs": [
    {
     "name": "stdout",
     "output_type": "stream",
     "text": [
      "The interstudy uncertainty is about 1.5\n"
     ]
    }
   ],
   "source": [
    "mul_CI = geo_CI_calc(estimates)\n",
    "\n",
    "print('The interstudy uncertainty is about %.1f' % mul_CI)"
   ]
  },
  {
   "cell_type": "markdown",
   "metadata": {},
   "source": [
    "We thus take the highest uncertainty from our collection which is ≈1.4-fold.\n",
    "Our final parameters are:"
   ]
  },
  {
   "cell_type": "code",
   "execution_count": 12,
   "metadata": {},
   "outputs": [
    {
     "name": "stdout",
     "output_type": "stream",
     "text": [
      "Total number of marine bacteria and archaea: 1.2e+29\n",
      "Uncertainty associated with the total number of marine bacteria and archaea: 1.5-fold\n"
     ]
    }
   ],
   "source": [
    "print('Total number of marine bacteria and archaea: %.1e' % best_estimate)\n",
    "print('Uncertainty associated with the total number of marine bacteria and archaea: %.1f-fold' % mul_CI)\n",
    "\n",
    "old_results = pd.read_excel('../marine_prok_biomass_estimate.xlsx')\n",
    "result = old_results.copy()\n",
    "result.loc[0] = pd.Series({\n",
    "                'Parameter': 'Total number of marine bacteria and archaea',\n",
    "                'Value': int(best_estimate),\n",
    "                'Units': 'Cells',\n",
    "                'Uncertainty': \"{0:.1f}\".format(mul_CI)\n",
    "                })\n",
    "\n",
    "result.to_excel('../marine_prok_biomass_estimate.xlsx',index=False)\n"
   ]
  }
 ],
 "metadata": {
  "kernelspec": {
   "display_name": "Python 3",
   "language": "python",
   "name": "python3"
  },
  "language_info": {
   "codemirror_mode": {
    "name": "ipython",
    "version": 3
   },
   "file_extension": ".py",
   "mimetype": "text/x-python",
   "name": "python",
   "nbconvert_exporter": "python",
   "pygments_lexer": "ipython3",
   "version": "3.6.3"
  }
 },
 "nbformat": 4,
 "nbformat_minor": 2
}
