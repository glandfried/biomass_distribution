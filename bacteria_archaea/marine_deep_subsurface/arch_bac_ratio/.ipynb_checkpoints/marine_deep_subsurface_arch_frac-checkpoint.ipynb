{
 "cells": [
  {
   "cell_type": "markdown",
   "metadata": {},
   "source": [
    "# Estimating the fraction of archaea out of the total marine deep subsurface prokaryote population\n",
    "\n",
    "In order to estimate the fraction of archaea out of the total population of marine deep subsurface bacteria and archaea, we rely of two independent methods:  catalyzed reporter deposition fluorescent in-situ hybridization (CARD-FISH) and quantitative PCR (qPCR). Both methods have been found reliable for reporting the fraction of archaea out of the population of marine deep subsurface bacteria and archaea\n",
    "\n",
    "### CARD-FISH based estimate\n",
    "For our CARD-FISH based estimate we rely on data from [Lloyd et al.](http://dx.doi.org/10.1128/AEM.02090-13). Here is a sample of the data:"
   ]
  },
  {
   "cell_type": "code",
   "execution_count": 1,
   "metadata": {},
   "outputs": [
    {
     "data": {
      "text/html": [
       "<div>\n",
       "<style scoped>\n",
       "    .dataframe tbody tr th:only-of-type {\n",
       "        vertical-align: middle;\n",
       "    }\n",
       "\n",
       "    .dataframe tbody tr th {\n",
       "        vertical-align: top;\n",
       "    }\n",
       "\n",
       "    .dataframe thead th {\n",
       "        text-align: right;\n",
       "    }\n",
       "</style>\n",
       "<table border=\"1\" class=\"dataframe\">\n",
       "  <thead>\n",
       "    <tr style=\"text-align: right;\">\n",
       "      <th></th>\n",
       "      <th>paper</th>\n",
       "      <th>core</th>\n",
       "      <th>Sediment Depth (m)</th>\n",
       "      <th>Cells per cc</th>\n",
       "      <th>CARDFISH Bac per cc</th>\n",
       "      <th>CARDFISH Arc per cc</th>\n",
       "      <th>CARDFISH Total per cc</th>\n",
       "      <th>FISH yield</th>\n",
       "      <th>qPCR Bac per cc</th>\n",
       "      <th>qPCR Arc per cc</th>\n",
       "      <th>...</th>\n",
       "      <th>Taqman Universal</th>\n",
       "      <th>Arc standard</th>\n",
       "      <th>Bac standard</th>\n",
       "      <th>DNA extraction procedure</th>\n",
       "      <th>Mud volcano or seep?</th>\n",
       "      <th>Water depth (m)</th>\n",
       "      <th>Environment Type</th>\n",
       "      <th>DNA extraction efficiency from spiking as a fraction of total cells</th>\n",
       "      <th>Template DNA dilution factor</th>\n",
       "      <th>Uses 516 for Arc</th>\n",
       "    </tr>\n",
       "  </thead>\n",
       "  <tbody>\n",
       "    <tr>\n",
       "      <th>0</th>\n",
       "      <td>Amaro 2012</td>\n",
       "      <td>NE Atlantic Canyon</td>\n",
       "      <td>4.5e-03</td>\n",
       "      <td>1.0e+08</td>\n",
       "      <td>6.0e+07</td>\n",
       "      <td>1.9e+07</td>\n",
       "      <td>7.9e+07</td>\n",
       "      <td>7.5e-01</td>\n",
       "      <td>nan</td>\n",
       "      <td>nan</td>\n",
       "      <td>...</td>\n",
       "      <td>NaN</td>\n",
       "      <td>NaN</td>\n",
       "      <td>NaN</td>\n",
       "      <td>NaN</td>\n",
       "      <td>nan</td>\n",
       "      <td>3.5e+03</td>\n",
       "      <td>Deep-sea</td>\n",
       "      <td>NaN</td>\n",
       "      <td>NaN</td>\n",
       "      <td>nan</td>\n",
       "    </tr>\n",
       "    <tr>\n",
       "      <th>1</th>\n",
       "      <td>Amaro 2012</td>\n",
       "      <td>NE Atlantic Canyon</td>\n",
       "      <td>3.5e-02</td>\n",
       "      <td>7.8e+06</td>\n",
       "      <td>5.2e+06</td>\n",
       "      <td>1.3e+06</td>\n",
       "      <td>6.5e+06</td>\n",
       "      <td>8.4e-01</td>\n",
       "      <td>nan</td>\n",
       "      <td>nan</td>\n",
       "      <td>...</td>\n",
       "      <td>NaN</td>\n",
       "      <td>NaN</td>\n",
       "      <td>NaN</td>\n",
       "      <td>NaN</td>\n",
       "      <td>nan</td>\n",
       "      <td>3.5e+03</td>\n",
       "      <td>Deep-sea</td>\n",
       "      <td>NaN</td>\n",
       "      <td>NaN</td>\n",
       "      <td>nan</td>\n",
       "    </tr>\n",
       "    <tr>\n",
       "      <th>2</th>\n",
       "      <td>Amaro 2012</td>\n",
       "      <td>NE Atlantic Canyon</td>\n",
       "      <td>6.5e-02</td>\n",
       "      <td>3.5e+06</td>\n",
       "      <td>1.5e+06</td>\n",
       "      <td>1.8e+06</td>\n",
       "      <td>3.3e+06</td>\n",
       "      <td>9.5e-01</td>\n",
       "      <td>nan</td>\n",
       "      <td>nan</td>\n",
       "      <td>...</td>\n",
       "      <td>NaN</td>\n",
       "      <td>NaN</td>\n",
       "      <td>NaN</td>\n",
       "      <td>NaN</td>\n",
       "      <td>nan</td>\n",
       "      <td>3.5e+03</td>\n",
       "      <td>Deep-sea</td>\n",
       "      <td>NaN</td>\n",
       "      <td>NaN</td>\n",
       "      <td>nan</td>\n",
       "    </tr>\n",
       "    <tr>\n",
       "      <th>3</th>\n",
       "      <td>Amaro 2012</td>\n",
       "      <td>NE Atlantic Canyon</td>\n",
       "      <td>9.5e-02</td>\n",
       "      <td>8.1e+06</td>\n",
       "      <td>3.7e+06</td>\n",
       "      <td>3.2e+06</td>\n",
       "      <td>6.9e+06</td>\n",
       "      <td>8.5e-01</td>\n",
       "      <td>nan</td>\n",
       "      <td>nan</td>\n",
       "      <td>...</td>\n",
       "      <td>NaN</td>\n",
       "      <td>NaN</td>\n",
       "      <td>NaN</td>\n",
       "      <td>NaN</td>\n",
       "      <td>nan</td>\n",
       "      <td>3.5e+03</td>\n",
       "      <td>Deep-sea</td>\n",
       "      <td>NaN</td>\n",
       "      <td>NaN</td>\n",
       "      <td>nan</td>\n",
       "    </tr>\n",
       "    <tr>\n",
       "      <th>4</th>\n",
       "      <td>Amaro 2012</td>\n",
       "      <td>NE Atlantic Canyon</td>\n",
       "      <td>1.3e-01</td>\n",
       "      <td>6.1e+06</td>\n",
       "      <td>3.0e+06</td>\n",
       "      <td>1.9e+06</td>\n",
       "      <td>4.9e+06</td>\n",
       "      <td>8.1e-01</td>\n",
       "      <td>nan</td>\n",
       "      <td>nan</td>\n",
       "      <td>...</td>\n",
       "      <td>NaN</td>\n",
       "      <td>NaN</td>\n",
       "      <td>NaN</td>\n",
       "      <td>NaN</td>\n",
       "      <td>nan</td>\n",
       "      <td>3.5e+03</td>\n",
       "      <td>Deep-sea</td>\n",
       "      <td>NaN</td>\n",
       "      <td>NaN</td>\n",
       "      <td>nan</td>\n",
       "    </tr>\n",
       "  </tbody>\n",
       "</table>\n",
       "<p>5 rows × 47 columns</p>\n",
       "</div>"
      ],
      "text/plain": [
       "        paper                core  Sediment Depth (m)  Cells per cc  \\\n",
       "0  Amaro 2012  NE Atlantic Canyon             4.5e-03       1.0e+08   \n",
       "1  Amaro 2012  NE Atlantic Canyon             3.5e-02       7.8e+06   \n",
       "2  Amaro 2012  NE Atlantic Canyon             6.5e-02       3.5e+06   \n",
       "3  Amaro 2012  NE Atlantic Canyon             9.5e-02       8.1e+06   \n",
       "4  Amaro 2012  NE Atlantic Canyon             1.3e-01       6.1e+06   \n",
       "\n",
       "   CARDFISH Bac per cc  CARDFISH Arc per cc  CARDFISH Total per cc  \\\n",
       "0              6.0e+07              1.9e+07                7.9e+07   \n",
       "1              5.2e+06              1.3e+06                6.5e+06   \n",
       "2              1.5e+06              1.8e+06                3.3e+06   \n",
       "3              3.7e+06              3.2e+06                6.9e+06   \n",
       "4              3.0e+06              1.9e+06                4.9e+06   \n",
       "\n",
       "   FISH yield  qPCR Bac per cc  qPCR Arc per cc       ...         \\\n",
       "0     7.5e-01              nan              nan       ...          \n",
       "1     8.4e-01              nan              nan       ...          \n",
       "2     9.5e-01              nan              nan       ...          \n",
       "3     8.5e-01              nan              nan       ...          \n",
       "4     8.1e-01              nan              nan       ...          \n",
       "\n",
       "   Taqman Universal  Arc standard  Bac standard  DNA extraction procedure  \\\n",
       "0               NaN           NaN           NaN                       NaN   \n",
       "1               NaN           NaN           NaN                       NaN   \n",
       "2               NaN           NaN           NaN                       NaN   \n",
       "3               NaN           NaN           NaN                       NaN   \n",
       "4               NaN           NaN           NaN                       NaN   \n",
       "\n",
       "  Mud volcano or seep? Water depth (m)  Environment Type  \\\n",
       "0                  nan         3.5e+03          Deep-sea   \n",
       "1                  nan         3.5e+03          Deep-sea   \n",
       "2                  nan         3.5e+03          Deep-sea   \n",
       "3                  nan         3.5e+03          Deep-sea   \n",
       "4                  nan         3.5e+03          Deep-sea   \n",
       "\n",
       "  DNA extraction efficiency from spiking as a fraction of total cells  \\\n",
       "0                                                NaN                    \n",
       "1                                                NaN                    \n",
       "2                                                NaN                    \n",
       "3                                                NaN                    \n",
       "4                                                NaN                    \n",
       "\n",
       "  Template DNA dilution factor Uses 516 for Arc  \n",
       "0                          NaN              nan  \n",
       "1                          NaN              nan  \n",
       "2                          NaN              nan  \n",
       "3                          NaN              nan  \n",
       "4                          NaN              nan  \n",
       "\n",
       "[5 rows x 47 columns]"
      ]
     },
     "execution_count": 1,
     "metadata": {},
     "output_type": "execute_result"
    }
   ],
   "source": [
    "import pandas as pd\n",
    "import numpy as np\n",
    "import sys\n",
    "sys.path.insert(0, '../../../statistics_helper')\n",
    "from fraction_helper import *\n",
    "\n",
    "pd.options.display.float_format = '{:,.1e}'.format\n",
    "# Genaral parameters used in the estimate\n",
    "ocean_area = 3.6e14\n",
    "liters_in_m3 = 1e3\n",
    "ml_in_m3 = 1e6\n",
    "\n",
    "# Load the dataset\n",
    "lloyd = pd.read_excel('marine_deep_subsurface_arch_frac_data.xlsx','Lloyd')\n",
    "lloyd.head()"
   ]
  },
  {
   "cell_type": "markdown",
   "metadata": {},
   "source": [
    "We use values reported in Lloyd et al. for sediments deeper than 10 cm and using CARD-FISH with proteinase K permeabilization (this mathod generates reliable results). We calculate the geometric mean fraction of archaea out of the population of archaea and bacteria in this dataset."
   ]
  },
  {
   "cell_type": "code",
   "execution_count": 2,
   "metadata": {},
   "outputs": [
    {
     "name": "stdout",
     "output_type": "stream",
     "text": [
      "The geometric mean of the fraction of archaea out of the population of bacteria and archaea measured using CARD-FISH is 44%\n"
     ]
    }
   ],
   "source": [
    "# Filter the data in Lloyd et al. to contain only samples which have been measured in sediments deeper than\n",
    "# 10 cm and with CARD-FISH with proteinase K permeabilization\n",
    "# Also remove NaN values and zeros\n",
    "lloyd_fish = lloyd[(lloyd['Arc permeabilization'] == 'proteinase K') & \n",
    "                   (lloyd['Fish or cardFish'] == 'CARDFISH') & \n",
    "                   (lloyd['Fraction Arc CARDFISH']>0) &\n",
    "                   (lloyd['Sediment Depth (m)'] >0.01)]\n",
    "\n",
    "# Calculate the geometric mean of the fraction of archaea out of the total population of bacteria and archaea\n",
    "# Remove zeros and NaNs\n",
    "fish_frac = frac_mean(lloyd_fish['Fraction Arc CARDFISH'])\n",
    "print('The geometric mean of the fraction of archaea out of the population of bacteria and archaea measured using CARD-FISH is ' + '{:,.0f}%'.format(fish_frac*100))\n"
   ]
  },
  {
   "cell_type": "markdown",
   "metadata": {},
   "source": [
    "## qPCR-based estimate\n",
    "For the qPCR-based estimate of the fraction of archaea out of the total population of marine deep subsurface bacteria and archaea, we also rely on data from Lloyd et al. We also consider only samples deeper than 10 cm. We exclude measurements using the ARCH516 as an archaeal primer or TaqMan probe, as measurements based on these primers of probes were shown to be unreliable."
   ]
  },
  {
   "cell_type": "code",
   "execution_count": 3,
   "metadata": {},
   "outputs": [
    {
     "name": "stdout",
     "output_type": "stream",
     "text": [
      "The geometric mean of the fraction of archaea out of the population of bacteria and archaea measured using qPCR is 27%\n"
     ]
    }
   ],
   "source": [
    "# Filter the data in Lloyd et al. to contain only samples which have been measured in sediments deeper than\n",
    "# 10 cm and not with the ARCH516 as an archaeal primer or TaqMan probe.\n",
    "# Also remove NaN values and zeros\n",
    "lloyd_qpcr = lloyd[(~np.isnan(lloyd['Fraction Arc qPCR'])) & \n",
    "                   (lloyd['Sediment Depth (m)'] >0.01) &\n",
    "                   (lloyd['Fraction Arc qPCR']>0) &\n",
    "                  (lloyd['Arc reverse'].str.contains('516')==False) &\n",
    "                  (lloyd['Arc forward'].str.contains('519')==False)]\n",
    "lloyd_qpcr = lloyd_qpcr.drop(lloyd_qpcr['TaqMan Arc'].dropna().index)\n",
    "\n",
    "\n",
    "# Calculate the geometric mean of the fraction of archaea out of the total population of bacteria and archaea\n",
    "qpcr_frac = frac_mean(lloyd_qpcr['Fraction Arc qPCR'])\n",
    "print('The geometric mean of the fraction of archaea out of the population of bacteria and archaea measured using qPCR is ' + '{:,.0f}%'.format(qpcr_frac*100))\n"
   ]
  },
  {
   "cell_type": "markdown",
   "metadata": {},
   "source": [
    "Our best estimate for the fraction of archaea out of the total population of marine deep subsurface bacteria and archaea is the geometric mean of the estimates based on CARD-FISH and qPCR."
   ]
  },
  {
   "cell_type": "code",
   "execution_count": 4,
   "metadata": {},
   "outputs": [
    {
     "name": "stdout",
     "output_type": "stream",
     "text": [
      "Our best estimate for the fraction of archaea out of the population marine deep subsurface bacteria and archaea is 35%\n"
     ]
    }
   ],
   "source": [
    "\n",
    "best_estimate = frac_mean(np.array([fish_frac,qpcr_frac]))\n",
    "print('Our best estimate for the fraction of archaea out of the population marine deep subsurface bacteria and archaea is ' + '{:,.0f}%'.format(best_estimate*100))"
   ]
  },
  {
   "cell_type": "markdown",
   "metadata": {},
   "source": [
    "# Uncertainty analysis\n",
    "\n",
    "In order to assess the uncertainty associated with our estimate for the fraction of marine archaea out of the total population of bacteria and archaea in the marine deep subsurface, we gather all possible indices of uncertainty. We compare the uncertainty of values within each one of the methods and the uncertainty stemming from the variability of the values provided by the two methods. \n",
    "\n",
    "## Intra-method uncertainty \n",
    "### CARD-FISH-based method\n",
    "We calculate the 95% confidence inteval for the geometric mean of the values for the fraction of archaea out of the total population of bacteria and archaea measured using CARD-FISH."
   ]
  },
  {
   "cell_type": "code",
   "execution_count": 5,
   "metadata": {},
   "outputs": [
    {
     "name": "stdout",
     "output_type": "stream",
     "text": [
      "The uncertainty of the CARD-FISH-based estimate of the fraction of archaea out of the population of bacteria nad archaea is ≈1.1-fold\n",
      "The uncertainty of the CARD-FISH-based estimate of the fraction of bacteria out of the population of bacteria nad archaea is ≈1.1-fold\n"
     ]
    }
   ],
   "source": [
    "fish_arc_CI = frac_CI(lloyd_fish['Fraction Arc CARDFISH'])\n",
    "fish_bac_CI = frac_CI(1-lloyd_fish['Fraction Arc CARDFISH'])\n",
    "print('The uncertainty of the CARD-FISH-based estimate of the fraction of archaea out of the population of bacteria nad archaea is ≈%.1f-fold' %fish_arc_CI)\n",
    "print('The uncertainty of the CARD-FISH-based estimate of the fraction of bacteria out of the population of bacteria nad archaea is ≈%.1f-fold' %fish_bac_CI)"
   ]
  },
  {
   "cell_type": "markdown",
   "metadata": {},
   "source": [
    "### qPCR-based method\n",
    "We calculate the 95% confidence inteval for the geometric mean of the values for the fraction of archaea out of the total population of bacteria and archaea measured using qPCR."
   ]
  },
  {
   "cell_type": "code",
   "execution_count": 6,
   "metadata": {},
   "outputs": [
    {
     "name": "stdout",
     "output_type": "stream",
     "text": [
      "The uncertainty of the qPCR-based estimate of the fraction of archaea out of the population of bacteria nad archaea is ≈1.2-fold\n",
      "The uncertainty of the qPCR-based estimate of the fraction of bacteria out of the population of bacteria nad archaea is ≈1.1-fold\n"
     ]
    }
   ],
   "source": [
    "qpcr_arc_CI = frac_CI(lloyd_qpcr['Fraction Arc qPCR'])\n",
    "qpcr_bac_CI = frac_CI(1-lloyd_qpcr['Fraction Arc qPCR'])\n",
    "print('The uncertainty of the qPCR-based estimate of the fraction of archaea out of the population of bacteria nad archaea is ≈%.1f-fold' %qpcr_arc_CI)\n",
    "print('The uncertainty of the qPCR-based estimate of the fraction of bacteria out of the population of bacteria nad archaea is ≈%.1f-fold' %qpcr_bac_CI)"
   ]
  },
  {
   "cell_type": "markdown",
   "metadata": {},
   "source": [
    "## Inter-method uncertainty \n",
    "We calculate the 95% confidence inteval for the geometric mean of the estiamtes based on CARD-FISH and qPCR for the fraction of archaea out of the total population of bacteria and archaea. This serves as a measure of the inter-method uncertainty of our estimate."
   ]
  },
  {
   "cell_type": "code",
   "execution_count": 7,
   "metadata": {},
   "outputs": [
    {
     "name": "stdout",
     "output_type": "stream",
     "text": [
      "The inter-method uncertainty of the estimate of the fraction of archaea out of the population of bacteria nad archaea is ≈1.6-fold\n",
      "The inter-method uncertainty of the estimate of the fraction of bacteria out of the population of bacteria nad archaea is ≈1.3-fold\n"
     ]
    }
   ],
   "source": [
    "inter_arc_CI = frac_CI(np.array([fish_frac,qpcr_frac]))\n",
    "inter_bac_CI = frac_CI(np.array([1-fish_frac,1-qpcr_frac]))\n",
    "print('The inter-method uncertainty of the estimate of the fraction of archaea out of the population of bacteria nad archaea is ≈%.1f-fold' %inter_arc_CI)\n",
    "print('The inter-method uncertainty of the estimate of the fraction of bacteria out of the population of bacteria nad archaea is ≈%.1f-fold' %inter_bac_CI)"
   ]
  },
  {
   "cell_type": "markdown",
   "metadata": {},
   "source": [
    "As our best estimates for the uncertainty associated with the fraction of archaea and bacteria out of the total population of marine deep subsurface bacteria and archaea, we use the highest uncertainty out of the available set pf uncertainties we collected.\n",
    "\n",
    "The highest inter-method uncertainty for the fraction of archaea is ≈1.6-fold, which is higher than the highest intra-method uncertainty of ≈1.2-fold, so we use ≈1.8-fold as our best projection of the uncertainty associated with the fraction of archaea out of the total population of marine deep subsurface bacteria and archaea. \n",
    "Similarly, the highest inter-method uncertainty for the fraction of bacteria is ≈1.3-fold, which is higher than the highest intra-method uncertainty of ≈1.1-fold, so we use ≈1.3-fold as our best projection of the uncertainty associated with the fraction of bacteria out of the total population of marine deep subsurface bacteria and archaea. \n",
    "\n",
    "Our final parameters are:"
   ]
  },
  {
   "cell_type": "code",
   "execution_count": 8,
   "metadata": {},
   "outputs": [
    {
     "name": "stdout",
     "output_type": "stream",
     "text": [
      "Fraction of archaea out of the total population of marine deep subsurface bacteria and archaea: 35 percent\n",
      "Fraction of bacteria out of the total population of marine deep subsurface bacteria and archaea: 65 percent\n",
      "Uncertainty associated with the fraction of marine archaea: 1.6-fold\n",
      "Uncertainty associated with the fraction of marine bacteria: 1.3-fold\n"
     ]
    }
   ],
   "source": [
    "# Take the maximum uncertainty as our best projection of uncertainty\n",
    "arc_mul_CI = np.max([fish_arc_CI,qpcr_arc_CI,inter_arc_CI])\n",
    "bac_mul_CI = np.max([fish_bac_CI,qpcr_bac_CI,inter_bac_CI])\n",
    "\n",
    "print('Fraction of archaea out of the total population of marine deep subsurface bacteria and archaea: %.0f percent' %(best_estimate*100))\n",
    "print('Fraction of bacteria out of the total population of marine deep subsurface bacteria and archaea: %.0f percent' %(100.-best_estimate*100))\n",
    "print('Uncertainty associated with the fraction of marine archaea: %.1f-fold' % arc_mul_CI)\n",
    "print('Uncertainty associated with the fraction of marine bacteria: %.1f-fold' % bac_mul_CI)\n",
    "\n",
    "old_results = pd.read_excel('../marine_deep_subsurface_prok_biomass_estimate.xlsx')\n",
    "result = old_results.copy()\n",
    "result.loc[2] = pd.Series({\n",
    "                'Parameter': 'Fraction of archaea',\n",
    "                'Value': \"{0:.1f}\".format(best_estimate),\n",
    "                'Units': 'Unitless',\n",
    "                'Uncertainty': \"{0:.1f}\".format(arc_mul_CI)\n",
    "                })\n",
    "\n",
    "result.loc[3] = pd.Series({\n",
    "                'Parameter': 'Fraction of bacteria',\n",
    "                'Value': \"{0:.1f}\".format(1.0 - best_estimate),\n",
    "                'Units': 'Unitless',\n",
    "                'Uncertainty': \"{0:.1f}\".format(bac_mul_CI)\n",
    "                })\n",
    "\n",
    "\n",
    "result.to_excel('../marine_deep_subsurface_prok_biomass_estimate.xlsx',index=False)"
   ]
  }
 ],
 "metadata": {
  "kernelspec": {
   "display_name": "Python 3",
   "language": "python",
   "name": "python3"
  },
  "language_info": {
   "codemirror_mode": {
    "name": "ipython",
    "version": 3
   },
   "file_extension": ".py",
   "mimetype": "text/x-python",
   "name": "python",
   "nbconvert_exporter": "python",
   "pygments_lexer": "ipython3",
   "version": "3.6.3"
  }
 },
 "nbformat": 4,
 "nbformat_minor": 2
}
