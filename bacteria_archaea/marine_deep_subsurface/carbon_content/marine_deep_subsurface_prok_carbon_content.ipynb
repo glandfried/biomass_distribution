{
 "cells": [
  {
   "cell_type": "markdown",
   "metadata": {},
   "source": [
    "# Estimating the carbon content of marine bacteria and archaea\n",
    "\n",
    "In order to estimate the characteristic carbon content of marine bacteria and archaea, we rely on two main methodologies - volume based estimates and amino acid based estimates.\n",
    "\n",
    "## Volume-based estimates\n",
    "We collected measurements of the characeteristic volume of bacteria and archaea in the marine deep subsurface from 4 different studies. For 3 of those studies, we collected reported average cell volumes. Here are the average values we collected from those three studies:"
   ]
  },
  {
   "cell_type": "code",
   "execution_count": 11,
   "metadata": {},
   "outputs": [
    {
     "data": {
      "text/html": [
       "<div>\n",
       "<style scoped>\n",
       "    .dataframe tbody tr th:only-of-type {\n",
       "        vertical-align: middle;\n",
       "    }\n",
       "\n",
       "    .dataframe tbody tr th {\n",
       "        vertical-align: top;\n",
       "    }\n",
       "\n",
       "    .dataframe thead th {\n",
       "        text-align: right;\n",
       "    }\n",
       "</style>\n",
       "<table border=\"1\" class=\"dataframe\">\n",
       "  <thead>\n",
       "    <tr style=\"text-align: right;\">\n",
       "      <th></th>\n",
       "      <th>Study</th>\n",
       "      <th>Mean cell volume (µm^3)</th>\n",
       "      <th>Remarks</th>\n",
       "    </tr>\n",
       "  </thead>\n",
       "  <tbody>\n",
       "    <tr>\n",
       "      <th>0</th>\n",
       "      <td>Parkes et al.</td>\n",
       "      <td>0.21</td>\n",
       "      <td>NaN</td>\n",
       "    </tr>\n",
       "    <tr>\n",
       "      <th>1</th>\n",
       "      <td>Lipp et al. (coccoid)</td>\n",
       "      <td>0.07</td>\n",
       "      <td>Calculated assuming a spherical cell with diam...</td>\n",
       "    </tr>\n",
       "    <tr>\n",
       "      <th>2</th>\n",
       "      <td>Lipp et al. (rod)</td>\n",
       "      <td>0.20</td>\n",
       "      <td>Calculated assuming a cylinderical cell with d...</td>\n",
       "    </tr>\n",
       "    <tr>\n",
       "      <th>3</th>\n",
       "      <td>Kallmeter et al.</td>\n",
       "      <td>0.04</td>\n",
       "      <td>NaN</td>\n",
       "    </tr>\n",
       "  </tbody>\n",
       "</table>\n",
       "</div>"
      ],
      "text/plain": [
       "                   Study  Mean cell volume (µm^3)  \\\n",
       "0          Parkes et al.                     0.21   \n",
       "1  Lipp et al. (coccoid)                     0.07   \n",
       "2      Lipp et al. (rod)                     0.20   \n",
       "3       Kallmeter et al.                     0.04   \n",
       "\n",
       "                                             Remarks  \n",
       "0                                                NaN  \n",
       "1  Calculated assuming a spherical cell with diam...  \n",
       "2  Calculated assuming a cylinderical cell with d...  \n",
       "3                                                NaN  "
      ]
     },
     "execution_count": 11,
     "metadata": {},
     "output_type": "execute_result"
    }
   ],
   "source": [
    "import pandas as pd\n",
    "import numpy as np\n",
    "from scipy.stats import gmean\n",
    "import sys\n",
    "sys.path.insert(0, '../../../statistics_helper')\n",
    "from CI_helper import *\n",
    "pd.options.display.float_format = '{:,.2f}'.format\n",
    "volumes = pd.read_excel('marine_deep_subsurface_prok_carbon_content_data.xlsx','Volume based')\n",
    "volumes"
   ]
  },
  {
   "cell_type": "markdown",
   "metadata": {},
   "source": [
    "In addition we used data from [Braun et al.](http://dx.doi.org/10.3389/fmicb.2016.01375) which measured cell volumes for three cell morphologies (coccoid, elongated and filamentous), along with the relative fraction of each morphology in each site sampled. Here is the data extracted from Braun et al.:"
   ]
  },
  {
   "cell_type": "code",
   "execution_count": 3,
   "metadata": {},
   "outputs": [
    {
     "data": {
      "text/html": [
       "<div>\n",
       "<style scoped>\n",
       "    .dataframe tbody tr th:only-of-type {\n",
       "        vertical-align: middle;\n",
       "    }\n",
       "\n",
       "    .dataframe tbody tr th {\n",
       "        vertical-align: top;\n",
       "    }\n",
       "\n",
       "    .dataframe thead th {\n",
       "        text-align: right;\n",
       "    }\n",
       "</style>\n",
       "<table border=\"1\" class=\"dataframe\">\n",
       "  <thead>\n",
       "    <tr style=\"text-align: right;\">\n",
       "      <th></th>\n",
       "      <th>Depth (m)</th>\n",
       "      <th>Mean volume (µm^3)</th>\n",
       "      <th>Cell type</th>\n",
       "      <th>Fraction FM</th>\n",
       "    </tr>\n",
       "  </thead>\n",
       "  <tbody>\n",
       "    <tr>\n",
       "      <th>0</th>\n",
       "      <td>0.40</td>\n",
       "      <td>0.05</td>\n",
       "      <td>Spherical</td>\n",
       "      <td>0.44</td>\n",
       "    </tr>\n",
       "    <tr>\n",
       "      <th>1</th>\n",
       "      <td>2.75</td>\n",
       "      <td>0.05</td>\n",
       "      <td>Spherical</td>\n",
       "      <td>0.44</td>\n",
       "    </tr>\n",
       "    <tr>\n",
       "      <th>2</th>\n",
       "      <td>4.32</td>\n",
       "      <td>0.03</td>\n",
       "      <td>Spherical</td>\n",
       "      <td>0.52</td>\n",
       "    </tr>\n",
       "    <tr>\n",
       "      <th>3</th>\n",
       "      <td>9.57</td>\n",
       "      <td>0.03</td>\n",
       "      <td>Spherical</td>\n",
       "      <td>0.54</td>\n",
       "    </tr>\n",
       "    <tr>\n",
       "      <th>4</th>\n",
       "      <td>14.55</td>\n",
       "      <td>0.01</td>\n",
       "      <td>Spherical</td>\n",
       "      <td>0.42</td>\n",
       "    </tr>\n",
       "    <tr>\n",
       "      <th>5</th>\n",
       "      <td>20.53</td>\n",
       "      <td>0.02</td>\n",
       "      <td>Spherical</td>\n",
       "      <td>0.33</td>\n",
       "    </tr>\n",
       "    <tr>\n",
       "      <th>6</th>\n",
       "      <td>38.95</td>\n",
       "      <td>0.01</td>\n",
       "      <td>Spherical</td>\n",
       "      <td>0.18</td>\n",
       "    </tr>\n",
       "    <tr>\n",
       "      <th>7</th>\n",
       "      <td>0.40</td>\n",
       "      <td>0.10</td>\n",
       "      <td>Elongated</td>\n",
       "      <td>0.49</td>\n",
       "    </tr>\n",
       "    <tr>\n",
       "      <th>8</th>\n",
       "      <td>2.75</td>\n",
       "      <td>0.11</td>\n",
       "      <td>Elongated</td>\n",
       "      <td>0.48</td>\n",
       "    </tr>\n",
       "    <tr>\n",
       "      <th>9</th>\n",
       "      <td>4.32</td>\n",
       "      <td>0.08</td>\n",
       "      <td>Elongated</td>\n",
       "      <td>0.35</td>\n",
       "    </tr>\n",
       "    <tr>\n",
       "      <th>10</th>\n",
       "      <td>9.57</td>\n",
       "      <td>0.03</td>\n",
       "      <td>Elongated</td>\n",
       "      <td>0.42</td>\n",
       "    </tr>\n",
       "    <tr>\n",
       "      <th>11</th>\n",
       "      <td>14.55</td>\n",
       "      <td>0.04</td>\n",
       "      <td>Elongated</td>\n",
       "      <td>0.55</td>\n",
       "    </tr>\n",
       "    <tr>\n",
       "      <th>12</th>\n",
       "      <td>20.53</td>\n",
       "      <td>0.03</td>\n",
       "      <td>Elongated</td>\n",
       "      <td>0.63</td>\n",
       "    </tr>\n",
       "    <tr>\n",
       "      <th>13</th>\n",
       "      <td>38.95</td>\n",
       "      <td>0.02</td>\n",
       "      <td>Elongated</td>\n",
       "      <td>0.66</td>\n",
       "    </tr>\n",
       "    <tr>\n",
       "      <th>14</th>\n",
       "      <td>0.40</td>\n",
       "      <td>0.34</td>\n",
       "      <td>Filamentous</td>\n",
       "      <td>0.07</td>\n",
       "    </tr>\n",
       "    <tr>\n",
       "      <th>15</th>\n",
       "      <td>2.75</td>\n",
       "      <td>0.19</td>\n",
       "      <td>Filamentous</td>\n",
       "      <td>0.07</td>\n",
       "    </tr>\n",
       "    <tr>\n",
       "      <th>16</th>\n",
       "      <td>4.32</td>\n",
       "      <td>0.20</td>\n",
       "      <td>Filamentous</td>\n",
       "      <td>0.13</td>\n",
       "    </tr>\n",
       "    <tr>\n",
       "      <th>17</th>\n",
       "      <td>9.57</td>\n",
       "      <td>0.11</td>\n",
       "      <td>Filamentous</td>\n",
       "      <td>0.04</td>\n",
       "    </tr>\n",
       "    <tr>\n",
       "      <th>18</th>\n",
       "      <td>14.55</td>\n",
       "      <td>0.10</td>\n",
       "      <td>Filamentous</td>\n",
       "      <td>0.04</td>\n",
       "    </tr>\n",
       "    <tr>\n",
       "      <th>19</th>\n",
       "      <td>20.53</td>\n",
       "      <td>0.22</td>\n",
       "      <td>Filamentous</td>\n",
       "      <td>0.03</td>\n",
       "    </tr>\n",
       "    <tr>\n",
       "      <th>20</th>\n",
       "      <td>38.95</td>\n",
       "      <td>0.08</td>\n",
       "      <td>Filamentous</td>\n",
       "      <td>0.16</td>\n",
       "    </tr>\n",
       "  </tbody>\n",
       "</table>\n",
       "</div>"
      ],
      "text/plain": [
       "    Depth (m)  Mean volume (µm^3)    Cell type  Fraction FM\n",
       "0        0.40                0.05    Spherical         0.44\n",
       "1        2.75                0.05    Spherical         0.44\n",
       "2        4.32                0.03    Spherical         0.52\n",
       "3        9.57                0.03    Spherical         0.54\n",
       "4       14.55                0.01    Spherical         0.42\n",
       "5       20.53                0.02    Spherical         0.33\n",
       "6       38.95                0.01    Spherical         0.18\n",
       "7        0.40                0.10    Elongated         0.49\n",
       "8        2.75                0.11    Elongated         0.48\n",
       "9        4.32                0.08    Elongated         0.35\n",
       "10       9.57                0.03    Elongated         0.42\n",
       "11      14.55                0.04    Elongated         0.55\n",
       "12      20.53                0.03    Elongated         0.63\n",
       "13      38.95                0.02    Elongated         0.66\n",
       "14       0.40                0.34  Filamentous         0.07\n",
       "15       2.75                0.19  Filamentous         0.07\n",
       "16       4.32                0.20  Filamentous         0.13\n",
       "17       9.57                0.11  Filamentous         0.04\n",
       "18      14.55                0.10  Filamentous         0.04\n",
       "19      20.53                0.22  Filamentous         0.03\n",
       "20      38.95                0.08  Filamentous         0.16"
      ]
     },
     "execution_count": 3,
     "metadata": {},
     "output_type": "execute_result"
    }
   ],
   "source": [
    "braun_volumes = pd.read_excel('marine_deep_subsurface_prok_carbon_content_data.xlsx','Braun', skiprows=1)\n",
    "braun_volumes"
   ]
  },
  {
   "cell_type": "markdown",
   "metadata": {
    "collapsed": true
   },
   "source": [
    "We first calculate the characteristic volume of a single cell from the data in Braun et al. to be able to compare it with the other resources:"
   ]
  },
  {
   "cell_type": "code",
   "execution_count": 24,
   "metadata": {},
   "outputs": [
    {
     "name": "stdout",
     "output_type": "stream",
     "text": [
      "The characteristic volume of bacterial and archaeal cells in the marine deep subsurface based on Braun et al. is ≈0.05µm^3\n"
     ]
    },
    {
     "data": {
      "text/html": [
       "<div>\n",
       "<style scoped>\n",
       "    .dataframe tbody tr th:only-of-type {\n",
       "        vertical-align: middle;\n",
       "    }\n",
       "\n",
       "    .dataframe tbody tr th {\n",
       "        vertical-align: top;\n",
       "    }\n",
       "\n",
       "    .dataframe thead th {\n",
       "        text-align: right;\n",
       "    }\n",
       "</style>\n",
       "<table border=\"1\" class=\"dataframe\">\n",
       "  <thead>\n",
       "    <tr style=\"text-align: right;\">\n",
       "      <th></th>\n",
       "      <th>Mean cell volume (µm^3)</th>\n",
       "      <th>Remarks</th>\n",
       "      <th>Study</th>\n",
       "    </tr>\n",
       "  </thead>\n",
       "  <tbody>\n",
       "    <tr>\n",
       "      <th>0</th>\n",
       "      <td>0.21</td>\n",
       "      <td>NaN</td>\n",
       "      <td>Parkes et al.</td>\n",
       "    </tr>\n",
       "    <tr>\n",
       "      <th>1</th>\n",
       "      <td>0.07</td>\n",
       "      <td>Calculated assuming a spherical cell with diam...</td>\n",
       "      <td>Lipp et al. (coccoid)</td>\n",
       "    </tr>\n",
       "    <tr>\n",
       "      <th>2</th>\n",
       "      <td>0.20</td>\n",
       "      <td>Calculated assuming a cylinderical cell with d...</td>\n",
       "      <td>Lipp et al. (rod)</td>\n",
       "    </tr>\n",
       "    <tr>\n",
       "      <th>3</th>\n",
       "      <td>0.04</td>\n",
       "      <td>NaN</td>\n",
       "      <td>Kallmeter et al.</td>\n",
       "    </tr>\n",
       "    <tr>\n",
       "      <th>0</th>\n",
       "      <td>0.05</td>\n",
       "      <td>NaN</td>\n",
       "      <td>Braun et al.</td>\n",
       "    </tr>\n",
       "  </tbody>\n",
       "</table>\n",
       "</div>"
      ],
      "text/plain": [
       "   Mean cell volume (µm^3)                                            Remarks  \\\n",
       "0                     0.21                                                NaN   \n",
       "1                     0.07  Calculated assuming a spherical cell with diam...   \n",
       "2                     0.20  Calculated assuming a cylinderical cell with d...   \n",
       "3                     0.04                                                NaN   \n",
       "0                     0.05                                                NaN   \n",
       "\n",
       "                   Study  \n",
       "0          Parkes et al.  \n",
       "1  Lipp et al. (coccoid)  \n",
       "2      Lipp et al. (rod)  \n",
       "3       Kallmeter et al.  \n",
       "0           Braun et al.  "
      ]
     },
     "execution_count": 24,
     "metadata": {},
     "output_type": "execute_result"
    }
   ],
   "source": [
    "# Group by depth\n",
    "\n",
    "braun_depth_binned = braun_volumes.groupby(['Depth (m)'])\n",
    "\n",
    "# Define the function which will to the weighted average of volume based on the fraction of the\n",
    "# population of each cell type\n",
    "\n",
    "def groupby_weighted_average(input):\n",
    "    return np.average(input['Mean volume (µm^3)'],weights=input['Fraction FM'])\n",
    "\n",
    "# Calculate the weighted average volume for each depth sample\n",
    "braun_weighted_average = braun_depth_binned.apply(groupby_weighted_average)\n",
    "\n",
    "# Calculate the geometric mean of the volumes from different depths\n",
    "braun_characteristic_volume = gmean(braun_weighted_average)\n",
    "print(r'The characteristic volume of bacterial and archaeal cells in the marine deep subsurface based on Braun et al. is ≈%.2fµm^3' %braun_characteristic_volume)\n",
    "volumes.append(pd.DataFrame.from_dict([{'Study': 'Braun et al.', 'Mean cell volume (µm^3)':braun_characteristic_volume}]))"
   ]
  },
  {
   "cell_type": "markdown",
   "metadata": {},
   "source": [
    "In order to covert the five different estimates for the characteristic volume of bacterial and archaeal cell in the marine deep subsurface into estimates of carbon content, we use two independent models that have been used in the literature: [Fry et al.](http://dx.doi.org/10.1016/S0580-9517(08)70239-3) which estimates ≈300 fg C per $µm^3$, and [Simon & Azam](http://dx.doi.org/10.3354/meps051201), which developed an allometric model of the carbon content of cells with different volumes. The allometric model they developed is:\n",
    "$$C = 88.1 \\times V^{0.59}$$\n",
    "Where C is the carbon content of a single cell [fg C cell$^{-1}$], and V is cell volume [$µm^3$]. We apply these two independent conversion equations to the volumes we gathered from the literature to produce 10 estimates for the characteristic carbon content of bacterial and archaeal cells in the marine deep subsurface."
   ]
  },
  {
   "cell_type": "code",
   "execution_count": 25,
   "metadata": {},
   "outputs": [
    {
     "data": {
      "text/html": [
       "<div>\n",
       "<style scoped>\n",
       "    .dataframe tbody tr th:only-of-type {\n",
       "        vertical-align: middle;\n",
       "    }\n",
       "\n",
       "    .dataframe tbody tr th {\n",
       "        vertical-align: top;\n",
       "    }\n",
       "\n",
       "    .dataframe thead th {\n",
       "        text-align: right;\n",
       "    }\n",
       "</style>\n",
       "<table border=\"1\" class=\"dataframe\">\n",
       "  <thead>\n",
       "    <tr style=\"text-align: right;\">\n",
       "      <th></th>\n",
       "      <th>Study</th>\n",
       "      <th>Mean cell volume (µm^3)</th>\n",
       "      <th>Remarks</th>\n",
       "      <th>Fry et al.</th>\n",
       "      <th>Simon and Azam</th>\n",
       "    </tr>\n",
       "  </thead>\n",
       "  <tbody>\n",
       "    <tr>\n",
       "      <th>0</th>\n",
       "      <td>Parkes et al.</td>\n",
       "      <td>0.21</td>\n",
       "      <td>NaN</td>\n",
       "      <td>65.10</td>\n",
       "      <td>35.08</td>\n",
       "    </tr>\n",
       "    <tr>\n",
       "      <th>1</th>\n",
       "      <td>Lipp et al. (coccoid)</td>\n",
       "      <td>0.07</td>\n",
       "      <td>Calculated assuming a spherical cell with diam...</td>\n",
       "      <td>20.28</td>\n",
       "      <td>17.63</td>\n",
       "    </tr>\n",
       "    <tr>\n",
       "      <th>2</th>\n",
       "      <td>Lipp et al. (rod)</td>\n",
       "      <td>0.20</td>\n",
       "      <td>Calculated assuming a cylinderical cell with d...</td>\n",
       "      <td>60.84</td>\n",
       "      <td>33.71</td>\n",
       "    </tr>\n",
       "    <tr>\n",
       "      <th>3</th>\n",
       "      <td>Kallmeter et al.</td>\n",
       "      <td>0.04</td>\n",
       "      <td>NaN</td>\n",
       "      <td>13.02</td>\n",
       "      <td>13.57</td>\n",
       "    </tr>\n",
       "  </tbody>\n",
       "</table>\n",
       "</div>"
      ],
      "text/plain": [
       "                   Study  Mean cell volume (µm^3)  \\\n",
       "0          Parkes et al.                     0.21   \n",
       "1  Lipp et al. (coccoid)                     0.07   \n",
       "2      Lipp et al. (rod)                     0.20   \n",
       "3       Kallmeter et al.                     0.04   \n",
       "\n",
       "                                             Remarks  Fry et al.  \\\n",
       "0                                                NaN       65.10   \n",
       "1  Calculated assuming a spherical cell with diam...       20.28   \n",
       "2  Calculated assuming a cylinderical cell with d...       60.84   \n",
       "3                                                NaN       13.02   \n",
       "\n",
       "   Simon and Azam  \n",
       "0           35.08  \n",
       "1           17.63  \n",
       "2           33.71  \n",
       "3           13.57  "
      ]
     },
     "execution_count": 25,
     "metadata": {},
     "output_type": "execute_result"
    }
   ],
   "source": [
    "# Apply the conversion equations to the volumes reported in the literature\n",
    "volumes['Fry et al.'] = volumes['Mean cell volume (µm^3)']*310\n",
    "volumes['Simon and Azam'] = 88.1*volumes['Mean cell volume (µm^3)']**0.59\n",
    "\n",
    "volumes"
   ]
  },
  {
   "cell_type": "markdown",
   "metadata": {},
   "source": [
    "We calculate the geometric mean of the values from different studies using the same conversion equation to generate a characteristic carbon content for each conversion method."
   ]
  },
  {
   "cell_type": "code",
   "execution_count": 27,
   "metadata": {},
   "outputs": [
    {
     "name": "stdout",
     "output_type": "stream",
     "text": [
      "The characteristic carbon content of a single bacterial or archaeal cell in the marine deep subsurface based on cell volume converted using the conversion equation from Fry et al. is ≈32 fg C cell^-1\n",
      "\n",
      "The characteristic carbon content of a single bacterial or archaeal cell in the marine deep subsurface based on cell volume converted using the conversion equation from Simon & Azam is ≈23 fg C cell^-1\n"
     ]
    }
   ],
   "source": [
    "fry_volume_mean = gmean(volumes['Fry et al.'])\n",
    "sa_volume_mean = gmean(volumes['Simon and Azam'])\n",
    "\n",
    "print('The characteristic carbon content of a single bacterial or archaeal cell in the marine deep subsurface based on cell volume converted using the conversion equation from Fry et al. is ≈%.0f fg C cell^-1\\n' %fry_volume_mean)\n",
    "print('The characteristic carbon content of a single bacterial or archaeal cell in the marine deep subsurface based on cell volume converted using the conversion equation from Simon & Azam is ≈%.0f fg C cell^-1' %sa_volume_mean)"
   ]
  },
  {
   "cell_type": "markdown",
   "metadata": {},
   "source": [
    "We compute the geometric mean of the characteristic values from the two volume to carbon content conversion methods and use it as our best estimate for the carbon content of bacterial and archaeal cells in the marine deep subsurface, based on volume measurements."
   ]
  },
  {
   "cell_type": "code",
   "execution_count": 29,
   "metadata": {},
   "outputs": [
    {
     "name": "stdout",
     "output_type": "stream",
     "text": [
      "Our best volume-based estimate for the carbon content of bacterial and archaeal cells in the marine deep subsurface is 27 fg C cell^-1\n"
     ]
    }
   ],
   "source": [
    "vol_best_carbon_content = gmean([fry_volume_mean,sa_volume_mean])\n",
    "print('Our best volume-based estimate for the carbon content of bacterial and archaeal cells in the marine deep subsurface is %.0f fg C cell^-1' %vol_best_carbon_content)"
   ]
  },
  {
   "cell_type": "markdown",
   "metadata": {},
   "source": [
    "## Amino acid-based estimate\n",
    "We rely on the study by Braun et al., which measured carobon content of bacterial and archaeal cells in the marine deep subsurface based on amino acid carbon mass, and assuming ≈55% of the carbon mass of single cells is stored in amino acids. Here are the values reported by Braun et al.:"
   ]
  },
  {
   "cell_type": "code",
   "execution_count": 30,
   "metadata": {},
   "outputs": [
    {
     "data": {
      "text/html": [
       "<div>\n",
       "<style scoped>\n",
       "    .dataframe tbody tr th:only-of-type {\n",
       "        vertical-align: middle;\n",
       "    }\n",
       "\n",
       "    .dataframe tbody tr th {\n",
       "        vertical-align: top;\n",
       "    }\n",
       "\n",
       "    .dataframe thead th {\n",
       "        text-align: right;\n",
       "    }\n",
       "</style>\n",
       "<table border=\"1\" class=\"dataframe\">\n",
       "  <thead>\n",
       "    <tr style=\"text-align: right;\">\n",
       "      <th></th>\n",
       "      <th>Depth (m)</th>\n",
       "      <th>Carbon content (fg C cell-1)</th>\n",
       "    </tr>\n",
       "  </thead>\n",
       "  <tbody>\n",
       "    <tr>\n",
       "      <th>0</th>\n",
       "      <td>0.40</td>\n",
       "      <td>19</td>\n",
       "    </tr>\n",
       "    <tr>\n",
       "      <th>1</th>\n",
       "      <td>2.75</td>\n",
       "      <td>26</td>\n",
       "    </tr>\n",
       "    <tr>\n",
       "      <th>2</th>\n",
       "      <td>4.32</td>\n",
       "      <td>29</td>\n",
       "    </tr>\n",
       "    <tr>\n",
       "      <th>3</th>\n",
       "      <td>9.57</td>\n",
       "      <td>31</td>\n",
       "    </tr>\n",
       "    <tr>\n",
       "      <th>4</th>\n",
       "      <td>14.55</td>\n",
       "      <td>21</td>\n",
       "    </tr>\n",
       "    <tr>\n",
       "      <th>5</th>\n",
       "      <td>20.53</td>\n",
       "      <td>14</td>\n",
       "    </tr>\n",
       "    <tr>\n",
       "      <th>6</th>\n",
       "      <td>38.95</td>\n",
       "      <td>17</td>\n",
       "    </tr>\n",
       "  </tbody>\n",
       "</table>\n",
       "</div>"
      ],
      "text/plain": [
       "   Depth (m)  Carbon content (fg C cell-1)\n",
       "0       0.40                            19\n",
       "1       2.75                            26\n",
       "2       4.32                            29\n",
       "3       9.57                            31\n",
       "4      14.55                            21\n",
       "5      20.53                            14\n",
       "6      38.95                            17"
      ]
     },
     "execution_count": 30,
     "metadata": {},
     "output_type": "execute_result"
    }
   ],
   "source": [
    "aa_based = pd.read_excel('marine_deep_subsurface_prok_carbon_content_data.xlsx', 'Amino acid based', skiprows=1)\n",
    "aa_based"
   ]
  },
  {
   "cell_type": "markdown",
   "metadata": {},
   "source": [
    "We use the geometric mean of the values reported by Braun et al. as our best estimate for the amino acid-based estimate of the carbon content of bacterial and archaeal cells in the marine deep subsurface."
   ]
  },
  {
   "cell_type": "code",
   "execution_count": 31,
   "metadata": {},
   "outputs": [
    {
     "name": "stdout",
     "output_type": "stream",
     "text": [
      "Our best amino acid-based estimate for the carbon content of bacterial and archaeal cells in the marine deep subsurface is 22 fg C cell^-1\n"
     ]
    }
   ],
   "source": [
    "aa_best_carbon_content = gmean(aa_based['Carbon content (fg C cell-1)'])\n",
    "\n",
    "print('Our best amino acid-based estimate for the carbon content of bacterial and archaeal cells in the marine deep subsurface is %.0f fg C cell^-1' %aa_best_carbon_content)"
   ]
  },
  {
   "cell_type": "markdown",
   "metadata": {},
   "source": [
    "As our best estimate for the carbon content of bacterial and archaeal cells in the marine deep subsurface, we use the geometric mean of the volume-based and amino acid-based estimates."
   ]
  },
  {
   "cell_type": "code",
   "execution_count": 32,
   "metadata": {},
   "outputs": [
    {
     "name": "stdout",
     "output_type": "stream",
     "text": [
      "Our best estimate for the carbon content of bacterial and archaeal cells in the marine deep subsurface is 24 fg C cell^-1\n"
     ]
    }
   ],
   "source": [
    "best_estimate = gmean([vol_best_carbon_content,aa_best_carbon_content])\n",
    "print('Our best estimate for the carbon content of bacterial and archaeal cells in the marine deep subsurface is %.0f fg C cell^-1' %best_estimate)"
   ]
  },
  {
   "cell_type": "markdown",
   "metadata": {},
   "source": [
    "# Uncertainty analysis\n",
    "To calculate the uncertainty associated with the estimate for the total number of of bacteria and archaea in the marine deep subsurface, we first collect all available uncertainties and then take the largest value as our best projection for the uncertainty. \n",
    "\n",
    "## Volume-based\n",
    "\n",
    "### intra-study uncertainty\n",
    "For the volume based approaches, we had data on intra-study uncertainty only for the Braun et al. study. We calculate the intra study uncertainty of the volumes reported in Braun et al. by calculating the 95% confidence interval of the values reported in Braun et al."
   ]
  },
  {
   "cell_type": "code",
   "execution_count": 35,
   "metadata": {},
   "outputs": [
    {
     "name": "stdout",
     "output_type": "stream",
     "text": [
      "The intra-study uncertainty for Braun et al. is ≈1.5-fold\n"
     ]
    }
   ],
   "source": [
    "vol_braun_intra_CI = geo_CI_calc(braun_weighted_average)\n",
    "print('The intra-study uncertainty for Braun et al. is ≈%.1f-fold' %vol_braun_intra_CI)"
   ]
  },
  {
   "cell_type": "markdown",
   "metadata": {},
   "source": [
    "### Interstudy uncertainty\n",
    "As a measure of the interstudy uncertainty, we compare the 95% confidence interval for the geometric mean of the carbon content from different studies, using the same conversion method.\n",
    "We also use the 95% confidence interval for the geometric mean of the carbon content estimates from the two different conversion methods (Fry et al. and Simon & Azam) as a measure of interstudy uncertainty."
   ]
  },
  {
   "cell_type": "code",
   "execution_count": 37,
   "metadata": {},
   "outputs": [
    {
     "name": "stdout",
     "output_type": "stream",
     "text": [
      "The interstudy uncertainty of the geometric mean of carbon content using the conversion method of Fry et al. is ≈2.2-fold\n",
      "The interstudy uncertainty of the geometric mean of carbon content using the conversion method of Simon & Azam is ≈1.6-fold\n",
      "The interstudy uncertainty of the geometric mean of carbon content between conversion methods is ≈1.4-fold\n"
     ]
    }
   ],
   "source": [
    "carbon_content_fry_CI = geo_CI_calc(volumes['Fry et al.'])\n",
    "carbon_content_sa_CI = geo_CI_calc(volumes['Simon and Azam'])\n",
    "print('The interstudy uncertainty of the geometric mean of carbon content using the conversion method of Fry et al. is ≈%.1f-fold' %carbon_content_fry_CI)\n",
    "print('The interstudy uncertainty of the geometric mean of carbon content using the conversion method of Simon & Azam is ≈%.1f-fold' %carbon_content_sa_CI)\n",
    "\n",
    "carbon_content_vol_CI = geo_CI_calc([fry_volume_mean,sa_volume_mean])\n",
    "print('The interstudy uncertainty of the geometric mean of carbon content between conversion methods is ≈%.1f-fold' %carbon_content_vol_CI)\n"
   ]
  },
  {
   "cell_type": "markdown",
   "metadata": {},
   "source": [
    "## Amino acid-based\n",
    "\n",
    "### Intra-study uncertainty\n",
    "We calculate the 95% confidence interval of the geometric mean of values for the carbon content from Braun et al. as a measure of the intra-study uncertainty."
   ]
  },
  {
   "cell_type": "code",
   "execution_count": 38,
   "metadata": {},
   "outputs": [
    {
     "name": "stdout",
     "output_type": "stream",
     "text": [
      "The intra-study uncertainty of amino acid-based carbon content estimates from Braun et al. is ≈1.2-fold\n"
     ]
    }
   ],
   "source": [
    "aa_intra_CI = geo_CI_calc(aa_based['Carbon content (fg C cell-1)'])\n",
    "print('The intra-study uncertainty of amino acid-based carbon content estimates from Braun et al. is ≈%.1f-fold' %aa_intra_CI)\n"
   ]
  },
  {
   "cell_type": "markdown",
   "metadata": {},
   "source": [
    "## Inter-method uncertainty\n",
    "As another measure of uncertainty we calculate the 95% confidence interval of the geometric mean of the estimates for carbon content calculated using either the volume-based method or the amino acid-based method."
   ]
  },
  {
   "cell_type": "code",
   "execution_count": 39,
   "metadata": {},
   "outputs": [
    {
     "name": "stdout",
     "output_type": "stream",
     "text": [
      "The intra-method uncertainty for the caron content of bacretial and archaeal cells in the marine deep subsurface is  ≈1.2-fold\n"
     ]
    }
   ],
   "source": [
    "inter_method_CI = geo_CI_calc([vol_best_carbon_content,aa_best_carbon_content])\n",
    "print('The intra-method uncertainty for the caron content of bacretial and archaeal cells in the marine deep subsurface is  ≈%.1f-fold' %inter_method_CI)"
   ]
  },
  {
   "cell_type": "markdown",
   "metadata": {},
   "source": [
    "We use the highest uncertainty among this collection, which is ≈2.2-fold, as our best projection of the uncertainty associated with our estimate of the carbon content of bacterial and archaeal cells in the marine deep subsurface.\n",
    "\n",
    "Our final parameters are:"
   ]
  },
  {
   "cell_type": "code",
   "execution_count": 43,
   "metadata": {},
   "outputs": [
    {
     "name": "stdout",
     "output_type": "stream",
     "text": [
      "Total number of bacteria and archaea in the marine deep subsurface: 24\n",
      "Uncertainty associated with the total number of bacteria and archaea in the marine deep subsurface: 2.2-fold\n"
     ]
    }
   ],
   "source": [
    "# Take the maximal uncetainty as our best projection of uncertainty\n",
    "mul_CI = np.max([inter_method_CI,aa_intra_CI,carbon_content_vol_CI,carbon_content_fry_CI,carbon_content_sa_CI,vol_braun_intra_CI])\n",
    "\n",
    "print('Total number of bacteria and archaea in the marine deep subsurface: %.0f' % best_estimate)\n",
    "print('Uncertainty associated with the total number of bacteria and archaea in the marine deep subsurface: %.1f-fold' % mul_CI)\n",
    "\n",
    "old_results = pd.read_excel('../marine_deep_subsurface_prok_biomass_estimate.xlsx')\n",
    "result = old_results.copy()\n",
    "result.loc[1] = pd.Series({\n",
    "                'Parameter': 'Carbon content of bacterial and archaeal cells in the marine deep subsurface',\n",
    "                'Value': int(best_estimate),\n",
    "                'Units': 'fg C cell^-1',\n",
    "                'Uncertainty': \"{0:.1f}\".format(mul_CI)\n",
    "                })\n",
    "\n",
    "result.to_excel('../marine_deep_subsurface_prok_biomass_estimate.xlsx',index=False)\n"
   ]
  }
 ],
 "metadata": {
  "kernelspec": {
   "display_name": "Python 3",
   "language": "python",
   "name": "python3"
  },
  "language_info": {
   "codemirror_mode": {
    "name": "ipython",
    "version": 3
   },
   "file_extension": ".py",
   "mimetype": "text/x-python",
   "name": "python",
   "nbconvert_exporter": "python",
   "pygments_lexer": "ipython3",
   "version": "3.5.2"
  }
 },
 "nbformat": 4,
 "nbformat_minor": 2
}
