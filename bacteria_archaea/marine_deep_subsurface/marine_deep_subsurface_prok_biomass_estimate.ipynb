{
 "cells": [
  {
   "cell_type": "markdown",
   "metadata": {},
   "source": [
    "# Estimating the total biomass of marine deep subsurface archaea and bacteria\n",
    "\n",
    "We use our best estimates for the total number of marine deep subsurface prokaryotes, the carbon content of marine deep subsurface prokaryotes and the fraction of archaea and bacteria out of the total population of marine deep subsurface prokaryotes to estimate the total biomass of marine deep subsurface bacteria and archaea."
   ]
  },
  {
   "cell_type": "code",
   "execution_count": 1,
   "metadata": {},
   "outputs": [
    {
     "data": {
      "text/html": [
       "<div>\n",
       "<style scoped>\n",
       "    .dataframe tbody tr th:only-of-type {\n",
       "        vertical-align: middle;\n",
       "    }\n",
       "\n",
       "    .dataframe tbody tr th {\n",
       "        vertical-align: top;\n",
       "    }\n",
       "\n",
       "    .dataframe thead th {\n",
       "        text-align: right;\n",
       "    }\n",
       "</style>\n",
       "<table border=\"1\" class=\"dataframe\">\n",
       "  <thead>\n",
       "    <tr style=\"text-align: right;\">\n",
       "      <th></th>\n",
       "      <th>Parameter</th>\n",
       "      <th>Value</th>\n",
       "      <th>Units</th>\n",
       "      <th>Uncertainty</th>\n",
       "    </tr>\n",
       "  </thead>\n",
       "  <tbody>\n",
       "    <tr>\n",
       "      <th>0</th>\n",
       "      <td>Total number of bacteria and archaea in the ma...</td>\n",
       "      <td>4.0e+29</td>\n",
       "      <td>Cells</td>\n",
       "      <td>6.4e+00</td>\n",
       "    </tr>\n",
       "    <tr>\n",
       "      <th>1</th>\n",
       "      <td>Carbon content of bacterial and archaeal cells...</td>\n",
       "      <td>2.4e+01</td>\n",
       "      <td>fg C cell^-1</td>\n",
       "      <td>2.2e+00</td>\n",
       "    </tr>\n",
       "    <tr>\n",
       "      <th>2</th>\n",
       "      <td>Fraction of archaea</td>\n",
       "      <td>3.0e-01</td>\n",
       "      <td>Unitless</td>\n",
       "      <td>1.6e+00</td>\n",
       "    </tr>\n",
       "    <tr>\n",
       "      <th>3</th>\n",
       "      <td>Fraction of bacteria</td>\n",
       "      <td>7.0e-01</td>\n",
       "      <td>Unitless</td>\n",
       "      <td>1.3e+00</td>\n",
       "    </tr>\n",
       "  </tbody>\n",
       "</table>\n",
       "</div>"
      ],
      "text/plain": [
       "                                           Parameter   Value         Units  \\\n",
       "0  Total number of bacteria and archaea in the ma... 4.0e+29         Cells   \n",
       "1  Carbon content of bacterial and archaeal cells... 2.4e+01  fg C cell^-1   \n",
       "2                                Fraction of archaea 3.0e-01      Unitless   \n",
       "3                               Fraction of bacteria 7.0e-01      Unitless   \n",
       "\n",
       "   Uncertainty  \n",
       "0      6.4e+00  \n",
       "1      2.2e+00  \n",
       "2      1.6e+00  \n",
       "3      1.3e+00  "
      ]
     },
     "execution_count": 1,
     "metadata": {},
     "output_type": "execute_result"
    }
   ],
   "source": [
    "import numpy as np\n",
    "import pandas as pd\n",
    "pd.options.display.float_format = '{:,.1e}'.format\n",
    "import sys\n",
    "sys.path.insert(0, '../../statistics_helper')\n",
    "from CI_helper import *\n",
    "results = pd.read_excel('marine_deep_subsurface_prok_biomass_estimate.xlsx')\n",
    "results"
   ]
  },
  {
   "cell_type": "markdown",
   "metadata": {},
   "source": [
    "We multiply all the relevant parameters to arrive at our best estimate for the biomass of marine deep subsurface archaea and bacteria, and propagate the uncertainties associated with each parameter to calculate the uncertainty associated with the estimate for the total biomass."
   ]
  },
  {
   "cell_type": "code",
   "execution_count": 3,
   "metadata": {},
   "outputs": [
    {
     "name": "stdout",
     "output_type": "stream",
     "text": [
      "Our best estimate for the total biomass of marine deep subsurface archaea is 3 Gt C\n",
      "Our best estimate for the total biomass of marine deep subsurface bacteria is 7 Gt C\n",
      "The uncertainty associated with the estimate for the biomass of archaea is 7.9-fold\n",
      "The uncertainty associated with the estimate for the biomass of bacteria is 7.6-fold\n"
     ]
    }
   ],
   "source": [
    "# Calculate the total biomass of marine archaea and bacteria\n",
    "total_arch_biomass = results['Value'][0]*results['Value'][1]*1e-15*results['Value'][2]\n",
    "total_bac_biomass = results['Value'][0]*results['Value'][1]*1e-15*results['Value'][3]\n",
    "\n",
    "print('Our best estimate for the total biomass of marine deep subsurface archaea is %.0f Gt C' %(total_arch_biomass/1e15))\n",
    "print('Our best estimate for the total biomass of marine deep subsurface bacteria is %.0f Gt C' %(total_bac_biomass/1e15))\n",
    "\n",
    "# Propagate the uncertainty associated with each parameter to the final estimate\n",
    "\n",
    "arch_biomass_uncertainty = CI_prod_prop(results['Uncertainty'][:3])\n",
    "bac_biomass_uncertainty = CI_prod_prop(results.iloc[[0,1,3]]['Uncertainty'])\n",
    "\n",
    "print('The uncertainty associated with the estimate for the biomass of archaea is %.1f-fold' %arch_biomass_uncertainty)\n",
    "print('The uncertainty associated with the estimate for the biomass of bacteria is %.1f-fold' %bac_biomass_uncertainty)\n"
   ]
  }
 ],
 "metadata": {
  "kernelspec": {
   "display_name": "Python 3",
   "language": "python",
   "name": "python3"
  },
  "language_info": {
   "codemirror_mode": {
    "name": "ipython",
    "version": 3
   },
   "file_extension": ".py",
   "mimetype": "text/x-python",
   "name": "python",
   "nbconvert_exporter": "python",
   "pygments_lexer": "ipython3",
   "version": "3.5.2"
  }
 },
 "nbformat": 4,
 "nbformat_minor": 2
}
