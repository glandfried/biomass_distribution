{
 "cells": [
  {
   "cell_type": "code",
   "execution_count": 1,
   "metadata": {
    "collapsed": true
   },
   "outputs": [],
   "source": [
    "# Load dependencies\n",
    "import pandas as pd\n",
    "import numpy as np\n",
    "from scipy.stats import gmean\n",
    "import sys\n",
    "sys.path.insert(0, '../statistics_helper/')\n",
    "from CI_helper import *\n",
    "from excel_utils import *"
   ]
  },
  {
   "cell_type": "markdown",
   "metadata": {},
   "source": [
    "# Estimating the total biomass of bacteria & archaea\n",
    "To estimate the total biomass of bacteria & archaea, we conbine our estimates for the biomass of each environment, which we calculated in each subdirectory. Our estimates for the biomass of each animal taxon are:"
   ]
  },
  {
   "cell_type": "code",
   "execution_count": 2,
   "metadata": {},
   "outputs": [
    {
     "data": {
      "text/html": [
       "<div>\n",
       "<style scoped>\n",
       "    .dataframe tbody tr th:only-of-type {\n",
       "        vertical-align: middle;\n",
       "    }\n",
       "\n",
       "    .dataframe tbody tr th {\n",
       "        vertical-align: top;\n",
       "    }\n",
       "\n",
       "    .dataframe thead th {\n",
       "        text-align: right;\n",
       "    }\n",
       "</style>\n",
       "<table border=\"1\" class=\"dataframe\">\n",
       "  <thead>\n",
       "    <tr style=\"text-align: right;\">\n",
       "      <th></th>\n",
       "      <th></th>\n",
       "      <th>Biomass [Gt C]</th>\n",
       "      <th>Rounded biomass [Gt C]</th>\n",
       "      <th>Uncertainty</th>\n",
       "      <th>Total biomass [Gt C]</th>\n",
       "      <th>Rounded total biomass [Gt C]</th>\n",
       "      <th>Total uncertainty</th>\n",
       "    </tr>\n",
       "  </thead>\n",
       "  <tbody>\n",
       "    <tr>\n",
       "      <th rowspan=\"4\" valign=\"top\">Bacteria</th>\n",
       "      <th>Terrestrial deep subsurface</th>\n",
       "      <td>58.069294</td>\n",
       "      <td>60.0</td>\n",
       "      <td>20.746506</td>\n",
       "      <td>73.396742</td>\n",
       "      <td>70.0</td>\n",
       "      <td>9.604132</td>\n",
       "    </tr>\n",
       "    <tr>\n",
       "      <th>Marine</th>\n",
       "      <td>1.326934</td>\n",
       "      <td>1.4</td>\n",
       "      <td>1.810178</td>\n",
       "      <td>NaN</td>\n",
       "      <td>NaN</td>\n",
       "      <td>NaN</td>\n",
       "    </tr>\n",
       "    <tr>\n",
       "      <th>Soil</th>\n",
       "      <td>7.352298</td>\n",
       "      <td>7.0</td>\n",
       "      <td>6.385459</td>\n",
       "      <td>NaN</td>\n",
       "      <td>NaN</td>\n",
       "      <td>NaN</td>\n",
       "    </tr>\n",
       "    <tr>\n",
       "      <th>Marine deep subsurface</th>\n",
       "      <td>6.648217</td>\n",
       "      <td>7.0</td>\n",
       "      <td>7.643075</td>\n",
       "      <td>NaN</td>\n",
       "      <td>NaN</td>\n",
       "      <td>NaN</td>\n",
       "    </tr>\n",
       "    <tr>\n",
       "      <th rowspan=\"4\" valign=\"top\">Archaea</th>\n",
       "      <th>Terrestrial deep subsurface</th>\n",
       "      <td>3.706551</td>\n",
       "      <td>4.0</td>\n",
       "      <td>62.011569</td>\n",
       "      <td>7.403225</td>\n",
       "      <td>8.0</td>\n",
       "      <td>13.244001</td>\n",
       "    </tr>\n",
       "    <tr>\n",
       "      <th>Marine</th>\n",
       "      <td>0.331734</td>\n",
       "      <td>0.3</td>\n",
       "      <td>2.687098</td>\n",
       "      <td>NaN</td>\n",
       "      <td>NaN</td>\n",
       "      <td>NaN</td>\n",
       "    </tr>\n",
       "    <tr>\n",
       "      <th>Soil</th>\n",
       "      <td>0.515705</td>\n",
       "      <td>0.5</td>\n",
       "      <td>3.643263</td>\n",
       "      <td>NaN</td>\n",
       "      <td>NaN</td>\n",
       "      <td>NaN</td>\n",
       "    </tr>\n",
       "    <tr>\n",
       "      <th>Marine deep subsurface</th>\n",
       "      <td>2.849236</td>\n",
       "      <td>3.0</td>\n",
       "      <td>7.931545</td>\n",
       "      <td>NaN</td>\n",
       "      <td>NaN</td>\n",
       "      <td>NaN</td>\n",
       "    </tr>\n",
       "  </tbody>\n",
       "</table>\n",
       "</div>"
      ],
      "text/plain": [
       "                                      Biomass [Gt C]  Rounded biomass [Gt C]  \\\n",
       "Bacteria Terrestrial deep subsurface       58.069294                    60.0   \n",
       "         Marine                             1.326934                     1.4   \n",
       "         Soil                               7.352298                     7.0   \n",
       "         Marine deep subsurface             6.648217                     7.0   \n",
       "Archaea  Terrestrial deep subsurface        3.706551                     4.0   \n",
       "         Marine                             0.331734                     0.3   \n",
       "         Soil                               0.515705                     0.5   \n",
       "         Marine deep subsurface             2.849236                     3.0   \n",
       "\n",
       "                                      Uncertainty  Total biomass [Gt C]  \\\n",
       "Bacteria Terrestrial deep subsurface    20.746506             73.396742   \n",
       "         Marine                          1.810178                   NaN   \n",
       "         Soil                            6.385459                   NaN   \n",
       "         Marine deep subsurface          7.643075                   NaN   \n",
       "Archaea  Terrestrial deep subsurface    62.011569              7.403225   \n",
       "         Marine                          2.687098                   NaN   \n",
       "         Soil                            3.643263                   NaN   \n",
       "         Marine deep subsurface          7.931545                   NaN   \n",
       "\n",
       "                                      Rounded total biomass [Gt C]  \\\n",
       "Bacteria Terrestrial deep subsurface                          70.0   \n",
       "         Marine                                                NaN   \n",
       "         Soil                                                  NaN   \n",
       "         Marine deep subsurface                                NaN   \n",
       "Archaea  Terrestrial deep subsurface                           8.0   \n",
       "         Marine                                                NaN   \n",
       "         Soil                                                  NaN   \n",
       "         Marine deep subsurface                                NaN   \n",
       "\n",
       "                                      Total uncertainty  \n",
       "Bacteria Terrestrial deep subsurface           9.604132  \n",
       "         Marine                                     NaN  \n",
       "         Soil                                       NaN  \n",
       "         Marine deep subsurface                     NaN  \n",
       "Archaea  Terrestrial deep subsurface          13.244001  \n",
       "         Marine                                     NaN  \n",
       "         Soil                                       NaN  \n",
       "         Marine deep subsurface                     NaN  "
      ]
     },
     "execution_count": 2,
     "metadata": {},
     "output_type": "execute_result"
    }
   ],
   "source": [
    "data = pd.read_excel('../results.xlsx','Table1 & Fig1',index_col=[0,1])\n",
    "data.loc[['Bacteria','Archaea']]"
   ]
  },
  {
   "cell_type": "markdown",
   "metadata": {},
   "source": [
    "We sum all these different contributions to produce our best estimate for the biomass of animals:"
   ]
  },
  {
   "cell_type": "code",
   "execution_count": 3,
   "metadata": {},
   "outputs": [
    {
     "name": "stdout",
     "output_type": "stream",
     "text": [
      "Our best estimate for the biomass of bacteria is ≈73.4 Gt C\n",
      "Our best estimate for the biomass of archaea is ≈7.4 Gt C\n"
     ]
    }
   ],
   "source": [
    "best_estimate_bac = data.loc['Bacteria','Biomass [Gt C]'].sum()\n",
    "best_estimate_arch = data.loc['Archaea','Biomass [Gt C]'].sum()\n",
    "\n",
    "print('Our best estimate for the biomass of bacteria is ≈%.1f Gt C' %best_estimate_bac)\n",
    "print('Our best estimate for the biomass of archaea is ≈%.1f Gt C' %best_estimate_arch)"
   ]
  },
  {
   "cell_type": "markdown",
   "metadata": {},
   "source": [
    "# Uncertainty analysis\n",
    "To project the uncertainty associated with our estimate of the total biomass of animals, we combine the uncertainties of the estimates for which is have uncertainty projections, namely arthropods (marine and terrestrial), fish and wild mammals."
   ]
  },
  {
   "cell_type": "code",
   "execution_count": 4,
   "metadata": {},
   "outputs": [
    {
     "name": "stdout",
     "output_type": "stream",
     "text": [
      "Our projection for the uncertainty of our estimate of the total biomass of bacteria is ≈10-fold\n",
      "Our projection for the uncertainty of our estimate of the total biomass of archaea is ≈13-fold\n"
     ]
    }
   ],
   "source": [
    "mul_CI_bac = CI_sum_prop(estimates=data.loc['Bacteria','Biomass [Gt C]'].values, mul_CIs = data.loc['Bacteria','Uncertainty'].values)\n",
    "mul_CI_arch = CI_sum_prop(estimates=data.loc['Archaea','Biomass [Gt C]'].values, mul_CIs = data.loc['Archaea','Uncertainty'].values)\n",
    "\n",
    "print('Our projection for the uncertainty of our estimate of the total biomass of bacteria is ≈%.0f-fold' %mul_CI_bac)\n",
    "print('Our projection for the uncertainty of our estimate of the total biomass of archaea is ≈%.0f-fold' %mul_CI_arch)"
   ]
  },
  {
   "cell_type": "code",
   "execution_count": 5,
   "metadata": {},
   "outputs": [],
   "source": [
    "# Feed bacteria results to Table 1 & Fig. 1\n",
    "update_results(sheet='Table1 & Fig1', \n",
    "               row=('Bacteria','Terrestrial deep subsurface'), \n",
    "               col=['Total biomass [Gt C]', 'Total uncertainty'],\n",
    "               values=[best_estimate_bac,mul_CI_bac],\n",
    "               path='../results.xlsx')\n",
    "\n",
    "# Feed archaea results to Table 1 & Fig. 1\n",
    "update_results(sheet='Table1 & Fig1', \n",
    "               row=('Archaea','Terrestrial deep subsurface'), \n",
    "               col=['Total biomass [Gt C]', 'Total uncertainty'],\n",
    "               values=[best_estimate_arch,mul_CI_arch],\n",
    "               path='../results.xlsx')"
   ]
  }
 ],
 "metadata": {
  "kernelspec": {
   "display_name": "Python 3",
   "language": "python",
   "name": "python3"
  },
  "language_info": {
   "codemirror_mode": {
    "name": "ipython",
    "version": 3
   },
   "file_extension": ".py",
   "mimetype": "text/x-python",
   "name": "python",
   "nbconvert_exporter": "python",
   "pygments_lexer": "ipython3",
   "version": "3.5.2"
  }
 },
 "nbformat": 4,
 "nbformat_minor": 2
}
