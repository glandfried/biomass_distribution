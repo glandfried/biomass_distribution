{
 "cells": [
  {
   "cell_type": "markdown",
   "metadata": {},
   "source": [
    "# Estimating the fraction of archaea out of the total soil prokaryote population\n",
    "In order to estimate the fraction of archaea out of the total population of soil bacteria and archaea, we rely of four independent methods: fluorescent in-situ hybridization (FISH), CARD-FISH and 16S rDNA sequencing and 16S rDNA qPCR."
   ]
  },
  {
   "cell_type": "code",
   "execution_count": 1,
   "metadata": {},
   "outputs": [
    {
     "name": "stdout",
     "output_type": "stream",
     "text": [
      "2.02086975523\n",
      "3.41038349161\n"
     ]
    }
   ],
   "source": [
    "import pandas as pd\n",
    "import numpy as np\n",
    "import sys\n",
    "sys.path.insert(0, '../../statistics_helper/')\n",
    "from fraction_helper import *\n",
    "from CI_helper import *\n",
    "\n",
    "# 16S sequencing data from Bates et al. corrected for lower operon copy number\n",
    "seq = 0.04\n",
    "\n",
    "# qPCR data from Hong & Cho\n",
    "qpcr = 0.027\n",
    "\n",
    "# Analyze FISH data\n",
    "FISH_data = pd.read_excel('soil_bac_arch_data.xlsx','FISH')\n",
    "FISH_study_mean = FISH_data.groupby(['Habitat','DOI'])['Fraction of archaea'].apply(frac_mean)\n",
    "FISH_mean = frac_mean(FISH_study_mean.groupby('Habitat').apply(frac_mean))\n",
    "\n",
    "# Analyze CARD-FISH data\n",
    "CARDFISH_data = pd.read_excel('soil_bac_arch_data.xlsx','CARD-FISH')\n",
    "CARDFISH_mean = frac_mean(CARDFISH_data.groupby('DOI')['Fraction of archaea'].apply(frac_mean))\n",
    "\n",
    "best_frac = frac_mean(np.array([seq,qpcr,FISH_mean,CARDFISH_mean]))\n",
    "best_frac\n",
    "arch_mul_CI = frac_CI(np.array([seq,qpcr,FISH_mean,CARDFISH_mean]))\n",
    "bac_mul_CI = frac_CI(1-np.array([seq,qpcr,FISH_mean,CARDFISH_mean]))\n",
    "print(CI_prod_prop(np.array([bac_mul_CI,2])))\n",
    "print(CI_prod_prop(np.array([arch_mul_CI,2])))"
   ]
  },
  {
   "cell_type": "code",
   "execution_count": 23,
   "metadata": {},
   "outputs": [
    {
     "data": {
      "text/plain": [
       "0.085609625950869336"
      ]
     },
     "execution_count": 23,
     "metadata": {},
     "output_type": "execute_result"
    }
   ],
   "source": [
    "best_frac"
   ]
  }
 ],
 "metadata": {
  "kernelspec": {
   "display_name": "Python 3",
   "language": "python",
   "name": "python3"
  },
  "language_info": {
   "codemirror_mode": {
    "name": "ipython",
    "version": 3
   },
   "file_extension": ".py",
   "mimetype": "text/x-python",
   "name": "python",
   "nbconvert_exporter": "python",
   "pygments_lexer": "ipython3",
   "version": "3.5.2"
  }
 },
 "nbformat": 4,
 "nbformat_minor": 2
}
