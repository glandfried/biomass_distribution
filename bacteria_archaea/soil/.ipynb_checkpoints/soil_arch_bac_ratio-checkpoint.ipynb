{
 "cells": [
  {
   "cell_type": "code",
   "execution_count": 1,
   "metadata": {
    "collapsed": true
   },
   "outputs": [],
   "source": [
    "# Load dependencies\n",
    "import pandas as pd\n",
    "import numpy as np\n",
    "import sys\n",
    "sys.path.insert(0, '../../statistics_helper/')\n",
    "from fraction_helper import *\n",
    "from CI_helper import *\n",
    "from excel_utils import *"
   ]
  },
  {
   "cell_type": "markdown",
   "metadata": {},
   "source": [
    "# Estimating the fraction of archaea out of the total soil prokaryote population\n",
    "In order to estimate the fraction of archaea out of the total population of soil bacteria and archaea, we rely of four independent methods: fluorescent in-situ hybridization (FISH), CARD-FISH and 16S rDNA sequencing and 16S rDNA qPCR.\n",
    "\n",
    "## FISH-based estimate\n",
    "In order to estimate the fraction of archaea out of the total biomass of soil bacteria and archae, we collected data from several studies. Here is a sample of the data:"
   ]
  },
  {
   "cell_type": "code",
   "execution_count": 2,
   "metadata": {},
   "outputs": [
    {
     "data": {
      "text/html": [
       "<div>\n",
       "<style scoped>\n",
       "    .dataframe tbody tr th:only-of-type {\n",
       "        vertical-align: middle;\n",
       "    }\n",
       "\n",
       "    .dataframe tbody tr th {\n",
       "        vertical-align: top;\n",
       "    }\n",
       "\n",
       "    .dataframe thead th {\n",
       "        text-align: right;\n",
       "    }\n",
       "</style>\n",
       "<table border=\"1\" class=\"dataframe\">\n",
       "  <thead>\n",
       "    <tr style=\"text-align: right;\">\n",
       "      <th></th>\n",
       "      <th>Reference</th>\n",
       "      <th>DOI</th>\n",
       "      <th>Site</th>\n",
       "      <th>Habitat</th>\n",
       "      <th>Fraction of archaea</th>\n",
       "      <th>Remarks</th>\n",
       "    </tr>\n",
       "  </thead>\n",
       "  <tbody>\n",
       "    <tr>\n",
       "      <th>0</th>\n",
       "      <td>Pozdnyakov et al.</td>\n",
       "      <td>http://dx.doi.org/10.3103/S0147687411010042</td>\n",
       "      <td>Russia</td>\n",
       "      <td>Cropland</td>\n",
       "      <td>0.069000</td>\n",
       "      <td>Taken from figure 4</td>\n",
       "    </tr>\n",
       "    <tr>\n",
       "      <th>1</th>\n",
       "      <td>Dedysh et al.</td>\n",
       "      <td>http://aem.asm.org/content/72/3/2110.short</td>\n",
       "      <td>Russia</td>\n",
       "      <td>Tundra</td>\n",
       "      <td>0.181208</td>\n",
       "      <td>Taken from Table 1 – total FISH counts very lo...</td>\n",
       "    </tr>\n",
       "    <tr>\n",
       "      <th>2</th>\n",
       "      <td>Dedysh et al.</td>\n",
       "      <td>http://aem.asm.org/content/72/3/2110.short</td>\n",
       "      <td>Russia</td>\n",
       "      <td>Tundra</td>\n",
       "      <td>0.149606</td>\n",
       "      <td>Taken from Table 1 – total FISH counts very lo...</td>\n",
       "    </tr>\n",
       "    <tr>\n",
       "      <th>3</th>\n",
       "      <td>Dedysh et al.</td>\n",
       "      <td>http://aem.asm.org/content/72/3/2110.short</td>\n",
       "      <td>Russia</td>\n",
       "      <td>Tundra</td>\n",
       "      <td>0.274074</td>\n",
       "      <td>Taken from Table 1 – total FISH counts very lo...</td>\n",
       "    </tr>\n",
       "    <tr>\n",
       "      <th>4</th>\n",
       "      <td>Dedysh et al.</td>\n",
       "      <td>http://aem.asm.org/content/72/3/2110.short</td>\n",
       "      <td>Russia</td>\n",
       "      <td>Tundra</td>\n",
       "      <td>0.302632</td>\n",
       "      <td>Taken from Table 1 – total FISH counts very lo...</td>\n",
       "    </tr>\n",
       "  </tbody>\n",
       "</table>\n",
       "</div>"
      ],
      "text/plain": [
       "           Reference                                          DOI    Site  \\\n",
       "0  Pozdnyakov et al.  http://dx.doi.org/10.3103/S0147687411010042  Russia   \n",
       "1      Dedysh et al.   http://aem.asm.org/content/72/3/2110.short  Russia   \n",
       "2      Dedysh et al.   http://aem.asm.org/content/72/3/2110.short  Russia   \n",
       "3      Dedysh et al.   http://aem.asm.org/content/72/3/2110.short  Russia   \n",
       "4      Dedysh et al.   http://aem.asm.org/content/72/3/2110.short  Russia   \n",
       "\n",
       "    Habitat  Fraction of archaea  \\\n",
       "0  Cropland             0.069000   \n",
       "1    Tundra             0.181208   \n",
       "2    Tundra             0.149606   \n",
       "3    Tundra             0.274074   \n",
       "4    Tundra             0.302632   \n",
       "\n",
       "                                             Remarks  \n",
       "0                                Taken from figure 4  \n",
       "1  Taken from Table 1 – total FISH counts very lo...  \n",
       "2  Taken from Table 1 – total FISH counts very lo...  \n",
       "3  Taken from Table 1 – total FISH counts very lo...  \n",
       "4  Taken from Table 1 – total FISH counts very lo...  "
      ]
     },
     "execution_count": 2,
     "metadata": {},
     "output_type": "execute_result"
    }
   ],
   "source": [
    "# Load FISH data\n",
    "FISH_data = pd.read_excel('soil_bac_arch_data.xlsx','FISH')\n",
    "FISH_data.head()"
   ]
  },
  {
   "cell_type": "markdown",
   "metadata": {},
   "source": [
    "We Calculate the geometric mean of the fractions for each study in each habitat to generate characteristic values for each study:"
   ]
  },
  {
   "cell_type": "code",
   "execution_count": 3,
   "metadata": {
    "collapsed": true
   },
   "outputs": [],
   "source": [
    "FISH_study_mean = FISH_data.groupby(['Habitat','DOI'])['Fraction of archaea'].apply(frac_mean)"
   ]
  },
  {
   "cell_type": "markdown",
   "metadata": {},
   "source": [
    "We then calculate the geometric mean between different studies in the same habitat to generate characteristic values for each habitat:"
   ]
  },
  {
   "cell_type": "code",
   "execution_count": 4,
   "metadata": {
    "collapsed": true
   },
   "outputs": [],
   "source": [
    "FISH_habitat_mean = FISH_study_mean.groupby('Habitat').apply(frac_mean)"
   ]
  },
  {
   "cell_type": "markdown",
   "metadata": {},
   "source": [
    "Finally, we calculate the geometric mean between the characteristic values in each habitat as our best estimate of the fraction of archaea out of the total biomass of soil bacteria and archaea based on FISH:"
   ]
  },
  {
   "cell_type": "code",
   "execution_count": 5,
   "metadata": {},
   "outputs": [
    {
     "name": "stdout",
     "output_type": "stream",
     "text": [
      "Our best estimate of the fraction of archaea out of the total biomass of soil bacteria and archaea based on FISH is ≈22 percent\n"
     ]
    }
   ],
   "source": [
    "FISH_mean = frac_mean(FISH_habitat_mean)\n",
    "\n",
    "print('Our best estimate of the fraction of archaea out of the total biomass of soil bacteria and archaea based on FISH is ≈%.0f percent' %(FISH_mean*100))"
   ]
  },
  {
   "cell_type": "markdown",
   "metadata": {},
   "source": [
    "## CARD-FISH-based estimate\n",
    "In order to estimate the fraction of archaea out of the total biomass of soil bacteria and archae, we collected data from several studies. Here is a sample of the data:"
   ]
  },
  {
   "cell_type": "code",
   "execution_count": 6,
   "metadata": {},
   "outputs": [
    {
     "data": {
      "text/html": [
       "<div>\n",
       "<style scoped>\n",
       "    .dataframe tbody tr th:only-of-type {\n",
       "        vertical-align: middle;\n",
       "    }\n",
       "\n",
       "    .dataframe tbody tr th {\n",
       "        vertical-align: top;\n",
       "    }\n",
       "\n",
       "    .dataframe thead th {\n",
       "        text-align: right;\n",
       "    }\n",
       "</style>\n",
       "<table border=\"1\" class=\"dataframe\">\n",
       "  <thead>\n",
       "    <tr style=\"text-align: right;\">\n",
       "      <th></th>\n",
       "      <th>Reference</th>\n",
       "      <th>DOI</th>\n",
       "      <th>Site</th>\n",
       "      <th>Habitat</th>\n",
       "      <th>Fraction of archaea</th>\n",
       "      <th>Remarks</th>\n",
       "    </tr>\n",
       "  </thead>\n",
       "  <tbody>\n",
       "    <tr>\n",
       "      <th>0</th>\n",
       "      <td>Sheibani et al.</td>\n",
       "      <td>http://dx.doi.org/10.4141/cjss2012-040</td>\n",
       "      <td>Canada</td>\n",
       "      <td>Cropland</td>\n",
       "      <td>0.096000</td>\n",
       "      <td>NaN</td>\n",
       "    </tr>\n",
       "    <tr>\n",
       "      <th>1</th>\n",
       "      <td>Eickhorst &amp; Tippkotter</td>\n",
       "      <td>http://dx.doi.org/10.1016/j.soilbio.2008.03.024</td>\n",
       "      <td>Germany</td>\n",
       "      <td>Cropland</td>\n",
       "      <td>0.200000</td>\n",
       "      <td>NaN</td>\n",
       "    </tr>\n",
       "    <tr>\n",
       "      <th>2</th>\n",
       "      <td>Eickhorst &amp; Tippkotter</td>\n",
       "      <td>http://dx.doi.org/10.1016/j.soilbio.2008.03.024</td>\n",
       "      <td>Germany</td>\n",
       "      <td>Cropland</td>\n",
       "      <td>0.129730</td>\n",
       "      <td>NaN</td>\n",
       "    </tr>\n",
       "    <tr>\n",
       "      <th>3</th>\n",
       "      <td>Eickhorst &amp; Tippkotter</td>\n",
       "      <td>http://dx.doi.org/10.1016/j.soilbio.2008.03.024</td>\n",
       "      <td>Germany</td>\n",
       "      <td>Cropland</td>\n",
       "      <td>0.266332</td>\n",
       "      <td>NaN</td>\n",
       "    </tr>\n",
       "    <tr>\n",
       "      <th>4</th>\n",
       "      <td>Schmidt &amp; Eickhorst</td>\n",
       "      <td>http://dx.doi.org/10.1016/j.apsoil.2013.06.002</td>\n",
       "      <td>China</td>\n",
       "      <td>Cropland</td>\n",
       "      <td>0.190000</td>\n",
       "      <td>NaN</td>\n",
       "    </tr>\n",
       "  </tbody>\n",
       "</table>\n",
       "</div>"
      ],
      "text/plain": [
       "                Reference                                              DOI  \\\n",
       "0         Sheibani et al.           http://dx.doi.org/10.4141/cjss2012-040   \n",
       "1  Eickhorst & Tippkotter  http://dx.doi.org/10.1016/j.soilbio.2008.03.024   \n",
       "2  Eickhorst & Tippkotter  http://dx.doi.org/10.1016/j.soilbio.2008.03.024   \n",
       "3  Eickhorst & Tippkotter  http://dx.doi.org/10.1016/j.soilbio.2008.03.024   \n",
       "4     Schmidt & Eickhorst   http://dx.doi.org/10.1016/j.apsoil.2013.06.002   \n",
       "\n",
       "      Site   Habitat  Fraction of archaea  Remarks  \n",
       "0   Canada  Cropland             0.096000      NaN  \n",
       "1  Germany  Cropland             0.200000      NaN  \n",
       "2  Germany  Cropland             0.129730      NaN  \n",
       "3  Germany  Cropland             0.266332      NaN  \n",
       "4    China  Cropland             0.190000      NaN  "
      ]
     },
     "execution_count": 6,
     "metadata": {},
     "output_type": "execute_result"
    }
   ],
   "source": [
    "# Load CARD-FISH data\n",
    "CARDFISH_data = pd.read_excel('soil_bac_arch_data.xlsx','CARD-FISH')\n",
    "CARDFISH_data.head()"
   ]
  },
  {
   "cell_type": "markdown",
   "metadata": {},
   "source": [
    "We Calculate the geometric mean of the fractions for each study in each habitat to generate characteristic values for each study:"
   ]
  },
  {
   "cell_type": "code",
   "execution_count": 7,
   "metadata": {
    "collapsed": true
   },
   "outputs": [],
   "source": [
    "CARDFISH_study_mean = CARDFISH_data.groupby('DOI')['Fraction of archaea'].apply(frac_mean)"
   ]
  },
  {
   "cell_type": "markdown",
   "metadata": {},
   "source": [
    "Finally, we calculate the geometric mean between the characteristic values in each study as our best estimate of the fraction of archaea out of the total biomass of soil bacteria and archaea based on CARD-FISH:"
   ]
  },
  {
   "cell_type": "code",
   "execution_count": 8,
   "metadata": {},
   "outputs": [
    {
     "name": "stdout",
     "output_type": "stream",
     "text": [
      "Our best estimate of the fraction of archaea out of the total biomass of soil bacteria and archaea based on CARD-FISH is ≈19 percent\n"
     ]
    }
   ],
   "source": [
    "CARDFISH_mean = frac_mean(CARDFISH_study_mean)\n",
    "print('Our best estimate of the fraction of archaea out of the total biomass of soil bacteria and archaea based on CARD-FISH is ≈%.0f percent' %(CARDFISH_mean*100))"
   ]
  },
  {
   "cell_type": "markdown",
   "metadata": {},
   "source": [
    "## 16S rDNA sequencing-based estimate\n",
    "For our 16S rDNA sequencing-based estimate, we rely on a study which reported values for the fraction of archaea out of the total population of soil bacteria and archaea in 146 soils from across the globe ([Bates et al.](http://dx.doi.org/10.1038/ismej.2010.171)). We calculate the geometric mean of values within each biome, and then calculate the geometric mean of the characteristic values of each biome. We account for the lower rRNA operon copy number in archaea ([Sun et al.](http://dx.doi.org/10.1128/AEM.01282-13)) by multiplying the measured fractions by a factor of 2. "
   ]
  },
  {
   "cell_type": "code",
   "execution_count": 9,
   "metadata": {
    "collapsed": true
   },
   "outputs": [],
   "source": [
    "# 16S sequencing data from Bates et al. corrected for lower operon copy number\n",
    "bates_data = pd.read_excel('soil_bac_arch_data.xlsx','bates',skiprows=1)\n",
    "\n",
    "# Calculate the average fraction of archaea out of the total biomass of soil bacteria and archaea\n",
    "# Correct for the lower rDNA operon content in archaea\n",
    "seq = frac_mean(bates_data.groupby('Biome')['Fraction of archaea'].apply(frac_mean))*2"
   ]
  },
  {
   "cell_type": "markdown",
   "metadata": {},
   "source": [
    "## 16S rDNA qPCR-based estimate\n",
    "For our 16S qPCR-based estimate, we rely on a recent study which reported the fraction of archaea out of the total population of soil bacteria and archaea in grasslands, forests and croplands in Korea ([Hong & Cho](http://dx.doi.org/10.1371/journal.pone.0133763)). The mean fraction of archaea reported by Hong & Cho is ≈3%."
   ]
  },
  {
   "cell_type": "code",
   "execution_count": 10,
   "metadata": {
    "collapsed": true
   },
   "outputs": [],
   "source": [
    "# qPCR data from Hong & Cho\n",
    "qpcr = 0.027"
   ]
  },
  {
   "cell_type": "markdown",
   "metadata": {},
   "source": [
    "We use the geomtric mean of our estimates from the four different methods as our best estimate of the fraction of archaea out of the total biomass of soil bacteria and archaea"
   ]
  },
  {
   "cell_type": "code",
   "execution_count": 11,
   "metadata": {},
   "outputs": [
    {
     "name": "stdout",
     "output_type": "stream",
     "text": [
      "Our best estimate for the fraction of archaea out of the total biomass of soil bacteria and archaea is ≈7 percent\n"
     ]
    }
   ],
   "source": [
    "best_frac = frac_mean(np.array([seq,qpcr,FISH_mean,CARDFISH_mean]))\n",
    "\n",
    "print('Our best estimate for the fraction of archaea out of the total biomass of soil bacteria and archaea is ≈%.0f percent' %(best_frac*100))"
   ]
  },
  {
   "cell_type": "markdown",
   "metadata": {},
   "source": [
    "We multiply the fraction of archaea out of the total biomass of soil bacteria and archaea by our estimate for the total biomass of soil bacteria and archaea to estimate the total biomass of soil archaea:"
   ]
  },
  {
   "cell_type": "code",
   "execution_count": 14,
   "metadata": {},
   "outputs": [
    {
     "name": "stdout",
     "output_type": "stream",
     "text": [
      "Our best estimate for the total biomass of soil archaea is ≈0.5 Gt C\n",
      "Our best estimate for the total biomass of soil bacteria is ≈7.4 Gt C\n"
     ]
    }
   ],
   "source": [
    "# Load fungi biomass estimate\n",
    "fungi_biomass_estimate = pd.read_excel('../../fungi/fungi_biomass_estimate.xlsx')\n",
    "\n",
    "# In case soil fungi biomass estimate is empty, run the scripts \n",
    "if(fungi_biomass_estimate.shape[0]==0):\n",
    "    import os\n",
    "    os.system('jupyter nbconvert --execute ../../fungi/soil_microbial_biomass/soil_microbial_biomass.ipynb' )\n",
    "    os.system('jupyter nbconvert --execute ../../fungi/fungi_fraction/fungi_fraction.ipynb' )\n",
    "    fungi_biomass_estimate = pd.read_excel('../../fungi/fungi_biomass_estimate.xlsx')\n",
    "\n",
    "# Calculate the total biomass of soil bactria and archaea\n",
    "soil_prok_biomass = fungi_biomass_estimate['Value'][0]*(1-fungi_biomass_estimate['Value'][1])\n",
    "\n",
    "# Calculate the total biomass of soil archaea\n",
    "best_soil_arch_biomass = soil_prok_biomass*best_frac\n",
    "\n",
    "# Calculate the total biomass of soil bacteria\n",
    "best_soil_bac_biomass = soil_prok_biomass*(1-best_frac)\n",
    "\n",
    "print('Our best estimate for the total biomass of soil archaea is ≈%.1f Gt C' %(best_soil_arch_biomass/1e15))\n",
    "print('Our best estimate for the total biomass of soil bacteria is ≈%.1f Gt C' %(best_soil_bac_biomass/1e15))"
   ]
  },
  {
   "cell_type": "markdown",
   "metadata": {},
   "source": [
    "# Uncertainty analysis\n",
    "We collect uncertainties associated with our estimate of the fraction of archaea out of the total biomass of soil bacteria and archae at different levels - intra-study uncertainty, inter-study uncertainty, inter-habitat uncertainty, and inter-method uncertainty. We use the heighest uncertainty out of this collection as our best projection for the uncertainty associated with our estimate of the fraction of archaea out of the total biomass of soil bacteria and archaea"
   ]
  },
  {
   "cell_type": "markdown",
   "metadata": {},
   "source": [
    "## Intra-study uncertainty\n",
    "We calculate the 95% confidence interval of the geometric mean of values within each study. The cases in which we have multiply measurements within the same study are FISH, CARD-FISH and 16S rDNA sequencing. For 16S rDNA qPCR we rely on the standard deviation reported in Hong & Cho.\n",
    "### FISH\n",
    "We calculate the 95% confidence interval of the geometric mean of values within each study. We use the maximal uncertainty as our best projection of the intra-study uncertainty of studies using FISH:"
   ]
  },
  {
   "cell_type": "code",
   "execution_count": null,
   "metadata": {},
   "outputs": [],
   "source": [
    "FISH_intra_arch_CI = FISH_data.groupby(['Habitat','DOI'])['Fraction of archaea'].apply(frac_CI)\n",
    "FISH_data['Fraction of bacteria'] = 1 - FISH_data['Fraction of archaea']\n",
    "FISH_intra_bac_CI = FISH_data.groupby(['Habitat','DOI'])['Fraction of bacteria'].apply(frac_CI)\n",
    "print('Our best projection of the intra-study uncertainty associated with the fraction of archaea out of the total biomass of bacteria and archaea based on FISH is ≈%.1f-fold.' %FISH_intra_arch_CI.max())\n",
    "print('Our best projection of the intra-study uncertainty associated with the fraction of bacteria out of the total biomass of bacteria and archaea based on FISH is ≈%.1f-fold.' %FISH_intra_bac_CI.max())"
   ]
  },
  {
   "cell_type": "markdown",
   "metadata": {},
   "source": [
    "### CARD-FISH\n",
    "We calculate the 95% confidence interval of the geometric mean of values within each study. We use the maximal uncertainty as our best projection of the intra-study uncertainty of studies using CARD-FISH:"
   ]
  },
  {
   "cell_type": "code",
   "execution_count": null,
   "metadata": {},
   "outputs": [],
   "source": [
    "CARDFISH_data['Fraction of bacteria'] = 1 - CARDFISH_data['Fraction of archaea']\n",
    "CARDFISH_intra_arch_CI = CARDFISH_data.groupby('DOI')['Fraction of archaea'].apply(frac_CI)\n",
    "CARDFISH_intra_bac_CI = CARDFISH_data.groupby('DOI')['Fraction of bacteria'].apply(frac_CI)\n",
    "print('Our best projection of the intra-study uncertainty associated with the fraction of archaea out of the total biomass of bacteria and archaea based on CARD-FISH is ≈%.1f-fold.' %CARDFISH_intra_arch_CI.max())\n",
    "print('Our best projection of the intra-study uncertainty associated with the fraction of bacteria out of the total biomass of bacteria and archaea based on CARD-FISH is ≈%.1f-fold.' %CARDFISH_intra_bac_CI.max())"
   ]
  },
  {
   "cell_type": "markdown",
   "metadata": {},
   "source": [
    "### 16S rDNA sequencing\n",
    "We calculate the 95% confidence interval of the geometric mean of values reported in Bates et al.:"
   ]
  },
  {
   "cell_type": "code",
   "execution_count": null,
   "metadata": {},
   "outputs": [],
   "source": [
    "bates_data['Fraction of bacteria'] = 1 - bates_data['Fraction of archaea']\n",
    "seq_intra_arch_CI = frac_CI(bates_data['Fraction of archaea'])\n",
    "seq_intra_bac_CI = frac_CI(bates_data['Fraction of bacteria'])\n",
    "print('Our best projection of the intra-study uncertainty associated with the fraction of archaea out of the total biomass of bacteria and archaea based on 16S rDNA sequencing is ≈%.1f-fold.' %seq_intra_arch_CI)\n",
    "print('Our best projection of the intra-study uncertainty associated with the fraction of bacteria out of the total biomass of bacteria and archaea based on 16S rDNA sequencing is ≈%.3f-fold.' %seq_intra_bac_CI)"
   ]
  },
  {
   "cell_type": "markdown",
   "metadata": {},
   "source": [
    "### 16S rDNA qPCR\n",
    "We rely on the standard deviation reported in Hong & Cho of 1.5%. We use 1.96 stantard deviations as our best projection of the intra-study uncertainty associated with the fraction of archaea out of the total biomass of soil bacteria and archaea:"
   ]
  },
  {
   "cell_type": "code",
   "execution_count": null,
   "metadata": {},
   "outputs": [],
   "source": [
    "# Calculate the multiplicative error using 1.96 standard deviations to approximate 95%\n",
    "# confidence interval\n",
    "qpcr_intra_arch_CI = (qpcr+1.96*0.015)/qpcr\n",
    "qpcr_intra_bac_CI = ((1-qpcr)+1.96*0.015)/(1-qpcr)\n",
    "print('Our best projection of the intra-study uncertainty associated with the fraction of archaea out of the total biomass of bacteria and archaea based on 16S rDNA qPCR is ≈%.1f-fold.' %qpcr_intra_arch_CI)\n",
    "print('Our best projection of the intra-study uncertainty associated with the fraction of bacteria out of the total biomass of bacteria and archaea based on 16S rDNA qPCR is ≈%.2f-fold.' %qpcr_intra_bac_CI)"
   ]
  },
  {
   "cell_type": "markdown",
   "metadata": {},
   "source": [
    "## Inter-study uncertainty\n",
    "For our FISH and CARD-FISH-based estimates, we rely in several studies. We calculate the 95% confidence interval around the geometric mean of the values from different studies within the same habitat as our best projection of the inter-study uncertainty associates with the fraction of archaea out of the total biomass of soil bacteria and archaea."
   ]
  },
  {
   "cell_type": "code",
   "execution_count": null,
   "metadata": {},
   "outputs": [],
   "source": [
    "FISH_interstudy_arch_CI = FISH_study_mean.groupby('Habitat').apply(frac_CI)\n",
    "FISH_interstudy_bac_CI = (1-FISH_study_mean).groupby('Habitat').apply(frac_CI)\n",
    "\n",
    "print('Our best projection of the inter-study uncertainty associated with the fraction of archaea out of the total biomass of bacteria and archaea based on FISH is ≈%.1f-fold.' %FISH_interstudy_arch_CI.max())\n",
    "print('Our best projection of the inter-study uncertainty associated with the fraction of bacteria out of the total biomass of bacteria and archaea based on FISH is ≈%.1f-fold.' %FISH_interstudy_bac_CI.max())\n",
    "\n",
    "CARDFISH_interstudy_arch_CI = frac_CI(CARDFISH_study_mean)\n",
    "CARDFISH_interstudy_bac_CI = frac_CI(1-CARDFISH_study_mean)\n",
    "\n",
    "print('Our best projection of the inter-study uncertainty associated with the fraction of archaea out of the total biomass of bacteria and archaea based on CARD-FISH is ≈%.1f-fold.' %CARDFISH_interstudy_arch_CI.max())\n",
    "print('Our best projection of the inter-study uncertainty associated with the fraction of bacteria out of the total biomass of bacteria and archaea based on CARD-FISH is ≈%.1f-fold.' %CARDFISH_interstudy_bac_CI.max())"
   ]
  },
  {
   "cell_type": "markdown",
   "metadata": {},
   "source": [
    "## Inter-habitat uncertainty\n",
    "For the FISH-based estimate, we also rely on characteristic values in different habitats to estimate the fraction of archaea of of the total biomass of soil bacteria and archaea. We calculate the 95% confidence interval around the geometric mean of the characteristic values from different habitats as a measure of the inter-habitat uncertainty associated with our estimate of the fraction of archaea out of the total biomass of soil bacteria and archaea. "
   ]
  },
  {
   "cell_type": "code",
   "execution_count": null,
   "metadata": {},
   "outputs": [],
   "source": [
    "FISH_inter_habitat_arch_CI = frac_CI(FISH_habitat_mean)\n",
    "FISH_inter_habitat_bac_CI = frac_CI(1-FISH_habitat_mean)\n",
    "\n",
    "print('Our best projection of the inter-habitat uncertainty associated with the fraction of archaea out of the total biomass of bacteria and archaea based on FISH is ≈%.1f-fold.' %FISH_inter_habitat_arch_CI)\n",
    "print('Our best projection of the inter-habitat uncertainty associated with the fraction of bacteria out of the total biomass of bacteria and archaea based on FISH is ≈%.1f-fold.' %FISH_inter_habitat_bac_CI)\n"
   ]
  },
  {
   "cell_type": "markdown",
   "metadata": {},
   "source": [
    "## Inter-method uncertainty\n",
    "We calculate the 95% confidence interval around the geometric mean of the estimates from the four different values as our best projection of the "
   ]
  },
  {
   "cell_type": "code",
   "execution_count": null,
   "metadata": {},
   "outputs": [],
   "source": [
    "inter_arch_CI = frac_CI(np.array([seq,qpcr,FISH_mean,CARDFISH_mean]))\n",
    "inter_bac_CI = frac_CI(1-np.array([seq,qpcr,FISH_mean,CARDFISH_mean]))\n",
    "print('Our best projection of the inter-method uncertainty associated with the fraction of archaea out of the total biomass of bacteria and archaea is ≈%.1f-fold.' %inter_arch_CI)\n",
    "print('Our best projection of the inter-method uncertainty associated with the fraction of bacteria out of the total biomass of bacteria and archaea is ≈%.1f-fold.' %inter_bac_CI)\n"
   ]
  },
  {
   "cell_type": "markdown",
   "metadata": {},
   "source": [
    "We use the maximal uncertainty out of the collection of uncertainties calculated abouce as our best projection of the uncertainty associated with the estimate of the fraction of archaea out of the total biomass of soil bacteria and archaea."
   ]
  },
  {
   "cell_type": "code",
   "execution_count": null,
   "metadata": {},
   "outputs": [],
   "source": [
    "\n",
    "arch_frac_mul_CI = np.max([FISH_intra_arch_CI.max(),CARDFISH_intra_arch_CI.max(),seq_intra_arch_CI,qpcr_intra_arch_CI,FISH_interstudy_arch_CI.max(),CARDFISH_interstudy_arch_CI.max(),FISH_inter_habitat_arch_CI,inter_arch_CI])\n",
    "bac_frac_mul_CI = np.max([FISH_intra_bac_CI.max(),CARDFISH_intra_bac_CI.max(),seq_intra_bac_CI,qpcr_intra_bac_CI,FISH_interstudy_bac_CI.max(),CARDFISH_interstudy_bac_CI.max(),FISH_inter_habitat_bac_CI,inter_bac_CI])\n",
    "\n",
    "print('Our best projection of the uncertainty associated with the fraction of archaea out of the total biomass of bacteria and archaea is ≈%.1f-fold.' %arch_frac_mul_CI)\n",
    "print('Our best projection of the uncertainty associated with the fraction of bacteria out of the total biomass of bacteria and archaea is ≈%.1f-fold.' %bac_frac_mul_CI)"
   ]
  },
  {
   "cell_type": "markdown",
   "metadata": {},
   "source": [
    "We combine the uncertainty associated with the fraction of archaea out of the total biomass of soil bacteria and archaea with the uncertainty of the total biomass of soil bacteria and archaea as our best projection of the uncertainty associated with the our estimate of the total biomass of soil archaea."
   ]
  },
  {
   "cell_type": "code",
   "execution_count": null,
   "metadata": {},
   "outputs": [],
   "source": [
    "# Our best projection for the uncertainty associated with the total biomass of soil bacteria and archaea\n",
    "soil_prok_CI = CI_prod_prop(np.array([fungi_biomass_estimate['Uncertainty'][0],fungi_biomass_estimate['Uncertainty'][1]]))\n",
    "\n",
    "# Combine the uncertainty of the total biomass of soil prokaryotes with the uncertainty\n",
    "# of the fraction of archaea out of the total biomass of soil prokaryotes\n",
    "arch_mul_CI = CI_prod_prop(np.array([bac_frac_mul_CI,soil_prok_CI]))\n",
    "bac_mul_CI = CI_prod_prop(np.array([arch_frac_mul_CI,soil_prok_CI]))\n",
    "\n",
    "print('Our best projection of the uncertainty associated with our estimate of the biomass of soil archaea is ≈%.1f-fold.' %arch_mul_CI)\n",
    "print('Our best projection of the uncertainty associated with our estimate of the biomass of soil bacteria is ≈%.1f-fold.' %bac_mul_CI)\n"
   ]
  },
  {
   "cell_type": "markdown",
   "metadata": {},
   "source": [
    "# Estimating the total number of soil bacterial and archaeal cells\n",
    "To estimate the total number of bacterial and archaeal cells in soils, we divide our estimates for the total biomass of soil bacteria and archaea by the characteristic carbon content of a single cell. We use a characteristic carbon content of a single cell of ≈30 fg C cell$^{-1}$, based on [Bakken](http://aem.asm.org/content/49/6/1482.abstract)."
   ]
  },
  {
   "cell_type": "code",
   "execution_count": null,
   "metadata": {
    "collapsed": true
   },
   "outputs": [],
   "source": [
    "# Characteristic carbon content of bacterial and archaeal cells in soil from Bakken\n",
    "carbon_content = 30e-15\n",
    "\n",
    "# Calculate the total number of bacterial and archaeal cells in the soil\n",
    "tot_bac_num = best_soil_bac_biomass/carbon_content\n",
    "tot_arch_num = best_soil_arch_biomass/carbon_content"
   ]
  },
  {
   "cell_type": "code",
   "execution_count": null,
   "metadata": {
    "collapsed": true
   },
   "outputs": [],
   "source": [
    "# Feed bacteria results to Table 1 & Fig. 1\n",
    "update_results(sheet='Table1 & Fig1', \n",
    "               row=('Bacteria','Soil'), \n",
    "               col=['Biomass [Gt C]', 'Uncertainty'],\n",
    "               values=[best_soil_bac_biomass/1e15,bac_mul_CI],\n",
    "               path='../../results.xlsx')\n",
    "\n",
    "# Feed archaea results to Table 1 & Fig. 1\n",
    "update_results(sheet='Table1 & Fig1', \n",
    "               row=('Archaea','Soil'), \n",
    "               col=['Biomass [Gt C]', 'Uncertainty'],\n",
    "               values=[best_soil_arch_biomass/1e15,arch_mul_CI],\n",
    "               path='../../results.xlsx')\n",
    "\n",
    "# Feed bacteria results to Table S1\n",
    "update_results(sheet='Table S1', \n",
    "               row=('Bacteria','Soil'), \n",
    "               col=['Number of individuals'],\n",
    "               values= tot_bac_num,\n",
    "               path='../../results.xlsx')\n",
    "\n",
    "# Feed archaea results to Table S1\n",
    "update_results(sheet='Table S1', \n",
    "               row=('Archaea','Soil'), \n",
    "               col=['Number of individuals'],\n",
    "               values= tot_arch_num,\n",
    "               path='../../results.xlsx')"
   ]
  }
 ],
 "metadata": {
  "kernelspec": {
   "display_name": "Python 3",
   "language": "python",
   "name": "python3"
  },
  "language_info": {
   "codemirror_mode": {
    "name": "ipython",
    "version": 3
   },
   "file_extension": ".py",
   "mimetype": "text/x-python",
   "name": "python",
   "nbconvert_exporter": "python",
   "pygments_lexer": "ipython3",
   "version": "3.5.2"
  }
 },
 "nbformat": 4,
 "nbformat_minor": 2
}
