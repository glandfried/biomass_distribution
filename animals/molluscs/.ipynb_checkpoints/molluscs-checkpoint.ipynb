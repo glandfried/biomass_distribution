{
 "cells": [
  {
   "cell_type": "code",
   "execution_count": 1,
   "metadata": {
    "collapsed": true
   },
   "outputs": [],
   "source": [
    "# Load dependencies\n",
    "import pandas as pd\n",
    "import sys\n",
    "sys.path.insert(0,'../../statistics_helper/')\n",
    "from excel_utils import *\n",
    "from openpyxl import load_workbook"
   ]
  },
  {
   "cell_type": "markdown",
   "metadata": {},
   "source": [
    "# Estimating the biomass of molluscs\n",
    "To estimate the biomass of molluscs, we estimate the biomass of two major components of mollusc biomass - pteropods and cephalopods. In this work we assume the contribution of other types of molluscs is limited compared to pteropods and cephalopods.\n",
    "\n",
    "## Pteropods\n",
    "Our estimate of the global biomass of pteropods is based on data from the MAREDAT database ([Buitenhuis et al.](http://search.proquest.com/openview/0e8e5672fa28111df473268e13f2f757/1?pq-origsite=gscholar&cbl=105729)). \n",
    "\n",
    "Buitenhuis et al. generated two estimates for the global biomass of pteropods by using a characteristic biomass concentration for each depth (either a median or average of the values in the database) and applying it across the entire volume of ocean at that depth. This approach results in two types of estimates for the global biomass of pteropods: a so called “minimum” estimate which uses the median concentration of biomass from the database, and a so called “maximum” estimate which uses the average biomass concentration. Because the distributions of values in the database are usually highly skewed by asymmetrically high values, the median and mean are loosely associated by the MAREDAT authors with a minimum and maximum estimate. The estimate based on the average value is more susceptible to biases in oversampling singular locations such as blooms of plankton species, or of coastal areas in which biomass concentrations are especially high, which might lead to an overestimate. On the other hand, the estimate based on the median biomass concentration might underestimate global biomass as it will reduce the effect of biologically relevant high biomass concentrations. Therefore, our best estimate of the biomass of pteropods is the geometric mean of the “minimum” and “maximum” estimates. Buitenhuis et al. reports a \"minimum\" estimate of 0.026 Gt C and a \"maximum\" estimate of 0.67 Gt C. We calculate the geometric mean of those estimates:"
   ]
  },
  {
   "cell_type": "code",
   "execution_count": 2,
   "metadata": {},
   "outputs": [
    {
     "name": "stdout",
     "output_type": "stream",
     "text": [
      "Our best estimate for the total biomass of pteropods is ≈0.13 Gt C\n"
     ]
    }
   ],
   "source": [
    "from scipy.stats import gmean\n",
    "\n",
    "# The estimate of pteropod biomass based on average biomass density\n",
    "average_biomass = 0.67e15\n",
    "\n",
    "# The estimate of pteropod biomass based on median biomass density\n",
    "median_biomass = 0.026e15\n",
    "\n",
    "# Our best estimate for the biomass of pteropods is the geometric mean of the average-based\n",
    "# and median-based estimates\n",
    "pteropod_estimate = gmean([average_biomass,median_biomass])\n",
    "\n",
    "print('Our best estimate for the total biomass of pteropods is ≈%.2f Gt C' %(pteropod_estimate/1e15))"
   ]
  },
  {
   "cell_type": "markdown",
   "metadata": {},
   "source": [
    "## Cephalopods\n",
    "Our estimate of the total biomass of cephalopods is based on an estimate by [Rodhouse & Nigmatullin](http://dx.doi.org/10.1098/rstb.1996.0090), which put cephalopod biomass at ≈0.05 Gt C."
   ]
  },
  {
   "cell_type": "code",
   "execution_count": 3,
   "metadata": {
    "collapsed": true
   },
   "outputs": [],
   "source": [
    "# Estimate for the total biomass of cephalopods from Rodhouse & Nigmatullin\n",
    "cephalopod_biomass = 0.05e15"
   ]
  },
  {
   "cell_type": "markdown",
   "metadata": {},
   "source": [
    "Our best estimate for the total biomass of molluscs is the sum of our estimates for the total biomass of pteropods and cephalopods:"
   ]
  },
  {
   "cell_type": "code",
   "execution_count": 4,
   "metadata": {},
   "outputs": [
    {
     "name": "stdout",
     "output_type": "stream",
     "text": [
      "Our best estimate for the total biomass of molluscs is 0.2 Gt C\n"
     ]
    }
   ],
   "source": [
    "best_estimate = pteropod_estimate +cephalopod_biomass\n",
    "print('Our best estimate for the total biomass of molluscs is %.1f Gt C' %(best_estimate/1e15))"
   ]
  },
  {
   "cell_type": "markdown",
   "metadata": {},
   "source": [
    "# Estimating the total number of molluscs\n",
    "To estimate the total number of molluscs, we consider the total biomass of pteropods and divide it by the average carbon content of a single pteropod. To estimate the characteristic carbon content of a single pteropod, we rely on data from [Bednaršek et al.](https://doi.org/10.5194/essd-4-167-2012). Bednaršek et al. measured biomass of population densities pteropods per cubic meter. We divide these two measurements by one another to estimate the carbon content of a single pteropod. We use the mean across all samples as our best estimate for the characteristic carbon content of a single pteropod."
   ]
  },
  {
   "cell_type": "code",
   "execution_count": 5,
   "metadata": {},
   "outputs": [
    {
     "name": "stdout",
     "output_type": "stream",
     "text": [
      "Our best estimate for the total number of pteropods is ≈5.0e+17\n"
     ]
    }
   ],
   "source": [
    "# Load data from Bednaršek et al.\n",
    "data = pd.read_excel('carbon_content_data.xlsx',skiprows=4)\n",
    "\n",
    "# Calculate the characteristic carbon content of a single pteropod\n",
    "best_cc = data['Biomass (mg/m3)'].mean()/data['Abundace (ind./m3)'].mean()*1e-3\n",
    "\n",
    "# Calculate the total number of molluscs\n",
    "tot_molluscs_num = pteropod_estimate/best_cc\n",
    "\n",
    "print('Our best estimate for the total number of pteropods is ≈%.1e' %tot_molluscs_num)"
   ]
  },
  {
   "cell_type": "code",
   "execution_count": 6,
   "metadata": {
    "collapsed": true
   },
   "outputs": [],
   "source": [
    "# Feed results to the chordate biomass data\n",
    "old_results = pd.read_excel('../animal_biomass_estimate.xlsx',index_col=0)\n",
    "result = old_results.copy()\n",
    "result.loc['Molluscs',(['Biomass [Gt C]','Uncertainty'])] = (best_estimate/1e15,None)\n",
    "result.to_excel('../animal_biomass_estimate.xlsx')\n",
    "\n",
    "# Feed results to Table 1 & Fig. 1\n",
    "update_results(sheet='Table1 & Fig1', \n",
    "               row=('Animals','Molluscs'), \n",
    "               col=['Biomass [Gt C]', 'Uncertainty'],\n",
    "               values=[best_estimate/1e15,None],\n",
    "               path='../../results.xlsx')\n",
    "\n",
    "# Feed results to Table S1\n",
    "update_results(sheet='Table S1', \n",
    "               row=('Animals','Molluscs'), \n",
    "               col='Number of individuals',\n",
    "               values= tot_molluscs_num,\n",
    "               path='../../results.xlsx')\n",
    "\n",
    "# We need to use the results on the biomass of pteropods for our estimate\n",
    "# of the total biomass of marine arthropods, so we feed these results to \n",
    "# the data used in the estimate of the total biomass of marine arthropods\n",
    "path = '../arthropods/marine_arthropods/marine_arthropods_data.xlsx'\n",
    "marine_arthropods_data = pd.read_excel(path,'Other macrozooplankton')\n",
    "\n",
    "marine_arthropods_data.loc[1] = pd.Series({\n",
    "                'Parameter': 'Biomass of pteropods',\n",
    "                'Value': pteropod_estimate,\n",
    "                'Units': 'g C',\n",
    "                'Uncertainty': None\n",
    "                })\n",
    "writer = pd.ExcelWriter(path, engine = 'openpyxl')\n",
    "book = load_workbook(path)\n",
    "writer.book = book\n",
    "writer.sheets = dict((ws.title, ws) for ws in book.worksheets)\n",
    "\n",
    "\n",
    "marine_arthropods_data.to_excel(writer, sheet_name = 'Other macrozooplankton',index=False)\n",
    "writer.save()"
   ]
  }
 ],
 "metadata": {
  "kernelspec": {
   "display_name": "Python 3",
   "language": "python",
   "name": "python3"
  },
  "language_info": {
   "codemirror_mode": {
    "name": "ipython",
    "version": 3
   },
   "file_extension": ".py",
   "mimetype": "text/x-python",
   "name": "python",
   "nbconvert_exporter": "python",
   "pygments_lexer": "ipython3",
   "version": "3.5.2"
  }
 },
 "nbformat": 4,
 "nbformat_minor": 2
}
