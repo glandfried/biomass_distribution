{
 "cells": [
  {
   "cell_type": "code",
   "execution_count": 1,
   "metadata": {
    "collapsed": true
   },
   "outputs": [],
   "source": [
    "# Load dependencies\n",
    "import pandas as pd\n",
    "import numpy as np\n",
    "import matplotlib.pyplot as plt\n",
    "%matplotlib inline\n",
    "from scipy.stats import gmean\n",
    "import sys\n",
    "sys.path.insert(0,'../../../statistics_helper/')\n",
    "pd.options.display.float_format = '{:,.1e}'.format\n",
    "from CI_helper import *\n",
    "from excel_utils import *"
   ]
  },
  {
   "cell_type": "markdown",
   "metadata": {},
   "source": [
    "# Estimating the biomass of wild birds\n",
    "To estimate the total biomass of wild birds, we rely on two estimates. \n",
    "\n",
    "## Estimate 1\n",
    "The first is based on estimates of the total number of bird species reported in [Gaston & Blackburn](https://doi-org/10.1023/A:1018341530497). Gaston & Blackburn report an estimate of 2-4×10$^{11}$ for the total number of individual birds. We use the average values of this range which is ≈3×10$^{11}$ individual birds."
   ]
  },
  {
   "cell_type": "code",
   "execution_count": 2,
   "metadata": {
    "collapsed": true
   },
   "outputs": [],
   "source": [
    "tot_num_birds = 3e11"
   ]
  },
  {
   "cell_type": "markdown",
   "metadata": {},
   "source": [
    "To convert this total number of birds into an estimate of the total biomass of wild birds, we use data on the relation between population density and body weight reported in [Nee et al.](https://doi.org/10.1038/351312a0). Here is a sample of the data in Nee et al:"
   ]
  },
  {
   "cell_type": "code",
   "execution_count": 3,
   "metadata": {},
   "outputs": [
    {
     "data": {
      "text/plain": [
       "Text(0,0.5,'Population size')"
      ]
     },
     "execution_count": 3,
     "metadata": {},
     "output_type": "execute_result"
    },
    {
     "data": {
      "image/png": "[encoded data removed]",
      "text/plain": [
       "<matplotlib.figure.Figure at 0x7f27f0795978>"
      ]
     },
     "metadata": {},
     "output_type": "display_data"
    }
   ],
   "source": [
    "# Load Nee et al. data\n",
    "nee = pd.read_excel('wild_bird_data.xlsx',skiprows=1)\n",
    "\n",
    "# Plot data\n",
    "plt.loglog(nee['Wet body weight [g]'],nee['Population size'],'.')\n",
    "plt.xlabel('Wet body weight [g]')\n",
    "plt.ylabel('Population size')"
   ]
  },
  {
   "cell_type": "markdown",
   "metadata": {},
   "source": [
    "We use the weighted average weight of the bird species reported in Nee et al. as our best estimate of the average weight of individual birds. We convert the average wet weight to carbon mass assuming 70% water content and 50% carbon out of the dry weight."
   ]
  },
  {
   "cell_type": "code",
   "execution_count": 4,
   "metadata": {
    "collapsed": true
   },
   "outputs": [],
   "source": [
    "wet_to_c = 0.15\n",
    "avg_bird_cc = np.average(nee['Wet body weight [g]'],weights=nee['Population size'])*wet_to_c"
   ]
  },
  {
   "cell_type": "markdown",
   "metadata": {},
   "source": [
    "We multiply our estimate of the total number of birds by our estimate of the average carbon content of a single bird to generate our estimate for the total biomass of wild birds:"
   ]
  },
  {
   "cell_type": "code",
   "execution_count": 5,
   "metadata": {},
   "outputs": [
    {
     "name": "stdout",
     "output_type": "stream",
     "text": [
      "Our best estimate for the total biomass of wild birds using method 1 is ≈0.004 Gt C\n"
     ]
    }
   ],
   "source": [
    "estimate_1 = tot_num_birds*avg_bird_cc\n",
    "\n",
    "print('Our best estimate for the total biomass of wild birds using method 1 is ≈%.3f Gt C' %(estimate_1/1e15))"
   ]
  },
  {
   "cell_type": "markdown",
   "metadata": {},
   "source": [
    "## Estimate 2\n",
    "As an alternative estimate, we use data on the mass of individual birds for each bird species, the population density of each species, and the study area in which the population density was measured ([Novosolov et al.](http://dx.doi.org/10.1111/geb.12617)). This dataset included data on ≈350 mammal species. Using multiple regression, a power-law (log-log) functional relation was established between body mass, study area and the total number of individuals measured in the study area. The functional relation established is: $$log_{10}(number\\ of\\ individuals) = 3.26-0.3×log_{10}(body\\ mass) + 0.63×log_{10}(study\\ area), (R^2 ≈0.3)$$ \n",
    "\n",
    "This relation was used to extrapolate the total number of individuals for ≈75% of the total number of bird species, by using breeding range sizes data from Novosolov et al. as a surrogate for study area, and data on body mass ([Meiri et al.](http://onlinelibrary.wiley.com/doi/10.1111/j.1365-2699.2010.02390.x/full)). From total number of individuals the total biomass is calculated through multiplying the total number of individuals by the mean body mass. This approach yielded an estimate of ≈0.001 Gt C."
   ]
  },
  {
   "cell_type": "code",
   "execution_count": 6,
   "metadata": {},
   "outputs": [
    {
     "name": "stdout",
     "output_type": "stream",
     "text": [
      "Our best estimate for the total biomass of wild birds using method 2 is ≈0.001 Gt C\n"
     ]
    }
   ],
   "source": [
    "estimate_2 = 5012745870861*wet_to_c\n",
    "print('Our best estimate for the total biomass of wild birds using method 2 is ≈%.3f Gt C' %(estimate_2/1e15))"
   ]
  },
  {
   "cell_type": "markdown",
   "metadata": {},
   "source": [
    "To generate our best estimate of the total biomass of wild birds, we use the geometric mean of the estimates based on the two methods"
   ]
  },
  {
   "cell_type": "code",
   "execution_count": 7,
   "metadata": {},
   "outputs": [
    {
     "name": "stdout",
     "output_type": "stream",
     "text": [
      "Our best estimate for the total biomass of wild birds is ≈0.002 Gt C\n"
     ]
    }
   ],
   "source": [
    "best_estimate = gmean([estimate_1,estimate_2])\n",
    "\n",
    "print('Our best estimate for the total biomass of wild birds is ≈%.3f Gt C' %(best_estimate/1e15))"
   ]
  },
  {
   "cell_type": "code",
   "execution_count": 8,
   "metadata": {
    "collapsed": true
   },
   "outputs": [],
   "source": [
    "# Feed results to the chordate biomass data\n",
    "old_results = pd.read_excel('../../animal_biomass_estimate.xlsx',index_col=0)\n",
    "result = old_results.copy()\n",
    "result.loc['Wild birds',(['Biomass [Gt C]','Uncertainty'])] = (best_estimate/1e15,None)\n",
    "result.to_excel('../../animal_biomass_estimate.xlsx')\n",
    "\n",
    "# Feed results to Table 1 & Fig. 1\n",
    "update_results(sheet='Table1 & Fig1', \n",
    "               row=('Animals','Wild birds'), \n",
    "               col='Biomass [Gt C]',\n",
    "               values=best_estimate/1e15,\n",
    "               path='../../../results.xlsx')\n",
    "\n",
    "# Feed results to Table S1\n",
    "update_results(sheet='Table S1', \n",
    "               row=('Animals','Wild birds'), \n",
    "               col='Number of individuals',\n",
    "               values=tot_num_birds,\n",
    "               path='../../../results.xlsx')"
   ]
  }
 ],
 "metadata": {
  "kernelspec": {
   "display_name": "Python 3",
   "language": "python",
   "name": "python3"
  },
  "language_info": {
   "codemirror_mode": {
    "name": "ipython",
    "version": 3
   },
   "file_extension": ".py",
   "mimetype": "text/x-python",
   "name": "python",
   "nbconvert_exporter": "python",
   "pygments_lexer": "ipython3",
   "version": "3.5.2"
  }
 },
 "nbformat": 4,
 "nbformat_minor": 2
}
