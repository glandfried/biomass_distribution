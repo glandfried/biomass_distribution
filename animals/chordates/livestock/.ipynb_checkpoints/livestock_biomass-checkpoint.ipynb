{
 "cells": [
  {
   "cell_type": "code",
   "execution_count": 1,
   "metadata": {},
   "outputs": [
    {
     "ename": "SyntaxError",
     "evalue": "invalid syntax (<ipython-input-1-19cea4f1f83c>, line 6)",
     "output_type": "error",
     "traceback": [
      "\u001b[0;36m  File \u001b[0;32m\"<ipython-input-1-19cea4f1f83c>\"\u001b[0;36m, line \u001b[0;32m6\u001b[0m\n\u001b[0;31m    mport sys\u001b[0m\n\u001b[0m            ^\u001b[0m\n\u001b[0;31mSyntaxError\u001b[0m\u001b[0;31m:\u001b[0m invalid syntax\n"
     ]
    }
   ],
   "source": [
    "# Load dependencies\n",
    "import pandas as pd\n",
    "import numpy as np\n",
    "import matplotlib.pyplot as plt\n",
    "pd.options.display.float_format = '{:,.1e}'.format\n",
    "import sys\n",
    "pd.options.display.float_format = '{:,.1e}'.format\n",
    "sys.path.insert(0,'../../../statistics_helper/')\n",
    "from excel_utils import *"
   ]
  },
  {
   "cell_type": "markdown",
   "metadata": {},
   "source": [
    "# Estimating the biomass of livestock\n",
    "To estimate the biomass of livestock, we rely on data on global stocks of cattle, sheep goats, and pigs froms the Food and Agriculture Organization database FAOStat. We downloaded data from the domain Production/Live animals.\n",
    "We combined data on the total stocks of each animal with estimates of the mean mass of each type of animal species (in kg) from [Dong et al.](http://www.ipcc-nggip.iges.or.jp/public/2006gl/pdf/4_Volume4/V4_10_Ch10_Livestock.pdf), Annex 10A.2, Tables 10A-4 to 10A-9.\n",
    "\n",
    "Here are samples of the data:"
   ]
  },
  {
   "cell_type": "code",
   "execution_count": null,
   "metadata": {},
   "outputs": [],
   "source": [
    "# Load global stocks data\n",
    "stocks = pd.read_csv('FAOSTAT_stock_data_mammals.csv')\n",
    "stocks.head()"
   ]
  },
  {
   "cell_type": "code",
   "execution_count": null,
   "metadata": {},
   "outputs": [],
   "source": [
    "# Load species body mass data\n",
    "body_mass = pd.read_excel('livestock_body_mass.xlsx',skiprows=1,index_col=0) \n",
    "body_mass.head()"
   ]
  },
  {
   "cell_type": "markdown",
   "metadata": {},
   "source": [
    "We pivot the stocks DataFrame to have a view of each kind of animal at each region:"
   ]
  },
  {
   "cell_type": "code",
   "execution_count": null,
   "metadata": {},
   "outputs": [],
   "source": [
    "# Replace NaN with zeros\n",
    "stocks.fillna(value=0,inplace=True)\n",
    "stock_pivot = pd.pivot(stocks.Area,stocks.Item, stocks.Value).astype(float)\n",
    "\n",
    "# Replace NaN with zeros\n",
    "stock_pivot.fillna(value=0,inplace=True)\n",
    "\n",
    "stock_pivot"
   ]
  },
  {
   "cell_type": "markdown",
   "metadata": {},
   "source": [
    "There is a difference between the body mass of a dairy producing cow to a non-dairy producing cow. We thus count seperately the dairy producing cattle from the non-dairy producing cattle. Data about the amount of dairy cattle comes from the FAOStat domain Production - Livestock Primary.\n",
    "There is also a difference in body mass between breeding and non-breeding pigs. We assume 90% of the population is breeding based on IPCC, 2006, Vol.4, Ch.10,Table.10.19."
   ]
  },
  {
   "cell_type": "code",
   "execution_count": null,
   "metadata": {},
   "outputs": [],
   "source": [
    "# Load data on the number of dairy producing cattle\n",
    "dairy = pd.read_csv('FAOSTAT_cattle_dairy_data.csv')\n",
    "\n",
    "# Set the index of the DataFrame to be the region so we can compare with the stocks data\n",
    "dairy.set_index('Area',inplace=True)\n",
    "\n",
    "# Add a category of dairy producing cattle\n",
    "stock_pivot['Cattle - dairy'] = dairy.Value\n",
    "\n",
    "# Set the amount of non-dairy producing cattle to be the total number minus the dairy producing cattle\n",
    "stock_pivot['Cattle'] = stock_pivot['Cattle']-stock_pivot['Cattle - dairy']\n",
    "\n",
    "# Rename the Cattle column name to Cattle - non-dairy\n",
    "stock_pivot.rename(columns={'Cattle': 'Cattle - non-dairy'}, inplace=True)\n",
    "\n",
    "# Set the amount of non-breeding (market) pigs (swine) to 10% of the total amount of pigs\n",
    "stock_pivot['Swine - market'] = 0.1*stock_pivot['Pigs']\n",
    "\n",
    "# Set the amount of breeding pigs (swine) to 90% of the total amount of pigs\n",
    "stock_pivot['Pigs'] *= 0.9\n",
    "\n",
    "# Rename the Pigs column name to Swine - breeding\n",
    "stock_pivot.rename(columns={'Pigs': 'Swine - breeding'}, inplace=True)\n",
    "\n",
    "stock_pivot"
   ]
  },
  {
   "cell_type": "markdown",
   "metadata": {},
   "source": [
    "Data on the mass of animals is divided into different regions than the FAOStat data so we need preprocess the stocks DataFrame and merge it with the body mass data:"
   ]
  },
  {
   "cell_type": "code",
   "execution_count": null,
   "metadata": {},
   "outputs": [],
   "source": [
    "# Preprocessing the stocks DataFrame\n",
    "\n",
    "# Calculate the total number of animals in Latin America by subtracting values for Northern America from the total\n",
    "# values for the Americas\n",
    "stock_pivot.loc['Americas'] -= stock_pivot.loc['Northern America']\n",
    "\n",
    "# Change name of Americas to Latin America\n",
    "stock_pivot.rename(index={'Americas': 'Latin America'},inplace=True)\n",
    "\n",
    "# Calculate the total number of animals in Asia without the Indian Subcontinent by subtracting values for the Southern Asia \n",
    "# from the total values for the Asia\n",
    "stock_pivot.loc['Asia'] -= stock_pivot.loc['Southern Asia']\n",
    "\n",
    "# Change name of Southern Asia to Indian Subcontinent\n",
    "stock_pivot.rename(index={'Southern Asia': 'Indian Subcontinent'},inplace=True)\n",
    "\n",
    "\n",
    "stock_pivot\n"
   ]
  },
  {
   "cell_type": "markdown",
   "metadata": {},
   "source": [
    "We now multiply the stocks of each animal type and for each region by the characteristic body weight of each animal:"
   ]
  },
  {
   "cell_type": "code",
   "execution_count": null,
   "metadata": {},
   "outputs": [],
   "source": [
    "wet_biomass =(body_mass*stock_pivot)\n",
    "wet_biomass"
   ]
  },
  {
   "cell_type": "markdown",
   "metadata": {},
   "source": [
    "We sum over all regions and convert units from kg wet weight to Gt C carbon by assuming carbon is ≈15% of the wet weight (30% dry weight of wet weight and carbon is 50% of dry weight)."
   ]
  },
  {
   "cell_type": "code",
   "execution_count": null,
   "metadata": {},
   "outputs": [],
   "source": [
    "pd.options.display.float_format = '{:,.3f}'.format\n",
    "\n",
    "# conversion factor from kg wet weight to Gt C\n",
    "kg_to_gt_c = 1000*0.15/1e15\n",
    "total_biomass = wet_biomass.sum()*kg_to_gt_c\n",
    "total_biomass"
   ]
  },
  {
   "cell_type": "markdown",
   "metadata": {},
   "source": [
    "We sum over all animal categories to generate our best estimate for the total biomass of livestock"
   ]
  },
  {
   "cell_type": "code",
   "execution_count": null,
   "metadata": {},
   "outputs": [],
   "source": [
    "best_estimate = total_biomass.sum()\n",
    "print('Our best estimate for the biomass of mammal livestock is %.1f Gt C' % best_estimate)"
   ]
  },
  {
   "cell_type": "code",
   "execution_count": null,
   "metadata": {
    "collapsed": true
   },
   "outputs": [],
   "source": [
    "# Feed results to the chordate biomass data\n",
    "old_results = pd.read_excel('../../animal_biomass_estimate.xlsx',index_col=0)\n",
    "result = old_results.copy()\n",
    "result.loc['Livestock',(['Biomass [Gt C]','Uncertainty'])] = (best_estimate,None)\n",
    "result.to_excel('../../animal_biomass_estimate.xlsx')\n",
    "\n",
    "# Feed results to Table 1 & Fig. 1\n",
    "update_results(sheet='Table1 & Fig1', \n",
    "               row=('Animals','Livestock'), \n",
    "               col='Biomass [Gt C]',\n",
    "               values=best_estimate,\n",
    "               path='../../../results.xlsx')\n",
    "\n",
    "# Feed results to Table S1\n",
    "update_results(sheet='Table S1', \n",
    "               row=('Animals','Livestock'), \n",
    "               col='Number of individuals',\n",
    "               values=stock_pivot.sum().sum(),\n",
    "               path='../../../results.xlsx')"
   ]
  }
 ],
 "metadata": {
  "kernelspec": {
   "display_name": "Python 3",
   "language": "python",
   "name": "python3"
  },
  "language_info": {
   "codemirror_mode": {
    "name": "ipython",
    "version": 3
   },
   "file_extension": ".py",
   "mimetype": "text/x-python",
   "name": "python",
   "nbconvert_exporter": "python",
   "pygments_lexer": "ipython3",
   "version": "3.5.2"
  }
 },
 "nbformat": 4,
 "nbformat_minor": 2
}
