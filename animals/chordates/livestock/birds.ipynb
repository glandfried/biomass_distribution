{
 "cells": [
  {
   "cell_type": "code",
   "execution_count": 29,
   "metadata": {},
   "outputs": [
    {
     "name": "stderr",
     "output_type": "stream",
     "text": [
      "/usr/local/lib/python3.5/dist-packages/pandas/core/indexing.py:537: SettingWithCopyWarning: \n",
      "A value is trying to be set on a copy of a slice from a DataFrame.\n",
      "Try using .loc[row_indexer,col_indexer] = value instead\n",
      "\n",
      "See the caveats in the documentation: http://pandas.pydata.org/pandas-docs/stable/indexing.html#indexing-view-versus-copy\n",
      "  self.obj[item] = s\n",
      "/usr/local/lib/python3.5/dist-packages/pandas/core/frame.py:3027: SettingWithCopyWarning: \n",
      "A value is trying to be set on a copy of a slice from a DataFrame\n",
      "\n",
      "See the caveats in the documentation: http://pandas.pydata.org/pandas-docs/stable/indexing.html#indexing-view-versus-copy\n",
      "  return super(DataFrame, self).rename(**kwargs)\n",
      "/usr/local/lib/python3.5/dist-packages/pandas/core/indexing.py:194: SettingWithCopyWarning: \n",
      "A value is trying to be set on a copy of a slice from a DataFrame\n",
      "\n",
      "See the caveats in the documentation: http://pandas.pydata.org/pandas-docs/stable/indexing.html#indexing-view-versus-copy\n",
      "  self._setitem_with_indexer(indexer, value)\n",
      "/usr/local/lib/python3.5/dist-packages/ipykernel_launcher.py:28: SettingWithCopyWarning: \n",
      "A value is trying to be set on a copy of a slice from a DataFrame\n",
      "\n",
      "See the caveats in the documentation: http://pandas.pydata.org/pandas-docs/stable/indexing.html#indexing-view-versus-copy\n"
     ]
    },
    {
     "data": {
      "text/plain": [
       "0.0046082046900000001"
      ]
     },
     "execution_count": 29,
     "metadata": {},
     "output_type": "execute_result"
    }
   ],
   "source": [
    "import pandas as pd\n",
    "import numpy as np\n",
    "\n",
    "bird = pd.read_csv('FAOSTAT_data_bird.csv')\n",
    "egg = pd.read_csv('FAOSTAT_data_eggs.csv')\n",
    "body_mass = pd.read_csv('ipcc_animal_weight.csv')\n",
    "body_mass.set_index('IPCC Area',inplace=True)\n",
    "egg.set_index('Area',inplace=True)\n",
    "bird_pivot = pd.pivot(bird.Area,bird.Item, bird.Value).astype(float)\n",
    "\n",
    "bird_pivot['Chicken - Layers'] = egg.Value\n",
    "bird_pivot['Chickens'] -= egg.Value\n",
    "bird_pivot.rename(columns={'Chickens': 'Chicken - Broilers'},inplace=True)\n",
    "birds = ['Chicken - Broilers','Chicken - Layers','Ducks','Turkeys']\n",
    "bird_pivot_filt = bird_pivot[birds]\n",
    "body_mass_filt = body_mass[birds]\n",
    "\n",
    "\n",
    "# Calculate the total number of animals in Latin America by subtracting values for Northern America from the total\n",
    "# values for the Americas\n",
    "bird_pivot_filt.loc['Americas'] -= bird_pivot_filt.loc['Northern America']\n",
    "\n",
    "# Change name of Americas to Latin America\n",
    "bird_pivot_filt.rename(index={'Americas': 'Latin America'},inplace=True)\n",
    "\n",
    "# Calculate the total number of animals in Asia without the Indian Subcontinent by subtracting values for the Southern Asia \n",
    "# from the total values for the Asia\n",
    "bird_pivot_filt.loc['Asia'] -= bird_pivot_filt.loc['Southern Asia']\n",
    "\n",
    "# Change name of Southern Asia to Indian Subcontinent\n",
    "bird_pivot_filt.rename(index={'Southern Asia': 'Indian Subcontinent'},inplace=True)\n",
    "\n",
    "((body_mass_filt*bird_pivot_filt)*1e6*0.15).sum().sum()/1e15\n"
   ]
  }
 ],
 "metadata": {
  "kernelspec": {
   "display_name": "Python 3",
   "language": "python",
   "name": "python3"
  },
  "language_info": {
   "codemirror_mode": {
    "name": "ipython",
    "version": 3
   },
   "file_extension": ".py",
   "mimetype": "text/x-python",
   "name": "python",
   "nbconvert_exporter": "python",
   "pygments_lexer": "ipython3",
   "version": "3.5.2"
  }
 },
 "nbformat": 4,
 "nbformat_minor": 2
}
