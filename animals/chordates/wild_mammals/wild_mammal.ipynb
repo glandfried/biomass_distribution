{
 "cells": [
  {
   "cell_type": "markdown",
   "metadata": {},
   "source": [
    "# Estimating the biomass of wild land mammals"
   ]
  },
  {
   "cell_type": "code",
   "execution_count": 2,
   "metadata": {},
   "outputs": [],
   "source": [
    "from scipy.stats import gmean\n",
    "import sys\n",
    "sys.path.insert(0,'../../../statistics_helper/')\n",
    "from CI_helper import *\n",
    "smil_estimate = 0.025e15\n",
    "shai_meiri_estimate = 5454700007879\n",
    "\n",
    "best_land_mammal_biomass = gmean([smil_estimate,shai_meiri_estimate])*0.15\n",
    "land_mammal_CI = geo_CI_calc(np.array([smil_estimate,shai_meiri_estimate]))"
   ]
  },
  {
   "cell_type": "markdown",
   "metadata": {},
   "source": [
    "# Estimating the biomass of wild marine mammals"
   ]
  },
  {
   "cell_type": "code",
   "execution_count": 4,
   "metadata": {},
   "outputs": [
    {
     "name": "stdout",
     "output_type": "stream",
     "text": [
      "y 1.3\n"
     ]
    },
    {
     "data": {
      "text/html": [
       "<div>\n",
       "<style scoped>\n",
       "    .dataframe tbody tr th:only-of-type {\n",
       "        vertical-align: middle;\n",
       "    }\n",
       "\n",
       "    .dataframe tbody tr th {\n",
       "        vertical-align: top;\n",
       "    }\n",
       "\n",
       "    .dataframe thead th {\n",
       "        text-align: right;\n",
       "    }\n",
       "</style>\n",
       "<table border=\"1\" class=\"dataframe\">\n",
       "  <thead>\n",
       "    <tr style=\"text-align: right;\">\n",
       "      <th></th>\n",
       "      <th>Biomass estimate from IUCN</th>\n",
       "      <th>Biomass estimate from Christensen</th>\n",
       "    </tr>\n",
       "  </thead>\n",
       "  <tbody>\n",
       "    <tr>\n",
       "      <th>Biomass estimate from IUCN</th>\n",
       "      <td>1.0000</td>\n",
       "      <td>0.9753</td>\n",
       "    </tr>\n",
       "    <tr>\n",
       "      <th>Biomass estimate from Christensen</th>\n",
       "      <td>0.9753</td>\n",
       "      <td>1.0000</td>\n",
       "    </tr>\n",
       "  </tbody>\n",
       "</table>\n",
       "</div>"
      ],
      "text/plain": [
       "                                   Biomass estimate from IUCN  \\\n",
       "Biomass estimate from IUCN                             1.0000   \n",
       "Biomass estimate from Christensen                      0.9753   \n",
       "\n",
       "                                   Biomass estimate from Christensen  \n",
       "Biomass estimate from IUCN                                    0.9753  \n",
       "Biomass estimate from Christensen                             1.0000  "
      ]
     },
     "execution_count": 4,
     "metadata": {},
     "output_type": "execute_result"
    },
    {
     "data": {
      "image/png": "[encoded data removed]",
      "text/plain": [
       "<matplotlib.figure.Figure at 0x7f934eb17e10>"
      ]
     },
     "metadata": {},
     "output_type": "display_data"
    }
   ],
   "source": [
    "import pandas as pd\n",
    "import numpy as np\n",
    "import matplotlib.pyplot as plt\n",
    "%matplotlib inline\n",
    "comparison_data = pd.read_excel('marine_mammal_data.xlsx',index_col=0)\n",
    "plt.scatter(np.log10(comparison_data['Biomass estimate from Christensen']),np.log10(comparison_data['Biomass estimate from IUCN']))\n",
    "#comparison_data[['Biomass estimate from Christensen','Biomass estimate from IUCN']].plot()\n",
    "#comparison_data.plot.scatter(x='Biomass estimate from Christensen',y='Biomass estimate from IUCN')\n",
    "christensen = pd.read_excel('marine_mammal_data.xlsx','Christensen',skiprows=1,index_col=0)\n",
    "best_christensen = christensen.loc[2000,'Mean']*0.15\n",
    "best_IUCN = comparison_data['Biomass estimate from IUCN'].sum()*1e6*0.15\n",
    "\n",
    "comparison_data.corr(method='spearman')"
   ]
  },
  {
   "cell_type": "markdown",
   "metadata": {},
   "source": [
    "# Estimating the total biomass of wild mammals"
   ]
  },
  {
   "cell_type": "code",
   "execution_count": 5,
   "metadata": {},
   "outputs": [
    {
     "data": {
      "text/plain": [
       "2.4168613746872554"
      ]
     },
     "execution_count": 5,
     "metadata": {},
     "output_type": "execute_result"
    }
   ],
   "source": [
    "best_wild_mammals = best_christensen+best_land_mammal_biomass\n",
    "marine_mammal_CI = np.max([geo_CI_calc(np.array([best_IUCN,best_christensen])),christensen.loc[2000,'Max']/christensen.loc[2000,'Mean']])\n",
    "mul_CI = CI_sum_prop(np.array([best_wild_mammals,best_christensen]), np.array([land_mammal_CI,marine_mammal_CI]))\n",
    "mul_CI"
   ]
  }
 ],
 "metadata": {
  "kernelspec": {
   "display_name": "Python 3",
   "language": "python",
   "name": "python3"
  },
  "language_info": {
   "codemirror_mode": {
    "name": "ipython",
    "version": 3
   },
   "file_extension": ".py",
   "mimetype": "text/x-python",
   "name": "python",
   "nbconvert_exporter": "python",
   "pygments_lexer": "ipython3",
   "version": "3.5.2"
  }
 },
 "nbformat": 4,
 "nbformat_minor": 2
}
