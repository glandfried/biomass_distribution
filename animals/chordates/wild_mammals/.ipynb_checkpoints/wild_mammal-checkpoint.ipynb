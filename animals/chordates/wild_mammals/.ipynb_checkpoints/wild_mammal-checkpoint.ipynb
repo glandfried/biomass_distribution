{
 "cells": [
  {
   "cell_type": "code",
   "execution_count": 1,
   "metadata": {
    "collapsed": true
   },
   "outputs": [],
   "source": [
    "# Load dependencies\n",
<<<<<<< HEAD
    "import pandas as pd\n",
    "import numpy as np\n",
    "import matplotlib.pyplot as plt\n",
    "%matplotlib inline\n",
    "from scipy.stats import gmean\n",
    "import sys\n",
    "sys.path.insert(0,'../../../statistics_helper/')\n",
    "pd.options.display.float_format = '{:,.1e}'.format\n",
=======
    "from scipy.stats import gmean\n",
    "import sys\n",
    "sys.path.insert(0,'../../../statistics_helper/')\n",
>>>>>>> de97e135b83bddc2e4465a25f6e49013f306586b
    "from CI_helper import *\n",
    "from excel_utils import *"
   ]
  },
  {
<<<<<<< HEAD
   "cell_type": "markdown",
   "metadata": {},
   "source": [
    "# Estimating the biomass of wild mammals\n",
    "To estimate the total biomass of wild mammals, we first estimate the total biomass of wild land mammals and wild marine mammals.\n",
    "\n",
    "## Estimating the biomass of wild land mammals\n",
    "To estimate the total biomass of land mammals living today we rely on three sources. The first is [Smil](http://vaclavsmil.com/wp-content/uploads/PDR37-4.Smil_.pgs613-636.pdf), which estimates ≈0.025 Gt wet weight based on biomass densities per biome taken from the History Database of the Global Environment (HYDE)."
   ]
  },
  {
   "cell_type": "code",
   "execution_count": 2,
   "metadata": {
    "collapsed": true
   },
   "outputs": [],
   "source": [
    "smil_estimate = 0.025e15"
   ]
  },
  {
=======
>>>>>>> de97e135b83bddc2e4465a25f6e49013f306586b
   "cell_type": "markdown",
   "metadata": {},
   "source": [
    "The second source is an estimate made in [Barnosky](http://dx.doi.org/10.1073/pnas.0801918105), which reports an estimate of ≈0.05 Gt wet weight."
   ]
  },
  {
   "cell_type": "code",
<<<<<<< HEAD
   "execution_count": 3,
=======
   "execution_count": 2,
>>>>>>> de97e135b83bddc2e4465a25f6e49013f306586b
   "metadata": {
    "collapsed": true
   },
   "outputs": [],
<<<<<<< HEAD
   "source": [
    "barnosky_estimate = 10**10.72*1000 #From figure 3"
   ]
  },
  {
   "cell_type": "markdown",
   "metadata": {},
   "source": [
    "The third source is based on data on the mass of individual mammals for each mammal species, the population density of each species, and the study area in which the population density was measured ([Novosolov et al.](http://dx.doi.org/10.1111/geb.12617)). This dataset included data on ≈350 mammal species. Using multiple regression, a power-law (log-log) functional relation was established between body mass, study area and the total number of individuals measured in the study area. The functional relation established is: $$log_{10}(number\\ of\\ individuals) = 1.65-0.53×log_{10}(body\\ mass) + 0.73×log_{10}(study\\ area), (R^2≈0.5)$$ This relation was used to extrapolate the total number of individuals for ≈3700 mammal species for which range and mass data is available, by using range sizes from IUCN data (http://www.iucnredlist.org/technical-documents/spatial-data#mammals) as a surrogate for study area, and data on body mass ([Meiri et al.](http://onlinelibrary.wiley.com/doi/10.1111/j.1365-2699.2010.02390.x/full); there are additional ≈1800 mammal species without mass data, but these usually have small body mass, small ranges and low population densities). From total number of individuals the total biomass is calculated by multiplying the total number of individuals by the mean body mass. This approach yielded an estimate of ≈0.006 Gt wet weight."
   ]
  },
  {
   "cell_type": "code",
   "execution_count": 4,
   "metadata": {
    "collapsed": true
   },
   "outputs": [],
   "source": [
    "# Estimate produced by the third approach\n",
    "shai_meiri_estimate = 5454700007879"
   ]
  },
  {
   "cell_type": "markdown",
   "metadata": {},
   "source": [
    "Our estimate of the total biomass of wild mammals is based on the geometric mean of these three estimates. We convert wet weight values to carbon mass assuming 70% water content and 50% carbon content out of dry weight."
   ]
  },
  {
   "cell_type": "code",
   "execution_count": 5,
   "metadata": {},
   "outputs": [
    {
     "name": "stdout",
     "output_type": "stream",
     "text": [
      "Our best estimate of the total biomass of wild land mammals is ≈0.003 Gt C\n"
     ]
    }
   ],
   "source": [
    "# Conversion factor between wet weight and carbon mass\n",
    "wet_to_c = 0.15\n",
    "\n",
    "# Estimate the total biomass of land mammals\n",
    "best_land_mammal_biomass = gmean([smil_estimate,shai_meiri_estimate,barnosky_estimate])*wet_to_c\n",
    "\n",
    "print('Our best estimate of the total biomass of wild land mammals is ≈%.3f Gt C'%(best_land_mammal_biomass/1e15))"
=======
   "source": [
    "smil_estimate = 0.025e15\n",
    "shai_meiri_estimate = 5454700007879 \n",
    "barnosky_estimate = 10**10.72*1000 #From figure 3\n",
    "prehuman_barnosky_biomass = 10**11.165*1000*0.15 #From figure 3\n",
    "best_land_mammal_biomass = gmean([smil_estimate,shai_meiri_estimate,barnosky_estimate])*0.15\n",
    "land_mammal_CI = geo_CI_calc(np.array([smil_estimate,shai_meiri_estimate,barnosky_estimate]))"
>>>>>>> de97e135b83bddc2e4465a25f6e49013f306586b
   ]
  },
  {
   "cell_type": "markdown",
   "metadata": {},
   "source": [
    "## Estimating the biomass of wild marine mammals\n",
    "For estimating the biomass of marine mammals, we rely on estimates made by [Christensen](https://open.library.ubc.ca/cIRcle/collections/ubctheses/831/items/1.0074892), based on using a dataset compiled by [Kaschner et al.](https://open.library.ubc.ca/collections/ubctheses/831/items/1.0074881), gathered from various resources. The biomass of marine mammals is dominated by whales and seals. Here is the data from Christensen:"
   ]
  },
  {
   "cell_type": "code",
<<<<<<< HEAD
   "execution_count": 6,
=======
   "execution_count": 3,
>>>>>>> de97e135b83bddc2e4465a25f6e49013f306586b
   "metadata": {},
   "outputs": [
    {
     "data": {
      "text/html": [
       "<div>\n",
       "<style scoped>\n",
       "    .dataframe tbody tr th:only-of-type {\n",
       "        vertical-align: middle;\n",
       "    }\n",
       "\n",
       "    .dataframe tbody tr th {\n",
       "        vertical-align: top;\n",
       "    }\n",
       "\n",
       "    .dataframe thead th {\n",
       "        text-align: right;\n",
       "    }\n",
       "</style>\n",
       "<table border=\"1\" class=\"dataframe\">\n",
       "  <thead>\n",
       "    <tr style=\"text-align: right;\">\n",
       "      <th></th>\n",
       "      <th>Min</th>\n",
       "      <th>Mean</th>\n",
       "      <th>Max</th>\n",
       "    </tr>\n",
       "    <tr>\n",
       "      <th>Year</th>\n",
       "      <th></th>\n",
       "      <th></th>\n",
       "      <th></th>\n",
       "    </tr>\n",
       "  </thead>\n",
       "  <tbody>\n",
       "    <tr>\n",
       "      <th>1800</th>\n",
       "      <td>102061900000000</td>\n",
       "      <td>126185600000000</td>\n",
       "      <td>155876300000000</td>\n",
       "    </tr>\n",
       "    <tr>\n",
       "      <th>2000</th>\n",
       "      <td>22268040000000</td>\n",
       "      <td>29690720000000</td>\n",
       "      <td>42680410000000</td>\n",
       "    </tr>\n",
       "  </tbody>\n",
       "</table>\n",
       "</div>"
      ],
      "text/plain": [
       "                  Min             Mean              Max\n",
       "Year                                                   \n",
       "1800  102061900000000  126185600000000  155876300000000\n",
       "2000   22268040000000   29690720000000   42680410000000"
      ]
     },
<<<<<<< HEAD
     "execution_count": 6,
=======
     "execution_count": 3,
>>>>>>> de97e135b83bddc2e4465a25f6e49013f306586b
     "metadata": {},
     "output_type": "execute_result"
    }
   ],
   "source": [
    "christensen = pd.read_excel('marine_mammal_data.xlsx','Christensen',skiprows=1,index_col=0)\n",
    "christensen"
   ]
  },
  {
   "cell_type": "markdown",
   "metadata": {},
   "source": [
    "We the mean values for the year 2000 as our best estimate for the biomass of wild marine mammals. We convert the estimates of Chirstensen, which are of the total wet weight of marine mammals to carbon mass assuming 70% water content and 50% carbon content of dry weight:  "
   ]
  },
  {
   "cell_type": "code",
   "execution_count": 7,
   "metadata": {},
   "outputs": [
    {
     "name": "stdout",
     "output_type": "stream",
     "text": [
      "Our best estimate of the total biomass of wild marine mammals is ≈0.004 Gt C\n"
     ]
    }
   ],
   "source": [
    "best_christensen = christensen.loc[2000,'Mean']*wet_to_c\n",
    "\n",
    "print('Our best estimate of the total biomass of wild marine mammals is ≈%.3f Gt C'%(best_christensen/1e15))"
   ]
  },
  {
   "cell_type": "markdown",
   "metadata": {},
   "source": [
    "We sum our estimates for the total biomass of wild land and marine mammals to generate our best estimate for the total biomass of wild mammals:"
   ]
  },
  {
   "cell_type": "code",
   "execution_count": 8,
   "metadata": {},
   "outputs": [
    {
     "name": "stdout",
     "output_type": "stream",
     "text": [
      "Our best estimate of the total biomass of wild marine mammals is ≈0.007 Gt C\n"
     ]
    }
   ],
   "source": [
    "best_wild_mammals = best_christensen+best_land_mammal_biomass\n",
    "\n",
    "print('Our best estimate of the total biomass of wild marine mammals is ≈%.3f Gt C'%(best_wild_mammals/1e15))"
   ]
  },
  {
   "cell_type": "markdown",
   "metadata": {},
   "source": [
    "# Uncertainty analysis\n",
    "To estimate the uncertainty associated with our estimate of the total biomass of wild mammals, we first project the uncertainty associated with our estimate of the total biomass of wild land mammals and wild marine mammals, and then combine these uncertainties.\n",
    "\n",
    "## Wild land mammals\n",
    "Our projection of the uncertainty associated with our estimate of the total biomass of wild land mammals is based on the multiplicative 95% confidence interval around the geometric mean of the three independent estimates we use as sources for our best estimate."
   ]
  },
  {
   "cell_type": "code",
   "execution_count": 9,
   "metadata": {},
   "outputs": [
    {
     "name": "stdout",
     "output_type": "stream",
     "text": [
      "Our best projection for the uncertainty associated with our estimate of the total biomass of wild land mammals is ≈4-fold\n"
     ]
    }
   ],
   "source": [
    "land_mammal_CI = geo_CI_calc(np.array([smil_estimate,shai_meiri_estimate,barnosky_estimate]))\n",
    "\n",
    "print('Our best projection for the uncertainty associated with our estimate of the total biomass of wild land mammals is ≈%0.0f-fold' %land_mammal_CI)"
   ]
  },
  {
   "cell_type": "markdown",
   "metadata": {},
   "source": [
    "## Wild marine mammals\n",
    "To project the uncertainty associated with our estimate of the total biomass of wild marine mammals, we rely both on the intra-study uncertainty reported by Christensen, as well as on a consistency check against data from the IUCN. Christensen reports a 95% confidence interval of ≈1.4-fold. "
   ]
  },
  {
   "cell_type": "code",
   "execution_count": 10,
   "metadata": {},
   "outputs": [
    {
     "name": "stdout",
     "output_type": "stream",
     "text": [
      "The intra-study uncertainty reported by Christensen is ≈1.4-fold\n"
     ]
    }
   ],
   "source": [
    "marine_intra_CI = christensen.loc[2000,'Max']/christensen.loc[2000,'Mean']\n",
    "\n",
    "print('The intra-study uncertainty reported by Christensen is ≈%.1f-fold' %marine_intra_CI)"
   ]
  },
  {
   "cell_type": "markdown",
   "metadata": {},
   "source": [
    "As a consistency check, we compared the data for ≈30 whale species which are the main contributors to the global marine mammal biomass with data from the IUCN. The correlation between the data is high (Spearman R$^2$=0.98), and the total biomass from both methods varies about ≈1.3-fold. "
   ]
  },
  {
   "cell_type": "code",
   "execution_count": 11,
   "metadata": {},
   "outputs": [
    {
     "name": "stdout",
     "output_type": "stream",
     "text": [
      "The correlation coefficient between Christensen and the IUCN data is ≈0.98\n",
      "The inter-study uncertainty between Christensen and the IUCN data is ≈1.3-fold\n"
     ]
    },
    {
     "data": {
      "image/png": "iVBORw0KGgoAAAANSUhEUgAAAY4AAAEXCAYAAAC6baP3AAAABHNCSVQICAgIfAhkiAAAAAlwSFlz\nAAALEgAACxIB0t1+/AAAADl0RVh0U29mdHdhcmUAbWF0cGxvdGxpYiB2ZXJzaW9uIDIuMS4yLCBo\ndHRwOi8vbWF0cGxvdGxpYi5vcmcvNQv5yAAAIABJREFUeJzt3XmYXFWd//H3JyFxYQ0hOBrIxqa4\nzGB6MAg64IIwElCMSsQFRRAHRAUXFJVxRsfd3wyKQkCMaAAxgwgaRAYDQSWYbkQSNomBDEHHxBDD\nIpKEfH9/3FOkqFRV36quW0v35/U89fStU1X3fk911T117tkUEZiZmeU1qtMBmJlZb3HBYWZmDXHB\nYWZmDXHBYWZmDXHBYWZmDXHBYWZmDXHBYWZmDXHBYWZmDdmm1gOSrszx+gcj4rjWhWNmZt2uZsEB\nPA94d53HBZzT2nDMzKzb1Ss4zoyIG+q9WNKnWxyPmZl1uZptHBFxGYCkN1Y+VkorPcfMzEYODTbJ\noaRbIuLFg6WZmdnIUK9x/HDgn4GJks4ue2gHYFPRgZmZWXeq18bxB6AfOBIYKEt/GPhgkUGZmVn3\nynOpakxEbGxTPGZm1uXq1ThK9pf0r8Dk9HwBERHTigzMzMy6U54ax11kl6YGgCdK6RGxttjQzMys\nG+WpcayPiKsLj8TMzHpCzRqHpFJ32zcBo4HLgcdLj0fELYVH16BddtklpkyZ0ukwzMx6ysDAwJ8j\nYkLe59ercXyl4n5f2XYAr2gksHaYMmUK/f39nQ7DzKynSFrZyPNrFhwRccjQwzEzs+Fm0DYOSadV\nSV4PDETEra0PyczMulme9Tj6gJOAien2HuAw4HxJHykwttwkzZQ0Z/369Z0Oxcxs2MtTcOwGvDgi\nTo+I04HpwK7Ay4HjCowtt4i4KiJO3HHHHTsdipnZsJen4NiVst5UwEbgWRHxWEW6mZmNAHnGccwD\nbpb0o3R/JnCxpG2BOwqLzMzMchlYuY7FK9YyY9p4pk8eV/jxBi04IuLfJV0NHJiSToqIUp/XYwuL\nzMzMBjWwch3HXrCYDZs2M3abUcx794zCC49606rvEBEPSdoZWJFupcd2jogHC43MzMwGtXjFWjZs\n2szmgI2bNrN4xdrOFRzAxcARZHNUBWlyw7K/nuTQzKzDZkwbz9htRrFx02bGbDOKGdPGF37MegMA\nj0h/pxYeBSBpGnAmsGNEzEppzwPeD+wCXBcR32xHLGZmvWL65HHMe/eMtrZxDNqrSpm3Svpkuj9J\n0v55di7pQkmrJS2rSD9M0t2Slks6AyAiVkTE8eXPi4g7I+IksvmyDsTMzLYyffI4Tj5kz7YUGpCv\nO+43gAOAt6T7DwPn5Nz/XLLBgk+SNDq9/nBgX2C2pH1r7UDSkcBPgAU5j2lmZgXKU3C8JCJOBv4G\nEBHrgLF5dh4Ri4DKRvT9geWphrEBuBQ4qs4+royIw6nRg0vSiZL6JfWvWbMmT1hmZjYEeQqOjamW\nEACSJgCbh3DMicD9ZfdXARMljZd0LrCfpI+lYx0s6WxJ51GjxhERcyKiLyL6JkzIPSuwmZk1Kc8A\nwLOBHwK7SvosMAv4RKsDSSsKnlSRdj1w/WCvlTQTmLnnnnu2OiwzM6uQZwDgPEkDwCvJuuK+LiLu\nHMIxHwB2L7u/W0ozM7MekKdX1b+TnejnRsTXh1hoACwB9pI0VdJY4BjgyqHs0JMcmpm1T542jhXA\nbKBf0q8lfUVSzcbscpIuAW4C9pG0StLxEbEJOAW4BrgTuCwibm8y/tJxPK26mVmb1FxzfKsnSn9H\nNp7iQ8C4iNi+yMCa0dfXF1461sysMZIGIqJv8Gdm8qwAeAHZeIs/ATeSNY7f0nSEZmY2ZO2eEbdc\nnl5V44HRwF/IxmT8OV1u6hruVWVmI0knZsQtN2gbR0S8PiJeAnwR2AlYKGlV4ZE1wI3jZjaSVJsR\nt53yXKo6AngZ2VKxOwE/J7tk1TVc4zCzkaQTM+KWG7RxXNLXyQqKGyPiD22JqkluHDezbtCO9odW\nHqPljeMRccqQIjIzG0Ha1f4wffK4tjeKl+QZx2FmZjl1uv2hHYZFweEBgGbWLUrtD6NFR9of2iFP\nG8f7I+K/BkvrBm7jMLNu0MkxFs1otI0jT43jHVXSjssdkZlZhw2sXMc5C5czsHJdW47X7hX52q1m\n47ik2WSr/k2VVD4J4fZsvTiTmVlX6vRgueGoXq+qXwF/BHYBvlKW/jBwW5FBNcrjOMyslmqN1S44\nhqbmpaqIWBkR10fEAcB9wJiIuIFsRttntCm+XDxy3MxqGQmN1e2WZ+T4CcCJwM7AHmQLL51LtrCT\nmVlXmz55HPPePaOnGqu7XZ5JDk8G9gduBoiIeyTtWmhUZmYt1IrBco32lOq1nlWNyFNwPB4RGyQB\nIGkbIN8iHmZmw0CjDezDvUE+T3fcGyR9HHiGpFcDPwCuKjYsM7Pu0eho8OE+ejxPwXEGsAZYCrwH\nWAB8osigGuWR42ZWpEYb2Id7g3yekeOvBH4VEY+1J6TmeeS4mRXVtjCc2zgaHTmep+D4DnAA2aC/\nG4FFwC8ioj1DMBvggsNsZBvubQtFafmUIxHxjojYGzgauB84h+zSlZlZVxnubQvdIs84jreSrQD4\nQuDPQGlhJzOzwjVyyafTK+ONFHm64/4n8HuyQX8LI+K+QiMyM0savfTUzGC/XmqL6BZ5VgDcRdLz\nydYc/6ykvYC7I+JthUdnZiNaM/NMNTLYz20izRm0jUPSDsAkYDIwBdgR2FxEMJKmSfqWpPllaa+T\ndL6k70s6tIjjmll3Krpbq9tEmpPnUtUvym5fj4hVjRxA0oXAEcDqiHhBWfphwH8Bo4ELIuLzEbEC\nOL684IiIK4ArJI0Dvgz8rJHjm1nvKnqeKbeJNGfQ7rhDPoD0cuAR4KJSwSFpNPA74NXAKmAJMDsi\n7kiPz4+IWRX7+QowLyJuqXUsd8c1s0a5jaPx7rh5ahxDEhGLJE2pSN4fWJ5qGEi6FDgKuKPy9com\nyfo8cHW1QkPSiWSz9zJp0qSWxm5mw18rJkAcafJMOVKEiWRjQkpWARMljZd0LrCfpI+lx94HvAqY\nJemkyh1FxJyI6IuIvgkTJhQeuJnZSJdnHMeBEfHLwdJaISLWAidVpJ0NnD1IjF4B0MysTfLUOL6W\nM60RDwC7l93fLaU1xSsAmg0fAyvXcc7C5Qys7LpZjSypWeOQdADwUmCCpNPKHtqBrCfUUCwB9pI0\nlazAOAZ4S7M7c43DbHjwuIreUK/GMRbYjqxw2b7s9hAwq87rnkLSJcBNwD6SVkk6PiI2AacA15Ct\nYX5ZRNzeXBZc4zAbLjyuojfUrHFExA1kizjNjYiVzR4gImbXSF9AtrbHkLnGYTY8eFxFb6g5jkPS\nQcC0iLgo3Z8P7Jwe/kxE/Lw9IebncRxmvc/jKtqvleM4Pk3WFbZkH+A4YFvg40DXFByucZgNHx5X\n0f3qtXHsUBrJndwTEQMRsYisraNruI3DzKx96tU4diq/ExFHl919VjHhmFmvG1i5jstvWUUAb3jx\nbq49DEP1Co67JL02In5SnijpCODuYsNqjC9VmXWHgZXrmH1+1p0WYH7//Vxy4gEuPIaZegXHB4Gf\nSJoFlOaImk42tuOIogNrRERcBVzV19d3QqdjMRvJFq9Yy8ZNW1Zd2PhE5FpDw3pLzTaOiFgOvIhs\nmdgp6bYIeFFE/K4dwZlZb5kxbTxjttlyWhkzWu5SOwwVPq16O5Rdqjrhnnvu6XQ4ZiOa2zh6T6Pd\nceuN4/hxRNS9JJXnOe3kcRxmZo1r5TiOgyRdWe9YwL65IzOzEckD+oafegXHUTlev6FVgZjZ8ONJ\nC4enweaq6gnujmvWnapNWuiCo/d1agXAlvLIcbPuVJq0cLTwpIXDSOFrjpvZyDV98jjmvXuG2ziG\nGRccZlYoT1o4/NRbAXAhUGuQR0TEK4sJyczMulm9GseHqqTNAD4CrC4mHDOz6tytt3vU61U1UNqW\n9E/AJ4GnAydFxNVtiM3MekiRJ3Z36+0udds4JL0G+ATwOPDZiFjYlqga5O64Zp1V9Ind3Xq7S83u\nuJKWAOcBl5Jdnlov6cWlW7sCzMPdcc06q9qJvZXcrbe71KtxPAo8AswC3kA2xUhJAK8oMC4za1In\n2gJKJ/aNmzYXcmJ3t97uMixmxy3xJIc20nWyLcCN172rZZMcSnorWcHy3Yr0twFPRMTFzYdpZkXo\nZFuAx2uMHPWmHHkf8MMq6ZcDpxcTjpkNRVFtAQMr13HOwuUMrFzXkv1Zb6vXxjEmIh6pTIyIRyWN\naXUgkqYBZwI7RsSsWmlmVlsRbQHuCmuV6tU4niFp28pESdsDY/PsXNKFklZLWlaRfpikuyUtl3QG\nQESsiIjjy59XLc3M6ps+eRwnH7Jny07uRfeYst5Tr+D4FjBf0uRSgqQpZN1zv5Vz/3OBw8oTJI0G\nzgEOJ1sIarYkLwhl1qXcFdYq1Rs5/mVJjwCLJG1H1h33YeDzEfHNPDuPiEWpsCm3P7A8IlYASLqU\nbNGoOxoP38yK5q6wVqnuehwRcW5ETAamAJMjYnLeQqOOicD9ZfdXARMljZd0LrCfpI8BVEurJOlE\nSf2S+tesWTPE0MysmlZf/rLeVq877mkVSSHpz8AvIuLeVgcSEWuBkwZLq/K6OZL+CMwcO3bs9FbH\nZWZmT1WvxrF9xW0HoA+4WtIxQzjmA8DuZfd3S2lN85QjZmbtU6+N49PV0iXtDPwPWSN5M5YAe0ma\nSlZgHAO8pcl9lWLyJIdmbeDR4QZNrDkeEQ/y1HmrapJ0CXATsI+kVZKOj4hNwCnANcCdwGURcXuj\ncVTE5BqHWZkiBuyVxnN85Wd3c+wFiz0YcARreOlYSYcAuT4xETG7RvoCYEGjx64Tk2scZklRA/Y8\ntbmV1GscX8rWS8fuDPwBeHuRQTUqIq4Crurr6zuh07GYtUqzl4WKOsEXPQOu9Y56NY4jKu4HsDYi\nHi0wHjNjaLWGok7wHs9hJfUKjoerpD1N0tPgybaOruBLVTbc1Ko15KmFFHmC9wy4BvULjgGyWka1\nhvAAphUSURN8qcqGm2q1hkZqIT7BW5Hqdced2s5AhsI1DhtuqtUazlm4fNC2C3eXtXZouFdVN3KN\nw4ajylrDYG0Xnv7c2mVYFBxmI8FgbRfuLmvt4oLDrIfUa7twd1lrl1wFh6SDgL0i4tuSJgDbFTHR\nYbPcxmHm7rLWPoqoHONX8QTpLLLJDfeJiL0lPQf4QUQc2I4AG9HX1xf9/f2dDsPMrKdIGoiIvrzP\nzzNX1euBI4FHASLiD2Sz5ZpZlylijiqzSnkuVW2IiJAUANXWITezznOvKmuXPDWOyySdB+wk6QSy\nKdXPLzasxkiaKWnO+vXrOx2KWcdU61VlVoRBC46I+DIwH/hvYB/gUxHxtaIDa4SnVTfb0qtqtHCv\nKitUrl5VEXEtcG3BsZjZELhXlbXLoAWHpKOBLwC7ks1bJSAiYoeCYzOzBnmOKmuHPDWOLwIzI+LO\nooMxG248d5QNR3kKjj+50DBrnHs52XBVbwXAo9Nmv6TvA1cAj5cej4jLC44tN48ct1ZpZQ2h0bmj\nXDuxXlGvxjGzbPuvwKFl9wPomoLDs+NaK7S6htDI3FGunVgvqbcexzsBJB0YEb8sf0xS1003YjZU\nrZ5dtpFeTp7Z1npJnjaOrwEvzpFm1tPyrHfR6KWkvL2cPLOt9ZJ6bRwHAC8FJkg6reyhHYDRRQdm\n1m71aghFX0ryGAzrJfVqHGOB7dJzyic1fAiYVWRQZp1Sq4bQjktJHoNhvaJeG8cNwA2S5kbEyjbG\nZNZ1fCnJbItB2zjaVWhImgacCewYEbNS2rbAN4ANwPURMa8dsZhV8qUksy3yzI7bNEkXSlotaVlF\n+mGS7pa0XNIZABGxIiKOr9jF0cD8iDiBbE0Qs46ZPnkcJx+SjRXymhc2khW95vhc4OvARaUESaOB\nc4BXA6uAJZKujIg7qrx+N2Bp2n6i2FDNBufxFmY5ahySpkr6qqTLJV1ZuuXZeUQsAh6sSN4fWJ5q\nGBuAS4GjauxiFVnhUTNWSSdK6pfUv2bNmjxhmTXNa16Y5atxXAF8C7gK2NyCY04E7i+7vwp4iaTx\nwGeB/SR9LCI+RzY6/euSXpuOv5WImAPMgWzN8RbEZ1aTG8nN8hUcf4uIs4sOJCLWAidVpD0KvHOw\n13quKmsXN5Kb5Ss4/kvSWcDPeOokh7c0ecwHgN3L7u+W0prmuaqsnTzewka6PAXHC4G3Aa9gy6Wq\nSPebsQTYS9JUsgLjGOAtTe4LcI3DzKyd8nTHfSMwLSL+KSIOSbdchYakS4CbgH0krZJ0fERsAk4B\nrgHuBC6LiNubzQB4zXEzs3bKU+NYBuwErG505xExu0b6AmBBo/urxTUOM7P2yVPj2Am4S9I1jXbH\nbRfXOMzM2idPjeOswqMYItc4zMzaZ9AaR5rs8C6yGXK3B+5MaV3DNQ4zs/bJM3L8TcCvyRrJ3wTc\nLMnTqpuZjVB5LlWdCfxjRKwGkDQB+B9gfpGBNcKXqszM2idP4/ioUqGRrM35urbxpSozs/bJU+P4\nqaRrgEvS/TfTwq60ZmbWW/Is5PRhSUcDB6WkORHxw2LDaowvVZmZtY8iak8om9bO+J+IOKR9ITWv\nr68v+vv7Ox2GmVlPkTQQEX15n1+3rSIingA2S3LjgZmZAfnaOB4Blkq6Fni0lBgRpxYWlZmZda08\nBcfl6da13MZhZtY+NQsOSddFxCuBfSPio22MqWFej8PMrH3q1TieLemlwJGSLgVU/uAQFnIyM7Me\nVq/g+BTwSbIV+r5a8dhQFnIyM7MeVrPgiIj5wHxJn4yIf29jTGZm1sXyzI7rQsPMzJ7UVXNONUvS\nTElz1q9f3+lQzMyGvWFRcHiSQzOz9slVcEg6SNI70/YESVOLDcvMzLpVnoWczgI+CnwsJY0Bvldk\nUGZm1r3y1DheDxxJmm4kIv5AtoSsmZmNQHkKjg2RTaEbAJK2LTYkMzPrZnkKjssknQfsJOkEsmVj\nLyg2LDMz61Z5FnL6sqRXAw8B+wCfiohrC48MkLQv8K9ky9VelwYlmplZB+VpHP9CRFwbER+OiA9F\nxLWSvtDsASVdKGm1pGUV6YdJulvScklnpOTDga9FxHuBtzd7TDMza508l6peXSXt8CEccy5wWHlC\nWmnwnLTffYHZqbbxXeAYSV8Cxg/hmGZm1iI1Cw5J75W0FNhH0m1lt3uB25o9YEQsAh6sSN4fWB4R\nKyJiA3ApcFRErI6Ik4EzgD83e0wzM2udem0cFwNXA58jO3GXPBwRlSf+oZoI3F92fxXwEklTgI8D\n2wJfqvZCSScCJwJMmjSpxWGZmVmlerPjrgfWA7MBJO0KPB3YTtJ2EfG/RQcXEfeRCoU6z5kj6Y/A\nzLFjx04vOiYzs5EuT+P4TEn3APcCNwD3kdVEWukBYPey+7ultFw8V5WZWfvkaRz/DDAD+F1ETAVe\nCSxucRxLgL0kTZU0FjgGuDLviz07rplZ++QpODZGxFpglKRREbEQ6Gv2gJIuAW4ia3RfJen4iNgE\nnAJcA9wJXBYRt+fdp2scZmbtM+gAQOAvkrYDFgHzJK0mzVvVjIiYXSN9AbCgmX1KmgnM3HPPPZsN\ny8zMcspT4zgKeAz4IPBT4PfAzCKDapRrHGZm7ZNnypFHASTtAFxVeERmZtbVBi04JL0H+DTwN2Az\nILKZcqcVG1p+vlRlZtY+eS5VfQh4QURMiYhpETE1Irqm0ABfqjIza6c8Bcfvgb8WHchQuDuumVn7\nKFujqc4TpP2AbwM3A4+X0iPi1GJDa1xfX1/09/d3Ogwzs54iaSAicg+zyNMd9zzg58BSsjYOMzMb\nwfIUHGMi4rTCIzEzs56Qp43jakknSnq2pJ1Lt8Ija4DbOMzM2idPG8e9VZKj23pWgds4zMya0fI2\njjSxoZmZGVCn4JD0ioj4uaSjqz0eEZcXF5aZmXWrejWOfyLrTVVtXqoAuqbg8MhxM7P2ydPGMTUi\n7h0srRu4jcPMrHGNtnHk6VX131XS5ucPyczMhpN6bRzPBZ4P7FjRzrED2drjZmY2AtVr49gHOALY\niae2czwMnFBkUGZm1r1qFhwR8SPgR5IOiIib2hiTmZl1sTxtHK+XtIOkMZKuk7RG0lsLj6wBHjlu\nZtY+eQqOQyPiIbLLVvcBewIfLjKoRvXCehwDK9dxzsLlDKxc1+lQzMyGJNckh+nva4EfRMR6SQWG\nNPwMrFzHsRcsZsOmzYzdZhTz3j2D6ZPHdTosM7Om5KlxXCXpLmA6cJ2kCWTLyFpOi1esZcOmzWwO\n2LhpM4tXrO10SGZmTRu04IiIM4CXAn0RsZFsNcCjig5sOJkxbTxjtxnFaMGYbUYxY9r4TodkZta0\nQS9VSXom8C/AJOBE4DlkXXV/XGxow8f0yeOY9+4ZLF6xlhnTxvsylZn1tDxtHN8GBshqHQAPAD/A\nBUdDpk8e5wLDzIaFPG0ce0TEF4GNABHxV6AtreOSJkm6QtKFks5oxzHNzKy+PAXHBknPIJsRF0l7\nAI83e8BUCKyWtKwi/TBJd0taXlZIvBCYHxHvAvZr9phmZtY6eQqOs4CfArtLmgdcB3xkCMecCxxW\nniBpNHAOcDiwLzBb0r7AYuB4ST9PMVibeNyJmdWSZwXAayXdAswgu0T1/oj4c7MHjIhFkqZUJO8P\nLI+IFQCSLiXrubUROCu9Zj5Ze8tTSDqRrNGeSZMmNRuWlfG4EzOrJ0+Ng4hYGxE/iYgfD6XQqGMi\ncH/Z/VUp7afAqZLOJRu1Xi22ORHRFxF9EyZMKCC0kcfjTsysnjy9qjomIpYBswZ7nlcAbK3SuJON\nmzZ73ImZbaVbCo4HgN3L7u+W0nKJiKuAq/r6+jzdewt43ImZ1ZNnAOAewKqIeFzSwcCLgIsi4i8t\njGMJsJekqWQFxjHAW/K+2DWO1vO4EzOrJe/SsU9I2hOYQ1YzuLjZA0q6BLgJ2EfSKknHR8Qm4BTg\nGuBO4LKIuD3vPnthdlwzs+Eiz6WqzRGxSdLrga9FxNck/abZA0bE7BrpC4AFzezTNQ4zs/bJU+PY\nKGk28A62TDMyps7z2841DjOz9slTcLwTOAD4bETcm9ohvltsWI3xCoBmZu2jiMj/ZGkcsHtE3FZc\nSM3r6+uL/v7+TodhZtZTJA1ERF/e5w9a45B0fVpzfGfgFuB8SV8dSpBmZta78lyq2jGtOX40WTfc\nlwCvKjasxvhSlZlZ++QpOLaR9GzgTXTpGhxuHDcza588Bce/kY2vWB4RSyRNA+4pNiwzM+tWeWbH\n/QHZin+l+yuANxQZVKM8jsPMrH3yTDnydOB44PnA00vpaXGlruC5qszM2ifPparvAn8HvAa4gWwC\nwoeLDMrMzLpXnoJjz4j4JPBoRHwHeC3wkmLDMjOzbpVrypH09y+SXgDsCOxaXEiNc3dcM7P2yVNw\nzEkjxj8JXAncAXyx0Kga1IruuF5j28wsnzy9qi5ImzcA04oNpzO8xraZWX55elXtBLwdmFL+/Ig4\ntbiw2qvaGtsuOMzMqsuzHscCYDGwFNhcbDid4TW2zczyy1NwPD0iTis8kg7yGttmZvnlKTi+K+kE\nsnmqHi8lRsSDhUXVoFaMHPca22Zm+eTpVbUB+BLZOuED6dZVi154kkMzs/bJU+M4nWwQ4J+LDsbM\nzLpfnhrHcuCvRQdiZma9IU+N41HgVkkLeWobx7DpjmtmZvnlKTiuSDczM7NcI8e/I2kssHdKujsi\nNtZ7jZmZDV+KiPpPkA4GvgPcBwjYHXhHRCwqOrhGSVoDrCSbiLE042G17V2AoTT2l++zmedVSx8s\nzXlqnPOUL915cp4mR8SEHPFmIqLujaz77T5l9/cGBgZ7XSdvwJx620B/q/bfzPOqpQ+W5jw5T86T\n89TJPJXf8vSqGhMRd5fuRMTvgDE5XtdJV+XYbtX+m3letfTB0pynxjlP+dKdp8ZjGcxwzNOT8lyq\nupBsjqrvpaRjgdHRRUvHNkpSf0T0dTqOVnKeeoPz1Bucp/ry9Kp6L3AyUOp+eyPwjVYcvIPmdDqA\nAjhPvcF56g3OUx2D1jjMzMzK1axxSLosIt4kaSmwVekSES8qNDIzM+tKNWsckp4dEX+UNLna4xGx\nstDIzMysKzV0qUrSLsDa8PUtM7MRq2Z3XEkzJF0v6XJJ+0laBiwD/iTpsPaFWDxJL5N0rqQLJP2q\n0/G0gqRJkq6QdKGkMzodTytI2lfSZZK+KWlWp+MZCknTJH1L0vyytG0lfUfS+ZKO7WR8zaiRp63S\nekmNPL0u/Y++L+nQTsbXjBp5el46B86X9N5Bd1JnYEo/cCjwRmAdMCOlPxf4TasGkhR1Ay4EVgPL\nKtIPA+4mm/X3jIrHXge8p9OxtyJPwGuBt6bt73c69hbl6XTgZWn7yk7H3qLP3Pyy7bcBM7vpfzbU\nPNVLGwZ5Ggd8q9P5aXGeRgHfG/R4dQK5tWz7zorHeqHgeDnw4vI3EhgN/B6YBowFfgvsW/b4ZcD2\nnY69FXkCxgMLgZ8D7+x07C3K067AOWQLi/2y07G36DNXXnB8DPiHtH1xp/PTijzVSxsGefoK8OJO\n56dVeQKOBK4G3jLY8eqNHN9ctv1YxWNd38YR2Vxalcvb7g8sj4gVEbEBuBQ4CrJLO8D6iHi4vZHm\n12Ce3gmcFRGvIKt9dKVG8hQRqyPiZOAMhjaPUCEa/cxVsQrYLW3nmdWhcC3IU9cZap6U+QJwdUTc\nUmy0+bTi/xQRV0bE4WSDvOuq9+H8e0kPSXoYeFHaLt1/4aA56U4TgfvL7q9KaQDHA99ue0RDVytP\nPwVOlXQu2QSVvaRqniRNkTQHuIis1tELauVlfPrf7CfpY+mxy4E3SPomBUwT0UK581Qjn92okf/T\n+4BXAbMkndTmOBvRyP/pYElnSzoPWDDYjmuO44iI0UMMuqdExFmdjqGVImIZ0NMNyJUi4j7gxE7H\n0QoRsRY4qSLtUbKaYk+qkaet0npJjTydDZzdmYiGrkaergeuz7uPrqgOt9EDZNPCl+yW0nqZ89Td\nhlNeSpyn3lBYnkZawbEE2EuEgga7AAAJh0lEQVTS1LQ41THAlR2Oaaicp+42nPJS4jz1huLy1One\nAAX2MrgE+COwkeza3vEp/Z+B35H1Njiz03E6T8MnT8MpL86T81Tv5kkOzcysISPtUpWZmQ2RCw4z\nM2uICw4zM2uICw4zM2uICw4zM2uICw4zM2uIC442kfSEpFsl/VbSLZJemtKf06trFZRLaxTsW3b/\n3yS9qgX73UnSvzTxujdKulPSwqHGkONYh0vql3SHpN9I+kpKn5t33ZDB1oGR9PFWxNpKab2euyUd\nWZZ2mqS7JC1Nn/WvShqTHmt5HiQdJ+k5Ld7nkYOtYZPmdvpxjcc+IOmZZfcXSnpEUl8r4+yoTg9c\nGSk34JGy7dcAN3Q6phbnby4wq4D9TqFijYGcr/spcFCV9G1aHN8LyAZXPTfdHw28N+97kjee8s9P\nt9zI5jbqK7t/Unrfd0r3x5LNZLxDUXmojKGNeT8Y+HGNx+4DdumGOAvLf6cDGCm3ioLjjcAVafvJ\nEyPwdLIZepcCvwEOSenHAVcA16YP5SnAaek5i4Gd0/NOIJtm4LfAfwPPLDvespS+KKU9H/g1cCtw\nG7BXlZgPBW4CbgF+AGyX0j8P3JFe92XgpWRTOt+b9rdH+Ukzxfy59Fg/2boB16QT7knpOdsB16Vj\nLSWbRh2yqaAfS6/9Ukr7cMrnbcCnq8T9KeARsgVsvpTevyvJ1ia5AVBKX5aO9eb0uoPT4z8CVqR8\nHpvep6XAHlWOdRHwrhr/87lkk+H9Ku1vVtlxbkwx/a788wE8G1iU8rsMeFmK44mUNi89761l/7/z\ngNGl/QCfTf/rxcCz6nwGRqf3ofRevqcsvuuB+cBdwDzSMtMV+buepxYc9wNTa7wXW+Wh4vvw1bT9\nfmBF2p5GWncFmJ7+NwNkn51nk03iWfo/3wo8o2yfuwIDafvvyZaCmJTu/x54JjCB7HuyJN0OLPu+\nfT1t75Hex6XAZ8r+T1XfI+BUYEN6/sJa71Wv3zoewEi5lX1p7gLWA9NT+hS2FBynAxem7ecC/0tW\nmBxHtoLX9unDvp4tJ9z/B3wgbY8vO95ngPel7aXAxLRd+jX4NeDYtD22/EuX0nYhO4Ftm+5/lOyE\nPD59UVWxv7mU/bpm64LjvWXx3laWlz+l9G3Y8st0l5RfUVHjICvM5qTHRgE/Bl5e5f1+8oua3r9V\nbClg30BWCI8GnpXe52enk8Ff0vbTyCaE+3R6zfuB/6xynFuAv6/xP59LVuCOIluIanlKPxh4lLKT\nLFtOSKeTpoZI8W1f/njafh7ZtOtj0v1vAG9P28GWVQS/CHyizmfgxLLHn0ZWqE9N8a0nmxRvFNmP\nh2q1t/L3eAdg3SDfgao1DuDvgCVpez7ZSXwi8A6yHxxjyArfCek5b2bL9+TJGKrs9/YU1ylpn8cC\nk4Gb0uMXl/IFTCItWMdTC44fA7PT9kk8teCo+h4xAmocNadVt5Z7LCL+AUDSAcBFkl5Q8ZyDyE7o\nRMRdklYCe6fHFka2yNTDktazZb2GpcCL0vYLJH0G2InsF/w1Kf2XwFxJl5Gt+QDZB/1MSbsBl0fE\nPRWxzCA72f1SEmSFy01kX5a/Ad9K13irXuetojS52lKymkspL49L2onsRPofkl5OtojYRLKTeqVD\n0+036f52wF5khVw910ZEaaGbg4BLIuIJ4E+SbgD+EXiI7AT2RwBJvwd+Vhb3ITnzWu6KiNgM3CGp\nPD+/joh7qzx/CXBhahe4IiJurfKcV5L9Al+S/jfPIFs2FLJfu6X/yQDw6rRd7TNwKNlaO6V2mB3J\n3ssNKb5VAJJuJSvAf5E305JeA3yB7LP4loio2YYTEf8naTtJ25PN5nox2Yp2L0ux7kN2SfDalN/R\nZPMyDeZXwIFpX/9BtoyqyGp7kK2psW/aJ8AOkrar2McBZEtKk+L6ctljQ3qPepkLjg6IiJsk7UL2\nizuvx8u2N5fd38yW/+Nc4HUR8VtJx5H9KiIiTpL0ErKVAAckTY+IiyXdnNIWSHpPRPy87BgiO9nO\nrgxE0v5kJ69ZZL/mXtFA/OWxl8d/LNn7MT0iNkq6j6y2tdXhgc9FxHk5jlnu0ZzPy/M+l7ud7CT+\n2xz7U9l21XgiYlEqPF9LdqL/akRcVPE0Ad+JiGoLI22M9BOXrJa7TdrvVp+BtJ/3RcQ15TuQdHBF\n3E/up5aIeCg1AE+NiHvTPq9JPy7G1ntt8iuytUjuJjuxv4vspH06WW3g9og4IMd+yi0iK3wmk11+\n/ChZjewn6fFRwIyI+Fv5i8oKksE09B4NJ+5V1QGSnkv2q2ltxUM3kpZtlLQ32Rfm7gZ2vT3wx/Rr\n9cnlHyXtERE3R8SngDXA7pKmkV1LPpvsS/Wiin0tBg6UtGfax7aS9k6/yHaMiAXAB8muHwM8nI7f\nrB2B1anQOITsy15tv9cA7yr9MpQ0UdKuDR7rRuDNkkZLmkD2i/TXTcb9JeDj6f+FpFEawqpwkiaT\nXb47H7iArD0IYGOpdxJZW9CsUr4l7ZxeV2+/W30GyN7L95b1etpb0rbNxk52WembqQaJsjNweeFf\nnodKNwIfIjvZ/4asdvd4RKwn+w5MSDV1JI2R9Pz0unqfuxvJ2oLuSbW+B8lmiy3VCn5Gtpofab//\nUGUfi8kubUI2LXkeQ/0udL0RU0J2gWek6ixkv/TeERFPVPy6+QbZF28psAk4LiIeb+AX0CeBm8lO\nDDez5cP7JUl7peNeR/br+KPA2yRtBP6PrCr/pIhYk2otl0h6Wkr+BNmX4keSnp72d1p67FLgfEmn\n0tzKg/OAq1Le+8nagoiItZJ+KWkZ2RrPH5b0POCm9L48QnZyWF1jv9X8kOzX7G/JfoF+JF0ueW6j\nQUfEbZI+QPY+PTPtL+/lu2oOBj6c/i+PAG9P6XOA2yTdEhHHSvoE8DNJo8im0j4ZWFlnv9U+A7eR\nXV65JZ3k17DlskwzvglsC9ws6fEU/y/ZclnxKXmoeO2NZIXZovS9uJ8tn4EN6XLa2ZJ2JDtv/SdZ\nbW8ucK6kx4ADIuKx0g4j4r6Ur9JlzF8Au0XEunT/VOAcSbelfS5i69UKPwB8T9KZZD3G1ud4H+YA\nP5X0h4ho5vJm1/O06mbWFEnXAx+KiP5Ox1KU9GPgsYgISceQNZQf1cR+rmcYvVe+VGVmzXqQrB3m\nyEGf2bumA7emWsm/kLW5NETZINRpZDXDYcE1DjMza4hrHGZm1hAXHGZm1hAXHGZm1hAXHGZm1hAX\nHGZm1hAXHGZm1pD/D1Xtsds8kSq2AAAAAElFTkSuQmCC\n",
      "text/plain": [
<<<<<<< HEAD
       "<matplotlib.figure.Figure at 0x7f7371446048>"
=======
       "<matplotlib.figure.Figure at 0x7fa29a4d2ac8>"
>>>>>>> de97e135b83bddc2e4465a25f6e49013f306586b
      ]
     },
     "metadata": {},
     "output_type": "display_data"
    }
   ],
   "source": [
    "# Load IUCN data\n",
    "comparison_data = pd.read_excel('marine_mammal_data.xlsx',index_col=0)\n",
    "\n",
    "# IUCN values reported in tons, convert to grams\n",
    "comparison_data['Biomass estimate from IUCN'] *=1e6\n",
    "comparison_data['Biomass estimate from Christensen'] *=1e6\n",
    "\n",
    "# Plot data\n",
    "plt.loglog(comparison_data['Biomass estimate from Christensen'],comparison_data['Biomass estimate from IUCN'],'.')\n",
    "plt.xlabel('Biomass estimate from Christensen [Gt wet weight]')\n",
    "plt.ylabel('Biomass estimate from the IUCN [Gt wet weight]')\n",
    "\n",
    "# Generate best estimate from the IUCN data by summing across all species and converting to carbon mass\n",
    "best_IUCN = comparison_data['Biomass estimate from IUCN'].sum()*wet_to_c\n",
    "print('The correlation coefficient between Christensen and the IUCN data is ≈%.2f' %(comparison_data.corr(method='spearman').iloc[0,1]))\n",
    "\n",
    "# Calculate the inter-study uncertainty\n",
    "marine_inter_CI = geo_CI_calc(np.array([best_IUCN,best_christensen]))\n",
    "print('The inter-study uncertainty between Christensen and the IUCN data is ≈%.1f-fold' %marine_inter_CI)"
   ]
  },
  {
   "cell_type": "markdown",
   "metadata": {},
   "source": [
    "As our best projection of the uncertainty associated with our estimate of the total biomass of wild marine mammals, we use the higher uncertainty out of the intra-study and intra-study uncertainties:"
   ]
  },
  {
   "cell_type": "code",
<<<<<<< HEAD
   "execution_count": 12,
   "metadata": {},
   "outputs": [
    {
     "ename": "SyntaxError",
     "evalue": "invalid syntax (<ipython-input-12-d2c8bb5747f4>, line 1)",
     "output_type": "error",
     "traceback": [
      "\u001b[0;36m  File \u001b[0;32m\"<ipython-input-12-d2c8bb5747f4>\"\u001b[0;36m, line \u001b[0;32m1\u001b[0m\n\u001b[0;31m    marine_mammal_CI = np.max([,marine_intra_CI])\u001b[0m\n\u001b[0m                               ^\u001b[0m\n\u001b[0;31mSyntaxError\u001b[0m\u001b[0;31m:\u001b[0m invalid syntax\n"
     ]
    }
   ],
   "source": [
    "marine_mammal_CI = np.max([,marine_intra_CI])"
   ]
  },
  {
   "cell_type": "markdown",
   "metadata": {},
   "source": [
    "To generate our projection of the total uncertainty associated with our estimate of the total biomass of wild mammals, we combine our uncertainties associated with our estimates for the total biomass of wild land and marine mammals:"
   ]
  },
  {
   "cell_type": "code",
   "execution_count": null,
   "metadata": {},
   "outputs": [],
   "source": [
    "mul_CI = CI_sum_prop(np.array([best_wild_mammals,best_christensen]), np.array([land_mammal_CI,marine_mammal_CI]))\n",
    "print('Our best projection for the uncertainty associated with our estimate of the total biomass of wild mammals is ≈%.1f-fold'%mul_CI)"
   ]
  },
  {
   "cell_type": "markdown",
   "metadata": {},
   "source": [
    "# Prehuman wild mammal biomass\n",
    "We can compare our estimates for the present day biomass of wild mammals with estimates of the prehuman biomass of wild land and marine mammals. For wild land mammals, we use the estimate of the prehuman biomass of wild land mammals reported in Barnosky of:"
   ]
  },
  {
   "cell_type": "code",
   "execution_count": null,
   "metadata": {},
   "outputs": [],
   "source": [
    "# Taken from figure 3 in Barnosky\n",
    "prehuman_barnosky_biomass = 10**11.165*1000*wet_to_c \n",
    "\n",
    "print('Based on the data in Barnosky, we estimate wild land mammal biomass decreased ≈%.1f-fold' %(prehuman_barnosky_biomass/best_land_mammal_biomass))"
   ]
  },
  {
   "cell_type": "markdown",
   "metadata": {},
   "source": [
    "For marine mammals, we rely on estimates by Christensen on values of wild marine mammals in 1800 before commercial whaling:"
   ]
  },
  {
   "cell_type": "code",
   "execution_count": null,
   "metadata": {},
   "outputs": [],
   "source": [
    "prehuman_marine_biomass = christensen.loc[1800,'Mean']*wet_to_c\n",
    "\n",
    "print('Based on the data in Christensen, we estimate wild marine mammal biomass decreased ≈%.1f-fold, with a range of between ≈%.1f-fold and ≈%.1f-fold' %((prehuman_marine_biomass/best_christensen),(christensen.loc[1800,'Max']/christensen.loc[2000,'Min']) ,(christensen.loc[1800,'Min']/christensen.loc[2000,'Max'])))"
   ]
  },
  {
   "cell_type": "markdown",
   "metadata": {},
   "source": [
    "Overall, we can combine the estimates for the prehuman wild land and marine mammal biomass and estimate the reduction in total biomass of wild mammals between prehuman and present values:"
   ]
  },
  {
   "cell_type": "code",
   "execution_count": null,
   "metadata": {},
   "outputs": [],
   "source": [
    "prehuman = prehuman_barnosky_biomass + prehuman_marine_biomass\n",
    "\n",
    "print('Our best estimate for the fold reduction in the biomass of wild mammals between prehuman and present values is ≈%.1f-fold' %(prehuman/best_wild_mammals))"
=======
   "execution_count": 4,
   "metadata": {},
   "outputs": [
    {
     "data": {
      "text/plain": [
       "2.2662845902526554"
      ]
     },
     "execution_count": 4,
     "metadata": {},
     "output_type": "execute_result"
    }
   ],
   "source": [
    "best_estimate = best_christensen+best_land_mammal_biomass\n",
    "marine_mammal_CI = np.max([geo_CI_calc(np.array([best_IUCN,best_christensen])),christensen.loc[2000,'Max']/christensen.loc[2000,'Mean']])\n",
    "mul_CI = CI_sum_prop(np.array([best_estimate,best_christensen]), np.array([land_mammal_CI,marine_mammal_CI]))\n",
    "mul_CI"
>>>>>>> de97e135b83bddc2e4465a25f6e49013f306586b
   ]
  },
  {
   "cell_type": "code",
<<<<<<< HEAD
   "execution_count": null,
   "metadata": {
    "collapsed": true
   },
   "outputs": [],
=======
   "execution_count": 5,
   "metadata": {},
   "outputs": [
    {
     "name": "stderr",
     "output_type": "stream",
     "text": [
      "/usr/local/lib/python3.5/dist-packages/ipykernel/ipkernel.py:196: PerformanceWarning: indexing past lexsort depth may impact performance.\n",
      "  res = shell.run_cell(code, store_history=store_history, silent=silent)\n",
      "/usr/local/lib/python3.5/dist-packages/IPython/core/interactiveshell.py:2683: PerformanceWarning: indexing past lexsort depth may impact performance.\n",
      "  interactivity=interactivity, compiler=compiler, result=result)\n"
     ]
    }
   ],
>>>>>>> de97e135b83bddc2e4465a25f6e49013f306586b
   "source": [
    "# Feed results to the chordate biomass data\n",
    "old_results = pd.read_excel('../../animal_biomass_estimate.xlsx',index_col=0)\n",
    "result = old_results.copy()\n",
    "result.loc['Wild mammals',(['Biomass [Gt C]','Uncertainty'])] = (best_estimate/1e15,mul_CI)\n",
    "result.to_excel('../../animal_biomass_estimate.xlsx')\n",
    "\n",
    "# Feed results to Table 1 & Fig. 1\n",
    "update_results(sheet='Table1 & Fig1', \n",
    "               row=('Animals','Wild mammals'), \n",
    "               col=['Biomass [Gt C]', 'Uncertainty'],\n",
    "               values=[best_estimate/1e15,mul_CI],\n",
    "               path='../../../results.xlsx')\n",
    "\n",
    "\n",
    "# Feed results to Fig. 2A\n",
    "update_results(sheet='Fig2A', \n",
    "               row=('Terrestrial','Wild land mammals'), \n",
    "               col=['Biomass [Gt C]', 'Uncertainty'],\n",
    "               values=[best_land_mammal_biomass/1e15,land_mammal_CI],\n",
    "               path='../../../results.xlsx')\n",
    "\n",
    "update_results(sheet='Fig2A', \n",
    "               row=('Marine','Wild marine mammals'), \n",
    "               col=['Biomass [Gt C]', 'Uncertainty'],\n",
    "               values=[best_christensen/1e15,marine_mammal_CI],\n",
    "               path='../../../results.xlsx')"
   ]
  }
 ],
 "metadata": {
  "kernelspec": {
   "display_name": "Python 3",
   "language": "python",
   "name": "python3"
  },
  "language_info": {
   "codemirror_mode": {
    "name": "ipython",
    "version": 3
   },
   "file_extension": ".py",
   "mimetype": "text/x-python",
   "name": "python",
   "nbconvert_exporter": "python",
   "pygments_lexer": "ipython3",
   "version": "3.6.3"
  }
 },
 "nbformat": 4,
 "nbformat_minor": 2
}
