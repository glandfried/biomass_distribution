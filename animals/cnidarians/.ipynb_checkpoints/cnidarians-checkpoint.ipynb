{
 "cells": [
  {
   "cell_type": "markdown",
   "metadata": {},
   "source": [
    "# Estimating the biomass of Cnidarians\n",
    "To estimate the total biomass of cnidarians, we combine estimates for two main groups which we assume dominate the biomass of cnidarains = planktonic cnidarians (i.e. jellyfish) and corals. We describe the procedure for estimating the biomass of each group\n",
    "\n",
    "## Planktonic cnidarians\n",
    "Our estimate of the total biomass of plaktonic cnidarians is based on [Lucas et al.](http://dx.doi.org/10.1111/geb.12169), which assembled a large dataset of abundance mauresments of different dypes of gelatinous zooplankton. Globally, they estimate ≈0.04 Gt C of gelatinous zooplankton, of which 92% are contributed by cnidarians. Therefore, we estimate the total biomass of planktonic cnidarians at ≈0.04 Gt C.\n"
   ]
  },
  {
   "cell_type": "code",
   "execution_count": 1,
   "metadata": {
    "collapsed": true
   },
   "outputs": [],
   "source": [
    "planktonic_cnidarian_biomass = 0.04e15"
   ]
  },
  {
   "cell_type": "markdown",
   "metadata": {},
   "source": [
    "## Corals\n",
    "The procedure we take to estimate the total biomass of corals in coral reefs is to first calculate the total surface area of coral tissue globally, and then convert this value to biomass by the carbon mass density of coral tissue per unit surface area. We estimate the total surface area of corals worldwide using two approaches. \n",
    "\n",
    "The first approach estimates the total surface area of corals using the total area of coral reefs from [Harris et al.](http://dx.doi.org/10.1016/j.margeo.2014.01.011). "
   ]
  },
  {
   "cell_type": "code",
   "execution_count": 2,
   "metadata": {
    "collapsed": true
   },
   "outputs": [],
   "source": [
    "# Total surface area of coral reefs\n",
    "coral_reef_area = 0.25e12"
   ]
  },
  {
   "cell_type": "markdown",
   "metadata": {},
   "source": [
    "We estimate that 20% of the reef area is covered by corals based on [De'ath et al.](http://dx.doi.org/10.1073/pnas.1208909109)."
   ]
  },
  {
   "cell_type": "code",
   "execution_count": 3,
   "metadata": {
    "collapsed": true
   },
   "outputs": [],
   "source": [
    "# Coverage of coral reef area by corals\n",
    "coverage = 0.2"
   ]
  },
  {
   "cell_type": "markdown",
   "metadata": {},
   "source": [
    "This gives us the projected area of corals. Corals have a complex 3D structure that increases their surface area. To take this effect into account, we use a recent study that estimated the ratio between coral tissue surface area and projected area at ≈5 ([Holmes & Glen](http://dx.doi.org/10.1016/j.jembe.2008.07.045))."
   ]
  },
  {
   "cell_type": "code",
   "execution_count": 4,
   "metadata": {
    "collapsed": true
   },
   "outputs": [],
   "source": [
    "# The conversion factor from projected surface area to actual surface area\n",
    "sa_3d_2a = 5"
   ]
  },
  {
   "cell_type": "markdown",
   "metadata": {},
   "source": [
    "Multiplying these factors, we get an estimate for the total surface area of corals:"
   ]
  },
  {
   "cell_type": "code",
   "execution_count": 5,
   "metadata": {},
   "outputs": [
    {
     "name": "stdout",
     "output_type": "stream",
     "text": [
      "Our estimate of the global surface area of corals based on our first method is ≈2.5×10^11 m^2\n"
     ]
    }
   ],
   "source": [
    "# Calculate the total surface area of corals\n",
    "method1_sa = coral_reef_area*coverage*sa_3d_2a\n",
    "\n",
    "print('Our estimate of the global surface area of corals based on our first method is ≈%.1f×10^11 m^2' % (method1_sa/1e11))"
   ]
  },
  {
   "cell_type": "markdown",
   "metadata": {},
   "source": [
    "The second approach uses an estimate of the global calcification rate in coral reefs based on [Vecsei](http://dx.doi.org/10.1016/j.gloplacha.2003.12.002). "
   ]
  },
  {
   "cell_type": "code",
   "execution_count": 6,
   "metadata": {
    "collapsed": true
   },
   "outputs": [],
   "source": [
    "# Global annual calcufocation rate of  corals [g CaCO3 yr^-1]\n",
    "annual_cal = 0.75e15"
   ]
  },
  {
   "cell_type": "markdown",
   "metadata": {},
   "source": [
    "We divide this rate by the surface area specific calcification rate of corals based on values from [McNeil](http://dx.doi.org/10.1029/2004GL021541) and [Kuffner et al.](http://dx.doi.org/10.1007/s00338-013-1047-8). Our best estimate for the surface area specific calcification rate is the geometric mean of values from the two sources above."
   ]
  },
  {
   "cell_type": "code",
   "execution_count": 7,
   "metadata": {},
   "outputs": [
    {
     "name": "stdout",
     "output_type": "stream",
     "text": [
      "Our estimate of the global surface area of corals based on our second method is ≈0.6×10^11 m^2\n"
     ]
    }
   ],
   "source": [
    "from scipy.stats import gmean\n",
    "# Surface area specific calcification rate from McNeil, taken from figure 1 [g CaCO3 m^-2 yr^-1]\n",
    "mcneil_cal_rate = 1.5e4\n",
    "\n",
    "# Surface area specific calcification rate from Kuffner et al., taken from first\n",
    "# Sentence of Discussion [g CaCO3 m^-2 yr^-1]\n",
    "kuffner_cal_rate = 0.99e4\n",
    "\n",
    "# Our best estimate for the surface area specific calcification rate is the geometric mean of the two values\n",
    "best_cal_rate = gmean([mcneil_cal_rate,kuffner_cal_rate])\n",
    "\n",
    "# Calculate the surface area of corals\n",
    "method2_sa = annual_cal/best_cal_rate\n",
    "\n",
    "print('Our estimate of the global surface area of corals based on our second method is ≈%.1f×10^11 m^2' % (method2_sa/1e11))"
   ]
  },
  {
   "cell_type": "markdown",
   "metadata": {},
   "source": [
    "As our best estimate for the global surface area of corals we use the geometric mean of the estimates from the two methods:"
   ]
  },
  {
   "cell_type": "code",
   "execution_count": 8,
   "metadata": {},
   "outputs": [
    {
     "name": "stdout",
     "output_type": "stream",
     "text": [
      "Our best estimate of the global surface area of corals is ≈1.2×10^11 m^2\n"
     ]
    }
   ],
   "source": [
    "best_sa = gmean([method1_sa,method2_sa])\n",
    "print('Our best estimate of the global surface area of corals is ≈%.1f×10^11 m^2' % (best_sa/1e11))"
   ]
  },
  {
   "cell_type": "markdown",
   "metadata": {},
   "source": [
    "To convert the total surface area to biomass, we use estimates for the tissue biomass per unit surface area of corals from [Odum & Odum](http://dx.doi.org/10.2307/1943285):"
   ]
  },
  {
   "cell_type": "code",
   "execution_count": 9,
   "metadata": {},
   "outputs": [
    {
     "name": "stdout",
     "output_type": "stream",
     "text": [
      "Our best estimate for the biomass of corals is ≈0.05 Gt C\n"
     ]
    }
   ],
   "source": [
    "# Tissue biomass based on Odum & Odum [g C m^-2]\n",
    "carbon_per_sa = 400\n",
    "\n",
    "# Multiply our best estimate for the surface area of corals by the tissue biomass\n",
    "coral_biomass = best_sa*carbon_per_sa\n",
    "\n",
    "print('Our best estimate for the biomass of corals is ≈%.2f Gt C' %(coral_biomass/1e15))"
   ]
  },
  {
   "cell_type": "markdown",
   "metadata": {},
   "source": [
    "An important caveat of this analysis is that it doesn’t include contribution of corals outside coral reefs, like those located in seamounts. Nevertheless, we account for this biomass of corals which are out of formal coral reefs when calculating the total benthic biomass.\n",
    "\n",
    "Our best estimate of the total biomass of cnidarians is the sum of the biomass of planktonic cnidarians and corals:"
   ]
  },
  {
   "cell_type": "code",
   "execution_count": 10,
   "metadata": {},
   "outputs": [
    {
     "name": "stdout",
     "output_type": "stream",
     "text": [
      "Our best estimate for the biomass of cnidarians is ≈0.1 Gt C\n"
     ]
    }
   ],
   "source": [
    "best_estiamte = planktonic_cnidarian_biomass + coral_biomass\n",
    "\n",
    "print('Our best estimate for the biomass of cnidarians is ≈%.1f Gt C' %(best_estiamte/1e15))"
   ]
  }
 ],
 "metadata": {
  "kernelspec": {
   "display_name": "Python 3",
   "language": "python",
   "name": "python3"
  },
  "language_info": {
   "codemirror_mode": {
    "name": "ipython",
    "version": 3
   },
   "file_extension": ".py",
   "mimetype": "text/x-python",
   "name": "python",
   "nbconvert_exporter": "python",
   "pygments_lexer": "ipython3",
   "version": "3.5.2"
  }
 },
 "nbformat": 4,
 "nbformat_minor": 2
}
