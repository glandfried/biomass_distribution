{
 "cells": [
  {
   "cell_type": "code",
   "execution_count": 1,
   "metadata": {},
   "outputs": [],
   "source": [
    "# Load dependencies\n",
    "import pandas as pd\n",
    "import numpy as np\n",
    "from scipy.stats import gmean\n",
    "import sys\n",
    "sys.path.insert(0,'../../statistics_helper/')\n",
    "from excel_utils import *"
   ]
  },
  {
   "cell_type": "markdown",
   "metadata": {},
   "source": [
    "# Estimating the biomass of nematodes\n",
    "To estimate the total biomass of nematodes, we calculate the total biomas of terrestrial and marine nematodes.\n",
    "\n",
    "## Terrestrial nematodes\n",
    "We based our estimate of the biomass of terrestrial nematodes on data collected in a recent study by [Fierer et al.](http://dx.doi.org/10.1111/j.1461-0248.2009.01360.x). Fierer et al. collected data on the biomass density of two major groups on annelids (Enchytraeids & Earthworms) in different biomes. Here is a sample from the data:"
   ]
  },
  {
   "cell_type": "code",
   "execution_count": 2,
   "metadata": {
    "scrolled": true
   },
   "outputs": [
    {
     "data": {
      "text/html": [
       "<div>\n",
       "<style scoped>\n",
       "    .dataframe tbody tr th:only-of-type {\n",
       "        vertical-align: middle;\n",
       "    }\n",
       "\n",
       "    .dataframe tbody tr th {\n",
       "        vertical-align: top;\n",
       "    }\n",
       "\n",
       "    .dataframe thead th {\n",
       "        text-align: right;\n",
       "    }\n",
       "</style>\n",
       "<table border=\"1\" class=\"dataframe\">\n",
       "  <thead>\n",
       "    <tr style=\"text-align: right;\">\n",
       "      <th></th>\n",
       "      <th>Average biomass density [g C m^-2]</th>\n",
       "      <th>Median biomass density [g C m^-2]</th>\n",
       "    </tr>\n",
       "    <tr>\n",
       "      <th>Biome</th>\n",
       "      <th></th>\n",
       "      <th></th>\n",
       "    </tr>\n",
       "  </thead>\n",
       "  <tbody>\n",
       "    <tr>\n",
       "      <th>Boreal forests</th>\n",
       "      <td>0.08</td>\n",
       "      <td>0.06</td>\n",
       "    </tr>\n",
       "    <tr>\n",
       "      <th>Desert</th>\n",
       "      <td>0.01</td>\n",
       "      <td>0.03</td>\n",
       "    </tr>\n",
       "    <tr>\n",
       "      <th>Temperate coniferous forest</th>\n",
       "      <td>0.10</td>\n",
       "      <td>0.06</td>\n",
       "    </tr>\n",
       "    <tr>\n",
       "      <th>Temeprate deciduous forest</th>\n",
       "      <td>0.25</td>\n",
       "      <td>0.05</td>\n",
       "    </tr>\n",
       "    <tr>\n",
       "      <th>Temprate grassland</th>\n",
       "      <td>0.36</td>\n",
       "      <td>0.17</td>\n",
       "    </tr>\n",
       "    <tr>\n",
       "      <th>Tropical forest</th>\n",
       "      <td>0.01</td>\n",
       "      <td>0.01</td>\n",
       "    </tr>\n",
       "    <tr>\n",
       "      <th>Tundra</th>\n",
       "      <td>0.18</td>\n",
       "      <td>0.11</td>\n",
       "    </tr>\n",
       "    <tr>\n",
       "      <th>Native tropical savanna</th>\n",
       "      <td>NaN</td>\n",
       "      <td>NaN</td>\n",
       "    </tr>\n",
       "    <tr>\n",
       "      <th>Tropical pastures</th>\n",
       "      <td>NaN</td>\n",
       "      <td>NaN</td>\n",
       "    </tr>\n",
       "    <tr>\n",
       "      <th>Crops</th>\n",
       "      <td>NaN</td>\n",
       "      <td>NaN</td>\n",
       "    </tr>\n",
       "  </tbody>\n",
       "</table>\n",
       "</div>"
      ],
      "text/plain": [
       "                             Average biomass density [g C m^-2]  \\\n",
       "Biome                                                             \n",
       "Boreal forests                                             0.08   \n",
       "Desert                                                     0.01   \n",
       "Temperate coniferous forest                                0.10   \n",
       "Temeprate deciduous forest                                 0.25   \n",
       "Temprate grassland                                         0.36   \n",
       "Tropical forest                                            0.01   \n",
       "Tundra                                                     0.18   \n",
       "Native tropical savanna                                     NaN   \n",
       "Tropical pastures                                           NaN   \n",
       "Crops                                                       NaN   \n",
       "\n",
       "                             Median biomass density [g C m^-2]  \n",
       "Biome                                                           \n",
       "Boreal forests                                            0.06  \n",
       "Desert                                                    0.03  \n",
       "Temperate coniferous forest                               0.06  \n",
       "Temeprate deciduous forest                                0.05  \n",
       "Temprate grassland                                        0.17  \n",
       "Tropical forest                                           0.01  \n",
       "Tundra                                                    0.11  \n",
       "Native tropical savanna                                    NaN  \n",
       "Tropical pastures                                          NaN  \n",
       "Crops                                                      NaN  "
      ]
     },
     "execution_count": 2,
     "metadata": {},
     "output_type": "execute_result"
    }
   ],
   "source": [
    "# Load the data taken from Fierer et al.\n",
    "data = pd.read_excel('nematode_biomass_data.xlsx','Fierer',skiprows=1,index_col='Biome')\n",
    "data"
   ]
  },
  {
   "cell_type": "markdown",
   "metadata": {},
   "source": [
    "The data in Fierer et al. does not include biomass density of nematodes in savanna, pastures and cropland. We use the geometric mean of values from other biomes as our best estimate for the biomass density of nematodes in these biomes:"
   ]
  },
  {
   "cell_type": "code",
   "execution_count": 3,
   "metadata": {
    "collapsed": true
   },
   "outputs": [],
   "source": [
    "# Calculate the geometric mean of the biomass density across biomes\n",
    "average_biomass_density = gmean(data['Average biomass density [g C m^-2]'].dropna())\n",
    "median_biomass_density = gmean(data['Median biomass density [g C m^-2]'].dropna())\n",
    "\n",
    "# Set the biomass density in the missing biomes as the geometric mean of the biomass density of the\n",
    "# available biomes\n",
    "data.loc['Native tropical savanna','Average biomass density [g C m^-2]'] = average_biomass_density\n",
    "data.loc['Tropical pastures','Average biomass density [g C m^-2]'] = average_biomass_density\n",
    "data.loc['Crops','Average biomass density [g C m^-2]'] = average_biomass_density\n",
    "data.loc['Native tropical savanna','Median biomass density [g C m^-2]'] = median_biomass_density\n",
    "data.loc['Tropical pastures','Median biomass density [g C m^-2]'] = median_biomass_density\n",
    "data.loc['Crops','Median biomass density [g C m^-2]'] = median_biomass_density\n"
   ]
  },
  {
   "cell_type": "markdown",
   "metadata": {},
   "source": [
    "For each biome, Fierer et al. provides an estimate of the average biomass density and the median biomass density. We generate two estimates for the total biomass of annelids, one based on average biomass densities and one based on median biomass densities. The estimate based on the average biomass density is more susceptible to sampling bias, as even a single measurement which is not characteristic of the global population (such as samples which are in non-natural conditions, or samples which have some technical biases associated with them) might shift the average biomass density significantly. On the other hand, the estimate based on median biomass densities might underestimate global biomass as it will reduce the effect of biologically relevant high biomass concentrations. As a compromise between these two caveats, we chose to use as our best estimate the geometric mean of the estimates from the two methodologies.\n",
    "\n",
    "For each biome, we multiply the sum of the biomass density of nematodes by the total area of that biome taken from the book [Biogeochemistry: An analysis of Global Change](https://www.sciencedirect.com/science/book/9780123858740) by Schlesinger & Bernhardt.:"
   ]
  },
  {
   "cell_type": "code",
   "execution_count": 4,
   "metadata": {},
   "outputs": [
    {
     "name": "stdout",
     "output_type": "stream",
     "text": [
      "The total biomass of terrestrial nematodes based on Fierer et al. based on average biomass densities is 0.013 Gt C\n",
      "The total biomass of terrestrial nematodes based on Fierer et al. based on median biomass densities is 0.008 Gt C\n",
      "Our best estimate of total biomass of terrestrial nematodes based on Fierer et al. is 0.01 Gt C\n"
     ]
    }
   ],
   "source": [
    "# Load biome area data\n",
    "area = pd.read_excel('nematode_biomass_data.xlsx','Biome area', skiprows=1, index_col='Biome')\n",
    "\n",
    "# Calculate the total biomass of annelids based on average or median biomass densities\n",
    "total_biomass_mean = (data['Average biomass density [g C m^-2]']*area['Area [m^2]']).sum()\n",
    "total_biomass_median = (data['Median biomass density [g C m^-2]']*area['Area [m^2]']).sum()\n",
    "\n",
    "print('The total biomass of terrestrial nematodes based on Fierer et al. based on average biomass densities is %.3f Gt C' %(total_biomass_mean/1e15))\n",
    "print('The total biomass of terrestrial nematodes based on Fierer et al. based on median biomass densities is %.3f Gt C' %(total_biomass_median/1e15))\n",
    "\n",
    "# Use the geometric mean of the estimate based on the average biomass density and the\n",
    "# estimate based on the median biomass density as our best estimate for the biomass of\n",
    "# nematodes\n",
    "best_terrestrial_biomass = gmean([total_biomass_mean,total_biomass_median])\n",
    "print('Our best estimate of total biomass of terrestrial nematodes based on Fierer et al. is %.2f Gt C' %(best_terrestrial_biomass/1e15))"
   ]
  },
  {
   "cell_type": "markdown",
   "metadata": {},
   "source": [
    "## Marine nematodes\n",
    "Our estimate of the total biomass of marine nematodes is based on data for seafloor biomass from [Wei et al.](http://dx.doi.org/10.1371/journal.pone.0015323). Wei et al. estimate ≈0.1 Gt C of benthic biomass, with ≈13% of that biomass contributed by meiofauna (defined as organisms which are 45µm-1mm in diameter). We assume meiofauna to be dominated by nematodes, (see nematodes section in the Supplementary Information for details regarding this assumption). Thus, we estimate the total biomass of marine nematodes at ≈0.01 Gt C.\n",
    "\n",
    "This estimate does not include biomass contribution from nematodes in benthic environments which are \"hot spots\" (such as marine canyons and seamounts). For more details regarding such contribution, see the other phyla section in the Supplementary Information.\n",
    "\n",
    "Our best estimate for the total biomass of nematodes is the sum of our estimates for the biomass of terrestrial nematodes and marine nematodes:"
   ]
  },
  {
   "cell_type": "code",
   "execution_count": 5,
   "metadata": {},
   "outputs": [
    {
     "name": "stdout",
     "output_type": "stream",
     "text": [
      "Our best estimate of total biomass of nematodes is 0.02 Gt C\n"
     ]
    }
   ],
   "source": [
    "# As noted above, our best estimate for the biomass of marine nematodes is ≈0.01 Gt C\n",
    "best_marine_biomass = 0.014e15\n",
    "\n",
    "# Calculate our best estimate for the biomass of nematodes\n",
    "best_estimate = best_terrestrial_biomass+best_marine_biomass\n",
    "\n",
    "print('Our best estimate of total biomass of nematodes is %.2f Gt C' %(best_estimate/1e15))"
   ]
  },
  {
   "cell_type": "markdown",
   "metadata": {},
   "source": [
    "# Estimating the total number of nematodes\n",
    "We calculate the total number of nematodes by dividing our estimate of the total biomass of nematodes by the carbon content of nematodes, which is ≈0.05 µg C (Fierer et al.):"
   ]
  },
  {
   "cell_type": "code",
   "execution_count": 6,
   "metadata": {},
   "outputs": [
    {
     "name": "stdout",
     "output_type": "stream",
     "text": [
      "Our best estimate for the total number of nematodes is ≈4.8e+20\n"
     ]
    }
   ],
   "source": [
    "# Carbon content of a single nematode based on Fierer et al.\n",
    "carbon_content = 0.05e-6\n",
    "\n",
    "# Calculate the total number of nematodes\n",
    "tot_nematode_num = best_estimate/carbon_content\n",
    "\n",
    "print('Our best estimate for the total number of nematodes is ≈%.1e' %tot_nematode_num)"
   ]
  },
  {
   "cell_type": "code",
   "execution_count": 7,
   "metadata": {},
   "outputs": [],
   "source": [
    "# Feed results to the animal biomass data\n",
    "old_results = pd.read_excel('../animal_biomass_estimate.xlsx',index_col=0)\n",
    "result = old_results.copy()\n",
    "result.loc['Nematodes',(['Biomass [Gt C]','Uncertainty'])] = (best_estimate/1e15,np.nan)\n",
    "result.to_excel('../animal_biomass_estimate.xlsx')\n",
    "\n",
    "# Feed results to Table 1 & Fig. 1\n",
    "update_results(sheet='Table1 & Fig1', \n",
    "               row=('Animals','Nematodes'), \n",
    "               col=['Biomass [Gt C]', 'Uncertainty'],\n",
    "               values=[best_estimate/1e15,None],\n",
    "               path='../../results.xlsx')\n",
    "\n",
    "\n",
    "# Feed results to Table S1\n",
    "update_results(sheet='Table S1', \n",
    "               row=('Animals','Nematodes'), \n",
    "               col=['Number of individuals'],\n",
    "               values=tot_nematode_num,\n",
    "               path='../../results.xlsx')\n",
    "\n",
    "# Feed results to Fig. 2A\n",
    "update_results(sheet='Fig2A', \n",
    "               row=('Terrestrial','Nematodes'), \n",
    "               col=['Biomass [Gt C]'],\n",
    "               values=best_terrestrial_biomass/1e15,\n",
    "               path='../../results.xlsx')\n",
    "\n",
    "# Feed results to Fig. 2A\n",
    "update_results(sheet='Fig2A', \n",
    "               row=('Marine','Nematodes'), \n",
    "               col=['Biomass [Gt C]'],\n",
    "               values=best_marine_biomass/1e15,\n",
    "               path='../../results.xlsx')"
   ]
  }
 ],
 "metadata": {
  "kernelspec": {
   "display_name": "Python 3",
   "language": "python",
   "name": "python3"
  },
  "language_info": {
   "codemirror_mode": {
    "name": "ipython",
    "version": 3
   },
   "file_extension": ".py",
   "mimetype": "text/x-python",
   "name": "python",
   "nbconvert_exporter": "python",
   "pygments_lexer": "ipython3",
   "version": "3.5.2"
  }
 },
 "nbformat": 4,
 "nbformat_minor": 2
}
