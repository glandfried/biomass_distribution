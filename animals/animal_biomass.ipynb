{
 "cells": [
  {
   "cell_type": "code",
   "execution_count": 1,
   "metadata": {
    "collapsed": true
   },
   "outputs": [],
   "source": [
    "# Load dependencies\n",
    "import pandas as pd\n",
    "import numpy as np\n",
    "from scipy.stats import gmean\n",
    "import sys\n",
    "sys.path.insert(0, '../statistics_helper/')\n",
    "from CI_helper import *\n",
    "from excel_utils import *"
   ]
  },
  {
   "cell_type": "markdown",
   "metadata": {},
   "source": [
    "# Estimating the total biomass of animals\n",
    "To estimate the total biomass of animals, we conbine our estimates for the biomass of each animal taxon, which we calculated in each subdirectory. Our estimates for the biomass of each animal taxon are:"
   ]
  },
  {
   "cell_type": "code",
   "execution_count": 2,
   "metadata": {},
   "outputs": [
    {
     "data": {
      "text/html": [
       "<div>\n",
       "<style scoped>\n",
       "    .dataframe tbody tr th:only-of-type {\n",
       "        vertical-align: middle;\n",
       "    }\n",
       "\n",
       "    .dataframe tbody tr th {\n",
       "        vertical-align: top;\n",
       "    }\n",
       "\n",
       "    .dataframe thead th {\n",
       "        text-align: right;\n",
       "    }\n",
       "</style>\n",
       "<table border=\"1\" class=\"dataframe\">\n",
       "  <thead>\n",
       "    <tr style=\"text-align: right;\">\n",
       "      <th></th>\n",
       "      <th>Taxon</th>\n",
       "      <th>Biomass [Gt C]</th>\n",
       "      <th>Uncertainty</th>\n",
       "    </tr>\n",
       "  </thead>\n",
       "  <tbody>\n",
       "    <tr>\n",
       "      <th>0</th>\n",
       "      <td>Annelids</td>\n",
       "      <td>0.198506</td>\n",
       "      <td>NaN</td>\n",
       "    </tr>\n",
       "    <tr>\n",
       "      <th>1</th>\n",
       "      <td>Cnidarians</td>\n",
       "      <td>0.089617</td>\n",
       "      <td>NaN</td>\n",
       "    </tr>\n",
       "    <tr>\n",
       "      <th>2</th>\n",
       "      <td>Molluscs</td>\n",
       "      <td>0.181985</td>\n",
       "      <td>NaN</td>\n",
       "    </tr>\n",
       "    <tr>\n",
       "      <th>3</th>\n",
       "      <td>Marine arthropods</td>\n",
       "      <td>0.922340</td>\n",
       "      <td>10.000000</td>\n",
       "    </tr>\n",
       "    <tr>\n",
       "      <th>4</th>\n",
       "      <td>Terrestrial arthropods</td>\n",
       "      <td>0.211568</td>\n",
       "      <td>14.881347</td>\n",
       "    </tr>\n",
       "    <tr>\n",
       "      <th>5</th>\n",
       "      <td>Fish</td>\n",
       "      <td>0.667611</td>\n",
       "      <td>8.201454</td>\n",
       "    </tr>\n",
       "    <tr>\n",
       "      <th>6</th>\n",
       "      <td>Livestock</td>\n",
       "      <td>0.107147</td>\n",
       "      <td>NaN</td>\n",
       "    </tr>\n",
       "    <tr>\n",
       "      <th>7</th>\n",
       "      <td>Wild mammals</td>\n",
       "      <td>0.007344</td>\n",
       "      <td>1.804546</td>\n",
       "    </tr>\n",
       "    <tr>\n",
       "      <th>8</th>\n",
       "      <td>Nematodes</td>\n",
       "      <td>0.024075</td>\n",
       "      <td>NaN</td>\n",
       "    </tr>\n",
       "    <tr>\n",
       "      <th>9</th>\n",
       "      <td>Humans</td>\n",
       "      <td>0.055373</td>\n",
       "      <td>NaN</td>\n",
       "    </tr>\n",
       "    <tr>\n",
       "      <th>10</th>\n",
       "      <td>Wild birds</td>\n",
       "      <td>0.001658</td>\n",
       "      <td>NaN</td>\n",
       "    </tr>\n",
       "  </tbody>\n",
       "</table>\n",
       "</div>"
      ],
      "text/plain": [
       "                     Taxon  Biomass [Gt C]  Uncertainty\n",
       "0                 Annelids        0.198506          NaN\n",
       "1               Cnidarians        0.089617          NaN\n",
       "2                 Molluscs        0.181985          NaN\n",
       "3        Marine arthropods        0.922340    10.000000\n",
       "4   Terrestrial arthropods        0.211568    14.881347\n",
       "5                     Fish        0.667611     8.201454\n",
       "6                Livestock        0.107147          NaN\n",
       "7             Wild mammals        0.007344     1.804546\n",
       "8                Nematodes        0.024075          NaN\n",
       "9                   Humans        0.055373          NaN\n",
       "10              Wild birds        0.001658          NaN"
      ]
     },
     "execution_count": 2,
     "metadata": {},
     "output_type": "execute_result"
    }
   ],
   "source": [
    "data = pd.read_excel('animal_biomass_estimate.xlsx')\n",
    "data"
   ]
  },
  {
   "cell_type": "markdown",
   "metadata": {},
   "source": [
    "We sum all these different contributions to produce our best estimate for the biomass of animals:"
   ]
  },
  {
   "cell_type": "code",
   "execution_count": 3,
   "metadata": {},
   "outputs": [
    {
     "name": "stdout",
     "output_type": "stream",
     "text": [
      "Our best estimate for the biomass of animals is ≈2.5 Gt C\n"
     ]
    }
   ],
   "source": [
    "best_estimate = data['Biomass [Gt C]'].sum()\n",
    "\n",
    "print('Our best estimate for the biomass of animals is ≈%.1f Gt C' %best_estimate)"
   ]
  },
  {
   "cell_type": "markdown",
   "metadata": {},
   "source": [
    "# Uncertainty analysis\n",
    "To project the uncertainty associated with our estimate of the total biomass of animals, we combine the uncertainties of the estimates for which is have uncertainty projections, namely arthropods (marine and terrestrial), fish and wild mammals."
   ]
  },
  {
   "cell_type": "code",
   "execution_count": 4,
   "metadata": {},
   "outputs": [
    {
     "name": "stdout",
     "output_type": "stream",
     "text": [
      "Our projection for the uncertainty of our estimate of the total biomass of animals is ≈5-fold\n"
     ]
    }
   ],
   "source": [
    "mul_CI = CI_sum_prop(estimates=data.loc[~np.isnan(data['Uncertainty']),'Biomass [Gt C]'].values, mul_CIs = data.loc[~np.isnan(data['Uncertainty']),'Uncertainty'].values)\n",
    "\n",
    "print('Our projection for the uncertainty of our estimate of the total biomass of animals is ≈%.0f-fold' %mul_CI)"
   ]
  },
  {
   "cell_type": "code",
   "execution_count": 5,
   "metadata": {
    "collapsed": true
   },
   "outputs": [],
   "source": [
    "# Feed results to Table 1 & Fig. 1\n",
    "update_results(sheet='Table1 & Fig1', \n",
    "               row=('Animals','Annelids'), \n",
    "               col=['Total biomass [Gt C]', 'Total uncertainty'],\n",
    "               values=[best_estimate,mul_CI],\n",
    "               path='../results.xlsx')"
   ]
  }
 ],
 "metadata": {
  "kernelspec": {
   "display_name": "Python 3",
   "language": "python",
   "name": "python3"
  },
  "language_info": {
   "codemirror_mode": {
    "name": "ipython",
    "version": 3
   },
   "file_extension": ".py",
   "mimetype": "text/x-python",
   "name": "python",
   "nbconvert_exporter": "python",
   "pygments_lexer": "ipython3",
   "version": "3.5.2"
  }
 },
 "nbformat": 4,
 "nbformat_minor": 2
}
