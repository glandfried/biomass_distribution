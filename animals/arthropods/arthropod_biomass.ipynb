{
 "cells": [
  {
   "cell_type": "code",
   "execution_count": 1,
   "metadata": {
    "collapsed": true
   },
   "outputs": [],
   "source": [
    "# Load dependencies\n",
    "import pandas as pd\n",
    "import numpy as np\n",
    "from scipy.stats import gmean\n",
    "import sys\n",
    "sys.path.insert(0, '../../statistics_helper/')\n",
    "from CI_helper import *\n",
    "from excel_utils import *"
   ]
  },
  {
   "cell_type": "markdown",
   "metadata": {},
   "source": [
    "# Estimating the total biomass of arthropods\n",
    "To estimate the total biomass of animals, we conbine our estimates for the biomass of marine and terrestrial arthropods. Our estimates for the biomass of terrestrial and marine arthropods are:"
   ]
  },
  {
   "cell_type": "code",
   "execution_count": 2,
   "metadata": {},
   "outputs": [
    {
     "data": {
      "text/html": [
       "<div>\n",
       "<style scoped>\n",
       "    .dataframe tbody tr th:only-of-type {\n",
       "        vertical-align: middle;\n",
       "    }\n",
       "\n",
       "    .dataframe tbody tr th {\n",
       "        vertical-align: top;\n",
       "    }\n",
       "\n",
       "    .dataframe thead th {\n",
       "        text-align: right;\n",
       "    }\n",
       "</style>\n",
       "<table border=\"1\" class=\"dataframe\">\n",
       "  <thead>\n",
       "    <tr style=\"text-align: right;\">\n",
       "      <th></th>\n",
       "      <th>Biomass [Gt C]</th>\n",
       "      <th>Uncertainty</th>\n",
       "    </tr>\n",
       "    <tr>\n",
       "      <th>Taxon</th>\n",
       "      <th></th>\n",
       "      <th></th>\n",
       "    </tr>\n",
       "  </thead>\n",
       "  <tbody>\n",
       "    <tr>\n",
       "      <th>Marine arthropods</th>\n",
       "      <td>0.940355</td>\n",
       "      <td>10.000000</td>\n",
       "    </tr>\n",
       "    <tr>\n",
       "      <th>Terrestrial arthropods</th>\n",
       "      <td>0.211568</td>\n",
       "      <td>14.881347</td>\n",
       "    </tr>\n",
       "  </tbody>\n",
       "</table>\n",
       "</div>"
      ],
      "text/plain": [
       "                        Biomass [Gt C]  Uncertainty\n",
       "Taxon                                              \n",
       "Marine arthropods             0.940355    10.000000\n",
       "Terrestrial arthropods        0.211568    14.881347"
      ]
     },
     "execution_count": 2,
     "metadata": {},
     "output_type": "execute_result"
    }
   ],
   "source": [
    "data = pd.read_excel('../animal_biomass_estimate.xlsx',index_col=0)\n",
    "arth_biomass = data.loc[['Marine arthropods','Terrestrial arthropods']]\n",
    "arth_biomass"
   ]
  },
  {
   "cell_type": "markdown",
   "metadata": {},
   "source": [
    "We sum all these different contributions to produce our best estimate for the biomass of animals:"
   ]
  },
  {
   "cell_type": "code",
   "execution_count": 3,
   "metadata": {},
   "outputs": [
    {
     "name": "stdout",
     "output_type": "stream",
     "text": [
      "Our best estimate for the biomass of arthropods is ≈1 Gt C\n"
     ]
    }
   ],
   "source": [
    "best_estimate = arth_biomass['Biomass [Gt C]'].sum()\n",
    "\n",
    "print('Our best estimate for the biomass of arthropods is ≈%.0f Gt C' %best_estimate)"
   ]
  },
  {
   "cell_type": "markdown",
   "metadata": {},
   "source": [
    "# Uncertainty analysis\n",
    "To project the uncertainty associated with our estimate of the total biomass of animals, we combine the uncertainties of the estimates for which is have uncertainty projections, namely arthropods (marine and terrestrial), fish and wild mammals."
   ]
  },
  {
   "cell_type": "code",
   "execution_count": 4,
   "metadata": {},
   "outputs": [
    {
     "name": "stdout",
     "output_type": "stream",
     "text": [
      "Our projection for the uncertainty of our estimate of the total biomass of animals is ≈8-fold\n"
     ]
    }
   ],
   "source": [
    "mul_CI = CI_sum_prop(estimates=arth_biomass['Biomass [Gt C]'].values, mul_CIs = arth_biomass['Uncertainty'].values)\n",
    "\n",
    "print('Our projection for the uncertainty of our estimate of the total biomass of animals is ≈%.0f-fold' %mul_CI)"
   ]
  },
  {
   "cell_type": "code",
   "execution_count": 5,
   "metadata": {
    "collapsed": true
   },
   "outputs": [],
   "source": [
    "# Feed results to Fig. S2-S3\n",
    "update_figs2s3(row='Arthropods', \n",
    "               col='Uncertainty',\n",
    "               values=mul_CI,\n",
    "               path='../../results.xlsx')"
   ]
  }
 ],
 "metadata": {
  "kernelspec": {
   "display_name": "Python 3",
   "language": "python",
   "name": "python3"
  },
  "language_info": {
   "codemirror_mode": {
    "name": "ipython",
    "version": 3
   },
   "file_extension": ".py",
   "mimetype": "text/x-python",
   "name": "python",
   "nbconvert_exporter": "python",
   "pygments_lexer": "ipython3",
   "version": "3.5.2"
  }
 },
 "nbformat": 4,
 "nbformat_minor": 2
}
