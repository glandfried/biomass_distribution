{
 "cells": [
  {
   "cell_type": "code",
   "execution_count": 1,
   "metadata": {},
   "outputs": [],
   "source": [
    "#Load dependencies\n",
    "import pandas as pd\n",
    "import numpy as np\n",
    "import matplotlib.pyplot as plt\n",
    "from scipy.stats import gmean\n",
    "import sys\n",
    "sys.path.insert(0, '../../../statistics_helper/')\n",
    "from CI_helper import *\n",
    "from excel_utils import *\n",
    "pd.options.display.float_format = '{:,.1f}'.format"
   ]
  },
  {
   "cell_type": "markdown",
   "metadata": {},
   "source": [
    "# Estimating the biomass of terrestrial arthropods\n",
    "To estimate the biomass of terrestrial arthropods, we rely on two parallel methods - a method based on average biomass densities of arthropods extrapolated to the global ice-free land surface, and a method based on estimates of the average carbon content of a characteristic arthropod and the total number of terrestrial arthropods.\n",
    "\n",
    "## Average biomass densities method\n",
    "We collected values from the literature on the biomass densities of arthropods per unit area. We assume, based on [Stork et al.](http://dx.doi.org/10.1007/978-94-009-1685-2_1), most of the biomass is located in the soil, litter or in the canopy of trees. We thus estimate a mean biomass density of arhtropods in soil, litter and in canopies, sum those biomass densities and apply them across the entire ice-free land surface.\n",
    "\n",
    "### Litter arthropod biomass\n",
    "We complied a list of values from several different habitats. Most of the measurements are from forests and savannas. For some of the older studies, we did not have access to the original data, but to a summary of the data made by two main studies: [Gist & Crossley](http://dx.doi.org/10.2307/2424109) and [Brockie & Moeed](http://dx.doi.org/10.1007/BF00377108). Here is a sample of the data from Gist & Grossley:"
   ]
  },
  {
   "cell_type": "code",
   "execution_count": 2,
   "metadata": {},
   "outputs": [
    {
     "data": {
      "text/html": [
       "<div>\n",
       "<style scoped>\n",
       "    .dataframe tbody tr th:only-of-type {\n",
       "        vertical-align: middle;\n",
       "    }\n",
       "\n",
       "    .dataframe tbody tr th {\n",
       "        vertical-align: top;\n",
       "    }\n",
       "\n",
       "    .dataframe thead th {\n",
       "        text-align: right;\n",
       "    }\n",
       "</style>\n",
       "<table border=\"1\" class=\"dataframe\">\n",
       "  <thead>\n",
       "    <tr style=\"text-align: right;\">\n",
       "      <th></th>\n",
       "      <th>Taxonomic group</th>\n",
       "      <th>Density of individuals [N m^-2]</th>\n",
       "      <th>Wet weight [g m^-2]</th>\n",
       "      <th>Dry weight [g m^-2]</th>\n",
       "      <th>Study</th>\n",
       "      <th>Site</th>\n",
       "      <th>Habitat</th>\n",
       "      <th>Link</th>\n",
       "    </tr>\n",
       "  </thead>\n",
       "  <tbody>\n",
       "    <tr>\n",
       "      <th>0</th>\n",
       "      <td>Diplopoda</td>\n",
       "      <td>14.0</td>\n",
       "      <td>6.1</td>\n",
       "      <td>3.2</td>\n",
       "      <td>Gist &amp; Crossley (1975)</td>\n",
       "      <td>USA</td>\n",
       "      <td>Mixed hardwood forest</td>\n",
       "      <td>http://dx.doi.org/10.2307/2424109</td>\n",
       "    </tr>\n",
       "    <tr>\n",
       "      <th>1</th>\n",
       "      <td>Orthoptera</td>\n",
       "      <td>0.9</td>\n",
       "      <td>0.2</td>\n",
       "      <td>0.1</td>\n",
       "      <td>Gist &amp; Crossley (1975)</td>\n",
       "      <td>USA</td>\n",
       "      <td>Mixed hardwood forest</td>\n",
       "      <td>http://dx.doi.org/10.2307/2424109</td>\n",
       "    </tr>\n",
       "    <tr>\n",
       "      <th>2</th>\n",
       "      <td>Medium Araneida</td>\n",
       "      <td>0.5</td>\n",
       "      <td>0.1</td>\n",
       "      <td>0.0</td>\n",
       "      <td>Gist &amp; Crossley (1975)</td>\n",
       "      <td>USA</td>\n",
       "      <td>Mixed hardwood forest</td>\n",
       "      <td>http://dx.doi.org/10.2307/2424109</td>\n",
       "    </tr>\n",
       "    <tr>\n",
       "      <th>3</th>\n",
       "      <td>Coleoptera</td>\n",
       "      <td>1.1</td>\n",
       "      <td>1.0</td>\n",
       "      <td>0.3</td>\n",
       "      <td>Gist &amp; Crossley (1975)</td>\n",
       "      <td>USA</td>\n",
       "      <td>Mixed hardwood forest</td>\n",
       "      <td>http://dx.doi.org/10.2307/2424109</td>\n",
       "    </tr>\n",
       "    <tr>\n",
       "      <th>4</th>\n",
       "      <td>Cryptostigmata</td>\n",
       "      <td>22,433.0</td>\n",
       "      <td>1.5</td>\n",
       "      <td>0.7</td>\n",
       "      <td>Gist &amp; Crossley (1975)</td>\n",
       "      <td>USA</td>\n",
       "      <td>Mixed hardwood forest</td>\n",
       "      <td>http://dx.doi.org/10.2307/2424109</td>\n",
       "    </tr>\n",
       "  </tbody>\n",
       "</table>\n",
       "</div>"
      ],
      "text/plain": [
       "   Taxonomic group  Density of individuals [N m^-2]  Wet weight [g m^-2]  \\\n",
       "0        Diplopoda                             14.0                  6.1   \n",
       "1       Orthoptera                              0.9                  0.2   \n",
       "2  Medium Araneida                              0.5                  0.1   \n",
       "3       Coleoptera                              1.1                  1.0   \n",
       "4   Cryptostigmata                         22,433.0                  1.5   \n",
       "\n",
       "   Dry weight [g m^-2]                   Study Site                Habitat  \\\n",
       "0                  3.2  Gist & Crossley (1975)  USA  Mixed hardwood forest   \n",
       "1                  0.1  Gist & Crossley (1975)  USA  Mixed hardwood forest   \n",
       "2                  0.0  Gist & Crossley (1975)  USA  Mixed hardwood forest   \n",
       "3                  0.3  Gist & Crossley (1975)  USA  Mixed hardwood forest   \n",
       "4                  0.7  Gist & Crossley (1975)  USA  Mixed hardwood forest   \n",
       "\n",
       "                                Link  \n",
       "0  http://dx.doi.org/10.2307/2424109  \n",
       "1  http://dx.doi.org/10.2307/2424109  \n",
       "2  http://dx.doi.org/10.2307/2424109  \n",
       "3  http://dx.doi.org/10.2307/2424109  \n",
       "4  http://dx.doi.org/10.2307/2424109  "
      ]
     },
     "execution_count": 2,
     "metadata": {},
     "output_type": "execute_result"
    }
   ],
   "source": [
    "# Load global stocks data\n",
    "gc_data = pd.read_excel('terrestrial_arthropods_data.xlsx','Gist & Crossley',skiprows=1)\n",
    "gc_data.head()"
   ]
  },
  {
   "cell_type": "markdown",
   "metadata": {},
   "source": [
    "Here is a sample from Brockie & Moeed:"
   ]
  },
  {
   "cell_type": "code",
   "execution_count": 3,
   "metadata": {},
   "outputs": [
    {
     "data": {
      "text/html": [
       "<div>\n",
       "<style scoped>\n",
       "    .dataframe tbody tr th:only-of-type {\n",
       "        vertical-align: middle;\n",
       "    }\n",
       "\n",
       "    .dataframe tbody tr th {\n",
       "        vertical-align: top;\n",
       "    }\n",
       "\n",
       "    .dataframe thead th {\n",
       "        text-align: right;\n",
       "    }\n",
       "</style>\n",
       "<table border=\"1\" class=\"dataframe\">\n",
       "  <thead>\n",
       "    <tr style=\"text-align: right;\">\n",
       "      <th></th>\n",
       "      <th>Taxonomic group</th>\n",
       "      <th>Wet weight [g m^-2]</th>\n",
       "      <th>Site</th>\n",
       "      <th>Habitat</th>\n",
       "      <th>Study</th>\n",
       "      <th>Link</th>\n",
       "    </tr>\n",
       "  </thead>\n",
       "  <tbody>\n",
       "    <tr>\n",
       "      <th>0</th>\n",
       "      <td>Collembola</td>\n",
       "      <td>0.2</td>\n",
       "      <td>Orongorongo Valley, New Zealand</td>\n",
       "      <td>Broadleaf podocarp forest</td>\n",
       "      <td>Brockie &amp; Moeed (1986)</td>\n",
       "      <td>http://dx.doi.org/10.1007/BF00377108</td>\n",
       "    </tr>\n",
       "    <tr>\n",
       "      <th>1</th>\n",
       "      <td>Coleoptera</td>\n",
       "      <td>1.0</td>\n",
       "      <td>Orongorongo Valley, New Zealand</td>\n",
       "      <td>Broadleaf podocarp forest</td>\n",
       "      <td>Brockie &amp; Moeed (1986)</td>\n",
       "      <td>http://dx.doi.org/10.1007/BF00377108</td>\n",
       "    </tr>\n",
       "    <tr>\n",
       "      <th>2</th>\n",
       "      <td>Acarina</td>\n",
       "      <td>3.0</td>\n",
       "      <td>Orongorongo Valley, New Zealand</td>\n",
       "      <td>Broadleaf podocarp forest</td>\n",
       "      <td>Brockie &amp; Moeed (1986)</td>\n",
       "      <td>http://dx.doi.org/10.1007/BF00377108</td>\n",
       "    </tr>\n",
       "    <tr>\n",
       "      <th>3</th>\n",
       "      <td>Arachnida</td>\n",
       "      <td>0.3</td>\n",
       "      <td>Orongorongo Valley, New Zealand</td>\n",
       "      <td>Broadleaf podocarp forest</td>\n",
       "      <td>Brockie &amp; Moeed (1986)</td>\n",
       "      <td>http://dx.doi.org/10.1007/BF00377108</td>\n",
       "    </tr>\n",
       "    <tr>\n",
       "      <th>4</th>\n",
       "      <td>Chilopoda</td>\n",
       "      <td>0.3</td>\n",
       "      <td>Orongorongo Valley, New Zealand</td>\n",
       "      <td>Broadleaf podocarp forest</td>\n",
       "      <td>Brockie &amp; Moeed (1986)</td>\n",
       "      <td>http://dx.doi.org/10.1007/BF00377108</td>\n",
       "    </tr>\n",
       "  </tbody>\n",
       "</table>\n",
       "</div>"
      ],
      "text/plain": [
       "  Taxonomic group  Wet weight [g m^-2]                             Site  \\\n",
       "0      Collembola                  0.2  Orongorongo Valley, New Zealand   \n",
       "1      Coleoptera                  1.0  Orongorongo Valley, New Zealand   \n",
       "2         Acarina                  3.0  Orongorongo Valley, New Zealand   \n",
       "3       Arachnida                  0.3  Orongorongo Valley, New Zealand   \n",
       "4       Chilopoda                  0.3  Orongorongo Valley, New Zealand   \n",
       "\n",
       "                     Habitat                   Study  \\\n",
       "0  Broadleaf podocarp forest  Brockie & Moeed (1986)   \n",
       "1  Broadleaf podocarp forest  Brockie & Moeed (1986)   \n",
       "2  Broadleaf podocarp forest  Brockie & Moeed (1986)   \n",
       "3  Broadleaf podocarp forest  Brockie & Moeed (1986)   \n",
       "4  Broadleaf podocarp forest  Brockie & Moeed (1986)   \n",
       "\n",
       "                                   Link  \n",
       "0  http://dx.doi.org/10.1007/BF00377108  \n",
       "1  http://dx.doi.org/10.1007/BF00377108  \n",
       "2  http://dx.doi.org/10.1007/BF00377108  \n",
       "3  http://dx.doi.org/10.1007/BF00377108  \n",
       "4  http://dx.doi.org/10.1007/BF00377108  "
      ]
     },
     "execution_count": 3,
     "metadata": {},
     "output_type": "execute_result"
    }
   ],
   "source": [
    "bm_data = pd.read_excel('terrestrial_arthropods_data.xlsx','Brockie & Moeed',skiprows=1)\n",
    "bm_data.head()"
   ]
  },
  {
   "cell_type": "markdown",
   "metadata": {},
   "source": [
    "We calculate the sum of biomass of all the groups of arthropods in each study to provide an estimate for the total biomass density of arthropods in litter:"
   ]
  },
  {
   "cell_type": "code",
   "execution_count": 4,
   "metadata": {},
   "outputs": [
    {
     "name": "stdout",
     "output_type": "stream",
     "text": [
      "The estimate from Brockie & Moeed:\n"
     ]
    },
    {
     "data": {
      "text/html": [
       "<div>\n",
       "<style scoped>\n",
       "    .dataframe tbody tr th:only-of-type {\n",
       "        vertical-align: middle;\n",
       "    }\n",
       "\n",
       "    .dataframe tbody tr th {\n",
       "        vertical-align: top;\n",
       "    }\n",
       "\n",
       "    .dataframe thead th {\n",
       "        text-align: right;\n",
       "    }\n",
       "</style>\n",
       "<table border=\"1\" class=\"dataframe\">\n",
       "  <thead>\n",
       "    <tr style=\"text-align: right;\">\n",
       "      <th></th>\n",
       "      <th>Wet weight [g m^-2]</th>\n",
       "    </tr>\n",
       "    <tr>\n",
       "      <th>Study</th>\n",
       "      <th></th>\n",
       "    </tr>\n",
       "  </thead>\n",
       "  <tbody>\n",
       "    <tr>\n",
       "      <th>Bornebusch (1930) 1</th>\n",
       "      <td>6.2</td>\n",
       "    </tr>\n",
       "    <tr>\n",
       "      <th>Bornebusch (1930) 2</th>\n",
       "      <td>1.9</td>\n",
       "    </tr>\n",
       "    <tr>\n",
       "      <th>Bornebusch (1930) 3</th>\n",
       "      <td>1.9</td>\n",
       "    </tr>\n",
       "    <tr>\n",
       "      <th>Brockie &amp; Moeed (1986)</th>\n",
       "      <td>14.5</td>\n",
       "    </tr>\n",
       "    <tr>\n",
       "      <th>Kitazawa (1967) 1</th>\n",
       "      <td>14.2</td>\n",
       "    </tr>\n",
       "    <tr>\n",
       "      <th>Kitazawa (1967) 2</th>\n",
       "      <td>7.1</td>\n",
       "    </tr>\n",
       "  </tbody>\n",
       "</table>\n",
       "</div>"
      ],
      "text/plain": [
       "                        Wet weight [g m^-2]\n",
       "Study                                      \n",
       "Bornebusch (1930) 1                     6.2\n",
       "Bornebusch (1930) 2                     1.9\n",
       "Bornebusch (1930) 3                     1.9\n",
       "Brockie & Moeed (1986)                 14.5\n",
       "Kitazawa (1967) 1                      14.2\n",
       "Kitazawa (1967) 2                       7.1"
      ]
     },
     "execution_count": 4,
     "metadata": {},
     "output_type": "execute_result"
    }
   ],
   "source": [
    "gc_study = gc_data.groupby('Study').sum()\n",
    "bm_study = bm_data.groupby('Study').sum()\n",
    "\n",
    "print('The estimate from Brockie & Moeed:')\n",
    "bm_study"
   ]
  },
  {
   "cell_type": "code",
   "execution_count": 5,
   "metadata": {},
   "outputs": [
    {
     "name": "stdout",
     "output_type": "stream",
     "text": [
      "The estimate from Gist & Crossley:\n"
     ]
    },
    {
     "data": {
      "text/html": [
       "<div>\n",
       "<style scoped>\n",
       "    .dataframe tbody tr th:only-of-type {\n",
       "        vertical-align: middle;\n",
       "    }\n",
       "\n",
       "    .dataframe tbody tr th {\n",
       "        vertical-align: top;\n",
       "    }\n",
       "\n",
       "    .dataframe thead th {\n",
       "        text-align: right;\n",
       "    }\n",
       "</style>\n",
       "<table border=\"1\" class=\"dataframe\">\n",
       "  <thead>\n",
       "    <tr style=\"text-align: right;\">\n",
       "      <th></th>\n",
       "      <th>Density of individuals [N m^-2]</th>\n",
       "      <th>Wet weight [g m^-2]</th>\n",
       "      <th>Dry weight [g m^-2]</th>\n",
       "    </tr>\n",
       "    <tr>\n",
       "      <th>Study</th>\n",
       "      <th></th>\n",
       "      <th></th>\n",
       "      <th></th>\n",
       "    </tr>\n",
       "  </thead>\n",
       "  <tbody>\n",
       "    <tr>\n",
       "      <th>Bornebusch (1930) 1</th>\n",
       "      <td>2,145.5</td>\n",
       "      <td>6.3</td>\n",
       "      <td>1.9</td>\n",
       "    </tr>\n",
       "    <tr>\n",
       "      <th>Bornebusch (1930) 2</th>\n",
       "      <td>265.0</td>\n",
       "      <td>1.3</td>\n",
       "      <td>0.4</td>\n",
       "    </tr>\n",
       "    <tr>\n",
       "      <th>Bornebusch (1930) 3</th>\n",
       "      <td>4,547.5</td>\n",
       "      <td>2.5</td>\n",
       "      <td>0.7</td>\n",
       "    </tr>\n",
       "    <tr>\n",
       "      <th>Gist &amp; Crossley (1975)</th>\n",
       "      <td>30,580.5</td>\n",
       "      <td>12.0</td>\n",
       "      <td>4.6</td>\n",
       "    </tr>\n",
       "    <tr>\n",
       "      <th>Kitazawa (1967) 1</th>\n",
       "      <td>870,214.0</td>\n",
       "      <td>14.5</td>\n",
       "      <td>4.4</td>\n",
       "    </tr>\n",
       "    <tr>\n",
       "      <th>Moulder et al. (1970)</th>\n",
       "      <td>40,887.0</td>\n",
       "      <td>1.6</td>\n",
       "      <td>0.5</td>\n",
       "    </tr>\n",
       "  </tbody>\n",
       "</table>\n",
       "</div>"
      ],
      "text/plain": [
       "                        Density of individuals [N m^-2]  Wet weight [g m^-2]  \\\n",
       "Study                                                                          \n",
       "Bornebusch (1930) 1                             2,145.5                  6.3   \n",
       "Bornebusch (1930) 2                               265.0                  1.3   \n",
       "Bornebusch (1930) 3                             4,547.5                  2.5   \n",
       "Gist & Crossley (1975)                         30,580.5                 12.0   \n",
       "Kitazawa (1967) 1                             870,214.0                 14.5   \n",
       "Moulder et al. (1970)                          40,887.0                  1.6   \n",
       "\n",
       "                        Dry weight [g m^-2]  \n",
       "Study                                        \n",
       "Bornebusch (1930) 1                     1.9  \n",
       "Bornebusch (1930) 2                     0.4  \n",
       "Bornebusch (1930) 3                     0.7  \n",
       "Gist & Crossley (1975)                  4.6  \n",
       "Kitazawa (1967) 1                       4.4  \n",
       "Moulder et al. (1970)                   0.5  "
      ]
     },
     "execution_count": 5,
     "metadata": {},
     "output_type": "execute_result"
    }
   ],
   "source": [
    "print('The estimate from Gist & Crossley:')\n",
    "gc_study"
   ]
  },
  {
   "cell_type": "markdown",
   "metadata": {},
   "source": [
    "In cases where data is coflicting between the two studies, we calculate the mean. We merge the data from the papers to generate a list of estimates on the total biomass density of arhtropods"
   ]
  },
  {
   "cell_type": "code",
   "execution_count": 6,
   "metadata": {},
   "outputs": [
    {
     "data": {
      "text/html": [
       "<div>\n",
       "<style scoped>\n",
       "    .dataframe tbody tr th:only-of-type {\n",
       "        vertical-align: middle;\n",
       "    }\n",
       "\n",
       "    .dataframe tbody tr th {\n",
       "        vertical-align: top;\n",
       "    }\n",
       "\n",
       "    .dataframe thead th {\n",
       "        text-align: right;\n",
       "    }\n",
       "</style>\n",
       "<table border=\"1\" class=\"dataframe\">\n",
       "  <thead>\n",
       "    <tr style=\"text-align: right;\">\n",
       "      <th></th>\n",
       "      <th>Density of individuals [N m^-2]</th>\n",
       "      <th>Dry weight [g m^-2]</th>\n",
       "      <th>Wet weight [g m^-2]</th>\n",
       "    </tr>\n",
       "    <tr>\n",
       "      <th>Study</th>\n",
       "      <th></th>\n",
       "      <th></th>\n",
       "      <th></th>\n",
       "    </tr>\n",
       "  </thead>\n",
       "  <tbody>\n",
       "    <tr>\n",
       "      <th>Bornebusch (1930) 1</th>\n",
       "      <td>2,145.5</td>\n",
       "      <td>1.9</td>\n",
       "      <td>6.2</td>\n",
       "    </tr>\n",
       "    <tr>\n",
       "      <th>Bornebusch (1930) 2</th>\n",
       "      <td>265.0</td>\n",
       "      <td>0.4</td>\n",
       "      <td>1.6</td>\n",
       "    </tr>\n",
       "    <tr>\n",
       "      <th>Bornebusch (1930) 3</th>\n",
       "      <td>4,547.5</td>\n",
       "      <td>0.7</td>\n",
       "      <td>2.2</td>\n",
       "    </tr>\n",
       "    <tr>\n",
       "      <th>Brockie &amp; Moeed (1986)</th>\n",
       "      <td>nan</td>\n",
       "      <td>nan</td>\n",
       "      <td>14.5</td>\n",
       "    </tr>\n",
       "    <tr>\n",
       "      <th>Gist &amp; Crossley (1975)</th>\n",
       "      <td>30,580.5</td>\n",
       "      <td>4.6</td>\n",
       "      <td>12.0</td>\n",
       "    </tr>\n",
       "    <tr>\n",
       "      <th>Kitazawa (1967) 1</th>\n",
       "      <td>870,214.0</td>\n",
       "      <td>4.4</td>\n",
       "      <td>14.4</td>\n",
       "    </tr>\n",
       "    <tr>\n",
       "      <th>Kitazawa (1967) 2</th>\n",
       "      <td>nan</td>\n",
       "      <td>nan</td>\n",
       "      <td>7.1</td>\n",
       "    </tr>\n",
       "    <tr>\n",
       "      <th>Moulder et al. (1970)</th>\n",
       "      <td>40,887.0</td>\n",
       "      <td>0.5</td>\n",
       "      <td>1.6</td>\n",
       "    </tr>\n",
       "  </tbody>\n",
       "</table>\n",
       "</div>"
      ],
      "text/plain": [
       "                        Density of individuals [N m^-2]  Dry weight [g m^-2]  \\\n",
       "Study                                                                          \n",
       "Bornebusch (1930) 1                             2,145.5                  1.9   \n",
       "Bornebusch (1930) 2                               265.0                  0.4   \n",
       "Bornebusch (1930) 3                             4,547.5                  0.7   \n",
       "Brockie & Moeed (1986)                              nan                  nan   \n",
       "Gist & Crossley (1975)                         30,580.5                  4.6   \n",
       "Kitazawa (1967) 1                             870,214.0                  4.4   \n",
       "Kitazawa (1967) 2                                   nan                  nan   \n",
       "Moulder et al. (1970)                          40,887.0                  0.5   \n",
       "\n",
       "                        Wet weight [g m^-2]  \n",
       "Study                                        \n",
       "Bornebusch (1930) 1                     6.2  \n",
       "Bornebusch (1930) 2                     1.6  \n",
       "Bornebusch (1930) 3                     2.2  \n",
       "Brockie & Moeed (1986)                 14.5  \n",
       "Gist & Crossley (1975)                 12.0  \n",
       "Kitazawa (1967) 1                      14.4  \n",
       "Kitazawa (1967) 2                       7.1  \n",
       "Moulder et al. (1970)                   1.6  "
      ]
     },
     "execution_count": 6,
     "metadata": {},
     "output_type": "execute_result"
    }
   ],
   "source": [
    "# Concat the data from the two studies\n",
    "conc = pd.concat([gc_study,bm_study])\n",
    "conc_mean = conc.groupby(conc.index).mean()\n",
    "conc_mean"
   ]
  },
  {
   "cell_type": "markdown",
   "metadata": {},
   "source": [
    "We calculate from the dry weight and wet weight estimates the biomass density in g C $m^{-2}$ by assuming 70% water content and 50% carbon in dry mass:"
   ]
  },
  {
   "cell_type": "code",
   "execution_count": 7,
   "metadata": {},
   "outputs": [
    {
     "data": {
      "text/plain": [
       "Study\n",
       "Bornebusch (1930) 1      0.9\n",
       "Bornebusch (1930) 2      0.2\n",
       "Bornebusch (1930) 3      0.4\n",
       "Brockie & Moeed (1986)   2.2\n",
       "Gist & Crossley (1975)   2.3\n",
       "Kitazawa (1967) 1        2.2\n",
       "Kitazawa (1967) 2        1.1\n",
       "Moulder et al. (1970)    0.2\n",
       "Name: Biomass density [g C m^-2], dtype: float64"
      ]
     },
     "execution_count": 7,
     "metadata": {},
     "output_type": "execute_result"
    }
   ],
   "source": [
    "# Fill places with no dry weight estimate with 30% of the wet weight estimate \n",
    "conc_mean['Dry weight [g m^-2]'].fillna(conc_mean['Wet weight [g m^-2]']*0.3,inplace=True)\n",
    "\n",
    "# Calculate carbon biomass as 50% of dry weight\n",
    "conc_mean['Biomass density [g C m^-2]'] = conc_mean['Dry weight [g m^-2]']/2\n",
    "conc_mean['Biomass density [g C m^-2]']"
   ]
  },
  {
   "cell_type": "markdown",
   "metadata": {},
   "source": [
    "We calculate the geometric mean of the estimates from the different studies as our best estimate of the biomass density of litter arthropods."
   ]
  },
  {
   "cell_type": "code",
   "execution_count": 8,
   "metadata": {},
   "outputs": [
    {
     "name": "stdout",
     "output_type": "stream",
     "text": [
      "Our best estimate for the biomass density of arthropods in litter is ≈1 g C m^-2\n"
     ]
    }
   ],
   "source": [
    "litter_biomass_density = gmean(conc_mean.iloc[0:5,3])\n",
    "print('Our best estimate for the biomass density of arthropods in litter is ≈%.0f g C m^-2' %litter_biomass_density)"
   ]
  },
  {
   "cell_type": "markdown",
   "metadata": {},
   "source": [
    "### Soil arthropod biomass\n",
    "As our source for estimating the biomass of soil arthropods, we use these data collected from the literature, which are detailed below:"
   ]
  },
  {
   "cell_type": "code",
   "execution_count": 9,
   "metadata": {},
   "outputs": [
    {
     "data": {
      "text/html": [
       "<div>\n",
       "<style scoped>\n",
       "    .dataframe tbody tr th:only-of-type {\n",
       "        vertical-align: middle;\n",
       "    }\n",
       "\n",
       "    .dataframe tbody tr th {\n",
       "        vertical-align: top;\n",
       "    }\n",
       "\n",
       "    .dataframe thead th {\n",
       "        text-align: right;\n",
       "    }\n",
       "</style>\n",
       "<table border=\"1\" class=\"dataframe\">\n",
       "  <thead>\n",
       "    <tr style=\"text-align: right;\">\n",
       "      <th></th>\n",
       "      <th>Biomass density [g C m^-2]</th>\n",
       "      <th>Site</th>\n",
       "      <th>Biome</th>\n",
       "      <th>Link</th>\n",
       "      <th>Comments</th>\n",
       "      <th>Remarks</th>\n",
       "    </tr>\n",
       "    <tr>\n",
       "      <th>Reference</th>\n",
       "      <th></th>\n",
       "      <th></th>\n",
       "      <th></th>\n",
       "      <th></th>\n",
       "      <th></th>\n",
       "      <th></th>\n",
       "    </tr>\n",
       "  </thead>\n",
       "  <tbody>\n",
       "    <tr>\n",
       "      <th>Fragoso et al. (1999)</th>\n",
       "      <td>1.8</td>\n",
       "      <td>Several locations</td>\n",
       "      <td>Forest</td>\n",
       "      <td>http://horizon.documentation.ird.fr/exl-doc/pl...</td>\n",
       "      <td>Soil</td>\n",
       "      <td>Taken from Figure 2.1 in Fragoso et al. - we c...</td>\n",
       "    </tr>\n",
       "    <tr>\n",
       "      <th>Fragoso et al. (1999)</th>\n",
       "      <td>1.8</td>\n",
       "      <td>Several locations</td>\n",
       "      <td>Savanna</td>\n",
       "      <td>http://horizon.documentation.ird.fr/exl-doc/pl...</td>\n",
       "      <td>Soil</td>\n",
       "      <td>Taken from Figure 2.1 in Fragoso et al. - we c...</td>\n",
       "    </tr>\n",
       "    <tr>\n",
       "      <th>Stork (1996)</th>\n",
       "      <td>0.8</td>\n",
       "      <td>Seram</td>\n",
       "      <td>Lowland Tropical Rain Forest</td>\n",
       "      <td>http://dx.doi.org/10.1007/978-94-009-1685-2_1</td>\n",
       "      <td>Soil</td>\n",
       "      <td>From page 6 – 30 kg dry weight per ha. Assumin...</td>\n",
       "    </tr>\n",
       "  </tbody>\n",
       "</table>\n",
       "</div>"
      ],
      "text/plain": [
       "                       Biomass density [g C m^-2]               Site  \\\n",
       "Reference                                                              \n",
       "Fragoso et al. (1999)                         1.8  Several locations   \n",
       "Fragoso et al. (1999)                         1.8  Several locations   \n",
       "Stork (1996)                                  0.8              Seram   \n",
       "\n",
       "                                              Biome  \\\n",
       "Reference                                             \n",
       "Fragoso et al. (1999)                        Forest   \n",
       "Fragoso et al. (1999)                       Savanna   \n",
       "Stork (1996)           Lowland Tropical Rain Forest   \n",
       "\n",
       "                                                                    Link  \\\n",
       "Reference                                                                  \n",
       "Fragoso et al. (1999)  http://horizon.documentation.ird.fr/exl-doc/pl...   \n",
       "Fragoso et al. (1999)  http://horizon.documentation.ird.fr/exl-doc/pl...   \n",
       "Stork (1996)               http://dx.doi.org/10.1007/978-94-009-1685-2_1   \n",
       "\n",
       "                      Comments  \\\n",
       "Reference                        \n",
       "Fragoso et al. (1999)     Soil   \n",
       "Fragoso et al. (1999)     Soil   \n",
       "Stork (1996)              Soil   \n",
       "\n",
       "                                                                 Remarks  \n",
       "Reference                                                                 \n",
       "Fragoso et al. (1999)  Taken from Figure 2.1 in Fragoso et al. - we c...  \n",
       "Fragoso et al. (1999)  Taken from Figure 2.1 in Fragoso et al. - we c...  \n",
       "Stork (1996)           From page 6 – 30 kg dry weight per ha. Assumin...  "
      ]
     },
     "execution_count": 9,
     "metadata": {},
     "output_type": "execute_result"
    }
   ],
   "source": [
    "# Load additional data\n",
    "soil_data = pd.read_excel('terrestrial_arthropods_data.xlsx','Soil',index_col='Reference')\n",
    "soil_data"
   ]
  },
  {
   "cell_type": "markdown",
   "metadata": {},
   "source": [
    "We calculate the geometric mean of the estimate for the biomass density of arthropods in soils:"
   ]
  },
  {
   "cell_type": "code",
   "execution_count": 10,
   "metadata": {},
   "outputs": [
    {
     "name": "stdout",
     "output_type": "stream",
     "text": [
      "Our best estimate for the biomass density of arthropods in soils is ≈1 g C m^-2\n"
     ]
    }
   ],
   "source": [
    "# Calculate the geometric mean of the estimates of the biomass density of soil arthropods\n",
    "soil_biomass_density = gmean(soil_data['Biomass density [g C m^-2]'])\n",
    "\n",
    "print('Our best estimate for the biomass density of arthropods in soils is ≈%.0f g C m^-2' %soil_biomass_density)"
   ]
  },
  {
   "cell_type": "markdown",
   "metadata": {},
   "source": [
    "If we sum the biomass density of soil and litter arthropods, we arrive at an estimate of ≈2 g C m^-2, which is inline with the data from Kitazawa et al. of 1-2 g C m^-2."
   ]
  },
  {
   "cell_type": "markdown",
   "metadata": {},
   "source": [
    "### Canopy arthropod biomass\n",
    "Data on the biomass density of canopy arthropods is much less abundant. We extracted from the literature the following values:"
   ]
  },
  {
   "cell_type": "code",
   "execution_count": 11,
   "metadata": {},
   "outputs": [
    {
     "data": {
      "text/html": [
       "<div>\n",
       "<style scoped>\n",
       "    .dataframe tbody tr th:only-of-type {\n",
       "        vertical-align: middle;\n",
       "    }\n",
       "\n",
       "    .dataframe tbody tr th {\n",
       "        vertical-align: top;\n",
       "    }\n",
       "\n",
       "    .dataframe thead th {\n",
       "        text-align: right;\n",
       "    }\n",
       "</style>\n",
       "<table border=\"1\" class=\"dataframe\">\n",
       "  <thead>\n",
       "    <tr style=\"text-align: right;\">\n",
       "      <th></th>\n",
       "      <th>Biomass density [g C m^-2]</th>\n",
       "      <th>Site</th>\n",
       "      <th>Biome</th>\n",
       "      <th>Link</th>\n",
       "      <th>Comments</th>\n",
       "      <th>Remarks</th>\n",
       "    </tr>\n",
       "    <tr>\n",
       "      <th>Reference</th>\n",
       "      <th></th>\n",
       "      <th></th>\n",
       "      <th></th>\n",
       "      <th></th>\n",
       "      <th></th>\n",
       "      <th></th>\n",
       "    </tr>\n",
       "  </thead>\n",
       "  <tbody>\n",
       "    <tr>\n",
       "      <th>Ellwood &amp; Foster (2004)</th>\n",
       "      <td>0.4</td>\n",
       "      <td>Borneo</td>\n",
       "      <td>lowland dipterocarp rainforest</td>\n",
       "      <td>http://dx.doi.org/10.1038/nature02560</td>\n",
       "      <td>Canopy</td>\n",
       "      <td>Ellwood &amp; Foster report 3776 g ha^-1 dry bioma...</td>\n",
       "    </tr>\n",
       "    <tr>\n",
       "      <th>Dial et al. (2006)</th>\n",
       "      <td>1.2</td>\n",
       "      <td>Borneo</td>\n",
       "      <td>Lowland Tropical Rain Forest</td>\n",
       "      <td>http://dx.doi.org/10.1111/j.1744-7429.2006.001...</td>\n",
       "      <td>Canopy</td>\n",
       "      <td>Dial et al. Estimate 23.6 kg dry weight per ha.\\n</td>\n",
       "    </tr>\n",
       "    <tr>\n",
       "      <th>Stork, N. E. (1996)</th>\n",
       "      <td>0.8</td>\n",
       "      <td>Seram</td>\n",
       "      <td>Lowland Tropical Rain Forest</td>\n",
       "      <td>http://dx.doi.org/10.1007/978-94-009-1685-2_1</td>\n",
       "      <td>Canopy</td>\n",
       "      <td>From page 6 – 30 kg dry weight per ha. Assumin...</td>\n",
       "    </tr>\n",
       "  </tbody>\n",
       "</table>\n",
       "</div>"
      ],
      "text/plain": [
       "                         Biomass density [g C m^-2]    Site  \\\n",
       "Reference                                                     \n",
       "Ellwood & Foster (2004)                         0.4  Borneo   \n",
       "Dial et al. (2006)                              1.2  Borneo   \n",
       "Stork, N. E. (1996)                             0.8   Seram   \n",
       "\n",
       "                                                  Biome  \\\n",
       "Reference                                                 \n",
       "Ellwood & Foster (2004)  lowland dipterocarp rainforest   \n",
       "Dial et al. (2006)         Lowland Tropical Rain Forest   \n",
       "Stork, N. E. (1996)        Lowland Tropical Rain Forest   \n",
       "\n",
       "                                                                      Link  \\\n",
       "Reference                                                                    \n",
       "Ellwood & Foster (2004)              http://dx.doi.org/10.1038/nature02560   \n",
       "Dial et al. (2006)       http://dx.doi.org/10.1111/j.1744-7429.2006.001...   \n",
       "Stork, N. E. (1996)          http://dx.doi.org/10.1007/978-94-009-1685-2_1   \n",
       "\n",
       "                        Comments  \\\n",
       "Reference                          \n",
       "Ellwood & Foster (2004)   Canopy   \n",
       "Dial et al. (2006)        Canopy   \n",
       "Stork, N. E. (1996)       Canopy   \n",
       "\n",
       "                                                                   Remarks  \n",
       "Reference                                                                   \n",
       "Ellwood & Foster (2004)  Ellwood & Foster report 3776 g ha^-1 dry bioma...  \n",
       "Dial et al. (2006)       Dial et al. Estimate 23.6 kg dry weight per ha.\\n  \n",
       "Stork, N. E. (1996)      From page 6 – 30 kg dry weight per ha. Assumin...  "
      ]
     },
     "execution_count": 11,
     "metadata": {},
     "output_type": "execute_result"
    }
   ],
   "source": [
    "# Load the data on the biomass density of canopy arthropods\n",
    "canopy_data = pd.read_excel('terrestrial_arthropods_data.xlsx', 'Canopy',index_col='Reference')\n",
    "canopy_data"
   ]
  },
  {
   "cell_type": "markdown",
   "metadata": {},
   "source": [
    "We calculate the geometric mean of the estimates for the biomass density of arthropods in canopies:"
   ]
  },
  {
   "cell_type": "code",
   "execution_count": 12,
   "metadata": {},
   "outputs": [
    {
     "name": "stdout",
     "output_type": "stream",
     "text": [
      "Our best estimate for the biomass density of arthropods in canopies is ≈0.7 g C m^-2\n"
     ]
    }
   ],
   "source": [
    "# Calculate the geometric mean of the estimates of biomass densitiy of canopy arthropods\n",
    "canopy_biomass_density = gmean(canopy_data['Biomass density [g C m^-2]'])\n",
    "print('Our best estimate for the biomass density of arthropods in canopies is ≈%.1f g C m^-2' %canopy_biomass_density)"
   ]
  },
  {
   "cell_type": "markdown",
   "metadata": {},
   "source": [
    "To generate our best estimate for the biomass of arthropods using estimates of biomass densities, we sum the estimates for the biomass density of arthropods in soils and in canopies, and apply this density over the entire ice-free land surface of $1.3×10^{14} \\: m^2$:"
   ]
  },
  {
   "cell_type": "code",
   "execution_count": 13,
   "metadata": {},
   "outputs": [
    {
     "name": "stdout",
     "output_type": "stream",
     "text": [
      "Our best estimate for the biomass of terrestrial arthropods using average biomass densities is ≈0.4 Gt C\n"
     ]
    }
   ],
   "source": [
    "# Sum the biomass densities of arthropods in soils and in canopies\n",
    "total_denisty = litter_biomass_density+soil_biomass_density+canopy_biomass_density\n",
    "\n",
    "# Apply the average biomass density across the entire ice-free land surface\n",
    "method1_estimate = total_denisty*1.3e14\n",
    "\n",
    "print('Our best estimate for the biomass of terrestrial arthropods using average biomass densities is ≈%.1f Gt C' %(method1_estimate/1e15))"
   ]
  },
  {
   "cell_type": "markdown",
   "metadata": {},
   "source": [
    "## Average carbon content method\n",
    "In this method, in order to estimate the total biomass of arthropods, we calculate the carbon content of a characteristic arthropod, and multiply this carbon content by an estimate for the total number of arthropods.\n",
    "We rely both on data from Gist & Crossley which detail the total number of arthropods per unit area as well as the total biomass of arthropods per unit area for serveal studies. Form this data we can calculate the characteristic carbon content of a single arthropod assuming 50% carbon in dry mass:"
   ]
  },
  {
   "cell_type": "code",
   "execution_count": 14,
   "metadata": {},
   "outputs": [
    {
     "data": {
      "text/html": [
       "<div>\n",
       "<style scoped>\n",
       "    .dataframe tbody tr th:only-of-type {\n",
       "        vertical-align: middle;\n",
       "    }\n",
       "\n",
       "    .dataframe tbody tr th {\n",
       "        vertical-align: top;\n",
       "    }\n",
       "\n",
       "    .dataframe thead th {\n",
       "        text-align: right;\n",
       "    }\n",
       "</style>\n",
       "<table border=\"1\" class=\"dataframe\">\n",
       "  <thead>\n",
       "    <tr style=\"text-align: right;\">\n",
       "      <th></th>\n",
       "      <th>Density of individuals [N m^-2]</th>\n",
       "      <th>Wet weight [g m^-2]</th>\n",
       "      <th>Dry weight [g m^-2]</th>\n",
       "      <th>Carbon content [g C per individual]</th>\n",
       "    </tr>\n",
       "    <tr>\n",
       "      <th>Study</th>\n",
       "      <th></th>\n",
       "      <th></th>\n",
       "      <th></th>\n",
       "      <th></th>\n",
       "    </tr>\n",
       "  </thead>\n",
       "  <tbody>\n",
       "    <tr>\n",
       "      <th>Bornebusch (1930) 1</th>\n",
       "      <td>2.1e+03</td>\n",
       "      <td>6.3e+00</td>\n",
       "      <td>1.9e+00</td>\n",
       "      <td>4.4e-04</td>\n",
       "    </tr>\n",
       "    <tr>\n",
       "      <th>Bornebusch (1930) 2</th>\n",
       "      <td>2.6e+02</td>\n",
       "      <td>1.3e+00</td>\n",
       "      <td>4.0e-01</td>\n",
       "      <td>7.6e-04</td>\n",
       "    </tr>\n",
       "    <tr>\n",
       "      <th>Bornebusch (1930) 3</th>\n",
       "      <td>4.5e+03</td>\n",
       "      <td>2.5e+00</td>\n",
       "      <td>7.4e-01</td>\n",
       "      <td>8.1e-05</td>\n",
       "    </tr>\n",
       "    <tr>\n",
       "      <th>Gist &amp; Crossley (1975)</th>\n",
       "      <td>3.1e+04</td>\n",
       "      <td>1.2e+01</td>\n",
       "      <td>4.6e+00</td>\n",
       "      <td>7.5e-05</td>\n",
       "    </tr>\n",
       "    <tr>\n",
       "      <th>Kitazawa (1967) 1</th>\n",
       "      <td>8.7e+05</td>\n",
       "      <td>1.5e+01</td>\n",
       "      <td>4.4e+00</td>\n",
       "      <td>2.5e-06</td>\n",
       "    </tr>\n",
       "    <tr>\n",
       "      <th>Moulder et al. (1970)</th>\n",
       "      <td>4.1e+04</td>\n",
       "      <td>1.6e+00</td>\n",
       "      <td>4.7e-01</td>\n",
       "      <td>5.8e-06</td>\n",
       "    </tr>\n",
       "  </tbody>\n",
       "</table>\n",
       "</div>"
      ],
      "text/plain": [
       "                        Density of individuals [N m^-2]  Wet weight [g m^-2]  \\\n",
       "Study                                                                          \n",
       "Bornebusch (1930) 1                             2.1e+03              6.3e+00   \n",
       "Bornebusch (1930) 2                             2.6e+02              1.3e+00   \n",
       "Bornebusch (1930) 3                             4.5e+03              2.5e+00   \n",
       "Gist & Crossley (1975)                          3.1e+04              1.2e+01   \n",
       "Kitazawa (1967) 1                               8.7e+05              1.5e+01   \n",
       "Moulder et al. (1970)                           4.1e+04              1.6e+00   \n",
       "\n",
       "                        Dry weight [g m^-2]  \\\n",
       "Study                                         \n",
       "Bornebusch (1930) 1                 1.9e+00   \n",
       "Bornebusch (1930) 2                 4.0e-01   \n",
       "Bornebusch (1930) 3                 7.4e-01   \n",
       "Gist & Crossley (1975)              4.6e+00   \n",
       "Kitazawa (1967) 1                   4.4e+00   \n",
       "Moulder et al. (1970)               4.7e-01   \n",
       "\n",
       "                        Carbon content [g C per individual]  \n",
       "Study                                                        \n",
       "Bornebusch (1930) 1                                 4.4e-04  \n",
       "Bornebusch (1930) 2                                 7.6e-04  \n",
       "Bornebusch (1930) 3                                 8.1e-05  \n",
       "Gist & Crossley (1975)                              7.5e-05  \n",
       "Kitazawa (1967) 1                                   2.5e-06  \n",
       "Moulder et al. (1970)                               5.8e-06  "
      ]
     },
     "execution_count": 14,
     "metadata": {},
     "output_type": "execute_result"
    }
   ],
   "source": [
    "pd.options.display.float_format = '{:,.1e}'.format\n",
    "\n",
    "# Calculate the carbon content of a single arthropod by dividing the dry weight by 2 (assuming 50% carbon in\n",
    "# dry weight) and dividing the result by the total number of individuals\n",
    "gc_study['Carbon content [g C per individual]'] = gc_study['Dry weight [g m^-2]']/2/gc_study['Density of individuals [N m^-2]']\n",
    "\n",
    "gc_study"
   ]
  },
  {
   "cell_type": "markdown",
   "metadata": {},
   "source": [
    "We combine the data from these studies with data from additional sources detailed below:"
   ]
  },
  {
   "cell_type": "code",
   "execution_count": 15,
   "metadata": {},
   "outputs": [
    {
     "data": {
      "text/html": [
       "<div>\n",
       "<style scoped>\n",
       "    .dataframe tbody tr th:only-of-type {\n",
       "        vertical-align: middle;\n",
       "    }\n",
       "\n",
       "    .dataframe tbody tr th {\n",
       "        vertical-align: top;\n",
       "    }\n",
       "\n",
       "    .dataframe thead th {\n",
       "        text-align: right;\n",
       "    }\n",
       "</style>\n",
       "<table border=\"1\" class=\"dataframe\">\n",
       "  <thead>\n",
       "    <tr style=\"text-align: right;\">\n",
       "      <th></th>\n",
       "      <th>Carbon content [g C per individual]</th>\n",
       "      <th>Site</th>\n",
       "      <th>Habitat</th>\n",
       "      <th>Link</th>\n",
       "      <th>Comments</th>\n",
       "      <th>Remarks</th>\n",
       "    </tr>\n",
       "    <tr>\n",
       "      <th>Reference</th>\n",
       "      <th></th>\n",
       "      <th></th>\n",
       "      <th></th>\n",
       "      <th></th>\n",
       "      <th></th>\n",
       "      <th></th>\n",
       "    </tr>\n",
       "  </thead>\n",
       "  <tbody>\n",
       "    <tr>\n",
       "      <th>Ellwood &amp; Foster (2004)</th>\n",
       "      <td>1.0e-03</td>\n",
       "      <td>Borneo</td>\n",
       "      <td>lowland dipterocarp rainforest</td>\n",
       "      <td>http://dx.doi.org/10.1038/nature02560</td>\n",
       "      <td>Canopy</td>\n",
       "      <td>Ellwood &amp; Foster report 88 g dry weight per fe...</td>\n",
       "    </tr>\n",
       "    <tr>\n",
       "      <th>Stork (1996)</th>\n",
       "      <td>3.5e-04</td>\n",
       "      <td>Seram</td>\n",
       "      <td>Lowland Tropical Rain Forest</td>\n",
       "      <td>http://dx.doi.org/10.1007/978-94-009-1685-2_1</td>\n",
       "      <td>Soil</td>\n",
       "      <td>From page 6 - The results of this study indica...</td>\n",
       "    </tr>\n",
       "    <tr>\n",
       "      <th>Dial et al. (2006)</th>\n",
       "      <td>5.0e-04</td>\n",
       "      <td>Borneo</td>\n",
       "      <td>Lowland Tropical Rain Forest</td>\n",
       "      <td>http://dx.doi.org/10.1111/j.1744-7429.2006.001...</td>\n",
       "      <td>Canopy</td>\n",
       "      <td>Dial et al. Estimate 2.4*10^4 g dry weight in ...</td>\n",
       "    </tr>\n",
       "  </tbody>\n",
       "</table>\n",
       "</div>"
      ],
      "text/plain": [
       "                         Carbon content [g C per individual]    Site  \\\n",
       "Reference                                                              \n",
       "Ellwood & Foster (2004)                              1.0e-03  Borneo   \n",
       "Stork (1996)                                         3.5e-04   Seram   \n",
       "Dial et al. (2006)                                   5.0e-04  Borneo   \n",
       "\n",
       "                                                Habitat  \\\n",
       "Reference                                                 \n",
       "Ellwood & Foster (2004)  lowland dipterocarp rainforest   \n",
       "Stork (1996)               Lowland Tropical Rain Forest   \n",
       "Dial et al. (2006)         Lowland Tropical Rain Forest   \n",
       "\n",
       "                                                                      Link  \\\n",
       "Reference                                                                    \n",
       "Ellwood & Foster (2004)              http://dx.doi.org/10.1038/nature02560   \n",
       "Stork (1996)                 http://dx.doi.org/10.1007/978-94-009-1685-2_1   \n",
       "Dial et al. (2006)       http://dx.doi.org/10.1111/j.1744-7429.2006.001...   \n",
       "\n",
       "                        Comments  \\\n",
       "Reference                          \n",
       "Ellwood & Foster (2004)   Canopy   \n",
       "Stork (1996)                Soil   \n",
       "Dial et al. (2006)        Canopy   \n",
       "\n",
       "                                                                   Remarks  \n",
       "Reference                                                                   \n",
       "Ellwood & Foster (2004)  Ellwood & Foster report 88 g dry weight per fe...  \n",
       "Stork (1996)             From page 6 - The results of this study indica...  \n",
       "Dial et al. (2006)       Dial et al. Estimate 2.4*10^4 g dry weight in ...  "
      ]
     },
     "execution_count": 15,
     "metadata": {},
     "output_type": "execute_result"
    }
   ],
   "source": [
    "# Load additional data sources\n",
    "other_carbon_content_data = pd.read_excel('terrestrial_arthropods_data.xlsx', 'Carbon content',index_col='Reference')\n",
    "\n",
    "other_carbon_content_data"
   ]
  },
  {
   "cell_type": "markdown",
   "metadata": {},
   "source": [
    "We calculate the geometric mean of the estimates from the difference studies and use it as our best estimate for the carbon content of a characteristic arthropod:"
   ]
  },
  {
   "cell_type": "code",
   "execution_count": 16,
   "metadata": {},
   "outputs": [
    {
     "name": "stdout",
     "output_type": "stream",
     "text": [
      "Our best estimate for the carbon content of a characteristic arthropod is 1.2e-04 g C\n"
     ]
    }
   ],
   "source": [
    "# Calculate the geometric mean of the estimates from the different studies on the average carbon content of a single arthropod.\n",
    "average_carbon_content = gmean(pd.concat([other_carbon_content_data,gc_study])['Carbon content [g C per individual]'])\n",
    "print('Our best estimate for the carbon content of a characteristic arthropod is %.1e g C' % average_carbon_content)"
   ]
  },
  {
   "cell_type": "markdown",
   "metadata": {},
   "source": [
    "To estimate the total biomass of arthropods using the characteristic carbon content method, we multiply our best estiamte of the carbon content of a single arthropod by an estimate of the total number of arthropods made by [Williams](http://dx.doi.org/10.1086/282115). Williams estiamted a total of $~10^{18}$ individual insects in soils. We assume this estimate of the total number of insects is close to the total number of arthropods (noting that in this estimate Williams also included collembola which back in 1960 were considered insects, and are usually very numerous because of their small size). To estimate the total biomass of arthropods, we multiply the carbon content of a single arthropod by the the estimate for the total number of arthropods:"
   ]
  },
  {
   "cell_type": "code",
   "execution_count": 17,
   "metadata": {},
   "outputs": [
    {
     "name": "stdout",
     "output_type": "stream",
     "text": [
      "Our best estimate for the biomass of terrestrial arthropods using average biomass densities is ≈0.1 Gt C\n"
     ]
    }
   ],
   "source": [
    "# Total number of insects estimated by Williams\n",
    "tot_num_arthropods = 1e18\n",
    "\n",
    "# Calculate the total biomass of arthropods\n",
    "method2_estimate = average_carbon_content*tot_num_arthropods\n",
    "print('Our best estimate for the biomass of terrestrial arthropods using average biomass densities is ≈%.1f Gt C' %(method2_estimate/1e15))"
   ]
  },
  {
   "cell_type": "markdown",
   "metadata": {},
   "source": [
    "Our best estimate for the biomass of arthropods is the geometric mean of the estimates from the two methods:"
   ]
  },
  {
   "cell_type": "code",
   "execution_count": 18,
   "metadata": {},
   "outputs": [
    {
     "name": "stdout",
     "output_type": "stream",
     "text": [
      "Our best estimate for the biomass of terrestrial arthropods is ≈0.2 Gt C\n"
     ]
    }
   ],
   "source": [
    "# Calculate the geometric mean of the estimates using the two methods\n",
    "best_estimate = gmean([method1_estimate,method2_estimate])\n",
    "print('Our best estimate for the biomass of terrestrial arthropods is ≈%.1f Gt C' %(best_estimate/1e15))             "
   ]
  },
  {
   "cell_type": "markdown",
   "metadata": {},
   "source": [
    "# Uncertainty analysis\n",
    "To assess the uncertainty associated with the estimate of the biomass of terrestrial arthropods, we compile a collection of the different sources of uncertainty, and combine them to project the total uncertainty. We survey the interstudy uncertainty for estimates within each method, the total uncertainty of each method and the uncertainty of the geometric mean of the values from the two methods.\n",
    "\n",
    "## Average biomass densities method\n",
    "We calculate the 95% confidence interval for the geometric mean of the biomass densities reported for soil and canopy arthropods:"
   ]
  },
  {
   "cell_type": "code",
   "execution_count": 19,
   "metadata": {},
   "outputs": [
    {
     "name": "stdout",
     "output_type": "stream",
     "text": [
      "The 95 percent confidence interval for the average biomass density of soil arthropods is ≈2.0-fold\n",
      "The 95 percent confidence interval for the average biomass density of soil arthropods is ≈1.8-fold\n",
      "The 95 percent confidence interval for the average biomass density of canopy arthropods is ≈1.9-fold\n"
     ]
    }
   ],
   "source": [
    "litter_CI = geo_CI_calc(conc_mean['Biomass density [g C m^-2]'])\n",
    "soil_CI = geo_CI_calc(soil_data['Biomass density [g C m^-2]'])\n",
    "canopy_CI = geo_CI_calc(canopy_data['Biomass density [g C m^-2]'])\n",
    "print('The 95 percent confidence interval for the average biomass density of soil arthropods is ≈%.1f-fold' %litter_CI)\n",
    "print('The 95 percent confidence interval for the average biomass density of soil arthropods is ≈%.1f-fold' %soil_CI)\n",
    "print('The 95 percent confidence interval for the average biomass density of canopy arthropods is ≈%.1f-fold' %canopy_CI)"
   ]
  },
  {
   "cell_type": "markdown",
   "metadata": {},
   "source": [
    "To estimate the uncertainty of the global biomass estimate using the average biomass density method, we propagate the uncertainties of the soil and canopy biomass density:"
   ]
  },
  {
   "cell_type": "code",
   "execution_count": 20,
   "metadata": {},
   "outputs": [
    {
     "name": "stdout",
     "output_type": "stream",
     "text": [
      "The 95 percent confidence interval biomass of arthropods using the biomass densities method is ≈1.5-fold\n"
     ]
    }
   ],
   "source": [
    "method1_CI = CI_sum_prop(estimates=np.array([litter_biomass_density,soil_biomass_density,canopy_biomass_density]),mul_CIs=np.array([litter_CI,soil_CI,canopy_CI]))\n",
    "print('The 95 percent confidence interval biomass of arthropods using the biomass densities method is ≈%.1f-fold' %method1_CI)"
   ]
  },
  {
   "cell_type": "markdown",
   "metadata": {},
   "source": [
    "## Average carbon content method\n",
    "As a measure of the uncertainty of the estimate of the total biomass of arthropods using the average carbon content method, we calculate the 95% confidence interval of the geometric mean of the estimates from different studies of the carbon content of a single arthropod:"
   ]
  },
  {
   "cell_type": "code",
   "execution_count": 21,
   "metadata": {},
   "outputs": [
    {
     "name": "stdout",
     "output_type": "stream",
     "text": [
      "The 95 percent confidence interval of the carbon content of a single arthropod is ≈4.1-fold\n"
     ]
    }
   ],
   "source": [
    "carbon_content_CI = geo_CI_calc(pd.concat([other_carbon_content_data,gc_study])['Carbon content [g C per individual]'])\n",
    "print('The 95 percent confidence interval of the carbon content of a single arthropod is ≈%.1f-fold' %carbon_content_CI)"
   ]
  },
  {
   "cell_type": "markdown",
   "metadata": {},
   "source": [
    "We combine this uncertainty of the average carbon content of a single arthropod with the uncertainty reported in Williams on the total number of insects of about one order of magnitude. This provides us with a measure of the uncertainty of the estimate of the biomass of arthropods using the average carbon content method."
   ]
  },
  {
   "cell_type": "code",
   "execution_count": 22,
   "metadata": {},
   "outputs": [
    {
     "name": "stdout",
     "output_type": "stream",
     "text": [
      "The 95 percent confidence interval biomass of arthropods using the average carbon content method is ≈14.9-fold\n"
     ]
    }
   ],
   "source": [
    "# The uncertainty of the total number of insects from Williams\n",
    "tot_num_arthropods_CI = 10\n",
    "\n",
    "# Combine the uncertainties of the average carbon content of a single arthropod and the uncertainty of \n",
    "# the total number of arthropods\n",
    "method2_CI = CI_prod_prop(np.array([carbon_content_CI,tot_num_arthropods_CI]))\n",
    "print('The 95 percent confidence interval biomass of arthropods using the average carbon content method is ≈%.1f-fold' %method2_CI)"
   ]
  },
  {
   "cell_type": "markdown",
   "metadata": {},
   "source": [
    "## Inter-method uncertainty\n",
    "We calculate the 95% conficence interval of the geometric mean of the estimates of the biomass of arthropods using the average biomass density or the average carbon content:"
   ]
  },
  {
   "cell_type": "code",
   "execution_count": 23,
   "metadata": {},
   "outputs": [
    {
     "name": "stdout",
     "output_type": "stream",
     "text": [
      "The inter-method uncertainty of the geometric mean of the estimates of the biomass of arthropods is ≈3.0\n"
     ]
    }
   ],
   "source": [
    "inter_CI = geo_CI_calc(np.array([method1_estimate,method2_estimate]))\n",
    "print('The inter-method uncertainty of the geometric mean of the estimates of the biomass of arthropods is ≈%.1f' % inter_CI)"
   ]
  },
  {
   "cell_type": "markdown",
   "metadata": {},
   "source": [
    "As our best projection for the uncertainty associated with the estimate of the biomass of terrestrial arthropods, we take the highest uncertainty among the collection of uncertainties we generate, which is the ≈15-fold uncertainty of the average carbon content method. "
   ]
  },
  {
   "cell_type": "code",
   "execution_count": 24,
   "metadata": {},
   "outputs": [
    {
     "name": "stdout",
     "output_type": "stream",
     "text": [
      "Our best projection for the uncertainty associated with the estimate of the biomass of terrestrial arthropods is ≈14.9-fold\n"
     ]
    }
   ],
   "source": [
    "mul_CI = np.max([inter_CI,method1_CI,method2_CI])\n",
    "print('Our best projection for the uncertainty associated with the estimate of the biomass of terrestrial arthropods is ≈%.1f-fold' %mul_CI)"
   ]
  },
  {
   "cell_type": "markdown",
   "metadata": {},
   "source": [
    "## The biomass of termites\n",
    "As we state in the Supplementary Information, there are some groups of terrestrial arthropods for which better estimates are available. An example is the biomass of termites. We use the data in [Sanderson](http://dx.doi.org/10.1029/96GB01893) to estimate the global biomass of termites:"
   ]
  },
  {
   "cell_type": "code",
   "execution_count": 25,
   "metadata": {},
   "outputs": [
    {
     "name": "stdout",
     "output_type": "stream",
     "text": [
      "The estimate of the total biomass of termites based on Sanderson is ≈0.07 Gt C\n"
     ]
    }
   ],
   "source": [
    "# Load termite data\n",
    "termite_data = pd.read_excel('terrestrial_arthropods_data.xlsx', 'Sanderson', skiprows=1, index_col=0)\n",
    "\n",
    "# Multiply biomass density by biome area and sum over biomes\n",
    "termite_biomass = (termite_data['Area [m^2]']* termite_data['Biomass density [g wet weight m^-2]']).sum()\n",
    "\n",
    "# Calculate carbon mass assuming carbon is 15% of wet weight\n",
    "termite_biomass *= 0.15\n",
    "\n",
    "print('The estimate of the total biomass of termites based on Sanderson is ≈%.2f Gt C' %(termite_biomass/1e15))"
   ]
  },
  {
   "cell_type": "code",
   "execution_count": 26,
   "metadata": {},
   "outputs": [],
   "source": [
    "# Feed results to the animal biomass data\n",
    "old_results = pd.read_excel('../../animal_biomass_estimate.xlsx',index_col=0)\n",
    "result = old_results.copy()\n",
    "result.loc['Terrestrial arthropods',(['Biomass [Gt C]','Uncertainty'])] = (best_estimate/1e15,mul_CI)\n",
    "\n",
    "result.to_excel('../../animal_biomass_estimate.xlsx')\n",
    "\n",
    "# Feed results to Table 1 & Fig. 1\n",
    "update_results(sheet='Table1 & Fig1', \n",
    "               row=('Animals','Terrestrial arthropods'), \n",
    "               col=['Biomass [Gt C]', 'Uncertainty'],\n",
    "               values=[best_estimate/1e15,mul_CI],\n",
    "               path='../../../results.xlsx')\n",
    "\n",
    "\n",
    "# Feed results to Table S1\n",
    "update_results(sheet='Table S1', \n",
    "               row=('Animals','Terrestrial arthropods'), \n",
    "               col=['Number of individuals'],\n",
    "               values=tot_num_arthropods,\n",
    "               path='../../../results.xlsx')"
   ]
  }
 ],
 "metadata": {
  "kernelspec": {
   "display_name": "Python 3",
   "language": "python",
   "name": "python3"
  },
  "language_info": {
   "codemirror_mode": {
    "name": "ipython",
    "version": 3
   },
   "file_extension": ".py",
   "mimetype": "text/x-python",
   "name": "python",
   "nbconvert_exporter": "python",
   "pygments_lexer": "ipython3",
   "version": "3.6.3"
  }
 },
 "nbformat": 4,
 "nbformat_minor": 2
}
