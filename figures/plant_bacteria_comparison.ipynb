{
 "cells": [
  {
   "cell_type": "code",
   "execution_count": 1,
   "metadata": {
    "collapsed": true
   },
   "outputs": [],
   "source": [
    "# Load dependencies\n",
    "import pandas as pd\n",
    "import numpy as np\n",
    "from scipy.stats import gmean\n",
    "import matplotlib.pyplot as plt\n",
    "%matplotlib inline\n",
    "import sys\n",
    "sys.path.insert(0, '../statistics_helper/')\n",
    "from CI_helper import *\n",
    "from excel_utils import *"
   ]
  },
  {
   "cell_type": "markdown",
   "metadata": {},
   "source": [
    "# Quantifying the probability of plant biomass being higher than bacterial biomass\n",
    "In order to quantify the probability of plants having more biomass than bacteria, we randomly sample from the distribution of our estimates for the biomass of plants and bacteria."
   ]
  },
  {
   "cell_type": "code",
   "execution_count": 2,
   "metadata": {},
   "outputs": [
    {
     "name": "stdout",
     "output_type": "stream",
     "text": [
      "The probability of plants having more biomass than bacteria is ≈0.00%\n"
     ]
    },
    {
     "name": "stderr",
     "output_type": "stream",
     "text": [
      "/usr/local/lib/python3.5/dist-packages/ipykernel_launcher.py:16: RuntimeWarning: invalid value encountered in greater\n",
      "  app.launch_new_instance()\n"
     ]
    }
   ],
   "source": [
    "# Load results\n",
    "results = pd.read_excel('../results.xlsx','Table1 & Fig1',index_col=[0,1])\n",
    "\n",
    "bacteria_mean = results.loc[('Bacteria','Terrestrial deep subsurface'),'Total biomass [Gt C]']\n",
    "bacteria_CI = results.loc[('Bacteria','Terrestrial deep subsurface'),'Total uncertainty']\n",
    "\n",
    "plant_mean = results.loc[('Plants','Plants'),'Biomass [Gt C]']\n",
    "plant_CI = results.loc[('Plants','Plants'),'Total uncertainty']\n",
    "\n",
    "# Sample 100000 times from the distribution of our estimates for the biomass of plants and bacteria\n",
    "sample_size = 100000\n",
    "bacteria = np.random.lognormal(mean = np.log(bacteria_mean), sigma = np.log(bacteria_CI)/1.96,size=sample_size).reshape([1,-1])    \n",
    "plants = np.random.lognormal(mean = np.log(plant_mean), sigma = np.log(plant_CI)/1.96,size=sample_size).reshape([1,-1])    \n",
    "\n",
    "# Calculate the probability of plant biomass being higher than that of bacteria\n",
    "p_val = (plants > bacteria).sum()/sample_size\n",
    "\n",
    "print('The probability of plants having more biomass than bacteria is ≈%.2f' %p_val + '%')"
   ]
  },
  {
   "cell_type": "code",
   "execution_count": 54,
   "metadata": {},
   "outputs": [
    {
     "data": {
      "text/plain": [
       "0.9027"
      ]
     },
     "execution_count": 54,
     "metadata": {},
     "output_type": "execute_result"
    },
    {
     "data": {
      "image/png": "[encoded data removed]",
      "text/plain": [
       "<Figure size 432x288 with 1 Axes>"
      ]
     },
     "metadata": {},
     "output_type": "display_data"
    }
   ],
   "source": [
    "means = results.loc['Bacteria','Biomass [Gt C]']\n",
    "mul_CIs = results.loc['Bacteria','Uncertainty']\n",
    "sample = lambda x,y: np.random.lognormal(mean = np.log(x), sigma = np.log(y)/1.96,size=sample_size).reshape([-1,1])    \n",
    "result = np.empty([sample_size,4])\n",
    "for x,ind in enumerate(means.index):\n",
    "    result[:,x:x+1] = sample(means.loc[ind],mul_CIs.loc[ind])\n",
    "    \n",
    "bac_sum = result.sum(axis=1)\n",
    "\n",
    "bins = 10**(np.linspace(0,4,1000))\n",
    "weights = np.ones(100000)/sample_size\n",
    "\n",
    "bins2 = 10**(np.linspace(0,4,100))\n",
    "weights2 = np.ones(100000)/sample_size/10\n",
    "\n",
    "\n",
    "axes = plt.hist(bac_sum,bins=bins2,weights=weights2,alpha=0.7)\n",
    "plants = sample(results.loc[('Plants','Plants'),'Biomass [Gt C]'],results.loc[('Plants','Plants'),'Total uncertainty'])\n",
    "r = plt.hist(plants[:,0],bins=bins,weights=weights,alpha=0.7)\n",
    "plt.legend(['Bacteria', 'Plants'])\n",
    "plt.xscale('log')\n",
    "plt.xlabel('Biomass [Gt C]')\n",
    "plt.ylabel('Probability')\n",
    "plt.gca().set_yticks([])\n",
    "plt.savefig('Figure.png',dpi=300)\n",
    "(bac_sum < plants[:,0]).sum()/sample_size\n"
   ]
  }
 ],
 "metadata": {
  "kernelspec": {
   "display_name": "Python 3",
   "language": "python",
   "name": "python3"
  },
  "language_info": {
   "codemirror_mode": {
    "name": "ipython",
    "version": 3
   },
   "file_extension": ".py",
   "mimetype": "text/x-python",
   "name": "python",
   "nbconvert_exporter": "python",
   "pygments_lexer": "ipython3",
   "version": "3.5.2"
  }
 },
 "nbformat": 4,
 "nbformat_minor": 2
}
