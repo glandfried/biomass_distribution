{
 "cells": [
  {
   "cell_type": "code",
   "execution_count": 2,
   "metadata": {
    "collapsed": true
   },
   "outputs": [],
   "source": [
    "# Load dependencies\n",
    "import pandas as pd\n",
    "import numpy as np\n",
    "from scipy.stats import gmean\n",
    "import matplotlib.pyplot as plt\n",
    "%matplotlib inline\n",
    "import sys\n",
    "sys.path.insert(0, '../statistics_helper/')\n",
    "from CI_helper import *\n",
    "from excel_utils import *"
   ]
  },
  {
   "cell_type": "markdown",
   "metadata": {},
   "source": [
    "# Quantifying the probability of the marine trophic pyramids being inverted\n",
    "In order to quantify the probability of consumer biomass in the marine environment being lrager than producer biomass, we randomly sample from the distribution of our estimates for the biomass of each taxon of producer of consumer biomass. For each taxon with no uncertainty estimate, we assume its uncertainty is an order of magnitude.\n"
   ]
  },
  {
   "cell_type": "code",
   "execution_count": 4,
   "metadata": {},
   "outputs": [
    {
     "name": "stdout",
     "output_type": "stream",
     "text": [
      "The probability marine consumers have larger biomass than marine producers is ≈95%\n"
     ]
    }
   ],
   "source": [
    "# Load results\n",
    "results = pd.read_excel('../results.xlsx','Fig2B')\n",
    "\n",
    "# Extract marine producers biomass data\n",
    "marine_producers = results.iloc[20:25,0:3]\n",
    "marine_producers.columns = results.iloc[19,0:3]\n",
    "\n",
    "# Extract marine consumers biomass data\n",
    "marine_consumers = results.iloc[20:30,3:]\n",
    "marine_consumers.columns = results.iloc[19,0:3]\n",
    "\n",
    "\n",
    "sample_size = 100000\n",
    "\n",
    "# Define the funcion that samples from the distribution of biomass of each taxon for producers and consumers\n",
    "def sample_biomass(estimates,sample_size):\n",
    "    ans = np.empty([sample_size,estimates.shape[0]])\n",
    "    for x,ind in enumerate(estimates.index):        \n",
    "        ans[:,x:x+1] = np.random.lognormal(mean = np.log(estimates.loc[ind,'Biomass']), sigma = np.log(estimates.loc[ind,'Uncertainty'])/1.96,size=sample_size).reshape([-1,1])\n",
    "    return ans.sum(axis=1)\n",
    "\n",
    "# Sample from the distribution of estimates for each of the taxa of the producers and consumers\n",
    "marine_consumer_sample = sample_biomass(marine_consumers,sample_size)\n",
    "marine_producer_sample = sample_biomass(marine_producers,sample_size)\n",
    "\n",
    "# Calculate the probability that marine consumers have larger biomass than marine producers\n",
    "inverted_prob = (marine_consumer_sample>marine_producer_sample).sum()/sample_size\n",
    "\n",
    "print('The probability marine consumers have larger biomass than marine producers is ≈%.0f' %(inverted_prob*100) + \"%\")"
   ]
  }
 ],
 "metadata": {
  "kernelspec": {
   "display_name": "Python 3",
   "language": "python",
   "name": "python3"
  },
  "language_info": {
   "codemirror_mode": {
    "name": "ipython",
    "version": 3
   },
   "file_extension": ".py",
   "mimetype": "text/x-python",
   "name": "python",
   "nbconvert_exporter": "python",
   "pygments_lexer": "ipython3",
   "version": "3.5.2"
  }
 },
 "nbformat": 4,
 "nbformat_minor": 2
}
