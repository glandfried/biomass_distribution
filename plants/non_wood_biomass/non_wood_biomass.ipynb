{
 "cells": [
  {
   "cell_type": "markdown",
   "metadata": {},
   "source": [
    "# Estimating the fraction of plant biomass which is not woody\n",
    "To estimate the total non-woody plant biomass, we rely on two methods. The first is to estimate the global average leaf and root mass fractions, and the second is by estimating the total biomass of roots and leaves.\n",
    "\n",
    "## Method1 - fraction of leaves and roots\n",
    "To estimate the global average leaf and root mass fractions, we rely on a recent meta-analysis which collected data on the lead, shoot and root mass fractions in several different biomes ([Poorter et al.](http://dx.doi.org/10.1111/j.1469-8137.2011.03952.x)). Here are the mean leaf, shoot, and root mass fractions in each biome:"
   ]
  },
  {
   "cell_type": "code",
   "execution_count": 1,
   "metadata": {},
   "outputs": [
    {
     "data": {
      "text/html": [
       "<div>\n",
       "<style scoped>\n",
       "    .dataframe tbody tr th:only-of-type {\n",
       "        vertical-align: middle;\n",
       "    }\n",
       "\n",
       "    .dataframe tbody tr th {\n",
       "        vertical-align: top;\n",
       "    }\n",
       "\n",
       "    .dataframe thead th {\n",
       "        text-align: right;\n",
       "    }\n",
       "</style>\n",
       "<table border=\"1\" class=\"dataframe\">\n",
       "  <thead>\n",
       "    <tr style=\"text-align: right;\">\n",
       "      <th></th>\n",
       "      <th>LMF</th>\n",
       "      <th>SMF</th>\n",
       "      <th>RMF</th>\n",
       "    </tr>\n",
       "    <tr>\n",
       "      <th>Biome</th>\n",
       "      <th></th>\n",
       "      <th></th>\n",
       "      <th></th>\n",
       "    </tr>\n",
       "  </thead>\n",
       "  <tbody>\n",
       "    <tr>\n",
       "      <th>Tundra</th>\n",
       "      <td>0.09</td>\n",
       "      <td>0.37</td>\n",
       "      <td>0.69</td>\n",
       "    </tr>\n",
       "    <tr>\n",
       "      <th>Grassland</th>\n",
       "      <td>0.17</td>\n",
       "      <td>0.27</td>\n",
       "      <td>0.77</td>\n",
       "    </tr>\n",
       "    <tr>\n",
       "      <th>Boreal forest</th>\n",
       "      <td>0.04</td>\n",
       "      <td>0.75</td>\n",
       "      <td>0.21</td>\n",
       "    </tr>\n",
       "    <tr>\n",
       "      <th>Temperate forest</th>\n",
       "      <td>0.03</td>\n",
       "      <td>0.76</td>\n",
       "      <td>0.21</td>\n",
       "    </tr>\n",
       "    <tr>\n",
       "      <th>Tropical forest</th>\n",
       "      <td>0.02</td>\n",
       "      <td>0.82</td>\n",
       "      <td>0.16</td>\n",
       "    </tr>\n",
       "    <tr>\n",
       "      <th>Woodland</th>\n",
       "      <td>0.06</td>\n",
       "      <td>0.57</td>\n",
       "      <td>0.36</td>\n",
       "    </tr>\n",
       "    <tr>\n",
       "      <th>Shrubland</th>\n",
       "      <td>0.09</td>\n",
       "      <td>0.49</td>\n",
       "      <td>0.47</td>\n",
       "    </tr>\n",
       "    <tr>\n",
       "      <th>Desert</th>\n",
       "      <td>0.09</td>\n",
       "      <td>0.28</td>\n",
       "      <td>0.56</td>\n",
       "    </tr>\n",
       "  </tbody>\n",
       "</table>\n",
       "</div>"
      ],
      "text/plain": [
       "                   LMF   SMF   RMF\n",
       "Biome                             \n",
       "Tundra            0.09  0.37  0.69\n",
       "Grassland         0.17  0.27  0.77\n",
       "Boreal forest     0.04  0.75  0.21\n",
       "Temperate forest  0.03  0.76  0.21\n",
       "Tropical forest   0.02  0.82  0.16\n",
       "Woodland          0.06  0.57  0.36\n",
       "Shrubland         0.09  0.49  0.47\n",
       "Desert            0.09  0.28  0.56"
      ]
     },
     "execution_count": 1,
     "metadata": {},
     "output_type": "execute_result"
    }
   ],
   "source": [
    "# Load dependencies\n",
    "import pandas as pd\n",
    "import numpy as np\n",
    "from scipy.stats import gmean\n",
    "import sys\n",
    "sys.path.insert(0,'../../statistics_helper/')\n",
    "from fraction_helper import *\n",
    "\n",
    "# Load data from Poorter et al.\n",
    "fractions = pd.read_excel('non_wood_biomass_data.xlsx','Poorter',skiprows=1,index_col=0)\n",
    "fractions"
   ]
  },
  {
   "cell_type": "markdown",
   "metadata": {},
   "source": [
    "We calculate weighted mean of leaf and root mass fractions. We use the fraction of total plant biomass in each biome as our weights from [Erb et al.](http://dx.doi.org/10.1038/ngeo2782) for the weighted mean. Here is the data from Erb et al.:"
   ]
  },
  {
   "cell_type": "code",
   "execution_count": 2,
   "metadata": {},
   "outputs": [
    {
     "data": {
      "text/html": [
       "<div>\n",
       "<style scoped>\n",
       "    .dataframe tbody tr th:only-of-type {\n",
       "        vertical-align: middle;\n",
       "    }\n",
       "\n",
       "    .dataframe tbody tr th {\n",
       "        vertical-align: top;\n",
       "    }\n",
       "\n",
       "    .dataframe thead th {\n",
       "        text-align: right;\n",
       "    }\n",
       "</style>\n",
       "<table border=\"1\" class=\"dataframe\">\n",
       "  <thead>\n",
       "    <tr style=\"text-align: right;\">\n",
       "      <th></th>\n",
       "      <th>Biome</th>\n",
       "      <th>Total biomass [Gt C]</th>\n",
       "      <th>Categories included in Poorter</th>\n",
       "    </tr>\n",
       "  </thead>\n",
       "  <tbody>\n",
       "    <tr>\n",
       "      <th>0</th>\n",
       "      <td>(Sub)tropical humid-moist forest</td>\n",
       "      <td>205</td>\n",
       "      <td>Tropical forest</td>\n",
       "    </tr>\n",
       "    <tr>\n",
       "      <th>1</th>\n",
       "      <td>(Sub)tropical dry forest</td>\n",
       "      <td>25</td>\n",
       "      <td>Tropical forest</td>\n",
       "    </tr>\n",
       "    <tr>\n",
       "      <th>2</th>\n",
       "      <td>(Sub)Tropical shrubland, desert, mountain</td>\n",
       "      <td>62</td>\n",
       "      <td>Shrubland</td>\n",
       "    </tr>\n",
       "    <tr>\n",
       "      <th>3</th>\n",
       "      <td>Temperate forest</td>\n",
       "      <td>22</td>\n",
       "      <td>Temperate forest</td>\n",
       "    </tr>\n",
       "    <tr>\n",
       "      <th>4</th>\n",
       "      <td>Temperate steppe, desert, mountain</td>\n",
       "      <td>27</td>\n",
       "      <td>Grassland, shrubland</td>\n",
       "    </tr>\n",
       "    <tr>\n",
       "      <th>5</th>\n",
       "      <td>Boreal forest</td>\n",
       "      <td>28</td>\n",
       "      <td>Boreal forest</td>\n",
       "    </tr>\n",
       "    <tr>\n",
       "      <th>6</th>\n",
       "      <td>Boreal tundra, mountain, other</td>\n",
       "      <td>33</td>\n",
       "      <td>Tundra</td>\n",
       "    </tr>\n",
       "  </tbody>\n",
       "</table>\n",
       "</div>"
      ],
      "text/plain": [
       "                                       Biome  Total biomass [Gt C]  \\\n",
       "0           (Sub)tropical humid-moist forest                   205   \n",
       "1                   (Sub)tropical dry forest                    25   \n",
       "2  (Sub)Tropical shrubland, desert, mountain                    62   \n",
       "3                           Temperate forest                    22   \n",
       "4         Temperate steppe, desert, mountain                    27   \n",
       "5                             Boreal forest                     28   \n",
       "6             Boreal tundra, mountain, other                    33   \n",
       "\n",
       "  Categories included in Poorter  \n",
       "0                Tropical forest  \n",
       "1                Tropical forest  \n",
       "2                      Shrubland  \n",
       "3               Temperate forest  \n",
       "4           Grassland, shrubland  \n",
       "5                  Boreal forest  \n",
       "6                         Tundra  "
      ]
     },
     "execution_count": 2,
     "metadata": {},
     "output_type": "execute_result"
    }
   ],
   "source": [
    "# Load data on the total plant biomass in each biome from Erb et al.\n",
    "biomes = pd.read_excel('non_wood_biomass_data.xlsx','Erb',skiprows=1)\n",
    "biomes"
   ]
  },
  {
   "cell_type": "markdown",
   "metadata": {},
   "source": [
    "The specific biomes in Erb et al. are not fully matching the biomes in Poorter et al., and thus we traslate between the biomes in the two studies:"
   ]
  },
  {
   "cell_type": "code",
   "execution_count": 3,
   "metadata": {},
   "outputs": [
    {
     "name": "stdout",
     "output_type": "stream",
     "text": [
      "Our global average for non-woody mass fraction is ≈32 percent\n"
     ]
    }
   ],
   "source": [
    "# Calculate the sum of the mass fractions of leaves and roots\n",
    "non_wood_frac = (fractions['LMF']+fractions['RMF'])/fractions.sum(axis=1)\n",
    "\n",
    "# Calculate the total biomass of each biome by the biomes reported in Poorter et al.\n",
    "tot_biomass = biomes.groupby('Categories included in Poorter').sum()\n",
    "\n",
    "# For the temperate steppe, desert and mountain, we use the mean values from grassland and shrubland in Poorter et al.\n",
    "non_wood_frac.loc['Grassland, shrubland'] = frac_mean(np.array([non_wood_frac.loc['Grassland'],non_wood_frac.loc['Shrubland']]))\n",
    "\n",
    "\n",
    "# Set the non-woody fraction as a column in the biome data\n",
    "tot_biomass['Non wood fraction'] = non_wood_frac\n",
    "\n",
    "# Calculate the weighed average of the non-woody biomass fraction\n",
    "mean_non_wood_frac = np.average(tot_biomass['Non wood fraction'], weights= tot_biomass['Total biomass [Gt C]'])\n",
    "print('Our global average for non-woody mass fraction is ≈%.0f percent' %(mean_non_wood_frac*100))\n"
   ]
  },
  {
   "cell_type": "markdown",
   "metadata": {},
   "source": [
    "Our estimate of the total non-woody plant biomass is the product of our best estimate of the total plant biomass and our estimate of the global average non-woody mass fraction:"
   ]
  },
  {
   "cell_type": "code",
   "execution_count": 4,
   "metadata": {},
   "outputs": [
    {
     "name": "stdout",
     "output_type": "stream",
     "text": [
      "Our best estimate for the total non-wood plant biomass based on the fraction of roots and leaves is ≈146 Gt C\n"
     ]
    }
   ],
   "source": [
    "\n",
    "# Our best estimate for the total biomass\n",
    "tot_plant_biomass = 461e15\n",
    "\n",
    "# Multiply our estimate for the non-woody mass fraction by our estimate\n",
    "# of the total plant biomass\n",
    "method1_non_wood_biomass = mean_non_wood_frac*tot_plant_biomass\n",
    "\n",
    "print('Our best estimate for the total non-wood plant biomass based on the fraction of roots and leaves is ≈%.0f Gt C' %(method1_non_wood_biomass/1e15))"
   ]
  },
  {
   "cell_type": "markdown",
   "metadata": {},
   "source": [
    "## Method2 - total biomass of leaves and roots\n",
    "Our second method for estimating the total non-woody plant biomass is based on estimating the total biomass of roots and leaves. For roots, we rely on the estimate made by [Jackson et al.](http://dx.doi.org/10.1007/BF00333714):"
   ]
  },
  {
   "cell_type": "code",
   "execution_count": 5,
   "metadata": {
    "collapsed": true
   },
   "outputs": [],
   "source": [
    "roots_jackson = 146e15"
   ]
  },
  {
   "cell_type": "markdown",
   "metadata": {},
   "source": [
    "To estimate the total biomass of leaves, we rely on biome averages on the leaf area index (LAI) from [Asner et al.](http://dx.doi.org/10.1046/j.1466-822X.2003.00026.x). Here is the data from Asner et al.:"
   ]
  },
  {
   "cell_type": "code",
   "execution_count": 6,
   "metadata": {},
   "outputs": [
    {
     "data": {
      "text/html": [
       "<div>\n",
       "<style scoped>\n",
       "    .dataframe tbody tr th:only-of-type {\n",
       "        vertical-align: middle;\n",
       "    }\n",
       "\n",
       "    .dataframe tbody tr th {\n",
       "        vertical-align: top;\n",
       "    }\n",
       "\n",
       "    .dataframe thead th {\n",
       "        text-align: right;\n",
       "    }\n",
       "</style>\n",
       "<table border=\"1\" class=\"dataframe\">\n",
       "  <thead>\n",
       "    <tr style=\"text-align: right;\">\n",
       "      <th></th>\n",
       "      <th>LAI [m^2 m^-2]</th>\n",
       "    </tr>\n",
       "    <tr>\n",
       "      <th>Biome</th>\n",
       "      <th></th>\n",
       "    </tr>\n",
       "  </thead>\n",
       "  <tbody>\n",
       "    <tr>\n",
       "      <th>Desert</th>\n",
       "      <td>1.3</td>\n",
       "    </tr>\n",
       "    <tr>\n",
       "      <th>Grassland</th>\n",
       "      <td>1.7</td>\n",
       "    </tr>\n",
       "    <tr>\n",
       "      <th>Tundra</th>\n",
       "      <td>1.9</td>\n",
       "    </tr>\n",
       "    <tr>\n",
       "      <th>Shrubland</th>\n",
       "      <td>2.1</td>\n",
       "    </tr>\n",
       "    <tr>\n",
       "      <th>Boreal DBL</th>\n",
       "      <td>2.6</td>\n",
       "    </tr>\n",
       "    <tr>\n",
       "      <th>Boreal ENL</th>\n",
       "      <td>2.7</td>\n",
       "    </tr>\n",
       "    <tr>\n",
       "      <th>Crops</th>\n",
       "      <td>3.6</td>\n",
       "    </tr>\n",
       "    <tr>\n",
       "      <th>Tropical DBL</th>\n",
       "      <td>3.9</td>\n",
       "    </tr>\n",
       "    <tr>\n",
       "      <th>Boreal/Temperate DNL</th>\n",
       "      <td>4.6</td>\n",
       "    </tr>\n",
       "    <tr>\n",
       "      <th>Tropical EBL</th>\n",
       "      <td>4.8</td>\n",
       "    </tr>\n",
       "    <tr>\n",
       "      <th>Temperate DBL</th>\n",
       "      <td>5.1</td>\n",
       "    </tr>\n",
       "    <tr>\n",
       "      <th>Temperate ENL</th>\n",
       "      <td>5.5</td>\n",
       "    </tr>\n",
       "    <tr>\n",
       "      <th>Temperate EBL</th>\n",
       "      <td>5.7</td>\n",
       "    </tr>\n",
       "    <tr>\n",
       "      <th>Wetlands</th>\n",
       "      <td>6.3</td>\n",
       "    </tr>\n",
       "    <tr>\n",
       "      <th>Plantations</th>\n",
       "      <td>8.7</td>\n",
       "    </tr>\n",
       "  </tbody>\n",
       "</table>\n",
       "</div>"
      ],
      "text/plain": [
       "                      LAI [m^2 m^-2]\n",
       "Biome                               \n",
       "Desert                           1.3\n",
       "Grassland                        1.7\n",
       "Tundra                           1.9\n",
       "Shrubland                        2.1\n",
       "Boreal DBL                       2.6\n",
       "Boreal ENL                       2.7\n",
       "Crops                            3.6\n",
       "Tropical DBL                     3.9\n",
       "Boreal/Temperate DNL             4.6\n",
       "Tropical EBL                     4.8\n",
       "Temperate DBL                    5.1\n",
       "Temperate ENL                    5.5\n",
       "Temperate EBL                    5.7\n",
       "Wetlands                         6.3\n",
       "Plantations                      8.7"
      ]
     },
     "execution_count": 6,
     "metadata": {},
     "output_type": "execute_result"
    }
   ],
   "source": [
    "biome_LAI = pd.read_excel('non_wood_biomass_data.xlsx','Asner',skiprows=1,index_col=0)\n",
    "biome_LAI"
   ]
  },
  {
   "cell_type": "markdown",
   "metadata": {},
   "source": [
    "We use data on the area on each biome from the book \"Biogeochemistry\", and multiply the LAI in each biome by the total area of each biome to estimate the global leaf area:"
   ]
  },
  {
   "cell_type": "code",
   "execution_count": 7,
   "metadata": {},
   "outputs": [
    {
     "name": "stdout",
     "output_type": "stream",
     "text": [
      "Our estimate for the total leaf area is ≈3.1e+14 m^2\n"
     ]
    }
   ],
   "source": [
    "# Load biome area data\n",
    "biome_area = pd.read_excel('non_wood_biomass_data.xlsx','Biome area',skiprows=1,index_col=0)\n",
    "\n",
    "# Calculate the mean LAI for boreal forests\n",
    "biome_LAI.loc['Boreal forest'] = gmean(biome_LAI.loc[['Boreal DBL','Boreal ENL']])\n",
    "\n",
    "# Calculate the mean LAI for temperate forests\n",
    "biome_LAI.loc['Temperate forest'] = gmean(biome_LAI.loc[['Temperate DBL','Temperate EBL','Temperate ENL']])\n",
    "\n",
    "# Calculate the mean LAI for tropical forests\n",
    "biome_LAI.loc['Tropical forest'] = gmean(biome_LAI.loc[['Tropical DBL','Tropical EBL']])\n",
    "\n",
    "# Calculate the mean LAI for temperate grasslands\n",
    "biome_LAI.loc['Temperate grassland'] = biome_LAI.loc['Grassland']\n",
    "\n",
    "# Calculate the mean LAI for tropical savanna\n",
    "biome_LAI.loc['Tropical savanna'] = gmean(biome_LAI.loc[['Grassland','Shrubland']])\n",
    "\n",
    "# Multiply the mean LAI in each biome by the total area of each biome\n",
    "tot_leaf_area = (biome_LAI['LAI [m^2 m^-2]']*biome_area['Area [m^2]']).sum()\n",
    "print('Our estimate for the total leaf area is ≈%.1e m^2' % tot_leaf_area)"
   ]
  },
  {
   "cell_type": "markdown",
   "metadata": {},
   "source": [
    "To convert the total leaf area into total biomass of leaves, we use an estimate for the average leaf mass per area (LMA) from the Glopnet database [Wright et al.](http://dx.doi.org/10.1038/nature02403):"
   ]
  },
  {
   "cell_type": "code",
   "execution_count": 8,
   "metadata": {},
   "outputs": [
    {
     "name": "stdout",
     "output_type": "stream",
     "text": [
      "Our estimate for the global leaf biomass is ≈16.6 Gt C\n"
     ]
    }
   ],
   "source": [
    "# Load the glopnet data\n",
    "glopnet_data = pd.read_excel('non_wood_biomass_data.xlsx','glopnet_data')\n",
    "\n",
    "# Calculate the geometric mean of the LMA\n",
    "geomean_LMA = 10**glopnet_data.loc[glopnet_data['GF']=='T',['log LMA']].mean()\n",
    "\n",
    "# Convert the global leaf area to global leaf biomass\n",
    "tot_leaf_biomass = tot_leaf_area*geomean_LMA/2\n",
    "\n",
    "print('Our estimate for the global leaf biomass is ≈%.1f Gt C' %(tot_leaf_biomass/1e15))"
   ]
  },
  {
   "cell_type": "markdown",
   "metadata": {},
   "source": [
    "We sum our estimates for the total biomass of roots and leaves to produce our estimate of the total non-woody plant biomass:"
   ]
  },
  {
   "cell_type": "code",
   "execution_count": 9,
   "metadata": {},
   "outputs": [
    {
     "name": "stdout",
     "output_type": "stream",
     "text": [
      "Our best estimate for the total non-wood plant biomass based on estimates of the total biomass of roots and leaves is ≈163 Gt C\n"
     ]
    }
   ],
   "source": [
    "method2_non_wood_biomass = tot_leaf_biomass + roots_jackson\n",
    "print('Our best estimate for the total non-wood plant biomass based on estimates of the total biomass of roots and leaves is ≈%.0f Gt C' %(method2_non_wood_biomass/1e15))"
   ]
  },
  {
   "cell_type": "markdown",
   "metadata": {},
   "source": [
    "We use the geometric mean of our estimates from the two methods as our best estimate for the total non-woody plant biomass:"
   ]
  },
  {
   "cell_type": "code",
   "execution_count": 10,
   "metadata": {},
   "outputs": [
    {
     "name": "stdout",
     "output_type": "stream",
     "text": [
      "Our best estimate for the total non-wood plant biomass is ≈154 Gt C\n"
     ]
    }
   ],
   "source": [
    "best_non_wood_biomass = gmean([method1_non_wood_biomass,method2_non_wood_biomass])\n",
    "print('Our best estimate for the total non-wood plant biomass is ≈%.0f Gt C' %(best_non_wood_biomass/1e15))"
   ]
  },
  {
   "cell_type": "markdown",
   "metadata": {},
   "source": [
    "# Estimating the total belowground plant biomass\n",
    "To estimate the total belowground plant biomass, we use the same procedure as for estimating the total non-woody plant biomass. We rely on two methods - the first is based on calculating the mean root mass fraction.\n",
    "## Method1 - fraction of roots\n",
    "To estimate the global average root mass fractions, we rely on a recent meta-analysis which collected data on the lead, shoot and root mass fractions in several different biomes ([Poorter et al.](http://dx.doi.org/10.1111/j.1469-8137.2011.03952.x)). We calculate the global average root mass fraction by taking into account the relative plant biomass present in each biome, based on data from [Erb et al.](http://dx.doi.org/10.1038/ngeo2782)."
   ]
  },
  {
   "cell_type": "code",
   "execution_count": 11,
   "metadata": {},
   "outputs": [
    {
     "name": "stdout",
     "output_type": "stream",
     "text": [
      "Our estimate for the global average root mass fraction is ≈27.2 percent\n"
     ]
    }
   ],
   "source": [
    "# Calculate the root mass fraction in each biome based on data from Poorter et al.\n",
    "root_frac = (fractions['RMF'])/fractions.sum(axis=1)\n",
    "\n",
    "# For the temperate steppe, desert and mountain, we use the mean values from grassland and shrubland in Poorter et al.\n",
    "root_frac.loc['Grassland, shrubland'] = frac_mean(np.array([root_frac.loc['Grassland'],root_frac.loc['Shrubland']]))\n",
    "\n",
    "\n",
    "# Set the root fraction as a column in the biome data\n",
    "tot_biomass['Root fraction'] = root_frac\n",
    "\n",
    "# Calculate the weighted average root mass fraction\n",
    "mean_root_frac = np.average(tot_biomass['Root fraction'], weights= tot_biomass['Total biomass [Gt C]'])\n",
    "\n",
    "print('Our estimate for the global average root mass fraction is ≈%.1f percent' %(mean_root_frac*100))"
   ]
  },
  {
   "cell_type": "markdown",
   "metadata": {},
   "source": [
    "To estimate the total biomass of roots, we multiply the global average root mass fraction by our best estimate for the total plant biomass:"
   ]
  },
  {
   "cell_type": "code",
   "execution_count": 12,
   "metadata": {},
   "outputs": [
    {
     "name": "stdout",
     "output_type": "stream",
     "text": [
      "Our estimate of the total root biomass based on the global average root mass fraction is ≈125.6 Gt C\n"
     ]
    }
   ],
   "source": [
    "method1_root_biomass = mean_root_frac*tot_plant_biomass\n",
    "\n",
    "print('Our estimate of the total root biomass based on the global average root mass fraction is ≈%0.1f Gt C' %(method1_root_biomass/1e15))"
   ]
  },
  {
   "cell_type": "markdown",
   "metadata": {},
   "source": [
    "As a second source for estimating the global biomass of roots, we rely on the estimate in [Jackson et al.](http://dx.doi.org/10.1007/BF00333714). We use the geometric mean of the estimate from the two methods as our best estimate of the total biomass of roots, which we use as our best estimate for the total belowground plant biomass:"
   ]
  },
  {
   "cell_type": "code",
   "execution_count": 13,
   "metadata": {},
   "outputs": [
    {
     "name": "stdout",
     "output_type": "stream",
     "text": [
      "Our best estimate for the total belowground plant biomass is ≈135.4 Gt C\n"
     ]
    }
   ],
   "source": [
    "best_root_biomass = gmean([method1_root_biomass,roots_jackson])\n",
    "\n",
    "print('Our best estimate for the total belowground plant biomass is ≈%0.1f Gt C' %(best_root_biomass/1e15))"
   ]
  }
 ],
 "metadata": {
  "kernelspec": {
   "display_name": "Python 3",
   "language": "python",
   "name": "python3"
  },
  "language_info": {
   "codemirror_mode": {
    "name": "ipython",
    "version": 3
   },
   "file_extension": ".py",
   "mimetype": "text/x-python",
   "name": "python",
   "nbconvert_exporter": "python",
   "pygments_lexer": "ipython3",
   "version": "3.5.2"
  }
 },
 "nbformat": 4,
 "nbformat_minor": 2
}
