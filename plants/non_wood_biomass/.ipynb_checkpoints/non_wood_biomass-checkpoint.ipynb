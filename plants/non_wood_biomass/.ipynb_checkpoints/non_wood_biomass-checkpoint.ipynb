{
 "cells": [
  {
   "cell_type": "markdown",
   "metadata": {},
   "source": [
    "# Estimating the fraction of plant biomass which is not woody\n",
    "## Method1 - fraction of leaves and roots"
   ]
  },
  {
   "cell_type": "code",
   "execution_count": 74,
   "metadata": {},
   "outputs": [
    {
     "name": "stdout",
     "output_type": "stream",
     "text": [
      "Our best estimate for the total non-wood plant biomass based on the fraction of roots and leaves is ≈142 Gt C\n"
     ]
    }
   ],
   "source": [
    "import pandas as pd\n",
    "import numpy as np\n",
    "from scipy.stats import gmean\n",
    "import sys\n",
    "sys.path.insert(0,'../../statistics_helper/')\n",
    "from fraction_helper import *\n",
    "\n",
    "fractions = pd.read_excel('non_wood_biomass_data.xlsx','Poorter',skiprows=1,index_col=0)\n",
    "biomes = pd.read_excel('non_wood_biomass_data.xlsx','Erb',skiprows=1)\n",
    "non_wood_frac = (fractions['LMF']+fractions['RMF'])/fractions.sum(axis=1)\n",
    "tot_biomass = biomes.groupby('Categories included in Poorter').sum()\n",
    "non_wood_frac.loc['Grassland, shrubland'] = frac_mean(np.array([non_wood_frac.loc['Grassland'],non_wood_frac.loc['Shrubland']]))\n",
    "tot_biomass['Non wood fraction'] = non_wood_frac\n",
    "mean_non_wood_frac = np.average(tot_biomass['Non wood fraction'], weights= tot_biomass['Total biomass [Gt C]'])\n",
    "tot_plant_biomass = 450e15\n",
    "method1_non_wood_biomass = mean_non_wood_frac*tot_plant_biomass\n",
    "print('Our best estimate for the total non-wood plant biomass based on the fraction of roots and leaves is ≈%.0f Gt C' %(method1_non_wood_biomass/1e15))\n",
    "#tot_biomass\n",
    "#non_wood_frac"
   ]
  },
  {
   "cell_type": "markdown",
   "metadata": {},
   "source": [
    "## Method2 - total biomass of leaves and roots"
   ]
  },
  {
   "cell_type": "code",
   "execution_count": 73,
   "metadata": {},
   "outputs": [
    {
     "data": {
      "text/plain": [
       "log LMA    1.657168e+16\n",
       "dtype: float64"
      ]
     },
     "execution_count": 73,
     "metadata": {},
     "output_type": "execute_result"
    }
   ],
   "source": [
    "roots_jackson = 146e15\n",
    "\n",
    "biome_LAI = pd.read_excel('non_wood_biomass_data.xlsx','Asner',skiprows=1,index_col=0)\n",
    "biome_area = pd.read_excel('non_wood_biomass_data.xlsx','Biome area',skiprows=1,index_col=0)\n",
    "glopnet_data = pd.read_excel('non_wood_biomass_data.xlsx','glopnet_data')\n",
    "geomean_LMA = 10**glopnet_data.loc[glopnet_data['GF']=='T',['log LMA']].mean()\n",
    "biome_LAI.loc['Boreal forest'] = gmean(biome_LAI.loc[['Boreal DBL','Boreal ENL']])\n",
    "biome_LAI.loc['Temperate forest'] = gmean(biome_LAI.loc[['Temperate DBL','Temperate EBL','Temperate ENL']])\n",
    "biome_LAI.loc['Tropical forest'] = gmean(biome_LAI.loc[['Tropical DBL','Tropical EBL']])\n",
    "biome_LAI.loc['Temperate grassland'] = biome_LAI.loc['Grassland']\n",
    "biome_LAI.loc['Tropical savanna'] = gmean(biome_LAI.loc[['Grassland','Shrubland']])\n",
    "tot_leaf_biomass = (biome_LAI['LAI [m^2 m^-2]']*biome_area['Area [m^2]']).sum()*geomean_LMA/2\n",
    "method2_non_wood_biomass = tot_leaf_biomass + roots_jackson\n"
   ]
  }
 ],
 "metadata": {
  "kernelspec": {
   "display_name": "Python 3",
   "language": "python",
   "name": "python3"
  },
  "language_info": {
   "codemirror_mode": {
    "name": "ipython",
    "version": 3
   },
   "file_extension": ".py",
   "mimetype": "text/x-python",
   "name": "python",
   "nbconvert_exporter": "python",
   "pygments_lexer": "ipython3",
   "version": "3.6.3"
  }
 },
 "nbformat": 4,
 "nbformat_minor": 2
}
