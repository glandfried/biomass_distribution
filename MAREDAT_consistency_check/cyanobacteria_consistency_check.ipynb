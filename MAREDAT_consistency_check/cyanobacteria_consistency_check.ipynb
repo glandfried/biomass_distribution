{
 "cells": [
  {
   "cell_type": "code",
   "execution_count": 1,
   "metadata": {
    "collapsed": true
   },
   "outputs": [],
   "source": [
    "# Load dependencies\n",
    "import pandas as pd\n",
    "import numpy as np\n",
    "from scipy.stats import gmean"
   ]
  },
  {
   "cell_type": "markdown",
   "metadata": {},
   "source": [
    "# Consistency check between the MAREDAT data and cyanobacteria abundance data\n",
    "We use a recent study by [Flombaum et al.](http://dx.doi.org/10.1073/pnas.1307701110) which estimated the total number of cyanobacteria worldwide. Flombaum et al. estimate ≈$3×10^{27}$ Prochlorococcus cells and ≈$7×10^{26}$ Synechococcus cells.\n",
    "\n",
    "In order to estimate the total biomass of cyanobacteria, we use data from [Buitenhuis et al](https://ueaeprints.uea.ac.uk/40778/), to estimate the carbon content of Prochlorococcus and Synechococcus. Buitenhuis et al. reports values from the literature on the carbon content of Prochlorococcus and Synechococcus. We use the geometric mean of the estimates from different studies as our best estimate of the carbon content of Prochlorococcus and Synechococcus:"
   ]
  },
  {
   "cell_type": "code",
   "execution_count": 2,
   "metadata": {
    "collapsed": true
   },
   "outputs": [],
   "source": [
    "# Load data from Buitenhuis et al.\n",
    "carbon_content = pd.read_excel('cyanobacteria_data.xlsx',skiprows=1)\n",
    "\n",
    "# Calculate the geometric mean of the carbon content of Prochlorococcus and Synechococcus\n",
    "pro_cc = gmean(carbon_content['Prochlorococcus [fg C cell^-1]'].dropna())*1e-15\n",
    "syn_cc = gmean(carbon_content['Synechococcus [fg C cell^-1]'].dropna())*1e-15"
   ]
  },
  {
   "cell_type": "markdown",
   "metadata": {},
   "source": [
    "We multiply the total number of cells of Prochlorococcus and Synechococcus by the carbon content of Prochlorococcus and Synechococcus to estimate their total biomass. The total biomass of cyanobacteria is the sum of the total biomass of Prochlorococcus and Synechococcus:"
   ]
  },
  {
   "cell_type": "code",
   "execution_count": 3,
   "metadata": {},
   "outputs": [
    {
     "name": "stdout",
     "output_type": "stream",
     "text": [
      "The total biomass of cyanobacteria is ≈0.3 Gt C\n"
     ]
    }
   ],
   "source": [
    "# The total number of Prochlorococcus and Synechococcus from Flombaum et al.\n",
    "pro_cell_num = 3e27\n",
    "syn_cell_num = 7e26\n",
    "\n",
    "# Calculate the total biomass of Prochlorococcus and Synechococcus\n",
    "pro_tot_biomass = pro_cc*pro_cell_num\n",
    "syn_tot_biomass = syn_cc*syn_cell_num\n",
    "\n",
    "# Calculate the total biomass of cyanobacteria\n",
    "cyano_biomass = pro_tot_biomass + syn_tot_biomass\n",
    "print('The total biomass of cyanobacteria is ≈%.1f Gt C' %(cyano_biomass/1e15))"
   ]
  },
  {
   "cell_type": "markdown",
   "metadata": {},
   "source": [
    "We note in the section detailing our estimate of the total biomass of marine protists that the total biomass of picophytoplankton based on the MAREDAT database is ≈0.42 Gt C. Buithenhuis et al. estimate, based on data from the MAREDAT database, that cyanobacteria account for 31-51% out of the total biomass of picophytoplankton, which are equivalent to:"
   ]
  },
  {
   "cell_type": "code",
   "execution_count": 4,
   "metadata": {},
   "outputs": [
    {
     "name": "stdout",
     "output_type": "stream",
     "text": [
      "The estimate of the biomass of cyanobacteria based on the MAREDAT database is 0.2 Gt C\n"
     ]
    }
   ],
   "source": [
    "# The estimate of the biomass of picophytoplankton based on MAREDAT data\n",
    "picophyto_biomass = 0.42e15\n",
    "\n",
    "# The fraction of cyanobacteria out of the total biomass of picophytoplankton based\n",
    "# on MAREDAT data\n",
    "cyano_fraction = [0.31,0.51]\n",
    "\n",
    "# The estimate of the total biomass of cyanobacteria\n",
    "cyano_maredat = picophyto_biomass*np.mean(cyano_fraction)\n",
    "print('The estimate of the biomass of cyanobacteria based on the MAREDAT database is %.1f Gt C' %(cyano_maredat/1e15))"
   ]
  },
  {
   "cell_type": "markdown",
   "metadata": {},
   "source": [
    "The estimate based on the data from Flumbaum et al. and the estimate based on the MAREDAT database are less than 2-fold apart."
   ]
  }
 ],
 "metadata": {
  "kernelspec": {
   "display_name": "Python 3",
   "language": "python",
   "name": "python3"
  },
  "language_info": {
   "codemirror_mode": {
    "name": "ipython",
    "version": 3
   },
   "file_extension": ".py",
   "mimetype": "text/x-python",
   "name": "python",
   "nbconvert_exporter": "python",
   "pygments_lexer": "ipython3",
   "version": "3.5.2"
  }
 },
 "nbformat": 4,
 "nbformat_minor": 2
}
